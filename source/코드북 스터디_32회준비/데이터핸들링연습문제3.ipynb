{
 "cells": [
  {
   "cell_type": "markdown",
   "id": "instrumental-voltage",
   "metadata": {},
   "source": [
    "# 데이터 핸들링 연습문제 3 (배열)"
   ]
  },
  {
   "cell_type": "markdown",
   "id": "apparent-vault",
   "metadata": {},
   "source": [
    "### 1. 1 이상 100 미만의 정수 중 랜덤으로 추출한 50개의 요소를 포함하는 배열 array1을 생성하고 출력하시오. (랜덤 시드는 0으로 고정)"
   ]
  },
  {
   "cell_type": "code",
   "execution_count": 14,
   "id": "entire-prison",
   "metadata": {},
   "outputs": [
    {
     "data": {
      "text/plain": [
       "array([45, 48, 65, 68, 68, 10, 84, 22, 37, 88, 71, 89, 89, 13, 59, 66, 40,\n",
       "       88, 47, 89, 82, 38, 26, 78, 73, 10, 21, 81, 70, 80, 48, 65, 83, 89,\n",
       "       50, 30, 20, 20, 15, 40, 33, 66, 10, 58, 33, 32, 75, 24, 36, 76])"
      ]
     },
     "execution_count": 14,
     "metadata": {},
     "output_type": "execute_result"
    }
   ],
   "source": [
    "import numpy as np\n",
    "np.random.seed(0)\n",
    "array1 = np.random.randint(1,100,50)\n",
    "array1"
   ]
  },
  {
   "cell_type": "markdown",
   "id": "rough-static",
   "metadata": {},
   "source": [
    "### 2. array1의 형태를 5행 10열로 재구조화한 배열 array2를 생성하고 출력하시오."
   ]
  },
  {
   "cell_type": "code",
   "execution_count": 15,
   "id": "handy-fighter",
   "metadata": {},
   "outputs": [
    {
     "data": {
      "text/plain": [
       "array([[45, 48, 65, 68, 68, 10, 84, 22, 37, 88],\n",
       "       [71, 89, 89, 13, 59, 66, 40, 88, 47, 89],\n",
       "       [82, 38, 26, 78, 73, 10, 21, 81, 70, 80],\n",
       "       [48, 65, 83, 89, 50, 30, 20, 20, 15, 40],\n",
       "       [33, 66, 10, 58, 33, 32, 75, 24, 36, 76]])"
      ]
     },
     "execution_count": 15,
     "metadata": {},
     "output_type": "execute_result"
    }
   ],
   "source": [
    "array2 = array1.reshape(5,10)\n",
    "array2"
   ]
  },
  {
   "cell_type": "markdown",
   "id": "approximate-bottom",
   "metadata": {},
   "source": [
    "### 3. array1의 최댓값과 그 인덱스, 최솟값과 그 인덱스를 출력하시오."
   ]
  },
  {
   "cell_type": "code",
   "execution_count": 16,
   "id": "overall-crawford",
   "metadata": {},
   "outputs": [
    {
     "name": "stdout",
     "output_type": "stream",
     "text": [
      "89 11 10 5\n"
     ]
    }
   ],
   "source": [
    "print(array1.max(),array1.argmax(),array1.min(),array1.argmin())"
   ]
  },
  {
   "cell_type": "markdown",
   "id": "lasting-square",
   "metadata": {},
   "source": [
    "### 4. 1 이상 5 이하의 정수를 요소로 갖는 5행 1열의 배열 array3을 생성하고 출력하시오."
   ]
  },
  {
   "cell_type": "code",
   "execution_count": 29,
   "id": "heard-equivalent",
   "metadata": {},
   "outputs": [
    {
     "data": {
      "text/plain": [
       "(5, 1)"
      ]
     },
     "execution_count": 29,
     "metadata": {},
     "output_type": "execute_result"
    }
   ],
   "source": [
    "np.random.seed(0)\n",
    "array3 = np.random.randint(1,6,[5,1])\n",
    "array3.shape "
   ]
  },
  {
   "cell_type": "markdown",
   "id": "entitled-purse",
   "metadata": {},
   "source": [
    "### 5. array2에 array3을 열 방향으로 연결한 array4를 생성하고 출력하시오."
   ]
  },
  {
   "cell_type": "code",
   "execution_count": 32,
   "id": "complicated-november",
   "metadata": {},
   "outputs": [],
   "source": [
    "array4 = np.hstack((array2,array3))\n",
    "array4 "
   ]
  },
  {
   "cell_type": "markdown",
   "id": "entire-iraqi",
   "metadata": {},
   "source": [
    "### 6. array4에서 값이 20 미만인 요소들의 값과 인덱스와 총 개수를 출력하시오."
   ]
  },
  {
   "cell_type": "code",
   "execution_count": 36,
   "id": "catholic-bidding",
   "metadata": {},
   "outputs": [
    {
     "name": "stdout",
     "output_type": "stream",
     "text": [
      "- 20미만인 요소의 값:[10  5 13  1 10  4 15  4 10  4]\n",
      "- 20미만인 요소의 인덱스:(array([0, 0, 1, 1, 2, 2, 3, 3, 4, 4], dtype=int64), array([ 5, 10,  3, 10,  5, 10,  8, 10,  2, 10], dtype=int64))\n",
      "- 총 개수10\n"
     ]
    }
   ],
   "source": [
    "vals = array4[array4 < 20]\n",
    "idxs = np.where(array4 < 20)\n",
    "nos = len(vals)\n",
    "print(f'- 20미만인 요소의 값:{vals}\\n- 20미만인 요소의 인덱스:{idxs}\\n- 총 개수 : {nos}')"
   ]
  },
  {
   "cell_type": "markdown",
   "id": "sealed-discipline",
   "metadata": {},
   "source": [
    "### 7. array4에서 값이 20 미만인 요소들을 1로 변경한 array5를 생성하여 출력하시오."
   ]
  },
  {
   "cell_type": "code",
   "execution_count": 37,
   "id": "immune-revolution",
   "metadata": {},
   "outputs": [
    {
     "data": {
      "text/plain": [
       "array([[45, 48, 65, 68, 68,  1, 84, 22, 37, 88,  1],\n",
       "       [71, 89, 89,  1, 59, 66, 40, 88, 47, 89,  1],\n",
       "       [82, 38, 26, 78, 73,  1, 21, 81, 70, 80,  1],\n",
       "       [48, 65, 83, 89, 50, 30, 20, 20,  1, 40,  1],\n",
       "       [33, 66,  1, 58, 33, 32, 75, 24, 36, 76,  1]])"
      ]
     },
     "execution_count": 37,
     "metadata": {},
     "output_type": "execute_result"
    }
   ],
   "source": [
    "array5=array4\n",
    "array5[array4 < 20] = 1\n",
    "array5"
   ]
  },
  {
   "cell_type": "markdown",
   "id": "wanted-mixer",
   "metadata": {},
   "source": [
    "### 8. array5에 로그를 취하고 소숫점 첫째짜리까지 반올림한 배열 array6를 생성하여 출력하시오."
   ]
  },
  {
   "cell_type": "code",
   "execution_count": 39,
   "id": "urban-local",
   "metadata": {},
   "outputs": [
    {
     "data": {
      "text/plain": [
       "array([[3.8, 3.9, 4.2, 4.2, 4.2, 0. , 4.4, 3.1, 3.6, 4.5, 0. ],\n",
       "       [4.3, 4.5, 4.5, 0. , 4.1, 4.2, 3.7, 4.5, 3.9, 4.5, 0. ],\n",
       "       [4.4, 3.6, 3.3, 4.4, 4.3, 0. , 3. , 4.4, 4.2, 4.4, 0. ],\n",
       "       [3.9, 4.2, 4.4, 4.5, 3.9, 3.4, 3. , 3. , 0. , 3.7, 0. ],\n",
       "       [3.5, 4.2, 0. , 4.1, 3.5, 3.5, 4.3, 3.2, 3.6, 4.3, 0. ]])"
      ]
     },
     "execution_count": 39,
     "metadata": {},
     "output_type": "execute_result"
    }
   ],
   "source": [
    "array6 = np.log(array5).round(1)\n",
    "array6"
   ]
  },
  {
   "cell_type": "markdown",
   "id": "excited-headline",
   "metadata": {},
   "source": [
    "### 9. array6의 평균, 표준편차, 1사분위수, 3사분위수를 출력하시오."
   ]
  },
  {
   "cell_type": "code",
   "execution_count": 42,
   "id": "great-latter",
   "metadata": {},
   "outputs": [
    {
     "name": "stdout",
     "output_type": "stream",
     "text": [
      "array6의 평균:3.241818181818182\n",
      "표준편차:1.5856963952318364\n",
      "1사분위수:3.1500000000000004\n",
      "3사분위수:4.3\n"
     ]
    }
   ],
   "source": [
    "m,s,qr1,qr3 = array6.mean(),array6.std(),np.quantile(array6,0.25),np.quantile(array6,0.75)\n",
    "print(f'array6의 평균:{m}\\n표준편차:{s}\\n1사분위수:{qr1}\\n3사분위수:{qr3}')"
   ]
  }
 ],
 "metadata": {
  "kernelspec": {
   "display_name": "Python 3 (ipykernel)",
   "language": "python",
   "name": "python3"
  },
  "language_info": {
   "codemirror_mode": {
    "name": "ipython",
    "version": 3
   },
   "file_extension": ".py",
   "mimetype": "text/x-python",
   "name": "python",
   "nbconvert_exporter": "python",
   "pygments_lexer": "ipython3",
   "version": "3.10.9"
  }
 },
 "nbformat": 4,
 "nbformat_minor": 5
}
