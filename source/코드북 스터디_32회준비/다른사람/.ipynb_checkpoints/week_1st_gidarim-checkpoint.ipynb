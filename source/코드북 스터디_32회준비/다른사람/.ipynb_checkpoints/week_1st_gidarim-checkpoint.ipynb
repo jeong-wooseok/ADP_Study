{
 "cells": [
  {
   "cell_type": "markdown",
   "id": "ca5ea723",
   "metadata": {},
   "source": [
    "# 1. 통계 (확률분포, 추정과 가설 검정, 분산분석, 비모수 검정)"
   ]
  },
  {
   "cell_type": "markdown",
   "id": "5f4e9017",
   "metadata": {},
   "source": [
    "## [연습문제]"
   ]
  },
  {
   "cell_type": "markdown",
   "id": "f46faba5",
   "metadata": {},
   "source": [
    "### >>> 통계 기초"
   ]
  },
  {
   "attachments": {
    "a51be7d9-1b02-4ef7-ac24-f364fe411b57.png": {
     "image/png": "[encoded data removed]"
    }
   },
   "cell_type": "markdown",
   "id": "598d88bf",
   "metadata": {},
   "source": [
    "### 1. 어느 회사의 연도별 임금상승률을 조사하였더니, 아래 표와 같이 나타났다. 이 회사의 평균 임 금상승률을 구하기 위해 어떤 대푯값을 구해야 하는지 설명하고, 그 값을 계산하시오.\n",
    "![image.png](attachment:a51be7d9-1b02-4ef7-ac24-f364fe411b57.png)"
   ]
  },
  {
   "cell_type": "code",
   "execution_count": 9,
   "id": "dead710e",
   "metadata": {},
   "outputs": [
    {
     "name": "stdout",
     "output_type": "stream",
     "text": [
      "[답안]\n",
      "시간적(연단위)으로 변화하는 비율의 대표값은 기하 평균을 사용하여 시간내 평균 값을 확인할 수 있다.\n",
      "데이터로 임금의 인상률이 주어졌기 때문에 기본 임금에 각 증가율을 더한 다음 기하 평균을 구한이후 순수 임금 인상율을 구하기 위해 기본 임금을 빼준다.\n",
      "임금 상승율을 위해 다시 1을 빼준다.\n",
      "이 회사의 평균 임금 인상율 : 5.968127622257224% 이다.\n"
     ]
    }
   ],
   "source": [
    "import pandas as pd\n",
    "import numpy as np\n",
    "from scipy.stats import gmean\n",
    "\n",
    "\n",
    "data = [1.04, 1.03, 1.05, 1.10, 1.08]\n",
    "\n",
    "print('[답안]')\n",
    "print('시간적(연단위)으로 변화하는 비율의 대표값은 기하 평균을 사용하여 시간내 평균 값을 확인할 수 있다.')\n",
    "print('데이터로 임금의 인상률이 주어졌기 때문에 기본 임금에 각 증가율을 더한 다음 기하 평균을 구한이후 순수 임금 인상율을 구하기 위해 기본 임금을 빼준다.')\n",
    "print('임금 상승율을 위해 다시 1을 빼준다.')\n",
    "print('이 회사의 평균 임금 인상율 : {}% 이다.'.format((gmean(data)-1)*100))"
   ]
  },
  {
   "cell_type": "markdown",
   "id": "444a74d8",
   "metadata": {},
   "source": [
    "### 2. 한 회사원이 집에서 회사를 갈 때 시속 5km/h로 출근하고, 퇴근할 때 시속 7km/h로 돌아왔 다면, 이 회사원의 평균 속도를 구하기 위해 어떤 대푯값을 구해야 하는지 설명하고, 그 값을 계 산하시오."
   ]
  },
  {
   "cell_type": "code",
   "execution_count": 12,
   "id": "229e1a14",
   "metadata": {},
   "outputs": [
    {
     "name": "stdout",
     "output_type": "stream",
     "text": [
      "[답안]\n",
      "평균 작업 속도, 평균 속도 등 시간적으로 계속 변화하는 속도의 평균은 조화 평균을 사용하여 확이할 수 있다.\n",
      "회사원의 평균 이동 속도는 5.833333333333333 km/h 이다.\n"
     ]
    }
   ],
   "source": [
    "import pandas as pd\n",
    "import numpy as np\n",
    "from scipy.stats import hmean\n",
    "\n",
    "data = [5, 7]\n",
    "print('[답안]')\n",
    "print('평균 작업 속도, 평균 속도 등 시간적으로 계속 변화하는 속도의 평균은 조화 평균을 사용하여 확이할 수 있다.')\n",
    "print('회사원의 평균 이동 속도는 {} km/h 이다.'.format(hmean(data)))"
   ]
  },
  {
   "cell_type": "markdown",
   "id": "ec39c6a2",
   "metadata": {},
   "source": [
    "### 3. A 브랜드의 햄버거는 평균 무게 200g, 분산 49g인 정규 분포를 따르고, 샌드위치는 평균 무게 190g, 분산 36g인 정규 분포를 따른다고 한다. 방금 구매한 A 브랜드 햄버거와 샌드위치의 무게가 모두 210g이라면, 상대적으로 어느 것이 더 무거운가. "
   ]
  },
  {
   "cell_type": "code",
   "execution_count": 18,
   "id": "d81ce614",
   "metadata": {},
   "outputs": [
    {
     "name": "stdout",
     "output_type": "stream",
     "text": [
      "[답안]\n",
      "평균 무게와 분산을 이용하여 표준화 점수를 구한 후 표준화 점수가 더 무거운 것이 무게가 상대적으로 무거운 것이다.\n",
      "햄버거와 샌드위치의 표준화 점수는 각각 1.4285714285714286, 3.3333333333333335 이며, \n",
      "샌드위치가 상대적으로 더 무겂다.\n"
     ]
    }
   ],
   "source": [
    "import pandas as pd\n",
    "import numpy as np\n",
    "\n",
    "print('[답안]')\n",
    "print('평균 무게와 분산을 이용하여 표준화 점수를 구한 후 표준화 점수가 더 무거운 것이 무게가 상대적으로 무거운 것이다.')\n",
    "hamburger = (210 - 200) / np.sqrt(49)\n",
    "sandwidth = (210 - 190) / np.sqrt(36)\n",
    "\n",
    "print('햄버거와 샌드위치의 표준화 점수는 각각 {}, {} 이며, '.format(hamburger, sandwidth))\n",
    "if hamburger > sandwidth:\n",
    "    print('햄버거가 상대적으로 더 무겂다.')\n",
    "elif hamburger < sandwidth:\n",
    "    print('샌드위치가 상대적으로 더 무겂다.')\n",
    "else:\n",
    "    print('햄버거와 샌드위치의 상대적 무게가 동일하다.')"
   ]
  },
  {
   "cell_type": "markdown",
   "id": "6a8d12ea",
   "metadata": {},
   "source": [
    "### 4. A학교와 B학교 학생들을 대상으로 100명을 추출하여 용돈을 조사하였더니, A학교는 평균 10만원, 표준편차 2만원, B학교는 평균 8만원, 표준편차 1만원으로 나타났다. 어느 학교에서 용돈의 격차가 더 심하다고 볼 수 있는가."
   ]
  },
  {
   "cell_type": "code",
   "execution_count": 17,
   "id": "b6eca839",
   "metadata": {},
   "outputs": [
    {
     "name": "stdout",
     "output_type": "stream",
     "text": [
      "[답안]\n",
      "각 학교 학생들의 표준 편차를 구해서 표준 편차를 비교하여 표준 편차가 큰 쪽이 용돈의 격차가 크다고 할 수 있다.\n",
      "A학교의 용돈 표준 편차: 2\n",
      "B학교의 용돈 표준 편차: 1\n",
      "두 학교의 용돈 표준 편차의 차이: 1\n",
      "A학교의 용돈 표준 편차가 더 큽니다.\n"
     ]
    }
   ],
   "source": [
    "import numpy as np\n",
    "\n",
    "# A학교의 용돈 데이터\n",
    "mean_A = 10  # A학교의 평균 용돈\n",
    "std_dev_A = 2  # A학교의 표준 편차\n",
    "\n",
    "# B학교의 용돈 데이터\n",
    "mean_B = 8  # B학교의 평균 용돈\n",
    "std_dev_B = 1  # B학교의 표준 편차\n",
    "\n",
    "# 용돈의 격차 계산\n",
    "diff_std_dev = np.abs(std_dev_A - std_dev_B)\n",
    "\n",
    "print('[답안]')\n",
    "print('각 학교 학생들의 표준 편차를 구해서 표준 편차를 비교하여 표준 편차가 큰 쪽이 용돈의 격차가 크다고 할 수 있다.')\n",
    "print(\"A학교의 용돈 표준 편차:\", std_dev_A)\n",
    "print(\"B학교의 용돈 표준 편차:\", std_dev_B)\n",
    "print(\"두 학교의 용돈 표준 편차의 차이:\", diff_std_dev)\n",
    "\n",
    "# 더 큰 표준 편차를 가진 학교 확인\n",
    "if std_dev_A > std_dev_B:\n",
    "    print(\"A학교의 용돈 표준 편차가 더 크다.\")\n",
    "elif std_dev_B > std_dev_A:\n",
    "    print(\"B학교의 용돈 표준 편차가 더 크다.\")\n",
    "else:\n",
    "    print(\"두 학교의 용돈 표준 편차가 동일하다.\")"
   ]
  },
  {
   "cell_type": "code",
   "execution_count": 19,
   "id": "ab8ac543",
   "metadata": {},
   "outputs": [
    {
     "name": "stdout",
     "output_type": "stream",
     "text": [
      "[답안]\n",
      "평균에 대한 표준편차의 상대적 크기(변동계수)를 이용하여 두 학교의 용돈 격차를 비교할 수 있다.\n",
      "일반적으로 변동 계수는 자료의 단위가 다르거나 평균의 차이가 클때 사용한다.\n",
      "두 학교의 변동 계수는 각각 0.2, 0.125 이며, \n",
      "A학교의 용돈 표준 편차가 더 크다.\n"
     ]
    }
   ],
   "source": [
    "# 변동 계수를 이용해서 구할 수도 있다. \n",
    "import numpy as np\n",
    "\n",
    "# A학교의 용돈 데이터\n",
    "mean_A = 10  # A학교의 평균 용돈\n",
    "std_dev_A = 2  # A학교의 표준 편차\n",
    "\n",
    "# B학교의 용돈 데이터\n",
    "mean_B = 8  # B학교의 평균 용돈\n",
    "std_dev_B = 1  # B학교의 표준 편차\n",
    "\n",
    "cv_a = std_dev_A/mean_A\n",
    "cv_b = std_dev_B/mean_B\n",
    "\n",
    "print('[답안]')\n",
    "print('평균에 대한 표준편차의 상대적 크기(변동계수)를 이용하여 두 학교의 용돈 격차를 비교할 수 있다.')\n",
    "print('일반적으로 변동 계수는 자료의 단위가 다르거나 평균의 차이가 클때 사용한다.')\n",
    "print('두 학교의 변동 계수는 각각 {}, {} 이며, '.format(cv_a, cv_b))\n",
    "if cv_a > cv_b:\n",
    "    print(\"A학교의 용돈 표준 편차가 더 크다.\")\n",
    "elif cv_b > cv_a:\n",
    "    print(\"B학교의 용돈 표준 편차가 더 크다.\")\n",
    "else:\n",
    "    print(\"두 학교의 용돈 표준 편차가 동일하다.\")"
   ]
  },
  {
   "cell_type": "markdown",
   "id": "550bd01b",
   "metadata": {},
   "source": [
    "### >>> 확률분포"
   ]
  },
  {
   "cell_type": "markdown",
   "id": "c957ab45",
   "metadata": {},
   "source": [
    "### 1. 어느 권총 사격 선수가 과녁의 정중앙을 맞힐 확률이 80%라고 한다. 이 선수가 총 5번 사격을 할 때 평균적으로 몇번 정중앙을 맞히는지 구하시오."
   ]
  },
  {
   "cell_type": "code",
   "execution_count": 23,
   "id": "79c1f433",
   "metadata": {},
   "outputs": [
    {
     "name": "stdout",
     "output_type": "stream",
     "text": [
      "[답안]\n",
      "권총 사격 선수가 과녁의 정중앙을 맞추거 나 못 맞추거나 2가지의 결과만을 가지고 총 5회 사격하기 때문에 이항 분표를 사용하여 기대값을 구한다.\n",
      "사격 선수가 5번 사격하면 4.0 번 정중앙을 맞힌다.\n"
     ]
    }
   ],
   "source": [
    "from scipy.stats import binom\n",
    "\n",
    "p = 0.8\n",
    "q = 1 - p\n",
    "n = 5\n",
    "\n",
    "print('[답안]')\n",
    "print('권총 사격 선수가 과녁의 정중앙을 맞추거 나 못 맞추거나 2가지의 결과만을 가지고 총 5회 사격하기 때문에 이항 분표를 사용하여 기대값을 구한다.')\n",
    "E, v = binom.stats(5, p)\n",
    "print('사격 선수가 5번 사격하면 {} 번 정중앙을 맞힌다.'.format(E))"
   ]
  },
  {
   "cell_type": "markdown",
   "id": "2f6bb77a",
   "metadata": {},
   "source": [
    "### 2. 전체 청소년의 40%가 11시 이전에 잠을 잔다고 한다면, 임의로 선택한 10명의 청소년 중에서 3명이 11시 이전에 잠을 잘 확률을 계산하시오. (소수점 첫째자리까지 반올림)"
   ]
  },
  {
   "cell_type": "code",
   "execution_count": 35,
   "id": "85840166",
   "metadata": {},
   "outputs": [
    {
     "name": "stdout",
     "output_type": "stream",
     "text": [
      "[답안]\n",
      "청소년이 11시 이전에 잠을 자거나, 자지 않거나 2가지 결과만을 가지며 10명을 임의로 선택하였기 때문에 이항 확율분포를 따른다.\n",
      "임의로 선택한 10명 중 3명이 11시 이전에 잠을 잘 확률을 구하는 것이기 때문에 이항확률 분포에 특정 활률변수 x(3명이 11시 이전에 잠을 잠)에 대한 확률 질량함수를 구하여 확률을 계산할 수 있다.\n",
      "문제의 분포의 기대값은 4.0, 분산은 2.4 이며, \n",
      "임의로 선택한 10명의 청소년 중에서 3명이 11시 이전에 잠을 잘 확률은 0.21499084799999976 이다..\n"
     ]
    }
   ],
   "source": [
    "from scipy.stats import binom\n",
    "\n",
    "p = 0.4\n",
    "q = 1-0.4\n",
    "n = 10\n",
    "x = 3\n",
    "\n",
    "print('[답안]')\n",
    "print('청소년이 11시 이전에 잠을 자거나, 자지 않거나 2가지 결과만을 가지며 10명을 임의로 선택하였기 때문에 이항 확율분포를 따른다.')\n",
    "print('임의로 선택한 10명 중 3명이 11시 이전에 잠을 잘 확률을 구하는 것이기 때문에 이항확률 분포에 특정 활률변수 x(3명이 11시 이전에 잠을 잠)에 대한 확률 질량함수를 구하여 확률을 계산할 수 있다.')\n",
    "E, v = binom.stats(10, p)\n",
    "print('문제의 분포의 기대값은 {}, 분산은 {} 이며, '.format(E, v))\n",
    "print('임의로 선택한 10명의 청소년 중에서 3명이 11시 이전에 잠을 잘 확률은 {} 이다..'.format(binom.pmf(x, n, p)))"
   ]
  },
  {
   "cell_type": "markdown",
   "id": "a0ff41a6",
   "metadata": {},
   "source": [
    "### 3. 어느 아파트 단지에서 밤 11시부터 새벽2시 사이에 배달되는 음식 배달 건수는 시간 당 평균 5건이다. 음식 배달 건수의 분포가 포아송분포를 따른다면 오늘 새벽 12시와 1시 사이에 배달이 1건만 발생할 확률을 구하시오. (소수점 둘째자리까지 반올림)"
   ]
  },
  {
   "cell_type": "code",
   "execution_count": 36,
   "id": "ceb1d4c1",
   "metadata": {},
   "outputs": [
    {
     "name": "stdout",
     "output_type": "stream",
     "text": [
      "[답안]\n",
      "문제의 배달 건수는 포아송 분포를 따르고 있기 때문에 특정 확률 변수 x(1건)에 대한 확률 질량 함수를 구하여 발생활 확률을 확인할 수 있다.\n",
      "문제의 분포의 기대값은 5.0, 분산은 5.0 이며, \n",
      "오늘 새벽 12시와 1시 사이에 배달이 1건만 발생할 확률은 0.03368973499542734 이다.\n"
     ]
    }
   ],
   "source": [
    "from scipy.stats import poisson\n",
    "lam = 5 # 시간당 평균 배달 건수\n",
    "x = 1 # 사건이 발생 횟수\n",
    "print('[답안]')\n",
    "print('문제의 배달 건수는 포아송 분포를 따르고 있기 때문에 특정 확률 변수 x(1건)에 대한 확률 질량 함수를 구하여 발생활 확률을 확인할 수 있다.')\n",
    "E, v = poisson.stats(lam, moments='mv')\n",
    "print('문제의 분포의 기대값은 {}, 분산은 {} 이며, '.format(E, v))\n",
    "print('오늘 새벽 12시와 1시 사이에 배달이 1건만 발생할 확률은 {} 이다.'.format(poisson.pmf(x, lam)))"
   ]
  },
  {
   "cell_type": "markdown",
   "id": "2b86311d",
   "metadata": {},
   "source": [
    "### 4. A대학교 B전공 시험의 성적 분포는 평균이 65, 표준편차 12인 정규분포를 따른다고 한다. 최고 점수부터 10%까지를 A+로 분류한다면, A+를 받기 위해 최소 몇점을 받아야 하는가?"
   ]
  },
  {
   "cell_type": "code",
   "execution_count": 34,
   "id": "ef201b00",
   "metadata": {},
   "outputs": [
    {
     "name": "stdout",
     "output_type": "stream",
     "text": [
      "[답안]\n",
      "시험의 성적 분표가 정규 분포를 따르고 있고 점수 분류는 100분률로 정해지기 때문에 성적 분포의 정규분포를 표준 정규분포로 표준화 하여 A+를 받기 위한 점수를 구할 수 있다.\n",
      "A+를 받기 위해 최소 80.3786187865352 점을 받아야 한다.\n"
     ]
    }
   ],
   "source": [
    "from scipy.stats import norm\n",
    "\n",
    "mu = 65\n",
    "sigma = 12\n",
    "a_plus = 0.1\n",
    "print('[답안]')\n",
    "print('시험의 성적 분표가 정규 분포를 따르고 있고, 점수 분류는 100분률로 정해지기 때문에 성적 분포의 정규분포를 표준 정규분포로 표준화 하여 A+를 받기 위한 점수를 구할 수 있다.')\n",
    "z = norm.ppf(1-a_plus)\n",
    "x = z*sigma + mu\n",
    "print('A+를 받기 위해 최소 {} 점을 받아야 한다.'.format(x))"
   ]
  },
  {
   "cell_type": "markdown",
   "id": "37504156",
   "metadata": {},
   "source": [
    "### >>> 추정과 가설 검정, 분산분석"
   ]
  },
  {
   "cell_type": "markdown",
   "id": "b2667fb4",
   "metadata": {},
   "source": [
    "### 1. 다음 데이터의 모분산 정보가 없을 때, 다음 데이터의 모평균에 대한 95% 신뢰수준의 신뢰구간을 구하시오. 또한, 다음 데이터의 모표준편차가 3이라는 것을 알고 있을 때, 다음 데이터의 모평균에 대한 95% 신뢰수준의 신뢰구간을 구하시오."
   ]
  },
  {
   "cell_type": "code",
   "execution_count": 5,
   "id": "6f4cad05",
   "metadata": {},
   "outputs": [
    {
     "name": "stdout",
     "output_type": "stream",
     "text": [
      "모분산을 모르는 경우 모평균에 대한 95% 신뢰 수준의 신뢰 구간은 11.185329064313652 ~ 17.38609950711492 이다.\n",
      "모분산을 모르는 경우 모평균에 대한 95% 신뢰 수준의 신뢰 구간은 12.063324022113047 ~ 16.508104549315526 이다.\n"
     ]
    }
   ],
   "source": [
    "import pandas as pd\n",
    "import numpy as np\n",
    "\n",
    "data = [10, 19, 15, 11, 13, 14, 18]\n",
    "\n",
    "data_mean = np.mean(data)\n",
    "data_std = np.std(data, ddof=1)\n",
    "n = len(data)\n",
    "df = n - 1\n",
    "conf_a = 0.05\n",
    "\n",
    "\n",
    "# 모분산을 모르는 경우\n",
    "# 모분산을 모르는 경우 T 통계량을 이용하여 검정.\n",
    "from scipy.stats import t\n",
    "# standard error\n",
    "SE = data_std/np.sqrt(n)\n",
    "conf_t = t.ppf(1-conf_a/2, df)\n",
    "ME = conf_t * SE\n",
    "print('모분산을 모르는 경우 모평균에 대한 95% 신뢰 수준의 신뢰 구간은 {} ~ {} 이다.'.format(data_mean-ME, data_mean+ME))\n",
    "\n",
    "# 모분산을 알고 있는 경우\n",
    "# 모분산을 알고 있다면 Z 통계량을 이용하여 검정.\n",
    "from scipy.stats import norm\n",
    "\n",
    "sigma = 3\n",
    "SE = sigma/np.sqrt(n)\n",
    "conf_z = norm.ppf(1-conf_a/2)\n",
    "ME = conf_z * SE\n",
    "print('모분산을 모르는 경우 모평균에 대한 95% 신뢰 수준의 신뢰 구간은 {} ~ {} 이다.'.format(data_mean-ME, data_mean+ME))"
   ]
  },
  {
   "cell_type": "markdown",
   "id": "c400ed12",
   "metadata": {},
   "source": [
    "### 2. 어느 제조회사의 불량률이 5%로 알려져 있다면, 95% 신뢰수준에서 오차의 한계가 3%가 되도록하는 최소 표본 사이즈를 구하시오."
   ]
  },
  {
   "cell_type": "code",
   "execution_count": 7,
   "id": "ac48c0af",
   "metadata": {},
   "outputs": [
    {
     "name": "stdout",
     "output_type": "stream",
     "text": [
      "불량률이 5%로 알려져 있는 제조 회사에서, 95% 신뢰수준에서 오차의 한계가 3%가 되도록하는 최소 표본 사이즈는 202.74365998107885이다.\n"
     ]
    }
   ],
   "source": [
    "import pandas as pd\n",
    "import numpy as np\n",
    "\n",
    "error = 0.05\n",
    "ME = 0.03\n",
    "conf_a = 1-0.95\n",
    "\n",
    "from scipy.stats import norm\n",
    "conf_z = norm.ppf(1-conf_a/2)\n",
    "size = conf_z ** 2 * error*(1-error) / ME **2\n",
    "print('불량률이 5%로 알려져 있는 제조 회사에서, 95% 신뢰수준에서 오차의 한계가 3%가 되도록하는 최소 표본 사이즈는 {}이다.'.format(size))"
   ]
  },
  {
   "cell_type": "markdown",
   "id": "a6c786b0",
   "metadata": {},
   "source": [
    "### 3. 임의로 추출한 표본 30개의 분산을 계산했더니 50일 때, 신뢰도 95%로 모분산의 신뢰구간을 추정하시오. (소수점 둘째자리까지 반올림)"
   ]
  },
  {
   "cell_type": "code",
   "execution_count": 8,
   "id": "6910657e",
   "metadata": {},
   "outputs": [
    {
     "name": "stdout",
     "output_type": "stream",
     "text": [
      "임의로 추출한 표본 30개의 분산을 계산했더니 50일 때, 신뢰도 95%로 모분산의 신뢰구간은 31.71 ~ 90.36이다.\n"
     ]
    }
   ],
   "source": [
    "import pandas as pd\n",
    "import numpy as np\n",
    "\n",
    "n = 30\n",
    "v = 50\n",
    "df = n - 1\n",
    "conf_a = 1 - 0.95\n",
    "\n",
    "from scipy.stats import chi2\n",
    "conf_c1 = chi2.ppf(1-conf_a/2, df)\n",
    "conf_c2 = chi2.ppf(conf_a/2, df)\n",
    "CR1 = df * v/conf_c1\n",
    "CR2 = df * v/conf_c2\n",
    "print('임의로 추출한 표본 30개의 분산을 계산했더니 50일 때, 신뢰도 95%로 모분산의 신뢰구간은 {} ~ {}이다.'.format(round(CR1, 2), round(CR2, 2)))"
   ]
  },
  {
   "cell_type": "markdown",
   "id": "2cb047e9",
   "metadata": {},
   "source": [
    "### 4. 어느 뽑기 기계에서 20번 뽑기를 했더니 그 중 5개는 미니카였다. 해당 뽑기 기계에 있는 장난감들 중 미니카의 비율을 P라고 한다면, 모비율 P에 대한 95% 신뢰구간을 구하시오."
   ]
  },
  {
   "cell_type": "code",
   "execution_count": 9,
   "id": "7c31929f",
   "metadata": {},
   "outputs": [
    {
     "name": "stdout",
     "output_type": "stream",
     "text": [
      "해당 뽑기 기계에 있는 장난감들 중 미니카의 비율을 P라고 한다면, 모비율 P에 대한 95% 신뢰구간은 0.060227303217750994 ~ 0.439772696782249이다\n"
     ]
    }
   ],
   "source": [
    "import pandas as pd\n",
    "import numpy as np\n",
    "\n",
    "p = 5 / 20\n",
    "n = 20\n",
    "\n",
    "from scipy.stats import norm\n",
    "SE = np.sqrt(p*(1-p)/n)\n",
    "conf_a = 1- 0.95\n",
    "conf_z = norm.ppf(1-conf_a/2)\n",
    "ME = conf_z * SE\n",
    "print('해당 뽑기 기계에 있는 장난감들 중 미니카의 비율을 P라고 한다면, 모비율 P에 대한 95% 신뢰구간은 {} ~ {}이다'.format(p-ME, p+ME))"
   ]
  },
  {
   "cell_type": "markdown",
   "id": "bc1c3c5f",
   "metadata": {},
   "source": [
    "### 5. A 국가의 성인 남성의 흡연율이 35%라고 발표하였으나 B는 그것보다 더 높은 수치를 예상했다. 이에 성인 남성 중 450명을 임의 추출하여 조사한 결과 180명이 흡연자인 것을 확인하였다. 이에 대하여 귀무가설과 연구가설을 세우고, 검정통계량을 계산하여 검정 결과를 서술하시오. (유의수준 0.05)"
   ]
  },
  {
   "cell_type": "code",
   "execution_count": 16,
   "id": "40d34141",
   "metadata": {},
   "outputs": [
    {
     "name": "stdout",
     "output_type": "stream",
     "text": [
      "[가설설정]\n",
      "H0(귀무가설) : 성인 남성의 흡연율은 35%이다.\n",
      "H1(대립가설) : 성인 남성의 흡연율은 35%보다 높다.\n",
      "[검정결과]\n",
      "유의수준 : 0.05, 유의 확률 : 0.013082703570710397\n",
      "검정 통계량의 p-value가 0.05보다 작기 때문에 귀무가설을 기각한다.\n",
      "즉, 성인 남성의 흡연율은 35%보다 높다.\n"
     ]
    }
   ],
   "source": [
    "import pandas as pd\n",
    "import numpy as np\n",
    "\n",
    "p0 = 0.35\n",
    "n = 450\n",
    "x = 180\n",
    "p = x/n\n",
    "test_a = 0.05\n",
    "\n",
    "print('[가설설정]')\n",
    "print('H0(귀무가설) : 성인 남성의 흡연율은 35%이다.')\n",
    "print('H1(대립가설) : 성인 남성의 흡연율은 35%보다 높다.')\n",
    "# 흡연율인 35%보다 높음을 검정해야 하기 때문에 우측검정을 사용한다.\n",
    "from scipy.stats import norm\n",
    "SE = np.sqrt(p0*(1-p0)/n)\n",
    "zstat = (p-p0)/SE\n",
    "# 우측 검정. 만약 35%보다 작은 수치를 예상했다면 좌측검정을 사용해야 하고 sp=norm.cdf(zstat)가 되어야 한다.\n",
    "sp = 1-norm.cdf(zstat)\n",
    "cv = norm.ppf(1-test_a) # 이것도 우측검정\n",
    "\n",
    "print('[검정결과]')\n",
    "print('유의수준 : {}, 유의 확률 : {}'.format(test_a, sp))\n",
    "if test_a > sp:\n",
    "    print('검정 통계량의 p-value가 0.05보다 작기 때문에 귀무가설을 기각한다.')\n",
    "    print('즉, 성인 남성의 흡연율은 35%보다 높다.')\n",
    "else:\n",
    "    print('검정 통계량의 p-value가 0.05보다 크기 때문에 귀무가설을 기각할 수 없다..')\n",
    "    print('즉, 성인 남성의 흡연율은 35%이다.')"
   ]
  },
  {
   "cell_type": "markdown",
   "id": "f287bf66",
   "metadata": {},
   "source": [
    "### 6. 모평균을 모르는 상황에서 표본의 정보를 통해 모분산이 10인지 아닌지 여부를 검정하고자 한다. 50개의 표본을 임의로 추출하여 계산한 결과 표본의 분산은 8.8로 나타났다. 이에 대해 귀무가설과 대립가설을 세우고, 검정통계량을 계산하여 검정 결과를 서술하시오. (유의수준 0.05)"
   ]
  },
  {
   "cell_type": "code",
   "execution_count": 17,
   "id": "62128417",
   "metadata": {},
   "outputs": [
    {
     "name": "stdout",
     "output_type": "stream",
     "text": [
      "[가설설정]\n",
      "H0(귀무가설) : 모분산은 10이다.\n",
      "H1(대립가설) : 모분산은 10이 아니다.\n",
      "[검정결과]\n",
      "유의수준 : 0.05, 유의 확률 : 0.5813325364312475\n",
      "검정 통계량의 p-value가 0.05보다 크기 때문에 귀무가설을 기각할 수 없다.\n",
      "즉, 모분산은 10이다..\n",
      "또한, 신뢰 구간은 31.554916462667126 ~ 70.22241356643451이고,\n",
      "검정 통계량인 cstat의 값은 43.120000000000005 이다.\n",
      "이는 검정통계량이 신뢰구간에 포함되고 있음을 알 수 있으므로 귀무가설을 기각할 수 없음을 확인할 수 있다.\n"
     ]
    }
   ],
   "source": [
    "# 모평균을 모른는 상황 -> 표본 정보를 통해 모분산이 10인지 여부 검정.\n",
    "# 50개의 표본 임의 추출 -> 표본 분산 8.8\n",
    "import pandas as pd\n",
    "import numpy as np\n",
    "\n",
    "n = 50\n",
    "df = n - 1\n",
    "v = 8.8 # 표본 분산\n",
    "v0 = 10 # 검정하고자 하는 모분산\n",
    "test_a = 0.05\n",
    "\n",
    "print('[가설설정]')\n",
    "print('H0(귀무가설) : 모분산은 10이다.')\n",
    "print('H1(대립가설) : 모분산은 10이 아니다.')\n",
    "# 10인지 아닌지를 검정하는 것이기 때문에 양측검정 사용한다.\n",
    "from scipy.stats import chi2\n",
    "cstat = df* v / v0\n",
    "\n",
    "if chi2.cdf(cstat, df) < 0.5:\n",
    "    sp = (chi2.cdf(cstat, df))*2\n",
    "else:\n",
    "    sp = (1-chi2.cdf(cstat, df))*2\n",
    "    \n",
    "cv1 = chi2.ppf(test_a/2, df)\n",
    "cv2 = chi2.ppf(1-test_a/2, df)\n",
    "\n",
    "print('[검정결과]')\n",
    "print('유의수준 : {}, 유의 확률 : {}'.format(test_a, sp))\n",
    "if test_a > sp:\n",
    "    print('검정 통계량의 p-value가 0.05보다 작기 때문에 귀무가설을 기각한다.')\n",
    "    print('즉, 모분산은 10이 아니다.')\n",
    "else:\n",
    "    print('검정 통계량의 p-value가 0.05보다 크기 때문에 귀무가설을 기각할 수 없다.')\n",
    "    print('즉, 모분산은 10이다.')\n",
    "    \n",
    "print('또한, 신뢰 구간은 {} ~ {}이고,'.format(cv1, cv2))\n",
    "print('검정 통계량인 cstat의 값은 {} 이다.'.format(cstat))\n",
    "print('이는 검정통계량이 신뢰구간에 포함되고 있음을 알 수 있으므로 귀무가설을 기각할 수 없음을 확인할 수 있다.')"
   ]
  },
  {
   "cell_type": "markdown",
   "id": "a5d04176",
   "metadata": {},
   "source": [
    "### 7. 50명의 당뇨 환자에 대해 신약 투약 이전과 이후의 평균 혈당 차이가 15, 표준편차 4일 때 투약 전후 평균 혈당의 차이가 존재하는지 확인하고자 한다. 이에 대해 귀무가설과 연구가설을 제시하고, 검정통계량과 유의확률을 구하여 검정 결과를 서술하시오. (유의수준 0.05)"
   ]
  },
  {
   "cell_type": "code",
   "execution_count": 19,
   "id": "bf5c61cd",
   "metadata": {},
   "outputs": [
    {
     "name": "stdout",
     "output_type": "stream",
     "text": [
      "[가설설정]\n",
      "H0(귀무가설) : 혈압약 투약 전후의 평균 혈당의 차이는 없다.\n",
      "H1(대립가설) : 혈압약 투약 전후의 평균 혈당의 차이가 있다.\n",
      "[검정결과]\n",
      "유의수준 : 0.05, 유의 확률 : 0.0\n",
      "검정 통계량의 p-value가 0.05보다 작기 때문에 귀무가설을 기각한다.\n",
      "즉, 혈압약 투약 전후의 평균 혈당의 차이가 있다.\n",
      "또한, 임계값은 +/-2.010이고,\n",
      "검정 통계량인 tstat의 값은 26.516504294495533 이다.\n",
      "이는 검정통계량이 임계값의 범위를 벗어나고 있으므로 귀무 가설을 기각할 수 있음을 확인할 수 있다.\n"
     ]
    }
   ],
   "source": [
    "# 동일 그룹에 투약 전과 후의 평균/표준편차의 차이를 이용해서 약의 효과를 측정한다.\n",
    "# 동일 그룹에 투약 전후를 비교한는 것이기 때문에 대응표본t \n",
    "import pandas as pd\n",
    "import numpy as np\n",
    "\n",
    "n = 50\n",
    "df = n - 1\n",
    "mean_diff = 15\n",
    "s = 4\n",
    "\n",
    "print('[가설설정]')\n",
    "print('H0(귀무가설) : 혈압약 투약 전후의 평균 혈당의 차이는 없다.')\n",
    "print('H1(대립가설) : 혈압약 투약 전후의 평균 혈당의 차이가 있다.')\n",
    "\n",
    "from scipy.stats import t\n",
    "d0 = 0\n",
    "SE = s/np.sqrt(n)\n",
    "tstat = (mean_diff - d0) /SE\n",
    "# 혈당이 높다/ 낮다가 아니라 차이가 있음을 보이는 것이기 때문에 양측 검정.\n",
    "sp = (1-t.cdf(np.abs(tstat), df))**2\n",
    "cv = t.ppf(1-test_a/2, df)\n",
    "cv = '+/-{:.3f}'.format(cv)\n",
    "\n",
    "print('[검정결과]')\n",
    "print('유의수준 : {}, 유의 확률 : {}'.format(test_a, sp))\n",
    "if test_a > sp:\n",
    "    print('검정 통계량의 p-value가 0.05보다 작기 때문에 귀무가설을 기각한다.')\n",
    "    print('즉, 혈압약 투약 전후의 평균 혈당의 차이가 있다.')\n",
    "else:\n",
    "    print('검정 통계량의 p-value가 0.05보다 크기 때문에 귀무가설을 기각할 수 없다.')\n",
    "    print('즉, 혈압약 투약 전후의 평균 혈당의 차이는 없다.')\n",
    "    \n",
    "print('또한, 임계값은 {}이고,'.format(cv))\n",
    "print('검정 통계량인 tstat의 값은 {} 이다.'.format(tstat))\n",
    "print('이는 검정통계량이 임계값의 범위를 벗어나고 있으므로 귀무 가설을 기각할 수 있음을 확인할 수 있다.')"
   ]
  },
  {
   "cell_type": "markdown",
   "id": "934a3866",
   "metadata": {},
   "source": [
    "### 8. 가수 A에 대한 호감도가 남녀별로 다른지 알아보고자 다음과 같은 데이터를 얻었다. 남녀 별로 지지율에 차이가 있는지 검정하시오. (유의수준 0.05)\n",
    "[남성 (총 100명) 30% 호감    |    여성 (총 180명) 35% 호감]"
   ]
  },
  {
   "cell_type": "code",
   "execution_count": 21,
   "id": "54fa4b6a",
   "metadata": {},
   "outputs": [
    {
     "name": "stdout",
     "output_type": "stream",
     "text": [
      "[가설설정]\n",
      "H0(귀무가설) : 남녀사이 지지율의 차이는 없다.\n",
      "H1(대립가설) : 남여사이 지지율의 차이가 존재한다.\n",
      "[검정결과]\n",
      "유의수준 : 0.05, 유의 확률 : 0.3946676461708256\n",
      "검정 통계량의 p-value가 0.05보다 크기 때문에 귀무가설을 기각할 수 없다.\n",
      "즉, 남녀사이 지지율의 차이는 없다.\n"
     ]
    }
   ],
   "source": [
    "# 모 비율의 차이\n",
    "import pandas as pd\n",
    "import numpy as np\n",
    "\n",
    "n1 = 100\n",
    "p1 = 0.3\n",
    "n2 = 180\n",
    "p2 = 0.35\n",
    "teat_a = 0.05\n",
    "\n",
    "print('[가설설정]')\n",
    "print('H0(귀무가설) : 남녀사이 지지율의 차이는 없다.')\n",
    "print('H1(대립가설) : 남여사이 지지율의 차이가 존재한다.')\n",
    "\n",
    "from scipy.stats import norm\n",
    "d0 = 0\n",
    "# 합동비율(책 참고)\n",
    "pe = (n1*p1+n2*p2)/(n1+n2)\n",
    "SE = np.sqrt(pe*(1-pe)*(1/n1 + 1/n2))\n",
    "zstat = (p1-p2)/SE\n",
    "sp = (1-norm.cdf(np.abs(zstat)))*2\n",
    "\n",
    "print('[검정결과]')\n",
    "print('유의수준 : {}, 유의 확률 : {}'.format(test_a, sp))\n",
    "if test_a > sp:\n",
    "    print('검정 통계량의 p-value가 0.05보다 작기 때문에 귀무가설을 기각한다.')\n",
    "    print('즉,  남여사이 지지율의 차이가 존재한다.')\n",
    "else:\n",
    "    print('검정 통계량의 p-value가 0.05보다 크기 때문에 귀무가설을 기각할 수 없다.')\n",
    "    print('즉, 남녀사이 지지율의 차이는 없다.')"
   ]
  },
  {
   "cell_type": "markdown",
   "id": "416d1b37",
   "metadata": {},
   "source": [
    "### 9. A 브랜드의 제품 14개를 추출하여 구한 평균과 표준편차는 각각 100g, 5g이고, B 브랜드의 제품 12개를 추출하여 구한 평균과 표준편차는 각각 110g, 6g이라면, 두 제품의 평균이 차이가 있는지 여부를 검정하시오. (유의수준 0.05)"
   ]
  },
  {
   "cell_type": "code",
   "execution_count": null,
   "id": "fa74fc5e",
   "metadata": {},
   "outputs": [],
   "source": [
    "# 두개의 그룹,-> 모분산이 다름.\n",
    "import pandas as pd\n",
    "import numpy as np\n",
    "\n",
    "x1 = 100\n",
    "s1 = 5\n",
    "n1 = 14\n",
    "x2 = 110\n",
    "s2 = 6\n",
    "n2 = 12\n",
    "test_a = 0.05\n",
    "\n",
    "print('[가설설정]')\n",
    "print('H0(귀무가설) : 두 제품의 평균은 차이가 없다.')\n",
    "print('H1(대립가설) : 두 제품의 평균은 차이가 있다.')\n",
    "\n",
    "from scipy.stats import "
   ]
  },
  {
   "cell_type": "markdown",
   "id": "121b6378",
   "metadata": {},
   "source": [
    "### 10. iris target별로 sepal length의 평균에 차이가 있는지 가설검정하시오. 차이가 있다면 어느 target들 사이에 평균 차이가 있는지 사후 검정하시오."
   ]
  },
  {
   "cell_type": "code",
   "execution_count": 52,
   "id": "ae6bec61",
   "metadata": {},
   "outputs": [
    {
     "name": "stdout",
     "output_type": "stream",
     "text": [
      "   sepallength  sepalwidth  petallength  petalwidth  target\n",
      "0          5.1         3.5          1.4         0.2  setosa\n",
      "1          4.9         3.0          1.4         0.2  setosa\n",
      "2          4.7         3.2          1.3         0.2  setosa\n"
     ]
    }
   ],
   "source": [
    "from sklearn.datasets import load_iris\n",
    "from pandas import DataFrame\n",
    "import numpy as np\n",
    "load = load_iris()\n",
    "feature_names = list(map(lambda x: x.replace(\"(cm)\", \"\").replace(' ', ''), load['feature_names']))\n",
    "data = DataFrame(np.c_[load['data'], load['target']], columns = feature_names+['target'])\n",
    "data['target'] = data['target'].map({0:load['target_names'][0], 1:load['target_names'][1], 2:load['target_names'][2]})\n",
    "print(data.head(3))"
   ]
  },
  {
   "cell_type": "code",
   "execution_count": 55,
   "id": "35bbadb0",
   "metadata": {},
   "outputs": [
    {
     "name": "stdout",
     "output_type": "stream",
     "text": [
      "[가설설정]\n",
      "H0(귀무가설) : target 수준들 간 데이터의 sepal length는 차이가 없다.\n",
      "H1(대립가설) : target 수준들 간 데이터의 sepal length는 차이가 있다.\n",
      "[검정결과]\n",
      "유의수준 : 0.05, 유의 확률 : 1.669669190769597e-31\n",
      "검정 통계량의 p-value가 0.05보다 작기 때문에 귀무가설을 기각한다.\n",
      "즉, target 수준들 간 데이터의 sepal length는 차이가 있다.\n"
     ]
    }
   ],
   "source": [
    "from statsmodels.stats.oneway import anova_oneway\n",
    "test_a = 0.05\n",
    "print('[가설설정]')\n",
    "print('H0(귀무가설) : target 수준들 간 데이터의 sepal length는 차이가 없다.')\n",
    "print('H1(대립가설) : target 수준들 간 데이터의 sepal length는 차이가 있다.')\n",
    "\n",
    "ao = anova_oneway(data=data['sepallength'], groups=data['target'], use_var='equal')\n",
    "\n",
    "print('[검정결과]')\n",
    "print('유의수준 : {}, 유의 확률 : {}'.format(test_a, ao.pvalue))\n",
    "if test_a > ao.pvalue:\n",
    "    print('검정 통계량의 p-value가 0.05보다 작기 때문에 귀무가설을 기각한다.')\n",
    "    print('즉, target 수준들 간 데이터의 sepal length는 차이가 있다.')\n",
    "else:\n",
    "    print('검정 통계량의 p-value가 0.05보다 크기 때문에 귀무가설을 기각할 수 없다.')\n",
    "    print('즉, target 수준들 간 데이터의 sepal length는 차이가 없다.')\n",
    "    "
   ]
  },
  {
   "cell_type": "code",
   "execution_count": 58,
   "id": "d99cad2d",
   "metadata": {},
   "outputs": [
    {
     "name": "stdout",
     "output_type": "stream",
     "text": [
      "귀무가설이 기각 되었기 때문에 사후 검정을 실시한다.\n",
      "사후 검정은 Tukey 사후 검정을 사용한다.\n",
      "사후 분석은 Tukey의 사후 분석 방법을 이용하여 검정한다.\n",
      "[사후분석 가설설정]\n",
      "H0(귀무가설) : 모든 그룹간의 차이가 존재하지 않는다.\n",
      "H1(대립가설) : 모든 그룹간의 차이가 있는 그룹이 존재한다.\n",
      "유의수준 0.05하에서 귀무가설을 기각하는 것을 보였다. tukey 사후분석을 진행하면 위의 데이터프레임과 같은 결과를 보인다.\n"
     ]
    },
    {
     "data": {
      "text/html": [
       "<table class=\"simpletable\">\n",
       "<caption>Multiple Comparison of Means - Tukey HSD, FWER=0.05</caption>\n",
       "<tr>\n",
       "    <th>group1</th>     <th>group2</th>   <th>meandiff</th> <th>p-adj</th>  <th>lower</th>  <th>upper</th> <th>reject</th>\n",
       "</tr>\n",
       "<tr>\n",
       "    <td>setosa</td>   <td>versicolor</td>   <td>0.93</td>    <td>0.0</td>  <td>0.6862</td> <td>1.1738</td>  <td>True</td> \n",
       "</tr>\n",
       "<tr>\n",
       "    <td>setosa</td>    <td>virginica</td>   <td>1.582</td>   <td>0.0</td>  <td>1.3382</td> <td>1.8258</td>  <td>True</td> \n",
       "</tr>\n",
       "<tr>\n",
       "  <td>versicolor</td>  <td>virginica</td>   <td>0.652</td>   <td>0.0</td>  <td>0.4082</td> <td>0.8958</td>  <td>True</td> \n",
       "</tr>\n",
       "</table>"
      ],
      "text/plain": [
       "<class 'statsmodels.iolib.table.SimpleTable'>"
      ]
     },
     "metadata": {},
     "output_type": "display_data"
    },
    {
     "name": "stdout",
     "output_type": "stream",
     "text": [
      "결과적으로 모든 쌍에 대한 p-value가 0으로 귀무가설을 기각하지 못하고 모든 그룹쌍 사이에는 차이가 존재하는 것을 확인할 수 있다.\n"
     ]
    }
   ],
   "source": [
    "print('귀무가설이 기각 되었기 때문에 사후 검정을 실시한다.')\n",
    "print('사후 검정은 Tukey 사후 검정을 사용한다.')\n",
    "posthoc = pairwise_tukeyhsd(data['sepallength'], data['target'], alpha=0.05)\n",
    "print('사후 분석은 Tukey의 사후 분석 방법을 이용하여 검정한다.')\n",
    "print('[사후분석 가설설정]')\n",
    "print('H0(귀무가설) : 모든 그룹간의 차이가 존재하지 않는다.')\n",
    "print('H1(대립가설) : 모든 그룹간의 차이가 있는 그룹이 존재한다.')\n",
    "print('유의수준 0.05하에서 귀무가설을 기각하는 것을 보였다. tukey 사후분석을 진행하면 위의 데이터프레임과 같은 결과를 보인다.')\n",
    "display(posthoc.summary())\n",
    "print('결과적으로 모든 쌍에 대한 p-value가 0으로 귀무가설을 기각하지 못하고 모든 그룹쌍 사이에는 차이가 존재하는 것을 확인할 수 있다.')"
   ]
  },
  {
   "cell_type": "markdown",
   "id": "2bce9804",
   "metadata": {},
   "source": [
    "### >>> 비모수 검정"
   ]
  },
  {
   "cell_type": "markdown",
   "id": "4ca2a9f6",
   "metadata": {},
   "source": [
    "### 1. 아래 그래프는 A,B,C 동별 입주민의 주민대표 찬반 투표 결과를 나타낸다. 동별 찬반 비율이 동일한지 귀무가설과 대립가설을 설정하고, 검정통계량을 계산하여 검정하시오. (유의수준 0.05)\n",
    "|구분|A|B|C|\n",
    "|:-:|:-:|:-:|:-:|\n",
    "|찬성|50|60|65|\n",
    "|반대|45|32|55|"
   ]
  },
  {
   "cell_type": "code",
   "execution_count": 70,
   "id": "07dfaa4d",
   "metadata": {},
   "outputs": [
    {
     "data": {
      "text/html": [
       "<div>\n",
       "<style scoped>\n",
       "    .dataframe tbody tr th:only-of-type {\n",
       "        vertical-align: middle;\n",
       "    }\n",
       "\n",
       "    .dataframe tbody tr th {\n",
       "        vertical-align: top;\n",
       "    }\n",
       "\n",
       "    .dataframe thead th {\n",
       "        text-align: right;\n",
       "    }\n",
       "</style>\n",
       "<table border=\"1\" class=\"dataframe\">\n",
       "  <thead>\n",
       "    <tr style=\"text-align: right;\">\n",
       "      <th></th>\n",
       "      <th>A</th>\n",
       "      <th>B</th>\n",
       "      <th>C</th>\n",
       "    </tr>\n",
       "    <tr>\n",
       "      <th>구분</th>\n",
       "      <th></th>\n",
       "      <th></th>\n",
       "      <th></th>\n",
       "    </tr>\n",
       "  </thead>\n",
       "  <tbody>\n",
       "    <tr>\n",
       "      <th>찬성</th>\n",
       "      <td>50</td>\n",
       "      <td>60</td>\n",
       "      <td>65</td>\n",
       "    </tr>\n",
       "    <tr>\n",
       "      <th>반대</th>\n",
       "      <td>45</td>\n",
       "      <td>32</td>\n",
       "      <td>55</td>\n",
       "    </tr>\n",
       "  </tbody>\n",
       "</table>\n",
       "</div>"
      ],
      "text/plain": [
       "     A   B   C\n",
       "구분            \n",
       "찬성  50  60  65\n",
       "반대  45  32  55"
      ]
     },
     "execution_count": 70,
     "metadata": {},
     "output_type": "execute_result"
    }
   ],
   "source": [
    "# 동질성검정?\n",
    "import pandas as pd\n",
    "import numpy as np\n",
    "df = pd.DataFrame({\"구분\":['찬성', '반대'], 'A':[50, 45], 'B':[60, 32], 'C':[65, 55]}).set_index('구분')\n",
    "df"
   ]
  },
  {
   "cell_type": "code",
   "execution_count": 61,
   "id": "03f916cf",
   "metadata": {},
   "outputs": [
    {
     "name": "stdout",
     "output_type": "stream",
     "text": [
      "[가설설정]\n",
      "H0(귀무가설) : 동별 찬반비율은 차이가 없다.\n",
      "H1(대립가설) : 동별 찬반비율은 차이가 있다.\n",
      "[검정결과]\n",
      "유의수준 : 0.05, 유의 확률 : 1.669669190769597e-31\n",
      "검정 통계량의 p-value가 0.05보다 크기 때문에 귀무가설을 기각할 수 없다.\n",
      "즉, 동별 찬반비율은 차이가 없다..\n"
     ]
    }
   ],
   "source": [
    "test_a = 0.05\n",
    "\n",
    "print('[가설설정]')\n",
    "print('H0(귀무가설) : 동별 찬반비율은 차이가 없다.')\n",
    "print('H1(대립가설) : 동별 찬반비율은 차이가 있다.')\n",
    "\n",
    "from scipy.stats import chi2_contingency\n",
    "chistat, p_value, df, expect = chi2_contingency(df, correction=False)\n",
    "print('[검정결과]')\n",
    "print('유의수준 : {}, 유의 확률 : {}'.format(test_a, ao.pvalue))\n",
    "if test_a > p_value:\n",
    "    print('검정 통계량의 p-value가 0.05보다 작기 때문에 귀무가설을 기각한다.')\n",
    "    print('즉, 동별 찬반비율은 차이가 있다.')\n",
    "else:\n",
    "    print('검정 통계량의 p-value가 0.05보다 크기 때문에 귀무가설을 기각할 수 없다.')\n",
    "    print('즉, 동별 찬반비율은 차이가 없다..')"
   ]
  },
  {
   "cell_type": "markdown",
   "id": "59c4ceb4",
   "metadata": {},
   "source": [
    "### 2. 특정 캠페인에 노출되기 전과 후의 캠페인 주제에 대한 지지 여부를 기록한 데이터이다. 캠페인 전후의 지지 비율이 차이가 있는지 귀무가설과 대립가설을 설정하고, 검정통계량을 계산하여 검정하시오. (유의수준 0.05)"
   ]
  },
  {
   "cell_type": "code",
   "execution_count": 71,
   "id": "92fe7dde",
   "metadata": {},
   "outputs": [
    {
     "name": "stdout",
     "output_type": "stream",
     "text": [
      "        0  1  2  3  4\n",
      "before  1  1  1  0  1\n",
      "after   0  1  1  1  0\n"
     ]
    }
   ],
   "source": [
    "## 맥니마 검정\n",
    "import pandas as pd\n",
    "import numpy as np\n",
    "data = pd.read_csv('https://raw.githubusercontent.com/algoboni/pythoncodebook1-1/main/practice6_ba.csv', index_col=0)\n",
    "print(data.head(5).T)"
   ]
  },
  {
   "cell_type": "code",
   "execution_count": 72,
   "id": "aa008bbc",
   "metadata": {},
   "outputs": [
    {
     "data": {
      "text/html": [
       "<div>\n",
       "<style scoped>\n",
       "    .dataframe tbody tr th:only-of-type {\n",
       "        vertical-align: middle;\n",
       "    }\n",
       "\n",
       "    .dataframe tbody tr th {\n",
       "        vertical-align: top;\n",
       "    }\n",
       "\n",
       "    .dataframe thead th {\n",
       "        text-align: right;\n",
       "    }\n",
       "</style>\n",
       "<table border=\"1\" class=\"dataframe\">\n",
       "  <thead>\n",
       "    <tr style=\"text-align: right;\">\n",
       "      <th>after</th>\n",
       "      <th>0</th>\n",
       "      <th>1</th>\n",
       "    </tr>\n",
       "    <tr>\n",
       "      <th>before</th>\n",
       "      <th></th>\n",
       "      <th></th>\n",
       "    </tr>\n",
       "  </thead>\n",
       "  <tbody>\n",
       "    <tr>\n",
       "      <th>0</th>\n",
       "      <td>4</td>\n",
       "      <td>12</td>\n",
       "    </tr>\n",
       "    <tr>\n",
       "      <th>1</th>\n",
       "      <td>9</td>\n",
       "      <td>6</td>\n",
       "    </tr>\n",
       "  </tbody>\n",
       "</table>\n",
       "</div>"
      ],
      "text/plain": [
       "after   0   1\n",
       "before       \n",
       "0       4  12\n",
       "1       9   6"
      ]
     },
     "execution_count": 72,
     "metadata": {},
     "output_type": "execute_result"
    }
   ],
   "source": [
    "test_a = 0.05\n",
    "df_cross = pd.crosstab(data['before'], data['after'])\n",
    "df_cross"
   ]
  },
  {
   "cell_type": "code",
   "execution_count": 66,
   "id": "edd0cfac",
   "metadata": {},
   "outputs": [
    {
     "name": "stdout",
     "output_type": "stream",
     "text": [
      "[가설설정]\n",
      "H0(귀무가설) : 캠페인 전후 지지 비율은 차이가 없다.\n",
      "H1(대립가설) : 캠페인 전후 지지 비율은 차이가 있다.\n",
      "[검정결과]\n",
      "유의수준 : 0.05, 유의 확률 : 0.5126907602619235\n",
      "검정 통계량의 p-value가 0.05보다 크기 때문에 귀무가설을 기각할 수 없다.\n",
      "즉, 캠페인 전후 지지 비율은 차이가 없다.\n"
     ]
    }
   ],
   "source": [
    "print('[가설설정]')\n",
    "print('H0(귀무가설) : 캠페인 전후 지지 비율은 차이가 없다.')\n",
    "print('H1(대립가설) : 캠페인 전후 지지 비율은 차이가 있다.')\n",
    "\n",
    "from statsmodels.stats.contingency_tables import mcnemar\n",
    "mc = mcnemar(df_cross, exact=False, correction=False)\n",
    "print('[검정결과]')\n",
    "print('유의수준 : {}, 유의 확률 : {}'.format(test_a, mc.pvalue))\n",
    "if test_a > mc.pvalue:\n",
    "    print('검정 통계량의 p-value가 0.05보다 작기 때문에 귀무가설을 기각한다.')\n",
    "    print('즉, 캠페인 전후 지지 비율은 차이가 있다.')\n",
    "else:\n",
    "    print('검정 통계량의 p-value가 0.05보다 크기 때문에 귀무가설을 기각할 수 없다.')\n",
    "    print('즉, 캠페인 전후 지지 비율은 차이가 없다.')"
   ]
  },
  {
   "cell_type": "markdown",
   "id": "de5db208",
   "metadata": {},
   "source": [
    "### 3. 다음의 T와 F가 무작위로 나열되어 있다고 볼 수 있는지 귀무가설과 대립가설을 설정하고, 검정통계량을 계산하여 검정하시오. (유의수준 0.05)"
   ]
  },
  {
   "cell_type": "code",
   "execution_count": 68,
   "id": "de25a13a",
   "metadata": {},
   "outputs": [
    {
     "name": "stdout",
     "output_type": "stream",
     "text": [
      "[가설설정]\n",
      "H0(귀무가설) : T와 F는 무작위로 나열되었다.\n",
      "H1(대립가설) : T와 F는 무작위로 나열되지 않았다.\n",
      "[검정결과]\n",
      "유의수준 : 0.05, 유의 확률 : 0.028771228782561286\n",
      "검정 통계량의 p-value가 0.05보다 작기 때문에 귀무가설을 기각한다.\n",
      "즉, T와 F는 무작위로 나열되지 않았다.\n"
     ]
    }
   ],
   "source": [
    "## 런검정\n",
    "import pandas as pd\n",
    "import numpy as np\n",
    "\n",
    "TFlist = ['T','F','F','T','F','T','F','T','T','F','F','T','F','T','F','T','F','T']\n",
    "\n",
    "print('[가설설정]')\n",
    "print('H0(귀무가설) : T와 F는 무작위로 나열 되었다.')\n",
    "print('H1(대립가설) : T와 F는 무작위로 나열 되지 않았다.')\n",
    "\n",
    "from statsmodels.sandbox.stats.runs import runstest_1samp\n",
    "data = list(map(lambda x: 0 if x =='F' else 1, TFlist))\n",
    "zstat, p = runstest_1samp(data)\n",
    "\n",
    "print('[검정결과]')\n",
    "print('유의수준 : {}, 유의 확률 : {}'.format(test_a, p))\n",
    "if test_a > p:\n",
    "    print('검정 통계량의 p-value가 0.05보다 작기 때문에 귀무가설을 기각한다.')\n",
    "    print('즉, T와 F는 무작위로 나열 되지 않았다.')\n",
    "else:\n",
    "    print('검정 통계량의 p-value가 0.05보다 크기 때문에 귀무가설을 기각할 수 없다.')\n",
    "    print('즉, T와 F는 무작위로 나열 되었다.')"
   ]
  },
  {
   "cell_type": "markdown",
   "id": "6004bf61",
   "metadata": {},
   "source": [
    "### 4. 20대보다 30대가 기대하는 연봉상승률이 더 높다는 주장이 있다. 이 주장이 타당한지를 확인해보기 위해서 20대 10명과 30대 8명을 임의로 추출하여 기대하는 연봉상승률을 다음과 같이 정리하였다. 이 주장을 검정하기 위한 귀무가설과 대립가설을 설정하고, 검정통계량을 계산하여 검정하시오. (유의수준 0.05)"
   ]
  },
  {
   "cell_type": "code",
   "execution_count": 82,
   "id": "97e68789",
   "metadata": {},
   "outputs": [
    {
     "name": "stdout",
     "output_type": "stream",
     "text": [
      "[가설설정]\n",
      "H0(귀무가설) : 20대와 30대가 기대하는 연봉상승률은 차이가 없다.\n",
      "H1(대립가설) : 20대가 기대하는 연봉상승률은 30대가 기대하는 연봉상승률보다 더 낮다.\n",
      "순위합 검정통계량 69.5 or 101.5\n",
      "만위트니 검정통계량 14.5 or 65.5\n",
      "검정통계량 14.5, p-value 0.013\n",
      "[검정결과]\n",
      "유의수준 : 0.05, 유의 확률 : 0.012779101098895866\n",
      "검정 통계량의 p-value가 0.05보다 작기 때문에 귀무가설을 기각한다.\n",
      "즉, 20대가 기대하는 연봉상승률은 30대가 기대하는 연봉상승률보다 더 낮다.\n"
     ]
    }
   ],
   "source": [
    "## 윌콕슨 순위합 검정 (만위트니 검정)\n",
    "import pandas as pd\n",
    "import numpy as np\n",
    "\n",
    "A = [3.0, 3.5, 2.0, 2.8, 5.0, 0, 2.3, 2.8, 3.3, 3.5] #20대\n",
    "B = [3.5, 5.5, 5.0, 5.0, 10.0, 8.0, 2.5, 3.0 ] #30대\n",
    "test_a = 0.05\n",
    "\n",
    "print('[가설설정]')\n",
    "print('H0(귀무가설) : 20대와 30대가 기대하는 연봉상승률은 차이가 없다.')\n",
    "print('H1(대립가설) : 20대가 기대하는 연봉상승률은 30대가 기대하는 연봉상승률보다 더 낮다.')\n",
    "\n",
    "\n",
    "n1, n2 = len(A), len(B)\n",
    "M1, M2 = np.median(A), np.median(B)\n",
    "\n",
    "table1 = pd.DataFrame(A, columns = ['data'])\n",
    "table1['M'] = M1\n",
    "table2 = pd.DataFrame(B, columns = ['data'])\n",
    "table2['M'] = M2\n",
    "table = pd.concat([table1, table2])\n",
    "table['rank'] = table['data'].rank(method='average') # 순위합 계산표\n",
    "\n",
    "W1 = table[table['M']==M1]['rank'].sum()\n",
    "W2 = table[table['M']==M2]['rank'].sum()\n",
    "U1 = W1 - n1*(n1+1)/2\n",
    "U2 = W2 - n2*(n2+1)/2\n",
    "print(\"순위합 검정통계량 {} or {}\".format(W1, W2))\n",
    "print(\"만위트니 검정통계량 {} or {}\".format(U1, U2))\n",
    "\n",
    "from scipy.stats import mannwhitneyu\n",
    "mstat, p = mannwhitneyu(A, B, alternative='less')\n",
    "print(\"검정통계량 {:.1f}, p-value {:.3f}\".format(mstat, p))\n",
    "\n",
    "print('[검정결과]')\n",
    "print('유의수준 : {}, 유의 확률 : {}'.format(test_a, p))\n",
    "if test_a > p:\n",
    "    print('검정 통계량의 p-value가 0.05보다 작기 때문에 귀무가설을 기각한다.')\n",
    "    print('즉, 20대가 기대하는 연봉상승률은 30대가 기대하는 연봉상승률보다 더 낮다.')\n",
    "else:\n",
    "    print('검정 통계량의 p-value가 0.05보다 크기 때문에 귀무가설을 기각할 수 없다.')\n",
    "    print('즉, 20대와 30대가 기대하는 연봉상승률은 차이가 없다.')"
   ]
  },
  {
   "cell_type": "code",
   "execution_count": 81,
   "id": "8708bf55",
   "metadata": {},
   "outputs": [
    {
     "name": "stdout",
     "output_type": "stream",
     "text": [
      "순위합 검정통계량 69.5 or 101.5\n",
      "만위트니 검정통계량 14.5 or 65.5\n",
      "검정통계량 14.5, p-value 0.013\n"
     ]
    }
   ],
   "source": []
  },
  {
   "cell_type": "markdown",
   "id": "6c4cf8af",
   "metadata": {},
   "source": [
    "### 5. 양식, 한식, 중식에 대해 5명의 선호도를 나타내는 표이다. 선호하지 않는다를 1, 보통이다를 2, 선호한다를 3으로 응답하였다. 음식 종류에 따라 선호도 차이가 있는지 귀무가설과 대립가설을 설정하고, 검정통계량을 계산하여 검정하시오. (유의수준 0.05)"
   ]
  },
  {
   "cell_type": "code",
   "execution_count": 69,
   "id": "747046bc",
   "metadata": {},
   "outputs": [
    {
     "name": "stdout",
     "output_type": "stream",
     "text": [
      "[가설설정]\n",
      "H0(귀무가설) : 음식 종류에 대한 선호도는 차이가 없다.\n",
      "H1(대립가설) : 적어도 한쌍의 음식 종류에 대한 선호도는 차이가 있다.\n",
      "[검정결과]\n",
      "유의수준 : 0.05, 유의 확률 : 0.2635971381157259\n",
      "검정 통계량의 p-value가 0.05보다 크기 때문에 귀무가설을 기각할 수 없다.\n",
      "즉, 음식 종류에 대한 선호도는 차이가 없다.\n"
     ]
    }
   ],
   "source": [
    "## 프리드먼 검정\n",
    "import pandas as pd\n",
    "import numpy as np\n",
    "\n",
    "W = [1,3,1,3,1] # 양식\n",
    "K = [1,3,3,1,1] # 한식\n",
    "C = [2,3,3,3,1] # 중식\n",
    "test_a = 0.05\n",
    "print('[가설설정]')\n",
    "print('H0(귀무가설) : 음식 종류에 대한 선호도는 차이가 없다.')\n",
    "print('H1(대립가설) : 적어도 한쌍의 음식 종류에 대한 선호도는 차이가 있다.')\n",
    "\n",
    "from scipy.stats import friedmanchisquare\n",
    "fstat, p = friedmanchisquare(W, K, C)\n",
    "print('[검정결과]')\n",
    "print('유의수준 : {}, 유의 확률 : {}'.format(test_a, p))\n",
    "if test_a > p:\n",
    "    print('검정 통계량의 p-value가 0.05보다 작기 때문에 귀무가설을 기각한다.')\n",
    "    print('즉, 적어도 한쌍의 음식 종류에 대한 선호도는 차이가 있다.')\n",
    "else:\n",
    "    print('검정 통계량의 p-value가 0.05보다 크기 때문에 귀무가설을 기각할 수 없다.')\n",
    "    print('즉, 음식 종류에 대한 선호도는 차이가 없다.')"
   ]
  },
  {
   "cell_type": "markdown",
   "id": "4dbbecee",
   "metadata": {},
   "source": [
    "### 6. A, B, C 지역 학생들의 키가 차이가 있는지 검정하기 위한 귀무가설과 대립가설을 설정하고, 검정통계량을 계산하여 검정하시오. (유의수준 0.05)"
   ]
  },
  {
   "cell_type": "code",
   "execution_count": 74,
   "id": "03bf4f85",
   "metadata": {},
   "outputs": [
    {
     "name": "stdout",
     "output_type": "stream",
     "text": [
      "[가설설정]\n",
      "H0(귀무가설) : 세 지역 학생들의 키는 차이가 없다.\n",
      "H1(대립가설) : 세 지역 학생들의 키는 차이가 있다.\n",
      "[검정결과]\n",
      "유의수준 : 0.05, 유의 확률 : 0.5139119334462101\n",
      "검정 통계량의 p-value가 0.05보다 크기 때문에 귀무가설을 기각할 수 없다.\n",
      "즉, 세 지역 학생들의 키는 차이가 없다.\n"
     ]
    }
   ],
   "source": [
    "## 크루스컬 월리스 검정\n",
    "import pandas as pd\n",
    "import numpy as np\n",
    "\n",
    "A = [177, 167, 188, 189, 152, 159, 184, 175]\n",
    "B = [151, 177, 150, 187, 167, 166, 179, 161, 174]\n",
    "C = [173, 151, 156, 182, 188, 175, 150, 165, 176, 183]\n",
    "test_a = 0.05\n",
    "\n",
    "print('[가설설정]')\n",
    "print('H0(귀무가설) : 세 지역 학생들의 키는 차이가 없다.')\n",
    "print('H1(대립가설) : 세 지역 학생들의 키는 차이가 있다.')\n",
    "\n",
    "from scipy.stats import kruskal\n",
    "kstat, p = kruskal(A, B, C)\n",
    "print('[검정결과]')\n",
    "print('유의수준 : {}, 유의 확률 : {}'.format(test_a, p))\n",
    "if test_a > p:\n",
    "    print('검정 통계량의 p-value가 0.05보다 작기 때문에 귀무가설을 기각한다.')\n",
    "    print('즉, 세 지역 학생들의 키는 차이가 있다.')\n",
    "else:\n",
    "    print('검정 통계량의 p-value가 0.05보다 크기 때문에 귀무가설을 기각할 수 없다.')\n",
    "    print('즉, 세 지역 학생들의 키는 차이가 없다.')"
   ]
  },
  {
   "cell_type": "markdown",
   "id": "b93e4c6f",
   "metadata": {},
   "source": [
    "## [기출문제]\n",
    "- ADP 29회 기출 (https://www.datamanim.com/dataset/ADPpb/00/29.html)"
   ]
  },
  {
   "cell_type": "markdown",
   "id": "788482e4",
   "metadata": {},
   "source": [
    "### 1. 제품 A의 불량률은 0.03이다. 25개의 제품을 뽑았을 때 3개가 불량일 확률을 구하시오. (소수점 다섯 째 자리에서 반올림)"
   ]
  },
  {
   "cell_type": "code",
   "execution_count": 51,
   "id": "d92277d6",
   "metadata": {},
   "outputs": [
    {
     "name": "stdout",
     "output_type": "stream",
     "text": [
      "22개는 정상(확률 0.97) 3개는 불량(확률 0.03)인 이항분포 문제이다.\n",
      "이항분포의 확률 질량함수는 n :시행횟수 , k :불량품갯수 , p : 불량률 일때 불량을 확률은 0.03177이다\n"
     ]
    }
   ],
   "source": [
    "import pandas as pd\n",
    "import numpy as np\n",
    "from scipy.stats import binom\n",
    "# 이항분포\n",
    "n = 25\n",
    "k = 3\n",
    "p = 0.03  \n",
    "binomial_prob = binom.pmf(k, n, p)\n",
    "result = round(binomial_prob, 5)\n",
    "\n",
    "print('22개는 정상(확률 0.97) 3개는 불량(확률 0.03)인 이항분포 문제이다.') \n",
    "print('이항분포의 확률 질량함수는 n :시행횟수 , k :불량품갯수 , p : 불량률 일때 불량을 확률은 {}이다'.format(result))"
   ]
  },
  {
   "cell_type": "markdown",
   "id": "e70da95b",
   "metadata": {},
   "source": [
    "### 2. C사 생산 제품 1000개 중 양품이 600개, D사 생산 제품 500개 중 양품이 200개 이다. 두 회사의 양품률에 차이가 있는지 검정하여라."
   ]
  },
  {
   "cell_type": "code",
   "execution_count": 44,
   "id": "9f529de1",
   "metadata": {},
   "outputs": [
    {
     "name": "stdout",
     "output_type": "stream",
     "text": [
      "두 양품률 간의 차이를 검정하기 위해 Z검정을 통해 검정함\n",
      "[가설설정]\n",
      "H0(귀무가설) : C사와 D사의 양품률 간에 차이가 없다.\n",
      "H1(대립가설) : C사와 D사의 양품률 간에 차이가 있다.\n",
      "[검정결과]\n",
      "유의수준 : 0.05, 유의 확률 : 9.08162434143378e-14\n",
      "검정 통계량의 p-value가 0.05보다 작기 때문에 귀무가설을 기각한다.\n",
      "즉,  C사와 D사의 양품률 간에 차이가 있다.\n"
     ]
    }
   ],
   "source": [
    "import pandas as pd\n",
    "import numpy as np\n",
    "from scipy.stats import norm\n",
    "\n",
    "# Z검정 p-value\n",
    "p1 = 0.6;p2 = 0.4\n",
    "n1 = 1000;n2 = 500\n",
    "SE = np.sqrt((p1 * (1 - p1) / n1) + (p2 * (1 - p2) / n2)) # 표준 오차 계산\n",
    "Z = (p1 - p2) / SE # Z-점수 계산\n",
    "p_value = 2 * (1 - norm.cdf(abs(Z))) # p-value 계산\n",
    "test_a = 0.05\n",
    "\n",
    "# 유의수준 0.05하에 차이 존재\n",
    "print('두 양품률 간의 차이를 검정하기 위해 Z검정을 통해 검정함')\n",
    "print('[가설설정]')\n",
    "print('H0(귀무가설) : C사와 D사의 양품률 간에 차이가 없다.')\n",
    "print('H1(대립가설) : C사와 D사의 양품률 간에 차이가 있다.')\n",
    "\n",
    "print('[검정결과]')\n",
    "print('유의수준 : {}, 유의 확률 : {}'.format(test_a, p_value))\n",
    "if test_a > p_value:\n",
    "    print('검정 통계량의 p-value가 0.05보다 작기 때문에 귀무가설을 기각한다.')\n",
    "    print('즉,  C사와 D사의 양품률 간에 차이가 있다.')\n",
    "else:\n",
    "    print('검정 통계량의 p-value가 0.05보다 크기 때문에 귀무가설을 기각할 수 없다.')\n",
    "    print('즉,  C사와 D사의 양품률 간에 차이가 없다.')\n"
   ]
  },
  {
   "cell_type": "markdown",
   "id": "92887a56",
   "metadata": {},
   "source": [
    "### 3-1. 각 차종 별 범퍼 파손의 정도에 차이가 유의한지 검정하라.\n",
    "- 데이터 설명 : 아래 데이터는 a,b,c,d 네 차종 각각 5회 실험 시 범퍼 파손 정도 이다. (단, 각 모집단은 정규분포를 따르며 모집단 간 등분산성을 가정한다.)"
   ]
  },
  {
   "cell_type": "code",
   "execution_count": 30,
   "id": "e9ae6d00",
   "metadata": {},
   "outputs": [
    {
     "data": {
      "text/html": [
       "<div>\n",
       "<style scoped>\n",
       "    .dataframe tbody tr th:only-of-type {\n",
       "        vertical-align: middle;\n",
       "    }\n",
       "\n",
       "    .dataframe tbody tr th {\n",
       "        vertical-align: top;\n",
       "    }\n",
       "\n",
       "    .dataframe thead th {\n",
       "        text-align: right;\n",
       "    }\n",
       "</style>\n",
       "<table border=\"1\" class=\"dataframe\">\n",
       "  <thead>\n",
       "    <tr style=\"text-align: right;\">\n",
       "      <th></th>\n",
       "      <th>name</th>\n",
       "      <th>ratio</th>\n",
       "    </tr>\n",
       "  </thead>\n",
       "  <tbody>\n",
       "    <tr>\n",
       "      <th>0</th>\n",
       "      <td>A</td>\n",
       "      <td>10.993428</td>\n",
       "    </tr>\n",
       "    <tr>\n",
       "      <th>1</th>\n",
       "      <td>A</td>\n",
       "      <td>9.723471</td>\n",
       "    </tr>\n",
       "    <tr>\n",
       "      <th>2</th>\n",
       "      <td>A</td>\n",
       "      <td>11.295377</td>\n",
       "    </tr>\n",
       "    <tr>\n",
       "      <th>3</th>\n",
       "      <td>A</td>\n",
       "      <td>13.046060</td>\n",
       "    </tr>\n",
       "    <tr>\n",
       "      <th>4</th>\n",
       "      <td>A</td>\n",
       "      <td>9.531693</td>\n",
       "    </tr>\n",
       "  </tbody>\n",
       "</table>\n",
       "</div>"
      ],
      "text/plain": [
       "  name      ratio\n",
       "0    A  10.993428\n",
       "1    A   9.723471\n",
       "2    A  11.295377\n",
       "3    A  13.046060\n",
       "4    A   9.531693"
      ]
     },
     "execution_count": 30,
     "metadata": {},
     "output_type": "execute_result"
    }
   ],
   "source": [
    "import pandas as pd\n",
    "import numpy as np\n",
    "import matplotlib.pyplot as plt\n",
    "import seaborn as sns\n",
    "from scipy.stats import f_oneway\n",
    "\n",
    "plt.rc('font', family='Malgun Gothic') \n",
    "plt.rcParams['axes.unicode_minus'] = False #한글 폰트 사용시 마이너스 폰트 깨짐 해결\n",
    "\n",
    "df = pd.read_csv('https://raw.githubusercontent.com/Datamanim/datarepo/main/adp/29/p7.csv')\n",
    "df.head()"
   ]
  },
  {
   "cell_type": "code",
   "execution_count": 37,
   "id": "5d9b2318",
   "metadata": {},
   "outputs": [
    {
     "data": {
      "image/png": "[encoded data removed]",
      "text/plain": [
       "<Figure size 360x360 with 1 Axes>"
      ]
     },
     "metadata": {
      "needs_background": "light"
     },
     "output_type": "display_data"
    },
    {
     "name": "stdout",
     "output_type": "stream",
     "text": [
      "데이터숫자가 적지만 정규분포와 등분산에 대한 가정을 조건으로 주었기 때문에 모수적 검정인 일원 분산분석을 통해서 그룹간 차이가 존재하는지 확인한다.\n",
      "일원분산분석 p-value는 2.8174779556216382e-06로 차이가 유의하다고 볼 수 있다\n"
     ]
    }
   ],
   "source": [
    "plt.figure(figsize=(5,5))\n",
    "sns.boxplot(x ='name', y='ratio', data =df, hue='name')\n",
    "plt.title('차종별 파손 정도 비율')\n",
    "plt.show()\n",
    "# 일원 분산분석 수행\n",
    "f_statistic, p_value = f_oneway(df[df['name'] =='A']['ratio'], df[df['name'] =='B']['ratio'], \n",
    "                                df[df['name'] =='C']['ratio'], df[df['name'] =='D']['ratio'])\n",
    "\n",
    "print('데이터숫자가 적지만 정규분포와 등분산에 대한 가정을 조건으로 주었기 때문에 모수적 검정인 일원 분산분석을 통해서 그룹간 차이가 존재하는지 확인한다.')\n",
    "print('일원분산분석 p-value는 {}로 차이가 유의하다고 볼 수 있다'.format(p_value))"
   ]
  },
  {
   "cell_type": "markdown",
   "id": "f381ff53",
   "metadata": {},
   "source": [
    "### 3-2. 귀무가설을 채택한다면 그 의미를 해석하고, 귀무가설을 기각하였다면 사후분석을 시행하라."
   ]
  },
  {
   "cell_type": "code",
   "execution_count": 48,
   "id": "fd2b7722",
   "metadata": {},
   "outputs": [
    {
     "name": "stdout",
     "output_type": "stream",
     "text": [
      "사후 분석은 Tukey의 사후 분석 방법을 이용하여 검정한다.\n",
      "[사후분석 가설설정]\n",
      "H0(귀무가설) : 4개 그룹의 차이가 존재하지 않는다.\n",
      "H1(대립가설) : 4개 그룹들 중 차이가 있는 그룹이 존재한다.\n",
      "3-1에서 유의수준 0.05하에서 귀무가설을 기각하는 것을 보였다. tukey 사후분석을 진행하면 위의 데이터프레임과 같은 결과를 보인다.\n"
     ]
    },
    {
     "data": {
      "text/html": [
       "<table class=\"simpletable\">\n",
       "<caption>Multiple Comparison of Means - Tukey HSD, FWER=0.05</caption>\n",
       "<tr>\n",
       "  <th>group1</th> <th>group2</th> <th>meandiff</th>  <th>p-adj</th>   <th>lower</th>   <th>upper</th>  <th>reject</th>\n",
       "</tr>\n",
       "<tr>\n",
       "     <td>A</td>      <td>B</td>    <td>5.3934</td>   <td>0.001</td>  <td>2.1785</td>  <td>8.6083</td>   <td>True</td> \n",
       "</tr>\n",
       "<tr>\n",
       "     <td>A</td>      <td>C</td>    <td>-4.2156</td> <td>0.0085</td>  <td>-7.4305</td> <td>-1.0007</td>  <td>True</td> \n",
       "</tr>\n",
       "<tr>\n",
       "     <td>A</td>      <td>D</td>    <td>-0.7086</td> <td>0.9207</td>  <td>-3.9235</td> <td>2.5063</td>   <td>False</td>\n",
       "</tr>\n",
       "<tr>\n",
       "     <td>B</td>      <td>C</td>    <td>-9.609</td>    <td>0.0</td>  <td>-12.8239</td> <td>-6.3941</td>  <td>True</td> \n",
       "</tr>\n",
       "<tr>\n",
       "     <td>B</td>      <td>D</td>    <td>-6.102</td>  <td>0.0003</td>  <td>-9.3169</td> <td>-2.8871</td>  <td>True</td> \n",
       "</tr>\n",
       "<tr>\n",
       "     <td>C</td>      <td>D</td>     <td>3.507</td>  <td>0.0302</td>  <td>0.2921</td>  <td>6.7219</td>   <td>True</td> \n",
       "</tr>\n",
       "</table>"
      ],
      "text/plain": [
       "<class 'statsmodels.iolib.table.SimpleTable'>"
      ]
     },
     "metadata": {},
     "output_type": "display_data"
    },
    {
     "name": "stdout",
     "output_type": "stream",
     "text": [
      "결과적으로 A와 D그룹을 비교했을때 p-value는 0.92로 귀무가설을 기각하지 못하고 나머지 모든 그룹쌍 사이에는 차이가 존재하는 것을 확인할 수 있다.\n"
     ]
    }
   ],
   "source": [
    "from statsmodels.stats.multicomp import pairwise_tukeyhsd\n",
    "posthoc = pairwise_tukeyhsd(df['ratio'], df['name'], alpha=0.05)\n",
    "print('사후 분석은 Tukey의 사후 분석 방법을 이용하여 검정한다.')\n",
    "print('[사후분석 가설설정]')\n",
    "print('H0(귀무가설) : 4개 그룹의 차이가 존재하지 않는다.')\n",
    "print('H1(대립가설) : 4개 그룹들 중 차이가 있는 그룹이 존재한다.')\n",
    "print('3-1에서 유의수준 0.05하에서 귀무가설을 기각하는 것을 보였다. tukey 사후분석을 진행하면 위의 데이터프레임과 같은 결과를 보인다.')\n",
    "display(posthoc.summary())\n",
    "print('결과적으로 A와 D그룹을 비교했을때 p-value는 0.92로 귀무가설을 기각하지 못하고 나머지 모든 그룹쌍 사이에는 차이가 존재하는 것을 확인할 수 있다.')"
   ]
  },
  {
   "cell_type": "markdown",
   "id": "433eb460",
   "metadata": {},
   "source": [
    "### 4. L1,L2,L3 세 개의 생산라인에서 각각 13%, 37%, 50%를 생산하며 각각 1.1% , 2.1%, 3.3% 불량률을 갖는다. 불량 제품이 나왔을 때 L1 라인에서 생산되었을 확률을 구하시오. (소수점 둘째자리에서 반올림)"
   ]
  },
  {
   "cell_type": "code",
   "execution_count": 50,
   "id": "b2417483",
   "metadata": {},
   "outputs": [
    {
     "name": "stdout",
     "output_type": "stream",
     "text": [
      "베이즈 정리를 이용하면 다음과 같은 확률이 나온다 0.06\n"
     ]
    }
   ],
   "source": [
    "# 주어진 확률\n",
    "l1 = 0.13\n",
    "l2 = 0.37\n",
    "l3 = 0.50\n",
    "ratio_l1 = 0.011\n",
    "ratio_l2 = 0.021\n",
    "ratio_l3 = 0.033\n",
    "\n",
    "# 불량 제품이 나올 확률\n",
    "ratio_t = ratio_l1 * l1 + ratio_l2 * l2 + ratio_l3 * l3\n",
    "\n",
    "# 베이즈 정리를 사용하여 P(L1|불량) 계산\n",
    "l1_ratio_t = (ratio_l1 * l1) / ratio_t\n",
    "result = round(l1_ratio_t, 2)\n",
    "print(\"베이즈 정리를 이용하면 다음과 같은 확률이 나온다\", result)"
   ]
  },
  {
   "cell_type": "code",
   "execution_count": null,
   "id": "0a0993f6",
   "metadata": {},
   "outputs": [],
   "source": []
  }
 ],
 "metadata": {
  "kernelspec": {
   "display_name": "Python 3",
   "language": "python",
   "name": "python3"
  },
  "language_info": {
   "codemirror_mode": {
    "name": "ipython",
    "version": 3
   },
   "file_extension": ".py",
   "mimetype": "text/x-python",
   "name": "python",
   "nbconvert_exporter": "python",
   "pygments_lexer": "ipython3",
   "version": "3.7.9"
  },
  "vp": {
   "vp_config_version": "1.0.0",
   "vp_menu_width": 273,
   "vp_note_display": false,
   "vp_note_width": 0,
   "vp_position": {
    "width": 278
   },
   "vp_section_display": false,
   "vp_signature": "VisualPython"
  }
 },
 "nbformat": 4,
 "nbformat_minor": 5
}
