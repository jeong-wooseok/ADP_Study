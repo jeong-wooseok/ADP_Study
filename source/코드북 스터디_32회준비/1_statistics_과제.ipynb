{
 "cells": [
  {
   "cell_type": "markdown",
   "id": "animal-patrick",
   "metadata": {},
   "source": [
    "# 1. 통계 (확률분포, 추정과 가설 검정, 분산분석, 비모수 검정)"
   ]
  },
  {
   "cell_type": "markdown",
   "id": "unauthorized-florida",
   "metadata": {},
   "source": [
    "## [연습문제]"
   ]
  },
  {
   "cell_type": "markdown",
   "id": "painted-discharge",
   "metadata": {
    "tags": [],
    "toc-hr-collapsed": true
   },
   "source": [
    "### >>> 통계 기초"
   ]
  },
  {
   "attachments": {
    "a51be7d9-1b02-4ef7-ac24-f364fe411b57.png": {
     "image/png": "[encoded data removed]"
    }
   },
   "cell_type": "markdown",
   "id": "extreme-station",
   "metadata": {},
   "source": [
    "#### 1. 기하평균\n",
    "어느 회사의 연도별 임금상승률을 조사하였더니, 아래 표와 같이 나타났다. 이 회사의 평균 임금상승률을 구하기 위해 어떤 대푯값을 구해야 하는지 설명하고, 그 값을 계산하시오.\n",
    "![image.png](attachment:a51be7d9-1b02-4ef7-ac24-f364fe411b57.png)"
   ]
  },
  {
   "cell_type": "code",
   "execution_count": 2,
   "id": "653b671c-fc57-46ff-a7e1-e70d3c7180ed",
   "metadata": {},
   "outputs": [
    {
     "name": "stdout",
     "output_type": "stream",
     "text": [
      "2017 ~ 2022 총 5년 동안의 상승률은 5.968128%이다\n"
     ]
    }
   ],
   "source": [
    "'''\n",
    "2017년부터 2022년까지 평균 임금상승률울 구하는 문제로 기하평균을 이용하여 푼다.\n",
    "'''\n",
    "import numpy as np\n",
    "wage = np.array([1.04, 1.03, 1.05, 1.1, 1.08])\n",
    "\n",
    "n = len(wage)\n",
    "a = 1\n",
    "for rate in wage:\n",
    "    a = a * rate\n",
    "result = a ** (1/n)\n",
    "print('2017 ~ 2022 총 {}년 동안의 상승률은 {:3f}%이다'.format(n, (result-1)*100))"
   ]
  },
  {
   "cell_type": "markdown",
   "id": "sustainable-import",
   "metadata": {},
   "source": [
    "#### 2. 조화평균\n",
    "한 회사원이 집에서 회사를 갈 때 시속 5km/h로 출근하고, 퇴근할 때 시속 7km/h로 돌아왔 다면, 이 회사원의 평균 속도를 구하기 위해 어떤 대푯값을 구해야 하는지 설명하고, 그 값을 계산하시오."
   ]
  },
  {
   "cell_type": "code",
   "execution_count": 2,
   "id": "43760c4b-9970-49c6-bc9a-8149bf8feaa8",
   "metadata": {},
   "outputs": [
    {
     "name": "stdout",
     "output_type": "stream",
     "text": [
      "이 회사원의 평균속도는 5.8km/h이다.\n"
     ]
    }
   ],
   "source": [
    "'''\n",
    "평균속도를 계산하는 문제로 조화평균을 이용해서 푼다\n",
    "'''\n",
    "a, b = 5, 7\n",
    "result = 2 * (a * b) / (a + b)\n",
    "print('이 회사원의 평균속도는 {:.1f}km/h이다.'.format(result))"
   ]
  },
  {
   "cell_type": "markdown",
   "id": "consolidated-induction",
   "metadata": {},
   "source": [
    "#### 3. 표준화 = $\\frac{x - \\bar{x}}{s}$\n",
    "A 브랜드의 햄버거는 평균 무게 200g, 분산 49g인 정규 분포를 따르고, 샌드위치는 평균 무게 190g, 분산 36g인 정규 분포를 따른다고 한다. 방금 구매한 A 브랜드 햄버거와 샌드위치의 무게가 모두 210g이라면, 상대적으로 어느 것이 더 무거운가. "
   ]
  },
  {
   "cell_type": "code",
   "execution_count": 47,
   "id": "1df25563-8950-46c8-9179-3e000c0deff5",
   "metadata": {
    "tags": []
   },
   "outputs": [
    {
     "name": "stdout",
     "output_type": "stream",
     "text": [
      "햄버거 표준점수 : 1.429\n",
      "샌드위치 표준점수 : 3.333\n",
      "샌드위치\n"
     ]
    }
   ],
   "source": [
    "'''\n",
    "표준화된 값(z-score)을 계산.\n",
    "표준화된 값은 관측값이 평균으로부터 얼마나 떨어져 있는지를 표준편차 단위로 나타냄\n",
    "'''\n",
    "import numpy as np\n",
    "\n",
    "x_bar, y_bar, s1, s2 = 200, 190, 49**0.5, 36**0.5\n",
    "x,y = 210,210\n",
    "\n",
    "# 햄버거의 표준화된 값(z-score) 계산:\n",
    "z_x = (x - x_bar) / s1\n",
    "\n",
    "# 샌드위치의 표준화된 값(z-score) 계산:\n",
    "z_y = (y - y_bar) / s2\n",
    "\n",
    "print(f'햄버거 표준점수 : {z_x:.3f}')\n",
    "print(f'샌드위치 표준점수 : {z_y:.3f}')\n",
    "\n",
    "if z_x > z_y :print(\"햄버거\")\n",
    "else:print('샌드위치')"
   ]
  },
  {
   "cell_type": "raw",
   "id": "5016662d-9b47-4b48-bb7e-946516ee2c8a",
   "metadata": {},
   "source": [
    "- z-score는 표준화(standardization)의 한 방법\n",
    "\n",
    "- 정규화(normalization)와 표준화(standardization)는 모두 데이터의 스케일을 조정하는 방법이지만, 약간의 차이가 있습니다.\n",
    "    > 정규화와 표준화 모두 데이터의 스케일을 조정하지만, 정규화는 특정 범위로 재조정하는 반면, \n",
    "    > 표준화는 평균을 0, 표준편차를 1로 만드는 방법입니다.\n",
    "\n",
    "\n",
    "> 정규화(normalization)\n",
    "\n",
    "데이터를 특정 범위(예: 0~1 또는 -1~1)로 재조정하는 방법\n",
    "주로 최소-최대 정규화(min-max normalization)나 소프트맥스 함수 등을 사용\n",
    "\n",
    "> 표준화(standardization)\n",
    "\n",
    "데이터의 평균을 0, 표준편차를 1로 만드는 방법\n",
    "z-score 표준화가 대표적인 방법\n",
    "z = (x - μ) / σ\n",
    "\n",
    "z-score 표준화를 적용하면 데이터의 평균이 0, 표준편차가 1이 되어 데이터의 스케일이 조정\n",
    "> 이렇게 하면 특성 간 스케일 차이를 줄일 수 있어 많은 머신러닝 알고리즘에서 성능 향상 기대"
   ]
  },
  {
   "cell_type": "markdown",
   "id": "speaking-nevada",
   "metadata": {},
   "source": [
    "#### 4. 변동계수 = $\\frac{s}{x}$\n",
    "A학교와 B학교 학생들을 대상으로 100명을 추출하여 용돈을 조사하였더니, <br>\n",
    "A학교는 평균 10만원, 표준편차 2만원, B학교는 평균 8만원, 표준편차 1만원으로 나타났다. <br>\n",
    "어느 학교에서 용돈의 격차가 더 심하다고 볼 수 있는가."
   ]
  },
  {
   "cell_type": "code",
   "execution_count": 11,
   "id": "6aebe111-82cb-4f14-83b0-86f964a02892",
   "metadata": {},
   "outputs": [
    {
     "name": "stdout",
     "output_type": "stream",
     "text": [
      "A학교가 용돈의 격차가 더 크다\n"
     ]
    }
   ],
   "source": [
    "'''\n",
    "변동계수(Coefficient of Variation, CV) : 표준편차/평균, 상대적 변동성을 나타냄. \n",
    "변동계수가 클수록 데이터의 산포도가 크다\n",
    "'''\n",
    "\n",
    "A, B, s1, s2, n = 10,8,2,1,100\n",
    "cv_A, cv_B = s1/A, s2/B\n",
    "\n",
    "if cv_A>cv_B:print(\"A학교가 용돈의 격차가 더 크다\")\n",
    "else:print(\"B학교가 용돈의 격차가 더 크다\")"
   ]
  },
  {
   "cell_type": "markdown",
   "id": "current-comfort",
   "metadata": {
    "tags": [],
    "toc-hr-collapsed": true
   },
   "source": [
    "### >>> 확률분포"
   ]
  },
  {
   "cell_type": "markdown",
   "id": "corresponding-hungarian",
   "metadata": {},
   "source": [
    "#### 1. 기대값 X = n * p \n",
    "1. 어느 권총 사격 선수가 과녁의 정중앙을 맞힐 확률이 80%라고 한다. 이 선수가 총 5번 사격을 할 때 평균적으로 몇번 정중앙을 맞히는지 구하시오."
   ]
  },
  {
   "cell_type": "code",
   "execution_count": 20,
   "id": "adfab298-f3b9-4d8b-a58d-833844f0e10e",
   "metadata": {},
   "outputs": [
    {
     "name": "stdout",
     "output_type": "stream",
     "text": [
      "이 선수가 총 5번 사격을 할 때 평균적으로 4번 정중앙을 맞춘다\n"
     ]
    }
   ],
   "source": [
    "p = 0.8\n",
    "n = 5\n",
    "X = n*p\n",
    "print(f'이 선수가 총 5번 사격을 할 때 평균적으로 {X:.0f}번 정중앙을 맞춘다')"
   ]
  },
  {
   "cell_type": "markdown",
   "id": "lyric-bunch",
   "metadata": {},
   "source": [
    "#### 2. 이항분포\n",
    "전체 청소년의 40%가 11시 이전에 잠을 잔다고 한다면, 임의로 선택한 10명의 청소년 중에서 3명이 11시 이전에 잠을 잘 확률을 계산하시오. (소수점 첫째자리까지 반올림)"
   ]
  },
  {
   "cell_type": "code",
   "execution_count": 21,
   "id": "2e7beee0-3f8d-4521-a3fb-de70dd92c2c1",
   "metadata": {},
   "outputs": [
    {
     "name": "stdout",
     "output_type": "stream",
     "text": [
      "임의로 선택한 10명의 청소년 중에서 3명이 11시 이전에 잠을 잘 확률은 0.215 이다\n"
     ]
    }
   ],
   "source": [
    "from scipy.stats import binom\n",
    "\n",
    "p = 0.4\n",
    "n = 10\n",
    "x = 3\n",
    "print(f'임의로 선택한 10명의 청소년 중에서 3명이 11시 이전에 잠을 잘 확률은 {binom.pmf(x,n,p):.3f} 이다')"
   ]
  },
  {
   "cell_type": "markdown",
   "id": "electric-evanescence",
   "metadata": {},
   "source": [
    "#### 3. 푸아송\n",
    "어느 아파트 단지에서 밤 11시부터 새벽2시 사이에 배달되는 음식 배달 건수는 시간 당 평균 5건이다. 음식 배달 건수의 분포가 포아송분포를 따른다면 오늘 새벽 12시와 1시 사이에 배달이 1건만 발생할 확률을 구하시오. (소수점 둘째자리까지 반올림)"
   ]
  },
  {
   "cell_type": "code",
   "execution_count": 2,
   "id": "6310d711-4adc-4600-b290-db70c8455fe2",
   "metadata": {},
   "outputs": [
    {
     "name": "stdout",
     "output_type": "stream",
     "text": [
      "오늘 새벽 12시와 1시 사이에 배달이 1건만 발생할 확률 : 0.034\n"
     ]
    }
   ],
   "source": [
    "from scipy.stats import poisson\n",
    "lamda = 5\n",
    "x = 1\n",
    "res = poisson.pmf(x, lamda)\n",
    "print(f'오늘 새벽 12시와 1시 사이에 배달이 1건만 발생할 확률 : { res:.3f}')"
   ]
  },
  {
   "cell_type": "markdown",
   "id": "behind-soccer",
   "metadata": {},
   "source": [
    "#### 4. 정규분포의 임계값\n",
    "A대학교 B전공 시험의 성적 분포는 평균이 65, 표준편차 12인 정규분포를 따른다고 한다. 최고 점수부터 10%까지를 A+로 분류한다면, A+를 받기 위해 최소 몇점을 받아야 하는가?"
   ]
  },
  {
   "cell_type": "code",
   "execution_count": 24,
   "id": "be44ae89-ea75-430c-ab4e-e9edc1d3d20b",
   "metadata": {},
   "outputs": [
    {
     "name": "stdout",
     "output_type": "stream",
     "text": [
      "A+를 받기 위해 최소 81점을 받아야 한다\n",
      "- 라이브러리:81.0\n"
     ]
    }
   ],
   "source": [
    "from scipy.stats import norm\n",
    "\n",
    "m, sigma = 65, 12\n",
    "alpha = 0.1\n",
    "res = np.ceil(norm.ppf(1-alpha) * sigma + m)\n",
    "print(f'A+를 받기 위해 최소 {res:.0f}점을 받아야 한다')\n",
    "\n",
    "# 라이브러리 사용\n",
    "print(f'- 라이브러리:{np.ceil(norm.ppf(1-alpha, m, sigma))}')"
   ]
  },
  {
   "cell_type": "markdown",
   "id": "engaged-recipe",
   "metadata": {
    "tags": [],
    "toc-hr-collapsed": true
   },
   "source": [
    "### >>> 추정과 가설 검정, 분산분석"
   ]
  },
  {
   "cell_type": "markdown",
   "id": "awful-parish",
   "metadata": {},
   "source": [
    "#### 1. 모표준편차를 알때 모평균의 신뢰구간\n",
    "다음 데이터의 모분산 정보가 없을 때, 다음 데이터의 모평균에 대한 95% 신뢰수준의 신뢰구간을 구하시오. <br>\n",
    "data = [10, 19, 15, 11, 13, 14, 18]<br>\n",
    "또한, 다음 데이터의 모표준편차가 3이라는 것을 알고 있을 때, 다음 데이터의 모평균에 대한 95% 신뢰수준의 신뢰구간을 구하시오."
   ]
  },
  {
   "cell_type": "code",
   "execution_count": 26,
   "id": "f49dc079-7935-4960-82e9-397b89ff0523",
   "metadata": {},
   "outputs": [
    {
     "name": "stdout",
     "output_type": "stream",
     "text": [
      "모표준편차를 모를 때, 모분산의 95% 신뢰구간: [11.19 ~ 17.39]\n",
      "모표준편차를 알 때, 모분산의 95% 신뢰구간: [12.06 ~ 16.51]\n"
     ]
    }
   ],
   "source": [
    "import numpy as np\n",
    "data = np.array([10, 19, 15, 11, 13, 14, 18])\n",
    "X = data.mean()\n",
    "n = data.size\n",
    "df = n-1 \n",
    "alpha = 0.05\n",
    "\n",
    "# 1) 모분산 정보가 없을때\n",
    "s = data.std(ddof=1)\n",
    "se = s / (n**0.5)\n",
    "\n",
    "from scipy.stats import t\n",
    "t_a =  t.ppf(1 - alpha/2, df)\n",
    "confi1 = X - t_a * se, X + t_a * se\n",
    "print(f\"모표준편차를 모를 때, 모분산의 95% 신뢰구간: [{confi1[0]:.2f} ~ {confi1[1]:.2f}]\")\n",
    "\n",
    "# 2) 데이터의 모표준편차가 3이라는 것을 알고 있을 때\n",
    "sigma = 3\n",
    "se = sigma / n** 0.5\n",
    "from scipy.stats import norm\n",
    "z_a = norm.ppf(1-alpha/2)\n",
    "confi2 = X - z_a * se, X + z_a * se\n",
    "print(f\"모표준편차를 알 때, 모분산의 95% 신뢰구간: [{confi2[0]:.2f} ~ {confi2[1]:.2f}]\")"
   ]
  },
  {
   "cell_type": "markdown",
   "id": "extreme-recommendation",
   "metadata": {
    "tags": []
   },
   "source": [
    "#### 2. 표본사이즈\n",
    "어느 제조회사의 불량률이 5%로 알려져 있다면, 95% 신뢰수준에서 오차의 한계가 3%가 되도록하는 최소 표본 사이즈를 구하시오."
   ]
  },
  {
   "cell_type": "code",
   "execution_count": 37,
   "id": "fc779d1c-a403-4485-8175-d88e2968cc3e",
   "metadata": {},
   "outputs": [
    {
     "name": "stdout",
     "output_type": "stream",
     "text": [
      "최소표본의 사이즈는 203개이다\n"
     ]
    }
   ],
   "source": [
    "from scipy.stats import norm\n",
    "'''\n",
    "1 - alpha 의  신뢰구간은 x +/- me 인데\n",
    "문제에서 주어진 d >= me 가 되어야 하기에,\n",
    "\n",
    "me = z * s / n**0.5 로부터\n",
    "d >= z * s / n**0.5 에서\n",
    "n ** 0.5 >= z * s / d\n",
    "n >= (z * s / d ) ** 2 가 나옴\n",
    "'''\n",
    "\n",
    "p = 0.05\n",
    "alpha = 0.05\n",
    "d = 0.03\n",
    "\n",
    "z = norm.ppf(1 - alpha/2)\n",
    "s = (p*(1-p))**0.5\n",
    "\n",
    "res = (z * s / d)**2\n",
    "\n",
    "print('최소표본의 사이즈는 {:.0f}개이다'.format(np.ceil(res)))"
   ]
  },
  {
   "cell_type": "markdown",
   "id": "civic-amateur",
   "metadata": {
    "tags": []
   },
   "source": [
    "#### 3. 모분산의 신뢰구간 추정\n",
    "임의로 추출한 표본 30개의 분산을 계산했더니 50일 때, 신뢰도 95%로 모분산의 신뢰구간을 추정하시오. <br>\n",
    "(소수점 둘째자리까지 반올림)"
   ]
  },
  {
   "cell_type": "code",
   "execution_count": 38,
   "id": "bb067aec-24e5-4ae9-8bd4-ad301ca04be7",
   "metadata": {},
   "outputs": [
    {
     "name": "stdout",
     "output_type": "stream",
     "text": [
      "모분산의 95% 신뢰구간: (31.71, 90.36)\n"
     ]
    }
   ],
   "source": [
    "from scipy.stats import chi2\n",
    "\n",
    "# 주어진값\n",
    "n, v, alpha = 30, 50, 0.05\n",
    "\n",
    "# 자유도 n-1인 카이제곱 분포의 백분위수 계산\n",
    "chi2_lower = chi2.ppf(alpha/2, n-1)\n",
    "chi2_upper = chi2.ppf(1-alpha/2, n-1)\n",
    "\n",
    "# 신뢰구간 계산\n",
    "lower_bound = (n-1)*v / chi2_upper\n",
    "upper_bound = (n-1)*v / chi2_lower\n",
    "\n",
    "print(f\"모분산의 95% 신뢰구간: ({lower_bound:.2f}, {upper_bound:.2f})\")"
   ]
  },
  {
   "cell_type": "markdown",
   "id": "universal-summit",
   "metadata": {
    "tags": []
   },
   "source": [
    "#### 4. 모비율의 신뢰구간 추정\n",
    "\n",
    "어느 뽑기 기계에서 20번 뽑기를 했더니 그 중 5개는 미니카였다. 해당 뽑기 기계에 있는 장난감들 중 미니카의 비율을 P라고 한다면, 모비율 P에 대한 95% 신뢰구간을 구하시오."
   ]
  },
  {
   "cell_type": "markdown",
   "id": "46adad63-3f78-4fa6-93d5-53b423a229c0",
   "metadata": {},
   "source": [
    "> 오답노트: 모비율의 신뢰구간은 정규분포를 따른다"
   ]
  },
  {
   "cell_type": "code",
   "execution_count": 48,
   "id": "57559fb2-5549-4578-9fc8-615dda4b3952",
   "metadata": {},
   "outputs": [
    {
     "name": "stdout",
     "output_type": "stream",
     "text": [
      "모비율 P에 대한 95% 신뢰구간 0.060~0.440\n"
     ]
    }
   ],
   "source": [
    "import numpy as np\n",
    "from scipy.stats import norm\n",
    "\n",
    "x, n = 5, 20\n",
    "p = x/n\n",
    "se = (p * (1-p) / n)**0.5\n",
    "alpha = 0.05\n",
    "\n",
    "z_a = norm.ppf(1 - alpha/2)\n",
    "conf = (p - z_a*se, p + z_a*se)\n",
    "print('모비율 P에 대한 95% 신뢰구간 {:.3f}~{:.3f}'.format(conf[0],conf[1]))"
   ]
  },
  {
   "cell_type": "markdown",
   "id": "western-valuable",
   "metadata": {
    "tags": []
   },
   "source": [
    "#### 5. 모비율의 가설검정\n",
    "A 국가의 성인 남성의 흡연율이 35%라고 발표하였으나 B는 그것보다 더 높은 수치를 예상했다. 이에 성인 남성 중 450명을 임의 추출하여 조사한 결과 180명이 흡연자인 것을 확인하였다. 이에 대하여 귀무가설과 연구가설을 세우고, 검정통계량을 계산하여 검정 결과를 서술하시오. (유의수준 0.05)"
   ]
  },
  {
   "cell_type": "code",
   "execution_count": 46,
   "id": "aa42ffc1-2880-433a-a033-45f57c25d5e4",
   "metadata": {},
   "outputs": [
    {
     "name": "stdout",
     "output_type": "stream",
     "text": [
      "H0: A 국가의 성인 남성의 흡연율이 35% 이다.\n",
      "H1: A 국가의 성인 남성의 흡연율이 35% 보다 높다.\n",
      "\n",
      "검정통계량 : 2.165\n",
      "기각역 : 1.645\n",
      "귀무가설을 기각하고, A 국가의 성인 남성의 흡연율이 35% 보다 높다.\n"
     ]
    }
   ],
   "source": [
    "m = 0.35\n",
    "x, n = 180, 450\n",
    "p = x / n\n",
    "se = (p * (1-p) / n)**0.5\n",
    "alpha = 0.05\n",
    "print('H0: A 국가의 성인 남성의 흡연율이 35% 이다.')\n",
    "print('H1: A 국가의 성인 남성의 흡연율이 35% 보다 높다.\\n')\n",
    "\n",
    "# 단측검증으로 진행, 샘플의 수가 충분히 많으므로 정규분포로 진행\n",
    "from scipy.stats import norm\n",
    "z = (p - m) / se\n",
    "z_a = np.abs(norm.ppf(alpha))\n",
    "\n",
    "print(f'검정통계량 : {z:.3f}')\n",
    "print(f'기각역 : {z_a:.3f}')\n",
    "if z>z_a:print(\"귀무가설을 기각하고, A 국가의 성인 남성의 흡연율이 35% 보다 높다.\")\n",
    "else: print('H0: A 국가의 성인 남성의 흡연율이 35% 이다.')\n"
   ]
  },
  {
   "cell_type": "markdown",
   "id": "atomic-glucose",
   "metadata": {
    "tags": []
   },
   "source": [
    "#### 6. 모분산의 가설검정 : 정리 필요\n",
    "모평균을 모르는 상황에서 표본의 정보를 통해 모분산이 10인지 아닌지 여부를 검정하고자 한다. 50개의 표본을 임의로 추출하여 계산한 결과 표본의 분산은 8.8로 나타났다. 이에 대해 귀무가설과 대립가설을 세우고, 검정통계량을 계산하여 검정 결과를 서술하시오. (유의수준 0.05)"
   ]
  },
  {
   "cell_type": "code",
   "execution_count": 14,
   "id": "c0330a1c-6729-44fd-a349-3ba1e512ce39",
   "metadata": {},
   "outputs": [
    {
     "name": "stdout",
     "output_type": "stream",
     "text": [
      "검정통계량: 43.12\n",
      "기각역: 70.22\n",
      "귀무가설을 기각할 수 없습니다. 모분산이 10일 수 있습니다.\n"
     ]
    }
   ],
   "source": [
    "import numpy as np\n",
    "from scipy.stats import chi2\n",
    "\n",
    "# 주어진 정보\n",
    "n = 50  # 표본 크기\n",
    "sample_var = 8.8  # 표본 분산\n",
    "mu = 10  # 가정된 모분산\n",
    "\n",
    "# 검정통계량 계산\n",
    "test_statistic = (n - 1) * sample_var / mu\n",
    "\n",
    "# 자유도 계산\n",
    "df = n - 1\n",
    "\n",
    "# 유의수준\n",
    "alpha = 0.05\n",
    "\n",
    "# 기각역 계산\n",
    "critical_value = chi2.ppf(1 - alpha / 2, df)\n",
    "\n",
    "# 결과 출력\n",
    "print(f\"검정통계량: {test_statistic:.2f}\")\n",
    "print(f\"기각역: {critical_value:.2f}\")\n",
    "\n",
    "if test_statistic >= critical_value:\n",
    "    print(\"귀무가설을 기각합니다. 모분산이 10이 아닙니다.\")\n",
    "else:\n",
    "    print(\"귀무가설을 기각할 수 없습니다. 모분산이 10일 수 있습니다.\")"
   ]
  },
  {
   "cell_type": "markdown",
   "id": "respected-removal",
   "metadata": {
    "tags": []
   },
   "source": [
    "#### 7. 전후관계 검정\n",
    "50명의 당뇨 환자에 대해 신약 투약 이전과 이후의 평균 혈당 차이가 15, 표준편차 4일 때 투약 전후 평균 혈당의 차이가 존재하는지 확인하고자 한다. 이에 대해 귀무가설과 연구가설을 제시하고, 검정통계량과 유의확률을 구하여 검정 결과를 서술하시오. (유의수준 0.05)"
   ]
  },
  {
   "cell_type": "code",
   "execution_count": 15,
   "id": "d8335a53-d1ad-4540-9a60-f5240c30c85d",
   "metadata": {},
   "outputs": [
    {
     "name": "stdout",
     "output_type": "stream",
     "text": [
      "검정통계량 : 4.560\n",
      "기각역 : 1.677\n",
      "귀무가설을 기각합니다. 신약이 효과가 있다.\n"
     ]
    }
   ],
   "source": [
    "n = 50\n",
    "d = 15\n",
    "s = 4\n",
    "df = n-1\n",
    "\n",
    "'''\n",
    "H1 : 신약이 효과가 있다\n",
    "H0 : 신약이 효과가 없다\n",
    "'''\n",
    "alpha = 0.05\n",
    "test_statistic = d/(s/n**0.05)\n",
    "from scipy.stats import t\n",
    "critical_value = t.ppf(1-alpha,df)\n",
    "print(f'검정통계량 : {test_statistic:.3f}')\n",
    "print(f'기각역 : {critical_value:.3f}')\n",
    "\n",
    "if test_statistic >= critical_value:\n",
    "    print(\"귀무가설을 기각합니다. 신약이 효과가 있다.\")\n",
    "else:\n",
    "    print(\"귀무가설을 기각할 수 없습니다. 신약이 효과가 없다.\")"
   ]
  },
  {
   "cell_type": "markdown",
   "id": "sporting-boston",
   "metadata": {
    "tags": []
   },
   "source": [
    "#### 8. 독립표본 가설검정\n",
    "가수 A에 대한 호감도가 남녀별로 다른지 알아보고자 다음과 같은 데이터를 얻었다. 남녀 별로 지지율에 차이가 있는지 검정하시오. (유의수준 0.05)\n",
    "[남성 (총 100명) 30% 호감    |    여성 (총 180명) 35% 호감]"
   ]
  },
  {
   "cell_type": "code",
   "execution_count": 16,
   "id": "aa8ce6e5-7bfc-45bd-ad10-364544a4626f",
   "metadata": {},
   "outputs": [
    {
     "name": "stdout",
     "output_type": "stream",
     "text": [
      "귀무가설을 기각할 수 없습니다. (검정통계량 = -0.8512, 기각역 = -2.8070)\n",
      "남성과 여성의 가수 A에 대한 호감도 비율에 차이가 없습니다.\n"
     ]
    }
   ],
   "source": [
    "from scipy.stats import norm\n",
    "\n",
    "# 주어진값\n",
    "n1, n2, p1, p2, alpha = 100, 180, 0.3, 0.35, 0.005\n",
    "\n",
    "# 전체 호감도 비율 계산\n",
    "p = (n1*p1 + n2*p2) / (n1 + n2)\n",
    "se =  np.sqrt(p*(1-p) * (1/n1 + 1/n2))\n",
    "\n",
    "# 검정통계량 계산\n",
    "z = (p1 - p2) / se \n",
    "\n",
    "# 기각역 결정\n",
    "z_critical = norm.ppf(1 - alpha/2)  # 양측 검정\n",
    "\n",
    "# 가설 검정\n",
    "if abs(z) > z_critical:\n",
    "    print(f\"귀무가설을 기각합니다. (검정통계량 = {z:.4f}, 기각역 = {-z_critical:.4f})\")\n",
    "    print(\"남성과 여성의 가수 A에 대한 호감도 비율에 차이가 있습니다.\")\n",
    "else:\n",
    "    print(f\"귀무가설을 기각할 수 없습니다. (검정통계량 = {z:.4f}, 기각역 = {-z_critical:.4f})\")\n",
    "    print(\"남성과 여성의 가수 A에 대한 호감도 비율에 차이가 없습니다.\")"
   ]
  },
  {
   "cell_type": "markdown",
   "id": "precious-acrobat",
   "metadata": {
    "tags": []
   },
   "source": [
    "#### 9. 독립된 집단 사이 가설검정 : 샘플의 수 적을 때\n",
    "A 브랜드의 제품 14개를 추출하여 구한 평균과 표준편차는 각각 100g, 5g이고, B 브랜드의 제품 12개를 추출하여 구한 평균과 표준편차는 각각 110g, 6g이라면, 두 제품의 평균이 차이가 있는지 여부를 검정하시오. (유의수준 0.05)"
   ]
  },
  {
   "cell_type": "code",
   "execution_count": 17,
   "id": "c7c63834-c8e7-41d0-8acb-6098fe6e122c",
   "metadata": {},
   "outputs": [
    {
     "name": "stdout",
     "output_type": "stream",
     "text": [
      "귀무가설을 기각합니다. (검정통계량 = -4.3871, 기각역 = -2.0106)\n",
      "남성과 여성의 가수 A에 대한 호감도 비율에 차이가 있습니다.\n"
     ]
    }
   ],
   "source": [
    "from scipy.stats import t\n",
    "\n",
    "n1, n2, a, b, s1, s2 = 14, 12, 100, 110, 5, 6\n",
    "alpha = 0.05\n",
    "\n",
    "# 평균의 차이 여부 검정\n",
    "d = a - b\n",
    "df = n-2\n",
    "\n",
    "se = np.sqrt(s1**2/(n1-1) + s2**2/(n2-1))\n",
    "\n",
    "t_stats = d / se\n",
    "t_critical = t.ppf(1-alpha/2,df)\n",
    "\n",
    "# 가설 검정\n",
    "if abs(t_stats) > t_critical:\n",
    "    print(f\"귀무가설을 기각합니다. (검정통계량 = {t_stats:.4f}, 기각역 = {-t_critical:.4f})\")\n",
    "    print(\"남성과 여성의 가수 A에 대한 호감도 비율에 차이가 있습니다.\")\n",
    "else:\n",
    "    print(f\"귀무가설을 기각할 수 없습니다. (검정통계량 = {t_stats:.4f}, 기각역 = {-t_critical:.4f})\")\n",
    "    print(\"남성과 여성의 가수 A에 대한 호감도 비율에 차이가 없습니다.\")"
   ]
  },
  {
   "cell_type": "markdown",
   "id": "sorted-religion",
   "metadata": {
    "tags": []
   },
   "source": [
    "#### 10. 회귀검정, 사후검정\n",
    "iris target별로 sepal length의 평균에 차이가 있는지 가설검정하시오. 차이가 있다면 어느 target들 사이에 평균 차이가 있는지 사후 검정하시오."
   ]
  },
  {
   "cell_type": "markdown",
   "id": "4b1129d1-cd81-40f6-8db3-7e9e597e055a",
   "metadata": {},
   "source": [
    "1) iris 데이터셋에서 target별로 sepal length의 평균에 차이가 있는지 가설검정을 수행\n",
    "2) 차이가 있다면 어느 target들 사이에 평균 차이가 있는지 사후 검정\n",
    "\n",
    "\n",
    "\n",
    "1. 가설 검정 : 일원분산분석(One-way ANOVA)\n",
    "> 일원분산분석을 통해 세 개의 target 그룹 간 sepal length의 평균 차이를 검정\n",
    "- 귀무가설(H0): 세 개의 target 그룹 간 sepal length의 평균에 차이가 없다.\n",
    "- 대립가설(H1): 적어도 하나의 target 그룹 간 sepal length의 평균에 차이가 있다.\n",
    "\n",
    "\n",
    "2. 사후 검정(Post-hoc test)\n",
    "\n",
    "\n",
    "> 일원분산분석 결과 귀무가설을 기각했다면, 어느 target 그룹 간에 평균 차이가 있는지 확인하기 위해 사후 검정을 수행\n",
    "- Tukey's HSD(Honestly Significant Difference) 검정\n",
    "    - 각 target 그룹 간 sepal length의 평균 차이를 비교하고, 유의한 차이가 있는 그룹을 확인\n"
   ]
  },
  {
   "cell_type": "code",
   "execution_count": 8,
   "id": "948b0e27-8b97-4363-b0b4-22b1e8406539",
   "metadata": {
    "tags": []
   },
   "outputs": [
    {
     "name": "stdout",
     "output_type": "stream",
     "text": [
      "             sum_sq     df           F        PR(>F)\n",
      "target    62.568100    1.0  233.838996  2.890478e-32\n",
      "Residual  39.600233  148.0         NaN           NaN\n",
      "귀무가설을 기각합니다. 적어도 하나의 target 그룹 간 sepal length의 평균에 차이가 있습니다.\n",
      "Multiple Comparison of Means - Tukey HSD, FWER=0.05\n",
      "=================================================\n",
      "group1 group2 meandiff p-adj lower  upper  reject\n",
      "-------------------------------------------------\n",
      "     0      1     0.93   0.0 0.6862 1.1738   True\n",
      "     0      2    1.582   0.0 1.3382 1.8258   True\n",
      "     1      2    0.652   0.0 0.4082 0.8958   True\n",
      "-------------------------------------------------\n"
     ]
    },
    {
     "name": "stderr",
     "output_type": "stream",
     "text": [
      "C:\\Users\\masta\\AppData\\Local\\Temp\\ipykernel_512\\3648802343.py:23: FutureWarning: Series.__getitem__ treating keys as positions is deprecated. In a future version, integer keys will always be treated as labels (consistent with DataFrame behavior). To access a value by position, use `ser.iloc[pos]`\n",
      "  if anova_table['PR(>F)'][0] < alpha:\n"
     ]
    }
   ],
   "source": [
    "from sklearn.datasets import load_iris\n",
    "from statsmodels.stats.multicomp import pairwise_tukeyhsd\n",
    "from scipy.stats import f_oneway\n",
    "from statsmodels.formula.api import ols\n",
    "import statsmodels.api as sm\n",
    "import pandas as pd\n",
    "\n",
    "iris = load_iris()\n",
    "X = iris.data\n",
    "y = iris.target\n",
    "iris = pd.DataFrame(X,columns=iris.feature_names)\n",
    "iris = pd.concat([iris,pd.Series(y, name='target')],axis=1)\n",
    "iris = iris[['sepal length (cm)', 'target']]\n",
    "iris.columns = ['sepal_length', 'target']\n",
    "\n",
    "# 일원분산분석(One-way ANOVA)\n",
    "model = ols('sepal_length ~ target', data=iris).fit()\n",
    "anova_table = sm.stats.anova_lm(model, typ=2)\n",
    "print(anova_table)\n",
    "\n",
    "# 귀무가설 기각 여부 확인\n",
    "alpha = 0.05\n",
    "if anova_table['PR(>F)'][0] < alpha:\n",
    "    print(\"귀무가설을 기각합니다. 적어도 하나의 target 그룹 간 sepal length의 평균에 차이가 있습니다.\")\n",
    "    \n",
    "    # 사후 검정(Tukey's HSD)\n",
    "    tukey = pairwise_tukeyhsd(endog=iris['sepal_length'],\n",
    "                              groups=iris['target'],\n",
    "                              alpha=0.05)\n",
    "    print(tukey)\n",
    "else:\n",
    "    print(\"귀무가설을 기각하지 못합니다. target 그룹 간 sepal length의 평균에 차이가 없습니다.\")"
   ]
  },
  {
   "cell_type": "markdown",
   "id": "elementary-garlic",
   "metadata": {
    "tags": []
   },
   "source": [
    "### >>> 비모수 검정"
   ]
  },
  {
   "cell_type": "markdown",
   "id": "painted-hazard",
   "metadata": {
    "tags": []
   },
   "source": [
    "#### 1. 카이제곱 검정 : 적합도검정\n",
    "아래 그래프는 A,B,C 동별 입주민의 주민대표 찬반 투표 결과를 나타낸다. 동별 찬반 비율이 동일한지 귀무가설과 대립가설을 설정하고, 검정통계량을 계산하여 검정하시오. (유의수준 0.05)\n",
    "|구분|A|B|C|\n",
    "|:-:|:-:|:-:|:-:|\n",
    "|찬성|50|60|65|\n",
    "|반대|45|32|55|"
   ]
  },
  {
   "cell_type": "code",
   "execution_count": 83,
   "id": "275a4318-1469-41c9-9ef9-bac12295062a",
   "metadata": {},
   "outputs": [
    {
     "name": "stdout",
     "output_type": "stream",
     "text": [
      "p_value : 0.160\n",
      "귀무가설을 기각하지 못하고, A,B,C 동별 찬성과 반대의 차이가 있다고 보기 어렵다\n"
     ]
    }
   ],
   "source": [
    "from scipy.stats import chi2_contingency\n",
    "\n",
    "_,p_value,_,_=chi2_contingency(pd.DataFrame({'찬성':\t[50,\t60,\t65], '반대':\t[45,\t32,\t55]}).T)\n",
    "print(f'p_value : {p_value:.3f}')\n",
    "if p_value < 0.05:\n",
    "    print(\"귀무가설을 기각하고, A,B,C 동별 찬성과 반대의 차이가 있다\")\n",
    "else:\n",
    "    print(\"귀무가설을 기각하지 못하고, A,B,C 동별 찬성과 반대의 차이가 있다고 보기 어렵다\")    "
   ]
  },
  {
   "cell_type": "markdown",
   "id": "japanese-destination",
   "metadata": {
    "tags": []
   },
   "source": [
    "#### 2. 대응표본 t-검정\n",
    "특정 캠페인에 노출되기 전과 후의 캠페인 주제에 대한 지지 여부를 기록한 데이터이후의 지지 비율이 차이가 있는지 귀무가설과 대립가설을 설정하고, 검정통계량을 계산하여 검정하시오. (유의수준 0.05)"
   ]
  },
  {
   "cell_type": "code",
   "execution_count": 30,
   "id": "94a4d961-581e-4325-9dd8-b5cc8e95ca85",
   "metadata": {},
   "outputs": [
    {
     "name": "stdout",
     "output_type": "stream",
     "text": [
      "H0: 캠페인 전후의 지지 비율이 차이가 없다\n",
      "H1: 캠페인 전후의 지지 비율이 차이가 있다\n",
      "t-statistic: -0.649\n",
      "p-value: 0.522\n",
      "귀무가설을 기각할 수 없습니다. 캠페인 전후의 지지 비율에 차이가 없습니다.\n"
     ]
    }
   ],
   "source": [
    "from pandas import read_csv\n",
    "from scipy.stats import ttest_rel\n",
    "data = read_csv('https://raw.githubusercontent.com/algoboni/pythoncodebook1-1/main/practice6_ba.csv', index_col=0)\n",
    "print(\"H0: 캠페인 전후의 지지 비율이 차이가 없다\")\n",
    "print(\"H1: 캠페인 전후의 지지 비율이 차이가 있다\")\n",
    "\n",
    "# 대응표본 t-검정\n",
    "t_statistic, p_value = ttest_rel(data['before'], data['after'])\n",
    "\n",
    "# 결과 출력\n",
    "print(f\"t-statistic: {t_statistic:.3f}\")\n",
    "print(f\"p-value: {p_value:.3f}\")\n",
    "\n",
    "# 유의수준 0.05에서 결론\n",
    "alpha = 0.05\n",
    "if p_value < alpha:\n",
    "    print(\"귀무가설을 기각합니다. 캠페인 전후의 지지 비율에 차이가 있습니다.\")\n",
    "else:\n",
    "    print(\"귀무가설을 기각할 수 없습니다. 캠페인 전후의 지지 비율에 차이가 없습니다.\")"
   ]
  },
  {
   "cell_type": "markdown",
   "id": "trained-return",
   "metadata": {},
   "source": [
    "#### 3. 이항검정\n",
    "다음의 T와 F가 무작위로 나열되어 있다고 볼 수 있는지 귀무가설과 대립가설을 설정하고, 검정통계량을 계산하여 검정하시오. (유의수준 0.05)"
   ]
  },
  {
   "cell_type": "code",
   "execution_count": 31,
   "id": "878629c1-9f37-4323-8847-5d1da07438ea",
   "metadata": {},
   "outputs": [
    {
     "name": "stdout",
     "output_type": "stream",
     "text": [
      "T의 개수: 9\n",
      "전체 데이터 개수: 18\n",
      "p-value: 1.0\n",
      "귀무가설을 기각할 수 없다. T와 F가 무작위로 나열\n"
     ]
    }
   ],
   "source": [
    "from scipy.stats import binom_test\n",
    "\n",
    "TFlist = ['T','F','F','T','F','T','F','T','T','F','F','T','F','T','F','T','F','T']\n",
    "\n",
    "# T의 개수 세기\n",
    "x = TFlist.count('T')\n",
    "n = len(TFlist)\n",
    "p = 0.5\n",
    "\n",
    "# 이항검정\n",
    "p_value = binom_test(x, n, p)\n",
    "\n",
    "# 결과 출력\n",
    "print(f\"T의 개수: {x}\")\n",
    "print(f\"전체 데이터 개수: {n}\")\n",
    "print(f\"p-value: {p_value}\")\n",
    "\n",
    "# 유의수준 0.05에서 결론\n",
    "alpha = 0.05\n",
    "if p_value < alpha:\n",
    "    print(\"귀무가설을 기각, T와 F가 무작위로 나열되어 있지 않다.\")\n",
    "else:\n",
    "    print(\"귀무가설을 기각할 수 없다. T와 F가 무작위로 나열\")"
   ]
  },
  {
   "cell_type": "markdown",
   "id": "circular-invention",
   "metadata": {},
   "source": [
    "#### 4. 독립표본 t검정\n",
    "20대보다 30대가 기대하는 연봉상승률이 더 높다는 주장이 있다. 이 주장이 타당한지를 확인해보기 위해서 20대 10명과 30대 8명을 임의로 추출하여 기대하는 연봉상승률을 다음과 같이 정리하였다. 이 주장을 검정하기 위한 귀무가설과 대립가설을 설정하고, 검정통계량을 계산하여 검정하시오. (유의수준 0.05)"
   ]
  },
  {
   "cell_type": "markdown",
   "id": "7a344503-9e28-4ac3-b5ad-4a07c8d787c3",
   "metadata": {},
   "source": [
    "- 샘플의 수가 다른 두 집단을 비교하고자 함\n",
    "- 두 독립집단의 가설검정"
   ]
  },
  {
   "cell_type": "code",
   "execution_count": 82,
   "id": "41174110-03c6-4706-92a5-adba926e593f",
   "metadata": {},
   "outputs": [
    {
     "name": "stdout",
     "output_type": "stream",
     "text": [
      "20대 평균: 2.82\n",
      "30대 평균: 5.31\n",
      "검정통계량: -2.5105\n",
      "p-value: 0.0157\n",
      "귀무가설을 기각합니다. 30대의 기대 연봉상승률이 20대보다 높습니다.\n"
     ]
    }
   ],
   "source": [
    "from scipy.stats import ttest_ind\n",
    "# 독립표본 t-검정\n",
    "\n",
    "A = np.array([3.0, 3.5, 2.0, 2.8, 5.0, 0, 2.3, 2.8, 3.3, 3.5])  # 20대\n",
    "B = np.array([3.5, 5.5, 5.0, 5.0, 10.0, 8.0, 2.5, 3.0])  # 30대\n",
    "\n",
    "t_statistic, p_value = ttest_ind(A, B, equal_var=False, alternative='less') # 20대가 작으므로 less\n",
    "\n",
    "# 결과 출력\n",
    "print(f\"20대 평균: {np.mean(A):.2f}\")\n",
    "print(f\"30대 평균: {np.mean(B):.2f}\")\n",
    "print(f\"검정통계량: {t_statistic:.4f}\")\n",
    "print(f\"p-value: {p_value:.4f}\")\n",
    "\n",
    "# 유의수준 0.05에서 결론\n",
    "alpha = 0.05\n",
    "if p_value < alpha:\n",
    "    print(\"귀무가설을 기각합니다. 30대의 기대 연봉상승률이 20대보다 높습니다.\")\n",
    "else:\n",
    "    print(\"귀무가설을 기각할 수 없습니다. 20대와 30대의 기대 연봉상승률에 차이가 없습니다.\")"
   ]
  },
  {
   "cell_type": "code",
   "execution_count": 33,
   "id": "51b73ae2-76c0-4ab6-8322-88e5f80eeaaf",
   "metadata": {},
   "outputs": [
    {
     "name": "stdout",
     "output_type": "stream",
     "text": [
      "H0: 20대와 30대의 기대 연봉상승률에 차이가 없다\n",
      "H1: 30대의 기대 연봉상승률이 20대보다 높다\n",
      "t_stats: 2.510\n",
      "t_critical: 1.816\n",
      "H1: 30대의 기대 연봉상승률이 20대보다 높습니다.\n"
     ]
    }
   ],
   "source": [
    "import numpy as np\n",
    "from scipy.stats import t\n",
    "\n",
    "A = np.array([3.0, 3.5, 2.0, 2.8, 5.0, 0, 2.3, 2.8, 3.3, 3.5])  # 20대\n",
    "B = np.array([3.5, 5.5, 5.0, 5.0, 10.0, 8.0, 2.5, 3.0])  # 30대\n",
    "\n",
    "n1, n2 = A.size, B.size\n",
    "a, b = A.mean(), B.mean()\n",
    "s1, s2 = A.std(ddof=1), B.std(ddof=1)\n",
    "\n",
    "print(\"H0: 20대와 30대의 기대 연봉상승률에 차이가 없다\")\n",
    "print(\"H1: 30대의 기대 연봉상승률이 20대보다 높다\")\n",
    "alpha = 0.05\n",
    "\n",
    "df = (s1**2/n1 + s2**2/n2)**2 / ((s1**2/n1)**2/(n1-1) + (s2**2/n2)**2/(n2-1))\n",
    "se = np.sqrt(s1**2/n1 + s2**2/n2)\n",
    "t_stats = (b - a) / se\n",
    "t_critical = t.ppf(1 - alpha, df)\n",
    "\n",
    "print(f't_stats: {t_stats:.3f}')\n",
    "print(f't_critical: {t_critical:.3f}')\n",
    "\n",
    "if t_stats > t_critical:\n",
    "    print(\"H1: 30대의 기대 연봉상승률이 20대보다 높습니다.\")\n",
    "else:\n",
    "    print(\"H0: 20대와 30대의 기대 연봉상승률에 차이가 없습니다.\")"
   ]
  },
  {
   "cell_type": "markdown",
   "id": "excessive-career",
   "metadata": {
    "tags": []
   },
   "source": [
    "#### 5. 프리드만 검정\n",
    "양식, 한식, 중식에 대해 5명의 선호도를 나타내는 표이다. 선호하지 않는다를 1, 보통이다를 2, 선호한다를 3으로 응답하였다. 음식 종류에 따라 선호도 차이가 있는지 귀무가설과 대립가설을 설정하고, 검정통계량을 계산하여 검정하시오. (유의수준 0.05)"
   ]
  },
  {
   "cell_type": "markdown",
   "id": "133e915f-a376-4a91-a433-5d2ed4e73cbd",
   "metadata": {},
   "source": [
    "> 음식 종류에 따른 선호도 차이를 검정\n",
    "\n",
    "- 귀무가설(H0): 음식 종류에 따른 선호도 차이가 없다.\n",
    "- 대립가설(H1): 음식 종류에 따른 선호도 차이가 있다.\n",
    "\n",
    "```\n",
    "표본 크기가 같은 세 개 이상의 대응표본에 대한 평균 차이 검정 :\n",
    "프리드만 검정 사용\n",
    "```"
   ]
  },
  {
   "cell_type": "code",
   "execution_count": 35,
   "id": "6ba1394b-ebe5-4e00-98d0-56ba875e4097",
   "metadata": {},
   "outputs": [
    {
     "name": "stdout",
     "output_type": "stream",
     "text": [
      "검정통계량: 2.667\n",
      "p-value: 0.264\n",
      "귀무가설을 기각할 수 없습니다. 음식 종류에 따른 선호도 차이가 없습니다.\n"
     ]
    }
   ],
   "source": [
    "W = [1,3,1,3,1] # 양식\n",
    "K = [1,3,3,1,1] # 한식\n",
    "C = [2,3,3,3,1] # 중식\n",
    "\n",
    "import pandas as pd\n",
    "from scipy.stats import friedmanchisquare\n",
    "\n",
    "data = pd.DataFrame({'W':W,\n",
    "                     'K':K,\n",
    "                     'C':C})\n",
    "\n",
    "# 프리드만 검정\n",
    "statistic, p_value = friedmanchisquare(*data.values.T)\n",
    "\n",
    "# 결과 출력\n",
    "print(f\"검정통계량: {statistic:.3f}\")\n",
    "print(f\"p-value: {p_value:.3f}\")\n",
    "\n",
    "# 유의수준 0.05에서 결론\n",
    "alpha = 0.05\n",
    "if p_value < alpha:\n",
    "    print(\"귀무가설을 기각합니다. 음식 종류에 따른 선호도 차이가 있습니다.\")\n",
    "else:\n",
    "    print(\"귀무가설을 기각할 수 없습니다. 음식 종류에 따른 선호도 차이가 없습니다.\")\n"
   ]
  },
  {
   "cell_type": "markdown",
   "id": "under-joseph",
   "metadata": {},
   "source": [
    "#### 6. 크루스칼왈리스 검정\n",
    "A, B, C 지역 학생들의 키가 차이가 있는지 검정하기 위한 귀무가설과 대립가설을 설정하고, 검정통계량을 계산하여 검정하시오. (유의수준 0.05)"
   ]
  },
  {
   "cell_type": "markdown",
   "id": "4b533857-e7f8-4894-9635-5477049d94ec",
   "metadata": {},
   "source": [
    "> 세 지역(A, B, C) 학생들의 키 차이를 검정\n",
    "\n",
    "- 귀무가설(H0): 세 지역 학생들의 키 분포에 차이가 없다.\n",
    "- 대립가설(H1): 세 지역 학생들의 키 분포에 차이가 있다.\n",
    "```\n",
    "세 개 이상의 독립된 표본에 대한 평균 차이를 검정하는 비모수 검정 : \n",
    "크루스칼-왈리스 검정 사용\n",
    "```"
   ]
  },
  {
   "cell_type": "code",
   "execution_count": 36,
   "id": "08050ce3-ad6a-4815-a6fb-2ca0b777cd9a",
   "metadata": {},
   "outputs": [
    {
     "name": "stdout",
     "output_type": "stream",
     "text": [
      "검정통계량: 1.331\n",
      "p-value: 0.514\n",
      "귀무가설을 기각할 수 없습니다. 음식 종류에 따른 선호도 차이가 없습니다.\n"
     ]
    }
   ],
   "source": [
    "A = [177, 167, 188, 189, 152, 159, 184, 175]\n",
    "B = [151, 177, 150, 187, 167, 166, 179, 161, 174]\n",
    "C = [173, 151, 156, 182, 188, 175, 150, 165, 176, 183]\n",
    "\n",
    "from scipy.stats import kruskal\n",
    "\n",
    "# 크루스칼-왈리스 검정\n",
    "statistic, p_value = kruskal(A, B, C)\n",
    "\n",
    "# 결과 출력\n",
    "print(f\"검정통계량: {statistic:.3f}\")\n",
    "print(f\"p-value: {p_value:.3f}\")\n",
    "\n",
    "# 유의수준 0.05에서 결론\n",
    "alpha = 0.05\n",
    "if p_value < alpha:\n",
    "    print(\"귀무가설을 기각합니다. 음식 종류에 따른 선호도 차이가 있습니다.\")\n",
    "else:\n",
    "    print(\"귀무가설을 기각할 수 없습니다. 음식 종류에 따른 선호도 차이가 없습니다.\")"
   ]
  },
  {
   "cell_type": "markdown",
   "id": "elementary-minneapolis",
   "metadata": {},
   "source": [
    "## [기출문제]\n",
    "- ADP 29회 기출 (https://www.datamanim.com/dataset/ADPpb/00/29.html)"
   ]
  },
  {
   "cell_type": "markdown",
   "id": "brave-ordering",
   "metadata": {},
   "source": [
    "### 1. 이항분포\n",
    "제품 A의 불량률은 0.03이다. 25개의 제품을 뽑았을 때 3개가 불량일 확률을 구하시오. (소수점 다섯 째 자리에서 반올림)"
   ]
  },
  {
   "cell_type": "code",
   "execution_count": 37,
   "id": "be319e94-80df-4edd-9c7a-9dc02552a9b2",
   "metadata": {},
   "outputs": [
    {
     "name": "stdout",
     "output_type": "stream",
     "text": [
      "0.03177\n"
     ]
    }
   ],
   "source": [
    "# 이항분포로 푼다\n",
    "from scipy.stats import binom\n",
    "x, n, p = 3, 25, 0.03\n",
    "print(f'{binom.pmf(x, n, p):.5f}')"
   ]
  },
  {
   "cell_type": "code",
   "execution_count": 38,
   "id": "aa98c92a-2c23-45cb-b0e4-073b05bb459a",
   "metadata": {},
   "outputs": [
    {
     "name": "stdout",
     "output_type": "stream",
     "text": [
      "0.03177\n"
     ]
    }
   ],
   "source": [
    "from math import comb\n",
    "\n",
    "n = 25  \n",
    "k = 3   \n",
    "p = 0.03  \n",
    "\n",
    "# 이항분포 PMF 계산\n",
    "pmf = comb(n, k) * (p**k) * ((1-p)**(n-k))\n",
    "\n",
    "print(round(pmf, 5))"
   ]
  },
  {
   "cell_type": "markdown",
   "id": "headed-blackjack",
   "metadata": {},
   "source": [
    "### 2. 정규분포의 검증\n",
    "C사 생산 제품 1000개 중 양품이 600개, D사 생산 제품 500개 중 양품이 200개 이다. 두 회사의 양품률에 차이가 있는지 검정하여라."
   ]
  },
  {
   "cell_type": "markdown",
   "id": "6485b80b-5040-4cc2-91ee-955f6690a7a6",
   "metadata": {},
   "source": [
    "- 정규분포 가정을 통해, 양품률의 차이를 유의수준 0.05 수준으로 검증"
   ]
  },
  {
   "cell_type": "code",
   "execution_count": 39,
   "id": "992295a6-2285-41f5-9f11-7328e25eb4fc",
   "metadata": {},
   "outputs": [
    {
     "name": "stdout",
     "output_type": "stream",
     "text": [
      "두 제품의 양품률에 차이가 없다\n"
     ]
    }
   ],
   "source": [
    "from scipy.stats import norm\n",
    "c, d, c_t, d_t = 600, 200, 1000, 500\n",
    "p1, p2 = c/c_t, d/d_t # 양품률\n",
    "p = (c+d) / (c_t+d_t)\n",
    "se = np.sqrt(p*(1-p)*(1/c_t+1/d_t))\n",
    "z_stats =(p1-p2)/se # 검정통계량\n",
    "p_value = (1- norm.cdf(z_stats))*2\n",
    "if p_value < 0.05: \n",
    "    print('두 제품의 양품률에 차이가 없다')\n",
    "else : \n",
    "    print('두 제품의 양품률에 차이가 있다')"
   ]
  },
  {
   "cell_type": "markdown",
   "id": "round-privacy",
   "metadata": {},
   "source": [
    "### 3-1. 일원배치 분산분석\n",
    "각 차종 별 범퍼 파손의 정도에 차이가 유의한지 검정하라.\n",
    "- 데이터 설명 : 아래 데이터는 a,b,c,d 네 차종 각각 5회 실험귀무가설을 채택한다면 그 의미를 해석하고, 귀무가설을 기각하였다면 사후분석을 시행하라.\n",
    "  (단, 각 모집단은 정규분포를 따르며 모집단 간 등분산성을 가정한다.)"
   ]
  },
  {
   "cell_type": "code",
   "execution_count": 1,
   "id": "02848c32-607e-4d27-ad06-8f2b69a34bc3",
   "metadata": {},
   "outputs": [
    {
     "name": "stdout",
     "output_type": "stream",
     "text": [
      "F 통계량: 24.9770\n",
      "p-값: 0.0000\n",
      "귀무가설을 기각합니다. 적어도 하나의 차종 범퍼 파손 정도 평균이 다릅니다.\n"
     ]
    }
   ],
   "source": [
    "import pandas as pd\n",
    "import numpy as np\n",
    "from scipy.stats import f_oneway\n",
    "\n",
    "df = pd.read_csv('https://raw.githubusercontent.com/Datamanim/datarepo/main/adp/29/p7.csv')\n",
    "\n",
    "# 일원배치 분산분석 수행\n",
    "f_statistic, p_value = f_oneway(*[df.loc[df['name']==name,'ratio'].values for name in df.name.unique()])\n",
    "\n",
    "# 결과 출력\n",
    "print(f\"F 통계량: {f_statistic:.4f}\")\n",
    "print(f\"p-값: {p_value:.4f}\")\n",
    "\n",
    "# 결과 해석\n",
    "alpha = 0.05  # 유의수준\n",
    "if p_value < alpha:\n",
    "    print(\"귀무가설을 기각합니다. 적어도 하나의 차종 범퍼 파손 정도 평균이 다릅니다.\")\n",
    "else:\n",
    "    print(\"귀무가설을 기각할 수 없습니다. 차종 간 범퍼 파손 정도 평균에 유의한 차이가 없습니다.\")"
   ]
  },
  {
   "cell_type": "markdown",
   "id": "reserved-notion",
   "metadata": {},
   "source": [
    "### 3-2. 사후분석 Tukey's HSD\n",
    "귀무가설을 채택한다면 그 의미를 해석하고, 귀무가설을 기각하였다면 사후분석을 시행하라."
   ]
  },
  {
   "cell_type": "markdown",
   "id": "0683311e-ca15-4daa-beac-72f4aa74d0d6",
   "metadata": {},
   "source": [
    "- 귀무가설을 기각하여 차종 간 범퍼 파손 정도에 유의한 차이가 있다고 판단되었으므로, \n",
    "- Tukey's HSD(Honestly Significant Difference) 으로 사후분석 진행\n"
   ]
  },
  {
   "cell_type": "code",
   "execution_count": 2,
   "id": "0cbe7e18-09b3-4c1b-aa27-a473307f2bc1",
   "metadata": {},
   "outputs": [
    {
     "name": "stdout",
     "output_type": "stream",
     "text": [
      "\n",
      "Tukey's HSD 사후분석 결과:\n",
      " Multiple Comparison of Means - Tukey HSD, FWER=0.05 \n",
      "=====================================================\n",
      "group1 group2 meandiff p-adj   lower    upper  reject\n",
      "-----------------------------------------------------\n",
      "     A      B   5.3934  0.001   2.1785  8.6083   True\n",
      "     A      C  -4.2156 0.0085  -7.4305 -1.0007   True\n",
      "     A      D  -0.7086 0.9207  -3.9235  2.5063  False\n",
      "     B      C   -9.609    0.0 -12.8239 -6.3941   True\n",
      "     B      D   -6.102 0.0003  -9.3169 -2.8871   True\n",
      "     C      D    3.507 0.0302   0.2921  6.7219   True\n",
      "-----------------------------------------------------\n"
     ]
    },
    {
     "data": {
      "image/png": "[encoded data removed]",
      "text/plain": [
       "<Figure size 1000x600 with 1 Axes>"
      ]
     },
     "metadata": {},
     "output_type": "display_data"
    }
   ],
   "source": [
    "from statsmodels.stats.multicomp import pairwise_tukeyhsd\n",
    "import matplotlib.pyplot as plt\n",
    "\n",
    "# 사후분석 (Tukey's HSD)\n",
    "tukey_results = pairwise_tukeyhsd(df['ratio'], df['name'], alpha=0.05)\n",
    "print('\\nTukey\\'s HSD 사후분석 결과:')\n",
    "\n",
    "print(tukey_results)\n",
    "tukey_results.plot_simultaneous()\n",
    "plt.show()"
   ]
  },
  {
   "cell_type": "markdown",
   "id": "321ddf27-2b30-4f92-b26c-0769e7a01230",
   "metadata": {},
   "source": [
    "- 일원배치 분산분석으로 p-value가 0.05 미만으로 귀무가설을 기각하고 사후분석을 진행\n",
    "\n",
    "사후분석에서는 MultiComparison 클래스 인스턴스 생성, tukeyhsd 메소드를 호출하여 Tukey's HSD 결과 생성\n",
    "\n",
    "- 'group1'과 'group2':  비교 대상이 되는 차종\n",
    "- 'meandiff' : 두 차종 간 평균 차이\n",
    "- 'p-adj'는 조정된 p-value, 'lower'와 'upper'는 평균 차이의 신뢰구간을 나타냅니다. 'reject' 열에서 True는 두 차종 간 유의한 차이가 있음을, False는 유의한 차이가 없음을 의미합니다.\n",
    "\n",
    "따라서 이 결과를 통해 어떤 차종 간에 범퍼 파손 정도의 유의한 차이가 있는지 확인"
   ]
  },
  {
   "cell_type": "markdown",
   "id": "portable-brazilian",
   "metadata": {},
   "source": [
    "### 4. 불량률 계산\n",
    "\n",
    "L1,L2,L3 세 개의 생산라인에서 각각 13%, 37%, 50%를 생산하며 각각 1.1% , 2.1%, 3.3% 불량률을 갖는다. 불량 제품이 나왔을 때 L1 라인에서 생산되었을 확률을 구하시오. (소수점 둘째자리에서 반올림)"
   ]
  },
  {
   "cell_type": "code",
   "execution_count": 79,
   "id": "1cc8889f-92f4-483a-8e5c-eabaf4bb045c",
   "metadata": {},
   "outputs": [
    {
     "name": "stdout",
     "output_type": "stream",
     "text": [
      "불량제품이 나왔을 때 L1라인에서 생산되었을 확률은 0.056이다\n"
     ]
    }
   ],
   "source": [
    "l1,l2,l3,p1,p2,p3 = 0.13, 0.37, 0.50, 0.011 , 0.021, 0.033 # 주어진 데이터\n",
    "x1,x2,x3 = l1*p1, l2*p2, l3*p3 # 각각의 공정에서 불량률이 나올 확률을 구한다\n",
    "x_t = (x1+x2+x3) # 전체 불량률\n",
    "res = x1/x_t # l1라인의 불량률 / 전체 불량률\n",
    "print(f'불량제품이 나왔을 때 L1라인에서 생산되었을 확률은 {res:.3f}이다')"
   ]
  }
 ],
 "metadata": {
  "kernelspec": {
   "display_name": "qt",
   "language": "python",
   "name": "qt"
  },
  "language_info": {
   "codemirror_mode": {
    "name": "ipython",
    "version": 3
   },
   "file_extension": ".py",
   "mimetype": "text/x-python",
   "name": "python",
   "nbconvert_exporter": "python",
   "pygments_lexer": "ipython3",
   "version": "3.10.13"
  }
 },
 "nbformat": 4,
 "nbformat_minor": 5
}
