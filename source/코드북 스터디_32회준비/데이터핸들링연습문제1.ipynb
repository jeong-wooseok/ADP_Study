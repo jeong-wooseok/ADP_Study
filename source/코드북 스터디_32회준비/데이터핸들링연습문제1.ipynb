{
 "cells": [
  {
   "cell_type": "markdown",
   "id": "israeli-calculator",
   "metadata": {},
   "source": [
    "# 데이터 핸들링 연습문제 1 (리스트와 문자열)"
   ]
  },
  {
   "cell_type": "markdown",
   "id": "mathematical-drawing",
   "metadata": {},
   "source": [
    "### 1. 7개의 요일(ex: Monday, ...)을 요소로 갖는 리스트를 생성하고 days1이라는 변수에 담아 출력하시오."
   ]
  },
  {
   "cell_type": "code",
   "execution_count": 18,
   "id": "greater-choice",
   "metadata": {},
   "outputs": [
    {
     "data": {
      "text/plain": [
       "['Monday', 'Tuesday', 'Wednesday', 'Thursday', 'Friday', 'Saturday', 'Sunday']"
      ]
     },
     "execution_count": 18,
     "metadata": {},
     "output_type": "execute_result"
    }
   ],
   "source": [
    "import pandas as pd\n",
    "df= pd.DataFrame()\n",
    "df['date'] = pd.date_range('1/1/2001',periods=7,freq='d')\n",
    "days1 = df['date'].dt.day_name().values.tolist()\n",
    "days1"
   ]
  },
  {
   "cell_type": "markdown",
   "id": "excited-infrared",
   "metadata": {},
   "source": [
    "### 2. 리스트 days1의 각 요소에서 'day'를 삭제한 값을 요소로 갖는 리스트 days2를 출력하시오."
   ]
  },
  {
   "cell_type": "code",
   "execution_count": 19,
   "id": "induced-stake",
   "metadata": {},
   "outputs": [
    {
     "data": {
      "text/plain": [
       "['Mon', 'Tues', 'Wednes', 'Thurs', 'Fri', 'Satur', 'Sun']"
      ]
     },
     "execution_count": 19,
     "metadata": {},
     "output_type": "execute_result"
    }
   ],
   "source": [
    "days2 = [day[:-3] for day in days1]\n",
    "days2"
   ]
  },
  {
   "cell_type": "markdown",
   "id": "august-violin",
   "metadata": {},
   "source": [
    "### 3. 리스트 days1의 각 요소의 앞 세음절을 대문자로 변경한 값을 요소로 갖는 리스트 days3를 출력하시오."
   ]
  },
  {
   "cell_type": "code",
   "execution_count": 21,
   "id": "written-aerospace",
   "metadata": {},
   "outputs": [
    {
     "data": {
      "text/plain": [
       "['MON', 'TUE', 'WED', 'THU', 'FRI', 'SAT', 'SUN']"
      ]
     },
     "execution_count": 21,
     "metadata": {},
     "output_type": "execute_result"
    }
   ],
   "source": [
    "days3 = [day[:3].upper() for day in days1]\n",
    "days3"
   ]
  },
  {
   "cell_type": "markdown",
   "id": "animated-passing",
   "metadata": {},
   "source": [
    "### - 4. 리스트 days1에 days2와 days3의 요소를 추가하여 리스트 days를 생성하고 출력하시오."
   ]
  },
  {
   "cell_type": "code",
   "execution_count": 23,
   "id": "mexican-assembly",
   "metadata": {},
   "outputs": [
    {
     "data": {
      "text/plain": [
       "['Monday',\n",
       " 'Tuesday',\n",
       " 'Wednesday',\n",
       " 'Thursday',\n",
       " 'Friday',\n",
       " 'Saturday',\n",
       " 'Sunday',\n",
       " 'Mon',\n",
       " 'Tues',\n",
       " 'Wednes',\n",
       " 'Thurs',\n",
       " 'Fri',\n",
       " 'Satur',\n",
       " 'Sun',\n",
       " 'MON',\n",
       " 'TUE',\n",
       " 'WED',\n",
       " 'THU',\n",
       " 'FRI',\n",
       " 'SAT',\n",
       " 'SUN']"
      ]
     },
     "execution_count": 23,
     "metadata": {},
     "output_type": "execute_result"
    }
   ],
   "source": [
    "days = days1+days2+days3\n",
    "days"
   ]
  },
  {
   "cell_type": "markdown",
   "id": "wireless-factory",
   "metadata": {},
   "source": [
    "### - 5. 리스트 days의 요소들을 하나의 문자열로 변환하여 string이라는 변수에 담아 출력하시오. (요소들 사이에는 분할문자나 공백이 없도록 연결할 것)"
   ]
  },
  {
   "cell_type": "code",
   "execution_count": 25,
   "id": "typical-dayton",
   "metadata": {},
   "outputs": [
    {
     "data": {
      "text/plain": [
       "'MondayTuesdayWednesdayThursdayFridaySaturdaySundayMonTuesWednesThursFriSaturSunMONTUEWEDTHUFRISATSUN'"
      ]
     },
     "execution_count": 25,
     "metadata": {},
     "output_type": "execute_result"
    }
   ],
   "source": [
    "string = ''.join(days)\n",
    "string"
   ]
  },
  {
   "cell_type": "markdown",
   "id": "satisfactory-superior",
   "metadata": {},
   "source": [
    "### - 6. 문자열 string을 알파벳 한 글자 단위로 분할하는 리스트 alphabets를 생성하고 이 리스트의 요소와 크기를 출력하시오."
   ]
  },
  {
   "cell_type": "code",
   "execution_count": 32,
   "id": "armed-stadium",
   "metadata": {},
   "outputs": [
    {
     "name": "stdout",
     "output_type": "stream",
     "text": [
      "['M', 'o', 'n', 'd', 'a', 'y', 'T', 'u', 'e', 's', 'd', 'a', 'y', 'W', 'e', 'd', 'n', 'e', 's', 'd', 'a', 'y', 'T', 'h', 'u', 'r', 's', 'd', 'a', 'y', 'F', 'r', 'i', 'd', 'a', 'y', 'S', 'a', 't', 'u', 'r', 'd', 'a', 'y', 'S', 'u', 'n', 'd', 'a', 'y', 'M', 'o', 'n', 'T', 'u', 'e', 's', 'W', 'e', 'd', 'n', 'e', 's', 'T', 'h', 'u', 'r', 's', 'F', 'r', 'i', 'S', 'a', 't', 'u', 'r', 'S', 'u', 'n', 'M', 'O', 'N', 'T', 'U', 'E', 'W', 'E', 'D', 'T', 'H', 'U', 'F', 'R', 'I', 'S', 'A', 'T', 'S', 'U', 'N'] 100\n"
     ]
    }
   ],
   "source": [
    "alphabets = [string[s] for s in range(len(string))]\n",
    "print(alphabets, len(alphabets))"
   ]
  },
  {
   "cell_type": "markdown",
   "id": "unsigned-coordination",
   "metadata": {},
   "source": [
    "### - 7. 리스트 alphabets의 요소 중, 'a'가 몇개인지 출력하시오."
   ]
  },
  {
   "cell_type": "code",
   "execution_count": 33,
   "id": "transparent-talent",
   "metadata": {},
   "outputs": [
    {
     "data": {
      "text/plain": [
       "9"
      ]
     },
     "execution_count": 33,
     "metadata": {},
     "output_type": "execute_result"
    }
   ],
   "source": [
    "res = []\n",
    "for i in alphabets:\n",
    "    if i =='a':res.append(i)\n",
    "len(res)"
   ]
  },
  {
   "cell_type": "markdown",
   "id": "extended-ancient",
   "metadata": {},
   "source": [
    "### - 8. 리스트 alphabets의 요소를 오름차순으로 정렬하고, 리스트를 출력하시오."
   ]
  },
  {
   "cell_type": "code",
   "execution_count": 36,
   "id": "divided-certification",
   "metadata": {
    "collapsed": true,
    "jupyter": {
     "outputs_hidden": true
    },
    "tags": []
   },
   "outputs": [
    {
     "data": {
      "text/plain": [
       "['A',\n",
       " 'D',\n",
       " 'E',\n",
       " 'E',\n",
       " 'F',\n",
       " 'F',\n",
       " 'F',\n",
       " 'H',\n",
       " 'I',\n",
       " 'M',\n",
       " 'M',\n",
       " 'M',\n",
       " 'N',\n",
       " 'N',\n",
       " 'O',\n",
       " 'R',\n",
       " 'S',\n",
       " 'S',\n",
       " 'S',\n",
       " 'S',\n",
       " 'S',\n",
       " 'S',\n",
       " 'T',\n",
       " 'T',\n",
       " 'T',\n",
       " 'T',\n",
       " 'T',\n",
       " 'T',\n",
       " 'T',\n",
       " 'U',\n",
       " 'U',\n",
       " 'U',\n",
       " 'W',\n",
       " 'W',\n",
       " 'W',\n",
       " 'a',\n",
       " 'a',\n",
       " 'a',\n",
       " 'a',\n",
       " 'a',\n",
       " 'a',\n",
       " 'a',\n",
       " 'a',\n",
       " 'a',\n",
       " 'd',\n",
       " 'd',\n",
       " 'd',\n",
       " 'd',\n",
       " 'd',\n",
       " 'd',\n",
       " 'd',\n",
       " 'd',\n",
       " 'd',\n",
       " 'e',\n",
       " 'e',\n",
       " 'e',\n",
       " 'e',\n",
       " 'e',\n",
       " 'e',\n",
       " 'h',\n",
       " 'h',\n",
       " 'i',\n",
       " 'i',\n",
       " 'n',\n",
       " 'n',\n",
       " 'n',\n",
       " 'n',\n",
       " 'n',\n",
       " 'n',\n",
       " 'o',\n",
       " 'o',\n",
       " 'r',\n",
       " 'r',\n",
       " 'r',\n",
       " 'r',\n",
       " 'r',\n",
       " 'r',\n",
       " 's',\n",
       " 's',\n",
       " 's',\n",
       " 's',\n",
       " 's',\n",
       " 's',\n",
       " 't',\n",
       " 't',\n",
       " 'u',\n",
       " 'u',\n",
       " 'u',\n",
       " 'u',\n",
       " 'u',\n",
       " 'u',\n",
       " 'u',\n",
       " 'u',\n",
       " 'y',\n",
       " 'y',\n",
       " 'y',\n",
       " 'y',\n",
       " 'y',\n",
       " 'y',\n",
       " 'y']"
      ]
     },
     "execution_count": 36,
     "metadata": {},
     "output_type": "execute_result"
    }
   ],
   "source": [
    "alphabets.sort\n",
    "alphabets"
   ]
  },
  {
   "cell_type": "markdown",
   "id": "other-planning",
   "metadata": {},
   "source": [
    "### - 9. 정렬된 리스트 alphabets의 요소 중, 'a'의 첫번째 인덱스를 출력하시오."
   ]
  },
  {
   "cell_type": "code",
   "execution_count": 43,
   "id": "bearing-fountain",
   "metadata": {},
   "outputs": [
    {
     "data": {
      "text/plain": [
       "35"
      ]
     },
     "execution_count": 43,
     "metadata": {},
     "output_type": "execute_result"
    }
   ],
   "source": [
    "a_idxs=[]\n",
    "for i, e in enumerate(alphabets):\n",
    "    if e=='a':\n",
    "        a_idxs.append(i)\n",
    "a_idxs[0]"
   ]
  },
  {
   "cell_type": "markdown",
   "id": "academic-beijing",
   "metadata": {},
   "source": [
    "### - 10. 정렬된 리스트 alphabets의 요소들 중, 소문자 요소들은 리스트 lower에, 대문자 요소들은 리스트 upper에 각각 담고 출력하시오."
   ]
  },
  {
   "cell_type": "code",
   "execution_count": 40,
   "id": "super-cycling",
   "metadata": {},
   "outputs": [
    {
     "name": "stdout",
     "output_type": "stream",
     "text": [
      "- lower: ['a', 'a', 'a', 'a', 'a', 'a', 'a', 'a', 'a', 'd', 'd', 'd', 'd', 'd', 'd', 'd', 'd', 'd', 'e', 'e', 'e', 'e', 'e', 'e', 'h', 'h', 'i', 'i', 'n', 'n', 'n', 'n', 'n', 'n', 'o', 'o', 'r', 'r', 'r', 'r', 'r', 'r', 's', 's', 's', 's', 's', 's', 't', 't', 'u', 'u', 'u', 'u', 'u', 'u', 'u', 'u', 'y', 'y', 'y', 'y', 'y', 'y', 'y'] \n",
      "- upper: ['A', 'D', 'E', 'E', 'F', 'F', 'F', 'H', 'I', 'M', 'M', 'M', 'N', 'N', 'O', 'R', 'S', 'S', 'S', 'S', 'S', 'S', 'T', 'T', 'T', 'T', 'T', 'T', 'T', 'U', 'U', 'U', 'W', 'W', 'W']\n"
     ]
    }
   ],
   "source": [
    "lower, upper = [],[]\n",
    "for e in alphabets:\n",
    "    if e.islower():lower.append(e)\n",
    "    elif e.isupper():upper.append(e)\n",
    "    else : pass\n",
    "print('- lower:',lower,'\\n- upper:', upper)"
   ]
  }
 ],
 "metadata": {
  "kernelspec": {
   "display_name": "Python 3 (ipykernel)",
   "language": "python",
   "name": "python3"
  },
  "language_info": {
   "codemirror_mode": {
    "name": "ipython",
    "version": 3
   },
   "file_extension": ".py",
   "mimetype": "text/x-python",
   "name": "python",
   "nbconvert_exporter": "python",
   "pygments_lexer": "ipython3",
   "version": "3.10.9"
  }
 },
 "nbformat": 4,
 "nbformat_minor": 5
}
