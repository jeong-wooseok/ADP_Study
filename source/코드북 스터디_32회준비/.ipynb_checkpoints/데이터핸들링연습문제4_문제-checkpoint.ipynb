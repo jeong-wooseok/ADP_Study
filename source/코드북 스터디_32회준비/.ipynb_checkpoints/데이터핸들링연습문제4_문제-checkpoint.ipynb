{
 "cells": [
  {
   "cell_type": "markdown",
   "id": "religious-fortune",
   "metadata": {},
   "source": [
    "# 데이터 핸들링 연습문제 4 (데이터프레임)"
   ]
  },
  {
   "cell_type": "markdown",
   "id": "sunset-montgomery",
   "metadata": {},
   "source": [
    "### 1. 다음은 2021년 국내 학생건강검사 표본조사 원자료 중 일부의 데이터이다. 데이터의 행과 열의 크기, 변수명, 변수 별 결측치의 개수, 변수 별 데이터 타입 등 기본 정보를 출력하시오."
   ]
  },
  {
   "cell_type": "code",
   "execution_count": 1,
   "id": "gothic-record",
   "metadata": {},
   "outputs": [
    {
     "name": "stdout",
     "output_type": "stream",
     "text": [
      "             도시규모  시도 학교급 성별      생년월일       건강검진일          키        몸무게  \\\n",
      "0     1. 대도시/중소도시  울산   초  남  20110926  20210619.0  134.60001  44.799999   \n",
      "1     1. 대도시/중소도시  경기   초  남  20110203  20210908.0  149.70000  63.799999   \n",
      "2     1. 대도시/중소도시  울산   초  남  20110716  20210515.0  147.60001  59.000000   \n",
      "3     1. 대도시/중소도시  서울   초  남  20110329  20210622.0  143.70000  50.200001   \n",
      "4     1. 대도시/중소도시  울산   초  남  20110926  20210527.0  148.00000  68.199997   \n",
      "...           ...  ..  .. ..       ...         ...        ...        ...   \n",
      "5079  1. 대도시/중소도시  충북   고  여  20050725  20210517.0  159.10001  68.400002   \n",
      "5080  1. 대도시/중소도시  경기   고  여  20050514  20210831.0  162.89999  74.699997   \n",
      "5081  1. 대도시/중소도시  인천   고  여  20050614  20210817.0  165.30000  67.000000   \n",
      "5082  1. 대도시/중소도시  전남   고  여  20051103  20210604.0  162.50000  72.300003   \n",
      "5083  1. 대도시/중소도시  경남   고  여  20050928  20210518.0  159.50000  74.000000   \n",
      "\n",
      "      혈당(식전)(mg_dl)  총콜레스테롤(mg_dl)       허리둘레 충치치아_유무   라면  음료수  패스트푸드   육류  \\\n",
      "0              89.0          165.0  78.000000       무  2.0  2.0    1.0  2.0   \n",
      "1             105.0          164.0  86.000000       무  2.0  3.0    2.0  3.0   \n",
      "2             103.0          170.0  85.199997       무  2.0  3.0    2.0  2.0   \n",
      "3              92.0          182.0  82.000000       무  1.0  2.0    2.0  3.0   \n",
      "4              86.0          150.0  97.000000       무  2.0  2.0    2.0  2.0   \n",
      "...             ...            ...        ...     ...  ...  ...    ...  ...   \n",
      "5079          109.0          189.0  74.000000     NaN  1.0  3.0    1.0  3.0   \n",
      "5080           83.0          225.0  80.000000       무  2.0  3.0    2.0  3.0   \n",
      "5081           89.0          177.0  78.500000       무  2.0  2.0    2.0  3.0   \n",
      "5082           95.0          169.0  90.099998       무  2.0  2.0    2.0  2.0   \n",
      "5083           86.0          119.0  81.000000       무  2.0  2.0    2.0  2.0   \n",
      "\n",
      "       과일  아침식사  \n",
      "0     2.0   1.0  \n",
      "1     3.0   1.0  \n",
      "2     2.0   1.0  \n",
      "3     3.0   3.0  \n",
      "4     3.0   2.0  \n",
      "...   ...   ...  \n",
      "5079  4.0   1.0  \n",
      "5080  1.0   2.0  \n",
      "5081  3.0   2.0  \n",
      "5082  3.0   2.0  \n",
      "5083  2.0   4.0  \n",
      "\n",
      "[5084 rows x 18 columns]\n"
     ]
    }
   ],
   "source": [
    "# [출처] 교육부, 학생건강정보센터, 학생건강검사 표본조사 원자료 (2021)\n",
    "# https://www.data.go.kr/data/15100360/fileData.do?recommendDataYn=Y\n",
    "from pandas import read_csv\n",
    "df = read_csv('https://raw.githubusercontent.com/algoboni/pythoncodebook_visual1/main/data/1-4_studentHealth2021.csv')\n",
    "print(df)"
   ]
  },
  {
   "cell_type": "code",
   "execution_count": null,
   "id": "interracial-banks",
   "metadata": {},
   "outputs": [],
   "source": []
  },
  {
   "cell_type": "markdown",
   "id": "scheduled-doubt",
   "metadata": {},
   "source": [
    "### 2. 데이터프레임 df의 데이터 중 결측치가 있는 행을 삭제하고, 인덱스를 초기화 하시오. 적용 후, df의 행과 열의 크기를 출력하시오. (단, 기존의 인덱스는 데이터에서 제거한다.)"
   ]
  },
  {
   "cell_type": "code",
   "execution_count": null,
   "id": "honest-works",
   "metadata": {},
   "outputs": [],
   "source": []
  },
  {
   "cell_type": "markdown",
   "id": "forbidden-sequence",
   "metadata": {},
   "source": [
    "### 3. 데이터프레임 df의 변수 중, '혈당(식전)(mg_dl)', '총콜레스테롤(mg_dl)', '충치치아_유무'의 컬럼명을 '식전혈당', '총콜레스테롤', '충치유무'로 변경하여 데이터프레임 df2를 생성하고, 첫 5개 행을 출력하시오."
   ]
  },
  {
   "cell_type": "code",
   "execution_count": null,
   "id": "norman-wealth",
   "metadata": {},
   "outputs": [],
   "source": []
  },
  {
   "cell_type": "markdown",
   "id": "reasonable-marketing",
   "metadata": {},
   "source": [
    "### 4. 데이터프레임 df2의 변수 중, 범주형 변수인 '도시규모'와 '학교급'의 범주들을 출력하고, 도시 규모 혹은 학교급 순으로 수치형 변수로 값을 변환하여 해당 데이터프레임에 적용하시오. 적용 후 df2의 첫 5개 행을 출력하시오. (단, 도시 규모 혹은 학교급이 큰 순으로 3, 2, 1로 지정한다.)"
   ]
  },
  {
   "cell_type": "code",
   "execution_count": null,
   "id": "thorough-maryland",
   "metadata": {},
   "outputs": [],
   "source": []
  },
  {
   "cell_type": "markdown",
   "id": "false-admission",
   "metadata": {},
   "source": [
    "### 5. 데이터프레임 df2의 변수 중, 범주형 변수인 '성별'과 '충치유무'의 범주들을 출력하고 수치형 변수로 값을 변환하여 해당 데이터프레임에 적용하시오. 적용 후 df2의 첫 5개 행을 출력하시오. (단, 남자 1, 여자 0으로 충치 유 1, 무 0, 검사안함은 -1로 지정한다.)"
   ]
  },
  {
   "cell_type": "code",
   "execution_count": null,
   "id": "speaking-response",
   "metadata": {},
   "outputs": [],
   "source": []
  },
  {
   "cell_type": "markdown",
   "id": "fossil-danish",
   "metadata": {},
   "source": [
    "### 6. 데이터프레임 df2의 수치형 변수인 '키', '몸무게', '식전혈당', '총콜레스테롤', '허리둘레'를 소수점 첫째자리까지 반올림하고, '충치유무', '라면', '음료수', '패스트푸드', '육류', '과일', '아침식사'의 데이터 타입을 정수로 변경하여 적용하시오. 적용 후 df2의 첫 5개 행을 출력하시오. "
   ]
  },
  {
   "cell_type": "code",
   "execution_count": null,
   "id": "mounted-feedback",
   "metadata": {},
   "outputs": [],
   "source": []
  },
  {
   "cell_type": "markdown",
   "id": "twenty-organization",
   "metadata": {},
   "source": [
    "### 7. 데이터프레임 df2의 복사본인 df3를 생성하고, '생년월일'과 '건강검진일'로 응답 당시의 만 나이를 계산하여 '연령'이라는 파생변수를 생성하고 적용하시오. df3의 '생년월일'과 '건강검진일' 컬럼은 삭제한 후, df3의 첫 5개 행을 출력하시오."
   ]
  },
  {
   "cell_type": "code",
   "execution_count": null,
   "id": "contrary-press",
   "metadata": {},
   "outputs": [],
   "source": []
  },
  {
   "cell_type": "markdown",
   "id": "emotional-factor",
   "metadata": {},
   "source": [
    "### 8. 데이터프레임 df3에서 '연령'이 0인 데이터를 삭제하고 데이터의 인덱스를 초기화 하시오. 적용 후, df3의 행과 열의 크기를 출력하시오. (단, 기존의 인덱스는 데이터에서 제거한다.)"
   ]
  },
  {
   "cell_type": "code",
   "execution_count": null,
   "id": "binding-armor",
   "metadata": {},
   "outputs": [],
   "source": []
  },
  {
   "cell_type": "markdown",
   "id": "advised-luxury",
   "metadata": {},
   "source": [
    "### 9. 데이터프레임 df3의 '키', '몸무게'로 체질량지수를 계산하여 'BMI'라는 파생변수를 생성하고 적용한 후, df3의 첫 5개 행을 출력하시오. (단, 체질량지수는 몸무게(kg)를 키(m)의 제곱으로 나눈 값으로 소수점 첫째자리까지 반올림 한다. 본 데이터의 몸무게와 키의 단위는 각각 kg, cm임을 유의한다.) "
   ]
  },
  {
   "cell_type": "code",
   "execution_count": null,
   "id": "inappropriate-thomson",
   "metadata": {},
   "outputs": [],
   "source": []
  },
  {
   "cell_type": "markdown",
   "id": "burning-found",
   "metadata": {},
   "source": [
    "### 10. 데이터프레임 df3으로 학교급과 성별에 따른 키, 몸무게, 허리둘레, BMI의 평균을 출력하시오."
   ]
  },
  {
   "cell_type": "code",
   "execution_count": null,
   "id": "weird-protocol",
   "metadata": {},
   "outputs": [],
   "source": []
  },
  {
   "cell_type": "markdown",
   "id": "awful-sunday",
   "metadata": {},
   "source": [
    "### 11. 데이터프레임 df3의 'BMI'로 아래 기준에 따라 '체중구분'이라는 파생변수를 생성하여 적용하고, df3의 첫 5개 행을 출력하시오.  \n",
    "[기준]\n",
    "- 저체중: BMI 18.5 미만\n",
    "- 정상 체중: BMI 18.5 이상 24.9 이하\n",
    "- 과체중: BMI 25 이상 29.9 이하\n",
    "- 비만: 30 이상"
   ]
  },
  {
   "cell_type": "code",
   "execution_count": null,
   "id": "silver-davis",
   "metadata": {},
   "outputs": [],
   "source": []
  },
  {
   "cell_type": "markdown",
   "id": "consolidated-compatibility",
   "metadata": {},
   "source": [
    "### 12. 데이터프레임 df3에서 체중구분에 따른 학생수와 그 비율을 데이터프레임으로 생성하여 출력하시오."
   ]
  },
  {
   "cell_type": "code",
   "execution_count": null,
   "id": "quality-thomas",
   "metadata": {},
   "outputs": [],
   "source": []
  },
  {
   "cell_type": "markdown",
   "id": "featured-tracker",
   "metadata": {},
   "source": [
    "### 13. 데이터프레임 df3으로 학교급, 성별, 체중구분에 따른 학생수를 출력하시오."
   ]
  },
  {
   "cell_type": "code",
   "execution_count": null,
   "id": "egyptian-campus",
   "metadata": {},
   "outputs": [],
   "source": []
  },
  {
   "cell_type": "markdown",
   "id": "reasonable-class",
   "metadata": {},
   "source": [
    "### 14. 데이터프레임 df3으로 학교급, 성별, 체중구분에 따른 BMI의 평균, 최솟값, 최댓값을 출력하시오."
   ]
  },
  {
   "cell_type": "code",
   "execution_count": null,
   "id": "frank-restoration",
   "metadata": {},
   "outputs": [],
   "source": []
  }
 ],
 "metadata": {
  "kernelspec": {
   "display_name": "Python 3",
   "language": "python",
   "name": "python3"
  },
  "language_info": {
   "codemirror_mode": {
    "name": "ipython",
    "version": 3
   },
   "file_extension": ".py",
   "mimetype": "text/x-python",
   "name": "python",
   "nbconvert_exporter": "python",
   "pygments_lexer": "ipython3",
   "version": "3.8.8"
  }
 },
 "nbformat": 4,
 "nbformat_minor": 5
}
