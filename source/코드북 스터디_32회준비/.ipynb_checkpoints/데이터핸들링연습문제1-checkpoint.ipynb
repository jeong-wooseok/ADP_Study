{
 "cells": [
  {
   "cell_type": "markdown",
   "id": "israeli-calculator",
   "metadata": {},
   "source": [
    "# 데이터 핸들링 연습문제 1 (리스트와 문자열)"
   ]
  },
  {
   "cell_type": "markdown",
   "id": "mathematical-drawing",
   "metadata": {},
   "source": [
    "### 1. 7개의 요일(ex: Monday, ...)을 요소로 갖는 리스트를 생성하고 days1이라는 변수에 담아 출력하시오."
   ]
  },
  {
   "cell_type": "code",
   "execution_count": null,
   "id": "greater-choice",
   "metadata": {},
   "outputs": [],
   "source": []
  },
  {
   "cell_type": "markdown",
   "id": "excited-infrared",
   "metadata": {},
   "source": [
    "### 2. 리스트 days1의 각 요소에서 'day'를 삭제한 값을 요소로 갖는 리스트 days2를 출력하시오."
   ]
  },
  {
   "cell_type": "code",
   "execution_count": null,
   "id": "induced-stake",
   "metadata": {},
   "outputs": [],
   "source": []
  },
  {
   "cell_type": "markdown",
   "id": "august-violin",
   "metadata": {},
   "source": [
    "### 3. 리스트 days1의 각 요소의 앞 세음절을 대문자로 변경한 값을 요소로 갖는 리스트 days3를 출력하시오."
   ]
  },
  {
   "cell_type": "code",
   "execution_count": null,
   "id": "written-aerospace",
   "metadata": {},
   "outputs": [],
   "source": []
  },
  {
   "cell_type": "markdown",
   "id": "animated-passing",
   "metadata": {},
   "source": [
    "### - 4. 리스트 days1에 days2와 days3의 요소를 추가하여 리스트 days를 생성하고 출력하시오."
   ]
  },
  {
   "cell_type": "code",
   "execution_count": null,
   "id": "mexican-assembly",
   "metadata": {},
   "outputs": [],
   "source": []
  },
  {
   "cell_type": "markdown",
   "id": "wireless-factory",
   "metadata": {},
   "source": [
    "### - 5. 리스트 days의 요소들을 하나의 문자열로 변환하여 string이라는 변수에 담아 출력하시오. (요소들 사이에는 분할문자나 공백이 없도록 연결할 것)"
   ]
  },
  {
   "cell_type": "code",
   "execution_count": null,
   "id": "typical-dayton",
   "metadata": {},
   "outputs": [],
   "source": []
  },
  {
   "cell_type": "markdown",
   "id": "satisfactory-superior",
   "metadata": {},
   "source": [
    "### - 6. 문자열 string을 알파벳 한 글자 단위로 분할하는 리스트 alphabets를 생성하고 이 리스트의 요소와 크기를 출력하시오."
   ]
  },
  {
   "cell_type": "code",
   "execution_count": null,
   "id": "armed-stadium",
   "metadata": {},
   "outputs": [],
   "source": []
  },
  {
   "cell_type": "markdown",
   "id": "unsigned-coordination",
   "metadata": {},
   "source": [
    "### - 7. 리스트 alphabets의 요소 중, 'a'가 몇개인지 출력하시오."
   ]
  },
  {
   "cell_type": "code",
   "execution_count": null,
   "id": "transparent-talent",
   "metadata": {},
   "outputs": [],
   "source": []
  },
  {
   "cell_type": "markdown",
   "id": "extended-ancient",
   "metadata": {},
   "source": [
    "### - 8. 리스트 alphabets의 요소를 오름차순으로 정렬하고, 리스트를 출력하시오."
   ]
  },
  {
   "cell_type": "code",
   "execution_count": null,
   "id": "divided-certification",
   "metadata": {},
   "outputs": [],
   "source": []
  },
  {
   "cell_type": "markdown",
   "id": "other-planning",
   "metadata": {},
   "source": [
    "### - 9. 정렬된 리스트 alphabets의 요소 중, 'a'의 첫번째 인덱스를 출력하시오."
   ]
  },
  {
   "cell_type": "code",
   "execution_count": null,
   "id": "bearing-fountain",
   "metadata": {},
   "outputs": [],
   "source": []
  },
  {
   "cell_type": "markdown",
   "id": "academic-beijing",
   "metadata": {},
   "source": [
    "### - 10. 정렬된 리스트 alphabets의 요소들 중, 소문자 요소들은 리스트 lower에, 대문자 요소들은 리스트 upper에 각각 담고 출력하시오."
   ]
  },
  {
   "cell_type": "code",
   "execution_count": null,
   "id": "super-cycling",
   "metadata": {},
   "outputs": [],
   "source": []
  }
 ],
 "metadata": {
  "kernelspec": {
   "display_name": "Python 3",
   "language": "python",
   "name": "python3"
  },
  "language_info": {
   "codemirror_mode": {
    "name": "ipython",
    "version": 3
   },
   "file_extension": ".py",
   "mimetype": "text/x-python",
   "name": "python",
   "nbconvert_exporter": "python",
   "pygments_lexer": "ipython3",
   "version": "3.8.8"
  }
 },
 "nbformat": 4,
 "nbformat_minor": 5
}
