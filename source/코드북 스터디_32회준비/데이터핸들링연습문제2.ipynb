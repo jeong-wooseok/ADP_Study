{
 "cells": [
  {
   "cell_type": "markdown",
   "id": "ignored-organization",
   "metadata": {},
   "source": [
    "# 데이터 핸들링 연습문제 2 (딕셔너리 등)"
   ]
  },
  {
   "cell_type": "markdown",
   "id": "south-survivor",
   "metadata": {},
   "source": [
    "### 1. 영화진흥위원회 출처의 일별 박스오피스 데이터인 위계가 있는 딕셔너리를 다음과 같이 변수 boxOffice에 담았다. 딕셔너리 boxOffice의 키(key)의 개수와 키들을 출력하시오."
   ]
  },
  {
   "cell_type": "code",
   "execution_count": 1,
   "id": "contemporary-cleanup",
   "metadata": {},
   "outputs": [
    {
     "name": "stdout",
     "output_type": "stream",
     "text": [
      "<class 'dict'>\n"
     ]
    }
   ],
   "source": [
    "# 출처: 영화진흥위원회 (www.kobis.or.kr)\n",
    "import requests\n",
    "URL='https://raw.githubusercontent.com/algoboni/pythoncodebook_visual1/main/data/2_boxOffice.json'\n",
    "r = requests.get(URL)\n",
    "boxOffice = r.json()['boxOfficeResult']\n",
    "print(type(boxOffice))"
   ]
  },
  {
   "cell_type": "code",
   "execution_count": 4,
   "id": "included-forum",
   "metadata": {},
   "outputs": [
    {
     "name": "stdout",
     "output_type": "stream",
     "text": [
      "dict_keys(['boxofficeType', 'showRange', 'dailyBoxOfficeList']) 3\n"
     ]
    }
   ],
   "source": [
    "print(boxOffice.keys(),len(boxOffice.keys()))"
   ]
  },
  {
   "cell_type": "markdown",
   "id": "threaded-melbourne",
   "metadata": {},
   "source": [
    "### 2. 딕셔너리 boxOffice의 키인 'showRange'의 값을 출력하시오."
   ]
  },
  {
   "cell_type": "code",
   "execution_count": 5,
   "id": "comfortable-sussex",
   "metadata": {},
   "outputs": [
    {
     "data": {
      "text/plain": [
       "'20231225~20231225'"
      ]
     },
     "execution_count": 5,
     "metadata": {},
     "output_type": "execute_result"
    }
   ],
   "source": [
    "boxOffice['showRange']"
   ]
  },
  {
   "cell_type": "markdown",
   "id": "partial-scale",
   "metadata": {},
   "source": [
    "### 3. 딕셔너리 boxOffice의 키인 'showRange'의 값을 시작날짜와 종료날짜를 요소로 갖는 리스트(ex: ['20231225', '20231225'])로 수정하여 딕셔너리에 적용한 후, 2번 문제와 동일한 방법으로 값을 출력하시오."
   ]
  },
  {
   "cell_type": "code",
   "execution_count": 7,
   "id": "regional-glucose",
   "metadata": {},
   "outputs": [
    {
     "data": {
      "text/plain": [
       "['20231225', '20231225']"
      ]
     },
     "execution_count": 7,
     "metadata": {},
     "output_type": "execute_result"
    }
   ],
   "source": [
    "boxOffice['showRange'] = [c for c in boxOffice['showRange'].split('~')]\n",
    "boxOffice['showRange'] "
   ]
  },
  {
   "cell_type": "markdown",
   "id": "cognitive-symbol",
   "metadata": {},
   "source": [
    "### 4. 딕셔너리 boxOffice의 키인 'dailyBoxOfficeList'의 값을 dboList라는 변수에 담고, 해당 변수의 크기와 데이터 타입을 출력하시오."
   ]
  },
  {
   "cell_type": "code",
   "execution_count": 10,
   "id": "distinct-opinion",
   "metadata": {},
   "outputs": [
    {
     "name": "stdout",
     "output_type": "stream",
     "text": [
      "10 <class 'list'>\n"
     ]
    }
   ],
   "source": [
    "dboList = boxOffice['dailyBoxOfficeList']\n",
    "print(len(dboList),type(dboList))"
   ]
  },
  {
   "cell_type": "markdown",
   "id": "individual-tucson",
   "metadata": {},
   "source": [
    "### 5. 리스트 dboList의 마지막 요소를 추출하고 dict()를 적용하여 변수 dict11에 담으시오. 또한, 해당 변수를 다음과 같이 편집한 후 출력하시오.\n",
    "- key 'rnum'의 값을 '11'로 수정\n",
    "- key 'rank'의 값을 '11'로 수정\n",
    "- key 'movieNm'의 값을 '알고보는 영화'로 수정\n",
    "- key 'audiCnt'의 값을 '4300'으로 수정"
   ]
  },
  {
   "cell_type": "code",
   "execution_count": 18,
   "id": "noticed-venezuela",
   "metadata": {},
   "outputs": [
    {
     "data": {
      "text/plain": [
       "{'rnum': '11',\n",
       " 'rank': '11',\n",
       " 'rankInten': '1',\n",
       " 'rankOldAndNew': 'OLD',\n",
       " 'movieCd': '20235980',\n",
       " 'movieNm': '알고보는 영화',\n",
       " 'openDt': '2023-12-13',\n",
       " 'salesAmt': '47381636',\n",
       " 'salesShare': '0.3',\n",
       " 'salesInten': '16715045',\n",
       " 'salesChange': '54.5',\n",
       " 'salesAcc': '677175792',\n",
       " 'audiCnt': '4300',\n",
       " 'audiInten': '1586',\n",
       " 'audiChange': '52.2',\n",
       " 'audiAcc': '70146',\n",
       " 'scrnCnt': '43',\n",
       " 'showCnt': '61'}"
      ]
     },
     "execution_count": 18,
     "metadata": {},
     "output_type": "execute_result"
    }
   ],
   "source": [
    "dict11 = dict(dboList[-1])\n",
    "dict11['rnum'] = '11'\n",
    "dict11['rank'] = '11'\n",
    "dict11['movieNm'] = '알고보는 영화'\n",
    "dict11['audiCnt'] = '4300'\n",
    "dict11"
   ]
  },
  {
   "cell_type": "markdown",
   "id": "alert-medium",
   "metadata": {},
   "source": [
    "### 6. 딕셔너리 dict11의 모든 값에 일괄적으로 '**'를 추가한 후, dict11을 출력하시오."
   ]
  },
  {
   "cell_type": "code",
   "execution_count": 19,
   "id": "relevant-tennessee",
   "metadata": {},
   "outputs": [
    {
     "name": "stdout",
     "output_type": "stream",
     "text": [
      "{'rnum': '**', 'rank': '**', 'rankInten': '**', 'rankOldAndNew': '**', 'movieCd': '**', 'movieNm': '**', 'openDt': '**', 'salesAmt': '**', 'salesShare': '**', 'salesInten': '**', 'salesChange': '**', 'salesAcc': '**', 'audiCnt': '**', 'audiInten': '**', 'audiChange': '**', 'audiAcc': '**', 'scrnCnt': '**', 'showCnt': '**'}\n"
     ]
    }
   ],
   "source": [
    "# 모든 값에 '**' 추가\n",
    "for key in dict11:\n",
    "    dict11[key] = \"**\"\n",
    "\n",
    "# 출력\n",
    "print(dict11)"
   ]
  },
  {
   "cell_type": "markdown",
   "id": "interested-spanish",
   "metadata": {},
   "source": [
    "### 7. 리스트 dboList의 첫번째 요소의 키와 값들을 추출하여 각각 KEYS, VALUES라는 변수에 담아 출력하시오."
   ]
  },
  {
   "cell_type": "code",
   "execution_count": 29,
   "id": "abroad-duncan",
   "metadata": {},
   "outputs": [
    {
     "name": "stdout",
     "output_type": "stream",
     "text": [
      "['rnum', 'rank', 'rankInten', 'rankOldAndNew', 'movieCd', 'movieNm', 'openDt', 'salesAmt', 'salesShare', 'salesInten', 'salesChange', 'salesAcc', 'audiCnt', 'audiInten', 'audiChange', 'audiAcc', 'scrnCnt', 'showCnt'] ['1', '1', '0', 'OLD', '20203702', '노량: 죽음의 바다', '2023-12-20', '5609307954', '39.9', '-657335829', '-10.5', '22349048606', '549530', '-62118', '-10.2', '2230951', '1845', '6783']\n"
     ]
    }
   ],
   "source": [
    "KEYS, VALUES = [],[]\n",
    "for key, value in zip(dboList[0].keys(),dboList[0].values()):\n",
    "    KEYS.append(key)\n",
    "    VALUES.append(value)\n",
    "print(KEYS, VALUES)"
   ]
  },
  {
   "cell_type": "markdown",
   "id": "changed-enhancement",
   "metadata": {},
   "source": [
    "### 8. 앞서 생성한 변수 KEYS와 VALUES의 요소들의 맨 앞에 각각 일괄적으로 'ex) '를 추가한 결과를 각각 KEYS2와 VALUES2에 담고, 이를 키와 값으로 갖는 딕셔너리 dict12를 생성하여 출력하시오."
   ]
  },
  {
   "cell_type": "code",
   "execution_count": 31,
   "id": "fuzzy-permission",
   "metadata": {},
   "outputs": [
    {
     "name": "stdout",
     "output_type": "stream",
     "text": [
      "{'ex)rnum': 'ex)1', 'ex)rank': 'ex)1', 'ex)rankInten': 'ex)0', 'ex)rankOldAndNew': 'ex)OLD', 'ex)movieCd': 'ex)20203702', 'ex)movieNm': 'ex)노량: 죽음의 바다', 'ex)openDt': 'ex)2023-12-20', 'ex)salesAmt': 'ex)5609307954', 'ex)salesShare': 'ex)39.9', 'ex)salesInten': 'ex)-657335829', 'ex)salesChange': 'ex)-10.5', 'ex)salesAcc': 'ex)22349048606', 'ex)audiCnt': 'ex)549530', 'ex)audiInten': 'ex)-62118', 'ex)audiChange': 'ex)-10.2', 'ex)audiAcc': 'ex)2230951', 'ex)scrnCnt': 'ex)1845', 'ex)showCnt': 'ex)6783'}\n"
     ]
    }
   ],
   "source": [
    "KEYS2, VALUES2 = [],[]\n",
    "\n",
    "for key, value in zip(KEYS,VALUES):\n",
    "    KEYS2.append('ex)'+key)\n",
    "    VALUES2.append('ex)'+value)\n",
    "\n",
    "dict12 = dict()\n",
    "for key, value in zip(KEYS2,VALUES2):\n",
    "    dict12[key] = value\n",
    "    \n",
    "print(dict12)    "
   ]
  },
  {
   "cell_type": "markdown",
   "id": "satisfactory-inspector",
   "metadata": {},
   "source": [
    "### 9. 딕셔너리 boxOffice의 키인 'dailyBoxOfficeList'의 값의 구조를 다음과 같이 하나의 딕셔너리 형태로 변환하여 변수 new_dict에 담고 출력하시오.\n",
    "{'rnum': ['1', '2', ..., '10'],  \n",
    "'rank': ['1', '2', ..., '10'], ...  \n",
    "'showCnt': ['6783', '4657', ... '61'}"
   ]
  },
  {
   "cell_type": "code",
   "execution_count": 42,
   "id": "apparent-lindsay",
   "metadata": {},
   "outputs": [
    {
     "name": "stdout",
     "output_type": "stream",
     "text": [
      "{'rnum': ['1', '2', '3', '4', '5', '6', '7', '8', '9', '10'], 'rank': ['1', '2', '3', '4', '5', '6', '7', '8', '9', '10'], 'showCnt': ['6783', '4657', '1796', '2073', '1284', '801', '174', '179', '171', '61']}\n"
     ]
    }
   ],
   "source": [
    "to_col = ['rnum','rank','showCnt']\n",
    "new_dict = dict()\n",
    "for e in to_col:\n",
    "    tmp = []\n",
    "    for ele in boxOffice['dailyBoxOfficeList']:\n",
    "        tmp.append(ele[e])\n",
    "    new_dict[e] = tmp\n",
    "print(new_dict)"
   ]
  },
  {
   "cell_type": "code",
   "execution_count": null,
   "id": "7cdc48eb-1d7d-4a78-b671-a2bd1ab0573d",
   "metadata": {},
   "outputs": [],
   "source": []
  }
 ],
 "metadata": {
  "kernelspec": {
   "display_name": "Python 3 (ipykernel)",
   "language": "python",
   "name": "python3"
  },
  "language_info": {
   "codemirror_mode": {
    "name": "ipython",
    "version": 3
   },
   "file_extension": ".py",
   "mimetype": "text/x-python",
   "name": "python",
   "nbconvert_exporter": "python",
   "pygments_lexer": "ipython3",
   "version": "3.11.8"
  }
 },
 "nbformat": 4,
 "nbformat_minor": 5
}
