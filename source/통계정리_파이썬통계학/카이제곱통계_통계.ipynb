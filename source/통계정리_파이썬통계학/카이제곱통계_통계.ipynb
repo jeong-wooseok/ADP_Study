{
 "cells": [
  {
   "cell_type": "markdown",
   "id": "fb37ad22-5f73-4538-833a-dcd1a321063f",
   "metadata": {
    "id": "fb37ad22-5f73-4538-833a-dcd1a321063f"
   },
   "source": [
    "## 15.1 서론\n",
    "- 범주형 자료란 관측치들이 몇개의 범주 로 분류 되고 각 범주의 도수로 자료가 주어지는 것\n",
    "     - 그 와 같은 자료 는 사회과학에 비롯해서 여러 분야에 걸쳐 나타나는데\n",
    "         - 종교 별 분류, 직업 만족도 에 의한 분류,  나무 들의 유전자 형태 에 의한 분류..."
   ]
  },
  {
   "cell_type": "markdown",
   "id": "3f917f5f-c9d2-4986-b1c1-498821ddeb58",
   "metadata": {
    "id": "3f917f5f-c9d2-4986-b1c1-498821ddeb58"
   },
   "source": [
    "### 예제1. 적합성검정 예시\n",
    "(몇 개의 범주로 분류 된 한 표본의 문제) 어떤 나무 의 자가수정 의 결과 로 나올 수 있는 유 전 자 의 형태 는 세 종 류 로 분 류 된다고 한다. 이 세 SHS 각각 A, B, C라 할 때 생 물 학 에 서 의 한 이 론 에 의하면 비율 이 1 : 2 : 1 로 나타난다고 하자. 이를 입 증 하기 위하여 자 가 수 정 의 결 과 로 생겨난 나무 100 그루를 유 전 자 의 형 태 별 로 분 류 하여 다 음 과 같은 표 를 얻었다.\n",
    "\n",
    "표 15-1 유 전 자 에 따른 나 무 의 분류\n",
    "|유전자 형태| A| B| C | 합계|\n",
    "|-|-|-|-|-|\n",
    "|관 측 도수| 18| 55 | 27| 100|\n",
    "\n",
    "각 유전자 형 태 에 대 응 되는 모집단 비율을 $P_A,P_B,P_C$라고 할 때 위에서 얻어진 자료 로부터 생물학 이론이 제시하는 가설 이 틀리는 지 판단\n",
    "- 기존의 귀무가설을 검정하는 것을 적합성 검정이라한다.\n",
    "- stats.chisquare(관측치, 기대치(귀무가설))"
   ]
  },
  {
   "cell_type": "code",
   "execution_count": 138,
   "id": "98ead21d-5cca-464b-ad8b-14adca3a5e47",
   "metadata": {},
   "outputs": [
    {
     "name": "stdout",
     "output_type": "stream",
     "text": [
      "카이제곱 통계량: 2.6200\n",
      "p-value: 0.2698\n",
      "귀납가설을 채택하여, 유전자의 형태는 1:2:1이다\n"
     ]
    }
   ],
   "source": [
    "from scipy.stats import chisquare\n",
    "H0 = \"귀납가설을 채택하여, 유전자의 형태는 1:2:1이다\"\n",
    "H1 = \"귀납가설을 기각, 유전자의 형태는 1:2:1이 아니다\"\n",
    "\n",
    "data = np.array([18,55,27])\n",
    "expected = np.array([data.sum()/4,data.sum()/4*2,data.sum()/4])\n",
    "stats, p_val = chisquare(data,expected)\n",
    "# 결과 출력\n",
    "print(f\"카이제곱 통계량: {stats:.4f}\")\n",
    "print(f\"p-value: {p_val:.4f}\")\n",
    "\n",
    "# 유의수준 0.05에서 가설 검정\n",
    "alpha = 0.05\n",
    "if p_val < alpha:\n",
    "    print(f\"{H1}\")\n",
    "else:\n",
    "    print(f\"{H0}\")"
   ]
  },
  {
   "cell_type": "markdown",
   "id": "1a860ad0-7d5e-4f13-999a-755115770c1f",
   "metadata": {
    "id": "1a860ad0-7d5e-4f13-999a-755115770c1f"
   },
   "source": [
    "### 예제2. 동질성검정 예시\n",
    "몇 개의 범주로 분류된 두 개의 독립인 표본의 문제) 두 가지 식 이 요법 A, B 효 과 를 비 교 하기 위해서 150 명 의 환자를 대상으로 조사를 실시 하였다. 임의로 추 출 된 80 명 에게는 식이요법 A를 적용 하\n",
    "고. 나머지 70 명 에게는 식이 요법 B를 적용한 후 얼마간 의 시 간 이 흐른 후에 각 환자의 건강상태 에 따\n",
    "라 다 음 의 표 15-2와 같이 세 가지 범 주 로 분 류 하였다.\n",
    "\n",
    "표 15-2 두 식 이 요 법 에 따른 건 강 상 태 ( 관 측 도수)\n",
    "|-|양호| 보통 | 불량| 표본의 크기|\n",
    "|-|-|-|-|-|\n",
    "|식이요법A| 37| 24| 19| 80|\n",
    "|식이요법B|17 |33 |20 |70|\n",
    "|합계| 54| 57| 39| 150|\n",
    "\n",
    "\n",
    "- 독립인 두 그룹 이 각 범주별로 동일한 반응형태를 보이는가를 검정하는 것을 동질성검정이라 한다.\n",
    "- stats.chi2_contingency(data)"
   ]
  },
  {
   "cell_type": "markdown",
   "id": "76512c58-51d4-4dac-81d6-d01400375c8f",
   "metadata": {
    "id": "76512c58-51d4-4dac-81d6-d01400375c8f"
   },
   "source": [
    "### 예제3. 독립성검정 예시\n",
    "(한 표본 을 두 가지 특성에 따라 분류 하는 문제) 텔 레 비 전 에서 방영 되는 오락물 에 대한 사 람 들 의 의견이 성별 과 어떤 관 계 가 있는지 조 사 하기 위해서 1.250 명 의  임 의 추 출 하여  별 과 오 릭 물 방영\n",
    "에 대한 의 견 으로 다음 같이 분류 하였다.\n",
    "|성별|너무많다|적당하다|너무적다|합계|\n",
    "|-|-|-|-|-|\n",
    "|남|378|237|25|641|\n",
    "|여|388|196|25|609|\n",
    "|합계|766|433|51|1250|\n",
    "- 두가지 특성이 서로 독립이라는 귀무가설을 검정하는 것이 독립성검정이다\n",
    "- stats.chi2_contingency(data)\n",
    "\n"
   ]
  },
  {
   "cell_type": "markdown",
   "id": "yHeb2nSy3he9",
   "metadata": {
    "id": "yHeb2nSy3he9"
   },
   "source": [
    "## 15.2 연습문제"
   ]
  },
  {
   "cell_type": "markdown",
   "id": "2e147e55-76f0-4ef2-85e3-6ae37dbcad4d",
   "metadata": {},
   "source": [
    "2.1 아 래 의 표 는 어떤 주 사 위 를 310 번 던져 관 찰 한 자 료 이다. 이 자 료 를 이 용 하 여 이 주 사 위 가 1 부 터 6의 눈 이 나올 확 률 이 같 은 지 를 유 의 수준 0.05 로 검 정 하라."
   ]
  },
  {
   "cell_type": "code",
   "execution_count": 141,
   "id": "716838ce-87cc-44e2-8e10-d3d2911ed8fd",
   "metadata": {},
   "outputs": [
    {
     "name": "stdout",
     "output_type": "stream",
     "text": [
      "카이제곱 통계량: 13.2258\n",
      "p-value: 0.0214\n",
      "자유도: 5\n",
      "주사위의 눈이 1부터 6까지 나올 확률이 동일하지 않습니다.\n"
     ]
    }
   ],
   "source": [
    "import pandas as pd\n",
    "from scipy.stats import chisquare\n",
    "\n",
    "# 데이터 생성\n",
    "data = pd.DataFrame([38, 61, 54, 65, 55, 37])\n",
    "chi2_stat, p_val = chisquare(data.values)\n",
    "\n",
    "# 결과 출력\n",
    "print(f\"카이제곱 통계량: {chi2_stat[0]:.4f}\")\n",
    "print(f\"p-value: {p_val[0]:.4f}\")\n",
    "print(f\"자유도: {len(data) - 1}\")\n",
    "\n",
    "# 유의수준 0.05에서 가설 검정\n",
    "alpha = 0.05\n",
    "if p_val < alpha:\n",
    "    print(\"주사위의 눈이 1부터 6까지 나올 확률이 동일하지 않습니다.\")\n",
    "else:\n",
    "    print(\"주사위의 눈이 1부터 6까지 나올 확률이 동일합니다.\")"
   ]
  },
  {
   "cell_type": "markdown",
   "id": "82d5919c-1cb8-4381-a636-27bca06c4591",
   "metadata": {},
   "source": [
    "2.9 어느 진통제 의 약효 지속시간 이 정규분포 $N(60, 15^2)$ 을 따르는지 판단하기 위해 100 명을 대상으로 실험 하였다. <br>\n",
    "100명 중에서 지속시간이 48 시간 이하인 사람은 16명 , 48시간 이상 60시간 미만인 사람은 28명, <br>\n",
    "60시간 이상 72시간 미만인 사람은 36명 , 72시간 이상인 사람은 20 명이었다.<br>\n",
    "이 자료를 이용 하 여 약효 지속시간이 정규 분포 $N(60, 15^2)$을 따르는지 유의수준 5% 에서 검정 하여라"
   ]
  },
  {
   "cell_type": "code",
   "execution_count": 28,
   "id": "SD7A9QBN4AMu",
   "metadata": {
    "id": "SD7A9QBN4AMu"
   },
   "outputs": [
    {
     "name": "stdout",
     "output_type": "stream",
     "text": [
      "카이제곱 통계량: 3.1505\n",
      "p-value: 0.3690\n",
      "자유도: 3\n",
      "귀무가설을 채택합니다. 약효 지속시간은 정규분포 N(60, 15^2)을 따릅니다.\n"
     ]
    }
   ],
   "source": [
    "from scipy.stats import norm, chisquare\n",
    "observed = [16, 28, 36, 20]\n",
    "intervals = [(float('-inf'), 48), (48, 60), (60, 72), (72, float('inf'))]\n",
    "n = sum(observed)  # 전체 관측값 수\n",
    "\n",
    "expected = [n * (norm.cdf(upper, 60, 15) - norm.cdf(lower, 60, 15)) for lower, upper in intervals]\n",
    "\n",
    "# 카이제곱 적합도 검정\n",
    "chi_squared, p_value = chisquare(observed, f_exp=expected)\n",
    "\n",
    "# 결과 출력\n",
    "print(f\"카이제곱 통계량: {chi_squared:.4f}\")\n",
    "print(f\"p-value: {p_value:.4f}\")\n",
    "print(f\"자유도: {len(observed) - 1}\")\n",
    "\n",
    "# 유의수준 0.05에서 가설 검정\n",
    "alpha = 0.05\n",
    "if p_value < alpha:\n",
    "    print(\"귀무가설을 기각합니다. 약효 지속시간은 정규분포 N(60, 15^2)을 따르지 않습니다.\")\n",
    "else:\n",
    "    print(\"귀무가설을 채택합니다. 약효 지속시간은 정규분포 N(60, 15^2)을 따릅니다.\")"
   ]
  },
  {
   "cell_type": "markdown",
   "id": "7fee2770-79bf-4443-beca-55a1ff715b0a",
   "metadata": {},
   "source": [
    "2.11. 80 마 리의 어미 토 끼 를 조사해 보니, 각 토 끼 는 세 마리의 새끼를 낳고<br> 그 중 수컷수(male) 를 조사 하여\n",
    "정리해 보았다<br>\n",
    "(1) n=3 회 시행 이며 p=0.4 인 이항분포를 이용하여 위 표 에서 각 칸 의 기대도수를 구하라.<br>\n",
    "(2) 세 마리 중 수컷의 수가 이항분포 따르는지 유의수준 0.05 로  카이제곱 적합도검정을 실행 하라.<br>\n",
    "( 자유도 계산 시 하나의 모수가 추정되었음에 주의하라.)"
   ]
  },
  {
   "cell_type": "code",
   "execution_count": 142,
   "id": "aWW-WqVd4EI6",
   "metadata": {
    "id": "aWW-WqVd4EI6"
   },
   "outputs": [
    {
     "name": "stdout",
     "output_type": "stream",
     "text": [
      "1) 각칸의 기대값: [17.28, 34.56, 23.04, 5.12]\n",
      "2) 카이제곱 검정\n",
      " - 통계량: 1.0981\n",
      " - p-value: 0.7775\n",
      "귀무가설을 채택. 세 마리 중 수컷의 수는 이항분포를 따름.\n"
     ]
    }
   ],
   "source": [
    "from scipy.stats import binom, chisquare\n",
    "\n",
    "# 관측값\n",
    "no_male = [0, 1, 2, 3]\n",
    "observed = [19, 32, 22, 7]\n",
    "\n",
    "# 이항분포 파라미터\n",
    "n = 3  # 시행 횟수\n",
    "p = 0.4  # 성공 확률\n",
    "\n",
    "# (1) 각 칸의 기대도수 계산\n",
    "expected = [binom.pmf(k, n, p) * sum(observed) for k in no_male]\n",
    "\n",
    "# (2) 카이제곱 적합도 검정\n",
    "stats, p_value = chisquare(observed, f_exp=expected)\n",
    "\n",
    "print(f\"1) 각칸의 기대값: {[round(exp, 2) for exp in expected]}\")\n",
    "print(f\"2) 카이제곱 검정\\n - 통계량: {stats:.4f}\")\n",
    "print(f\" - p-value: {p_value:.4f}\")\n",
    "# 유의수준 0.05에서 가설 검정\n",
    "alpha = 0.05\n",
    "if p_value < alpha:\n",
    "    print(\"귀무가설을 기각. 세 마리 중 수컷의 수는 이항분포를 따르지 않음\")\n",
    "else:\n",
    "    print(\"귀무가설을 채택. 세 마리 중 수컷의 수는 이항분포를 따름.\")"
   ]
  },
  {
   "cell_type": "markdown",
   "id": "IL3fJmrh4E7-",
   "metadata": {
    "id": "IL3fJmrh4E7-"
   },
   "source": [
    "## 15.3 연습문제"
   ]
  },
  {
   "cell_type": "markdown",
   "id": "a23cf2f6-c1c3-4de1-8a22-f00eee77d1b4",
   "metadata": {},
   "source": [
    "3.2. 새로운 상품 이 시장 에 소개 되고 일정 기간이 지난 후, <br>\n",
    "제 조 업 자는 그 상 품 이 시 장 에서 어떤 위치를 차지하고 있는지 알고 싶어 <br>\n",
    "다음 세 개의 도 시 를 선 택 하여 각각 2008, 150 명 , 300 명 을 임의로 선택 하여 <br>\n",
    "새로운 상품 에 대한 질문한 결과 가 아래와 같았다,<br>\n",
    "새로운 상 품 의 시 장 에 서 의 위 치 는 도 시 에 따라 차 이 가 있는가?\n",
    "|도시|상품 들어본적 없다.| 들어보았으나 미구매|구매|합계|\n",
    "|-|-|-|-|-|\n",
    "|도 시 1 | 36| 55| 109| 200|\n",
    "|도 시 2 | 45 |56 |49 |150|\n",
    "|도 시 3 | 54| 78| 168| 300|\n",
    "|합계| 135| 189| 326| 650|\n"
   ]
  },
  {
   "cell_type": "code",
   "execution_count": 80,
   "id": "Q4dLTXHq4PCc",
   "metadata": {
    "id": "Q4dLTXHq4PCc"
   },
   "outputs": [
    {
     "name": "stdout",
     "output_type": "stream",
     "text": [
      "관측값:\n",
      "     0   1    2\n",
      "1  36  55  109\n",
      "2  45  56   49\n",
      "3  54  78  168\n",
      "\n",
      "기대값:\n",
      "            0          1           2\n",
      "0  41.538462  58.153846  100.307692\n",
      "1  31.153846  43.615385   75.230769\n",
      "2  62.307692  87.230769  150.461538\n",
      "\n",
      "카이제곱 통계량: 24.6080\n",
      "p-value: 0.0001\n",
      "자유도: 4\n",
      "\n",
      "귀무가설을 기각. 새로운 상품의 시장에서의 위치는 도시에 따라 차이 있음\n"
     ]
    }
   ],
   "source": [
    "data = pd.DataFrame({\n",
    "'1':[36, 55, 109],\n",
    "'2':[45, 56, 49],\n",
    "'3':[54, 78, 168]\n",
    "}).T\n",
    "\n",
    "stats, p_val, dof, expected = chi2_contingency(data)\n",
    "# 결과 출력\n",
    "print(\"관측값:\\n\", data)\n",
    "print(\"\\n기대값:\\n\", pd.DataFrame(expected))\n",
    "print(f\"\\n카이제곱 통계량: {stats:.4f}\")\n",
    "print(f\"p-value: {p_val:.4f}\")\n",
    "print(f\"자유도: {dof}\")\n",
    "\n",
    "# 유의수준 0.05에서 가설 검정\n",
    "alpha = 0.05\n",
    "if p_val < alpha:\n",
    "    print(\"\\n귀무가설을 기각. 새로운 상품의 시장에서의 위치는 도시에 따라 차이 있음\")\n",
    "else:\n",
    "    print(\"\\n귀무가설을 채택. 새로운 상품의 시장에서의 위치는 도시와 독립적\")"
   ]
  },
  {
   "cell_type": "markdown",
   "id": "77056f16-ac82-44e4-bbbe-1669065cf8e4",
   "metadata": {},
   "source": [
    "3.5 A,B,C,D 네 가지 종류의 살충제 가 있는데 이 살충제들의 성능을 비교하기 위해<br>\n",
    "모기를 임의로 네 집 단 으로 분류 하여 각각 살포한 결과 가 아래와 같다.<br>\n",
    "\n",
    "|살충제|죽은수| 살아남은 수| 집 단 의 크기|\n",
    "|-|-|-|-|\n",
    "|A| 58| 37| 115|\n",
    "|B |43 |77 |120|\n",
    "|C| 56| 42| 98|\n",
    "|D| 45| 75| 120|\n",
    "\n",
    "<br>\n",
    "(1) 살충제 간에 차이 가 있는지 유의 수준=0.1 로 검정 하라,<br>\n",
    "(2) $P_A, P_B, P_C P_D$ 각각 죽은 모기 의 비율 이라고 할 때 각 95% 신뢰 구간을 구하라."
   ]
  },
  {
   "cell_type": "code",
   "execution_count": 82,
   "id": "JUK5FyAv4U0R",
   "metadata": {
    "id": "JUK5FyAv4U0R"
   },
   "outputs": [
    {
     "name": "stdout",
     "output_type": "stream",
     "text": [
      "관측값:\n",
      "     0   1\n",
      "A  58  37\n",
      "B  43  77\n",
      "C  56  42\n",
      "D  45  75\n",
      "\n",
      "기대값:\n",
      "            0          1\n",
      "0  44.318707  50.681293\n",
      "1  55.981524  64.018476\n",
      "2  45.718245  52.281755\n",
      "3  55.981524  64.018476\n",
      "\n",
      "카이제곱 통계량: 21.9316\n",
      "p-value: 0.0001\n",
      "자유도: 3\n",
      "\n",
      "귀무가설을 기각. 살충제 간 차이가 있음\n"
     ]
    }
   ],
   "source": [
    "data= pd.DataFrame({'죽은수':[58,43,56,45],\n",
    "                   '살아남은수':[37,77,42,75]},\n",
    "                  index = ['A','B','C','D'])\n",
    "\n",
    "stats, p_val, dof, expected = chi2_contingency(data)\n",
    "# 결과 출력\n",
    "print(\"관측값:\\n\", data)\n",
    "print(\"\\n기대값:\\n\", pd.DataFrame(expected,columns=data.columns,index=))\n",
    "print(f\"\\n카이제곱 통계량: {stats:.4f}\")\n",
    "print(f\"p-value: {p_val:.4f}\")\n",
    "print(f\"자유도: {dof}\")\n",
    "\n",
    "# 유의수준 0.1에서 가설 검정\n",
    "alpha = 0.1\n",
    "if p_val < alpha:\n",
    "    print(\"\\n귀무가설을 기각. 살충제 간 차이가 있음\")\n",
    "else:\n",
    "    print(\"\\n귀무가설을 채택. 살충제 간 효과 차이 없음\")"
   ]
  },
  {
   "cell_type": "markdown",
   "id": "q8GpQ4Jl4Veo",
   "metadata": {
    "id": "q8GpQ4Jl4Veo"
   },
   "source": [
    "## 15.4 연습문제"
   ]
  },
  {
   "cell_type": "markdown",
   "id": "08fec9ea-ced1-42dc-8863-35cf3415a620",
   "metadata": {},
   "source": [
    "4.2 스트레스 를 받는 직 종 에 근 무 하는 185 명 에 대한 조사 를 통하여 다음 과 같은 표를 얻었다.\n",
    "우울증의 유무 와 알콜 중독 과 관계 가 있는가? 유 의 수준 0.1로 검정 하라."
   ]
  },
  {
   "cell_type": "code",
   "execution_count": 129,
   "id": "P135m9_v4ZUn",
   "metadata": {
    "id": "P135m9_v4ZUn"
   },
   "outputs": [
    {
     "name": "stdout",
     "output_type": "stream",
     "text": [
      "관측값:\n",
      "         중독  정상\n",
      "우울증 보임  54  27\n",
      "우울증 없음  22  82\n",
      "\n",
      "기대값:\n",
      "           중독    정상\n",
      "우울증 보임  33.0  48.0\n",
      "우울증 없음  43.0  61.0\n",
      "\n",
      "카이제곱 통계량: 37.1112\n",
      "p-value: 0.0000\n",
      "자유도: 1\n",
      "\n",
      "귀무가설을 기각. 우울증유무는 알콜중독과 관계 있음\n"
     ]
    }
   ],
   "source": [
    "data = pd.DataFrame(\n",
    "{'중독':[54,22],\n",
    "'정상':[27,82]},\n",
    "index = ['우울증 보임','우울증 없음'])\n",
    "\n",
    "stats, p_val, dof, expected = chi2_contingency(data)\n",
    "# 결과 출력\n",
    "print(\"관측값:\\n\", data)\n",
    "print(\"\\n기대값:\\n\", pd.DataFrame(expected.round(0),columns=data.columns,index=data.index))\n",
    "print(f\"\\n카이제곱 통계량: {stats:.4f}\")\n",
    "print(f\"p-value: {p_val:.4f}\")\n",
    "print(f\"자유도: {dof}\")\n",
    "\n",
    "# 유의수준 0.1에서 가설 검정\n",
    "alpha = 0.1\n",
    "if p_val < alpha:\n",
    "    print(\"\\n귀무가설을 기각. 우울증유무는 알콜중독과 관계 있음\")\n",
    "else:\n",
    "    print(\"\\n귀무가설을 채택. 우울증유무는 알콜중독과 관계 없음\")"
   ]
  },
  {
   "cell_type": "markdown",
   "id": "7337b942-e526-4c5c-af47-ef231eea32d7",
   "metadata": {},
   "source": [
    "4.6 자제능력 으로 볼 때, 사 람 들 은 보통 3 가 지 집 단 으로 분 류 할 수 있다.<br>\n",
    "자제 능력 이 뛰어난 집단,보 통 인 집단, 자 제 능 력 이 떨어지는 집 단 이다. <br>\n",
    "이 3 가 지 집 단 의 사 람 들 에게 반 복 적 인 단순한 일을 시키고 언제든지 그만둘 수 있게 하였다. <br>\n",
    "다만 그 사 람 이 그 만 두 려고 할 때 \"진짜로 그만 두시겠습니까 ?\"라 는 질 문 을 한다. \n",
    "그 질 문 에 대한 결 과 가 아 래 의 표 와 같다,<br>\n",
    "\n",
    "|집단 |계속한다 |그만둔다 | 합계|\n",
    "|- |- |- | -|\n",
    "|뛰어난 집단| 9|9| 18|\n",
    "|보통인 집단| 8|12| 20|\n",
    "|떨어진 집단 | 3| 14|17|\n",
    "\n",
    "집단 간에 질 문 에 대한 대 답 이 차 이 가 있는가? ( 유의수준 0.05)"
   ]
  },
  {
   "cell_type": "code",
   "execution_count": 92,
   "id": "P-AzAzSc4iAK",
   "metadata": {
    "id": "P-AzAzSc4iAK"
   },
   "outputs": [
    {
     "name": "stdout",
     "output_type": "stream",
     "text": [
      "관측값:\n",
      "    계속한다  그만둔다\n",
      "0     9     9\n",
      "1     8    12\n",
      "2     3    14\n",
      "\n",
      "기대값:\n",
      "           0          1\n",
      "0  6.545455  11.454545\n",
      "1  7.272727  12.727273\n",
      "2  6.181818  10.818182\n",
      "\n",
      "카이제곱 통계량: 4.1342\n",
      "p-value: 0.1265\n",
      "자유도: 2\n",
      "\n",
      "귀무가설을 채택. 집단간 차이 없음\n"
     ]
    }
   ],
   "source": [
    "data = pd.DataFrame({\n",
    "'계속한다':[9,8,3],\n",
    "'그만둔다':[9,12,14]\n",
    "})\n",
    "stats, p_val, dof, expected = chi2_contingency(data)\n",
    "# 결과 출력\n",
    "print(\"관측값:\\n\", data)\n",
    "print(\"\\n기대값:\\n\", pd.DataFrame(expected))\n",
    "print(f\"\\n카이제곱 통계량: {chi2_stat:.4f}\")\n",
    "print(f\"p-value: {p_val:.4f}\")\n",
    "print(f\"자유도: {dof}\")\n",
    "\n",
    "# 유의수준 0.05에서 가설 검정\n",
    "alpha = 0.05\n",
    "if p_val < alpha:\n",
    "    print(\"\\n귀무가설을 기각. 집단간 차이 있음\")\n",
    "else:\n",
    "    print(\"\\n귀무가설을 채택. 집단간 차이 없음\")"
   ]
  },
  {
   "cell_type": "markdown",
   "id": "uGBHR1uW4kKj",
   "metadata": {
    "id": "uGBHR1uW4kKj"
   },
   "source": [
    "## 종합문제"
   ]
  },
  {
   "cell_type": "markdown",
   "id": "f7a8c1bf-5e11-4fc4-abe4-cc5423ca3375",
   "metadata": {},
   "source": [
    "5.3 다음 표 는 한 병 원 에서 1 년 동안 태어난 아 이 들 을 분 기 별로 분 류 한 자 료 이다.\n",
    "\n",
    "|분기|1분기|2분기|3분기|4분기|\n",
    "|-|-|-|-|-|\n",
    "|아이수| 55| 29| 26| 41| \n",
    "\n",
    "<br>\n",
    "\n",
    "1 사분기에 태어난 아이들이 나머지 기간에 태어난 아이들보다 2배 많다는 가 설에 대해 유의수준\n",
    "0.1 로 검 정 하라."
   ]
  },
  {
   "cell_type": "code",
   "execution_count": 109,
   "id": "JXpHb5yd4lms",
   "metadata": {
    "id": "JXpHb5yd4lms"
   },
   "outputs": [
    {
     "name": "stdout",
     "output_type": "stream",
     "text": [
      "관측값:\n",
      " [55 29 26 41]\n",
      "\n",
      "기대값:\n",
      " [60.4, 30.2, 30.2, 30.2]\n",
      "\n",
      "카이제곱 통계량: 4.9768\n",
      "p-value: 0.1735\n",
      "자유도: 2\n",
      "\n",
      "귀무가설을 채택. 집단간 차이 없음\n"
     ]
    }
   ],
   "source": [
    "import numpy as np\n",
    "from scipy.stats import chisquare\n",
    "data = np.array([55,29,26,41])\n",
    "fst, other = sum(data)*2/5, sum(data)/5\n",
    "expected = [fst,other,other,other]\n",
    "stats, p_val = chisquare(data, exp)\n",
    "\n",
    "print(\"관측값:\\n\", data)\n",
    "print(\"\\n기대값:\\n\", expected)\n",
    "print(f\"\\n카이제곱 통계량: {stats:.4f}\")\n",
    "print(f\"p-value: {p_val:.4f}\")\n",
    "print(f\"자유도: {dof}\")\n",
    "\n",
    "# 유의수준 0.1에서 가설 검정\n",
    "alpha = 0.1\n",
    "if p_val < alpha:\n",
    "    print(\"\\n귀무가설을 기각. 집단간 차이 있음\")\n",
    "else:\n",
    "    print(\"\\n귀무가설을 채택. 집단간 차이 없음\")"
   ]
  },
  {
   "cell_type": "markdown",
   "id": "301fe422-c571-4fa2-a008-cbe16416d5cc",
   "metadata": {},
   "source": [
    "5.7 새로 개발된 품종의 식물이 토질에 영향을 받는가를 조사하기 위해 세 종류의 토지, <br>\n",
    "진흙, 모래, 양토 에 각각 65, 60, 60 그루를 심어 성장속도를 기록 하여 다음 과 같은 표를 작성하였다.\n",
    "\n",
    "|-|진흙|모래|양토|\n",
    "|-|-|-|-|\n",
    "|불량| 16| 8| 14|\n",
    "|보통| 31| 16 |21|\n",
    "|우량| 18| 36| 25|\n",
    "\n",
    "토질이 식물의 성장속도에 영향을 미친다고 할 수 있는가? 카이제곱 동질성 검정 을 시행하라. ( 유 의 수준\n",
    "0.05)"
   ]
  },
  {
   "cell_type": "code",
   "execution_count": 116,
   "id": "PyAGV9VW4tEW",
   "metadata": {
    "id": "PyAGV9VW4tEW"
   },
   "outputs": [
    {
     "name": "stdout",
     "output_type": "stream",
     "text": [
      "관측값:\n",
      "     진흙  모래  우량\n",
      "불량  16  31  18\n",
      "보통  31  16  35\n",
      "우량  18  21  25\n",
      "\n",
      "기대값:\n",
      "       진흙    모래    우량\n",
      "불량  20.0  21.0  24.0\n",
      "보통  25.0  26.0  30.0\n",
      "우량  20.0  21.0  24.0\n",
      "\n",
      "카이제곱 통계량: 13.5193\n",
      "p-value: 0.0090\n",
      "자유도: 4\n",
      "\n",
      "귀무가설을 기각. 토질이 식물의 성장속도에 영향을 미친다고 할 수 있다\n"
     ]
    }
   ],
   "source": [
    "data = pd.DataFrame({\n",
    "    '진흙':[16,31,18],\n",
    "    '모래':[31,16,21],\n",
    "    '우량':[18,35,25]},\n",
    "index=['불량','보통','우량'])\n",
    "\n",
    "H0 = '토질이 식물의 성장속도에 영향을 미친다고 할 수 없다'\n",
    "H1 = '토질이 식물의 성장속도에 영향을 미친다고 할 수 있다'\n",
    "\n",
    "from scipy.stats import chi2_contingency\n",
    "stats, p_val , dof, expected = chi2_contingency(data)\n",
    "\n",
    "print(\"관측값:\\n\", data)\n",
    "print(\"\\n기대값:\\n\", pd.DataFrame(expected.round(0),columns=data.columns,index=data.index))\n",
    "print(f\"\\n카이제곱 통계량: {stats:.4f}\")\n",
    "print(f\"p-value: {p_val:.4f}\")\n",
    "print(f\"자유도: {dof}\")\n",
    "\n",
    "# 유의수준 0.05에서 가설 검정\n",
    "alpha = 0.05\n",
    "if p_val < alpha:\n",
    "    print(f\"\\n귀무가설을 기각. {H1}\")\n",
    "else:\n",
    "    print(f\"\\n귀무가설을 채택. {H0}\")"
   ]
  },
  {
   "cell_type": "markdown",
   "id": "ba169ca3-87b4-4e81-8d13-2634b8a66430",
   "metadata": {},
   "source": [
    "5.17 다음은 어느 회사에서 분석 업무와 영업업무에 업무 관련 <br>\n",
    "전공자와 비전공자 채용전형을 진행결과를 보여주는 표 이다. <br>\n",
    "차례대로 분석 업무의 결과, 영업 업무의 결과임(유의 수준 0.05)<br>\n",
    "\n",
    "- 분 석 업 무 의 결과\n",
    "\n",
    "||합격|불합격|합계|\n",
    "|-|-|-|-|\n",
    "|비전공자| 25| 50| 75|\n",
    "|전공자| 75| 150| 225|\n",
    "\n",
    "- 영 업 업 무 의 결과\n",
    "\n",
    "||합격|불합격|합계|\n",
    "|-|-|-|-|\n",
    "|비전공자| 150| 50| 200|\n",
    "|전공자| 75| 25| 100|\n",
    "\n",
    "<br>\n",
    "(1) 각 업무에서 각각 전공과 합격여부 가 독립 인지 독립성 검정을 시행하라.<br>\n",
    "(2) 전체에서 전공과 합격 여부 에 대한 독립성 검정을 시행하라.<br>\n",
    "(3) (1), (2) 의 결과로부터 통계분석에 대한 주의점에 대해 설명하라."
   ]
  },
  {
   "cell_type": "code",
   "execution_count": 123,
   "id": "kqBw-xep42JK",
   "metadata": {
    "id": "kqBw-xep42JK"
   },
   "outputs": [
    {
     "name": "stdout",
     "output_type": "stream",
     "text": [
      "------------분석업무-------------\n",
      "관측값:\n",
      "       합격  불합격\n",
      "전공자   25   50\n",
      "비전공자  75  150\n",
      "\n",
      "기대값:\n",
      "         합격    불합격\n",
      "전공자   25.0   50.0\n",
      "비전공자  75.0  150.0\n",
      "\n",
      "카이제곱 통계량: 0.0000\n",
      "p-value: 1.0000\n",
      "자유도: 1\n",
      "\n",
      "귀무가설을 채택. 업무에서 전공과 합격여부가 독립이 아니다\n",
      "\n",
      "------------영업업무-------------\n",
      "관측값:\n",
      "        합격  불합격\n",
      "전공자   150   50\n",
      "비전공자   75   25\n",
      "\n",
      "기대값:\n",
      "          합격   불합격\n",
      "전공자   150.0  50.0\n",
      "비전공자   75.0  25.0\n",
      "\n",
      "카이제곱 통계량: 0.0000\n",
      "p-value: 1.0000\n",
      "자유도: 1\n",
      "\n",
      "귀무가설을 채택. 업무에서 전공과 합격여부가 독립이 아니다\n"
     ]
    }
   ],
   "source": [
    "from scipy.stats import chi2_contingency\n",
    "H0='업무에서 전공과 합격여부가 독립이 아니다'\n",
    "H1='업무에서 전공과 합격여부가 독립이다'\n",
    "#분석업무\n",
    "data1=pd.DataFrame({\n",
    "    '합격':[25,75],\n",
    "    '불합격':[50,150],\n",
    "},\n",
    "    index=['전공자','비전공자']\n",
    ")\n",
    "#영업업무\n",
    "data2=pd.DataFrame({\n",
    "    '합격':[150,75],\n",
    "    '불합격':[50,25],\n",
    "},\n",
    "    index=['전공자','비전공자']\n",
    ")\n",
    "stats1,p_val1,dof1,expected1 = chi2_contingency(data1)\n",
    "stats2,p_val2,dof2,expected2 = chi2_contingency(data2)\n",
    "print(\"------------분석업무-------------\")\n",
    "print(\"관측값:\\n\", data1)\n",
    "print(\"\\n기대값:\\n\", pd.DataFrame(expected1.round(0),columns=data1.columns,index=data1.index))\n",
    "print(f\"\\n카이제곱 통계량: {stats1:.4f}\")\n",
    "print(f\"p-value: {p_val1:.4f}\")\n",
    "print(f\"자유도: {dof1}\")\n",
    "\n",
    "# 유의수준 0.05에서 가설 검정\n",
    "alpha = 0.05\n",
    "if p_val1 < alpha:\n",
    "    print(f\"\\n귀무가설을 기각. {H1}\")\n",
    "else:\n",
    "    print(f\"\\n귀무가설을 채택. {H0}\")\n",
    "print(\"\\n------------영업업무-------------\")    \n",
    "print(\"관측값:\\n\", data2)\n",
    "print(\"\\n기대값:\\n\", pd.DataFrame(expected2.round(0),columns=data2.columns,index=data2.index))\n",
    "print(f\"\\n카이제곱 통계량: {stats2:.4f}\")\n",
    "print(f\"p-value: {p_val2:.4f}\")\n",
    "print(f\"자유도: {dof2}\")\n",
    "\n",
    "# 유의수준 0.05에서 가설 검정\n",
    "alpha = 0.05\n",
    "if p_val2 < alpha:\n",
    "    print(f\"\\n귀무가설을 기각. {H1}\")\n",
    "else:\n",
    "    print(f\"\\n귀무가설을 채택. {H0}\")\n"
   ]
  },
  {
   "cell_type": "code",
   "execution_count": 127,
   "id": "435d79d5-80be-45bb-a608-0d826d1b0c7b",
   "metadata": {},
   "outputs": [
    {
     "name": "stdout",
     "output_type": "stream",
     "text": [
      "------------분석업무-------------\n",
      "관측값:\n",
      "        합격  불합격\n",
      "전공자   175  100\n",
      "비전공자  150  175\n",
      "\n",
      "기대값:\n",
      "          합격    불합격\n",
      "전공자   149.0  126.0\n",
      "비전공자  176.0  149.0\n",
      "\n",
      "카이제곱 통계량: 17.6409\n",
      "p-value: 0.0000\n",
      "자유도: 1\n",
      "\n",
      "귀무가설을 기각. 업무에서 전공과 합격여부가 독립이다\n"
     ]
    }
   ],
   "source": [
    "data = data1+data2\n",
    "stats,p_val,dof,expected = chi2_contingency(data)\n",
    "\n",
    "print(\"------------분석업무-------------\")\n",
    "print(\"관측값:\\n\", data)\n",
    "print(\"\\n기대값:\\n\", pd.DataFrame(expected.round(0),columns=data.columns,index=data.index))\n",
    "print(f\"\\n카이제곱 통계량: {stats:.4f}\")\n",
    "print(f\"p-value: {p_val:.4f}\")\n",
    "print(f\"자유도: {dof}\")\n",
    "# 유의수준 0.05에서 가설 검정\n",
    "alpha = 0.05\n",
    "if p_val < alpha:\n",
    "    print(f\"\\n귀무가설을 기각. {H1}\")\n",
    "else:\n",
    "    print(f\"\\n귀무가설을 채택. {H0}\")\n"
   ]
  },
  {
   "cell_type": "markdown",
   "id": "72a2dbff-87c4-4550-aa41-d03d91a21280",
   "metadata": {},
   "source": [
    "각각의 업무에 대해 카이제곱을 하면 독립적이지 않으나, 전체데이터로 진행하면 독립으로 나옴.\n",
    "\n",
    "- 심프슨의 역설로 인해 발생한 현상.\n",
    "    - 심프슨의 역설 : 데이터를 전체로 보면 특정한 경향성이 있지만, 부분 집단으로 나누어 보면 그 경향성이 사라지거나 반대로 나타나는 현상\n",
    "\n",
    "- 이러한 현상이 발생하는 이유는 전체 데이터와 부분 데이터에서 각 집단의 비율이 다르기 때문\n",
    "    - 예를 들어, 이 문제에서는 전체 데이터에서는 전공자와 비전공자의 비율이 비슷하지만, 각 업무별로 보면 그 비율이 다름\n",
    "    - 따라서 전체 데이터로 보면 전공과 합격여부가 독립적인 것처럼 보이지만, 실제로는 각 업무별로 전공과 합격여부가 연관\n",
    "\n",
    "\n",
    "- 이러한 심프슨의 역설은 데이터를 해석할 때 주의해야 할 중요한 사항. 전체 데이터와 부분 데이터를 모두 고려하여 종합적으로 판단해야 하며, 단순히 전체 데이터만으로 결론을 내리는 것은 위험할 수 있음"
   ]
  }
 ],
 "metadata": {
  "colab": {
   "provenance": [],
   "toc_visible": true
  },
  "kernelspec": {
   "display_name": "tw310",
   "language": "python",
   "name": "tw310"
  },
  "language_info": {
   "codemirror_mode": {
    "name": "ipython",
    "version": 3
   },
   "file_extension": ".py",
   "mimetype": "text/x-python",
   "name": "python",
   "nbconvert_exporter": "python",
   "pygments_lexer": "ipython3",
   "version": "3.10.14"
  }
 },
 "nbformat": 4,
 "nbformat_minor": 5
}
