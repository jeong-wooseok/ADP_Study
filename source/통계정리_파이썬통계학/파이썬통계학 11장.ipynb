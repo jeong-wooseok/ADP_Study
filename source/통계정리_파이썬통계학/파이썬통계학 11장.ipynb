{
 "cells": [
  {
   "cell_type": "markdown",
   "metadata": {
    "id": "9FAxp8wm0R09"
   },
   "source": [
    "# 정규모집단에서의 추론 (표본의 크기가 작을 때)"
   ]
  },
  {
   "cell_type": "code",
   "execution_count": 78,
   "metadata": {},
   "outputs": [],
   "source": [
    "import warnings\n",
    "warnings.filterwarnings('ignore')"
   ]
  },
  {
   "cell_type": "markdown",
   "metadata": {
    "id": "xmlRq5yN0u0K"
   },
   "source": [
    "## 2. t분포"
   ]
  },
  {
   "cell_type": "markdown",
   "metadata": {
    "id": "QJDcK7iR0u6n"
   },
   "source": [
    "### 예제 1\n",
    "부록의 t분포표를 이용하여 자유도가 2와 10일 때, 각각 상위 10%의 확률을 주는 값을 찾아라."
   ]
  },
  {
   "cell_type": "code",
   "execution_count": 79,
   "metadata": {
    "colab": {
     "base_uri": "https://localhost:8080/"
    },
    "executionInfo": {
     "elapsed": 334,
     "status": "ok",
     "timestamp": 1710110175089,
     "user": {
      "displayName": "WOOSEOK JEONG",
      "userId": "01703662546986869335"
     },
     "user_tz": -540
    },
    "id": "_OykfFAF1Q6E",
    "outputId": "3ded4219-1afe-4fc9-e645-755a621d06bd"
   },
   "outputs": [
    {
     "name": "stdout",
     "output_type": "stream",
     "text": [
      "1.886, 1.372\n"
     ]
    }
   ],
   "source": [
    "from scipy.stats import t\n",
    "dof1, dof2 = 2, 10\n",
    "a = 0.1\n",
    "print(f\"{-t.ppf(a,dof1):.3f}, {-t.ppf(a,dof2):.3f}\")"
   ]
  },
  {
   "cell_type": "markdown",
   "metadata": {
    "id": "bSo-gb1x08P2"
   },
   "source": [
    "### 예제 2\n",
    "자유도가 9인 t분포를 갖는 통계량 t에 대하여 P(-b<=t<=b)=0.9를 만족시키는 b를 찾아라."
   ]
  },
  {
   "cell_type": "code",
   "execution_count": 84,
   "metadata": {
    "colab": {
     "base_uri": "https://localhost:8080/"
    },
    "executionInfo": {
     "elapsed": 289,
     "status": "ok",
     "timestamp": 1710110312485,
     "user": {
      "displayName": "WOOSEOK JEONG",
      "userId": "01703662546986869335"
     },
     "user_tz": -540
    },
    "id": "PL0_pl_xV9W8",
    "outputId": "e28553ac-d95e-43b9-e8c5-65da8a3f0bf8"
   },
   "outputs": [
    {
     "data": {
      "text/plain": [
       "1.8331129326536333"
      ]
     },
     "execution_count": 84,
     "metadata": {},
     "output_type": "execute_result"
    }
   ],
   "source": [
    "from scipy.stats import t\n",
    "dof = 9\n",
    "c= 0.9\n",
    "b= np.abs(t.ppf((1+c)/2,dof))\n",
    "b"
   ]
  },
  {
   "cell_type": "markdown",
   "metadata": {
    "id": "TbyWY2N21RTc"
   },
   "source": [
    "### 연습문제 2.4\n",
    "부록의 t분포표를 이용하여 각 경우의 확률을 구하라.\n",
    "\n",
    "(1) 자유도가 17일 때, t<-1.740일 확률\n",
    "\n",
    "(2) 자유도가 6일 때, |t|<3.143일 확률\n",
    "\n",
    "(3) 자유도가 18일 때, -1.330 < t < 1.330일 확률\n",
    "\n",
    "(4) 자유도가 10일 때, -1.372 < t < 2.764일 확률"
   ]
  },
  {
   "cell_type": "code",
   "execution_count": 86,
   "metadata": {},
   "outputs": [
    {
     "data": {
      "text/plain": [
       "0.9800084204777897"
      ]
     },
     "execution_count": 86,
     "metadata": {},
     "output_type": "execute_result"
    }
   ],
   "source": [
    "dof, c = 6, 3.143\n",
    "res2 = 1 - 2*(1- t.cdf(c,dof))\n",
    "res2"
   ]
  },
  {
   "cell_type": "code",
   "execution_count": 87,
   "metadata": {
    "colab": {
     "base_uri": "https://localhost:8080/"
    },
    "executionInfo": {
     "elapsed": 3,
     "status": "ok",
     "timestamp": 1710111056109,
     "user": {
      "displayName": "WOOSEOK JEONG",
      "userId": "01703662546986869335"
     },
     "user_tz": -540
    },
    "id": "wAoCLWB61ozL",
    "outputId": "df6f9e33-4e14-4e6f-a021-6a818f2c350c"
   },
   "outputs": [
    {
     "name": "stdout",
     "output_type": "stream",
     "text": [
      "(1) 자유도가 17일 때, t<-1.740일 확률:0.050\n",
      "(2) 자유도가 6일 때, |t|<3.143일 확률:0.980\n",
      "(3) 자유도가 18일 때, -1.330 < t < 1.330일 확률:0.800\n",
      "(4) 자유도가 10일 때, -1.372 < t < 2.764일 확률:0.910\n"
     ]
    }
   ],
   "source": [
    "from scipy.stats import t\n",
    "\n",
    "# (1) 자유도가 17일 때, t<-1.740일 확률\n",
    "dof, c = 17, -1.74\n",
    "res1 = t.cdf(c,dof)\n",
    "\n",
    "print(f'(1) 자유도가 17일 때, t<-1.740일 확률:{res1:.3f}')\n",
    "\n",
    "# (2) 자유도가 6일 때, |t|<3.143일 확률\n",
    "dof, c = 6, 3.143\n",
    "res2 = 1 - 2 * (1- t.cdf(c,dof))\n",
    "print(f'(2) 자유도가 6일 때, |t|<3.143일 확률:{res2:.3f}')\n",
    "\n",
    "# (3) 자유도가 18일 때, -1.330 < t < 1.330일 확률\n",
    "dof, c = 18, 1.33\n",
    "res3 = 1 - 2 * (1-t.cdf(c,dof))\n",
    "print(f'(3) 자유도가 18일 때, -1.330 < t < 1.330일 확률:{res3:.3f}')\n",
    "\n",
    "# (4) 자유도가 10일 때, -1.372 < t < 2.764일 확률\n",
    "dof, c1, c2 = 10, -1.372, 2.764\n",
    "res4 = 1 - t.cdf(c1,dof)+1 - t.cdf(c2,dof)\n",
    "print(f'(4) 자유도가 10일 때, -1.372 < t < 2.764일 확률:{res4:.3f}')\n"
   ]
  },
  {
   "cell_type": "markdown",
   "metadata": {
    "id": "gD7Nn42C1iBm"
   },
   "source": [
    "### 연습문제 2.5\n",
    "다음의 각 조건을 만족시키는 b를 찾아라.\n",
    "\n",
    "(1) 자유도가 6일 때, P[t<b]=0.95\n",
    "\n",
    "(2) 자유도가 15일 때, P[-b<t<b]=0.95\n",
    "\n",
    "(3) 자유도가 8일 때, P[t>b]=0.01\n",
    "\n",
    "(4) 자유도가 11일 때, P[t>b]=0.99"
   ]
  },
  {
   "cell_type": "code",
   "execution_count": 47,
   "metadata": {
    "id": "-nPG6SS01pTa",
    "outputId": "6de12916-5932-4212-e368-ea399d62cb78"
   },
   "outputs": [
    {
     "name": "stdout",
     "output_type": "stream",
     "text": [
      "- 자유도가 6일 때, P[t<b]=0.95 인 b는 1.943180280392782\n",
      "- 자유도가 15일 때, P[-b<t<b]=0.95 인 b는 2.131449545559323\n",
      "- 자유도가 8일 때, P[t>b]=0.01 인 b는 -2.896459442760523\n",
      "- 자유도가 11일 때, P[t>b]=0.99인 b는 2.718079183535557\n"
     ]
    }
   ],
   "source": [
    "from scipy.stats import t\n",
    "# (1) 자유도가 6일 때, P[t<b]=0.95\n",
    "df = 6\n",
    "a = 0.05\n",
    "b = - t.ppf(a, df)\n",
    "print(f'- 자유도가 6일 때, P[t<b]=0.95 인 b는 {b}')\n",
    "\n",
    "# (2) 자유도가 15일 때, P[-b<t<b]=0.95\n",
    "df = 15\n",
    "a = 0.05\n",
    "b = - t.ppf(a/2,df)\n",
    "print(f'- 자유도가 15일 때, P[-b<t<b]=0.95 인 b는 {b}')\n",
    "\n",
    "# (3) 자유도가 8일 때, P[t>b]=0.01\n",
    "df = 8\n",
    "a = 0.01\n",
    "b = t.ppf(a,df)\n",
    "print(f'- 자유도가 8일 때, P[t>b]=0.01 인 b는 {b}')\n",
    "\n",
    "# (4) 자유도가 11일 때, P[t>b]=0.99\n",
    "df = 11\n",
    "a = 0.01\n",
    "b = - t.ppf(a,df)\n",
    "print(f'- 자유도가 11일 때, P[t>b]=0.99인 b는 {b}')"
   ]
  },
  {
   "cell_type": "markdown",
   "metadata": {
    "id": "Eqz59HSa1ngF"
   },
   "source": [
    "### 연습문제 2.6\n",
    "자유도가 5, 10, 15, 20, 29일 때, $t_{0.05}$값을 찾아라. 이 값이 자유도에 따라 증가하는가? 아니면 감소하는가?\n"
   ]
  },
  {
   "cell_type": "code",
   "execution_count": 88,
   "metadata": {
    "colab": {
     "background_save": true,
     "base_uri": "https://localhost:8080/",
     "height": 321
    },
    "executionInfo": {
     "elapsed": 322,
     "status": "error",
     "timestamp": 1710111362470,
     "user": {
      "displayName": "WOOSEOK JEONG",
      "userId": "01703662546986869335"
     },
     "user_tz": -540
    },
    "id": "vQW7Lq5q2uxk",
    "outputId": "417800b1-7b3d-4a66-da34-301f93bd1bc8"
   },
   "outputs": [
    {
     "name": "stdout",
     "output_type": "stream",
     "text": [
      "5:t값은 2.0150483726691575\n",
      "10:t값은 1.8124611228107341\n",
      "15:t값은 1.7530503556925552\n",
      "20:t값은 1.7247182429207863\n",
      "29:t값은 1.6991270265334977\n"
     ]
    }
   ],
   "source": [
    "from scipy.stats import t\n",
    "dofs = [5, 10, 15, 20, 29]\n",
    "a = 0.05\n",
    "for dof in dofs:\n",
    "    print(f'{dof}:t값은 {-t.ppf(a, dof)}')"
   ]
  },
  {
   "cell_type": "markdown",
   "metadata": {
    "id": "f69_J0UA7MO9"
   },
   "source": [
    "---"
   ]
  },
  {
   "cell_type": "markdown",
   "metadata": {
    "id": "PoMI6duB2u9A"
   },
   "source": [
    "## 3. 모평균에 대한 추론"
   ]
  },
  {
   "cell_type": "markdown",
   "metadata": {
    "id": "VBtzk7Tx2y60"
   },
   "source": [
    "### 예제 3\n",
    "우주선 제작에 쓰기 위해서 새롭게 개발된 합금의 평균 장력 $\\mu$를 추정하고자 한다. 15개의 새 합금조각으로부터 장력을 측정한 결과 평균이 39.3, 표준편차가 2.6으로 나타났다.\n",
    "\n",
    "(1) 새롭게 개발된 합금의 평균 장력 $\\mu$에 대한 90% 신뢰구간을 구하라.\n",
    "\n",
    "(2) 모평균 $\\mu$가 (1)에서 구한 신뢰구간에 포함되겠는가?"
   ]
  },
  {
   "cell_type": "code",
   "execution_count": 89,
   "metadata": {
    "id": "_W3h8WsE2x84",
    "outputId": "f5d97a28-51fd-4130-945a-9b8ffc586c18"
   },
   "outputs": [
    {
     "name": "stdout",
     "output_type": "stream",
     "text": [
      "새롭게 개발된 합금의 평균 장력에 대한 90% 신뢰구간은 38.118 ~ 40.482\n",
      "90%의 확률로 포함된다\n"
     ]
    }
   ],
   "source": [
    "# (1) 새롭게 개발된 합금의 평균 장력 $\\mu$에 대한 90% 신뢰구간을 구하라.\n",
    "n = 15\n",
    "df = n - 1\n",
    "x, s, a = 39.3, 2.6, 0.1\n",
    "t_stats = - t.ppf(a/2, df)\n",
    "me = t_stats * s / n**0.5\n",
    "print(f'새롭게 개발된 합금의 평균 장력에 대한 90% 신뢰구간은 {x-me:.3f} ~ {x+me:.3f}')\n",
    "\n",
    "# (2) 모평균 $\\mu$가 (1)에서 구한 신뢰구간에 포함되겠는가?\n",
    "print(f'90%의 확률로 포함된다')"
   ]
  },
  {
   "cell_type": "markdown",
   "metadata": {
    "id": "WxZoh8Mf3g1w"
   },
   "source": [
    "### 예제 4\n",
    "어느 도시의 보건복지과에서는 그 도시의 상수원인 어느 호수의 수질에 관심이 있다고 한다. 수질을 나타내는 하나의 수치로 단위부피당 평균 세균수가 있는데, 그 수가 200이상이면 상수원으로 적합하지 않다고 한다. 호수의 열 군데에서 물을 떠서 조사한 결과 단위부피당 세균수가 다음과 같이 나타났다.\n",
    "\n",
    "```\n",
    "175 190 215 198 184\n",
    "207 210 193 196 180\n",
    "```\n",
    "\n",
    "이 자료로부터 호수의 단위부피당 평균 세균수($\\mu$)가 200보다 적다고 주장할수 있겠는가?"
   ]
  },
  {
   "cell_type": "code",
   "execution_count": 90,
   "metadata": {
    "id": "m5J6m_H93lCG",
    "outputId": "8251eefe-ebf9-4462-d24c-94cad04b95e3"
   },
   "outputs": [
    {
     "name": "stdout",
     "output_type": "stream",
     "text": [
      "0.242는 유의수준 0.05보다 크므로 귀무가설을 기각하지 못하여 평균세군수가 200보다 작다고 주장할 수 없다\n"
     ]
    }
   ],
   "source": [
    "# t-test를 사용가능\n",
    "import numpy as np\n",
    "from scipy.stats import ttest_1samp\n",
    "\n",
    "data = [175, 190, 215, 198, 184,207, 210, 193, 196, 180]\n",
    "data = np.array(data)\n",
    "c = 200 # mu가 200보다 적어야함\n",
    "\n",
    "t_stats, p_value = ttest_1samp(data, 200)\n",
    "alpha = 0.05\n",
    "\n",
    "if p_value<alpha:\n",
    "    print(f\"{p_value:.3f}는 유의수준 {alpha}보다 작으므로 귀무가설을 기각하여 평균세군수가 200보다 작다고 주장할 수 있다\")\n",
    "else:\n",
    "    print(f\"{p_value:.3f}는 유의수준 {alpha}보다 크므로 귀무가설을 기각하지 못하여 평균세군수가 200보다 작다고 주장할 수 없다\")"
   ]
  },
  {
   "cell_type": "markdown",
   "metadata": {
    "id": "DNAY70kP4I9O"
   },
   "source": [
    "### 연습문제 3.5\n",
    "해초로부터 단백질을 추출하여 이를 동물사료에 사용할수 있는지를 알아보기 위해 해초 50kg당 단백질 추출물의 무게를 측정하였다. 18번의 측정에서 얻어진 평균과 표준편차는 각각 3.6kg과 0.8kg이었다. 해초 50kg당 단백질 추출물의 평균 생산량에 대한 95% 신뢰구간을 구하라."
   ]
  },
  {
   "cell_type": "code",
   "execution_count": null,
   "metadata": {
    "id": "oZrxN5v_4RYP",
    "outputId": "847c7186-a9d7-471d-a374-210c6cc1e167"
   },
   "outputs": [
    {
     "name": "stdout",
     "output_type": "stream",
     "text": [
      "해초 50kg당 단백질 추출물의 평균 생산량에 대한 95% 신뢰구간은 3.202kg ~ 3.998kg\n"
     ]
    }
   ],
   "source": [
    " # 50kg당 단백질 추출물의 무게를 측정하였다. 18번의 측정에서 얻어진 평균과 표준편차는 각각 3.6kg과 0.8kg이었다. 해초 50kg당 단백질 추출물의 평균 생산량에 대한 95% 신뢰구간을 구하라.\n",
    "from scipy.stats import t\n",
    "x = 3.6\n",
    "s = 0.8\n",
    "a = 0.05\n",
    "n = 18\n",
    "df = n-1\n",
    "\n",
    "t = -t.ppf(a/2,df)\n",
    "se = s/n**0.5\n",
    "\n",
    "print(f'해초 50kg당 단백질 추출물의 평균 생산량에 대한 95% 신뢰구간은 {x-t*se:.3f}kg ~ {x+t*se:.3f}kg')"
   ]
  },
  {
   "cell_type": "markdown",
   "metadata": {
    "id": "peMlnUZu4Rgy"
   },
   "source": [
    "### 연습문제 3.6\n",
    "호수오염을 조사하기 위해 호수 바닥의 침전물층의 상단 25곳에서 각각 1000 $cm^3$의 표본을 채취하여 납의 농도를 측정하였다. 이들 측정치들의 표본평균과 표준편차는 각각 0.38과 0.06으로 나타났다. 호수바닥에서 침전물 1000$cm^3$당 납의 평균 농도에 대한 99% 신뢰구간을 구하라."
   ]
  },
  {
   "cell_type": "code",
   "execution_count": null,
   "metadata": {
    "id": "lMUUVxcA4V4k",
    "outputId": "8b075795-5905-480b-d1a0-e305b4ac0b54"
   },
   "outputs": [
    {
     "name": "stdout",
     "output_type": "stream",
     "text": [
      "호수바닥에서 침전물 1000 𝑐𝑚3 당 납의 평균 농도에 대한 99% 신뢰구은 0.237 ~ 0.523\n"
     ]
    }
   ],
   "source": [
    "from scipy.stats import t\n",
    "n = 25\n",
    "df = n-1\n",
    "x = 0.38\n",
    "s = 0.06\n",
    "alpha = 0.01\n",
    "t_ = -t.ppf(alpha/2, df)\n",
    "se = s/n**0.05\n",
    "print(f'호수바닥에서 침전물 1000 𝑐𝑚3 당 납의 평균 농도에 대한 99% 신뢰구은 {x-t_*se:.3f} ~ {x+t_*se:.3f}')"
   ]
  },
  {
   "cell_type": "markdown",
   "metadata": {
    "id": "wVvDLwQG4WCB"
   },
   "source": [
    "### 연습문제 3.8\n",
    "정규모집단으로부터 크기가 18인 표본을 이용하여 모평균 $\\mu$에 대한 90% 신뢰구간을 계산하여 (122, 146)의 결과를 얻었다. 이 결과를 사용하여 아래의 문제에 답하라.\n",
    "\n",
    "(1) 모평균 $\\mu$의 추정값과 추정량의 90% 오차범위를 구하라.\n",
    "\n",
    "(2) 모평균 $\\mu$에 대한 95% 신뢰구간을 구하라."
   ]
  },
  {
   "cell_type": "code",
   "execution_count": null,
   "metadata": {
    "id": "5P3g_ut84cy3",
    "outputId": "94910435-4dd1-47ce-884a-4437c8397b54"
   },
   "outputs": [
    {
     "name": "stdout",
     "output_type": "stream",
     "text": [
      "(1) 모평균  𝜇 의 추정값은 134.000 추정량의 90% 오차범위는 12.000.\n",
      "(2) 모평균  𝜇 에 대한 95% 신뢰구간은 125.264 ~ 142.736\n"
     ]
    }
   ],
   "source": [
    "from scipy.stats import t\n",
    "\n",
    "#  18인 표본을 이용하여 모평균  𝜇 에 대한 90% 신뢰구간을 계산하여 (122, 146)의 결과를 얻었다.\n",
    "n = 18\n",
    "df = n - 1\n",
    "\n",
    "# 주어진 결과에서 신뢰구간은 (122, 146)이므로 추정값은 신뢰구간의 중심\n",
    "m_e = (122+146)/2\n",
    "\n",
    "me = 146- m_e\n",
    "\n",
    "print(f'(1) 모평균  𝜇 의 추정값은 {m_e:.3f} 추정량의 90% 오차범위는 {me:.3f}.')\n",
    "\n",
    "se = me / (-t.ppf(0.01/2,df))\n",
    "t_ = (-t.ppf(0.05/2,df))\n",
    "\n",
    "print(f'(2) 모평균  𝜇 에 대한 95% 신뢰구간은 {m_e-t_*se:.3f} ~ {m_e+t_*se:.3f}')"
   ]
  },
  {
   "cell_type": "markdown",
   "metadata": {
    "id": "1v4D73yr4dIN"
   },
   "source": [
    "### 연습문제 3.17\n",
    "어떤 압축기의 냉각제로 사용된 물의 평균 온도증가는 5도씨를 넘어서는 안된다고 한다. 냉강제의 온도증가량을 8개의 독립적인 압축기의 수관에서 측정하였더니 그 측정치들이 다음과 같았다.\n",
    "\n",
    "```\n",
    "6.4   4.3   5.7   4.9   6.5   6.4   5.1\n",
    "```\n",
    "\n",
    "(1) 이들 자료로부터 평균 온도증가가 5도씨를 넘는다고 할 수 있겠는가? (유의수준 $\\alpha=0.05$에서 검정하라.) 모집단에 대한 가정을 설명하라.\n",
    "\n",
    "(2) 냉각제 내에서 온도증가량의 평균에 대한 95% 신뢰구간을 구하라.\n"
   ]
  },
  {
   "cell_type": "code",
   "execution_count": null,
   "metadata": {
    "id": "o1JhrDDB7MMQ",
    "outputId": "c8a86f7a-5092-413d-c69a-e4b6bd500a27"
   },
   "outputs": [
    {
     "name": "stdout",
     "output_type": "stream",
     "text": [
      "5도 넘는다 볼 수 없다\n"
     ]
    }
   ],
   "source": [
    "import numpy as np\n",
    "data = [6.4,   4.3 ,  5.7  , 4.9   ,6.5 ,  6.4  , 5.1]\n",
    "c = 5\n",
    "data = np.array(data)\n",
    "n = len(data)\n",
    "x = data.mean()\n",
    "s = data.std()\n",
    "df = n-1\n",
    "alpha  = 0.05\n",
    "from scipy.stats import ttest_1samp\n",
    "s,p = ttest_1samp(data, c)\n",
    "if p<alpha:\n",
    "    print(\"5도 넘는다 볼 수 있다\")\n",
    "else:\n",
    "    print(\"5도 넘는다 볼 수 없다\")"
   ]
  },
  {
   "cell_type": "code",
   "execution_count": null,
   "metadata": {
    "id": "OV03kouN7MMR",
    "outputId": "e2c787e9-0879-4062-83ed-139620fd9ef6"
   },
   "outputs": [
    {
     "name": "stdout",
     "output_type": "stream",
     "text": [
      "(2) 냉각제 내에서 온도증가량의 평균에 대한 95% 신뢰구간은 4.240 ~ 6.988.\n"
     ]
    }
   ],
   "source": [
    "from scipy.stats import t\n",
    "t_ = -t.ppf(alpha,df)\n",
    "se = s/n**0.5\n",
    "print(f'(2) 냉각제 내에서 온도증가량의 평균에 대한 95% 신뢰구간은 {x-t_*se:.3f} ~ {x+t_*se:.3f}.')"
   ]
  },
  {
   "cell_type": "markdown",
   "metadata": {
    "id": "7hkv0ASL4e8d"
   },
   "source": [
    "### 연습문제 3.22\n",
    "\n",
    "접착제를 만드는 어느 공장에서 제품의 접착력이 다른 회사 제품보다 좋다고 주장하고자 한다. 다른 회사 접착제의 평균 접착력이 500kg라고 할 때 다음 물음에 답하라.\n",
    "\n",
    "(1) 검정하고자 하는 가설을 세워라.\n",
    "\n",
    "(2) 실제로 이 공장의 제품 접착력이 500kg보다 크다면 검정에서 어떤 오류를 범할 수 있는가?\n",
    "\n",
    "(3) 15번에 걸쳐서 이 회사 제품의 접착력을 조사한 결과 평균 접착력이 510kg이고 표준편차가 23kg이었다. 필요한 가정이 있으면 기술하고, 접착력이 다른 회사보다 좋다고 할 수 있는지 유의수준 5%로 검정하라.\n",
    "\n",
    "(4) 만약 위의 (3)에서 모집단의 표준편차가 23으로 미리 알려져 있었다면 검정의 결과는 어떻게 되겠는지 검정을 실시하라.\n"
   ]
  },
  {
   "cell_type": "code",
   "execution_count": null,
   "metadata": {
    "id": "TfKcCiol6DS1",
    "outputId": "741329b8-9ea4-4bb2-bf62-479227dc76db"
   },
   "outputs": [
    {
     "name": "stdout",
     "output_type": "stream",
     "text": [
      "H0: 제품의 접착력이 다른 회사 제품보다 좋다고 할수는 없다\n",
      "H1: 제품의 접착력이 다른 회사 제품보다 좋다\n"
     ]
    }
   ],
   "source": [
    "# (1) 검정하고자 하는 가설을 세워라.\n",
    "print('H0: 제품의 접착력이 다른 회사 제품보다 좋다고 할수는 없다')\n",
    "print('H1: 제품의 접착력이 다른 회사 제품보다 좋다')"
   ]
  },
  {
   "cell_type": "code",
   "execution_count": null,
   "metadata": {
    "colab": {
     "base_uri": "https://localhost:8080/"
    },
    "executionInfo": {
     "elapsed": 6,
     "status": "ok",
     "timestamp": 1710369043880,
     "user": {
      "displayName": "WOOSEOK JEONG",
      "userId": "01703662546986869335"
     },
     "user_tz": -540
    },
    "id": "kdn1b5TX7MMR",
    "outputId": "b11c5c72-3fec-4c46-f5a3-e8c112a8bd50"
   },
   "outputs": [
    {
     "name": "stdout",
     "output_type": "stream",
     "text": [
      "실제로 접착력이 500kg 보다 크다면 대립가설이 맞는 것으로, 제품의 접착력이 다른회사보다 좋다고 할수있다. \n",
      " 귀무가설을 기각하지 못하는 2종오류를 범할 수 있다.\n"
     ]
    }
   ],
   "source": [
    "# (2) 실제로 이 공장의 제품 접착력이 500kg보다 크다면 검정에서 어떤 오류를 범할 수 있는가?\n",
    "print('실제로 접착력이 500kg 보다 크다면 대립가설이 맞는 것으로, 제품의 접착력이 다른회사보다 좋다고 할 수있다. \\n귀무가설을 기각하지 못하는 2종오류를 범할 수 있다.')"
   ]
  },
  {
   "cell_type": "code",
   "execution_count": null,
   "metadata": {
    "colab": {
     "base_uri": "https://localhost:8080/"
    },
    "executionInfo": {
     "elapsed": 303,
     "status": "ok",
     "timestamp": 1710369709868,
     "user": {
      "displayName": "WOOSEOK JEONG",
      "userId": "01703662546986869335"
     },
     "user_tz": -540
    },
    "id": "-3ZGgXfy7MMR",
    "outputId": "621ab9ca-4e8b-42e1-bacc-3f77c0ba6c27"
   },
   "outputs": [
    {
     "name": "stdout",
     "output_type": "stream",
     "text": [
      "검정통계량이 1.684,임계값 1.761보다 작아서 귀무가설을 기각할 수 없다 즉, \n",
      "H0: 제품의 접착력이 다른 회사 제품보다 좋다고 할수는 없다\n"
     ]
    }
   ],
   "source": [
    "# (3) 15번에 걸쳐서 이 회사 제품의 접착력을 조사한 결과 평균 접착력이 510kg이고 표준편차가 23kg이었다.\n",
    "     # 필요한 가정이 있으면 기술하고, 접착력이 다른 회사보다 좋다고 할 수 있는지 유의수준 5%로 검정하라\n",
    "n = 15\n",
    "x = 510\n",
    "s = 23\n",
    "m = 500\n",
    "a = 0.05\n",
    "df = n-1\n",
    "\n",
    "# 접착력이 다른 회사보다 좋다고 할 수 있는지 유의수준 5%로 검정하라\n",
    "from scipy.stats import t\n",
    "se = 23/n**0.5\n",
    "t_ = (x-m)/se\n",
    "c = -t.ppf(a, df)\n",
    "if t_ < c:\n",
    "    print(f'검정통계량이 {t_ :.3f},임계값 {c:.3f}보다 작아서 귀무가설을 기각할 수 없다 즉, \\nH0: 제품의 접착력이 다른 회사 제품보다 좋다고 할수는 없다')\n",
    "else:\n",
    "    print(f'검정통계량이 {t_ :.3f},임계값 {c:.3f}보다 커서 귀무가설을 기각하고 대립가설을 채택한다 즉, \\nH1: 제품의 접착력이 다른 회사 제품보다 좋다')"
   ]
  },
  {
   "cell_type": "code",
   "execution_count": null,
   "metadata": {
    "colab": {
     "base_uri": "https://localhost:8080/"
    },
    "executionInfo": {
     "elapsed": 282,
     "status": "ok",
     "timestamp": 1710370104128,
     "user": {
      "displayName": "WOOSEOK JEONG",
      "userId": "01703662546986869335"
     },
     "user_tz": -540
    },
    "id": "8RqVPlQF-1P4",
    "outputId": "0004f1a6-bf0c-4306-a6b2-9ca6d169dfd5"
   },
   "outputs": [
    {
     "name": "stdout",
     "output_type": "stream",
     "text": [
      "검정통계량이 1.684,임계값 1.645보다 커서 귀무가설을 기각하고 대립가설을 채택한다 즉, \n",
      "H1: 제품의 접착력이 다른 회사 제품보다 좋다\n"
     ]
    }
   ],
   "source": [
    "'''\n",
    "모집단의 표준편차가 미리 알려져 있다면, 샘플의 수는 적지만 정규분포를 사용할 수 있다.\n",
    "'''\n",
    "\n",
    "import numpy as np\n",
    "from scipy.stats import norm\n",
    "m = 500  # 다른 회사 제품의 평균 접착력\n",
    "x = 510  # 새로운 회사 제품의 평균 접착력\n",
    "s = 23  # 표준편차\n",
    "n = 15  # 샘플 개수\n",
    "\n",
    "# 검정 통계량 계산\n",
    "z = (x_bar - mu) / (s / np.sqrt(n))\n",
    "\n",
    "# 유의수준 0.05에서의 임계값\n",
    "c = norm.ppf(0.95)\n",
    "\n",
    "# 가설 검정\n",
    "if z < c:\n",
    "    print(f'검정통계량이 {t_ :.3f},임계값 {c:.3f}보다 작아서 귀무가설을 기각할 수 없다 즉, \\nH0: 제품의 접착력이 다른 회사 제품보다 좋다고 할수는 없다')\n",
    "else:\n",
    "    print(f'검정통계량이 {t_ :.3f},임계값 {c:.3f}보다 커서 귀무가설을 기각하고 대립가설을 채택한다 즉, \\nH1: 제품의 접착력이 다른 회사 제품보다 좋다')"
   ]
  },
  {
   "cell_type": "markdown",
   "metadata": {
    "id": "Pgaej5ug7NqM"
   },
   "source": [
    "---"
   ]
  },
  {
   "cell_type": "markdown",
   "metadata": {
    "id": "3tKxy2oA7PNq"
   },
   "source": [
    "## 4. 신뢰구간과 양측검정의 관계"
   ]
  },
  {
   "cell_type": "markdown",
   "metadata": {
    "id": "-aZlvTeg7TXN"
   },
   "source": [
    "### 예제 5\n",
    "정규모집단으로부터 크기가 9인 표본을 추출하여 평균과 표준편차를 계산하였더니 각각 $\\bar{x}=8.3$과 $s=1.2$였다고 한다. 모평균 $\\mu$에 대한 95% 신뢰구간을 구하고, <br>\n",
    "유의수준 5%로 가설 $H_0:\\mu=8.5$ 대 $H_1:\\mu \\neq 8.5$ 를 검정하라."
   ]
  },
  {
   "cell_type": "code",
   "execution_count": 91,
   "metadata": {
    "id": "dPBTs23RCtiO",
    "outputId": "e740a576-24af-4d76-bb3a-8d953f4d686f"
   },
   "outputs": [
    {
     "name": "stdout",
     "output_type": "stream",
     "text": [
      "귀무가설을 기각할 수 없습니다. 모평균은 8.5가 아니라고 할 수 없습니다.\n"
     ]
    }
   ],
   "source": [
    "# 가설검정\n",
    "m = 8.5\n",
    "n = 9\n",
    "x= 8.3\n",
    "s= 1.2\n",
    "t_stat = (x - m) / (x / np.sqrt(n))\n",
    "p_value = 2 * (1 - stats.t.cdf(np.abs(t_stat), df))\n",
    "\n",
    "alpha = 0.05\n",
    "if p_value < alpha:\n",
    "    print(\"귀무가설을 기각합니다. 모평균은 8.5가 아니라고 할 수 있습니다.\")\n",
    "else:\n",
    "    print(\"귀무가설을 기각할 수 없습니다. 모평균은 8.5가 아니라고 할 수 없습니다.\")"
   ]
  },
  {
   "cell_type": "code",
   "execution_count": null,
   "metadata": {
    "colab": {
     "base_uri": "https://localhost:8080/",
     "height": 211
    },
    "executionInfo": {
     "elapsed": 7,
     "status": "error",
     "timestamp": 1710370953332,
     "user": {
      "displayName": "WOOSEOK JEONG",
      "userId": "01703662546986869335"
     },
     "user_tz": -540
    },
    "id": "9WYMwsWA7SVx",
    "outputId": "8ff499c4-f28c-44ba-d2af-54ba8ef57dc7"
   },
   "outputs": [
    {
     "name": "stdout",
     "output_type": "stream",
     "text": [
      "95% 신뢰구간은 7.378 ~ 9.222\n"
     ]
    }
   ],
   "source": [
    "n, x, s = 9, 8.3, 1.2\n",
    "cf = 0.95\n",
    "df = n-1\n",
    "\n",
    "se = s / n**0.5\n",
    "t_ = t.ppf( (1+cf) / 2, df)\n",
    "\n",
    "print(f'95% 신뢰구간은 {x-t_* se:.3f} ~ {x + t_*se:.3f}')"
   ]
  },
  {
   "cell_type": "code",
   "execution_count": 92,
   "metadata": {
    "id": "mVIYy23JCtiP",
    "outputId": "ea5fb10e-51ff-48fb-c197-c4e03979932b"
   },
   "outputs": [
    {
     "name": "stdout",
     "output_type": "stream",
     "text": [
      "유의확률 이 0.943, 유의수준 0.050보다 커서 귀무가설을 기각할 수 없다 즉, \\H0:μ=8.5\n"
     ]
    }
   ],
   "source": [
    "# 유의수준 5% 가설검정 H0:μ=8.5  대 H1:μ≠8.5\n",
    "alpha = 0.05\n",
    "m = 8.5\n",
    "t_stats = (x-m) / se\n",
    "p_value = 2 * (1 - t.cdf(np.abs(t_stat), df))\n",
    "\n",
    "if p_value > alpha:\n",
    "    print(f'유의확률 이 {p_value :.3f}, 유의수준 {alpha:.3f}보다 커서 귀무가설을 기각할 수 없다 즉, \\H0:μ=8.5')\n",
    "else:\n",
    "    print(f'유의확률 이 {p_value :.3f}, 유의수준 {alpha:.3f}보다 작아서 귀무가설을 기각하고 대립가설을 채택한다 즉, \\nH0:μ=8.5  대 H1:μ≠8.5')"
   ]
  },
  {
   "cell_type": "markdown",
   "metadata": {
    "id": "GMyghkNU_Udg"
   },
   "source": [
    "### 연습문제 4.2\n",
    "합금의 평균장력 l의 90%신뢰구간이 (28.12, 40.48)로 얻어졌다.\n",
    "\n",
    "(1) 유의수준 $\\alpha=0.10$일 때, $H_0:\\mu=39$ 대 $H_1:\\mu \\neq 39$에 대한 가설을 검정하라.\n",
    "\n",
    "(2) 귀무가설 $H_0:\\mu=42$에 대하여 (1)에서와 같은 검정을 하라."
   ]
  },
  {
   "cell_type": "markdown",
   "metadata": {
    "id": "xHPreV8AFmrm"
   },
   "source": [
    "----\n",
    "- 신뢰구간만 주어지고 귀무가설을 검증하는 문제임\n",
    "1. scipy.stats 모듈에서 norm 함수를 사용\n",
    "2. 주어진 90% 신뢰구간과 유의수준 alpha를 변수에 할당\n",
    "3. (1) H0: μ = 39에 대한 z-score와 p-value를 계산\n",
    "\t- p-value와 alpha를 비교하여 귀무가설을 채택할지 기각할지 결정\n",
    "4. (2) H0: μ = 42에 대한 z-score와 p-value를 계산\n",
    "\t- p-value와 alpha를 비교하여 귀무가설을 채택할지 기각할지 결정합니다."
   ]
  },
  {
   "cell_type": "code",
   "execution_count": 93,
   "metadata": {
    "colab": {
     "base_uri": "https://localhost:8080/"
    },
    "executionInfo": {
     "elapsed": 655,
     "status": "ok",
     "timestamp": 1710455488556,
     "user": {
      "displayName": "WOOSEOK JEONG",
      "userId": "01703662546986869335"
     },
     "user_tz": -540
    },
    "id": "KvQ-SFTp_1cM",
    "outputId": "df9e3985-7c7d-489f-d311-4425f283e143"
   },
   "outputs": [
    {
     "name": "stdout",
     "output_type": "stream",
     "text": [
      "(1) H0: μ = 39 대 H1: μ ≠ 39 검정\n",
      "z-score: 1.2509\n",
      "p-value: 0.2110\n",
      "귀무가설 H0를 채택합니다.\n"
     ]
    }
   ],
   "source": [
    "# (1) 유의수준  α=0.10 일 때,  H0:μ=39  대  H1:μ≠39 에 대한 가설을 검정하라.\n",
    "import scipy.stats as stats\n",
    "\n",
    "# 주어진 정보\n",
    "conf_interval = (28.12, 40.48)  # 90% 신뢰구간\n",
    "alpha = 0.10  # 유의수준\n",
    "\n",
    "# (1) H0: μ = 39 대 H1: μ ≠ 39 검정\n",
    "mu_0 = 39\n",
    "z_score = (mu_0 - sum(conf_interval) / 2) / ((conf_interval[1] - conf_interval[0]) / (2 * stats.norm.ppf(0.95)))\n",
    "p_value = 2 * (1 - stats.norm.cdf(abs(z_score)))\n",
    "\n",
    "print(\"(1) H0: μ = 39 대 H1: μ ≠ 39 검정\")\n",
    "print(f\"z-score: {z_score:.4f}\")\n",
    "print(f\"p-value: {p_value:.4f}\")\n",
    "\n",
    "if p_value < alpha:\n",
    "    print(\"귀무가설 H0를 기각합니다.\")\n",
    "else:\n",
    "    print(\"귀무가설 H0를 채택합니다.\")"
   ]
  },
  {
   "cell_type": "code",
   "execution_count": 94,
   "metadata": {
    "colab": {
     "base_uri": "https://localhost:8080/"
    },
    "executionInfo": {
     "elapsed": 3,
     "status": "ok",
     "timestamp": 1710455519556,
     "user": {
      "displayName": "WOOSEOK JEONG",
      "userId": "01703662546986869335"
     },
     "user_tz": -540
    },
    "id": "BfZnrub-F8mB",
    "outputId": "88206f94-af53-453e-a151-f97d0dee5d16"
   },
   "outputs": [
    {
     "name": "stdout",
     "output_type": "stream",
     "text": [
      "(2) H0: μ = 42 대 H1: μ ≠ 42 검정\n",
      "z-score: 2.0494\n",
      "p-value: 0.0404\n",
      "귀무가설 H0를 기각합니다.\n"
     ]
    }
   ],
   "source": [
    "# (2) H0: μ = 42 대 H1: μ ≠ 42 검정\n",
    "mu_0 = 42\n",
    "z_score = (mu_0 - sum(conf_interval) / 2) / ((conf_interval[1] - conf_interval[0]) / (2 * stats.norm.ppf(0.95)))\n",
    "p_value = 2 * (1 - stats.norm.cdf(abs(z_score)))\n",
    "\n",
    "print(\"(2) H0: μ = 42 대 H1: μ ≠ 42 검정\")\n",
    "print(f\"z-score: {z_score:.4f}\")\n",
    "print(f\"p-value: {p_value:.4f}\")\n",
    "\n",
    "if p_value < alpha:\n",
    "    print(\"귀무가설 H0를 기각합니다.\")\n",
    "else:\n",
    "    print(\"귀무가설 H0를 채택합니다.\")"
   ]
  },
  {
   "cell_type": "markdown",
   "metadata": {
    "id": "e2AXT150_58c"
   },
   "source": [
    "### 연습문제 4.4\n",
    "8명의 환자에 대하여 3주동안 체지방이 감소하는 양을 기록하였다.\n",
    "```\n",
    "1.8   10.6   -1.2   12.9   15.1   -2.0   6.25   10.8\n",
    "```\n",
    "\n",
    "(1) 3주 동안의 체지방 감소량의 모평균 $\\mu$에 대한 95% 신뢰구간을 구하라.\n",
    "\n",
    "(2) 가설 $H_0:\\mu=15$ 대 $H_1:\\mu \\neq 15$에 대하여 유의수준 $\\alpha=0.05$로 검정하고 (1)의 결과와 비교하라."
   ]
  },
  {
   "cell_type": "code",
   "execution_count": 100,
   "metadata": {
    "colab": {
     "base_uri": "https://localhost:8080/"
    },
    "executionInfo": {
     "elapsed": 305,
     "status": "ok",
     "timestamp": 1710456883497,
     "user": {
      "displayName": "WOOSEOK JEONG",
      "userId": "01703662546986869335"
     },
     "user_tz": -540
    },
    "id": "Bpl9Q_YLAuV1",
    "outputId": "1f2f4c1e-0919-4549-e346-2312cb92a6de"
   },
   "outputs": [
    {
     "name": "stdout",
     "output_type": "stream",
     "text": [
      "체지방 감소량의 모평균  μ 에 대한 95% 신뢰구간은 1.278 ~ 12.284이다\n"
     ]
    }
   ],
   "source": [
    "import numpy as np\n",
    "import scipy.stats as stats\n",
    "\n",
    "data = [1.8, 10.6, -1.2, 12.9, 15.1, -2.0, 6.25, 10.8]\n",
    "patient = np.array(data)\n",
    "x, s = patient.mean(), patient.std(ddof=1)\n",
    "n, df = len(patient), len(patient)-1\n",
    "confidence = 0.95\n",
    "t_stats = np.abs(stats.t.ppf((1+0.95)/2, df))\n",
    "se = s / np.sqrt(n)\n",
    "confidence_range = (x - t_stats * se, x + t_stats * se )\n",
    "print(f'체지방 감소량의 모평균  μ 에 대한 95% 신뢰구간은 {confidence_range[0]:.3f} ~ {confidence_range[1]:.3f}이다')"
   ]
  },
  {
   "cell_type": "code",
   "execution_count": 101,
   "metadata": {
    "id": "0LmYIzDkM3ac"
   },
   "outputs": [
    {
     "name": "stdout",
     "output_type": "stream",
     "text": [
      "p-value 0.005 가 유의수준 0.050보다 작으므로 귀무가설을 기각하여 𝜇≠15 이다\n"
     ]
    }
   ],
   "source": [
    "#(2) 가설  𝐻0:𝜇=15   대  𝐻1:𝜇≠15 에 대하여 유의수준  𝛼=0.05 로 검정하고 (1)의 결과와 비교하라.\n",
    "m=15\n",
    "t_stats = (x-m)/se\n",
    "p_value = stats.t.cdf(t_stats,df)\n",
    "alpha = 0.05\n",
    "𝐻0 =\"𝜇=15\"\n",
    "𝐻1 = \"𝜇≠15\"\n",
    "if p_value<alpha:\n",
    "    print(f\"p-value {p_value:.3f} 가 유의수준 {alpha:.3f}보다 작으므로 귀무가설을 기각하여 {𝐻1} 이다\")"
   ]
  },
  {
   "cell_type": "markdown",
   "metadata": {
    "id": "j9qJxaIUAvHk"
   },
   "source": [
    "### 연습문제 4.7\n",
    "주어진 표본으로부터 모평균에 대한 95% 신뢰구간을 구하였더니 (21.8, 32.1)이었다. 다음에 '예 / 아니오 / 판단할 수 없다 / 옳다 / 그르다'로 답하라.\n",
    "\n",
    "(1) $\\alpha=0.1$에서 $H_0:\\mu=21$ 대 $H_1:\\mu \\neq 21$를 검정하면 기각하는가?\n",
    "\n",
    "(2) $\\alpha=0.05$에서 $H_0:\\mu=25$ 대 $H_1:\\mu \\neq 25$를 검정하면 기각하는가?\n",
    "\n",
    "(3) (1)에 대한 가설검정에서 P-값이 0.05보다 작은가?\n",
    "\n",
    "(4) 같은 표본으로부터 99% 신뢰구간을 구하면 위의 신뢰구간보다 길이가 짧아진다."
   ]
  },
  {
   "cell_type": "code",
   "execution_count": 102,
   "metadata": {},
   "outputs": [
    {
     "name": "stdout",
     "output_type": "stream",
     "text": [
      "검정통계량 -2.264이 기각역 -1.645 보다 좌측에 있으므로 귀무가설을 기각한다\n"
     ]
    }
   ],
   "source": [
    "import numpy as np \n",
    "# (1)  𝛼=0.1 에서  𝐻0:𝜇=21  대  𝐻1:𝜇≠21 를 검정하면 기각하는가?\n",
    "from scipy.stats import norm\n",
    "ci = (21.8, 32.1)\n",
    "alpha = 0.1\n",
    "m = 21\n",
    "x = (ci[1]+ci[0]) / 2\n",
    "z = np.abs(norm.ppf(0.05/2))\n",
    "se = (ci[1]-x)/z\n",
    "z_1 = norm.ppf(alpha/2)\n",
    "res = (m-x)/se\n",
    "if res < z_1:\n",
    "    print(f'검정통계량 {res:.3f}이 기각역 {z_1:.3f} 보다 좌측에 있으므로 귀무가설을 기각한다')"
   ]
  },
  {
   "cell_type": "code",
   "execution_count": 103,
   "metadata": {
    "id": "VYvZZQN3BWbq"
   },
   "outputs": [],
   "source": [
    "# (2)  𝛼=0.05 에서  𝐻0:𝜇=25  대  𝐻1:𝜇≠25 를 검정하면 기각하는가?\n",
    "alpha = 0.05\n",
    "m = 25\n",
    "x = (ci[1]+ci[0]) / 2\n",
    "z = np.abs(norm.ppf(0.05/2))\n",
    "se = (ci[1]-x)/z\n",
    "z_1 = norm.ppf(alpha/2)\n",
    "res = (m-x)/se\n",
    "if res < z_1:\n",
    "    print(f'검정통계량 {res:.3f}이 기각역 {z_1:.3f} 보다 좌측에 있으므로 귀무가설을 기각한다')"
   ]
  },
  {
   "cell_type": "code",
   "execution_count": 50,
   "metadata": {},
   "outputs": [
    {
     "name": "stdout",
     "output_type": "stream",
     "text": [
      "기각하므로 0.05보다 작다\n"
     ]
    }
   ],
   "source": [
    "# (3) (1)에 대한 가설검정에서 P-값이 0.05보다 작은가?\n",
    "print('기각하므로 0.05보다 작다')"
   ]
  },
  {
   "cell_type": "code",
   "execution_count": 51,
   "metadata": {},
   "outputs": [
    {
     "name": "stdout",
     "output_type": "stream",
     "text": [
      "길어진다\n"
     ]
    }
   ],
   "source": [
    "# (4) 같은 표본으로부터 99% 신뢰구간을 구하면 위의 신뢰구간보다 길이가 짧아진다.\n",
    "print('길어진다')"
   ]
  },
  {
   "cell_type": "markdown",
   "metadata": {},
   "source": [
    "## 5. 모표준편차에 대한 추론"
   ]
  },
  {
   "cell_type": "markdown",
   "metadata": {},
   "source": [
    "### 예제 6\n",
    "χ2  분포표에서 자유도가 17인  χ2  분포의 상, 하위 5%의 확률을 주는 값을 찾아라."
   ]
  },
  {
   "cell_type": "code",
   "execution_count": 104,
   "metadata": {},
   "outputs": [
    {
     "name": "stdout",
     "output_type": "stream",
     "text": [
      "상위 5% 값: 27.5871\n",
      "하위 5% 값: 8.6718\n"
     ]
    }
   ],
   "source": [
    "import scipy.stats as stats\n",
    "\n",
    "# 자유도 17인 χ2 분포\n",
    "df = 17\n",
    "\n",
    "# 상위 5% 값 (95% 분위수)\n",
    "upper_5 = stats.chi2.ppf(0.95, df)\n",
    "print(f\"상위 5% 값: {upper_5:.4f}\")\n",
    "\n",
    "# 하위 5% 값 (5% 분위수)\n",
    "lower_5 = stats.chi2.ppf(0.05, df)\n",
    "print(f\"하위 5% 값: {lower_5:.4f}\")"
   ]
  },
  {
   "cell_type": "markdown",
   "metadata": {},
   "source": [
    "### 예제 7\n",
    "볼트와 너트를 생산하는 한 공장에서는제품으 품질이 얼마나 균일하게 유지되는지를 검사하려고 10개의 볼트를 추출하여 지름을 측정하고 그 표준편차를 구하였더니 0.4였다. 그 공장에서 생산되는 볼트의 지름이 정규분포를 따른다는 가정하에  σ 의 90% 신뢰구간을 구하라."
   ]
  },
  {
   "cell_type": "code",
   "execution_count": 105,
   "metadata": {},
   "outputs": [
    {
     "name": "stdout",
     "output_type": "stream",
     "text": [
      "σ의 90% 신뢰구간: (0.2917, 0.6581)\n"
     ]
    }
   ],
   "source": [
    "import scipy.stats as stats\n",
    "import math\n",
    "\n",
    "# 표본 크기\n",
    "n = 10\n",
    "\n",
    "# 표본 표준편차\n",
    "s = 0.4\n",
    "\n",
    "# 자유도\n",
    "df = n - 1\n",
    "\n",
    "# 90% 신뢰구간의 상한값과 하한값 계산\n",
    "chi_sq_upper = stats.chi2.ppf(0.95, df)\n",
    "chi_sq_lower = stats.chi2.ppf(0.05, df)\n",
    "\n",
    "upper_bound = math.sqrt((n - 1) * s**2 / chi_sq_lower)\n",
    "lower_bound = math.sqrt((n - 1) * s**2 / chi_sq_upper)\n",
    "\n",
    "print(f\"σ의 90% 신뢰구간: ({lower_bound:.4f}, {upper_bound:.4f})\")"
   ]
  },
  {
   "cell_type": "markdown",
   "metadata": {},
   "source": [
    "### 예제 8\n",
    "앞의 예제 7에서  σ 가 0.2보다 크다고 할 수 있는지 유의수준 0.05로 검정하라."
   ]
  },
  {
   "cell_type": "code",
   "execution_count": 56,
   "metadata": {},
   "outputs": [
    {
     "name": "stdout",
     "output_type": "stream",
     "text": [
      "p-value: 0.0000\n",
      "귀무가설을 기각합니다. σ는 0.2보다 크다고 할 수 있습니다.\n"
     ]
    }
   ],
   "source": [
    "import scipy.stats as stats\n",
    "\n",
    "n = 10\n",
    "s = 0.4\n",
    "df = n - 1\n",
    "m = 0.2\n",
    "t_stats = (n - 1) * s**2 / m**2\n",
    "\n",
    "# p-value 계산\n",
    "p_value = 1 - stats.chi2.cdf(t_stats, df)\n",
    "\n",
    "# 유의수준\n",
    "alpha = 0.05\n",
    "\n",
    "# 결과 출력\n",
    "if p_value < alpha:\n",
    "    print(f\"p-value: {p_value:.4f}\")\n",
    "    print(\"귀무가설을 기각합니다. σ는 0.2보다 크다고 할 수 있습니다.\")\n",
    "else:\n",
    "    print(f\"p-value: {p_value:.4f}\")\n",
    "    print(\"귀무가설을 기각할 수 없습니다. σ가 0.2보다 크다고 할 수 없습니다.\")"
   ]
  },
  {
   "cell_type": "markdown",
   "metadata": {},
   "source": [
    "### 연습문제 5.7\n",
    "새로 만들어지는 플라스틱의 두께를 주기적으로 측정하는데, 액체 주형의 점성에 의한 이물질이 플라스틱의 두께를 재는 데 영향을 주어 어느 정도 변동이 생기게 된다고 한다. 그러나 두께의 실제 표준편차가 1.5mm를 초과한다면 생산되는 상품의 품질에 영향을 준다고 한다. 10개의 견본을 뽑아 두께를 재었더니 다음과 같은 결과가 얻어졌다. (단위: mm)"
   ]
  },
  {
   "cell_type": "markdown",
   "metadata": {},
   "source": [
    "226 228 226 225 232 228 227 229 225 230"
   ]
  },
  {
   "cell_type": "code",
   "execution_count": 62,
   "metadata": {},
   "outputs": [
    {
     "name": "stdout",
     "output_type": "stream",
     "text": [
      "표본 평균: 227.60\n",
      "표본 표준편차: 2.15\n",
      "p-value: 0.0292\n",
      "귀무가설을 기각합니다. 실제 표준편차는 1.5mm를 초과합니다.\n"
     ]
    }
   ],
   "source": [
    "import numpy as np\n",
    "import scipy.stats as stats\n",
    "\n",
    "# 표본 데이터\n",
    "samples = [226, 228, 226, 225, 232, 228, 227, 229, 225, 230]\n",
    "\n",
    "# 표본 크기\n",
    "n = len(samples)\n",
    "df = n-1\n",
    "x = sum(samples) / n\n",
    "s = np.array(samples).std()\n",
    "\n",
    "print(f\"표본 평균: {x:.2f}\")\n",
    "print(f\"표본 표준편차: {s :.2f}\")\n",
    "\n",
    "m = 1.5\n",
    "t_stats = (n - 1) * s **2 / m**2\n",
    "\n",
    "# p-value 계산\n",
    "\n",
    "p_value = 1 - stats.chi2.cdf(t_stats, df)\n",
    "\n",
    "# 유의수준\n",
    "alpha = 0.05\n",
    "\n",
    "# 결과 출력\n",
    "if p_value < alpha:\n",
    "    print(f\"p-value: {p_value:.4f}\")\n",
    "    print(\"귀무가설을 기각합니다. 실제 표준편차는 1.5mm를 초과합니다.\")\n",
    "else:\n",
    "    print(f\"p-value: {p_value:.4f}\")\n",
    "    print(\"귀무가설을 기각할 수 없습니다. 실제 표준편차가 1.5mm를 초과한다고 볼 수 없습니다.\")"
   ]
  },
  {
   "cell_type": "markdown",
   "metadata": {},
   "source": [
    "### 연습문제 5.8\n",
    "연습문제 5.7에서 생산된 제품 두께에 대한 95% 신뢰구간을 구하라."
   ]
  },
  {
   "cell_type": "code",
   "execution_count": 66,
   "metadata": {},
   "outputs": [
    {
     "name": "stdout",
     "output_type": "stream",
     "text": [
      "생산된 제품 두께에 대한 95% 신뢰구간은 226.482~228.718\n"
     ]
    }
   ],
   "source": [
    "se = s / np.sqrt(n)\n",
    "t_stats = np.abs(t.ppf(0.05/2, df))\n",
    "me = t_stats*se\n",
    "print(f'생산된 제품 두께에 대한 95% 신뢰구간은 {x-me:.3f}~{x+me:.3f}')"
   ]
  },
  {
   "cell_type": "markdown",
   "metadata": {},
   "source": [
    "### 연습문제 5.11\n",
    "정규모집단으로부터 19개의 관측치를 임의추출하여  σ 에 대한 95% 신뢰구간을 구하였더니 (3.28, 6.32)의 결과를 얻었다. 이 결과를 이용하여 다음 물음에 답하라.\n",
    "\n",
    "(1) 모표준편차  σ 에 대한 90% 신뢰구간을 구하라.\n",
    "\n",
    "(2) 귀무가설  H0:σ=9 에 대하여 유의수준  α=0.05 에서 양측검정을 시행하라."
   ]
  },
  {
   "cell_type": "code",
   "execution_count": 63,
   "metadata": {},
   "outputs": [
    {
     "name": "stdout",
     "output_type": "stream",
     "text": [
      "모표준편차 σ에 대한 90% 신뢰구간: (2.59, 8.75)\n",
      "p-value: 1.9251\n",
      "귀무가설을 기각할 수 없습니다. σ가 9라고 볼 수 있습니다.\n"
     ]
    }
   ],
   "source": [
    "import scipy.stats as stats\n",
    "import math\n",
    "\n",
    "# 주어진 95% 신뢰구간\n",
    "conf_int_95 = (3.28, 6.32)\n",
    "\n",
    "# (1) 모표준편차 σ에 대한 90% 신뢰구간 계산\n",
    "n = 19  # 표본 크기\n",
    "chi_sq_upper_90 = stats.chi2.ppf(0.95, n - 1)\n",
    "chi_sq_lower_90 = stats.chi2.ppf(0.05, n - 1)\n",
    "\n",
    "upper_bound_90 = math.sqrt((n - 1) * conf_int_95[1]**2 / chi_sq_lower_90)\n",
    "lower_bound_90 = math.sqrt((n - 1) * conf_int_95[0]**2 / chi_sq_upper_90)\n",
    "\n",
    "print(f\"모표준편차 σ에 대한 90% 신뢰구간: ({lower_bound_90:.2f}, {upper_bound_90:.2f})\")\n",
    "\n",
    "# (2) 귀무가설 H0: σ=9에 대한 유의수준 α=0.05 양측검정\n",
    "null_sigma = 9\n",
    "test_statistic = (n - 1) * conf_int_95[1]**2 / null_sigma**2\n",
    "p_value = 2 * (1 - stats.chi2.cdf(test_statistic, n - 1))\n",
    "\n",
    "alpha = 0.05\n",
    "if p_value < alpha:\n",
    "    print(f\"p-value: {p_value:.4f}\")\n",
    "    print(\"귀무가설을 기각합니다. σ는 9와 다릅니다.\")\n",
    "else:\n",
    "    print(f\"p-value: {p_value:.4f}\")\n",
    "    print(\"귀무가설을 기각할 수 없습니다. σ가 9라고 볼 수 있습니다.\")"
   ]
  },
  {
   "cell_type": "markdown",
   "metadata": {},
   "source": [
    "### 연습문제 5.15\n",
    "정규모집단으로부터 추출한 크기가 20인 표본으로부터 모표준편차에 대한 95% 신뢰구간을 구하였더니 (2.0648, b)로 얻어졌다. b를 구하라."
   ]
  },
  {
   "cell_type": "code",
   "execution_count": 67,
   "metadata": {},
   "outputs": [
    {
     "name": "stdout",
     "output_type": "stream",
     "text": [
      "95% 신뢰구간의 상한값 b: 3.0158\n"
     ]
    }
   ],
   "source": [
    "import scipy.stats as stats\n",
    "\n",
    "# 주어진 정보\n",
    "n = 20  # 표본 크기\n",
    "lower_bound = 2.0648  # 95% 신뢰구간의 하한값\n",
    "\n",
    "# 자유도\n",
    "df = n - 1\n",
    "\n",
    "# 95% 신뢰구간의 상한값 계산\n",
    "chi_sq_upper = stats.chi2.ppf(0.975, df)\n",
    "chi_sq_lower = stats.chi2.ppf(0.025, df)\n",
    "\n",
    "upper_bound = ((n - 1) * lower_bound**2 / chi_sq_lower)**(1/2)\n",
    "\n",
    "print(f\"95% 신뢰구간의 상한값 b: {upper_bound:.4f}\")\n",
    "\n"
   ]
  },
  {
   "cell_type": "markdown",
   "metadata": {},
   "source": [
    "### 예제 9\n",
    "예제 4에 주어져있는 자료를 가지고 파이썬을 이용하여  μ 에 대한 90% 신뢰구간을 구하고 예제 4에서 실시한 검정도 파이썬을 이용하여 다시 시행한 후 그 결과를 비교하라."
   ]
  },
  {
   "cell_type": "code",
   "execution_count": null,
   "metadata": {},
   "outputs": [],
   "source": []
  },
  {
   "cell_type": "markdown",
   "metadata": {},
   "source": [
    "### 예제 10\n",
    "다음에 주어진 자료를 파이썬을 이용하여 분석하고자 한다.\n",
    "```\n",
    "31 35 37 38 38 38 39 40 40 41 42 43 44 44 46 48\n",
    "```\n",
    "모평균이나 모표준편차에 대한 추론을 위해서는 모집단의 정규분포 가정이 필요하다. 우선 정규확률 그림을 그리고 정규성 가정에 대한 적합성을 밝히고, 모평균에 대한 95% 신뢰구간을 구하라. 모평균이 38보다 크다고 할 수 있는지 유의수준 5%로 검정하라."
   ]
  },
  {
   "cell_type": "code",
   "execution_count": 68,
   "metadata": {},
   "outputs": [
    {
     "name": "stdout",
     "output_type": "stream",
     "text": [
      "μ에 대한 90% 신뢰구간: (226.42, 228.78)\n",
      "p-value: 0.0144\n",
      "귀무가설을 기각합니다. 실제 표준편차는 1.5mm를 초과합니다.\n"
     ]
    }
   ],
   "source": [
    "import scipy.stats as stats\n",
    "import math\n",
    "\n",
    "# 예제 4의 자료\n",
    "sample = [226, 228, 226, 225, 232, 228, 227, 229, 225, 230]\n",
    "\n",
    "# 표본 크기\n",
    "n = len(sample)\n",
    "\n",
    "# 표본 평균 계산\n",
    "sample_mean = sum(sample) / n\n",
    "\n",
    "# 표본 표준편차 계산\n",
    "squared_diffs = [(x - sample_mean)**2 for x in sample]\n",
    "sample_variance = sum(squared_diffs) / (n - 1)\n",
    "sample_std = math.sqrt(sample_variance)\n",
    "\n",
    "# μ에 대한 90% 신뢰구간 계산\n",
    "z_score = stats.norm.ppf(0.95)\n",
    "margin_of_error = z_score * (sample_std / math.sqrt(n))\n",
    "lower_bound = sample_mean - margin_of_error\n",
    "upper_bound = sample_mean + margin_of_error\n",
    "\n",
    "print(f\"μ에 대한 90% 신뢰구간: ({lower_bound:.2f}, {upper_bound:.2f})\")\n",
    "\n",
    "# 예제 4에서 실시한 검정 (H0: σ = 1.5 대 H1: σ > 1.5)\n",
    "null_sigma = 1.5\n",
    "test_statistic = (n - 1) * sample_std**2 / null_sigma**2\n",
    "p_value = 1 - stats.chi2.cdf(test_statistic, n - 1)\n",
    "\n",
    "alpha = 0.05\n",
    "if p_value < alpha:\n",
    "    print(f\"p-value: {p_value:.4f}\")\n",
    "    print(\"귀무가설을 기각합니다. 실제 표준편차는 1.5mm를 초과합니다.\")\n",
    "else:\n",
    "    print(f\"p-value: {p_value:.4f}\")\n",
    "    print(\"귀무가설을 기각할 수 없습니다. 실제 표준편차가 1.5mm를 초과한다고 볼 수 없습니다.\")"
   ]
  },
  {
   "cell_type": "markdown",
   "metadata": {},
   "source": [
    "## 종합문제"
   ]
  },
  {
   "cell_type": "markdown",
   "metadata": {},
   "source": [
    "### 종합문제 6.6\n",
    "21그루의 식물이 꽃을 피우는 데 걸리는 기간의 평균이 39일이고 표준편차가 5.1일이었다. 꽃이 피는 데 걸리는 평균 기간에 대한 95% 신뢰구간을 구하라."
   ]
  },
  {
   "cell_type": "code",
   "execution_count": 69,
   "metadata": {},
   "outputs": [
    {
     "name": "stdout",
     "output_type": "stream",
     "text": [
      "95% 신뢰구간: (36.82, 41.18)\n"
     ]
    }
   ],
   "source": [
    "import scipy.stats as stats\n",
    "import math\n",
    "\n",
    "# 주어진 정보\n",
    "n = 21  # 표본 크기\n",
    "sample_mean = 39  # 표본 평균\n",
    "sample_std = 5.1  # 표본 표준편차\n",
    "\n",
    "# 표본평균의 표준오차 계산\n",
    "std_error = sample_std / math.sqrt(n)\n",
    "\n",
    "# 95% 신뢰구간 계산\n",
    "z_score = stats.norm.ppf(0.975)  # 표준정규분포의 97.5% 분위수\n",
    "margin_of_error = z_score * std_error\n",
    "lower_bound = sample_mean - margin_of_error\n",
    "upper_bound = sample_mean + margin_of_error\n",
    "\n",
    "print(f\"95% 신뢰구간: ({lower_bound:.2f}, {upper_bound:.2f})\")"
   ]
  },
  {
   "cell_type": "markdown",
   "metadata": {},
   "source": [
    "### 종합문제 6.9\n",
    "위의 종합문제 6.6에서 주어진 자료로부터 꽃이 피는 데 걸리는 기간이 42일보다 적게 걸린다고 할 수 있겠는가? 유의수준  α=0.01 에서 검정하라."
   ]
  },
  {
   "cell_type": "code",
   "execution_count": 70,
   "metadata": {},
   "outputs": [
    {
     "name": "stdout",
     "output_type": "stream",
     "text": [
      "p-value: 0.0035\n",
      "귀무가설을 기각합니다. 꽃이 피는 데 걸리는 기간이 42일보다 적게 걸린다고 할 수 있습니다.\n"
     ]
    }
   ],
   "source": [
    "import scipy.stats as stats\n",
    "\n",
    "# 주어진 정보\n",
    "n = 21  # 표본 크기\n",
    "sample_mean = 39  # 표본 평균\n",
    "sample_std = 5.1  # 표본 표준편차\n",
    "\n",
    "# 가설 설정\n",
    "null_mu = 42  # 귀무가설: 평균 기간 = 42일\n",
    "alternative = 'less'  # 대립가설: 평균 기간 < 42일\n",
    "\n",
    "# 검정 통계량 계산\n",
    "test_statistic = (sample_mean - null_mu) / (sample_std / (n ** 0.5))\n",
    "\n",
    "# p-value 계산\n",
    "p_value = stats.norm.cdf(test_statistic)\n",
    "\n",
    "# 유의수준\n",
    "alpha = 0.01\n",
    "\n",
    "# 결과 출력\n",
    "if p_value < alpha:\n",
    "    print(f\"p-value: {p_value:.4f}\")\n",
    "    print(\"귀무가설을 기각합니다. 꽃이 피는 데 걸리는 기간이 42일보다 적게 걸린다고 할 수 있습니다.\")\n",
    "else:\n",
    "    print(f\"p-value: {p_value:.4f}\")\n",
    "    print(\"귀무가설을 기각할 수 없습니다. 꽃이 피는 데 걸리는 기간이 42일보다 적게 걸린다고 할 수 없습니다.\")"
   ]
  },
  {
   "cell_type": "markdown",
   "metadata": {},
   "source": [
    "### 종합문제 6.14\n",
    "한 체중감량프로그램은 '4개월에 12kg 감량'이라는 광고를 하였다. 25명의 고객을 대상으로 체중감량을 조사한 결과  x¯=15kg,s=5kg  을 얻었다. 가설  H0:μ=12  대  H0:μ≠12 에 대하여 유의수준  α=0.05 에서 검정하라."
   ]
  },
  {
   "cell_type": "code",
   "execution_count": 71,
   "metadata": {},
   "outputs": [
    {
     "name": "stdout",
     "output_type": "stream",
     "text": [
      "p-value: 0.0027\n",
      "귀무가설을 기각합니다. 평균 감량이 12kg와 다릅니다.\n"
     ]
    }
   ],
   "source": [
    "import scipy.stats as stats\n",
    "import math\n",
    "\n",
    "# 주어진 정보\n",
    "n = 25  # 표본 크기\n",
    "sample_mean = 15  # 표본 평균\n",
    "sample_std = 5  # 표본 표준편차\n",
    "\n",
    "# 가설 설정\n",
    "null_mu = 12  # 귀무가설: 평균 감량 = 12kg\n",
    "alternative = 'two-sided'  # 대립가설: 평균 감량 ≠ 12kg\n",
    "\n",
    "# 표본평균의 표준오차 계산\n",
    "std_error = sample_std / math.sqrt(n)\n",
    "\n",
    "# 검정 통계량 계산\n",
    "test_statistic = (sample_mean - null_mu) / std_error\n",
    "\n",
    "# p-value 계산\n",
    "p_value = 2 * (1 - stats.norm.cdf(abs(test_statistic)))\n",
    "\n",
    "# 유의수준\n",
    "alpha = 0.05\n",
    "\n",
    "# 결과 출력\n",
    "if p_value < alpha:\n",
    "    print(f\"p-value: {p_value:.4f}\")\n",
    "    print(\"귀무가설을 기각합니다. 평균 감량이 12kg와 다릅니다.\")\n",
    "else:\n",
    "    print(f\"p-value: {p_value:.4f}\")\n",
    "    print(\"귀무가설을 기각할 수 없습니다. 평균 감량이 12kg라고 볼 수 있습니다.\")"
   ]
  },
  {
   "cell_type": "markdown",
   "metadata": {},
   "source": [
    "### 종합문제 6.16\n",
    "새 모델의 가정용 난방기 10개에 대한 연소효율을 측정하였더니 표본평균과 표본표준편차가 각각 73.2와 2.74이었다. 이 결과는 새로운 모델의 평균 효율성이 70보다 높다는 증거를 제시하는가? (유의수준  α=0.05 에서 검정하고 P-값에 대해 논하라.)"
   ]
  },
  {
   "cell_type": "code",
   "execution_count": 72,
   "metadata": {},
   "outputs": [
    {
     "name": "stdout",
     "output_type": "stream",
     "text": [
      "p-value: 0.0001\n",
      "귀무가설을 기각합니다. 새로운 모델의 평균 효율성이 70보다 높다는 증거가 있습니다.\n",
      "\n",
      "P-값 해석:\n",
      "P-값은 관측된 데이터나 그보다 더 극단적인 데이터가 귀무가설 하에서 발생할 확률을 나타냅니다.\n",
      "작은 P-값은 귀무가설을 기각할 강력한 증거가 됩니다.\n"
     ]
    }
   ],
   "source": [
    "import scipy.stats as stats\n",
    "import math\n",
    "\n",
    "# 주어진 정보\n",
    "n = 10  # 표본 크기\n",
    "sample_mean = 73.2  # 표본 평균\n",
    "sample_std = 2.74  # 표본 표준편차\n",
    "\n",
    "# 가설 설정\n",
    "null_mu = 70  # 귀무가설: 평균 효율성 = 70\n",
    "alternative = 'greater'  # 대립가설: 평균 효율성 > 70\n",
    "\n",
    "# 표본평균의 표준오차 계산\n",
    "std_error = sample_std / math.sqrt(n)\n",
    "\n",
    "# 검정 통계량 계산\n",
    "test_statistic = (sample_mean - null_mu) / std_error\n",
    "\n",
    "# p-value 계산\n",
    "p_value = 1 - stats.norm.cdf(test_statistic)\n",
    "\n",
    "# 유의수준\n",
    "alpha = 0.05\n",
    "\n",
    "# 결과 출력\n",
    "if p_value < alpha:\n",
    "    print(f\"p-value: {p_value:.4f}\")\n",
    "    print(\"귀무가설을 기각합니다. 새로운 모델의 평균 효율성이 70보다 높다는 증거가 있습니다.\")\n",
    "else:\n",
    "    print(f\"p-value: {p_value:.4f}\")\n",
    "    print(\"귀무가설을 기각할 수 없습니다. 새로운 모델의 평균 효율성이 70보다 높다는 증거가 부족합니다.\")\n",
    "\n",
    "print(\"\\nP-값 해석:\")\n",
    "print(\"P-값은 관측된 데이터나 그보다 더 극단적인 데이터가 귀무가설 하에서 발생할 확률을 나타냅니다.\")\n",
    "print(\"작은 P-값은 귀무가설을 기각할 강력한 증거가 됩니다.\")"
   ]
  },
  {
   "cell_type": "markdown",
   "metadata": {},
   "source": [
    "### 종합문제 6.21\n",
    "다음 각 경우에서 가설  H0:σ=10  대  H1:σ>10  에 대한 검정을 하라. ( α=0.05 )\n",
    "\n",
    "(1) n= 25,  Σ(xi−x¯)2=4016 \n",
    "\n",
    "(2) n=15, s=12\n",
    "\n",
    "(3) n=6, 표본관측값들은 110, 126, 131, 149, 156, 165"
   ]
  },
  {
   "cell_type": "code",
   "execution_count": 74,
   "metadata": {},
   "outputs": [
    {
     "name": "stdout",
     "output_type": "stream",
     "text": [
      "p-value: 0.0206\n",
      "귀무가설을 기각합니다. σ는 10보다 크다고 할 수 있습니다.\n"
     ]
    }
   ],
   "source": [
    "# (1) n= 25, Σ(xi−x¯)2=4016\n",
    "import scipy.stats as stats\n",
    "\n",
    "# 주어진 정보\n",
    "n = 25\n",
    "sum_squared_diffs = 4016\n",
    "\n",
    "# 가설 설정\n",
    "null_sigma = 10\n",
    "alternative = 'greater'\n",
    "\n",
    "# 검정 통계량 계산\n",
    "test_statistic = sum_squared_diffs / null_sigma**2\n",
    "\n",
    "# p-value 계산\n",
    "df = n - 1\n",
    "p_value = 1 - stats.chi2.cdf(test_statistic, df)\n",
    "\n",
    "# 유의수준\n",
    "alpha = 0.05\n",
    "\n",
    "# 결과 출력\n",
    "if p_value < alpha:\n",
    "    print(f\"p-value: {p_value:.4f}\")\n",
    "    print(\"귀무가설을 기각합니다. σ는 10보다 크다고 할 수 있습니다.\")\n",
    "else:\n",
    "    print(f\"p-value: {p_value:.4f}\")\n",
    "    print(\"귀무가설을 기각할 수 없습니다. σ가 10보다 크다고 할 수 없습니다.\")"
   ]
  },
  {
   "cell_type": "code",
   "execution_count": 75,
   "metadata": {},
   "outputs": [
    {
     "name": "stdout",
     "output_type": "stream",
     "text": [
      "p-value: 0.1252\n",
      "귀무가설을 기각할 수 없습니다. σ가 10보다 크다고 할 수 없습니다.\n"
     ]
    }
   ],
   "source": [
    "# (2) n=15, s=12\n",
    "import scipy.stats as stats\n",
    "\n",
    "# 주어진 정보\n",
    "n = 15\n",
    "sample_std = 12\n",
    "\n",
    "# 가설 설정\n",
    "null_sigma = 10\n",
    "alternative = 'greater'\n",
    "\n",
    "# 검정 통계량 계산\n",
    "test_statistic = (n - 1) * sample_std**2 / null_sigma**2\n",
    "\n",
    "# p-value 계산\n",
    "df = n - 1\n",
    "p_value = 1 - stats.chi2.cdf(test_statistic, df)\n",
    "\n",
    "# 유의수준\n",
    "alpha = 0.05\n",
    "\n",
    "# 결과 출력\n",
    "if p_value < alpha:\n",
    "    print(f\"p-value: {p_value:.4f}\")\n",
    "    print(\"귀무가설을 기각합니다. σ는 10보다 크다고 할 수 있습니다.\")\n",
    "else:\n",
    "    print(f\"p-value: {p_value:.4f}\")\n",
    "    print(\"귀무가설을 기각할 수 없습니다. σ가 10보다 크다고 할 수 없습니다.\")"
   ]
  },
  {
   "cell_type": "code",
   "execution_count": 76,
   "metadata": {},
   "outputs": [
    {
     "name": "stdout",
     "output_type": "stream",
     "text": [
      "p-value: 0.0007\n",
      "귀무가설을 기각합니다. σ는 10보다 크다고 할 수 있습니다.\n"
     ]
    }
   ],
   "source": [
    "# (3) n=6, 표본관측값들은 110, 126, 131, 149, 156, 165\n",
    "import scipy.stats as stats\n",
    "import math\n",
    "\n",
    "# 주어진 정보\n",
    "sample = [110, 126, 131, 149, 156, 165]\n",
    "n = len(sample)\n",
    "\n",
    "# 가설 설정\n",
    "null_sigma = 10\n",
    "alternative = 'greater'\n",
    "\n",
    "# 표본 평균 계산\n",
    "sample_mean = sum(sample) / n\n",
    "\n",
    "# 표본 표준편차 계산\n",
    "squared_diffs = [(x - sample_mean)**2 for x in sample]\n",
    "sample_variance = sum(squared_diffs) / (n - 1)\n",
    "sample_std = math.sqrt(sample_variance)\n",
    "\n",
    "# 검정 통계량 계산\n",
    "test_statistic = (n - 1) * sample_std**2 / null_sigma**2\n",
    "\n",
    "# p-value 계산\n",
    "df = n - 1\n",
    "p_value = 1 - stats.chi2.cdf(test_statistic, df)\n",
    "\n",
    "# 유의수준\n",
    "alpha = 0.05\n",
    "\n",
    "# 결과 출력\n",
    "if p_value < alpha:\n",
    "    print(f\"p-value: {p_value:.4f}\")\n",
    "    print(\"귀무가설을 기각합니다. σ는 10보다 크다고 할 수 있습니다.\")\n",
    "else:\n",
    "    print(f\"p-value: {p_value:.4f}\")\n",
    "    print(\"귀무가설을 기각할 수 없습니다. σ가 10보다 크다고 할 수 없습니다.\")"
   ]
  },
  {
   "cell_type": "markdown",
   "metadata": {},
   "source": [
    "### 종합문제 6.26\n",
    "표본으로부터 모표준편차  σ 에 대한 90% 신뢰구간이 (8.6, 15.3)이었다. 같은 자료를 가지고, 유의수준  α=0.10 에서 가설  H0:σ=7  대  H0:σ≠7 에 대한 가설검정의 결론은 무엇이겠는가?"
   ]
  },
  {
   "cell_type": "code",
   "execution_count": 77,
   "metadata": {},
   "outputs": [
    {
     "name": "stdout",
     "output_type": "stream",
     "text": [
      "p-value: 0.2154\n",
      "귀무가설을 기각할 수 없습니다. σ가 7이라고 볼 수 있습니다.\n"
     ]
    }
   ],
   "source": [
    "# 주어진 90% 신뢰구간을 이용하여 검정통계량을 계산하고, 이를 기반으로 가설검정을 수행\n",
    "import scipy.stats as stats\n",
    "\n",
    "# 주어진 정보\n",
    "conf_interval = (8.6, 15.3)  # 90% 신뢰구간\n",
    "\n",
    "# 가설 설정\n",
    "null_sigma = 7\n",
    "alternative = 'two-sided'  # 양측 검정\n",
    "\n",
    "# 검정 통계량 계산\n",
    "test_statistic_upper = (conf_interval[1] - null_sigma) / (conf_interval[1] - conf_interval[0])\n",
    "test_statistic_lower = (null_sigma - conf_interval[0]) / (conf_interval[1] - conf_interval[0])\n",
    "\n",
    "# p-value 계산\n",
    "df = float('inf')  # 자유도가 무한대인 경우\n",
    "p_value_upper = 1 - stats.norm.cdf(test_statistic_upper)\n",
    "p_value_lower = stats.norm.cdf(test_statistic_lower)\n",
    "p_value = 2 * min(p_value_upper, p_value_lower)\n",
    "\n",
    "# 유의수준\n",
    "alpha = 0.10\n",
    "\n",
    "# 결과 출력\n",
    "if p_value < alpha:\n",
    "    print(f\"p-value: {p_value:.4f}\")\n",
    "    print(\"귀무가설을 기각합니다. σ는 7과 다릅니다.\")\n",
    "else:\n",
    "    print(f\"p-value: {p_value:.4f}\")\n",
    "    print(\"귀무가설을 기각할 수 없습니다. σ가 7이라고 볼 수 있습니다.\")"
   ]
  }
 ],
 "metadata": {
  "colab": {
   "provenance": [
    {
     "file_id": "1RLlbjMGwejjR4RlCFrIHNFzn87fqd8CG",
     "timestamp": 1710108326057
    }
   ],
   "toc_visible": true
  },
  "kernelspec": {
   "display_name": "Python 3 (ipykernel)",
   "language": "python",
   "name": "python3"
  },
  "language_info": {
   "codemirror_mode": {
    "name": "ipython",
    "version": 3
   },
   "file_extension": ".py",
   "mimetype": "text/x-python",
   "name": "python",
   "nbconvert_exporter": "python",
   "pygments_lexer": "ipython3",
   "version": "3.10.9"
  }
 },
 "nbformat": 4,
 "nbformat_minor": 4
}
