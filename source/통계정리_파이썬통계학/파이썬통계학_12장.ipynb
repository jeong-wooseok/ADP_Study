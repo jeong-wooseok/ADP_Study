{
 "cells": [
  {
   "cell_type": "markdown",
   "metadata": {
    "id": "zP4Puo-DcfQl"
   },
   "source": [
    "# 1. 서론\n",
    "-  하나의 모집단에 관한 것뿐 아니라 두 모집단 간의 차이가 관심의 대상이 되는 경우도 많이 있다.\n",
    "> - 기존의 치료약과 새롭게 개발된 치료약의 효능을 비교\n",
    "> - 두 종류의 강의방법에 의한 학습효과를 비교\n",
    "> - 시판되는 다이어트 상품의 효과를 알아보기 위해 사용 전후의 체중을 비교\n",
    "\n",
    "- 두 모집단의 비교를 위한 추론과정은 자료를 어떻게 수집하느냐에 따라 추론방법이 달라지게 되는데,대표적인 두 종류의 자료수집과정에 따른 추론방법을 알아보자\n"
   ]
  },
  {
   "cell_type": "markdown",
   "metadata": {
    "id": "LK_7haladNwf"
   },
   "source": [
    "###  예제 1>\n",
    "어떤 질병을 치료하기 위해 새롭게 개발된 약은 기존의 약보다 이론적으로는 더 효과적이라고 생각된다고 한다.<br>\n",
    "그러나 이러한 가설을 증명하기 위해서는 동물이나 인체를 대상으로 한 실험이 필수이다.<br>\n",
    "따라서 이 두 약의 효과를 비교하기 위해 건강상태가 비슷한 19마리의 쥐를 대상으로 병균을 투입한 후, <br>\n",
    "그 중에서 임의로 10마리의 쥐를 추출하여 그들에게는 기존의 약을 투약하고 나머지 쥐들에게는 새로운 약을 투약하였다. <br>그 후에 쥐들이 완치될 때까지 걸린 시간을 기록하였다.\n"
   ]
  },
  {
   "cell_type": "markdown",
   "metadata": {
    "id": "4OWsYtMOdYPj"
   },
   "source": [
    "- 처리(treatment) : 비교하고자 하는 특성\n",
    "- 실험단위(experimental unit) : 실험의 대상\n",
    "- 반응값(response) : 실험 후에 얻어지는 수치"
   ]
  },
  {
   "cell_type": "markdown",
   "metadata": {
    "id": "C7O4D3Vpd-dQ"
   },
   "source": [
    "### 예제 2>\n",
    "어떤 질병에 걸린 환자들을 대상으로 기존의 약과 새로운 약의 효과를 비교하고자 하는데,\n",
    "<br>환자들의 외적인 조건, 즉 나이, 성별, 건강상태 등이 아주 다양하다고 하자. <br>\n",
    "이럴 때는 우선 외적인 조건과 병의 경중 등을 고려하여 비교적 비슷한 조건을 갖는 환자끼리 짝을 짓는다. \n",
    "<br>즉 각 쌍 내의 환자들은 서로 비슷한 조건을 갖는 반면, 각 쌍들 간에는 서로 다른 조건들을 갖도록 한다. \n",
    "이렇게 짝이 지어지면 각 쌍의 환자 중에서 임의로 한 환자를 추출하여 그 환자에게는 기존의 약을, \n",
    "다른 한 명의 환자에게는 새로운 약을 투약한 후, 완치 때까지 걸린 시간을 기록한다.\n",
    "\n"
   ]
  },
  {
   "cell_type": "markdown",
   "metadata": {
    "id": "BK8RtzLIeMFz"
   },
   "source": [
    "- **예제 1**의 경우와 같이 실험단위를 임의로 두 그룹으로 나누어 한 그룹에는 처리 1을, 다른 그룹에는 처리 2를 배정하는 경우 각 그룹에서 얻어지는 반응값들은 서로 영향을 주지 않고 독립이다.\n",
    "  - 따라서 두 그룹에서 얻어진 반응값들은 두 개의 모집단으로부터 얻어진 두 개의 독립인 표본자료\n",
    "라고 생각할 수 있다. 이와 같은 경우를 **독립인 두 표본으로부터 두 모집단을 비교하는 경우**라고\n",
    "한다.\n",
    "\n",
    "- **예제 2**의 경우는 짝짓는 과정에서 각 쌍에 있는 실험단위들은 비슷한 특성을 갖게 되므로, 서로 독립이라고 할 수 없다. 이 경우 **각 쌍마다 한 쌍의 반응값을 관측하여 서로 비교하게 되므로 이와 같은 경우를 짝비교**라고 한다. 이 두 경우를 각각 2절과 3절에서 다루고, 4절에서\n",
    "는 두 모비율의 차이에 대하여 추론하는 방법을 공부한다.\n"
   ]
  },
  {
   "cell_type": "markdown",
   "metadata": {
    "id": "gBrXI80Ycfqn",
    "tags": []
   },
   "source": [
    "# 2. 두개의 독립 표본\n",
    "- 독립인 두 개의 표본으로부터 두 모집단, 혹은 두 가지\n",
    "의 처리효과를 비교하는 통계추론의 방법\n",
    "- 두 지역(A, B)의 가구당 소득을 비교한다면, 모집\n",
    "단 1은 A 지역에 있는 가구들의 소득이고, 모집단 2는 B 지역에 있는 가구들의 소득\n",
    "- 두 모집단으로부터 적당한 수의 표본을 추출하여 두 개의 독립인 표본 얻음\n",
    "- **모평균의 차($\\mu_1-\\mu_2$)에 대한 추론(표본의 크기가 클 때)**\n",
    "> 두개의 확률변수 X, Y가 서로 독립이고 정규분포를 따를 때, 두변수의 합과 차는 각각 정규분포를 따르고, 평균은 $\\mu_1\\pm\\mu_1$,분산은 $\\sigma_1^2+\\sigma_2^2$가 된다.\n",
    "\n",
    ">- $N(\\bar X-\\bar Y)$ ~ $N(\\mu_1-\\mu_1, \\frac{\\sigma_1^2}{n_1}+\\frac{\\sigma_2^2}{n})$\n",
    "\n",
    "\n",
    "\n",
    "\n",
    "\n",
    "\n",
    "\n"
   ]
  },
  {
   "cell_type": "markdown",
   "metadata": {
    "id": "wIsWztqEjBzL"
   },
   "source": [
    "### 모평균의 차 ($\\mu_1$- $\\mu_2$)에 대한 신뢰구간\n",
    "(표본의 크기가 클때)\n",
    "-  $(\\bar X-\\bar Y)\\pm z_{\\alpha/2} \\times \\sqrt{\\frac{s_1^2}{n_1}+\\frac{s_2^2}{n_2}}$"
   ]
  },
  {
   "cell_type": "markdown",
   "metadata": {
    "id": "AAAh-2gbictG"
   },
   "source": [
    "#### 예제 3\n",
    "봉지에 과자를 담는 두 대의 기계 A와 B가 있다. 이 두 기계가 담는 과자의 평균무게의 차에 대한 추론을 하기 위해서 A 기계로부터 나온 과자 50봉지, B 기계로부터 100봉지의 무게를 조사한 결과 평균이 각각 453g과 401 g이고 표준편차가 각각 80 g과 60 g으로 나왔다. 이 두 기계의 모평균을 각각\n",
    "$\\mu_A$와 $\\mu_B$라고 할 때, $\\mu_A$- $\\mu_B$의 95% 신뢰구간을 구하라.\n"
   ]
  },
  {
   "cell_type": "code",
   "execution_count": 4,
   "metadata": {
    "id": "BaTy56yGcuPJ"
   },
   "outputs": [
    {
     "name": "stdout",
     "output_type": "stream",
     "text": [
      "𝜇𝐴 - 𝜇𝐵의 95% 신뢰구간은 26.900 ~ 77.100\n"
     ]
    }
   ],
   "source": [
    "import scipy.stats as stats\n",
    "import numpy as np\n",
    "n_a, n_b = 50, 100\n",
    "x_a, x_b = 453, 401\n",
    "s_a, s_b = 80, 60\n",
    "alpha = 0.05\n",
    "z = np.abs(stats.norm.ppf(alpha/2))\n",
    "se = np.sqrt(s_a**2/n_a + s_b**2/n_b)\n",
    "conf = x_a - x_b - z * se, x_a - x_b + z * se\n",
    "print(f'𝜇𝐴 - 𝜇𝐵의 95% 신뢰구간은 {conf[0]:.3f} ~ {conf[1]:.3f}')"
   ]
  },
  {
   "cell_type": "markdown",
   "metadata": {
    "id": "1LirkqVbkAbR"
   },
   "source": [
    "### 두 독립표본 차이 검정: 표본크기 클때\n",
    " $H_0: \\mu_1-\\mu_2=\\delta_0$ 에 대한 검정(표본의 크기가 클때,n1,n2모두 30이상)\n",
    "- $Z = \\frac{(\\bar X - \\bar Y)-\\delta_0}{\\sqrt {s_1^2/n_1+s_2^2/n_2}} $\n",
    "- 검정통계량은 H0이 맞을 때 N(0,1)을 따른다. 각 대립가설에 대해 유의수준 α를 갖는 기각역은 다음과 같다.\n",
    "  - $H1:\\mu_1-\\mu_2<\\delta_0$일때 $R:Z \\leq -z_\\alpha$\n",
    "  - $H1:\\mu_1-\\mu_2>\\delta_0$일때 $R:Z \\geq -z_\\alpha$\n",
    "  - $H1:\\mu_1-\\mu_2\\neq\\delta_0$일때 $R:|Z| \\geq z_\\alpha$\n"
   ]
  },
  {
   "cell_type": "markdown",
   "metadata": {
    "id": "tkvcMMCkn6um"
   },
   "source": [
    "#### 예제4\n",
    "위의 예제 3에서 두 기계가 채워넣는 과자의 평균무게에 차이가 있다고 할 수 있는지 유의수준 1%로 검정하라"
   ]
  },
  {
   "cell_type": "code",
   "execution_count": 71,
   "metadata": {
    "id": "0DeeNJRBn6N5"
   },
   "outputs": [
    {
     "name": "stdout",
     "output_type": "stream",
     "text": [
      "통계치:1.027가> 유의수준:2.576으로 귀무가설을 기각한다. 두 기계가 채워넣는 과자의 평균무게에 차이가 있다\n"
     ]
    }
   ],
   "source": [
    "# H0: 두 기계가 채워넣는 과자의 평균무게에 차이가 없다... 𝜇1−𝜇2 = 0\n",
    "alpha = 0.01\n",
    "z = (x_a-x_b)/se\n",
    "z_0 = stats.norm.ppf(alpha/2)\n",
    "if z > np.abs(z_0):\n",
    "    print(f'통계치:{z:.3f}가> 유의수준:{np.abs(z_0):.3f}으로 귀무가설을 기각한다. 두 기계가 채워넣는 과자의 평균무게에 차이가 있다')\n",
    "else:\n",
    "    print(f'통계치:{z:.3f}가< 유의수준:{np.abs(z_0):.3f}으로 귀무가설을 기각하지 못한다. 두 기계가 채워넣는 과자의 평균무게에 차이가 없다')    "
   ]
  },
  {
   "cell_type": "markdown",
   "metadata": {
    "id": "AYLGhLQ3oMI1"
   },
   "source": [
    "### 두 독립표본 차이 검정 : 표본크기 작을때\n",
    "- 두 모집단에 대하여 정규분포 가정 필요\n"
   ]
  },
  {
   "cell_type": "markdown",
   "metadata": {
    "id": "J-p9D1YIpf-0"
   },
   "source": [
    "#### 표준편차 같을경우($\\sigma_1=\\sigma_2=\\sigma$)\n",
    "- 공통분산 $\\sigma^2$의 합동추정량 (1. 표준편차 같을 경우)\n",
    "> $s_p^2=\\frac{\\sum_{i=1} ^{n} (X_i-\\bar X)^2+\\sum_{i=1} ^{n} (Y_i-\\bar Y)^2}{n_1+n_2-2}$\n",
    "$=\\frac{(n_1-1)s_1^2+(n_2-1)s_2^2}{n_1+n_2-2}$\n",
    "- 두 정규모집단에서 독립적으로 추출된 두 표본으로부터 얻게되는 표준화된 확률변수는 자유도가 $(n_1+n_2-2)$인 t분포를 따른다\n",
    "> $t=\\frac{(\\bar X - \\bar Y)-(\\mu_1-\\mu_2)}{s_p\\sqrt{\\frac{1}{n_1}+\\frac{1}{n_2}}}$ ~ $t(n_1+n_2-2)$\n",
    "- 모평균의 차$(\\mu_1-\\mu_2)$에 대한 $(1-\\alpha)$%의 신뢰구간 \n",
    "> $(\\bar X-\\bar Y)\\pm t_{\\alpha/2}(n_1+n_2-2) \\times s_p\\sqrt{\\frac{1}{n_1}+\\frac{1}{n_2}}$\n",
    "- 가설검정의 검정통계량 t는 다음과 같이 구함\n",
    " $H_0: \\mu_1-\\mu_2=\\delta_0$ 에 대한 검정(표본의 크기가 클때,n1,n2모두 30이상)\n",
    "> $t = \\frac{(\\bar X - \\bar Y)-\\delta_0}{s_p\\sqrt {\\frac{1}{n_1}+\\frac{1}{n_2}}} $\n",
    "- 검정통계량은 H0이 맞을 때 N(0,1)을 따른다. 각 대립가설에 대해 유의수준 α를 갖는 기각역은 다음과 같다.\n",
    "  - $H1:\\mu_1-\\mu_2<\\delta_0$일때 $R:t \\leq -t_\\alpha(n1+n2-2)$\n",
    "  - $H1:\\mu_1-\\mu_2>\\delta_0$일때 $R:t \\geq -t_\\alpha(n1+n2-2)$\n",
    "  - $H1:\\mu_1-\\mu_2\\neq\\delta_0$일때 $R:|t| \\geq t_{\\alpha/2}(n1+n2-2)$\n"
   ]
  },
  {
   "cell_type": "markdown",
   "metadata": {},
   "source": [
    "##### 예제5\n",
    "다음의 두 표본으로부터 $s_p^2$을 구하라. \n",
    "\n",
    "```\n",
    "표본 1: 8, 5, 7, 6, 9, 7 \n",
    "표본 2:2, 6, 4, 7, 6 \n",
    "```"
   ]
  },
  {
   "cell_type": "markdown",
   "metadata": {},
   "source": [
    "- $s_p^2=\\frac{\\sum(x_i-\\bar{x})^2-\\sum(y_i-\\bar{y})^2}{n_1+n_2-2}$<br>\n",
    "- $\\sum(x_i-\\bar{x})^2=\\sum x_i^2 - n\\bar{x}^2$"
   ]
  },
  {
   "cell_type": "code",
   "execution_count": 34,
   "metadata": {
    "id": "O1OCu7ldpfkp"
   },
   "outputs": [
    {
     "data": {
      "text/plain": [
       "(2.888888888888889, 2.888888888888889)"
      ]
     },
     "execution_count": 34,
     "metadata": {},
     "output_type": "execute_result"
    }
   ],
   "source": [
    "import numpy as np\n",
    "a = np.array([8, 5, 7, 6, 9, 7])\n",
    "b = np.array([2, 6, 4, 7, 6])\n",
    "\n",
    "n_a, n_b = len(a), len(b)\n",
    "x_a, x_b = np.mean(a), np.mean(b)\n",
    "s_a, s_b = np.std(a,ddof=1), np.std(b,ddof=1)\n",
    "\n",
    "s_p_2 = (sum(a**2)- n_a * x_a**2 + sum(b**2)- n_b * x_b**2) / (n_a + n_b - 2) # ∑𝑥2𝑖−𝑛𝑥¯2 황용하여 합동분산 풀이 \n",
    "s_p_2_2 = ((n_a-1)*s_a**2+(n_b-1)*s_b**2)/(n_a+n_b-2) # v_p = (dof1*v1+dof2*v2)/dof_p 로 풀이\n",
    "s_p_2, s_p_2_2"
   ]
  },
  {
   "cell_type": "markdown",
   "metadata": {
    "tags": []
   },
   "source": [
    "##### 예제6\n",
    "목초의 종류에 따른 우유생산량의 차이를 알아보기 위해서 25마리의 젖소를 대상으로 3주 동안 임의로 추출된 12마리의 젖소에게는 인공적으로 건조시킨 목초를 주고, 13마리의 젖소에게는 들판에서 말린 목초를 주었다. 각 젖소의 일일 평균 우유생산량이 다음과 같이 주어졌다고 할 때 일일 평균 우유생산량의 차에 대한 95% 신뢰구간을 구하라. \n",
    "```\n",
    "들판:[44,44,56,46,47,38,58,53,49,35,46,30,41]\n",
    "인공:[35,47,55,29,40,39,32,41,42,57,51,39]\n",
    "```\n"
   ]
  },
  {
   "cell_type": "code",
   "execution_count": 36,
   "metadata": {},
   "outputs": [
    {
     "name": "stdout",
     "output_type": "stream",
     "text": [
      "95% 신뢰구간은 -4.020 ~ 9.828\n"
     ]
    }
   ],
   "source": [
    "import scipy.stats as stats\n",
    "a = np.array([44,44,56,46,47,38,58,53,49,35,46,30,41])\n",
    "b = np.array([35,47,55,29,40,39,32,41,42,57,51,39])\n",
    "n_a, n_b = len(a), len(b)\n",
    "x_a, x_b, s_a, s_b = np.mean(a), np.mean(b), np.std(a,ddof=1), np.std(b,ddof=1)\n",
    "alpha = 0.05\n",
    "t = np.abs(stats.t.ppf(alpha/2, n_a+n_b-2))\n",
    "# s_p = np.sqrt((sum(a**2)- n_a * x_a**2 + sum(b**2)- n_b * x_b**2) / (n_a + n_b - 2))\n",
    "\n",
    "s_p = np.sqrt(((n_a-1)*s_a**2+(n_b-1)*s_b**2)/(n_a+n_b-2))\n",
    "se = s_p*np.sqrt(1/n_a + 1/n_b)\n",
    "confi = (x_a-x_b)-t*se, (x_a-x_b)+t*se\n",
    "\n",
    "print(f'95% 신뢰구간은 {confi[0]:.3f} ~ {confi[1]:.3f}')"
   ]
  },
  {
   "cell_type": "markdown",
   "metadata": {},
   "source": [
    "##### 예제 7\n",
    "위의 예제6에서 주어진 자료로부터 들판에서 자연적으로 말린 목초로 사육하는 젖소가 인공적으로 말린 목초로 사육하는 젖소보다 우유 생산량이 많다고 할 수 있는가? 유의수준 0.05로 검정하라"
   ]
  },
  {
   "cell_type": "code",
   "execution_count": 72,
   "metadata": {},
   "outputs": [
    {
     "name": "stdout",
     "output_type": "stream",
     "text": [
      "통계치:1.027가< 유의수준:1.714으로 귀무가설을 기각하지 못한다. 젖소가 인공적으로 말린 목초로 사육하는 젖소보다 우유 생산량이 많다고 할 수 없다\n"
     ]
    }
   ],
   "source": [
    "alpha = 0.05\n",
    "t_0 = stats.t.ppf(alpha, n_a+n_b-2) # 많다고 할수 있는지 묻는 것으로 단측검정 활용\n",
    "t_1 = (x_a-x_b)/se\n",
    "\n",
    "if np.abs(t_1) < t_0:\n",
    "    print(f'통계치:{t_1:.3f}가> 유의수준:{np.abs(t_0):.3f}으로 귀무가설을 기각한다. 젖소가 인공적으로 말린 목초로 사육하는 젖소보다 우유 생산량이 많다고 할 수 있다')\n",
    "else:\n",
    "    print(f'통계치:{t_1:.3f}가< 유의수준:{np.abs(t_0):.3f}으로 귀무가설을 기각하지 못한다. 젖소가 인공적으로 말린 목초로 사육하는 젖소보다 우유 생산량이 많다고 할 수 없다')   "
   ]
  },
  {
   "cell_type": "markdown",
   "metadata": {
    "id": "AlQUlmpspnPY",
    "tags": []
   },
   "source": [
    "#### 표준편차 다를경우($\\sigma_1 \\neq \\sigma_2$)\n",
    "- 신뢰구간은 근사적으로 구하며, 이때 t의 자유도는 $n_1-1,n_2-1$ 중 작은값\n",
    "> $(\\bar X-\\bar Y)\\pm t_{\\alpha/2} \\times \\sqrt{\\frac{s1^2}{n_1}+\\frac{s1^2}{n_2}}$\n",
    "- $H_0:\\mu_1-\\mu_2=\\delta_0$에 대한 검정통계량 (자유도는 n1-1, n2-1중 작은값)\n",
    "> $t=\\frac{(\\bar X-\\bar Y)-\\delta_0}{\\sqrt{\\frac{s_1^2}{n_1}+\\frac{s_2^2}{n_2}}}$"
   ]
  },
  {
   "cell_type": "markdown",
   "metadata": {},
   "source": [
    "##### 예제8\n",
    "지방의 한 도시에서 작은 개천을 사이에 두고 남북으로 나뉘어 있는 두 지역의 집값을 비교하고자 최근에 매매가 이루어진 집을 대상으로 남쪽에서 13가구, 북쪽에서 11가구의 집값을 조사하였더니 다음과 같았다. \n",
    "- 남쪽: $n_1$=13, $\\bar x$=2.4억원, $s_1$=0.72억원 \n",
    "- 북쪽: $n_2$=11, $\\bar y$=2.15억원,$s_2$=0.35억원 <br>\n",
    "유의수준 5%로 두 지역의 집값에 차가 있다고 할 수 있는지 검정하라. \n"
   ]
  },
  {
   "cell_type": "code",
   "execution_count": 73,
   "metadata": {
    "id": "g8lBw9FVoLuq"
   },
   "outputs": [
    {
     "name": "stdout",
     "output_type": "stream",
     "text": [
      "통계치:1.107가< 유의수준:2.228으로 귀무가설을 기각하지 못한다. 두 지역의 집값에 차가 있다고 할 수 없다\n"
     ]
    }
   ],
   "source": [
    "n_a, n_b, x_a, x_b, s_a, s_b, alpha = 13,11,2.4,2.15,0.72,0.35,0.05 # 차이 있는지 물음으로 양측검증\n",
    "t_0 = stats.t.ppf(alpha/2, n_b-1)\n",
    "\n",
    "se = np.sqrt(s_a**2/n_a+s_b**2/n_b)\n",
    "t_1 = (x_a-x_b)/se\n",
    "\n",
    "if t_1 > np.abs(t_0):\n",
    "    print(f'통계치:{t_1:.3f}가> 유의수준:{np.abs(t_0):.3f}으로 귀무가설을 기각한다. 두 지역의 집값에 차가 있다고 할 수 있다')\n",
    "else:\n",
    "    print(f'통계치:{t_1:.3f}가< 유의수준:{np.abs(t_0):.3f}으로 귀무가설을 기각하지 못한다. 두 지역의 집값에 차가 있다고 할 수 없다')  "
   ]
  },
  {
   "cell_type": "markdown",
   "metadata": {
    "id": "lNgvgLfNpZVT"
   },
   "source": [
    "## 12.2.연습문제"
   ]
  },
  {
   "cell_type": "markdown",
   "metadata": {},
   "source": [
    "### 2.1 \n",
    "두 개의 모집단으로부터 추출한 두 개의 독립인 표본으로부터 아래와 같은 통계량을 계산하였다\n",
    "|표본1|표본2|\n",
    "|-|-|\n",
    "|n1=51|n2=42|\n",
    "|$\\bar{x}$=75|$\\bar{y}$=66|\n",
    "|$s_1^2$=155|$s_2^2$=142|\n",
    "\n",
    "\n",
    "(1) $\\mu_1-\\mu_2$에 관한 추정량을 구하고, 추정표준오차를 계산하라. <br>\n",
    "(2) $\\mu_1-\\mu_2$의 95% 신뢰구간을 구하라. \n"
   ]
  },
  {
   "cell_type": "code",
   "execution_count": 5,
   "metadata": {},
   "outputs": [
    {
     "name": "stdout",
     "output_type": "stream",
     "text": [
      "- 𝜇1−𝜇2 에 관한 추정량 :9, 추정표준오차 2.534\n",
      "- 𝜇1−𝜇2 에 관한 신뢰구간은 4.034 ~ 13.966\n"
     ]
    }
   ],
   "source": [
    "import numpy as np\n",
    "from scipy.stats import norm \n",
    "n1, n2, x, y, s1, s2 = 51, 42, 75, 66, 155**0.5, 142**0.5\n",
    "# (1)  𝜇1−𝜇2 에 관한 추정량을 구하고, 추정표준오차를 계산하라.\n",
    "m = x - y\n",
    "se = np.sqrt(s1**2/n1+s2**2/n2)\n",
    "print(f'- 𝜇1−𝜇2 에 관한 추정량 :{m}, 추정표준오차 {se:.3f}')\n",
    "# (2)  𝜇1−𝜇2 의 95% 신뢰구간을 구하라.\n",
    "alpha = 0.05\n",
    "z_a = np.abs(norm.ppf(alpha/2))\n",
    "confi = (m-z_a*se, m+z_a*se)\n",
    "print(f'- 𝜇1−𝜇2 에 관한 신뢰구간은 {confi[0]:.3f} ~ {confi[1]:.3f}')      "
   ]
  },
  {
   "cell_type": "markdown",
   "metadata": {
    "id": "jXcoNTmgpYz1",
    "tags": []
   },
   "source": [
    "### 2.2\n",
    "한자능력검정시험에서의 점수를 근거로 하여 도시 A, B의 학생들을 비교하였다. 중학교 1학년의 \n",
    "A 도시 학생 90명과 B 도시 학생 100명의 표본으로부터 구한 대회 점수에 대한 통계량 값이 다음 \n",
    "과 같다.\n",
    "|-|A도시|B도시|\n",
    "|-|-|-|\n",
    "|표본크기|90|100|\n",
    "|평균|76.4|81.2|\n",
    "|표준편차|8.2|7.6|\n",
    "\n",
    "두 도시간의 모평균의 점수의 차에 대한 98% 신뢰구간을 구하여라"
   ]
  },
  {
   "cell_type": "code",
   "execution_count": 9,
   "metadata": {},
   "outputs": [
    {
     "name": "stdout",
     "output_type": "stream",
     "text": [
      "- 𝜇1−𝜇2 에 관한 98% 신뢰구간은 2.122 ~ 7.478\n"
     ]
    }
   ],
   "source": [
    "NA, NB, XA, XB, SA, SB = 90, 100, 76.4, 81.2, 8.2, 7.6\n",
    "D = np.abs(XA-XB)\n",
    "alpha = 0.02\n",
    "z_a = np.abs(norm.ppf(alpha/2))\n",
    "se = np.sqrt(SA**2/NA+SB**2/NB)\n",
    "confi = [D-z_a*se,D+z_a*se]\n",
    "print(f'- 𝜇1−𝜇2 에 관한 98% 신뢰구간은 {confi[0]:.3f} ~ {confi[1]:.3f}')"
   ]
  },
  {
   "cell_type": "markdown",
   "metadata": {},
   "source": [
    "### 2.6 \n",
    "어린이 성장과 사회환경에 관한 연구의 한 분야로서 부모가 고등교육을 받지 못한 1학년생(집단 \n",
    "1)과 부모가 대학교육을 받은 1학년생(집단 2)의 언어능력의 비교에 대한 연구가 이루어졌다. 집 \n",
    "단 1과 집단 2로부터 각각 66명, 38명의 어린이를 임의로 뽑아서 그들의 언어능력를 점수로 계산 \n",
    "한 통계량이 다음과 같다. \n",
    "|-|집단1|집단2|\n",
    "|-|-|-|\n",
    "|평균|305|311|\n",
    "|표준편차|29|40|\n",
    "\n",
    "(1) 두 집단 간 언어능력의 차이가 있는가? (유의수준 = 0.01로 검정하라.) <br>\n",
    "(2) 두 어린이 집단의 모평균 점수차에 대한 98% 신뢰구간을 계산하라 "
   ]
  },
  {
   "cell_type": "code",
   "execution_count": 21,
   "metadata": {},
   "outputs": [
    {
     "name": "stdout",
     "output_type": "stream",
     "text": [
      "p_value 0.209이 유의수준 0.01보다 크므로 언어능력간의 차이가 있다고 볼수 없다\n",
      "어린이 집단의 모평균 점수차에 대한 98% 신뢰구간은 -11.228751957062808 ~ 23.22875195706281\n"
     ]
    }
   ],
   "source": [
    "# (1) 두 집단 간 언어능력의 차이가 있는가? (유의수준 = 0.01로 검정하라.)\n",
    "n1, n2, x, y , s1, s2= 66, 38, 305, 311, 29, 40\n",
    "alpha = 0.01\n",
    "d = np.abs(x-y)\n",
    "se = np.sqrt(s1**2/n1 + s2**2/n2)\n",
    "z_c = -np.abs(d / se)\n",
    "p_value = norm.cdf(z_c)\n",
    "if p_value<alpha:\n",
    "    print(f'p_value {p_value:.3f}이 유의수준 0.01보다 작으므로 언어능력간의 차이가 있다고 볼 수 있다')\n",
    "else:\n",
    "    print(f'p_value {p_value:.3f}이 유의수준 0.01보다 크므로 언어능력간의 차이가 있다고 볼 수 없다')\n",
    "# (2) 두 어린이 집단의 모평균 점수차에 대한 98% 신뢰구간을 계산하라\n",
    "alpha = 0.02\n",
    "z_a = np.abs(norm.ppf(0.02/2))\n",
    "print(f'어린이 집단의 모평균 점수차에 대한 98% 신뢰구간은 {d - z_a * se:.3f} ~ {d + z_a * se:.3f}')"
   ]
  },
  {
   "cell_type": "markdown",
   "metadata": {},
   "source": [
    "### 2.10\n",
    "섬세함을 요구하는 어느 작업에서 성별에 따라 작업하는 데 걸리는 시간이 차이가 있는지 판단하고자<br> \n",
    "48명의 남성을 대상으로 작업시간을 조사한 결과 평균 7.92분, 표준편차 3.45분이고, 38명 여성의 작업시간은 평균 5.80분, 표준편차 2.87분이었다.<br> \n",
    "여성보다 남성이 작업하는 데 시간이 오래 걸린다고 할 수 있는지 검정하라. (P-값을 이용하여 답하라.) "
   ]
  },
  {
   "cell_type": "code",
   "execution_count": 22,
   "metadata": {},
   "outputs": [
    {
     "name": "stdout",
     "output_type": "stream",
     "text": [
      "p_value 0.0000이 유의수준 0.01보다 작으므로 남자가 여자보다 작업시간이 오래 걸린다고 할수 있다\n"
     ]
    }
   ],
   "source": [
    "n1, n2, x, y, s1, s2 = 48, 38, 7.92, 5.8, 3.45, 2.87\n",
    "alpha = 0.05\n",
    "z = x - y\n",
    "se = np.sqrt(s1**2/n1 + s2**2/n2)\n",
    "z_c = -np.abs(d / se)\n",
    "p_value = norm.cdf(z_c)\n",
    "if p_value<alpha:\n",
    "    print(f'p_value {p_value:.4f}이 유의수준 0.01보다 작으므로 남자가 여자보다 작업시간이 오래 걸린다고 할수 있다')\n",
    "else:\n",
    "    print(f'p_value {p_value:.4f}이 유의수준 0.01보다 크므로 남자가 여자보다 작업시간이 오래 걸린다고 할수 없다')"
   ]
  },
  {
   "cell_type": "markdown",
   "metadata": {
    "id": "6QkJLMxccfyJ",
    "tags": []
   },
   "source": [
    "# 3. 짝비교\n",
    "\n",
    "- 두 종류의 처리효과를 비교 시, 대상의 실험단위들이 비슷한 조건을 갖는 것이 이상적\n",
    "    - 실험단위 비슷, 다양한 실험단위 대상으로 비교 필요\n",
    "\n",
    "- 자료를 짝지워서 비교하는 방법\n",
    "    - 짝지워서 같은 쌍의 실험단위들은 서로 비슷\n",
    "    - 다른 쌍의 실험단위들과는 서로 다른 조건을 갖도록\n",
    "\n",
    "- 예> 임의로 짝지어서 처리 1을 시행하고, 나머지에는 처리 2를 시행\n"
   ]
  },
  {
   "cell_type": "markdown",
   "metadata": {},
   "source": [
    "- 짝비교의 표본평균과 분산\n",
    "    - $\\bar D = \\frac{1}{n}\\sum_{i=1}^{n}D_i$\n",
    "    - $s_{D}^2 = \\frac{\\sum_{i=1}^{n}(D-\\bar D)^2}{n-1}$\n",
    "- 짝비교의 신뢰구간\n",
    "    - $\\bar D \\pm t_{\\alpha/2}(n-1)\\times S_D/\\sqrt{n}$\n",
    "- $H_0:\\delta=\\delta_0$에 대한 검정통계량 (자유도는 n-1)\n",
    "    - $t=\\frac {\\bar D-\\delta_0}{s_D/\\sqrt{n}}$"
   ]
  },
  {
   "cell_type": "markdown",
   "metadata": {
    "id": "Ww1fat_GcpF4"
   },
   "source": [
    "### 예제 9\n",
    "어떤 약의 부작용으로 혈압강하의 효과가 있는지 알아보기 위해서 15명의 환자를 대상으로 약의 복용 전후의 이완기 혈압을 측정하였더니 그 결과가 다음과 같았다. <br>\n",
    "<br>\n",
    "환자 1 2 3 4 5 6 7 8 9 10 11 12 13 14 15<br>\n",
    "전(x) 70 80 76 76 76 72 78 82 64 74 92 74 68 84<br>\n",
    "후(v) 68 72 62 70 58 66 68 52 64 72 74 60 74 72 74<br>\n",
    "d=(x-y) 2 8 10 6 18 10 4 26 18 -8 0 32 0 -4 10 <br><br>\n",
    "(1) 평균 혈압강하량에 대한 95% 신뢰구간을 구하라. <br>\n",
    "(2) 이 자료로부터 약이 혈압을 내린다는 주장을 할 수 있겠는가? 유의수준 1%로 검정하라. <br>"
   ]
  },
  {
   "cell_type": "code",
   "execution_count": 23,
   "metadata": {},
   "outputs": [
    {
     "data": {
      "text/html": [
       "<div>\n",
       "<style scoped>\n",
       "    .dataframe tbody tr th:only-of-type {\n",
       "        vertical-align: middle;\n",
       "    }\n",
       "\n",
       "    .dataframe tbody tr th {\n",
       "        vertical-align: top;\n",
       "    }\n",
       "\n",
       "    .dataframe thead th {\n",
       "        text-align: right;\n",
       "    }\n",
       "</style>\n",
       "<table border=\"1\" class=\"dataframe\">\n",
       "  <thead>\n",
       "    <tr style=\"text-align: right;\">\n",
       "      <th>환자</th>\n",
       "      <th>1</th>\n",
       "      <th>2</th>\n",
       "      <th>3</th>\n",
       "      <th>4</th>\n",
       "      <th>5</th>\n",
       "      <th>6</th>\n",
       "      <th>7</th>\n",
       "      <th>8</th>\n",
       "      <th>9</th>\n",
       "      <th>10</th>\n",
       "      <th>11</th>\n",
       "      <th>12</th>\n",
       "      <th>13</th>\n",
       "      <th>14</th>\n",
       "      <th>15</th>\n",
       "    </tr>\n",
       "  </thead>\n",
       "  <tbody>\n",
       "    <tr>\n",
       "      <th>x</th>\n",
       "      <td>70</td>\n",
       "      <td>80</td>\n",
       "      <td>72</td>\n",
       "      <td>76</td>\n",
       "      <td>76</td>\n",
       "      <td>76</td>\n",
       "      <td>72</td>\n",
       "      <td>78</td>\n",
       "      <td>82</td>\n",
       "      <td>64</td>\n",
       "      <td>74</td>\n",
       "      <td>92</td>\n",
       "      <td>74</td>\n",
       "      <td>68</td>\n",
       "      <td>84</td>\n",
       "    </tr>\n",
       "    <tr>\n",
       "      <th>y</th>\n",
       "      <td>68</td>\n",
       "      <td>72</td>\n",
       "      <td>62</td>\n",
       "      <td>70</td>\n",
       "      <td>58</td>\n",
       "      <td>66</td>\n",
       "      <td>68</td>\n",
       "      <td>52</td>\n",
       "      <td>64</td>\n",
       "      <td>72</td>\n",
       "      <td>74</td>\n",
       "      <td>60</td>\n",
       "      <td>74</td>\n",
       "      <td>72</td>\n",
       "      <td>74</td>\n",
       "    </tr>\n",
       "    <tr>\n",
       "      <th>d</th>\n",
       "      <td>2</td>\n",
       "      <td>8</td>\n",
       "      <td>10</td>\n",
       "      <td>6</td>\n",
       "      <td>18</td>\n",
       "      <td>10</td>\n",
       "      <td>4</td>\n",
       "      <td>26</td>\n",
       "      <td>18</td>\n",
       "      <td>-8</td>\n",
       "      <td>0</td>\n",
       "      <td>32</td>\n",
       "      <td>0</td>\n",
       "      <td>-4</td>\n",
       "      <td>10</td>\n",
       "    </tr>\n",
       "  </tbody>\n",
       "</table>\n",
       "</div>"
      ],
      "text/plain": [
       "환자  1   2   3   4   5   6   7   8   9   10  11  12  13  14  15\n",
       "x   70  80  72  76  76  76  72  78  82  64  74  92  74  68  84\n",
       "y   68  72  62  70  58  66  68  52  64  72  74  60  74  72  74\n",
       "d    2   8  10   6  18  10   4  26  18  -8   0  32   0  -4  10"
      ]
     },
     "execution_count": 23,
     "metadata": {},
     "output_type": "execute_result"
    }
   ],
   "source": [
    "import pandas as pd\n",
    "df = pd.DataFrame({'환자':[1, 2, 3, 4, 5, 6, 7, 8, 9, 10, 11, 12, 13, 14, 15],\n",
    "'x': [70, 80, 72,76, 76, 76, 72, 78, 82, 64, 74, 92, 74, 68, 84],\n",
    "'y':[68, 72, 62, 70, 58, 66, 68, 52, 64, 72, 74, 60, 74, 72, 74],\n",
    "'d':[2, 8,10, 6, 18, 10, 4, 26, 18, -8, 0, 32, 0, -4, 10]\n",
    "})\n",
    "df.set_index('환자').T"
   ]
  },
  {
   "cell_type": "code",
   "execution_count": 30,
   "metadata": {},
   "outputs": [
    {
     "name": "stdout",
     "output_type": "stream",
     "text": [
      "혈압강하량의 효과에 대한 95% 신뢰구간은 4.186 ~ 13.414\n",
      "p_value 0.0004는 유의수준보다 작으므로 귀무가설을 기각하고 혈압을 내린단 주장을 할수 있다\n"
     ]
    }
   ],
   "source": [
    "# (1) 평균 혈압강하량에 대한 95% 신뢰구간을 구하라.\n",
    "from scipy.stats import t\n",
    "n1, n2, x, y, s1, s2 = len(df)-1, len(df)-2, df['x'].mean(), df['y'].mean(), df['x'].std(ddof=1), df['y'].std(ddof=1)\n",
    "dof = n1-1\n",
    "d = x - y\n",
    "alpha = 0.05\n",
    "t_a = np.abs(t.ppf(alpha, dof))\n",
    "se = np.sqrt(s1**2/n1 + s2**2/n2)\n",
    " \n",
    "print(f'혈압강하량의 효과에 대한 95% 신뢰구간은 {d - z_a * se:.3f} ~ {d + z_a * se:.3f}')\n",
    "    \n",
    "# (2) 이 자료로부터 약이 혈압을 내린다는 주장을 할 수 있겠는가? 유의수준 1%로 검정하라.\n",
    "alpha = 0.01\n",
    "se = np.sqrt(s1**2/n1 + s2**2/n2)\n",
    "t_c = -np.abs(d / se)\n",
    "p_value = norm.cdf(t_c)\n",
    "if p_value<alpha:\n",
    "    print(f'p_value {p_value:.4f}는 유의수준보다 작으므로 귀무가설을 기각하고 혈압을 내린단 주장을 할수 있다')\n",
    "else:\n",
    "    print(f'p_value {p_value:.4f}는 유의수준보다 작으므로 귀무가설을 채택하고 혈압을 내린단 주장을 할수 없다')"
   ]
  },
  {
   "cell_type": "markdown",
   "metadata": {},
   "source": [
    "## 12.3 연습문제"
   ]
  },
  {
   "cell_type": "markdown",
   "metadata": {},
   "source": [
    "### 3.3\n",
    "두 집단을 비교하기 위해 A 집단과 B 집단의 각각의 차를 구해서 기록하였다. <br>\n",
    "2 5 6 8 -6 4 18 -12 17-7 16 12 <br>\n",
    "(1) A 집단이 B 집단보다 평균이 더 크다는 증거가 있는가? (=0.05로 검정하라.) <br>\n",
    "(2) 두 집단의 모평균의 차에 대한 95% 신뢰구간을 구하라. <br>\n"
   ]
  },
  {
   "cell_type": "code",
   "execution_count": 34,
   "metadata": {},
   "outputs": [
    {
     "name": "stdout",
     "output_type": "stream",
     "text": [
      "p_value 0.1867는 유의수준보다 크므로 귀무가설을 채택하여 A 집단이 B 집단보다 평균이 더 크다는 주장을 할수 없다\n",
      "95% 신뢰구간은 0.000 ~ 10.500\n"
     ]
    }
   ],
   "source": [
    "from scipy.stats import t\n",
    "d = np.array([2, 5, 6, 8, -6, 4, 18, -12, 17,-7, 16, 12])\n",
    "n, x, s = len(d), d.mean(), d.std(ddof=1)\n",
    "dof = n-1\n",
    "# (1) A 집단이 B 집단보다 평균이 더 크다는 증거가 있는가? (=0.05로 검정하라.)\n",
    "alpha = 0.05\n",
    "t_a = t.ppf(alpha/2, dof)\n",
    "se = s/n**0.5\n",
    "t_c = -np.abs(x / se) \n",
    "p_value = t.cdf(t_c/2, dof)\n",
    "if p_value < alpha:\n",
    "    print(f'p_value {p_value:.4f}는 유의수준보다 작으므로 귀무가설을 기각하고 A 집단이 B 집단보다 평균이 더 크다는 주장을 할수 있다')\n",
    "else:    \n",
    "    print(f'p_value {p_value:.4f}는 유의수준보다 크므로 귀무가설을 채택하여 A 집단이 B 집단보다 평균이 더 크다는 주장을 할수 없다')\n",
    "\n",
    "# (2) 두 집단의 모평균의 차에 대한 95% 신뢰구간을 구하라.\n",
    "confi = [x - np.abs(t_c*se), x + np.abs(t_c*se) ]\n",
    "\n",
    "print(f'95% 신뢰구간은 {confi[0]:.3f} ~ {confi[1]:.3f}')"
   ]
  },
  {
   "cell_type": "markdown",
   "metadata": {},
   "source": [
    "### 3.6 \n",
    "어떤 영양학자는 사이크로트롭스(PC)라고 불리는 일종의 박테리아를 넣은 탈지유와 PC를 넣지않은 탈지유로 만들어진 요구르트 질에 차가 있는지를 연구하고자 한다. <br>탈지유의 표본을 7곳의 우유 농장에서 채취한 후, 각각 절반의 우유에는 PC를 주입하고 나머지 절반의 우유에는 PC를 주입 \n",
    "하지 않았다.<br> 이렇게 얻어진 우유로 요구르트를 만들어 각각 응고된 정도를 측정하여 기록하였더니 결과가 다음 표와 같았다. (수치가 큰 것이 응고 정도가 강함을 나타낸다고 하자. <br><br>\n",
    "농장 A B C D E F G  <br>\n",
    "PC 첨가 68 75 62 86 52 46 72  <br>\n",
    "PC 첨가 안 함 61 69 64 76 52 38 68  <br><br>\n",
    "이 자료로부터 PC가 주입된 우유로 만든 요구르트의 응고 정도가 더 강하다고 결론을 내릴 수 있 \n",
    "겠는가? (=0.05로 검정하라.) \n"
   ]
  },
  {
   "cell_type": "code",
   "execution_count": 74,
   "metadata": {},
   "outputs": [
    {
     "name": "stdout",
     "output_type": "stream",
     "text": [
      "t-statistic: 2.869\n",
      "p-value: 0.0285\n",
      "두 가지 방법의 효과의 차이있다는 강력한 증거가 있습니다.\n"
     ]
    }
   ],
   "source": [
    "from scipy.stats import ttest_rel\n",
    "a=np.array([68, 75, 62, 86, 52, 46, 72])\n",
    "b=np.array([61, 69, 64, 76, 52, 38, 68])\n",
    "# 대응표본 t-검정\n",
    "t_stat, p_val = ttest_rel(a, b)\n",
    "\n",
    "# 결과 출력\n",
    "print(f\"t-statistic: {t_stat:.3f}\")\n",
    "print(f\"p-value: {p_val:.4f}\")\n",
    "\n",
    "# 결론\n",
    "alpha = 0.05\n",
    "if p_val < alpha:\n",
    "    print(\"두 가지 방법의 효과의 차이있다는 강력한 증거가 있습니다.\")\n",
    "else:\n",
    "    print(\"두 가지 방법의 효과의 차이있다고하기어렵다\")"
   ]
  },
  {
   "cell_type": "markdown",
   "metadata": {},
   "source": [
    "### 3.10\n",
    "어려운 것을 기억하는 두 가지 방법 중 어떤 것이 더 효과적인지 결정하고자 한다. 다음은 IQ와 성 \n",
    "적을 기준으로 짝지은 9쌈의 학생들을 대상으로 두 방법을 각 쌍에서 임의로 배정하여 기억력 실 \n",
    "험을 시행한 결과이다. <br><br>\n",
    "쌍 1 2 3 4 5 6 7 8 9 <br>\n",
    "방법 A 90 86 72 65 44 52 46 38 43 <br>\n",
    "방법 B 85 87 70 62 44 53 42 35 46 <br><br>\n",
    "$\\alpha$=0.05에서 두 가지 방법의 효과의 차이가 유의한지를 검정하라. \n"
   ]
  },
  {
   "cell_type": "code",
   "execution_count": 56,
   "metadata": {},
   "outputs": [
    {
     "name": "stdout",
     "output_type": "stream",
     "text": [
      "t-statistic: 1.486\n",
      "p-value: 0.1757\n",
      "두 가지 방법의 효과의 차이있다고하기어렵다\n"
     ]
    }
   ],
   "source": [
    "from scipy.stats import ttest_rel\n",
    "a=np.array([90, 86, 72, 65, 44, 52, 46, 38, 43])\n",
    "b=np.array([85, 87, 70, 62, 44, 53, 42, 35, 46])\n",
    "# 대응표본 t-검정\n",
    "t_stat, p_val = ttest_rel(a, b)\n",
    "\n",
    "# 결과 출력\n",
    "print(f\"t-statistic: {t_stat:.3f}\")\n",
    "print(f\"p-value: {p_val:.4f}\")\n",
    "\n",
    "# 결론\n",
    "alpha = 0.05\n",
    "if p_val < alpha:\n",
    "    print(\"두 가지 방법의 효과의 차이있다는 강력한 증거가 있습니다.\")\n",
    "else:\n",
    "    print(\"두 가지 방법의 효과의 차이있다고하기어렵다\")"
   ]
  },
  {
   "cell_type": "markdown",
   "metadata": {},
   "source": [
    "scipy.stats.ttest_rel 함수를 사용할 때는 자유도를 직접 지정할 필요가 없습니다. 이 함수는 자동으로 자유도를 계산하여 t-검정을 수행합니다.\n",
    "\n",
    "\n",
    "ttest_rel 함수는 대응표본 t-검정을 수행하는 함수로, 두 개의 배열(A와 B)을 입력으로 받습니다. 이 함수는 내부적으로 다음과 같은 과정을 거칩니다:\n",
    "\n",
    "\n",
    "\n",
    "두 배열의 차이를 계산합니다: diff = A - B\n",
    "차이의 평균과 표준편차를 계산합니다.\n",
    "자유도를 계산합니다: df = len(diff) - 1\n",
    "t-통계량과 p-값을 계산합니다.\n",
    "\n",
    "따라서 ttest_rel 함수를 사용할 때는 자유도를 직접 지정할 필요가 없습니다. 함수 내부에서 자동으로 계산되기 때문입니다.\n",
    "\n",
    "\n",
    "만약 자유도를 직접 계산하고 싶다면, 앞서 제공한 코드처럼 df = n - 1로 계산하면 됩니다. 여기서 n은 각 배열의 길이(표본 크기)입니다."
   ]
  },
  {
   "cell_type": "markdown",
   "metadata": {},
   "source": [
    "### 3.11\n",
    "3.11 각각 다른 도에 위치한 8곳의 농장에서 A와 B 두 종류의 우리밀을 같은 면적에서 재배하여 생산량 비교 실험을 하였다. 단위면적당 수확량의 결과는 다음과 같다. <br><br>\n",
    "농장 1 2 3 4 5 6 7 8 <br>\n",
    "우리밀 A 23 39 19 43 33 29 28 42 <br>\n",
    "우리밀 B 18 33 21 34 33 20 21 40 <br><br>\n",
    "\n",
    "(1) 우리밀 A가 우리밀 B보다 더 높은 평균생산량을 갖는다는 강력한 증거가 있는가? 유의수준 $\\alpha$=0.05로 검정하라. <br>\n",
    "(2) 이 실험에서 랜덤화를 하기 위해서는 어떻게 하겠는가? \n"
   ]
  },
  {
   "cell_type": "code",
   "execution_count": 75,
   "metadata": {},
   "outputs": [
    {
     "name": "stdout",
     "output_type": "stream",
     "text": [
      "평균 차이: 4.50\n",
      "표준편차: 4.11\n",
      "t-statistic: 3.100\n",
      "자유도: 7\n",
      "임계값: 2.365\n",
      "우리밀 A가 우리밀 B보다 더 높은 평균 생산량을 갖는다는 증거가 있습니다.\n",
      "\n",
      "이 실험에서 랜덤화를 하기 위해서는 \n",
      "각 농장에서 A와 B 두 종류의 우리밀을 무작위로 배치해야 한다. \n",
      "예를 들어, 각 농장을 여러 개의 구역으로 나누고, 각 구역에 A와 B를 무작위로 배치하는 방식.\n",
      "이렇게 하면 다른 요인(토질, 일조량 등)에 의한 영향을 최소화할 수 있다\n",
      "또한, 농장 간의 차이를 줄이기 위해 농장을 블록(block)으로 나누고, 각 블록 내에서 A와 B를 무작위로 배치하는 것도 고려할 수 있다.\n",
      "\n"
     ]
    }
   ],
   "source": [
    "# (1) 우리밀 A가 우리밀 B보다 더 높은 평균생산량을 갖는다는 강력한 증거가 있는가? 유의수준  𝛼 =0.05로 검정하라.\n",
    "import numpy as np\n",
    "from math import sqrt\n",
    "\n",
    "# 데이터 입력\n",
    "A = np.array([23, 39, 19, 43, 33, 29, 28, 42])\n",
    "B = np.array([18, 33, 21, 34, 33, 20, 21, 40])\n",
    "\n",
    "# 차이 계산\n",
    "diff = A - B\n",
    "n = len(diff)\n",
    "\n",
    "# 평균과 표준편차 계산\n",
    "mean_diff = np.mean(diff)\n",
    "std_diff = np.std(diff, ddof=1)  # 표본 표준편차\n",
    "\n",
    "# t-통계량 계산\n",
    "t_stat = mean_diff / (std_diff / sqrt(n))\n",
    "\n",
    "# 자유도 계산\n",
    "df = n - 1\n",
    "\n",
    "# 유의수준 설정\n",
    "alpha = 0.05\n",
    "\n",
    "# 임계값 계산\n",
    "from scipy.stats import t\n",
    "critical_value = t.ppf(1 - alpha/2, df)\n",
    "\n",
    "# 결과 출력\n",
    "print(f\"평균 차이: {mean_diff:.2f}\")\n",
    "print(f\"표준편차: {std_diff:.2f}\")\n",
    "print(f\"t-statistic: {t_stat:.3f}\")\n",
    "print(f\"자유도: {df}\")\n",
    "print(f\"임계값: {critical_value:.3f}\")\n",
    "\n",
    "# 결론\n",
    "if abs(t_stat) > critical_value:\n",
    "    print(\"우리밀 A가 우리밀 B보다 더 높은 평균 생산량을 갖는다는 증거가 있습니다.\")\n",
    "else:\n",
    "    print(\"우리밀 A와 B의 평균 생산량 차이가 없다는 증거가 있습니다.\")\n",
    "# (2) 이 실험에서 랜덤화를 하기 위해서는 어떻게 하겠는가?\n",
    "print('''\n",
    "이 실험에서 랜덤화를 하기 위해서는 \n",
    "각 농장에서 A와 B 두 종류의 우리밀을 무작위로 배치해야 한다. \n",
    "예를 들어, 각 농장을 여러 개의 구역으로 나누고, 각 구역에 A와 B를 무작위로 배치하는 방식.\n",
    "이렇게 하면 다른 요인(토질, 일조량 등)에 의한 영향을 최소화할 수 있다\n",
    "또한, 농장 간의 차이를 줄이기 위해 농장을 블록(block)으로 나누고, 각 블록 내에서 A와 B를 무작위로 배치하는 것도 고려할 수 있다.\n",
    "''')"
   ]
  },
  {
   "cell_type": "code",
   "execution_count": 76,
   "metadata": {},
   "outputs": [
    {
     "name": "stdout",
     "output_type": "stream",
     "text": [
      "t-statistic: 3.100\n",
      "p-value: 0.0173\n",
      "두 가지 방법의 효과의 차이있다는 강력한 증거가 있습니다.\n"
     ]
    }
   ],
   "source": [
    "# 대응표본 t-검정\n",
    "t_stat, p_val = ttest_rel(A, B)\n",
    "\n",
    "# 결과 출력\n",
    "print(f\"t-statistic: {t_stat:.3f}\")\n",
    "print(f\"p-value: {p_val:.4f}\")\n",
    "\n",
    "# 결론\n",
    "alpha = 0.05\n",
    "if p_val < alpha:\n",
    "    print(\"두 가지 방법의 효과의 차이있다는 강력한 증거가 있습니다.\")\n",
    "else:\n",
    "    print(\"두 가지 방법의 효과의 차이있다고하기어렵다\")"
   ]
  },
  {
   "cell_type": "markdown",
   "metadata": {},
   "source": [
    "### 3.12\n",
    "연습문제 3.11에서 이번에는 16곳의 농장을 선택해서 8곳에는 우리밀 A를, 나머지에는 우리밀 B \n",
    "를 심었다고 한다. 단위면적당 수확량은 아래와 같다. <br><br>\n",
    "우리밀 A 23 39 19 28 42 43 33 29 <br>\n",
    "우리밀 B 20 21 40 34 33 18 33 21 <br><br>\n",
    "(1) 우리밀 A가 우리밀 B보다 더 높은 평균생산량을 갖는다는 강력한 증거가 있는가? (유의수준 \n",
    "=0.05로 검정하라.) <br>\n",
    "(2) 이 실험에서는 랜덤화란 무엇이며 랜덤화를 하고자 하면 어떻게 하여야 하겠는가? <br>\n",
    "(3) 이 자료는 연습문제 3.11 의 자료를 뒤섞어 놓은 형태이다. 두 가지 상황에서 결과가 다른 이유 \n",
    "를 설명하라. <br>\n"
   ]
  },
  {
   "cell_type": "code",
   "execution_count": 60,
   "metadata": {},
   "outputs": [
    {
     "name": "stdout",
     "output_type": "stream",
     "text": [
      "t-statistic: 1.046\n",
      "p-value: 0.3132\n",
      "우리밀 A와 B의 평균 생산량 차이가 없습니다.\n",
      "\n",
      "이 실험에서 랜덤화란 우리밀 A와 B를 무작위로 배치하는 것을 의미.\n",
      "랜덤화를 하면 다른 요인(토질, 일조량 등)에 의한 영향을 최소화 가능. 랜덤화를 하기 위해서는 16곳의 농장을 무작위로 두 그룹(A와 B)으로 나누어야 함\n",
      "예를 들어, 16개의 농장 번호를 쓴 종이를 섞은 후, 8개씩 두 그룹으로 나누는 방식. \n",
      "그런 다음 한 그룹에는 우리밀 A를, 다른 그룹에는 우리밀 B를 심음.\n",
      "\n",
      "연습문제 3.11과 이번 문제의 결과가 다른 이유는 실험 설계 방식이 다르기 때문.\n",
      "연습문제 3.11에서는 각각 다른 도에 위치한 8곳의 농장에서 A와 B 두 종류의 우리밀을 같은 면적에서 재배. \n",
      "이 경우 각 농장에서 A와 B를 동시에 재배했기 때문에 대응표본 t-검정(paired t-test)을 사용.\n",
      "\n",
      "반면, 이번 문제에서는 16곳의 농장을 무작위로 두 그룹으로 나누어 한 그룹에는 A를, 다른 그룹에는 B를 심음\n",
      "이 경우 두 그룹은 서로 독립적이므로 독립표본 t-검정(two-sample t-test)을 사용\n",
      "\n",
      "대응표본 t-검정은 대응되는 두 표본 간의 평균 차이를 검정하는 반면, 독립표본 t-검정은 서로 독립적인 두 집단의 평균 차이를 검정. \n",
      "따라서 실험 설계 방식에 따라 적절한 t-검정 방법이 달라짐\n",
      "\n",
      "또한, 표본 크기와 분산의 차이도 결과에 영향.\n",
      "연습문제 3.11에서는 8개의 대응되는 표본을 사용했지만, 이번 문제에서는 각 그룹에 8개의 독립적인 표본을 사용. \n",
      "이로 인해 검정력(power)이 달라짐\n"
     ]
    }
   ],
   "source": [
    "'''\n",
    "(1) 우리밀 A와 B의 평균 생산량 차이를 검정하기 위해 독립표본 t-검정(two-sample t-test)을 사용해야 합니다. 독립표본 t-검정은 두 독립된 집단의 평균 차이를 검정하는 데 사용됩니다.\n",
    "\n",
    "가설은 다음과 같습니다:\n",
    "- 귀무가설(H0): 우리밀 A와 B의 평균 생산량 차이가 없다.\n",
    "- 대립가설(H1): 우리밀 A와 B의 평균 생산량 차이가 있다.\n",
    "'''\n",
    "import numpy as np\n",
    "from scipy.stats import ttest_ind\n",
    "\n",
    "# 데이터 입력\n",
    "a = np.array([23, 39, 19, 28, 42, 43, 33, 29])\n",
    "b = np.array([20, 21, 40, 34, 33, 18, 33, 21])\n",
    "\n",
    "# 독립표본 t-검정\n",
    "t_stat, p_val = ttest_ind(a, b, equal_var=False)\n",
    "\n",
    "# 결과 출력\n",
    "print(f\"t-statistic: {t_stat:.3f}\")\n",
    "print(f\"p-value: {p_val:.4f}\")\n",
    "\n",
    "# 결론\n",
    "alpha = 0.05\n",
    "if p_val < alpha:\n",
    "    print(\"우리밀 A가 우리밀 B보다 더 높은 평균 생산량을 갖는다는 강력한 증거가 있습니다.\")\n",
    "else:\n",
    "    print(\"우리밀 A와 B의 평균 생산량 차이가 없습니다.\")\n",
    "\n",
    "# (2) \n",
    "print('''\n",
    "이 실험에서 랜덤화란 우리밀 A와 B를 무작위로 배치하는 것을 의미.\n",
    "랜덤화를 하면 다른 요인(토질, 일조량 등)에 의한 영향을 최소화 가능. 랜덤화를 하기 위해서는 16곳의 농장을 무작위로 두 그룹(A와 B)으로 나누어야 함\n",
    "예를 들어, 16개의 농장 번호를 쓴 종이를 섞은 후, 8개씩 두 그룹으로 나누는 방식. \n",
    "그런 다음 한 그룹에는 우리밀 A를, 다른 그룹에는 우리밀 B를 심음.''')\n",
    "\n",
    "(3)\n",
    "print('''\n",
    "연습문제 3.11과 이번 문제의 결과가 다른 이유는 실험 설계 방식이 다르기 때문.\n",
    "연습문제 3.11에서는 각각 다른 도에 위치한 8곳의 농장에서 A와 B 두 종류의 우리밀을 같은 면적에서 재배. \n",
    "이 경우 각 농장에서 A와 B를 동시에 재배했기 때문에 대응표본 t-검정(paired t-test)을 사용.\n",
    "\n",
    "반면, 이번 문제에서는 16곳의 농장을 무작위로 두 그룹으로 나누어 한 그룹에는 A를, 다른 그룹에는 B를 심음\n",
    "이 경우 두 그룹은 서로 독립적이므로 독립표본 t-검정(two-sample t-test)을 사용\n",
    "\n",
    "대응표본 t-검정은 대응되는 두 표본 간의 평균 차이를 검정하는 반면, 독립표본 t-검정은 서로 독립적인 두 집단의 평균 차이를 검정. \n",
    "따라서 실험 설계 방식에 따라 적절한 t-검정 방법이 달라짐\n",
    "\n",
    "또한, 표본 크기와 분산의 차이도 결과에 영향.\n",
    "연습문제 3.11에서는 8개의 대응되는 표본을 사용했지만, 이번 문제에서는 각 그룹에 8개의 독립적인 표본을 사용. \n",
    "이로 인해 검정력(power)이 달라짐''')"
   ]
  },
  {
   "cell_type": "markdown",
   "metadata": {
    "id": "9b9d2f6Ucplh"
   },
   "source": [
    "# 4. 두 모비율의 차에 대한 추론\n",
    "\n",
    "- 두 모비율의 비교가 관심이 되는 경우는 흔히 있는 일인데 두 도시의 실업률의 비교, 두 치료 방법의 완치율의 비교 등어떤 특성에 대한 두 모집단의 비율을 비교하고자 하는 경우\n",
    "- 이때 관심의 대상이 되는 어떤 특성의 모집단 1의 비율을 $p_1$이라고 하고 모집단 2의 비율을 $p_2$라고 하자.\n",
    "- ($p_1-p_2$)의 신뢰구간\n",
    "    - $(\\hat{p_1}-\\hat{p_2}) \\pm z_{\\alpha/2} \\times \\sqrt{\\frac{\\hat{p_1}(1-\\hat{p_1})}{n_1}+\\frac{\\hat{p_2}(1-\\hat{p_2})}{n_2}}$\n",
    "- Ho: P-P2=0에 대한 가설검정\n",
    "    - 표본의 크기 n1,n2가 클때 가설H0:p1=p2에 대한 검정통계량은 다음과 같다.\n",
    "    - $Z=\\frac{(\\hat{p_1}-\\hat{p_2})}{\\sqrt{\\hat{p}(1-\\hat{p})}\\sqrt{\\frac{1}{n_1}+\\frac{1}{n_2}}}$\n",
    "    - 이때 $\\hat{p}=\\frac{X+Y}{n_1+n_2}$는 귀무가설하에서의 공통비율 p의 추정량이고 검정통계랴은 H0이 맞을 때 근사적으로 N(0,1)을 따른다.\n",
    "\n"
   ]
  },
  {
   "cell_type": "markdown",
   "metadata": {},
   "source": [
    "### 예제.10 \n",
    "어떤 화학적인 처리가 씨의 발아비율을 높이는 데 효과가 있는가를 알아보기 위해서 100개의 화학적 \n",
    "으로 처리된 씨와 150개의 처리되지 않은 보통의 씨를 파종하여 발아되는 것을 관찰하였다. 그 결과 \n",
    "화학적으로 처리된 씨 중에서는 88개, 보통의 씨 중에서는 126개가 발아되었다. 화학적으로 처리된 \n",
    "씨와 처리되지 않은 보통의 씨의 발아비율의 차에 대한 95% 신뢰구간을 구하라. \n"
   ]
  },
  {
   "cell_type": "code",
   "execution_count": 68,
   "metadata": {},
   "outputs": [
    {
     "name": "stdout",
     "output_type": "stream",
     "text": [
      "화학적으로 처리된 씨의 발아비율: 0.8800\n",
      "보통의 씨의 발아비율: 0.8400\n",
      "두 비율의 차이: 0.0400\n",
      "95.0% 신뢰구간: (-0.0466, 0.1266)\n"
     ]
    }
   ],
   "source": [
    "# 데이터 입력\n",
    "n1 = 100  # 화학적으로 처리된 씨의 개수\n",
    "x1 = 88   # 화학적으로 처리된 씨 중 발아된 개수\n",
    "n2 = 150  # 보통의 씨의 개수\n",
    "x2 = 126  # 보통의 씨 중 발아된 개수\n",
    "\n",
    "# 각 집단의 비율과 표준오차 계산\n",
    "p1 = x1 / n1\n",
    "p2 = x2 / n2\n",
    "se1 = np.sqrt(p1 * (1 - p1) / n1)\n",
    "se2 = np.sqrt(p2 * (1 - p2) / n2)\n",
    "\n",
    "# 두 비율의 차이와 표준오차 계산\n",
    "p_diff = p1 - p2\n",
    "se_diff = np.sqrt(se1**2 + se2**2)\n",
    "\n",
    "# 신뢰구간 계산\n",
    "alpha = 0.05  # 유의수준\n",
    "z_score = stats.norm.ppf(1 - alpha/2)  # 표준정규분포의 임계값\n",
    "ci_lower = p_diff - z_score * se_diff\n",
    "ci_upper = p_diff + z_score * se_diff\n",
    "\n",
    "# 결과 출력\n",
    "print(f\"화학적으로 처리된 씨의 발아비율: {p1:.4f}\")\n",
    "print(f\"보통의 씨의 발아비율: {p2:.4f}\")\n",
    "print(f\"두 비율의 차이: {p_diff:.4f}\")\n",
    "print(f\"{(1-alpha)*100}% 신뢰구간: ({ci_lower:.4f}, {ci_upper:.4f})\")"
   ]
  },
  {
   "cell_type": "markdown",
   "metadata": {
    "tags": []
   },
   "source": [
    "### 예제.11\n",
    "앞의 예제 10에서 화학적인 처리가 씨의 발아비율을 높인다고 할 수 있는지 유의수준 5%로 검정하라. 또 P-값도 구하라."
   ]
  },
  {
   "cell_type": "code",
   "execution_count": 70,
   "metadata": {},
   "outputs": [
    {
     "name": "stdout",
     "output_type": "stream",
     "text": [
      "z-statistic: 0.8825\n",
      "p-value: 0.1888\n",
      "화학적인 처리가 씨의 발아비율을 높인다는 유의한 증거가 없습니다.\n"
     ]
    }
   ],
   "source": [
    "import statsmodels.stats.proportion as prop\n",
    "\n",
    "# 데이터 입력\n",
    "n1 = 100  # 화학적으로 처리된 씨의 개수\n",
    "x1 = 88   # 화학적으로 처리된 씨 중 발아된 개수\n",
    "n2 = 150  # 보통의 씨의 개수\n",
    "x2 = 126  # 보통의 씨 중 발아된 개수\n",
    "\n",
    "# 가설검정\n",
    "alpha = 0.05  # 유의수준\n",
    "stat, p_val = prop.proportions_ztest([x1, x2], [n1, n2], alternative='larger')\n",
    "\n",
    "# 결과 출력\n",
    "print(f\"z-statistic: {stat:.4f}\")\n",
    "print(f\"p-value: {p_val:.4f}\")\n",
    "\n",
    "if p_val < alpha:\n",
    "    print(\"화학적인 처리가 씨의 발아비율을 높인다는 유의한 증거가 있습니다.\")\n",
    "else:\n",
    "    print(\"화학적인 처리가 씨의 발아비율을 높인다는 유의한 증거가 없습니다.\")"
   ]
  },
  {
   "cell_type": "markdown",
   "metadata": {},
   "source": [
    "### 정리 :  <독립표본의 평균의 차이에 대한 검정>\n",
    "- 표본의 크기가 클 때 (Z검정) --> 모집단의 정규성 가정이 필요 없다.\n",
    "   - 모분산을 몰라도 표본분산을 이용하면 된다.\n",
    "- 표본의 크기가 작을 때(T검정) --> 모집단의 정규성 가정 및 등분산 가정이 필요하다.\n",
    "   - 모분산을 모르는 경우 표본분산으로 통합표본편차를 계산하여 사용한다."
   ]
  },
  {
   "cell_type": "markdown",
   "metadata": {},
   "source": [
    "## 연습문제 12.4"
   ]
  },
  {
   "cell_type": "markdown",
   "metadata": {
    "tags": []
   },
   "source": [
    "### 4.2\n",
    "두 집단 A와 B에서 각각 100명의 여성을 뽑아 \"24세가 되기 전에 결혼하셨습니까?\"라는 질문을 \n",
    "하였다. 그 결과는 다음과 같이 얻어졌다. <br>\n",
    "|-|집단 A| 집단 B |\n",
    "|-|-|-|\n",
    "|예 |62| 29 |\n",
    "|아니오 |38 |71 |\n",
    "\n",
    "<br><br>\n",
    "\n",
    "(1) 양측검정의 방법으로 두 집단의 24세 이전에 결혼한 비율이 같은지를 검정하라. (유의수준 \n",
    "=0.05) <br>\n",
    "(2) (PA-PB)에 대한 95% 신뢰구간을 구하라. "
   ]
  },
  {
   "cell_type": "code",
   "execution_count": 77,
   "metadata": {},
   "outputs": [
    {
     "name": "stdout",
     "output_type": "stream",
     "text": [
      "(1)\n",
      "귀무가설 : A집단과 B 집단의 24세 이전에 결혼한 비율이 동일하다.\n",
      "대립가설 : A집단과 B 집단의 24세 이전에 결혼한 비율이 다르다.\n",
      "\n",
      "표본의 수가 충분히 크므로(>30) 중심극한정리를 적용한 표준정규분포를 이용한다.\n",
      "귀무가설 하 p_value는 0.000001로, 유의수준 0.05를 하회하므로 귀무가설을 기각할 근거가 충분하다. 따라서 귀무가설을 기각한다.\n",
      "\n",
      "(2)\n",
      "95% 신뢰구간: [0.1997692789954515, 0.46023072100454854]\n"
     ]
    }
   ],
   "source": [
    "import pandas as pd\n",
    "from scipy.stats import norm\n",
    "\n",
    "df = pd.DataFrame()\n",
    "df['집단A'] = [62, 38]\n",
    "df['집단B'] = [29, 71]\n",
    "df.index = ['예','아니오']\n",
    "df.sum(axis = 0)\n",
    "\n",
    "p_A = df.loc['예','집단A'] / df.sum().집단A\n",
    "p_B = df.loc['예','집단B'] / df.sum().집단B\n",
    "n_A = df.sum().집단A\n",
    "n_B = df.sum().집단B\n",
    "\n",
    "# (1)\n",
    "\n",
    "print('''(1)\n",
    "귀무가설 : A집단과 B 집단의 24세 이전에 결혼한 비율이 동일하다.\n",
    "대립가설 : A집단과 B 집단의 24세 이전에 결혼한 비율이 다르다.\n",
    "\n",
    "표본의 수가 충분히 크므로(>30) 중심극한정리를 적용한 표준정규분포를 이용한다.''')\n",
    "\n",
    "pool_p = (df.loc['예','집단A'] + df.loc['예','집단B']) / (n_A + n_B)\n",
    "se = (pool_p*(1-pool_p)*(1/n_A + 1/n_B))**(1/2)\n",
    "Z = (p_A - p_B) / se\n",
    "\n",
    "p_value = norm.cdf(Z)\n",
    "\n",
    "print('''귀무가설 하 p_value는 {:.6f}로, 유의수준 0.05를 하회하므로 귀무가설을 기각할 근거가 충분하다. 따라서 귀무가설을 기각한다.\\n'''.format(1 - p_value))\n",
    "\n",
    "# (2)\n",
    "\n",
    "se = (p_A*(1-p_A)/n_A + p_B*(1-p_B)/n_B)**(1/2)\n",
    "z = norm.ppf(0.975)\n",
    "\n",
    "CI = [p_A - p_B - z*se, p_A - p_B + z*se]\n",
    "print('''(2)\n",
    "95% 신뢰구간:''',CI)"
   ]
  },
  {
   "cell_type": "markdown",
   "metadata": {},
   "source": [
    "### 4.3\n",
    "두 가지 새로운 약 A와 약 B를 비교 연구하기 위해, 120명의 환자에게는 약 A를, 150명의 환자에 \n",
    "게는 약 B를 복용시킨 후 다음과 같은 결과를 얻었다. <br><br>\n",
    "\n",
    "|-|약 A| 약 B |\n",
    "|-|-|-|\n",
    "|치유됨| 52| 88| \n",
    "|치유안됨 |68 |62 |\n",
    "\n",
    "<br><br>\n",
    "(1) 이 결과로부터 약 A보다 약 B가 더 높은 치유율을 갖는다고 설명할 수 있겠는가? <br>\n",
    "(2) 두 약의 치유율의 차에 대한 95% 신뢰구간을 구하라. <br>\n"
   ]
  },
  {
   "cell_type": "code",
   "execution_count": 78,
   "metadata": {},
   "outputs": [
    {
     "name": "stdout",
     "output_type": "stream",
     "text": [
      "(1)\n",
      "귀무가설: 약 A의 치유율과 약 B의 치유율이 동일하다.\n",
      "대립가설: 약 A의 치유율보다 약 B의 치유율이 높다.\n",
      "귀무가설 하 p_value는 0.0061로, 유의수준 0.05보다 낮다. 따라서 귀무가설을 기각하며 약 A보다 약 B의 치유율이 같다고 볼 수 없다.\n",
      "\n",
      "(2)\n",
      "두 약의 치유율 차에 대한 95% 신뢰구간은 [-0.27195389154920385, -0.03471277511746279]\n"
     ]
    }
   ],
   "source": [
    "from scipy.stats import norm\n",
    "\n",
    "# (1)\n",
    "\n",
    "n_A = 52 + 68\n",
    "n_B = 88 + 62\n",
    "p_A = 52/n_A\n",
    "p_B = 88/n_B\n",
    "\n",
    "print('''(1)\n",
    "귀무가설: 약 A의 치유율과 약 B의 치유율이 동일하다.\n",
    "대립가설: 약 A의 치유율보다 약 B의 치유율이 높다.''')\n",
    "\n",
    "pool_p = (52+88)/(n_A+n_B)\n",
    "se =(pool_p*(1-pool_p)*(1/n_A + 1/n_B))**(1/2)\n",
    "\n",
    "Z = (p_A - p_B) / se\n",
    "p_value = norm.cdf(Z)\n",
    "print('''귀무가설 하 p_value는 {:.4f}로, 유의수준 0.05보다 낮다. 따라서 귀무가설을 기각하며 약 A보다 약 B의 치유율이 같다고 볼 수 없다.'''.format(p_value))\n",
    "\n",
    "# (2)\n",
    "\n",
    "se = (p_A*(1-p_A)/n_A + p_B*(1-p_B)/n_B)**(1/2)\n",
    "z_025 = norm.ppf(0.975)\n",
    "\n",
    "CI = [p_A - p_B - z_025*se, p_A - p_B + z_025*se]\n",
    "\n",
    "print('''\n",
    "(2)\n",
    "두 약의 치유율 차에 대한 95% 신뢰구간은''',CI)"
   ]
  },
  {
   "cell_type": "markdown",
   "metadata": {},
   "source": [
    "### 4.7\n",
    "아동학대와 범죄행위 간의 관련성에 대한 연구에서 85명의 소년이 어른들로부터 학대를 받았고 \n",
    "120명의 소년이 받지 않았다고 하자. 학대를 받은 집단의 21명, 받지 않은 집단의 11명이 십대에 \n",
    "고질적인 범죄자가 되었다는것을 알아내었다. 이 자료로부터 학대 받은 소년들이 학대 받지 않은 집 \n",
    "단보다 고질적 범죄자가 되기 쉽다는 추측을 증명할 수 있겠는가? 유의수준 = 0.01로 검정하라. "
   ]
  },
  {
   "cell_type": "code",
   "execution_count": 79,
   "metadata": {},
   "outputs": [
    {
     "name": "stdout",
     "output_type": "stream",
     "text": [
      "귀무가설: 학대 받은 소년들과 그렇지 않은 소년들이 범죄자가 될 확률이 동일하다.\n",
      "대립가설: 학대 받은 소년들이 그렇지 않은 소년들에 비해 범죄자가 될 확률이 높다.\n",
      "\n",
      "표본의 크기가 충분히 크므로(>30) 중심극한정리를 적용한 표준정규분포를 이용한다.\n",
      "귀무가설 하 p_value는 0.0013로 유의수준 0.01보다 작다.\n",
      "이에 따라 귀무가설을 기각하며 학대 받은 소년들이 그렇지 않은 소년에 비해 범죄자가 될 확률이 높다고 판단한다.\n"
     ]
    }
   ],
   "source": [
    "df = pd.DataFrame()\n",
    "\n",
    "df['학대'] = [21, 85-21]\n",
    "df['미학대'] = [11, 120-11]\n",
    "df.index = ['범죄', '미범죄']\n",
    "\n",
    "print('''귀무가설: 학대 받은 소년들과 그렇지 않은 소년들이 범죄자가 될 확률이 동일하다.\n",
    "대립가설: 학대 받은 소년들이 그렇지 않은 소년들에 비해 범죄자가 될 확률이 높다.\n",
    "\n",
    "표본의 크기가 충분히 크므로(>30) 중심극한정리를 적용한 표준정규분포를 이용한다.''')\n",
    "\n",
    "n_h = df.학대.sum()\n",
    "n_nh = df.미학대.sum()\n",
    "p_h = 21/n_h\n",
    "p_nh = 11/n_nh\n",
    "pool_p = (21+11)/(n_h+n_nh)\n",
    "se = (pool_p*(1-pool_p)*(1/n_h+1/n_nh))**(1/2)\n",
    "\n",
    "Z = (p_h-p_nh)/se\n",
    "\n",
    "p_value = norm.cdf(Z)\n",
    "print('''귀무가설 하 p_value는 {:.4f}로 유의수준 0.01보다 작다.\n",
    "이에 따라 귀무가설을 기각하며 학대 받은 소년들이 그렇지 않은 소년에 비해 범죄자가 될 확률이 높다고 판단한다.'''.format(1-p_value))"
   ]
  },
  {
   "cell_type": "markdown",
   "metadata": {},
   "source": [
    "### 4.11\n",
    "4.11 30, 40대의 250명과 60, 70대의 250명을 임의추출하여 그들의 하루 수면시간을 조사 정리한 결과 \n",
    "의 일부가 다음 표와 같이 주어졌다. <br><br>\n",
    "|나이| 수면시간$\\leq 8$|\n",
    "|-|-|\n",
    "|30,40대 |172 |\n",
    "|60, 70대|120 |\n",
    "\n",
    "<br>\n",
    "하루 수면시간이 8시간 이하인 사람들의 비율이 30, 40대가 60, 70대보다 많다는 것이 통계적으로 \n",
    "유의한가? (P-값을 계산하라.)\n"
   ]
  },
  {
   "cell_type": "code",
   "execution_count": 80,
   "metadata": {},
   "outputs": [
    {
     "name": "stdout",
     "output_type": "stream",
     "text": [
      "귀무가설 하에서 p_value = 0.00000\n"
     ]
    }
   ],
   "source": [
    "n_3040 = 250\n",
    "n_6070 = 250\n",
    "p_3040 = 172/n_3040\n",
    "p_6070 = 120/n_6070\n",
    "\n",
    "pool_p = (172+120)/(n_3040+n_6070)\n",
    "se = ((pool_p)*(1-pool_p)*(1/n_3040 + 1/n_6070))**(1/2)\n",
    "\n",
    "Z = (p_3040 - p_6070) / se\n",
    "\n",
    "print('''귀무가설 하에서 p_value = {:.5f}'''.format(1 - norm.cdf(Z)))"
   ]
  },
  {
   "cell_type": "markdown",
   "metadata": {},
   "source": [
    "### 4.16\n",
    "\n",
    "4.16 당뇨병, 심장질환, 간질 등의 병을 가지고 있는 운전자들 집단과 질환을 갖지 않은 운전자들 집단에 \n",
    "대한운전기록이 다음과 같이 주어져 있다. \n",
    "\n",
    "상태| 없음| 1회 이상|  합계|\n",
    "|-|-|-|-|\n",
    "|당뇨| 119| 41| 160| \n",
    "|심장병 |121 |39 |160 |\n",
    "|간질 |72 |78 |150 |\n",
    "질환 없음 |157 |43 |200 |\n",
    "\n",
    "P1. P2, P3, P4를 위의 네 집단(당뇨병, 심장질환, 간질, 질환 없음)에 대한 1회 이상 교통위반을 한 \n",
    "모비율이라고 하자. \n",
    "(1) 가설 Ho: P1=P4 대 H1 : P1>P4에 대하여 유의수준 0.10로 검정하라. \n",
    "(2) P3가 보다 P4높다는 강력한 증거가 되겠는가? P-값을 계산하여 답하라. "
   ]
  },
  {
   "cell_type": "code",
   "execution_count": 81,
   "metadata": {},
   "outputs": [
    {
     "name": "stdout",
     "output_type": "stream",
     "text": [
      "(1)\n",
      "귀무가설 하 p-value는 0.1789로 유의수준 0.1을 초과하므로 귀무가설을 기각할 근거가 충분하지 않은 것으로 판단한다.\n",
      "(2)\n",
      "귀무가설 하 p-value는 0.0000로 유의수준 0.1 미만이므로 귀무가설을 기각할 근거가 충분한 것으로 판단한다.\n"
     ]
    }
   ],
   "source": [
    "from scipy.stats import norm\n",
    "\n",
    "# 1 당뇨, 2 심장질환, 3 간질, 4 질환없음\n",
    "\n",
    "# (1)\n",
    "\n",
    "n_1 = 160\n",
    "p_1 = 41/n_1\n",
    "n_4 = 200\n",
    "p_4 = 43/n_4\n",
    "\n",
    "pool_p = (41+43)/(n_1+n_4)\n",
    "se = (pool_p*(1-pool_p)*(1/n_1+1/n_4))**(1/2)\n",
    "\n",
    "Z = (p_1 - p_4)/se\n",
    "\n",
    "p_value = 1 - norm.cdf(Z)\n",
    "\n",
    "print('''(1)\n",
    "귀무가설 하 p-value는 {:.4f}로 유의수준 0.1을 초과하므로 귀무가설을 기각할 근거가 충분하지 않은 것으로 판단한다.'''.format(p_value))\n",
    "\n",
    "# (2)\n",
    "\n",
    "n_3 = 150\n",
    "p_3 = 78/n_3\n",
    "n_4 = 200\n",
    "p_4 = 43/n_4\n",
    "\n",
    "pool_p = (78+43)/(n_3+n_4)\n",
    "se = (pool_p*(1-pool_p)*(1/n_3+1/n_4))**(1/2)\n",
    "\n",
    "Z = (p_3 - p_4)/se\n",
    "\n",
    "p_value = 1 - norm.cdf(Z)\n",
    "\n",
    "print('''(2)\n",
    "귀무가설 하 p-value는 {:.4f}로 유의수준 0.1 미만이므로 귀무가설을 기각할 근거가 충분한 것으로 판단한다.'''.format(p_value))"
   ]
  },
  {
   "cell_type": "markdown",
   "metadata": {
    "id": "W17kh3d0ctI_"
   },
   "source": [
    "# 5. 종합문제"
   ]
  },
  {
   "cell_type": "markdown",
   "metadata": {},
   "source": [
    "### 5.2\n",
    "두 모집단으로부터 서로 독립이며 2]=28, M2=24인 표본에 대한 표준편차의 값이 아래와 같다. \n",
    "두 표본평균의 차가 10이라는 사실로부터 두 모평균이 차이가 있다고 할 수 있는지 유의수준 0.05 \n",
    "에서 검정하라. <Br>\n",
    "(1) $S_1$=21,$S_2$=29 <Br>\n",
    "(2) $S_1$=11,$S_2$=14 <Br>"
   ]
  },
  {
   "cell_type": "code",
   "execution_count": 82,
   "metadata": {},
   "outputs": [
    {
     "name": "stdout",
     "output_type": "stream",
     "text": [
      "(1) 귀무가설 하 p_vlaue = 0.0834로 유의수준 0.05보다 높아 귀무가설을 기각하지 못함\n",
      "(2) 귀무가설 하 p_vlaue = 0.0033로 유의수준 0.05보다 낮아 귀무가설을 기각함\n"
     ]
    }
   ],
   "source": [
    "from scipy.stats import t\n",
    "\n",
    "n1, n2 = 28, 24\n",
    "df = n1+n2-2\n",
    "d = 10\n",
    "\n",
    "# (1)\n",
    "\n",
    "s1, s2 = 21, 29\n",
    "\n",
    "se = (s1**2/n1 + s2**2/n2)**(1/2)\n",
    "\n",
    "T = d / se\n",
    "p_value = 1 - t(df).cdf(T)\n",
    "print('''(1) 귀무가설 하 p_vlaue = {:.4f}로 유의수준 0.05보다 높아 귀무가설을 기각하지 못함'''.format(p_value))\n",
    "\n",
    "# (2)\n",
    "\n",
    "s1, s2 = 11, 14\n",
    "\n",
    "se = (s1**2/n1 + s2**2/n2)**(1/2)\n",
    "\n",
    "T = d / se\n",
    "p_value = 1 - t(df).cdf(T)\n",
    "print('''(2) 귀무가설 하 p_vlaue = {:.4f}로 유의수준 0.05보다 낮아 귀무가설을 기각함'''.format(p_value))"
   ]
  },
  {
   "cell_type": "markdown",
   "metadata": {},
   "source": [
    "### 5.5\n",
    " 약품 A가 약품 B보다 수술 후 통증 경감의 시간이 더 오래 지속되는지를 알아보기 위한 연구가 있 \n",
    "었다. 약품 A를 투여한 55명 환자와 약품 B를 투여한 58명 환자의 통증 경감의 시간을 기록하였 \n",
    "고 아래와 같은 통계량이 주어졌다. \n",
    "실험계획 2에서의 조립시간이 실험계획 1에서보다 많이 소요된다고 할 수 있는지 유의수준 5%로 \n",
    "검정하라. \n"
   ]
  },
  {
   "cell_type": "code",
   "execution_count": 83,
   "metadata": {},
   "outputs": [
    {
     "name": "stdout",
     "output_type": "stream",
     "text": [
      "(1)\n",
      "귀무가설 : 약품 A와 약품 B의 통증 경감 시간에 차이가 없다.\n",
      "대립가설 : 약품 A가 약품 B보다 통증 경감 시간이 길다.\n",
      "\n",
      "(2)\n",
      "통계량 = 2.0859 / 기각역 : T > 1.2892\n",
      "\n",
      "(3)\n",
      "p_value = 0.0033로 유의수준 0.1보다 작으므로 귀무가설을 기각한다.\n"
     ]
    }
   ],
   "source": [
    "# (1) 귀무가설과 대립가설을 세워라\n",
    "\n",
    "print('''(1)\n",
    "귀무가설 : 약품 A와 약품 B의 통증 경감 시간에 차이가 없다.\n",
    "대립가설 : 약품 A가 약품 B보다 통증 경감 시간이 길다.''')\n",
    "\n",
    "# (2) 통계량을 구하고 유의수준 0.1에서 기각역을 구하라\n",
    "\n",
    "n_A, n_B = 55, 58\n",
    "df = n_A + n_B -2\n",
    "A_bar, B_bar = 5.64, 5.03\n",
    "s_A, s_B = 1.25, 1.82\n",
    "\n",
    "se = (s_A**2/n_A + s_B**2/n_B)**(1/2)\n",
    "\n",
    "T = (A_bar - B_bar) / se\n",
    "t_01 = t(df).ppf(0.9)\n",
    "print(\"\\n(2)\\n통계량 = {:.4f} / 기각역 : T > {:.4f}\".format(T, t_01))\n",
    "\n",
    "# (3) 유의수준 0.1에서 가설검정한 결과를 말하라. 그리고 p값을 구하라\n",
    "\n",
    "print('''\\n(3)\\np_value = {:.4f}로 유의수준 0.1보다 작으므로 귀무가설을 기각한다.'''.format(p_value))"
   ]
  },
  {
   "cell_type": "markdown",
   "metadata": {},
   "source": [
    "### 5.10\n",
    " 두 모집단으로부터 서로 독립인 표본에 대한 통계량은 다음과 같다. \n",
    "|표본 1 |표본 2 |\n",
    "|-|-|\n",
    "|n1=11| n2=13| \n",
    "|$\\bar{x}$=10.7 |$\\bar{y}$=9.6 |\n",
    "|$s_1^2$=1.36 |$s_2^2$= 2.17|\n",
    "\n",
    "<br>\n",
    "(1) (4-2)에 대한 95% 신뢰구간을 구하라. <br>\n",
    "(2) 모집단의 분포에 대한 가정을 기술하라. \n"
   ]
  },
  {
   "cell_type": "code",
   "execution_count": 87,
   "metadata": {},
   "outputs": [
    {
     "name": "stdout",
     "output_type": "stream",
     "text": [
      "(1) 95% 신뢰구간 : -0.018 ~ 2.218\n",
      "(2) 모집단의 분포는 정규분포를 가정한다. 다만, 모집단이 정규분포를 따르면서 표본의 수가 충분하지 않고 모분산을 모르는 경우 T분포로 근사할 수 있다.\n"
     ]
    }
   ],
   "source": [
    "from scipy.stats import t\n",
    "\n",
    "n1, n2 = 11, 13\n",
    "x_bar, y_bar = 10.7, 9.6\n",
    "s1, s2 = 1.36**0.5, 2.17**0.5\n",
    "\n",
    "# (1)\n",
    "\n",
    "df = n1 + n2 - 2\n",
    "t_025 = t(df).ppf(0.975)\n",
    "se = (s1**2/n1 + s2**2/n2)**0.5\n",
    "\n",
    "CI = [x_bar - y_bar - t_025*se, x_bar - y_bar + t_025*se]\n",
    "print('''(1) 95% 신뢰구간 : {:.3f} ~ {:.3f}'''.format(CI[0],CI[1]))\n",
    "\n",
    "# (2)\n",
    "\n",
    "print('''(2) 모집단의 분포는 정규분포를 가정한다. 다만, 모집단이 정규분포를 따르면서 표본의 수가 충분하지 않고 모분산을 모르는 경우 T분포로 근사할 수 있다.''')"
   ]
  },
  {
   "cell_type": "markdown",
   "metadata": {},
   "source": [
    "### 5.16\n",
    "\n",
    " 1970년대 초에 학생들은 스트리킹(streaking)을 하였다. 교정에서 첫 번째 스트리킹이 있은 후 \n",
    "2주일 동안 스트리킹의 허용을 요구하는 16명의 남학생(집단 1)과 반대하는 16명의 남학생(집단 \n",
    "2)을 대상으로 심리 테스트를 실시하였다. 심리 테스트에 대한 점수는 외향성을 나타낸다. <br><br>\n",
    "\n",
    "집단 1 집단 2 <br>\n",
    "평균 15.26 13,90 <br>\n",
    "표본편차 2.62 4.11 <br>\n",
    "(1) 모평균 차에 대한 95% 신뢰구간을 구하라. 두 집단이 평균에 차이가 있는가? <br>\n",
    "(2) 스트리킹의 허용을 요구하는 학생이 반대하는 학생과 성격이 다를 수 있다. 이러한 가능성에 대 \n",
    "한 분석의 결론은 어떻다고 할 수 있는가? \n"
   ]
  },
  {
   "cell_type": "code",
   "execution_count": 88,
   "metadata": {},
   "outputs": [
    {
     "name": "stdout",
     "output_type": "stream",
     "text": [
      "(1) 신뢰구간 : [-1.1285416708519573, 3.848541670851956], 구간 내 0이 포함되므로 95% 신뢰수준 하에서 두 집단의 평균에 차이가 있다고 보기 어렵다.\n",
      "(2) 두 집단의 성격이 다르기 위해서는 측정한 심리 테스트 결과의 차이가 통계적으로 유의미하게 0보다 커야 할 것이다.\n",
      "그러나 가설검정 결과 테스트에서 나타난 차이는 우연으로 발생할 수 있는 정도의 차이이며 성격의 차이가 있다고 할 정도로 충분한 근거가 되지 못한다.\n"
     ]
    }
   ],
   "source": [
    "from scipy.stats import t\n",
    "\n",
    "x1_bar, x2_bar = 15.26, 13.90\n",
    "s1, s2 = 2.62, 4.11\n",
    "n1, n2 = 16, 16\n",
    "\n",
    "# (1)\n",
    "\n",
    "df = n1 + n2 -2\n",
    "se = (s1**2/n1 + s2**2/n1)**0.5\n",
    "t_025 = t(df).ppf(0.975)\n",
    "\n",
    "CI = [x1_bar - x2_bar - t_025*se, x1_bar - x2_bar + t_025*se]\n",
    "print('''(1) 신뢰구간 : {}, 구간 내 0이 포함되므로 95% 신뢰수준 하에서 두 집단의 평균에 차이가 있다고 보기 어렵다.'''.format(CI))\n",
    "\n",
    "# (2)\n",
    "\n",
    "print('''(2) 두 집단의 성격이 다르기 위해서는 측정한 심리 테스트 결과의 차이가 통계적으로 유의미하게 0보다 커야 할 것이다.\n",
    "그러나 가설검정 결과 테스트에서 나타난 차이는 우연으로 발생할 수 있는 정도의 차이이며 성격의 차이가 있다고 할 정도로 충분한 근거가 되지 못한다.''')"
   ]
  },
  {
   "cell_type": "markdown",
   "metadata": {},
   "source": [
    "### 5.19\n",
    "표준 비료에 특별한 화학 첨가물을 사용하는 것이 식물의 성장을 촉진시키는가를 알아보기 위해 \n",
    "서 실험을 하고자 한다. 실험을 할 10곳의 위치가 선정되었다. 각 위치에서 근접한 두 그루의 식물 \n",
    "을 대상으로 실험을 수행하는데, 한 그루에는 표준 비료만을 사용하고 다른 한 그루에는 표준 비료 \n",
    "에 특별한 화학 첨가물을 사용해서 실험을 하고자 한다. 4주 후에 그동안 식물이 자란 길이 (cm) \n",
    "를 재어보았다. 아래의 자료는 표준 비료에 특별한 화학 첨가물을 사용하는 것이 식물의 성장을 촉 \n",
    "진시킨다는 주장을 뒷받침하는가? 필요한 가정을 언급하고 유의수준 0.05에서 검정하라. \n",
    "\n",
    "\n",
    "<BR>\n",
    "위치 1 2 3 4 5 6 7 8 9 10 <BR>\n",
    "첨가하지 않은 경우 20 31 16 22 19 32 25 18 20 19 <BR>\n",
    "첨가하는 경우 23 34 15 21 22 31 29 20 24 23 <BR>\n"
   ]
  },
  {
   "cell_type": "code",
   "execution_count": 89,
   "metadata": {},
   "outputs": [
    {
     "name": "stdout",
     "output_type": "stream",
     "text": [
      "=== 등분산성 검정 ===\n",
      "LeveneResult(statistic=0.011553273427471136, pvalue=0.9155923157319253)\n",
      "등분산성 검정 결과 p-value = 0.92로 등분산 귀무가설을 기각하지 못한다.\n",
      "p_value = 0.0440로 유의수준 0.05보다 낮으므로 귀무가설을 기각한다.\n",
      "즉 화학 첨가물이 식물의 성장이 촉진한다고 볼 근거가 충분하다.\n"
     ]
    }
   ],
   "source": [
    "import pandas as pd\n",
    "from scipy.stats import levene\n",
    "from scipy.stats import t\n",
    "\n",
    "df = pd.DataFrame()\n",
    "\n",
    "df['첨가'] = [20, 31, 16, 22, 19, 32, 25, 18, 20, 19]\n",
    "df['무첨가'] = [23, 34, 15, 21, 22, 31, 29, 20, 24, 23]\n",
    "df.index = range(1, 11)\n",
    "\n",
    "print('=== 등분산성 검정 ===')\n",
    "\n",
    "print(levene(df['첨가'], df['무첨가']))\n",
    "print('''등분산성 검정 결과 p-value = 0.92로 등분산 귀무가설을 기각하지 못한다.''')\n",
    "\n",
    "n_첨가 = len(df['첨가'])\n",
    "n_무첨가 = len(df['무첨가'])\n",
    "dof = n_첨가 + n_무첨가 -2\n",
    "s_첨가 = df['첨가'].std(ddof = 1)\n",
    "s_무첨가 = df['무첨가'].std(ddof = 1)\n",
    "mean_첨가 = df['첨가'].mean()\n",
    "mean_무첨가 = df['무첨가'].mean()\n",
    "\n",
    "sp = ((n_첨가 -1)*s_첨가 + (n_무첨가 -1)*s_무첨가)/(n_첨가 + n_무첨가 - 2)\n",
    "\n",
    "se = sp*(1/n_첨가 + 1/n_무첨가)\n",
    "\n",
    "T = (mean_첨가 - mean_무첨가) / se\n",
    "\n",
    "p_value = t(dof).cdf(T)\n",
    "\n",
    "print('''p_value = {:.4f}로 유의수준 0.05보다 낮으므로 귀무가설을 기각한다.\n",
    "즉 화학 첨가물이 식물의 성장이 촉진한다고 볼 근거가 충분하다.'''.format(p_value))"
   ]
  },
  {
   "cell_type": "markdown",
   "metadata": {},
   "source": [
    "### 5.28\n",
    "금연패치를 이용하는 것이 금연에 효과가 있는가를 알아보려고 실험을 하였다. 금연을 원하는 80 \n",
    "명의 흡연자들 중에서 임의로 42명을 뽑아서 금연패치를 사용하게 하고 다른 38명의 흡연자들에 \n",
    "겐 가짜패치를 사용하게 하였다. 4주 후에 금연패치 사용자 중 27명이, 가짜패치 사용자 중 14명이 \n",
    "담배를 끊었다. 이들 결과로부터 금연패치 사용이 담배를 끊게 하는 비율을 높인다고 할 수 있는 \n",
    "가? P-값을 이용하여 답하라. "
   ]
  },
  {
   "cell_type": "code",
   "execution_count": 90,
   "metadata": {},
   "outputs": [
    {
     "name": "stdout",
     "output_type": "stream",
     "text": [
      "귀무가설: 금연패치 사용자와 가짜패치 사용자의 금연율이 동일하다.\n",
      "대립가설: 금연패치 사용자와 가짜패치 사용자의 금연율이 다르다.\n",
      "\n",
      "가설검정 결과 p_value = 0.0071로 유의수준 0.05 미만이므로 귀무가설을 기각한다.\n",
      "즉, 금연패치 사용이 담배를 끊게 하는 비율을 높인다고 볼 수 있다.\n"
     ]
    }
   ],
   "source": [
    "from scipy.stats import norm\n",
    "\n",
    "n1, n2 = 42, 38\n",
    "p1, p2 = 27/n1, 14/n2\n",
    "\n",
    "pool_p = (27+14)/(n1+n2)\n",
    "\n",
    "se = (pool_p*(1-pool_p)*(1/n1+1/n2))**0.5\n",
    "\n",
    "Z = (p1-p2)/se\n",
    "\n",
    "p_value = 1 - norm.cdf(Z)\n",
    "\n",
    "print('''귀무가설: 금연패치 사용자와 가짜패치 사용자의 금연율이 동일하다.\n",
    "대립가설: 금연패치 사용자와 가짜패치 사용자의 금연율이 다르다.\n",
    "\n",
    "가설검정 결과 p_value = {:.4f}로 유의수준 0.05 미만이므로 귀무가설을 기각한다.\n",
    "즉, 금연패치 사용이 담배를 끊게 하는 비율을 높인다고 볼 수 있다.'''.format(p_value))"
   ]
  },
  {
   "cell_type": "code",
   "execution_count": null,
   "metadata": {},
   "outputs": [],
   "source": []
  }
 ],
 "metadata": {
  "colab": {
   "authorship_tag": "ABX9TyPli8SALHOAlolE2Dipg7VQ",
   "provenance": [],
   "toc_visible": true
  },
  "kernelspec": {
   "display_name": "Python 3 (ipykernel)",
   "language": "python",
   "name": "python3"
  },
  "language_info": {
   "codemirror_mode": {
    "name": "ipython",
    "version": 3
   },
   "file_extension": ".py",
   "mimetype": "text/x-python",
   "name": "python",
   "nbconvert_exporter": "python",
   "pygments_lexer": "ipython3",
   "version": "3.10.9"
  }
 },
 "nbformat": 4,
 "nbformat_minor": 4
}
