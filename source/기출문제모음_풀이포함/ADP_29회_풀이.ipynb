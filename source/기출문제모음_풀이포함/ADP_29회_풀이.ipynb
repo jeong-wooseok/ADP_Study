{
 "cells": [
  {
   "cell_type": "code",
   "execution_count": 1,
   "metadata": {},
   "outputs": [],
   "source": [
    "import matplotlib.font_manager as fm\n",
    "import matplotlib.pyplot as plt\n",
    "import warnings\n",
    "warnings.filterwarnings(action='ignore') \n",
    "\n",
    "path = 'C:/Windows/Fonts/malgun.ttf' # 나눔 고딕\n",
    "font_name = fm.FontProperties(fname=path, size=10).get_name() # 기본 폰트 사이즈 : 10\n",
    "plt.rc('font', family=font_name)"
   ]
  },
  {
   "cell_type": "markdown",
   "metadata": {
    "id": "rvjnnJSS32Ai"
   },
   "source": [
    "# 대구 아파트 데이터"
   ]
  },
  {
   "cell_type": "markdown",
   "metadata": {
    "id": "updUCRK2taIw"
   },
   "source": [
    "## 1-1\n",
    "계약자고유번호를 기준으로 거주연도 별 여러개의 데이터가 쌓여 있다. 각 계약자고유번호에 대해 가장 최신의 거주연도 행만 남겨라.\n",
    "\n",
    "데이터 출처 : https://www.data.go.kr/data/15094266/fileData.do 후처리\n",
    "\n",
    "데이터 링크 : https://raw.githubusercontent.com/Datamanim/datarepo/main/adp/29/p1.csv\n",
    "\n",
    "데이터 설명 : 대구도시공사_빅데이터_영구임대아파트 입주자 퇴거여부 데이터, 고유번호를 가진 계약자와 특정 아파트에 대해 매년 퇴거여부를 기록한 데이터"
   ]
  },
  {
   "cell_type": "code",
   "execution_count": 2,
   "metadata": {
    "colab": {
     "base_uri": "https://localhost:8080/",
     "height": 770
    },
    "executionInfo": {
     "elapsed": 1494,
     "status": "ok",
     "timestamp": 1705846448325,
     "user": {
      "displayName": "WOOSEOK JEONG",
      "userId": "01703662546986869335"
     },
     "user_tz": -540
    },
    "id": "Z6pf6XB4soAM",
    "outputId": "ff219a21-77e6-45f5-a04f-7cf5dc7ea753"
   },
   "outputs": [
    {
     "data": {
      "text/html": [
       "<div>\n",
       "<style scoped>\n",
       "    .dataframe tbody tr th:only-of-type {\n",
       "        vertical-align: middle;\n",
       "    }\n",
       "\n",
       "    .dataframe tbody tr th {\n",
       "        vertical-align: top;\n",
       "    }\n",
       "\n",
       "    .dataframe thead th {\n",
       "        text-align: right;\n",
       "    }\n",
       "</style>\n",
       "<table border=\"1\" class=\"dataframe\">\n",
       "  <thead>\n",
       "    <tr style=\"text-align: right;\">\n",
       "      <th></th>\n",
       "      <th>0</th>\n",
       "      <th>1</th>\n",
       "      <th>2</th>\n",
       "      <th>3</th>\n",
       "      <th>4</th>\n",
       "    </tr>\n",
       "  </thead>\n",
       "  <tbody>\n",
       "    <tr>\n",
       "      <th>순번</th>\n",
       "      <td>1</td>\n",
       "      <td>1</td>\n",
       "      <td>1</td>\n",
       "      <td>1</td>\n",
       "      <td>1</td>\n",
       "    </tr>\n",
       "    <tr>\n",
       "      <th>계약구분</th>\n",
       "      <td>유효</td>\n",
       "      <td>유효</td>\n",
       "      <td>유효</td>\n",
       "      <td>유효</td>\n",
       "      <td>유효</td>\n",
       "    </tr>\n",
       "    <tr>\n",
       "      <th>재계약횟수</th>\n",
       "      <td>10</td>\n",
       "      <td>10</td>\n",
       "      <td>10</td>\n",
       "      <td>10</td>\n",
       "      <td>10</td>\n",
       "    </tr>\n",
       "    <tr>\n",
       "      <th>거주개월</th>\n",
       "      <td>222</td>\n",
       "      <td>222</td>\n",
       "      <td>222</td>\n",
       "      <td>222</td>\n",
       "      <td>222</td>\n",
       "    </tr>\n",
       "    <tr>\n",
       "      <th>아파트 이름</th>\n",
       "      <td>강남아파트</td>\n",
       "      <td>강남아파트</td>\n",
       "      <td>강남아파트</td>\n",
       "      <td>강남아파트</td>\n",
       "      <td>강남아파트</td>\n",
       "    </tr>\n",
       "    <tr>\n",
       "      <th>아파트 ID</th>\n",
       "      <td>5</td>\n",
       "      <td>5</td>\n",
       "      <td>5</td>\n",
       "      <td>5</td>\n",
       "      <td>5</td>\n",
       "    </tr>\n",
       "    <tr>\n",
       "      <th>아파트 평점</th>\n",
       "      <td>7.0</td>\n",
       "      <td>7.0</td>\n",
       "      <td>7.0</td>\n",
       "      <td>7.0</td>\n",
       "      <td>7.0</td>\n",
       "    </tr>\n",
       "    <tr>\n",
       "      <th>호실고유번호</th>\n",
       "      <td>14520</td>\n",
       "      <td>14520</td>\n",
       "      <td>14520</td>\n",
       "      <td>14520</td>\n",
       "      <td>14520</td>\n",
       "    </tr>\n",
       "    <tr>\n",
       "      <th>층</th>\n",
       "      <td>1</td>\n",
       "      <td>1</td>\n",
       "      <td>1</td>\n",
       "      <td>1</td>\n",
       "      <td>1</td>\n",
       "    </tr>\n",
       "    <tr>\n",
       "      <th>평형대</th>\n",
       "      <td>12</td>\n",
       "      <td>12</td>\n",
       "      <td>12</td>\n",
       "      <td>12</td>\n",
       "      <td>12</td>\n",
       "    </tr>\n",
       "    <tr>\n",
       "      <th>계약자고유번호</th>\n",
       "      <td>15468</td>\n",
       "      <td>15468</td>\n",
       "      <td>15468</td>\n",
       "      <td>15468</td>\n",
       "      <td>15468</td>\n",
       "    </tr>\n",
       "    <tr>\n",
       "      <th>계약서고유번호</th>\n",
       "      <td>15865</td>\n",
       "      <td>15865</td>\n",
       "      <td>15865</td>\n",
       "      <td>15865</td>\n",
       "      <td>15865</td>\n",
       "    </tr>\n",
       "    <tr>\n",
       "      <th>입주연도</th>\n",
       "      <td>2003</td>\n",
       "      <td>2003</td>\n",
       "      <td>2003</td>\n",
       "      <td>2003</td>\n",
       "      <td>2003</td>\n",
       "    </tr>\n",
       "    <tr>\n",
       "      <th>퇴거연도</th>\n",
       "      <td>NaN</td>\n",
       "      <td>NaN</td>\n",
       "      <td>NaN</td>\n",
       "      <td>NaN</td>\n",
       "      <td>NaN</td>\n",
       "    </tr>\n",
       "    <tr>\n",
       "      <th>거주연도</th>\n",
       "      <td>2008</td>\n",
       "      <td>2009</td>\n",
       "      <td>2010</td>\n",
       "      <td>2011</td>\n",
       "      <td>2012</td>\n",
       "    </tr>\n",
       "    <tr>\n",
       "      <th>월세(원)</th>\n",
       "      <td>47100</td>\n",
       "      <td>56500</td>\n",
       "      <td>56500</td>\n",
       "      <td>69900</td>\n",
       "      <td>69900</td>\n",
       "    </tr>\n",
       "    <tr>\n",
       "      <th>보증금(원)</th>\n",
       "      <td>3646000</td>\n",
       "      <td>4375000</td>\n",
       "      <td>4375000</td>\n",
       "      <td>5408000</td>\n",
       "      <td>5408000</td>\n",
       "    </tr>\n",
       "    <tr>\n",
       "      <th>대표나이</th>\n",
       "      <td>46</td>\n",
       "      <td>46</td>\n",
       "      <td>46</td>\n",
       "      <td>46</td>\n",
       "      <td>46</td>\n",
       "    </tr>\n",
       "    <tr>\n",
       "      <th>나이</th>\n",
       "      <td>33</td>\n",
       "      <td>34</td>\n",
       "      <td>35</td>\n",
       "      <td>36</td>\n",
       "      <td>37</td>\n",
       "    </tr>\n",
       "    <tr>\n",
       "      <th>성별</th>\n",
       "      <td>남</td>\n",
       "      <td>남</td>\n",
       "      <td>남</td>\n",
       "      <td>남</td>\n",
       "      <td>남</td>\n",
       "    </tr>\n",
       "    <tr>\n",
       "      <th>결혼여부</th>\n",
       "      <td>미혼</td>\n",
       "      <td>미혼</td>\n",
       "      <td>미혼</td>\n",
       "      <td>미혼</td>\n",
       "      <td>미혼</td>\n",
       "    </tr>\n",
       "    <tr>\n",
       "      <th>거주자 수</th>\n",
       "      <td>3</td>\n",
       "      <td>3</td>\n",
       "      <td>3</td>\n",
       "      <td>3</td>\n",
       "      <td>3</td>\n",
       "    </tr>\n",
       "    <tr>\n",
       "      <th>퇴거여부</th>\n",
       "      <td>미퇴거</td>\n",
       "      <td>미퇴거</td>\n",
       "      <td>미퇴거</td>\n",
       "      <td>미퇴거</td>\n",
       "      <td>미퇴거</td>\n",
       "    </tr>\n",
       "  </tbody>\n",
       "</table>\n",
       "</div>"
      ],
      "text/plain": [
       "               0        1        2        3        4\n",
       "순번             1        1        1        1        1\n",
       "계약구분          유효       유효       유효       유효       유효\n",
       "재계약횟수         10       10       10       10       10\n",
       "거주개월         222      222      222      222      222\n",
       "아파트 이름     강남아파트    강남아파트    강남아파트    강남아파트    강남아파트\n",
       "아파트 ID         5        5        5        5        5\n",
       "아파트 평점       7.0      7.0      7.0      7.0      7.0\n",
       "호실고유번호     14520    14520    14520    14520    14520\n",
       "층              1        1        1        1        1\n",
       "평형대           12       12       12       12       12\n",
       "계약자고유번호    15468    15468    15468    15468    15468\n",
       "계약서고유번호    15865    15865    15865    15865    15865\n",
       "입주연도        2003     2003     2003     2003     2003\n",
       "퇴거연도         NaN      NaN      NaN      NaN      NaN\n",
       "거주연도        2008     2009     2010     2011     2012\n",
       "월세(원)      47100    56500    56500    69900    69900\n",
       "보증금(원)   3646000  4375000  4375000  5408000  5408000\n",
       "대표나이          46       46       46       46       46\n",
       "나이            33       34       35       36       37\n",
       "성별             남        남        남        남        남\n",
       "결혼여부          미혼       미혼       미혼       미혼       미혼\n",
       "거주자 수          3        3        3        3        3\n",
       "퇴거여부         미퇴거      미퇴거      미퇴거      미퇴거      미퇴거"
      ]
     },
     "execution_count": 2,
     "metadata": {},
     "output_type": "execute_result"
    }
   ],
   "source": [
    "import pandas as pd\n",
    "apt = pd.read_csv('https://raw.githubusercontent.com/Datamanim/datarepo/main/adp/29/p1.csv',encoding='euckr')\n",
    "apt.head(5).T"
   ]
  },
  {
   "cell_type": "markdown",
   "metadata": {
    "id": "fRSTrxR5t7sp"
   },
   "source": [
    "## 1.2\n",
    "EDA 및 결측치 처리 (시각화 포함)"
   ]
  },
  {
   "cell_type": "code",
   "execution_count": 3,
   "metadata": {},
   "outputs": [
    {
     "data": {
      "text/plain": [
       "순번         0.000000\n",
       "계약구분       0.005846\n",
       "재계약횟수      0.000000\n",
       "거주개월       0.000000\n",
       "아파트 이름     0.000000\n",
       "아파트 ID     0.000000\n",
       "아파트 평점     0.014096\n",
       "호실고유번호     0.000000\n",
       "층          0.000000\n",
       "평형대        0.000000\n",
       "계약자고유번호    0.000000\n",
       "계약서고유번호    0.000000\n",
       "입주연도       0.000000\n",
       "퇴거연도       0.703558\n",
       "거주연도       0.000000\n",
       "월세(원)      0.000000\n",
       "보증금(원)     0.000000\n",
       "대표나이       0.000000\n",
       "나이         0.000000\n",
       "성별         0.000000\n",
       "결혼여부       0.000000\n",
       "거주자 수      0.000000\n",
       "퇴거여부       0.000000\n",
       "dtype: float64"
      ]
     },
     "execution_count": 3,
     "metadata": {},
     "output_type": "execute_result"
    }
   ],
   "source": [
    "apt.isna().sum()/len(apt)"
   ]
  },
  {
   "cell_type": "code",
   "execution_count": 4,
   "metadata": {},
   "outputs": [
    {
     "data": {
      "text/plain": [
       "array([  nan, 2012., 2019., 2011., 2017., 2014., 2016., 2020., 2010.,\n",
       "       2018., 2009., 2015., 2008., 2013.])"
      ]
     },
     "execution_count": 4,
     "metadata": {},
     "output_type": "execute_result"
    }
   ],
   "source": [
    "apt['퇴거연도'].unique()"
   ]
  },
  {
   "cell_type": "code",
   "execution_count": 5,
   "metadata": {},
   "outputs": [
    {
     "data": {
      "text/plain": [
       "array([2008, 2009, 2010, 2011, 2012, 2013, 2014, 2015, 2016, 2017, 2018,\n",
       "       2019, 2020], dtype=int64)"
      ]
     },
     "execution_count": 5,
     "metadata": {},
     "output_type": "execute_result"
    }
   ],
   "source": [
    "apt['거주연도'].unique()"
   ]
  },
  {
   "cell_type": "code",
   "execution_count": 6,
   "metadata": {},
   "outputs": [
    {
     "data": {
      "text/plain": [
       "array(['미퇴거'], dtype=object)"
      ]
     },
     "execution_count": 6,
     "metadata": {},
     "output_type": "execute_result"
    }
   ],
   "source": [
    "apt[apt['퇴거연도'].isna()]['퇴거여부'].unique()"
   ]
  },
  {
   "cell_type": "markdown",
   "metadata": {},
   "source": [
    "- 미퇴거인 경우, 퇴거년도가 없으므로 영향을 덜주도록 중앙값으로 대체하거나, 결측치로 둔다"
   ]
  },
  {
   "cell_type": "code",
   "execution_count": 7,
   "metadata": {},
   "outputs": [],
   "source": [
    "# 중앙값대체\n",
    "apt['퇴거연도'] = apt['퇴거연도'].fillna(apt['퇴거연도'].median())"
   ]
  },
  {
   "cell_type": "code",
   "execution_count": 8,
   "metadata": {},
   "outputs": [
    {
     "data": {
      "text/plain": [
       "<Axes: xlabel='계약구분'>"
      ]
     },
     "execution_count": 8,
     "metadata": {},
     "output_type": "execute_result"
    },
    {
     "data": {
      "image/png": "[encoded data removed]",
      "text/plain": [
       "<Figure size 640x480 with 1 Axes>"
      ]
     },
     "metadata": {},
     "output_type": "display_data"
    }
   ],
   "source": [
    "apt['계약구분'].value_counts().plot(kind='bar')"
   ]
  },
  {
   "cell_type": "code",
   "execution_count": 9,
   "metadata": {},
   "outputs": [
    {
     "data": {
      "text/html": [
       "<div>\n",
       "<style scoped>\n",
       "    .dataframe tbody tr th:only-of-type {\n",
       "        vertical-align: middle;\n",
       "    }\n",
       "\n",
       "    .dataframe tbody tr th {\n",
       "        vertical-align: top;\n",
       "    }\n",
       "\n",
       "    .dataframe thead th {\n",
       "        text-align: right;\n",
       "    }\n",
       "</style>\n",
       "<table border=\"1\" class=\"dataframe\">\n",
       "  <thead>\n",
       "    <tr style=\"text-align: right;\">\n",
       "      <th></th>\n",
       "      <th>순번</th>\n",
       "      <th>계약구분</th>\n",
       "      <th>재계약횟수</th>\n",
       "      <th>거주개월</th>\n",
       "      <th>아파트 이름</th>\n",
       "      <th>아파트 ID</th>\n",
       "      <th>아파트 평점</th>\n",
       "      <th>호실고유번호</th>\n",
       "      <th>층</th>\n",
       "      <th>평형대</th>\n",
       "      <th>...</th>\n",
       "      <th>퇴거연도</th>\n",
       "      <th>거주연도</th>\n",
       "      <th>월세(원)</th>\n",
       "      <th>보증금(원)</th>\n",
       "      <th>대표나이</th>\n",
       "      <th>나이</th>\n",
       "      <th>성별</th>\n",
       "      <th>결혼여부</th>\n",
       "      <th>거주자 수</th>\n",
       "      <th>퇴거여부</th>\n",
       "    </tr>\n",
       "  </thead>\n",
       "  <tbody>\n",
       "    <tr>\n",
       "      <th>393</th>\n",
       "      <td>51</td>\n",
       "      <td>NaN</td>\n",
       "      <td>8</td>\n",
       "      <td>195</td>\n",
       "      <td>강남아파트</td>\n",
       "      <td>5</td>\n",
       "      <td>7.0</td>\n",
       "      <td>15526</td>\n",
       "      <td>4</td>\n",
       "      <td>12</td>\n",
       "      <td>...</td>\n",
       "      <td>2017.0</td>\n",
       "      <td>2015</td>\n",
       "      <td>45900</td>\n",
       "      <td>2538000</td>\n",
       "      <td>64</td>\n",
       "      <td>58</td>\n",
       "      <td>남</td>\n",
       "      <td>미혼</td>\n",
       "      <td>1</td>\n",
       "      <td>미퇴거</td>\n",
       "    </tr>\n",
       "    <tr>\n",
       "      <th>449</th>\n",
       "      <td>62</td>\n",
       "      <td>NaN</td>\n",
       "      <td>6</td>\n",
       "      <td>156</td>\n",
       "      <td>강남아파트</td>\n",
       "      <td>5</td>\n",
       "      <td>7.0</td>\n",
       "      <td>15730</td>\n",
       "      <td>5</td>\n",
       "      <td>15</td>\n",
       "      <td>...</td>\n",
       "      <td>2017.0</td>\n",
       "      <td>2012</td>\n",
       "      <td>48800</td>\n",
       "      <td>2297000</td>\n",
       "      <td>31</td>\n",
       "      <td>22</td>\n",
       "      <td>여</td>\n",
       "      <td>미혼</td>\n",
       "      <td>3</td>\n",
       "      <td>미퇴거</td>\n",
       "    </tr>\n",
       "    <tr>\n",
       "      <th>582</th>\n",
       "      <td>78</td>\n",
       "      <td>NaN</td>\n",
       "      <td>8</td>\n",
       "      <td>173</td>\n",
       "      <td>강남아파트</td>\n",
       "      <td>5</td>\n",
       "      <td>7.0</td>\n",
       "      <td>16067</td>\n",
       "      <td>6</td>\n",
       "      <td>15</td>\n",
       "      <td>...</td>\n",
       "      <td>2017.0</td>\n",
       "      <td>2017</td>\n",
       "      <td>124000</td>\n",
       "      <td>8286000</td>\n",
       "      <td>71</td>\n",
       "      <td>67</td>\n",
       "      <td>남</td>\n",
       "      <td>기혼</td>\n",
       "      <td>2</td>\n",
       "      <td>퇴거</td>\n",
       "    </tr>\n",
       "    <tr>\n",
       "      <th>827</th>\n",
       "      <td>114</td>\n",
       "      <td>NaN</td>\n",
       "      <td>10</td>\n",
       "      <td>215</td>\n",
       "      <td>강남아파트</td>\n",
       "      <td>5</td>\n",
       "      <td>7.0</td>\n",
       "      <td>16816</td>\n",
       "      <td>9</td>\n",
       "      <td>15</td>\n",
       "      <td>...</td>\n",
       "      <td>2020.0</td>\n",
       "      <td>2014</td>\n",
       "      <td>50300</td>\n",
       "      <td>2366000</td>\n",
       "      <td>69</td>\n",
       "      <td>62</td>\n",
       "      <td>남</td>\n",
       "      <td>미혼</td>\n",
       "      <td>1</td>\n",
       "      <td>미퇴거</td>\n",
       "    </tr>\n",
       "    <tr>\n",
       "      <th>1280</th>\n",
       "      <td>188</td>\n",
       "      <td>NaN</td>\n",
       "      <td>4</td>\n",
       "      <td>79</td>\n",
       "      <td>까치아파트</td>\n",
       "      <td>4</td>\n",
       "      <td>10.0</td>\n",
       "      <td>6134</td>\n",
       "      <td>1</td>\n",
       "      <td>15</td>\n",
       "      <td>...</td>\n",
       "      <td>2017.0</td>\n",
       "      <td>2014</td>\n",
       "      <td>45400</td>\n",
       "      <td>2476000</td>\n",
       "      <td>88</td>\n",
       "      <td>81</td>\n",
       "      <td>여</td>\n",
       "      <td>미혼</td>\n",
       "      <td>1</td>\n",
       "      <td>미퇴거</td>\n",
       "    </tr>\n",
       "    <tr>\n",
       "      <th>...</th>\n",
       "      <td>...</td>\n",
       "      <td>...</td>\n",
       "      <td>...</td>\n",
       "      <td>...</td>\n",
       "      <td>...</td>\n",
       "      <td>...</td>\n",
       "      <td>...</td>\n",
       "      <td>...</td>\n",
       "      <td>...</td>\n",
       "      <td>...</td>\n",
       "      <td>...</td>\n",
       "      <td>...</td>\n",
       "      <td>...</td>\n",
       "      <td>...</td>\n",
       "      <td>...</td>\n",
       "      <td>...</td>\n",
       "      <td>...</td>\n",
       "      <td>...</td>\n",
       "      <td>...</td>\n",
       "      <td>...</td>\n",
       "      <td>...</td>\n",
       "    </tr>\n",
       "    <tr>\n",
       "      <th>85650</th>\n",
       "      <td>12712</td>\n",
       "      <td>NaN</td>\n",
       "      <td>10</td>\n",
       "      <td>229</td>\n",
       "      <td>지산5단지아파트</td>\n",
       "      <td>3</td>\n",
       "      <td>8.0</td>\n",
       "      <td>85642</td>\n",
       "      <td>7</td>\n",
       "      <td>19</td>\n",
       "      <td>...</td>\n",
       "      <td>2017.0</td>\n",
       "      <td>2017</td>\n",
       "      <td>187900</td>\n",
       "      <td>12873000</td>\n",
       "      <td>68</td>\n",
       "      <td>64</td>\n",
       "      <td>남</td>\n",
       "      <td>기혼</td>\n",
       "      <td>2</td>\n",
       "      <td>미퇴거</td>\n",
       "    </tr>\n",
       "    <tr>\n",
       "      <th>85657</th>\n",
       "      <td>12714</td>\n",
       "      <td>NaN</td>\n",
       "      <td>7</td>\n",
       "      <td>149</td>\n",
       "      <td>지산5단지아파트</td>\n",
       "      <td>3</td>\n",
       "      <td>8.0</td>\n",
       "      <td>85655</td>\n",
       "      <td>7</td>\n",
       "      <td>19</td>\n",
       "      <td>...</td>\n",
       "      <td>2017.0</td>\n",
       "      <td>2011</td>\n",
       "      <td>59800</td>\n",
       "      <td>2771000</td>\n",
       "      <td>49</td>\n",
       "      <td>39</td>\n",
       "      <td>여</td>\n",
       "      <td>미혼</td>\n",
       "      <td>3</td>\n",
       "      <td>미퇴거</td>\n",
       "    </tr>\n",
       "    <tr>\n",
       "      <th>85766</th>\n",
       "      <td>12728</td>\n",
       "      <td>NaN</td>\n",
       "      <td>10</td>\n",
       "      <td>219</td>\n",
       "      <td>지산5단지아파트</td>\n",
       "      <td>3</td>\n",
       "      <td>8.0</td>\n",
       "      <td>85761</td>\n",
       "      <td>8</td>\n",
       "      <td>15</td>\n",
       "      <td>...</td>\n",
       "      <td>2017.0</td>\n",
       "      <td>2014</td>\n",
       "      <td>93300</td>\n",
       "      <td>6397000</td>\n",
       "      <td>63</td>\n",
       "      <td>56</td>\n",
       "      <td>남</td>\n",
       "      <td>미혼</td>\n",
       "      <td>2</td>\n",
       "      <td>미퇴거</td>\n",
       "    </tr>\n",
       "    <tr>\n",
       "      <th>85917</th>\n",
       "      <td>12750</td>\n",
       "      <td>NaN</td>\n",
       "      <td>10</td>\n",
       "      <td>222</td>\n",
       "      <td>지산5단지아파트</td>\n",
       "      <td>3</td>\n",
       "      <td>NaN</td>\n",
       "      <td>85906</td>\n",
       "      <td>8</td>\n",
       "      <td>12</td>\n",
       "      <td>...</td>\n",
       "      <td>2017.0</td>\n",
       "      <td>2020</td>\n",
       "      <td>42300</td>\n",
       "      <td>1959000</td>\n",
       "      <td>73</td>\n",
       "      <td>72</td>\n",
       "      <td>여</td>\n",
       "      <td>미혼</td>\n",
       "      <td>1</td>\n",
       "      <td>미퇴거</td>\n",
       "    </tr>\n",
       "    <tr>\n",
       "      <th>85939</th>\n",
       "      <td>12753</td>\n",
       "      <td>NaN</td>\n",
       "      <td>9</td>\n",
       "      <td>213</td>\n",
       "      <td>지산5단지아파트</td>\n",
       "      <td>3</td>\n",
       "      <td>8.0</td>\n",
       "      <td>85932</td>\n",
       "      <td>9</td>\n",
       "      <td>15</td>\n",
       "      <td>...</td>\n",
       "      <td>2017.0</td>\n",
       "      <td>2020</td>\n",
       "      <td>51000</td>\n",
       "      <td>2365000</td>\n",
       "      <td>29</td>\n",
       "      <td>28</td>\n",
       "      <td>남</td>\n",
       "      <td>미혼</td>\n",
       "      <td>1</td>\n",
       "      <td>미퇴거</td>\n",
       "    </tr>\n",
       "  </tbody>\n",
       "</table>\n",
       "<p>508 rows × 23 columns</p>\n",
       "</div>"
      ],
      "text/plain": [
       "          순번 계약구분  재계약횟수  거주개월    아파트 이름  아파트 ID  아파트 평점  호실고유번호  층  평형대  ...  \\\n",
       "393       51  NaN      8   195     강남아파트       5     7.0   15526  4   12  ...   \n",
       "449       62  NaN      6   156     강남아파트       5     7.0   15730  5   15  ...   \n",
       "582       78  NaN      8   173     강남아파트       5     7.0   16067  6   15  ...   \n",
       "827      114  NaN     10   215     강남아파트       5     7.0   16816  9   15  ...   \n",
       "1280     188  NaN      4    79     까치아파트       4    10.0    6134  1   15  ...   \n",
       "...      ...  ...    ...   ...       ...     ...     ...     ... ..  ...  ...   \n",
       "85650  12712  NaN     10   229  지산5단지아파트       3     8.0   85642  7   19  ...   \n",
       "85657  12714  NaN      7   149  지산5단지아파트       3     8.0   85655  7   19  ...   \n",
       "85766  12728  NaN     10   219  지산5단지아파트       3     8.0   85761  8   15  ...   \n",
       "85917  12750  NaN     10   222  지산5단지아파트       3     NaN   85906  8   12  ...   \n",
       "85939  12753  NaN      9   213  지산5단지아파트       3     8.0   85932  9   15  ...   \n",
       "\n",
       "         퇴거연도  거주연도   월세(원)    보증금(원)  대표나이  나이  성별  결혼여부  거주자 수 퇴거여부  \n",
       "393    2017.0  2015   45900   2538000    64  58   남    미혼      1  미퇴거  \n",
       "449    2017.0  2012   48800   2297000    31  22   여    미혼      3  미퇴거  \n",
       "582    2017.0  2017  124000   8286000    71  67   남    기혼      2   퇴거  \n",
       "827    2020.0  2014   50300   2366000    69  62   남    미혼      1  미퇴거  \n",
       "1280   2017.0  2014   45400   2476000    88  81   여    미혼      1  미퇴거  \n",
       "...       ...   ...     ...       ...   ...  ..  ..   ...    ...  ...  \n",
       "85650  2017.0  2017  187900  12873000    68  64   남    기혼      2  미퇴거  \n",
       "85657  2017.0  2011   59800   2771000    49  39   여    미혼      3  미퇴거  \n",
       "85766  2017.0  2014   93300   6397000    63  56   남    미혼      2  미퇴거  \n",
       "85917  2017.0  2020   42300   1959000    73  72   여    미혼      1  미퇴거  \n",
       "85939  2017.0  2020   51000   2365000    29  28   남    미혼      1  미퇴거  \n",
       "\n",
       "[508 rows x 23 columns]"
      ]
     },
     "execution_count": 9,
     "metadata": {},
     "output_type": "execute_result"
    }
   ],
   "source": [
    "apt[apt['계약구분'].isna()]"
   ]
  },
  {
   "cell_type": "markdown",
   "metadata": {},
   "source": [
    "- 계약구분을 유추할 수 있는 변수가 없으며, 결측치가 결과에 영향을 미칠수도 있으므로 제거"
   ]
  },
  {
   "cell_type": "code",
   "execution_count": 10,
   "metadata": {},
   "outputs": [],
   "source": [
    "# 계약구분의 결측치 제거\n",
    "apt.dropna(subset=['계약구분'], inplace= True)"
   ]
  },
  {
   "cell_type": "code",
   "execution_count": 11,
   "metadata": {},
   "outputs": [
    {
     "data": {
      "text/plain": [
       "<Axes: xlabel='아파트 평점'>"
      ]
     },
     "execution_count": 11,
     "metadata": {},
     "output_type": "execute_result"
    },
    {
     "data": {
      "image/png": "[encoded data removed]",
      "text/plain": [
       "<Figure size 640x480 with 1 Axes>"
      ]
     },
     "metadata": {},
     "output_type": "display_data"
    }
   ],
   "source": [
    "apt['아파트 평점'].value_counts().plot(kind='bar')"
   ]
  },
  {
   "cell_type": "code",
   "execution_count": 12,
   "metadata": {},
   "outputs": [
    {
     "data": {
      "text/html": [
       "<div>\n",
       "<style scoped>\n",
       "    .dataframe tbody tr th:only-of-type {\n",
       "        vertical-align: middle;\n",
       "    }\n",
       "\n",
       "    .dataframe tbody tr th {\n",
       "        vertical-align: top;\n",
       "    }\n",
       "\n",
       "    .dataframe thead th {\n",
       "        text-align: right;\n",
       "    }\n",
       "</style>\n",
       "<table border=\"1\" class=\"dataframe\">\n",
       "  <thead>\n",
       "    <tr style=\"text-align: right;\">\n",
       "      <th></th>\n",
       "      <th>순번</th>\n",
       "      <th>계약구분</th>\n",
       "      <th>재계약횟수</th>\n",
       "      <th>거주개월</th>\n",
       "      <th>아파트 이름</th>\n",
       "      <th>아파트 ID</th>\n",
       "      <th>아파트 평점</th>\n",
       "      <th>호실고유번호</th>\n",
       "      <th>층</th>\n",
       "      <th>평형대</th>\n",
       "      <th>...</th>\n",
       "      <th>퇴거연도</th>\n",
       "      <th>거주연도</th>\n",
       "      <th>월세(원)</th>\n",
       "      <th>보증금(원)</th>\n",
       "      <th>대표나이</th>\n",
       "      <th>나이</th>\n",
       "      <th>성별</th>\n",
       "      <th>결혼여부</th>\n",
       "      <th>거주자 수</th>\n",
       "      <th>퇴거여부</th>\n",
       "    </tr>\n",
       "  </thead>\n",
       "  <tbody>\n",
       "    <tr>\n",
       "      <th>65</th>\n",
       "      <td>8</td>\n",
       "      <td>유효</td>\n",
       "      <td>11</td>\n",
       "      <td>271</td>\n",
       "      <td>강남아파트</td>\n",
       "      <td>5</td>\n",
       "      <td>NaN</td>\n",
       "      <td>14649</td>\n",
       "      <td>1</td>\n",
       "      <td>15</td>\n",
       "      <td>...</td>\n",
       "      <td>2017.0</td>\n",
       "      <td>2008</td>\n",
       "      <td>47600</td>\n",
       "      <td>2947000</td>\n",
       "      <td>57</td>\n",
       "      <td>44</td>\n",
       "      <td>여</td>\n",
       "      <td>미혼</td>\n",
       "      <td>3</td>\n",
       "      <td>미퇴거</td>\n",
       "    </tr>\n",
       "    <tr>\n",
       "      <th>191</th>\n",
       "      <td>24</td>\n",
       "      <td>유효</td>\n",
       "      <td>3</td>\n",
       "      <td>67</td>\n",
       "      <td>강남아파트</td>\n",
       "      <td>5</td>\n",
       "      <td>NaN</td>\n",
       "      <td>14954</td>\n",
       "      <td>2</td>\n",
       "      <td>12</td>\n",
       "      <td>...</td>\n",
       "      <td>2017.0</td>\n",
       "      <td>2017</td>\n",
       "      <td>38800</td>\n",
       "      <td>2078000</td>\n",
       "      <td>54</td>\n",
       "      <td>50</td>\n",
       "      <td>여</td>\n",
       "      <td>미혼</td>\n",
       "      <td>2</td>\n",
       "      <td>미퇴거</td>\n",
       "    </tr>\n",
       "    <tr>\n",
       "      <th>308</th>\n",
       "      <td>37</td>\n",
       "      <td>유효</td>\n",
       "      <td>11</td>\n",
       "      <td>246</td>\n",
       "      <td>강남아파트</td>\n",
       "      <td>5</td>\n",
       "      <td>NaN</td>\n",
       "      <td>15257</td>\n",
       "      <td>3</td>\n",
       "      <td>12</td>\n",
       "      <td>...</td>\n",
       "      <td>2017.0</td>\n",
       "      <td>2019</td>\n",
       "      <td>171120</td>\n",
       "      <td>11774400</td>\n",
       "      <td>48</td>\n",
       "      <td>46</td>\n",
       "      <td>여</td>\n",
       "      <td>미혼</td>\n",
       "      <td>4</td>\n",
       "      <td>미퇴거</td>\n",
       "    </tr>\n",
       "    <tr>\n",
       "      <th>376</th>\n",
       "      <td>48</td>\n",
       "      <td>해지</td>\n",
       "      <td>6</td>\n",
       "      <td>124</td>\n",
       "      <td>강남아파트</td>\n",
       "      <td>5</td>\n",
       "      <td>NaN</td>\n",
       "      <td>15502</td>\n",
       "      <td>4</td>\n",
       "      <td>15</td>\n",
       "      <td>...</td>\n",
       "      <td>2016.0</td>\n",
       "      <td>2009</td>\n",
       "      <td>47400</td>\n",
       "      <td>2297000</td>\n",
       "      <td>62</td>\n",
       "      <td>50</td>\n",
       "      <td>여</td>\n",
       "      <td>미혼</td>\n",
       "      <td>2</td>\n",
       "      <td>미퇴거</td>\n",
       "    </tr>\n",
       "    <tr>\n",
       "      <th>377</th>\n",
       "      <td>48</td>\n",
       "      <td>해지</td>\n",
       "      <td>6</td>\n",
       "      <td>124</td>\n",
       "      <td>강남아파트</td>\n",
       "      <td>5</td>\n",
       "      <td>NaN</td>\n",
       "      <td>15502</td>\n",
       "      <td>4</td>\n",
       "      <td>15</td>\n",
       "      <td>...</td>\n",
       "      <td>2016.0</td>\n",
       "      <td>2010</td>\n",
       "      <td>47400</td>\n",
       "      <td>2297000</td>\n",
       "      <td>62</td>\n",
       "      <td>51</td>\n",
       "      <td>여</td>\n",
       "      <td>미혼</td>\n",
       "      <td>2</td>\n",
       "      <td>미퇴거</td>\n",
       "    </tr>\n",
       "    <tr>\n",
       "      <th>...</th>\n",
       "      <td>...</td>\n",
       "      <td>...</td>\n",
       "      <td>...</td>\n",
       "      <td>...</td>\n",
       "      <td>...</td>\n",
       "      <td>...</td>\n",
       "      <td>...</td>\n",
       "      <td>...</td>\n",
       "      <td>...</td>\n",
       "      <td>...</td>\n",
       "      <td>...</td>\n",
       "      <td>...</td>\n",
       "      <td>...</td>\n",
       "      <td>...</td>\n",
       "      <td>...</td>\n",
       "      <td>...</td>\n",
       "      <td>...</td>\n",
       "      <td>...</td>\n",
       "      <td>...</td>\n",
       "      <td>...</td>\n",
       "      <td>...</td>\n",
       "    </tr>\n",
       "    <tr>\n",
       "      <th>85683</th>\n",
       "      <td>12718</td>\n",
       "      <td>유효</td>\n",
       "      <td>10</td>\n",
       "      <td>222</td>\n",
       "      <td>지산5단지아파트</td>\n",
       "      <td>3</td>\n",
       "      <td>NaN</td>\n",
       "      <td>85682</td>\n",
       "      <td>7</td>\n",
       "      <td>19</td>\n",
       "      <td>...</td>\n",
       "      <td>2017.0</td>\n",
       "      <td>2010</td>\n",
       "      <td>75300</td>\n",
       "      <td>4574000</td>\n",
       "      <td>78</td>\n",
       "      <td>67</td>\n",
       "      <td>남</td>\n",
       "      <td>기혼</td>\n",
       "      <td>7</td>\n",
       "      <td>미퇴거</td>\n",
       "    </tr>\n",
       "    <tr>\n",
       "      <th>85756</th>\n",
       "      <td>12727</td>\n",
       "      <td>유효</td>\n",
       "      <td>9</td>\n",
       "      <td>195</td>\n",
       "      <td>지산5단지아파트</td>\n",
       "      <td>3</td>\n",
       "      <td>NaN</td>\n",
       "      <td>85748</td>\n",
       "      <td>8</td>\n",
       "      <td>15</td>\n",
       "      <td>...</td>\n",
       "      <td>2017.0</td>\n",
       "      <td>2017</td>\n",
       "      <td>48600</td>\n",
       "      <td>2252000</td>\n",
       "      <td>60</td>\n",
       "      <td>56</td>\n",
       "      <td>여</td>\n",
       "      <td>미혼</td>\n",
       "      <td>2</td>\n",
       "      <td>미퇴거</td>\n",
       "    </tr>\n",
       "    <tr>\n",
       "      <th>85795</th>\n",
       "      <td>12732</td>\n",
       "      <td>유효</td>\n",
       "      <td>11</td>\n",
       "      <td>246</td>\n",
       "      <td>지산5단지아파트</td>\n",
       "      <td>3</td>\n",
       "      <td>NaN</td>\n",
       "      <td>85786</td>\n",
       "      <td>8</td>\n",
       "      <td>15</td>\n",
       "      <td>...</td>\n",
       "      <td>2017.0</td>\n",
       "      <td>2018</td>\n",
       "      <td>51000</td>\n",
       "      <td>2365000</td>\n",
       "      <td>68</td>\n",
       "      <td>65</td>\n",
       "      <td>남</td>\n",
       "      <td>미혼</td>\n",
       "      <td>1</td>\n",
       "      <td>미퇴거</td>\n",
       "    </tr>\n",
       "    <tr>\n",
       "      <th>85796</th>\n",
       "      <td>12732</td>\n",
       "      <td>유효</td>\n",
       "      <td>11</td>\n",
       "      <td>246</td>\n",
       "      <td>지산5단지아파트</td>\n",
       "      <td>3</td>\n",
       "      <td>NaN</td>\n",
       "      <td>85786</td>\n",
       "      <td>8</td>\n",
       "      <td>15</td>\n",
       "      <td>...</td>\n",
       "      <td>2017.0</td>\n",
       "      <td>2019</td>\n",
       "      <td>51000</td>\n",
       "      <td>2365000</td>\n",
       "      <td>68</td>\n",
       "      <td>66</td>\n",
       "      <td>남</td>\n",
       "      <td>미혼</td>\n",
       "      <td>1</td>\n",
       "      <td>미퇴거</td>\n",
       "    </tr>\n",
       "    <tr>\n",
       "      <th>85888</th>\n",
       "      <td>12745</td>\n",
       "      <td>유효</td>\n",
       "      <td>9</td>\n",
       "      <td>198</td>\n",
       "      <td>지산5단지아파트</td>\n",
       "      <td>3</td>\n",
       "      <td>NaN</td>\n",
       "      <td>85878</td>\n",
       "      <td>8</td>\n",
       "      <td>15</td>\n",
       "      <td>...</td>\n",
       "      <td>2017.0</td>\n",
       "      <td>2019</td>\n",
       "      <td>141120</td>\n",
       "      <td>9672000</td>\n",
       "      <td>77</td>\n",
       "      <td>75</td>\n",
       "      <td>여</td>\n",
       "      <td>미혼</td>\n",
       "      <td>2</td>\n",
       "      <td>미퇴거</td>\n",
       "    </tr>\n",
       "  </tbody>\n",
       "</table>\n",
       "<p>1217 rows × 23 columns</p>\n",
       "</div>"
      ],
      "text/plain": [
       "          순번 계약구분  재계약횟수  거주개월    아파트 이름  아파트 ID  아파트 평점  호실고유번호  층  평형대  ...  \\\n",
       "65         8   유효     11   271     강남아파트       5     NaN   14649  1   15  ...   \n",
       "191       24   유효      3    67     강남아파트       5     NaN   14954  2   12  ...   \n",
       "308       37   유효     11   246     강남아파트       5     NaN   15257  3   12  ...   \n",
       "376       48   해지      6   124     강남아파트       5     NaN   15502  4   15  ...   \n",
       "377       48   해지      6   124     강남아파트       5     NaN   15502  4   15  ...   \n",
       "...      ...  ...    ...   ...       ...     ...     ...     ... ..  ...  ...   \n",
       "85683  12718   유효     10   222  지산5단지아파트       3     NaN   85682  7   19  ...   \n",
       "85756  12727   유효      9   195  지산5단지아파트       3     NaN   85748  8   15  ...   \n",
       "85795  12732   유효     11   246  지산5단지아파트       3     NaN   85786  8   15  ...   \n",
       "85796  12732   유효     11   246  지산5단지아파트       3     NaN   85786  8   15  ...   \n",
       "85888  12745   유효      9   198  지산5단지아파트       3     NaN   85878  8   15  ...   \n",
       "\n",
       "         퇴거연도  거주연도   월세(원)    보증금(원)  대표나이  나이  성별  결혼여부  거주자 수 퇴거여부  \n",
       "65     2017.0  2008   47600   2947000    57  44   여    미혼      3  미퇴거  \n",
       "191    2017.0  2017   38800   2078000    54  50   여    미혼      2  미퇴거  \n",
       "308    2017.0  2019  171120  11774400    48  46   여    미혼      4  미퇴거  \n",
       "376    2016.0  2009   47400   2297000    62  50   여    미혼      2  미퇴거  \n",
       "377    2016.0  2010   47400   2297000    62  51   여    미혼      2  미퇴거  \n",
       "...       ...   ...     ...       ...   ...  ..  ..   ...    ...  ...  \n",
       "85683  2017.0  2010   75300   4574000    78  67   남    기혼      7  미퇴거  \n",
       "85756  2017.0  2017   48600   2252000    60  56   여    미혼      2  미퇴거  \n",
       "85795  2017.0  2018   51000   2365000    68  65   남    미혼      1  미퇴거  \n",
       "85796  2017.0  2019   51000   2365000    68  66   남    미혼      1  미퇴거  \n",
       "85888  2017.0  2019  141120   9672000    77  75   여    미혼      2  미퇴거  \n",
       "\n",
       "[1217 rows x 23 columns]"
      ]
     },
     "execution_count": 12,
     "metadata": {},
     "output_type": "execute_result"
    }
   ],
   "source": [
    "apt[apt['아파트 평점'].isna()]"
   ]
  },
  {
   "cell_type": "markdown",
   "metadata": {},
   "source": [
    "- 아파트 평점은 1.4% 수준의 데이터 값을 가지며, 수치형데이터이므로 영향을 적게 받도록 중간값으로 대치한다"
   ]
  },
  {
   "cell_type": "code",
   "execution_count": 13,
   "metadata": {},
   "outputs": [],
   "source": [
    "# 중앙값대체\n",
    "apt['아파트 평점'] = apt['아파트 평점'].fillna(apt['아파트 평점'].median())"
   ]
  },
  {
   "cell_type": "code",
   "execution_count": 14,
   "metadata": {
    "colab": {
     "base_uri": "https://localhost:8080/",
     "height": 890
    },
    "executionInfo": {
     "elapsed": 441,
     "status": "ok",
     "timestamp": 1705846448764,
     "user": {
      "displayName": "WOOSEOK JEONG",
      "userId": "01703662546986869335"
     },
     "user_tz": -540
    },
    "id": "SNvp0pfTtoSv",
    "outputId": "cfa44091-ba37-4bc8-f4e6-d58045e4fd52",
    "tags": []
   },
   "outputs": [
    {
     "name": "stdout",
     "output_type": "stream",
     "text": [
      "<class 'pandas.core.frame.DataFrame'>\n",
      "Index: 86396 entries, 0 to 86903\n",
      "Data columns (total 23 columns):\n",
      " #   Column   Non-Null Count  Dtype  \n",
      "---  ------   --------------  -----  \n",
      " 0   순번       86396 non-null  int64  \n",
      " 1   계약구분     86396 non-null  object \n",
      " 2   재계약횟수    86396 non-null  int64  \n",
      " 3   거주개월     86396 non-null  int64  \n",
      " 4   아파트 이름   86396 non-null  object \n",
      " 5   아파트 ID   86396 non-null  int64  \n",
      " 6   아파트 평점   86396 non-null  float64\n",
      " 7   호실고유번호   86396 non-null  int64  \n",
      " 8   층        86396 non-null  int64  \n",
      " 9   평형대      86396 non-null  int64  \n",
      " 10  계약자고유번호  86396 non-null  int64  \n",
      " 11  계약서고유번호  86396 non-null  int64  \n",
      " 12  입주연도     86396 non-null  int64  \n",
      " 13  퇴거연도     86396 non-null  float64\n",
      " 14  거주연도     86396 non-null  int64  \n",
      " 15  월세(원)    86396 non-null  int64  \n",
      " 16  보증금(원)   86396 non-null  int64  \n",
      " 17  대표나이     86396 non-null  int64  \n",
      " 18  나이       86396 non-null  int64  \n",
      " 19  성별       86396 non-null  object \n",
      " 20  결혼여부     86396 non-null  object \n",
      " 21  거주자 수    86396 non-null  int64  \n",
      " 22  퇴거여부     86396 non-null  object \n",
      "dtypes: float64(2), int64(16), object(5)\n",
      "memory usage: 15.8+ MB\n"
     ]
    },
    {
     "data": {
      "text/html": [
       "<div>\n",
       "<style scoped>\n",
       "    .dataframe tbody tr th:only-of-type {\n",
       "        vertical-align: middle;\n",
       "    }\n",
       "\n",
       "    .dataframe tbody tr th {\n",
       "        vertical-align: top;\n",
       "    }\n",
       "\n",
       "    .dataframe thead th {\n",
       "        text-align: right;\n",
       "    }\n",
       "</style>\n",
       "<table border=\"1\" class=\"dataframe\">\n",
       "  <thead>\n",
       "    <tr style=\"text-align: right;\">\n",
       "      <th></th>\n",
       "      <th>순번</th>\n",
       "      <th>재계약횟수</th>\n",
       "      <th>거주개월</th>\n",
       "      <th>아파트 ID</th>\n",
       "      <th>아파트 평점</th>\n",
       "      <th>호실고유번호</th>\n",
       "      <th>층</th>\n",
       "      <th>평형대</th>\n",
       "      <th>계약자고유번호</th>\n",
       "      <th>계약서고유번호</th>\n",
       "      <th>입주연도</th>\n",
       "      <th>퇴거연도</th>\n",
       "      <th>거주연도</th>\n",
       "      <th>월세(원)</th>\n",
       "      <th>보증금(원)</th>\n",
       "      <th>대표나이</th>\n",
       "      <th>나이</th>\n",
       "      <th>거주자 수</th>\n",
       "    </tr>\n",
       "  </thead>\n",
       "  <tbody>\n",
       "    <tr>\n",
       "      <th>count</th>\n",
       "      <td>86396.000000</td>\n",
       "      <td>86396.000000</td>\n",
       "      <td>86396.000000</td>\n",
       "      <td>86396.000000</td>\n",
       "      <td>86396.000000</td>\n",
       "      <td>86396.000000</td>\n",
       "      <td>86396.000000</td>\n",
       "      <td>86396.000000</td>\n",
       "      <td>86396.000000</td>\n",
       "      <td>86396.000000</td>\n",
       "      <td>86396.000000</td>\n",
       "      <td>86396.000000</td>\n",
       "      <td>86396.000000</td>\n",
       "      <td>86396.000000</td>\n",
       "      <td>8.639600e+04</td>\n",
       "      <td>86396.000000</td>\n",
       "      <td>86396.000000</td>\n",
       "      <td>86396.000000</td>\n",
       "    </tr>\n",
       "    <tr>\n",
       "      <th>mean</th>\n",
       "      <td>6489.988969</td>\n",
       "      <td>7.381580</td>\n",
       "      <td>174.403086</td>\n",
       "      <td>1.830467</td>\n",
       "      <td>6.401928</td>\n",
       "      <td>43437.677798</td>\n",
       "      <td>7.882703</td>\n",
       "      <td>13.290708</td>\n",
       "      <td>43448.372517</td>\n",
       "      <td>43449.208852</td>\n",
       "      <td>2005.240023</td>\n",
       "      <td>2016.701086</td>\n",
       "      <td>2013.988645</td>\n",
       "      <td>57673.339043</td>\n",
       "      <td>3.383964e+06</td>\n",
       "      <td>66.671594</td>\n",
       "      <td>59.660239</td>\n",
       "      <td>1.653097</td>\n",
       "    </tr>\n",
       "    <tr>\n",
       "      <th>std</th>\n",
       "      <td>3745.181638</td>\n",
       "      <td>2.759473</td>\n",
       "      <td>64.805294</td>\n",
       "      <td>0.875183</td>\n",
       "      <td>1.277939</td>\n",
       "      <td>25087.744490</td>\n",
       "      <td>4.268012</td>\n",
       "      <td>2.385894</td>\n",
       "      <td>25084.916138</td>\n",
       "      <td>25084.419165</td>\n",
       "      <td>4.833842</td>\n",
       "      <td>1.773543</td>\n",
       "      <td>3.729936</td>\n",
       "      <td>30581.386006</td>\n",
       "      <td>2.380752e+06</td>\n",
       "      <td>12.951874</td>\n",
       "      <td>13.277499</td>\n",
       "      <td>0.927314</td>\n",
       "    </tr>\n",
       "    <tr>\n",
       "      <th>min</th>\n",
       "      <td>1.000000</td>\n",
       "      <td>1.000000</td>\n",
       "      <td>1.000000</td>\n",
       "      <td>1.000000</td>\n",
       "      <td>5.000000</td>\n",
       "      <td>1.000000</td>\n",
       "      <td>1.000000</td>\n",
       "      <td>12.000000</td>\n",
       "      <td>1.000000</td>\n",
       "      <td>1.000000</td>\n",
       "      <td>1994.000000</td>\n",
       "      <td>2008.000000</td>\n",
       "      <td>2008.000000</td>\n",
       "      <td>31300.000000</td>\n",
       "      <td>1.520000e+06</td>\n",
       "      <td>21.000000</td>\n",
       "      <td>20.000000</td>\n",
       "      <td>1.000000</td>\n",
       "    </tr>\n",
       "    <tr>\n",
       "      <th>25%</th>\n",
       "      <td>3240.000000</td>\n",
       "      <td>5.000000</td>\n",
       "      <td>126.000000</td>\n",
       "      <td>1.000000</td>\n",
       "      <td>5.000000</td>\n",
       "      <td>21711.000000</td>\n",
       "      <td>4.000000</td>\n",
       "      <td>12.000000</td>\n",
       "      <td>21721.000000</td>\n",
       "      <td>21731.000000</td>\n",
       "      <td>2002.000000</td>\n",
       "      <td>2017.000000</td>\n",
       "      <td>2011.000000</td>\n",
       "      <td>40300.000000</td>\n",
       "      <td>1.954000e+06</td>\n",
       "      <td>59.000000</td>\n",
       "      <td>51.000000</td>\n",
       "      <td>1.000000</td>\n",
       "    </tr>\n",
       "    <tr>\n",
       "      <th>50%</th>\n",
       "      <td>6545.000000</td>\n",
       "      <td>8.000000</td>\n",
       "      <td>197.000000</td>\n",
       "      <td>2.000000</td>\n",
       "      <td>7.000000</td>\n",
       "      <td>43425.000000</td>\n",
       "      <td>8.000000</td>\n",
       "      <td>12.000000</td>\n",
       "      <td>43452.000000</td>\n",
       "      <td>43460.000000</td>\n",
       "      <td>2003.000000</td>\n",
       "      <td>2017.000000</td>\n",
       "      <td>2014.000000</td>\n",
       "      <td>43600.000000</td>\n",
       "      <td>2.144000e+06</td>\n",
       "      <td>66.000000</td>\n",
       "      <td>59.000000</td>\n",
       "      <td>1.000000</td>\n",
       "    </tr>\n",
       "    <tr>\n",
       "      <th>75%</th>\n",
       "      <td>9709.000000</td>\n",
       "      <td>10.000000</td>\n",
       "      <td>222.000000</td>\n",
       "      <td>2.000000</td>\n",
       "      <td>7.000000</td>\n",
       "      <td>65154.000000</td>\n",
       "      <td>12.000000</td>\n",
       "      <td>15.000000</td>\n",
       "      <td>65162.000000</td>\n",
       "      <td>65170.000000</td>\n",
       "      <td>2008.000000</td>\n",
       "      <td>2017.000000</td>\n",
       "      <td>2017.000000</td>\n",
       "      <td>62900.000000</td>\n",
       "      <td>3.778000e+06</td>\n",
       "      <td>76.000000</td>\n",
       "      <td>69.000000</td>\n",
       "      <td>2.000000</td>\n",
       "    </tr>\n",
       "    <tr>\n",
       "      <th>max</th>\n",
       "      <td>12883.000000</td>\n",
       "      <td>12.000000</td>\n",
       "      <td>323.000000</td>\n",
       "      <td>5.000000</td>\n",
       "      <td>10.000000</td>\n",
       "      <td>86891.000000</td>\n",
       "      <td>15.000000</td>\n",
       "      <td>19.000000</td>\n",
       "      <td>86892.000000</td>\n",
       "      <td>86904.000000</td>\n",
       "      <td>2020.000000</td>\n",
       "      <td>2020.000000</td>\n",
       "      <td>2020.000000</td>\n",
       "      <td>311080.000000</td>\n",
       "      <td>2.078400e+07</td>\n",
       "      <td>121.000000</td>\n",
       "      <td>120.000000</td>\n",
       "      <td>10.000000</td>\n",
       "    </tr>\n",
       "  </tbody>\n",
       "</table>\n",
       "</div>"
      ],
      "text/plain": [
       "                 순번         재계약횟수          거주개월        아파트 ID        아파트 평점  \\\n",
       "count  86396.000000  86396.000000  86396.000000  86396.000000  86396.000000   \n",
       "mean    6489.988969      7.381580    174.403086      1.830467      6.401928   \n",
       "std     3745.181638      2.759473     64.805294      0.875183      1.277939   \n",
       "min        1.000000      1.000000      1.000000      1.000000      5.000000   \n",
       "25%     3240.000000      5.000000    126.000000      1.000000      5.000000   \n",
       "50%     6545.000000      8.000000    197.000000      2.000000      7.000000   \n",
       "75%     9709.000000     10.000000    222.000000      2.000000      7.000000   \n",
       "max    12883.000000     12.000000    323.000000      5.000000     10.000000   \n",
       "\n",
       "             호실고유번호             층           평형대       계약자고유번호       계약서고유번호  \\\n",
       "count  86396.000000  86396.000000  86396.000000  86396.000000  86396.000000   \n",
       "mean   43437.677798      7.882703     13.290708  43448.372517  43449.208852   \n",
       "std    25087.744490      4.268012      2.385894  25084.916138  25084.419165   \n",
       "min        1.000000      1.000000     12.000000      1.000000      1.000000   \n",
       "25%    21711.000000      4.000000     12.000000  21721.000000  21731.000000   \n",
       "50%    43425.000000      8.000000     12.000000  43452.000000  43460.000000   \n",
       "75%    65154.000000     12.000000     15.000000  65162.000000  65170.000000   \n",
       "max    86891.000000     15.000000     19.000000  86892.000000  86904.000000   \n",
       "\n",
       "               입주연도          퇴거연도          거주연도          월세(원)        보증금(원)  \\\n",
       "count  86396.000000  86396.000000  86396.000000   86396.000000  8.639600e+04   \n",
       "mean    2005.240023   2016.701086   2013.988645   57673.339043  3.383964e+06   \n",
       "std        4.833842      1.773543      3.729936   30581.386006  2.380752e+06   \n",
       "min     1994.000000   2008.000000   2008.000000   31300.000000  1.520000e+06   \n",
       "25%     2002.000000   2017.000000   2011.000000   40300.000000  1.954000e+06   \n",
       "50%     2003.000000   2017.000000   2014.000000   43600.000000  2.144000e+06   \n",
       "75%     2008.000000   2017.000000   2017.000000   62900.000000  3.778000e+06   \n",
       "max     2020.000000   2020.000000   2020.000000  311080.000000  2.078400e+07   \n",
       "\n",
       "               대표나이            나이         거주자 수  \n",
       "count  86396.000000  86396.000000  86396.000000  \n",
       "mean      66.671594     59.660239      1.653097  \n",
       "std       12.951874     13.277499      0.927314  \n",
       "min       21.000000     20.000000      1.000000  \n",
       "25%       59.000000     51.000000      1.000000  \n",
       "50%       66.000000     59.000000      1.000000  \n",
       "75%       76.000000     69.000000      2.000000  \n",
       "max      121.000000    120.000000     10.000000  "
      ]
     },
     "execution_count": 14,
     "metadata": {},
     "output_type": "execute_result"
    }
   ],
   "source": [
    "# 결과 확인\n",
    "apt.info()\n",
    "apt.describe()"
   ]
  },
  {
   "cell_type": "code",
   "execution_count": 15,
   "metadata": {
    "colab": {
     "base_uri": "https://localhost:8080/"
    },
    "executionInfo": {
     "elapsed": 301,
     "status": "ok",
     "timestamp": 1705848013036,
     "user": {
      "displayName": "WOOSEOK JEONG",
      "userId": "01703662546986869335"
     },
     "user_tz": -540
    },
    "id": "r6hnPOsI4V_i",
    "outputId": "989de391-a9ea-4eb8-fa8f-5fca6406347d"
   },
   "outputs": [],
   "source": [
    "# # 범주형/ / 수치형 구분\n",
    "# cat = apt.select_dtypes(include=['object']).columns\n",
    "# num = apt.columns.difference(cat)\n",
    "# rem = ['계약서고유번호','계약자고유번호','아파트 ID','호실고유번호']\n",
    "# num = apt.columns.difference(rem)\n",
    "# print(cat)\n",
    "# print(num)"
   ]
  },
  {
   "cell_type": "markdown",
   "metadata": {
    "id": "hxHA89xvuBno"
   },
   "source": [
    "## 1.3\n",
    "이상치 처리"
   ]
  },
  {
   "cell_type": "code",
   "execution_count": 16,
   "metadata": {
    "executionInfo": {
     "elapsed": 4,
     "status": "aborted",
     "timestamp": 1705846474179,
     "user": {
      "displayName": "WOOSEOK JEONG",
      "userId": "01703662546986869335"
     },
     "user_tz": -540
    },
    "id": "Rw1mmoJDuDzc"
   },
   "outputs": [
    {
     "name": "stdout",
     "output_type": "stream",
     "text": [
      "Index(['계약구분', '아파트 이름', '성별', '결혼여부', '퇴거여부'], dtype='object')\n",
      "['보증금(원)', '대표나이', '순번', '퇴거연도', '거주연도', '나이', '월세(원)', '거주개월', '아파트 평점', '층', '거주자 수', '입주연도', '평형대', '재계약횟수']\n"
     ]
    }
   ],
   "source": [
    "# 범주형/ / 수치형 구분\n",
    "cat = apt.select_dtypes(include=['object']).columns\n",
    "num = apt.columns.difference(cat)\n",
    "rem = ['계약서고유번호','계약자고유번호','아파트 ID','호실고유번호']\n",
    "num = list(set(num)-set(rem))\n",
    "print(cat)\n",
    "print(num)"
   ]
  },
  {
   "cell_type": "code",
   "execution_count": 17,
   "metadata": {},
   "outputs": [],
   "source": [
    "num_ = list(set(num)-set(['보증금(원)','월세(원)','순번','퇴거연도','입주연도','거주연도']))"
   ]
  },
  {
   "cell_type": "code",
   "execution_count": 54,
   "metadata": {},
   "outputs": [
    {
     "data": {
      "image/png": "[encoded data removed]",
      "text/plain": [
       "<Figure size 2000x500 with 7 Axes>"
      ]
     },
     "metadata": {},
     "output_type": "display_data"
    }
   ],
   "source": [
    "apt[num_].plot(kind='box',figsize = (20,5), subplots=True)\n",
    "plt.tight_layout();"
   ]
  },
  {
   "cell_type": "markdown",
   "metadata": {},
   "source": [
    "- 이상치 나타나는 변수를 하나씩 확인"
   ]
  },
  {
   "cell_type": "code",
   "execution_count": 19,
   "metadata": {},
   "outputs": [
    {
     "data": {
      "text/plain": [
       "<Axes: >"
      ]
     },
     "execution_count": 19,
     "metadata": {},
     "output_type": "execute_result"
    },
    {
     "data": {
      "image/png": "[encoded data removed]",
      "text/plain": [
       "<Figure size 640x480 with 1 Axes>"
      ]
     },
     "metadata": {},
     "output_type": "display_data"
    }
   ],
   "source": [
    "apt['거주자 수'].plot(kind='box')"
   ]
  },
  {
   "cell_type": "code",
   "execution_count": 20,
   "metadata": {},
   "outputs": [
    {
     "data": {
      "text/plain": [
       "0.04897217463771471"
      ]
     },
     "execution_count": 20,
     "metadata": {},
     "output_type": "execute_result"
    }
   ],
   "source": [
    "def iqr(a) :\n",
    "    iqr = apt[a].quantile(0.75)-apt[a].quantile(0.25)\n",
    "    return (apt[a]>apt[a].quantile(0.75)+iqr*1.5) | (apt[a]<apt[a].quantile(0.25)-iqr*1.5) \n",
    "\n",
    "len(apt[iqr('거주자 수')])/len(apt)"
   ]
  },
  {
   "cell_type": "markdown",
   "metadata": {},
   "source": [
    "- 이상치 비중은 높지 않으며, 차이 크지 않으므로 log변환"
   ]
  },
  {
   "cell_type": "code",
   "execution_count": 21,
   "metadata": {},
   "outputs": [
    {
     "data": {
      "text/plain": [
       "<Axes: >"
      ]
     },
     "execution_count": 21,
     "metadata": {},
     "output_type": "execute_result"
    },
    {
     "data": {
      "image/png": "[encoded data removed]",
      "text/plain": [
       "<Figure size 640x480 with 1 Axes>"
      ]
     },
     "metadata": {},
     "output_type": "display_data"
    }
   ],
   "source": [
    "import numpy as np\n",
    "apt['거주자 수'] = np.log(apt[['거주자 수']])\n",
    "apt['거주자 수'].plot(kind='box')"
   ]
  },
  {
   "cell_type": "code",
   "execution_count": 22,
   "metadata": {},
   "outputs": [
    {
     "data": {
      "text/plain": [
       "<Axes: ylabel='Density'>"
      ]
     },
     "execution_count": 22,
     "metadata": {},
     "output_type": "execute_result"
    },
    {
     "data": {
      "image/png": "[encoded data removed]",
      "text/plain": [
       "<Figure size 640x480 with 1 Axes>"
      ]
     },
     "metadata": {},
     "output_type": "display_data"
    }
   ],
   "source": [
    "apt['거주자 수'].plot(kind='kde')"
   ]
  },
  {
   "cell_type": "code",
   "execution_count": 23,
   "metadata": {},
   "outputs": [
    {
     "data": {
      "text/plain": [
       "0.003368211491272744"
      ]
     },
     "execution_count": 23,
     "metadata": {},
     "output_type": "execute_result"
    }
   ],
   "source": [
    "len(apt[iqr('거주자 수')])/len(apt)"
   ]
  },
  {
   "cell_type": "code",
   "execution_count": 24,
   "metadata": {},
   "outputs": [
    {
     "data": {
      "text/html": [
       "<div>\n",
       "<style scoped>\n",
       "    .dataframe tbody tr th:only-of-type {\n",
       "        vertical-align: middle;\n",
       "    }\n",
       "\n",
       "    .dataframe tbody tr th {\n",
       "        vertical-align: top;\n",
       "    }\n",
       "\n",
       "    .dataframe thead th {\n",
       "        text-align: right;\n",
       "    }\n",
       "</style>\n",
       "<table border=\"1\" class=\"dataframe\">\n",
       "  <thead>\n",
       "    <tr style=\"text-align: right;\">\n",
       "      <th></th>\n",
       "      <th>순번</th>\n",
       "      <th>계약구분</th>\n",
       "      <th>재계약횟수</th>\n",
       "      <th>거주개월</th>\n",
       "      <th>아파트 이름</th>\n",
       "      <th>아파트 ID</th>\n",
       "      <th>아파트 평점</th>\n",
       "      <th>호실고유번호</th>\n",
       "      <th>층</th>\n",
       "      <th>평형대</th>\n",
       "      <th>...</th>\n",
       "      <th>퇴거연도</th>\n",
       "      <th>거주연도</th>\n",
       "      <th>월세(원)</th>\n",
       "      <th>보증금(원)</th>\n",
       "      <th>대표나이</th>\n",
       "      <th>나이</th>\n",
       "      <th>성별</th>\n",
       "      <th>결혼여부</th>\n",
       "      <th>거주자 수</th>\n",
       "      <th>퇴거여부</th>\n",
       "    </tr>\n",
       "  </thead>\n",
       "  <tbody>\n",
       "    <tr>\n",
       "      <th>1390</th>\n",
       "      <td>200</td>\n",
       "      <td>유효</td>\n",
       "      <td>9</td>\n",
       "      <td>222</td>\n",
       "      <td>까치아파트</td>\n",
       "      <td>4</td>\n",
       "      <td>10.0</td>\n",
       "      <td>6366</td>\n",
       "      <td>1</td>\n",
       "      <td>15</td>\n",
       "      <td>...</td>\n",
       "      <td>2017.0</td>\n",
       "      <td>2008</td>\n",
       "      <td>56300</td>\n",
       "      <td>4346000</td>\n",
       "      <td>52</td>\n",
       "      <td>39</td>\n",
       "      <td>남</td>\n",
       "      <td>기혼</td>\n",
       "      <td>1.791759</td>\n",
       "      <td>미퇴거</td>\n",
       "    </tr>\n",
       "    <tr>\n",
       "      <th>1391</th>\n",
       "      <td>200</td>\n",
       "      <td>유효</td>\n",
       "      <td>9</td>\n",
       "      <td>222</td>\n",
       "      <td>까치아파트</td>\n",
       "      <td>4</td>\n",
       "      <td>10.0</td>\n",
       "      <td>6366</td>\n",
       "      <td>1</td>\n",
       "      <td>15</td>\n",
       "      <td>...</td>\n",
       "      <td>2017.0</td>\n",
       "      <td>2009</td>\n",
       "      <td>70900</td>\n",
       "      <td>5476000</td>\n",
       "      <td>52</td>\n",
       "      <td>40</td>\n",
       "      <td>남</td>\n",
       "      <td>기혼</td>\n",
       "      <td>1.791759</td>\n",
       "      <td>미퇴거</td>\n",
       "    </tr>\n",
       "    <tr>\n",
       "      <th>1392</th>\n",
       "      <td>200</td>\n",
       "      <td>유효</td>\n",
       "      <td>9</td>\n",
       "      <td>222</td>\n",
       "      <td>까치아파트</td>\n",
       "      <td>4</td>\n",
       "      <td>10.0</td>\n",
       "      <td>6366</td>\n",
       "      <td>1</td>\n",
       "      <td>15</td>\n",
       "      <td>...</td>\n",
       "      <td>2017.0</td>\n",
       "      <td>2010</td>\n",
       "      <td>70900</td>\n",
       "      <td>5476000</td>\n",
       "      <td>52</td>\n",
       "      <td>41</td>\n",
       "      <td>남</td>\n",
       "      <td>기혼</td>\n",
       "      <td>1.791759</td>\n",
       "      <td>미퇴거</td>\n",
       "    </tr>\n",
       "    <tr>\n",
       "      <th>1393</th>\n",
       "      <td>200</td>\n",
       "      <td>유효</td>\n",
       "      <td>9</td>\n",
       "      <td>222</td>\n",
       "      <td>까치아파트</td>\n",
       "      <td>4</td>\n",
       "      <td>10.0</td>\n",
       "      <td>6366</td>\n",
       "      <td>1</td>\n",
       "      <td>15</td>\n",
       "      <td>...</td>\n",
       "      <td>2017.0</td>\n",
       "      <td>2011</td>\n",
       "      <td>60900</td>\n",
       "      <td>4700000</td>\n",
       "      <td>52</td>\n",
       "      <td>42</td>\n",
       "      <td>남</td>\n",
       "      <td>기혼</td>\n",
       "      <td>1.791759</td>\n",
       "      <td>미퇴거</td>\n",
       "    </tr>\n",
       "    <tr>\n",
       "      <th>1394</th>\n",
       "      <td>200</td>\n",
       "      <td>유효</td>\n",
       "      <td>9</td>\n",
       "      <td>222</td>\n",
       "      <td>까치아파트</td>\n",
       "      <td>4</td>\n",
       "      <td>10.0</td>\n",
       "      <td>6366</td>\n",
       "      <td>1</td>\n",
       "      <td>15</td>\n",
       "      <td>...</td>\n",
       "      <td>2017.0</td>\n",
       "      <td>2012</td>\n",
       "      <td>60900</td>\n",
       "      <td>4700000</td>\n",
       "      <td>52</td>\n",
       "      <td>43</td>\n",
       "      <td>남</td>\n",
       "      <td>기혼</td>\n",
       "      <td>1.791759</td>\n",
       "      <td>미퇴거</td>\n",
       "    </tr>\n",
       "    <tr>\n",
       "      <th>...</th>\n",
       "      <td>...</td>\n",
       "      <td>...</td>\n",
       "      <td>...</td>\n",
       "      <td>...</td>\n",
       "      <td>...</td>\n",
       "      <td>...</td>\n",
       "      <td>...</td>\n",
       "      <td>...</td>\n",
       "      <td>...</td>\n",
       "      <td>...</td>\n",
       "      <td>...</td>\n",
       "      <td>...</td>\n",
       "      <td>...</td>\n",
       "      <td>...</td>\n",
       "      <td>...</td>\n",
       "      <td>...</td>\n",
       "      <td>...</td>\n",
       "      <td>...</td>\n",
       "      <td>...</td>\n",
       "      <td>...</td>\n",
       "      <td>...</td>\n",
       "    </tr>\n",
       "    <tr>\n",
       "      <th>85838</th>\n",
       "      <td>12739</td>\n",
       "      <td>해지</td>\n",
       "      <td>1</td>\n",
       "      <td>171</td>\n",
       "      <td>지산5단지아파트</td>\n",
       "      <td>3</td>\n",
       "      <td>8.0</td>\n",
       "      <td>85838</td>\n",
       "      <td>8</td>\n",
       "      <td>19</td>\n",
       "      <td>...</td>\n",
       "      <td>2013.0</td>\n",
       "      <td>2009</td>\n",
       "      <td>69800</td>\n",
       "      <td>2440000</td>\n",
       "      <td>68</td>\n",
       "      <td>56</td>\n",
       "      <td>남</td>\n",
       "      <td>기혼</td>\n",
       "      <td>2.197225</td>\n",
       "      <td>미퇴거</td>\n",
       "    </tr>\n",
       "    <tr>\n",
       "      <th>85839</th>\n",
       "      <td>12739</td>\n",
       "      <td>해지</td>\n",
       "      <td>1</td>\n",
       "      <td>171</td>\n",
       "      <td>지산5단지아파트</td>\n",
       "      <td>3</td>\n",
       "      <td>8.0</td>\n",
       "      <td>85838</td>\n",
       "      <td>8</td>\n",
       "      <td>19</td>\n",
       "      <td>...</td>\n",
       "      <td>2013.0</td>\n",
       "      <td>2010</td>\n",
       "      <td>69800</td>\n",
       "      <td>2440000</td>\n",
       "      <td>68</td>\n",
       "      <td>57</td>\n",
       "      <td>남</td>\n",
       "      <td>기혼</td>\n",
       "      <td>2.197225</td>\n",
       "      <td>미퇴거</td>\n",
       "    </tr>\n",
       "    <tr>\n",
       "      <th>85840</th>\n",
       "      <td>12739</td>\n",
       "      <td>해지</td>\n",
       "      <td>1</td>\n",
       "      <td>171</td>\n",
       "      <td>지산5단지아파트</td>\n",
       "      <td>3</td>\n",
       "      <td>8.0</td>\n",
       "      <td>85838</td>\n",
       "      <td>8</td>\n",
       "      <td>19</td>\n",
       "      <td>...</td>\n",
       "      <td>2013.0</td>\n",
       "      <td>2011</td>\n",
       "      <td>69800</td>\n",
       "      <td>2440000</td>\n",
       "      <td>68</td>\n",
       "      <td>58</td>\n",
       "      <td>남</td>\n",
       "      <td>기혼</td>\n",
       "      <td>2.197225</td>\n",
       "      <td>미퇴거</td>\n",
       "    </tr>\n",
       "    <tr>\n",
       "      <th>85841</th>\n",
       "      <td>12739</td>\n",
       "      <td>해지</td>\n",
       "      <td>1</td>\n",
       "      <td>171</td>\n",
       "      <td>지산5단지아파트</td>\n",
       "      <td>3</td>\n",
       "      <td>8.0</td>\n",
       "      <td>85838</td>\n",
       "      <td>8</td>\n",
       "      <td>19</td>\n",
       "      <td>...</td>\n",
       "      <td>2013.0</td>\n",
       "      <td>2012</td>\n",
       "      <td>69800</td>\n",
       "      <td>2440000</td>\n",
       "      <td>68</td>\n",
       "      <td>59</td>\n",
       "      <td>남</td>\n",
       "      <td>기혼</td>\n",
       "      <td>2.197225</td>\n",
       "      <td>미퇴거</td>\n",
       "    </tr>\n",
       "    <tr>\n",
       "      <th>85842</th>\n",
       "      <td>12739</td>\n",
       "      <td>해지</td>\n",
       "      <td>1</td>\n",
       "      <td>171</td>\n",
       "      <td>지산5단지아파트</td>\n",
       "      <td>3</td>\n",
       "      <td>8.0</td>\n",
       "      <td>85838</td>\n",
       "      <td>8</td>\n",
       "      <td>19</td>\n",
       "      <td>...</td>\n",
       "      <td>2013.0</td>\n",
       "      <td>2013</td>\n",
       "      <td>69800</td>\n",
       "      <td>2440000</td>\n",
       "      <td>68</td>\n",
       "      <td>60</td>\n",
       "      <td>남</td>\n",
       "      <td>기혼</td>\n",
       "      <td>2.197225</td>\n",
       "      <td>퇴거</td>\n",
       "    </tr>\n",
       "  </tbody>\n",
       "</table>\n",
       "<p>291 rows × 23 columns</p>\n",
       "</div>"
      ],
      "text/plain": [
       "          순번 계약구분  재계약횟수  거주개월    아파트 이름  아파트 ID  아파트 평점  호실고유번호  층  평형대  ...  \\\n",
       "1390     200   유효      9   222     까치아파트       4    10.0    6366  1   15  ...   \n",
       "1391     200   유효      9   222     까치아파트       4    10.0    6366  1   15  ...   \n",
       "1392     200   유효      9   222     까치아파트       4    10.0    6366  1   15  ...   \n",
       "1393     200   유효      9   222     까치아파트       4    10.0    6366  1   15  ...   \n",
       "1394     200   유효      9   222     까치아파트       4    10.0    6366  1   15  ...   \n",
       "...      ...  ...    ...   ...       ...     ...     ...     ... ..  ...  ...   \n",
       "85838  12739   해지      1   171  지산5단지아파트       3     8.0   85838  8   19  ...   \n",
       "85839  12739   해지      1   171  지산5단지아파트       3     8.0   85838  8   19  ...   \n",
       "85840  12739   해지      1   171  지산5단지아파트       3     8.0   85838  8   19  ...   \n",
       "85841  12739   해지      1   171  지산5단지아파트       3     8.0   85838  8   19  ...   \n",
       "85842  12739   해지      1   171  지산5단지아파트       3     8.0   85838  8   19  ...   \n",
       "\n",
       "         퇴거연도  거주연도  월세(원)   보증금(원)  대표나이  나이  성별  결혼여부     거주자 수 퇴거여부  \n",
       "1390   2017.0  2008  56300  4346000    52  39   남    기혼  1.791759  미퇴거  \n",
       "1391   2017.0  2009  70900  5476000    52  40   남    기혼  1.791759  미퇴거  \n",
       "1392   2017.0  2010  70900  5476000    52  41   남    기혼  1.791759  미퇴거  \n",
       "1393   2017.0  2011  60900  4700000    52  42   남    기혼  1.791759  미퇴거  \n",
       "1394   2017.0  2012  60900  4700000    52  43   남    기혼  1.791759  미퇴거  \n",
       "...       ...   ...    ...      ...   ...  ..  ..   ...       ...  ...  \n",
       "85838  2013.0  2009  69800  2440000    68  56   남    기혼  2.197225  미퇴거  \n",
       "85839  2013.0  2010  69800  2440000    68  57   남    기혼  2.197225  미퇴거  \n",
       "85840  2013.0  2011  69800  2440000    68  58   남    기혼  2.197225  미퇴거  \n",
       "85841  2013.0  2012  69800  2440000    68  59   남    기혼  2.197225  미퇴거  \n",
       "85842  2013.0  2013  69800  2440000    68  60   남    기혼  2.197225   퇴거  \n",
       "\n",
       "[291 rows x 23 columns]"
      ]
     },
     "execution_count": 24,
     "metadata": {},
     "output_type": "execute_result"
    }
   ],
   "source": [
    "apt[iqr('거주자 수')]"
   ]
  },
  {
   "cell_type": "code",
   "execution_count": 25,
   "metadata": {},
   "outputs": [
    {
     "data": {
      "text/html": [
       "<div>\n",
       "<style scoped>\n",
       "    .dataframe tbody tr th:only-of-type {\n",
       "        vertical-align: middle;\n",
       "    }\n",
       "\n",
       "    .dataframe tbody tr th {\n",
       "        vertical-align: top;\n",
       "    }\n",
       "\n",
       "    .dataframe thead th {\n",
       "        text-align: right;\n",
       "    }\n",
       "</style>\n",
       "<table border=\"1\" class=\"dataframe\">\n",
       "  <thead>\n",
       "    <tr style=\"text-align: right;\">\n",
       "      <th></th>\n",
       "      <th>대표나이</th>\n",
       "      <th>나이</th>\n",
       "      <th>아파트 평점</th>\n",
       "      <th>거주개월</th>\n",
       "      <th>층</th>\n",
       "      <th>거주자 수</th>\n",
       "      <th>평형대</th>\n",
       "      <th>재계약횟수</th>\n",
       "    </tr>\n",
       "  </thead>\n",
       "  <tbody>\n",
       "    <tr>\n",
       "      <th>대표나이</th>\n",
       "      <td>1.000000</td>\n",
       "      <td>0.959858</td>\n",
       "      <td>0.027944</td>\n",
       "      <td>0.197614</td>\n",
       "      <td>-0.053765</td>\n",
       "      <td>-0.163939</td>\n",
       "      <td>-0.030917</td>\n",
       "      <td>0.213330</td>\n",
       "    </tr>\n",
       "    <tr>\n",
       "      <th>나이</th>\n",
       "      <td>0.959858</td>\n",
       "      <td>1.000000</td>\n",
       "      <td>0.027550</td>\n",
       "      <td>0.161790</td>\n",
       "      <td>-0.052242</td>\n",
       "      <td>-0.177822</td>\n",
       "      <td>-0.029988</td>\n",
       "      <td>0.182826</td>\n",
       "    </tr>\n",
       "    <tr>\n",
       "      <th>아파트 평점</th>\n",
       "      <td>0.027944</td>\n",
       "      <td>0.027550</td>\n",
       "      <td>1.000000</td>\n",
       "      <td>0.034851</td>\n",
       "      <td>-0.014496</td>\n",
       "      <td>0.047960</td>\n",
       "      <td>0.135552</td>\n",
       "      <td>0.093389</td>\n",
       "    </tr>\n",
       "    <tr>\n",
       "      <th>거주개월</th>\n",
       "      <td>0.197614</td>\n",
       "      <td>0.161790</td>\n",
       "      <td>0.034851</td>\n",
       "      <td>1.000000</td>\n",
       "      <td>0.010481</td>\n",
       "      <td>-0.053190</td>\n",
       "      <td>0.056279</td>\n",
       "      <td>0.942387</td>\n",
       "    </tr>\n",
       "    <tr>\n",
       "      <th>층</th>\n",
       "      <td>-0.053765</td>\n",
       "      <td>-0.052242</td>\n",
       "      <td>-0.014496</td>\n",
       "      <td>0.010481</td>\n",
       "      <td>1.000000</td>\n",
       "      <td>0.011528</td>\n",
       "      <td>-0.003984</td>\n",
       "      <td>0.003709</td>\n",
       "    </tr>\n",
       "    <tr>\n",
       "      <th>거주자 수</th>\n",
       "      <td>-0.163939</td>\n",
       "      <td>-0.177822</td>\n",
       "      <td>0.047960</td>\n",
       "      <td>-0.053190</td>\n",
       "      <td>0.011528</td>\n",
       "      <td>1.000000</td>\n",
       "      <td>0.295211</td>\n",
       "      <td>-0.084023</td>\n",
       "    </tr>\n",
       "    <tr>\n",
       "      <th>평형대</th>\n",
       "      <td>-0.030917</td>\n",
       "      <td>-0.029988</td>\n",
       "      <td>0.135552</td>\n",
       "      <td>0.056279</td>\n",
       "      <td>-0.003984</td>\n",
       "      <td>0.295211</td>\n",
       "      <td>1.000000</td>\n",
       "      <td>0.058962</td>\n",
       "    </tr>\n",
       "    <tr>\n",
       "      <th>재계약횟수</th>\n",
       "      <td>0.213330</td>\n",
       "      <td>0.182826</td>\n",
       "      <td>0.093389</td>\n",
       "      <td>0.942387</td>\n",
       "      <td>0.003709</td>\n",
       "      <td>-0.084023</td>\n",
       "      <td>0.058962</td>\n",
       "      <td>1.000000</td>\n",
       "    </tr>\n",
       "  </tbody>\n",
       "</table>\n",
       "</div>"
      ],
      "text/plain": [
       "            대표나이        나이    아파트 평점      거주개월         층     거주자 수       평형대  \\\n",
       "대표나이    1.000000  0.959858  0.027944  0.197614 -0.053765 -0.163939 -0.030917   \n",
       "나이      0.959858  1.000000  0.027550  0.161790 -0.052242 -0.177822 -0.029988   \n",
       "아파트 평점  0.027944  0.027550  1.000000  0.034851 -0.014496  0.047960  0.135552   \n",
       "거주개월    0.197614  0.161790  0.034851  1.000000  0.010481 -0.053190  0.056279   \n",
       "층      -0.053765 -0.052242 -0.014496  0.010481  1.000000  0.011528 -0.003984   \n",
       "거주자 수  -0.163939 -0.177822  0.047960 -0.053190  0.011528  1.000000  0.295211   \n",
       "평형대    -0.030917 -0.029988  0.135552  0.056279 -0.003984  0.295211  1.000000   \n",
       "재계약횟수   0.213330  0.182826  0.093389  0.942387  0.003709 -0.084023  0.058962   \n",
       "\n",
       "           재계약횟수  \n",
       "대표나이    0.213330  \n",
       "나이      0.182826  \n",
       "아파트 평점  0.093389  \n",
       "거주개월    0.942387  \n",
       "층       0.003709  \n",
       "거주자 수  -0.084023  \n",
       "평형대     0.058962  \n",
       "재계약횟수   1.000000  "
      ]
     },
     "execution_count": 25,
     "metadata": {},
     "output_type": "execute_result"
    }
   ],
   "source": [
    "apt[num_].corr()"
   ]
  },
  {
   "cell_type": "markdown",
   "metadata": {},
   "source": [
    "- 다중공선성을 일으킬 수 있으므로 나이와 대표나이 중 하나를 제거하는게 낫다.\n",
    "    - 나이가 대표나이보다 더 많은 수치를 보이므로 대표나이를 제거"
   ]
  },
  {
   "cell_type": "code",
   "execution_count": 26,
   "metadata": {},
   "outputs": [],
   "source": [
    "num_ = list(set(num_)-set(['대표나이']))"
   ]
  },
  {
   "cell_type": "code",
   "execution_count": 27,
   "metadata": {},
   "outputs": [
    {
     "data": {
      "text/plain": [
       "<Axes: >"
      ]
     },
     "execution_count": 27,
     "metadata": {},
     "output_type": "execute_result"
    },
    {
     "data": {
      "image/png": "[encoded data removed]",
      "text/plain": [
       "<Figure size 640x480 with 1 Axes>"
      ]
     },
     "metadata": {},
     "output_type": "display_data"
    }
   ],
   "source": [
    "apt['나이'].plot(kind='box')"
   ]
  },
  {
   "cell_type": "code",
   "execution_count": 28,
   "metadata": {},
   "outputs": [
    {
     "data": {
      "text/plain": [
       "0.006331311634797907"
      ]
     },
     "execution_count": 28,
     "metadata": {},
     "output_type": "execute_result"
    }
   ],
   "source": [
    "len(apt[iqr('나이')])/len(apt)"
   ]
  },
  {
   "cell_type": "code",
   "execution_count": 29,
   "metadata": {},
   "outputs": [
    {
     "data": {
      "text/plain": [
       "<Axes: >"
      ]
     },
     "execution_count": 29,
     "metadata": {},
     "output_type": "execute_result"
    },
    {
     "data": {
      "image/png": "[encoded data removed]",
      "text/plain": [
       "<Figure size 640x480 with 1 Axes>"
      ]
     },
     "metadata": {},
     "output_type": "display_data"
    }
   ],
   "source": [
    "apt['나이'] = np.log(apt[['나이']])\n",
    "apt['나이'].plot(kind='box')"
   ]
  },
  {
   "cell_type": "code",
   "execution_count": 30,
   "metadata": {},
   "outputs": [
    {
     "data": {
      "text/plain": [
       "0.028230473633038565"
      ]
     },
     "execution_count": 30,
     "metadata": {},
     "output_type": "execute_result"
    }
   ],
   "source": [
    "len(apt[iqr('나이')])/len(apt)"
   ]
  },
  {
   "cell_type": "markdown",
   "metadata": {},
   "source": [
    "- log변환으로는 처리가 되지 않으므로 역치환 후 "
   ]
  },
  {
   "cell_type": "code",
   "execution_count": 31,
   "metadata": {},
   "outputs": [],
   "source": [
    "apt['나이'] = np.exp(apt[['나이']])\n"
   ]
  },
  {
   "cell_type": "code",
   "execution_count": 32,
   "metadata": {},
   "outputs": [
    {
     "data": {
      "text/plain": [
       "51.0"
      ]
     },
     "execution_count": 32,
     "metadata": {},
     "output_type": "execute_result"
    }
   ],
   "source": [
    "apt['나이'].quantile(0.25)"
   ]
  },
  {
   "cell_type": "code",
   "execution_count": 33,
   "metadata": {},
   "outputs": [
    {
     "data": {
      "text/plain": [
       "<Axes: >"
      ]
     },
     "execution_count": 33,
     "metadata": {},
     "output_type": "execute_result"
    },
    {
     "data": {
      "image/png": "[encoded data removed]",
      "text/plain": [
       "<Figure size 640x480 with 1 Axes>"
      ]
     },
     "metadata": {},
     "output_type": "display_data"
    }
   ],
   "source": [
    "apt[['보증금(원)','월세(원)']].plot(kind='box')"
   ]
  },
  {
   "cell_type": "code",
   "execution_count": null,
   "metadata": {},
   "outputs": [],
   "source": []
  },
  {
   "cell_type": "markdown",
   "metadata": {
    "id": "1kSo7xc5uEhc"
   },
   "source": [
    "## 2-1\n",
    "\n",
    "재계약 횟수의 중앙값을 기준으로 중앙값보다 크거나 같으면 ‘높음’, 작으면 ‘낮음’ 으로 재계약 횟수 이분 변수를 구성하시오."
   ]
  },
  {
   "cell_type": "code",
   "execution_count": null,
   "metadata": {
    "executionInfo": {
     "elapsed": 4,
     "status": "aborted",
     "timestamp": 1705846474179,
     "user": {
      "displayName": "WOOSEOK JEONG",
      "userId": "01703662546986869335"
     },
     "user_tz": -540
    },
    "id": "jeAUE9lUuGeZ"
   },
   "outputs": [],
   "source": []
  },
  {
   "cell_type": "markdown",
   "metadata": {
    "id": "K9Eq6eY1uL0n"
   },
   "source": [
    "## 2-2\n",
    "\n",
    "차원축소의 필요성을 논하고, 필요에 따라 차원을 축소하고 불필요하다면 그 근거를 논하시오."
   ]
  },
  {
   "cell_type": "code",
   "execution_count": null,
   "metadata": {
    "executionInfo": {
     "elapsed": 4,
     "status": "aborted",
     "timestamp": 1705846474179,
     "user": {
      "displayName": "WOOSEOK JEONG",
      "userId": "01703662546986869335"
     },
     "user_tz": -540
    },
    "id": "QZtPA-yC3GI5"
   },
   "outputs": [],
   "source": []
  },
  {
   "cell_type": "markdown",
   "metadata": {
    "id": "207X1NRPucG-"
   },
   "source": [
    "## 3-1\n",
    "\n",
    "재계약 횟수 이분변수를 기준으로 세그먼트를 구분하고 각 세그먼트의 특징을 분석하시오."
   ]
  },
  {
   "cell_type": "code",
   "execution_count": null,
   "metadata": {
    "executionInfo": {
     "elapsed": 4,
     "status": "aborted",
     "timestamp": 1705846474179,
     "user": {
      "displayName": "WOOSEOK JEONG",
      "userId": "01703662546986869335"
     },
     "user_tz": -540
    },
    "id": "bEkpayt03ICN"
   },
   "outputs": [],
   "source": []
  },
  {
   "cell_type": "markdown",
   "metadata": {
    "id": "Qgcnd9YD3I5q"
   },
   "source": [
    "## 3-2\n",
    "\n",
    "재계약횟수 변수를 종속변수로 하는 회귀 분석을 두 가지 이상의 방법론을 통해 수행하고 최종 모델을 결정하시오. 재계약횟수 이분변수를 종속변수로 하는 분류 분석을 두가지 이상의 방법론을 통해 수행하고 최종 모델을 결정하시오."
   ]
  },
  {
   "cell_type": "code",
   "execution_count": null,
   "metadata": {
    "executionInfo": {
     "elapsed": 5,
     "status": "aborted",
     "timestamp": 1705846474180,
     "user": {
      "displayName": "WOOSEOK JEONG",
      "userId": "01703662546986869335"
     },
     "user_tz": -540
    },
    "id": "W31mnuNg3LPW"
   },
   "outputs": [],
   "source": []
  },
  {
   "cell_type": "markdown",
   "metadata": {
    "id": "idHWox4t3MAu"
   },
   "source": [
    "## 3-3\n",
    "\n",
    "최종 채택한 모델에서 각각 유의하게 작용하는 변수를 확인 하고 설명하시오"
   ]
  },
  {
   "cell_type": "code",
   "execution_count": null,
   "metadata": {
    "executionInfo": {
     "elapsed": 5,
     "status": "aborted",
     "timestamp": 1705846474180,
     "user": {
      "displayName": "WOOSEOK JEONG",
      "userId": "01703662546986869335"
     },
     "user_tz": -540
    },
    "id": "AAFwN9kw3OVF"
   },
   "outputs": [],
   "source": []
  },
  {
   "cell_type": "markdown",
   "metadata": {
    "id": "oipGbkjm3PjJ"
   },
   "source": [
    "## 3-4\n",
    "\n",
    "해당 데이터 분석결과로 얻을 수 있는 점 제시"
   ]
  },
  {
   "cell_type": "code",
   "execution_count": null,
   "metadata": {
    "executionInfo": {
     "elapsed": 5,
     "status": "aborted",
     "timestamp": 1705846474180,
     "user": {
      "displayName": "WOOSEOK JEONG",
      "userId": "01703662546986869335"
     },
     "user_tz": -540
    },
    "id": "dyu6gQCO3RnX"
   },
   "outputs": [],
   "source": []
  },
  {
   "cell_type": "code",
   "execution_count": null,
   "metadata": {
    "executionInfo": {
     "elapsed": 5,
     "status": "aborted",
     "timestamp": 1705846474180,
     "user": {
      "displayName": "WOOSEOK JEONG",
      "userId": "01703662546986869335"
     },
     "user_tz": -540
    },
    "id": "UqoDYI8b38Ie"
   },
   "outputs": [],
   "source": []
  },
  {
   "cell_type": "markdown",
   "metadata": {
    "id": "PJANyw2Y38ve"
   },
   "source": [
    "# 야구데이터"
   ]
  },
  {
   "cell_type": "markdown",
   "metadata": {
    "id": "Uo3DfrA83UMP"
   },
   "source": [
    "## 4-1\n",
    "\n",
    "각 회차별로 1번 타자의 출루 (1,2,3루타와 사사구(볼넷, 몸에맞는공))가 있는 경우에 대해 득점이 발생 했는지 확인하고자 한다. 이를 위한 전처리를 수행하라. (단, 첫 번째 혹은 두 번째 타자가 홈런을 친 경우 해당 회차 데이터는 제외한다.)\n",
    "\n",
    "데이터 출처 : https://www.kaggle.com/datasets/pschale/mlb-pitch-data-20152018 데이터를 후처리\n",
    "\n",
    "데이터 링크 : https://raw.githubusercontent.com/Datamanim/datarepo/main/adp/29/p2_.csv\n",
    "\n",
    "데이터 설명 :\n",
    "\n",
    "A 야구구단의 시합 결과중 일부를 나타낸다.\n",
    "각 행은 하나의 경기를 의미(game_id)하며 9회차(= 9이닝) 동안 1번타자, 2번타자의 출루 정보를 의미한다.\n",
    "각 컬럼에 대한 설명은 아래 이미지와 같으며, value값의 index는 이미지의 ‘수치 의미’ 열을 통해 확인 할 수 있다."
   ]
  },
  {
   "cell_type": "code",
   "execution_count": 34,
   "metadata": {
    "executionInfo": {
     "elapsed": 5,
     "status": "aborted",
     "timestamp": 1705846474180,
     "user": {
      "displayName": "WOOSEOK JEONG",
      "userId": "01703662546986869335"
     },
     "user_tz": -540
    },
    "id": "Yccj6xdz3V6n"
   },
   "outputs": [
    {
     "name": "stdout",
     "output_type": "stream",
     "text": [
      "<class 'pandas.core.frame.DataFrame'>\n",
      "RangeIndex: 200 entries, 0 to 199\n",
      "Data columns (total 28 columns):\n",
      " #   Column   Non-Null Count  Dtype \n",
      "---  ------   --------------  ----- \n",
      " 0   game_id  200 non-null    int64 \n",
      " 1   a1_1     200 non-null    object\n",
      " 2   a1_2     200 non-null    int64 \n",
      " 3   a2_1     200 non-null    object\n",
      " 4   a2_2     200 non-null    int64 \n",
      " 5   a3_1     200 non-null    int64 \n",
      " 6   a3_2     200 non-null    int64 \n",
      " 7   a4_1     200 non-null    object\n",
      " 8   a4_2     200 non-null    int64 \n",
      " 9   a5_1     200 non-null    int64 \n",
      " 10  a5_2     200 non-null    int64 \n",
      " 11  a6_1     200 non-null    int64 \n",
      " 12  a6_2     200 non-null    int64 \n",
      " 13  a7_1     200 non-null    object\n",
      " 14  a7_2     200 non-null    int64 \n",
      " 15  a8_1     200 non-null    int64 \n",
      " 16  a8_2     200 non-null    int64 \n",
      " 17  a9_1     200 non-null    int64 \n",
      " 18  a9_2     200 non-null    int64 \n",
      " 19  b1       200 non-null    int64 \n",
      " 20  b2       200 non-null    int64 \n",
      " 21  b3       200 non-null    int64 \n",
      " 22  b4       200 non-null    int64 \n",
      " 23  b5       200 non-null    int64 \n",
      " 24  b6       200 non-null    int64 \n",
      " 25  b7       200 non-null    int64 \n",
      " 26  b8       200 non-null    int64 \n",
      " 27  b9       200 non-null    int64 \n",
      "dtypes: int64(24), object(4)\n",
      "memory usage: 43.9+ KB\n"
     ]
    }
   ],
   "source": [
    "import pandas as pd\n",
    "df = pd.read_csv('https://raw.githubusercontent.com/Datamanim/datarepo/main/adp/29/p2_.csv')\n",
    "df.info()"
   ]
  },
  {
   "cell_type": "code",
   "execution_count": 35,
   "metadata": {},
   "outputs": [
    {
     "name": "stdout",
     "output_type": "stream",
     "text": [
      "<class 'pandas.core.frame.DataFrame'>\n",
      "RangeIndex: 1800 entries, 0 to 1799\n",
      "Data columns (total 4 columns):\n",
      " #   Column  Non-Null Count  Dtype \n",
      "---  ------  --------------  ----- \n",
      " 0   ining   1800 non-null   int64 \n",
      " 1   seq_1   1800 non-null   object\n",
      " 2   seq_2   1800 non-null   object\n",
      " 3   score   1800 non-null   int64 \n",
      "dtypes: int64(2), object(2)\n",
      "memory usage: 56.4+ KB\n"
     ]
    }
   ],
   "source": [
    "hitter = pd.DataFrame(df.iloc[:,1:19].values.reshape(-1,2),columns = ['seq_1','seq_2'])\n",
    "score = pd.DataFrame(df.iloc[:,19:].values.reshape(-1,1),columns = ['score'])\n",
    "ining = pd.DataFrame([i for i in range(1,10)]*200,columns=['ining'])\n",
    "df  = pd.concat([ining, hitter, score],axis=1)\n",
    "df.info()"
   ]
  },
  {
   "cell_type": "code",
   "execution_count": 36,
   "metadata": {},
   "outputs": [
    {
     "name": "stdout",
     "output_type": "stream",
     "text": [
      "['5' 5 7 1 '6' 2 '1' 6 4 '2' '7' '4' 8 3 '\"' ' ' '8' '&' '3' ' :'] [5 1 4 6 7 9 2 8 3]\n"
     ]
    }
   ],
   "source": [
    "print(df['seq_1'].unique(),df['seq_2'].unique())"
   ]
  },
  {
   "cell_type": "code",
   "execution_count": 37,
   "metadata": {},
   "outputs": [],
   "source": [
    "dic = {'5':5, 5:5, 7:7, 1:1, '6':6, 2:2, '1':1, 6:6, 4:4, '2':2, '7':7, '4':4, 8:8, 3:3, '\"':0, ' ':0, '8':8, '&':8, '3':3, ' :':0}\n",
    "df['seq_1'] = df['seq_1'].map(dic)"
   ]
  },
  {
   "cell_type": "markdown",
   "metadata": {},
   "source": [
    "- 첫번째, 두번째 타자가 홈런친경우 제외\n",
    "- 1번타자의 출루 시 (1,2,3루타와 사사구) 있는 경우의 득점여부"
   ]
  },
  {
   "cell_type": "code",
   "execution_count": 38,
   "metadata": {},
   "outputs": [],
   "source": [
    "X = [1,2,3,6,8]\n",
    "res = df[(df['seq_1'] !=4) & (df['seq_1'] !=4)]# 홈런제외\n",
    "res = res[res['seq_1'].isin(X)]"
   ]
  },
  {
   "cell_type": "code",
   "execution_count": 39,
   "metadata": {},
   "outputs": [],
   "source": [
    "res['seq_1'] = res['seq_1'].astype(str)\n",
    "res['seq_2'] = res['seq_2'].astype(str)"
   ]
  },
  {
   "cell_type": "markdown",
   "metadata": {
    "id": "Arlzc_RT3ZeN"
   },
   "source": [
    "## 4-2\n",
    "\n",
    "4-1 데이터에 대해 Logistic Regression을 적용하고 2번타자의 희생번트 여부에 대한 회귀 계수 검정을 하라"
   ]
  },
  {
   "cell_type": "code",
   "execution_count": 40,
   "metadata": {
    "executionInfo": {
     "elapsed": 5,
     "status": "aborted",
     "timestamp": 1705846474180,
     "user": {
      "displayName": "WOOSEOK JEONG",
      "userId": "01703662546986869335"
     },
     "user_tz": -540
    },
    "id": "OAGuLiSP3afl"
   },
   "outputs": [
    {
     "name": "stdout",
     "output_type": "stream",
     "text": [
      "         Current function value: 0.571838\n",
      "         Iterations: 35\n",
      "         Function evaluations: 38\n",
      "         Gradient evaluations: 38\n"
     ]
    },
    {
     "name": "stderr",
     "output_type": "stream",
     "text": [
      "E:\\miniconda\\envs\\tw311\\Lib\\site-packages\\statsmodels\\base\\model.py:607: ConvergenceWarning: Maximum Likelihood optimization failed to converge. Check mle_retvals\n",
      "  warnings.warn(\"Maximum Likelihood optimization failed to \"\n"
     ]
    },
    {
     "data": {
      "text/html": [
       "<table class=\"simpletable\">\n",
       "<caption>Logit Regression Results</caption>\n",
       "<tr>\n",
       "  <th>Dep. Variable:</th>         <td>score</td>      <th>  No. Observations:  </th>  <td>   567</td>  \n",
       "</tr>\n",
       "<tr>\n",
       "  <th>Model:</th>                 <td>Logit</td>      <th>  Df Residuals:      </th>  <td>   553</td>  \n",
       "</tr>\n",
       "<tr>\n",
       "  <th>Method:</th>                 <td>MLE</td>       <th>  Df Model:          </th>  <td>    13</td>  \n",
       "</tr>\n",
       "<tr>\n",
       "  <th>Date:</th>            <td>Fri, 26 Apr 2024</td> <th>  Pseudo R-squ.:     </th>  <td>0.1556</td>  \n",
       "</tr>\n",
       "<tr>\n",
       "  <th>Time:</th>                <td>14:47:05</td>     <th>  Log-Likelihood:    </th> <td> -324.23</td> \n",
       "</tr>\n",
       "<tr>\n",
       "  <th>converged:</th>             <td>False</td>      <th>  LL-Null:           </th> <td> -383.97</td> \n",
       "</tr>\n",
       "<tr>\n",
       "  <th>Covariance Type:</th>     <td>nonrobust</td>    <th>  LLR p-value:       </th> <td>2.555e-19</td>\n",
       "</tr>\n",
       "</table>\n",
       "<table class=\"simpletable\">\n",
       "<tr>\n",
       "       <td></td>         <th>coef</th>     <th>std err</th>      <th>z</th>      <th>P>|z|</th>  <th>[0.025</th>    <th>0.975]</th>  \n",
       "</tr>\n",
       "<tr>\n",
       "  <th>Intercept</th>  <td>    1.4710</td> <td>    0.365</td> <td>    4.031</td> <td> 0.000</td> <td>    0.756</td> <td>    2.186</td>\n",
       "</tr>\n",
       "<tr>\n",
       "  <th>seq_1[T.2]</th> <td>    0.3252</td> <td>    0.248</td> <td>    1.312</td> <td> 0.190</td> <td>   -0.161</td> <td>    0.811</td>\n",
       "</tr>\n",
       "<tr>\n",
       "  <th>seq_1[T.3]</th> <td>    1.1628</td> <td>    0.985</td> <td>    1.181</td> <td> 0.238</td> <td>   -0.767</td> <td>    3.093</td>\n",
       "</tr>\n",
       "<tr>\n",
       "  <th>seq_1[T.6]</th> <td>    0.0062</td> <td>    0.230</td> <td>    0.027</td> <td> 0.978</td> <td>   -0.444</td> <td>    0.457</td>\n",
       "</tr>\n",
       "<tr>\n",
       "  <th>seq_1[T.8]</th> <td>   -0.7720</td> <td>    0.516</td> <td>   -1.497</td> <td> 0.134</td> <td>   -1.783</td> <td>    0.239</td>\n",
       "</tr>\n",
       "<tr>\n",
       "  <th>seq_2[T.2]</th> <td>    1.5544</td> <td>    1.093</td> <td>    1.423</td> <td> 0.155</td> <td>   -0.587</td> <td>    3.696</td>\n",
       "</tr>\n",
       "<tr>\n",
       "  <th>seq_2[T.3]</th> <td>    0.5347</td> <td>    1.787</td> <td>    0.299</td> <td> 0.765</td> <td>   -2.967</td> <td>    4.037</td>\n",
       "</tr>\n",
       "<tr>\n",
       "  <th>seq_2[T.4]</th> <td>    2.6041</td> <td>    1.454</td> <td>    1.791</td> <td> 0.073</td> <td>   -0.246</td> <td>    5.454</td>\n",
       "</tr>\n",
       "<tr>\n",
       "  <th>seq_2[T.5]</th> <td>   -1.6559</td> <td>    0.318</td> <td>   -5.212</td> <td> 0.000</td> <td>   -2.279</td> <td>   -1.033</td>\n",
       "</tr>\n",
       "<tr>\n",
       "  <th>seq_2[T.6]</th> <td>   -0.5402</td> <td>    0.491</td> <td>   -1.100</td> <td> 0.271</td> <td>   -1.503</td> <td>    0.422</td>\n",
       "</tr>\n",
       "<tr>\n",
       "  <th>seq_2[T.7]</th> <td>   -2.2754</td> <td>    0.369</td> <td>   -6.174</td> <td> 0.000</td> <td>   -2.998</td> <td>   -1.553</td>\n",
       "</tr>\n",
       "<tr>\n",
       "  <th>seq_2[T.8]</th> <td>   -0.0694</td> <td>    1.340</td> <td>   -0.052</td> <td> 0.959</td> <td>   -2.696</td> <td>    2.557</td>\n",
       "</tr>\n",
       "<tr>\n",
       "  <th>seq_2[T.9]</th> <td>   -0.5627</td> <td>    0.375</td> <td>   -1.500</td> <td> 0.134</td> <td>   -1.298</td> <td>    0.172</td>\n",
       "</tr>\n",
       "<tr>\n",
       "  <th>ining</th>      <td>   -0.0071</td> <td>    0.039</td> <td>   -0.183</td> <td> 0.855</td> <td>   -0.084</td> <td>    0.069</td>\n",
       "</tr>\n",
       "</table>"
      ],
      "text/latex": [
       "\\begin{center}\n",
       "\\begin{tabular}{lclc}\n",
       "\\toprule\n",
       "\\textbf{Dep. Variable:}   &      score       & \\textbf{  No. Observations:  } &      567    \\\\\n",
       "\\textbf{Model:}           &      Logit       & \\textbf{  Df Residuals:      } &      553    \\\\\n",
       "\\textbf{Method:}          &       MLE        & \\textbf{  Df Model:          } &       13    \\\\\n",
       "\\textbf{Date:}            & Fri, 26 Apr 2024 & \\textbf{  Pseudo R-squ.:     } &   0.1556    \\\\\n",
       "\\textbf{Time:}            &     14:47:05     & \\textbf{  Log-Likelihood:    } &   -324.23   \\\\\n",
       "\\textbf{converged:}       &      False       & \\textbf{  LL-Null:           } &   -383.97   \\\\\n",
       "\\textbf{Covariance Type:} &    nonrobust     & \\textbf{  LLR p-value:       } & 2.555e-19   \\\\\n",
       "\\bottomrule\n",
       "\\end{tabular}\n",
       "\\begin{tabular}{lcccccc}\n",
       "                     & \\textbf{coef} & \\textbf{std err} & \\textbf{z} & \\textbf{P$> |$z$|$} & \\textbf{[0.025} & \\textbf{0.975]}  \\\\\n",
       "\\midrule\n",
       "\\textbf{Intercept}   &       1.4710  &        0.365     &     4.031  &         0.000        &        0.756    &        2.186     \\\\\n",
       "\\textbf{seq\\_1[T.2]} &       0.3252  &        0.248     &     1.312  &         0.190        &       -0.161    &        0.811     \\\\\n",
       "\\textbf{seq\\_1[T.3]} &       1.1628  &        0.985     &     1.181  &         0.238        &       -0.767    &        3.093     \\\\\n",
       "\\textbf{seq\\_1[T.6]} &       0.0062  &        0.230     &     0.027  &         0.978        &       -0.444    &        0.457     \\\\\n",
       "\\textbf{seq\\_1[T.8]} &      -0.7720  &        0.516     &    -1.497  &         0.134        &       -1.783    &        0.239     \\\\\n",
       "\\textbf{seq\\_2[T.2]} &       1.5544  &        1.093     &     1.423  &         0.155        &       -0.587    &        3.696     \\\\\n",
       "\\textbf{seq\\_2[T.3]} &       0.5347  &        1.787     &     0.299  &         0.765        &       -2.967    &        4.037     \\\\\n",
       "\\textbf{seq\\_2[T.4]} &       2.6041  &        1.454     &     1.791  &         0.073        &       -0.246    &        5.454     \\\\\n",
       "\\textbf{seq\\_2[T.5]} &      -1.6559  &        0.318     &    -5.212  &         0.000        &       -2.279    &       -1.033     \\\\\n",
       "\\textbf{seq\\_2[T.6]} &      -0.5402  &        0.491     &    -1.100  &         0.271        &       -1.503    &        0.422     \\\\\n",
       "\\textbf{seq\\_2[T.7]} &      -2.2754  &        0.369     &    -6.174  &         0.000        &       -2.998    &       -1.553     \\\\\n",
       "\\textbf{seq\\_2[T.8]} &      -0.0694  &        1.340     &    -0.052  &         0.959        &       -2.696    &        2.557     \\\\\n",
       "\\textbf{seq\\_2[T.9]} &      -0.5627  &        0.375     &    -1.500  &         0.134        &       -1.298    &        0.172     \\\\\n",
       "\\textbf{ining}       &      -0.0071  &        0.039     &    -0.183  &         0.855        &       -0.084    &        0.069     \\\\\n",
       "\\bottomrule\n",
       "\\end{tabular}\n",
       "%\\caption{Logit Regression Results}\n",
       "\\end{center}"
      ],
      "text/plain": [
       "<class 'statsmodels.iolib.summary.Summary'>\n",
       "\"\"\"\n",
       "                           Logit Regression Results                           \n",
       "==============================================================================\n",
       "Dep. Variable:                  score   No. Observations:                  567\n",
       "Model:                          Logit   Df Residuals:                      553\n",
       "Method:                           MLE   Df Model:                           13\n",
       "Date:                Fri, 26 Apr 2024   Pseudo R-squ.:                  0.1556\n",
       "Time:                        14:47:05   Log-Likelihood:                -324.23\n",
       "converged:                      False   LL-Null:                       -383.97\n",
       "Covariance Type:            nonrobust   LLR p-value:                 2.555e-19\n",
       "==============================================================================\n",
       "                 coef    std err          z      P>|z|      [0.025      0.975]\n",
       "------------------------------------------------------------------------------\n",
       "Intercept      1.4710      0.365      4.031      0.000       0.756       2.186\n",
       "seq_1[T.2]     0.3252      0.248      1.312      0.190      -0.161       0.811\n",
       "seq_1[T.3]     1.1628      0.985      1.181      0.238      -0.767       3.093\n",
       "seq_1[T.6]     0.0062      0.230      0.027      0.978      -0.444       0.457\n",
       "seq_1[T.8]    -0.7720      0.516     -1.497      0.134      -1.783       0.239\n",
       "seq_2[T.2]     1.5544      1.093      1.423      0.155      -0.587       3.696\n",
       "seq_2[T.3]     0.5347      1.787      0.299      0.765      -2.967       4.037\n",
       "seq_2[T.4]     2.6041      1.454      1.791      0.073      -0.246       5.454\n",
       "seq_2[T.5]    -1.6559      0.318     -5.212      0.000      -2.279      -1.033\n",
       "seq_2[T.6]    -0.5402      0.491     -1.100      0.271      -1.503       0.422\n",
       "seq_2[T.7]    -2.2754      0.369     -6.174      0.000      -2.998      -1.553\n",
       "seq_2[T.8]    -0.0694      1.340     -0.052      0.959      -2.696       2.557\n",
       "seq_2[T.9]    -0.5627      0.375     -1.500      0.134      -1.298       0.172\n",
       "ining         -0.0071      0.039     -0.183      0.855      -0.084       0.069\n",
       "==============================================================================\n",
       "\"\"\""
      ]
     },
     "execution_count": 40,
     "metadata": {},
     "output_type": "execute_result"
    }
   ],
   "source": [
    "import statsmodels.formula.api as smf\n",
    "\n",
    "res['score'] = res['score'].apply(lambda x : 1 if x>=1 else 0)\n",
    "formula= 'score~'+'+'.join(res.columns.difference(['score']))\n",
    "model = smf.logit(formula,data=res).fit(method='bfgs')\n",
    "model.summary()"
   ]
  },
  {
   "cell_type": "markdown",
   "metadata": {
    "id": "fGZO48Ya3bib"
   },
   "source": [
    "## 4-3\n",
    "\n",
    "SMOTE (random_state =0 지정)를 적용하여 data imbalance를 해결하라"
   ]
  },
  {
   "cell_type": "code",
   "execution_count": 41,
   "metadata": {},
   "outputs": [
    {
     "data": {
      "text/plain": [
       "score\n",
       "1    334\n",
       "0    233\n",
       "Name: count, dtype: int64"
      ]
     },
     "execution_count": 41,
     "metadata": {},
     "output_type": "execute_result"
    }
   ],
   "source": [
    "res['score'].value_counts()"
   ]
  },
  {
   "cell_type": "code",
   "execution_count": 42,
   "metadata": {
    "executionInfo": {
     "elapsed": 4,
     "status": "aborted",
     "timestamp": 1705846474180,
     "user": {
      "displayName": "WOOSEOK JEONG",
      "userId": "01703662546986869335"
     },
     "user_tz": -540
    },
    "id": "LgqfCh7K3dxK"
   },
   "outputs": [
    {
     "data": {
      "text/plain": [
       "score\n",
       "1    334\n",
       "0    334\n",
       "Name: count, dtype: int64"
      ]
     },
     "execution_count": 42,
     "metadata": {},
     "output_type": "execute_result"
    }
   ],
   "source": [
    "from imblearn.over_sampling import SMOTE\n",
    "\n",
    "smote = SMOTE()\n",
    "X, y = smote.fit_resample(res.drop(['score'],axis=1),res['score'])\n",
    "y.value_counts()"
   ]
  },
  {
   "cell_type": "markdown",
   "metadata": {
    "id": "7Ez5edJD3fRa"
   },
   "source": [
    "## 4-4\n",
    "\n",
    "4-3 구성 데이터에 Logistic Regression을 적용하고 결과를 분석하라"
   ]
  },
  {
   "cell_type": "code",
   "execution_count": 43,
   "metadata": {
    "executionInfo": {
     "elapsed": 4,
     "status": "aborted",
     "timestamp": 1705846474180,
     "user": {
      "displayName": "WOOSEOK JEONG",
      "userId": "01703662546986869335"
     },
     "user_tz": -540
    },
    "id": "oOagvNvX3f_6"
   },
   "outputs": [
    {
     "name": "stdout",
     "output_type": "stream",
     "text": [
      "              precision    recall  f1-score   support\n",
      "\n",
      "           0       0.55      0.55      0.55        67\n",
      "           1       0.55      0.55      0.55        67\n",
      "\n",
      "    accuracy                           0.55       134\n",
      "   macro avg       0.55      0.55      0.55       134\n",
      "weighted avg       0.55      0.55      0.55       134\n",
      "\n",
      "ROC-AUC Score 0.5730674983292493\n"
     ]
    },
    {
     "data": {
      "image/png": "[encoded data removed]",
      "text/plain": [
       "<Figure size 640x480 with 1 Axes>"
      ]
     },
     "metadata": {},
     "output_type": "display_data"
    }
   ],
   "source": [
    "from sklearn.linear_model import LogisticRegression\n",
    "from sklearn.model_selection import train_test_split\n",
    "from sklearn.metrics import classification_report, roc_auc_score,roc_curve\n",
    "import matplotlib.pyplot as plt\n",
    "X_train,X_test,y_train,y_test = train_test_split(X,y,test_size=0.2,stratify=y, random_state=0)\n",
    "lg = LogisticRegression()\n",
    "lg.fit(X_train,y_train)\n",
    "y_pred = lg.predict(X_test)\n",
    "y_proba = lg.predict_proba(X_test)\n",
    "print(classification_report(y_test,y_pred))\n",
    "print('ROC-AUC Score',roc_auc_score(y_test,y_proba[:,1]))\n",
    "tpr,fpr,thresholds = roc_curve(y_test,y_proba[:,1])\n",
    "plt.plot(fpr,tpr, c='g',label='ROC Curve');\n",
    "plt.plot(fpr,fpr,c='grey',label='refer');\n",
    "plt.title('ROC Curve')\n",
    "plt.xlabel('FPR')\n",
    "plt.ylabel('TPR')\n",
    "plt.legend()\n",
    "plt.show()"
   ]
  },
  {
   "cell_type": "markdown",
   "metadata": {
    "id": "m3rPDcmY4ExA"
   },
   "source": [
    "# 통계문제"
   ]
  },
  {
   "cell_type": "markdown",
   "metadata": {
    "id": "3YIxklzx3iGB"
   },
   "source": [
    "## 5\n",
    "\n",
    "제품 A의 불량률은 0.03이다. 25개의 제품을 뽑았을 때 3개가 불량일 확률을 구하시오. (소수점 다섯 째 자리에서 반올림)"
   ]
  },
  {
   "cell_type": "code",
   "execution_count": 44,
   "metadata": {
    "executionInfo": {
     "elapsed": 4,
     "status": "aborted",
     "timestamp": 1705846474180,
     "user": {
      "displayName": "WOOSEOK JEONG",
      "userId": "01703662546986869335"
     },
     "user_tz": -540
    },
    "id": "Ev5PSEmJ3i2G"
   },
   "outputs": [
    {
     "data": {
      "text/plain": [
       "0.03177"
      ]
     },
     "execution_count": 44,
     "metadata": {},
     "output_type": "execute_result"
    }
   ],
   "source": [
    "from scipy.stats import binom\n",
    "p = 0.03\n",
    "n = 25\n",
    "x = 3 \n",
    "binom.pmf(x,n,p).round(5)"
   ]
  },
  {
   "cell_type": "markdown",
   "metadata": {
    "id": "UgeKpY8O3jik"
   },
   "source": [
    "## 6\n",
    "\n",
    "C사 생산 제품 1000개 중 양품이 600개, D사 생산 제품 500개 중 양품이 200개 이다. 두 회사의 양품률에 차이가 있는지 검정하여라."
   ]
  },
  {
   "cell_type": "code",
   "execution_count": 45,
   "metadata": {
    "executionInfo": {
     "elapsed": 4,
     "status": "aborted",
     "timestamp": 1705846474180,
     "user": {
      "displayName": "WOOSEOK JEONG",
      "userId": "01703662546986869335"
     },
     "user_tz": -540
    },
    "id": "cFR0kmVB3lYE"
   },
   "outputs": [
    {
     "name": "stdout",
     "output_type": "stream",
     "text": [
      "p_value : 0.00000\n",
      "두 회사의 양품률에 차이가 있다.\n"
     ]
    }
   ],
   "source": [
    "import math\n",
    "from scipy.stats import norm\n",
    "n1 = 1000  # A사 제품 수\n",
    "x1 = 600   # A사 양품 수\n",
    "p1 = x1 / n1  # A사 양품률\n",
    "\n",
    "n2 = 500   # D사 제품 수\n",
    "x2 = 200   # D사 양품 수\n",
    "p2 = x2 / n2  # D사 양품률\n",
    "\n",
    "p = (x1 + x2) / (n1 + n2) # 전체비율\n",
    "z = (p1 - p2) / math.sqrt(p * (1 - p) * (1/n1 + 1/n2)) # 검정통계량\n",
    "\n",
    "# 유의수준 0.05에서 가설 검정\n",
    "alpha = 0.05\n",
    "p_val = 2 * (1 - norm.cdf(abs(z)))  # 양측 검정\n",
    "\n",
    "print(f'p_value : {p_val:.5f}')\n",
    "if p_val < alpha:\n",
    "    print(\"두 회사의 양품률에 차이가 있다.\")\n",
    "else:\n",
    "    print(\"두 회사의 양품률에 차이가 없다.\")"
   ]
  },
  {
   "cell_type": "markdown",
   "metadata": {},
   "source": [
    "- 카이제곱 검정으로 푸는게 더 간단"
   ]
  },
  {
   "cell_type": "markdown",
   "metadata": {
    "id": "P5Qs0aS93nLj"
   },
   "source": [
    "## 7-1\n",
    "\n",
    "각 차종 별 범퍼 파손의 정도에 차이가 유의한지 검정하라.\n",
    "\n",
    "데이터 설명 : 아래 데이터는 a,b,c,d 네 차종 각각 5회 실험 시 범퍼 파손 정도 이다. (단, 각 모집단은 정규분포를 따르며 모집단 간 등분산성을 가정한다.)\n",
    "\n",
    "데이터 url : https://raw.githubusercontent.com/Datamanim/datarepo/main/adp/29/p7.csv"
   ]
  },
  {
   "cell_type": "code",
   "execution_count": 46,
   "metadata": {
    "executionInfo": {
     "elapsed": 4,
     "status": "aborted",
     "timestamp": 1705846474180,
     "user": {
      "displayName": "WOOSEOK JEONG",
      "userId": "01703662546986869335"
     },
     "user_tz": -540
    },
    "id": "j0hqHYwH3oON"
   },
   "outputs": [
    {
     "data": {
      "text/html": [
       "<div>\n",
       "<style scoped>\n",
       "    .dataframe tbody tr th:only-of-type {\n",
       "        vertical-align: middle;\n",
       "    }\n",
       "\n",
       "    .dataframe tbody tr th {\n",
       "        vertical-align: top;\n",
       "    }\n",
       "\n",
       "    .dataframe thead th {\n",
       "        text-align: right;\n",
       "    }\n",
       "</style>\n",
       "<table border=\"1\" class=\"dataframe\">\n",
       "  <thead>\n",
       "    <tr style=\"text-align: right;\">\n",
       "      <th></th>\n",
       "      <th>name</th>\n",
       "      <th>ratio</th>\n",
       "    </tr>\n",
       "  </thead>\n",
       "  <tbody>\n",
       "    <tr>\n",
       "      <th>0</th>\n",
       "      <td>A</td>\n",
       "      <td>10.993428</td>\n",
       "    </tr>\n",
       "    <tr>\n",
       "      <th>1</th>\n",
       "      <td>A</td>\n",
       "      <td>9.723471</td>\n",
       "    </tr>\n",
       "    <tr>\n",
       "      <th>2</th>\n",
       "      <td>A</td>\n",
       "      <td>11.295377</td>\n",
       "    </tr>\n",
       "    <tr>\n",
       "      <th>3</th>\n",
       "      <td>A</td>\n",
       "      <td>13.046060</td>\n",
       "    </tr>\n",
       "    <tr>\n",
       "      <th>4</th>\n",
       "      <td>A</td>\n",
       "      <td>9.531693</td>\n",
       "    </tr>\n",
       "  </tbody>\n",
       "</table>\n",
       "</div>"
      ],
      "text/plain": [
       "  name      ratio\n",
       "0    A  10.993428\n",
       "1    A   9.723471\n",
       "2    A  11.295377\n",
       "3    A  13.046060\n",
       "4    A   9.531693"
      ]
     },
     "execution_count": 46,
     "metadata": {},
     "output_type": "execute_result"
    }
   ],
   "source": [
    "import pandas as pd\n",
    "df = pd.read_csv('https://raw.githubusercontent.com/Datamanim/datarepo/main/adp/29/p7.csv')\n",
    "df.head()"
   ]
  },
  {
   "cell_type": "markdown",
   "metadata": {
    "executionInfo": {
     "elapsed": 4,
     "status": "aborted",
     "timestamp": 1705846474180,
     "user": {
      "displayName": "WOOSEOK JEONG",
      "userId": "01703662546986869335"
     },
     "user_tz": -540
    },
    "id": "almVvFLe3qIg"
   },
   "source": [
    "- 네개의 집단의 범퍼파손정도(연속형 1개 변수)의 차이를 검증하는 것이므로 onewayANOVA를 수행"
   ]
  },
  {
   "cell_type": "code",
   "execution_count": 47,
   "metadata": {},
   "outputs": [
    {
     "name": "stdout",
     "output_type": "stream",
     "text": [
      "검정통계량 : 24.977\n",
      "P-Value : 0.000\n",
      "\n",
      "네개의 집단의 범퍼파손정도 간 차이가 있다\n"
     ]
    }
   ],
   "source": [
    "from scipy.stats import f_oneway\n",
    "H0 = \"네개의 집단의 범퍼파손정도는 차이가 없다\"\n",
    "H1 = \"네개의 집단의 범퍼파손정도 간 차이가 있다\"\n",
    " \n",
    "stats, p_val = f_oneway(*[df.loc[df['name']==name,'ratio'].values for name in df['name'].unique()])\n",
    "\n",
    "print(f'검정통계량 : {stats:.3f}')\n",
    "print(f'P-Value : {p_val:.3f}\\n')\n",
    "\n",
    "if p_val<0.05: print(H1)\n",
    "else:print(H0)"
   ]
  },
  {
   "cell_type": "markdown",
   "metadata": {
    "id": "eb2aWKgE3sxN"
   },
   "source": [
    "## 7-2\n",
    "\n",
    "귀무가설을 채택한다면 그 의미를 해석하고, 귀무가설을 기각하였다면 사후분석을 시행하라.¶"
   ]
  },
  {
   "cell_type": "code",
   "execution_count": 48,
   "metadata": {
    "executionInfo": {
     "elapsed": 4,
     "status": "aborted",
     "timestamp": 1705846474180,
     "user": {
      "displayName": "WOOSEOK JEONG",
      "userId": "01703662546986869335"
     },
     "user_tz": -540
    },
    "id": "dOQg6zYP3tig"
   },
   "outputs": [
    {
     "name": "stdout",
     "output_type": "stream",
     "text": [
      "=== tukeyhsd 사후분석 결과 ===\n",
      " Multiple Comparison of Means - Tukey HSD, FWER=0.05 \n",
      "=====================================================\n",
      "group1 group2 meandiff p-adj   lower    upper  reject\n",
      "-----------------------------------------------------\n",
      "     A      B   5.3934  0.001   2.1785  8.6083   True\n",
      "     A      C  -4.2156 0.0085  -7.4305 -1.0007   True\n",
      "     A      D  -0.7086 0.9207  -3.9235  2.5063  False\n",
      "     B      C   -9.609    0.0 -12.8239 -6.3941   True\n",
      "     B      D   -6.102 0.0003  -9.3169 -2.8871   True\n",
      "     C      D    3.507 0.0302   0.2921  6.7219   True\n",
      "-----------------------------------------------------\n"
     ]
    },
    {
     "data": {
      "image/png": "[encoded data removed]",
      "text/plain": [
       "<Figure size 1000x600 with 1 Axes>"
      ]
     },
     "metadata": {},
     "output_type": "display_data"
    }
   ],
   "source": [
    "%matplotlib inline\n",
    "from statsmodels.stats.multicomp import pairwise_tukeyhsd\n",
    "import matplotlib.pyplot as plt\n",
    "\n",
    "tukey_res = pairwise_tukeyhsd(df['ratio'], df['name'], alpha=0.05)\n",
    "print(\"=== tukeyhsd 사후분석 결과 ===\")\n",
    "print(tukey_res)\n",
    "tukey_res.plot_simultaneous()\n",
    "plt.show()"
   ]
  },
  {
   "cell_type": "markdown",
   "metadata": {
    "id": "FE3Aq7oV3veT"
   },
   "source": [
    "## 8\n",
    "\n",
    "L1,L2,L3 세 개의 생산라인에서 각각 13%, 37%, 50%를 생산하며 각각 1.1% , 2.1%, 3.3% 불량률을 갖는다. 불량 제품이 나왔을 때 L1 라인에서 생산되었을 확률을 구하시오. (소수점 둘째자리에서 반올림)"
   ]
  },
  {
   "cell_type": "code",
   "execution_count": 49,
   "metadata": {
    "executionInfo": {
     "elapsed": 4,
     "status": "aborted",
     "timestamp": 1705846474180,
     "user": {
      "displayName": "WOOSEOK JEONG",
      "userId": "01703662546986869335"
     },
     "user_tz": -540
    },
    "id": "WmsnW9Tx3wSD"
   },
   "outputs": [],
   "source": [
    "l1, l2, l3 = 0.13, 0.37, 0.5 \n",
    "p1, p2, p3 = 0.011, 0.021, 0.033"
   ]
  },
  {
   "cell_type": "code",
   "execution_count": 50,
   "metadata": {},
   "outputs": [
    {
     "data": {
      "text/plain": [
       "0.0556"
      ]
     },
     "execution_count": 50,
     "metadata": {},
     "output_type": "execute_result"
    }
   ],
   "source": [
    "import numpy as np\n",
    "#불량 제품이 나왔을 때 L1 라인에서 생산되었을 확률 \n",
    "# 불량제품일 확률부터 구함\n",
    "p_불량제품 = l1*p1+l2*p2+l3*p3\n",
    "# (L1라인&불량품일 확률) / 불량제품일 확률\n",
    "np.round(l1*p1 / p_불량제품,4)"
   ]
  }
 ],
 "metadata": {
  "colab": {
   "authorship_tag": "ABX9TyNxeQF0u/B76sVIdd/niTDf",
   "provenance": [],
   "toc_visible": true
  },
  "kernelspec": {
   "display_name": "tw311",
   "language": "python",
   "name": "tw311"
  },
  "language_info": {
   "codemirror_mode": {
    "name": "ipython",
    "version": 3
   },
   "file_extension": ".py",
   "mimetype": "text/x-python",
   "name": "python",
   "nbconvert_exporter": "python",
   "pygments_lexer": "ipython3",
   "version": "3.11.8"
  }
 },
 "nbformat": 4,
 "nbformat_minor": 4
}
