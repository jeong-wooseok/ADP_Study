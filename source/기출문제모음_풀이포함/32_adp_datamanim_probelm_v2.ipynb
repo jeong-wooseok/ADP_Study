{
 "cells": [
  {
   "cell_type": "markdown",
   "id": "e34fa0f4",
   "metadata": {},
   "source": [
    "# 32회 ADP 복원 "
   ]
  },
  {
   "cell_type": "markdown",
   "id": "4d78b3b8",
   "metadata": {},
   "source": [
    "# 기계학습 (60점)"
   ]
  },
  {
   "cell_type": "markdown",
   "id": "8c9b623d",
   "metadata": {},
   "source": [
    "## 데이터 설명\n",
    "- 데이터 출처 : https://www.kaggle.com/datasets/csafrit2/steel-industry-energy-consumption?resource=download 후처리\n",
    "- 데이터 링크 : https://raw.githubusercontent.com/Datamanim/datarepo/main/adp/32/adp32_p1.csv\n",
    "- 데이터 설명 : 시간대별 발전량에 대한 데이터이다\n"
   ]
  },
  {
   "cell_type": "markdown",
   "id": "40875fcf",
   "metadata": {},
   "source": [
    "## 전처리 규칙\n",
    "- 파생변수 ind11칼럼의 값이 1인 데이터만 훈련에 사용할 것, ind22칼럼의 값이 1인 데이터만 테스트에 사용할 것\n",
    "- 모든 모델링은 그리드서치를 통해서 최적 파라미터를 산출할 것 (각 모델의 파라미터는 3개 이하로)"
   ]
  },
  {
   "cell_type": "code",
   "execution_count": 7,
   "id": "fd101aea",
   "metadata": {},
   "outputs": [
    {
     "data": {
      "text/html": [
       "<div>\n",
       "<style scoped>\n",
       "    .dataframe tbody tr th:only-of-type {\n",
       "        vertical-align: middle;\n",
       "    }\n",
       "\n",
       "    .dataframe tbody tr th {\n",
       "        vertical-align: top;\n",
       "    }\n",
       "\n",
       "    .dataframe thead th {\n",
       "        text-align: right;\n",
       "    }\n",
       "</style>\n",
       "<table border=\"1\" class=\"dataframe\">\n",
       "  <thead>\n",
       "    <tr style=\"text-align: right;\">\n",
       "      <th></th>\n",
       "      <th>date</th>\n",
       "      <th>Kwh</th>\n",
       "      <th>LaCR</th>\n",
       "      <th>LeCR</th>\n",
       "      <th>co2</th>\n",
       "      <th>LaF</th>\n",
       "      <th>LeF</th>\n",
       "    </tr>\n",
       "  </thead>\n",
       "  <tbody>\n",
       "    <tr>\n",
       "      <th>0</th>\n",
       "      <td>01/01/2018 00:15</td>\n",
       "      <td>3.17</td>\n",
       "      <td>2.95</td>\n",
       "      <td>0.0</td>\n",
       "      <td>0.0</td>\n",
       "      <td>73.21</td>\n",
       "      <td>100.0</td>\n",
       "    </tr>\n",
       "    <tr>\n",
       "      <th>1</th>\n",
       "      <td>01/01/2018 00:30</td>\n",
       "      <td>4.00</td>\n",
       "      <td>4.46</td>\n",
       "      <td>0.0</td>\n",
       "      <td>0.0</td>\n",
       "      <td>66.77</td>\n",
       "      <td>100.0</td>\n",
       "    </tr>\n",
       "    <tr>\n",
       "      <th>2</th>\n",
       "      <td>01/01/2018 00:45</td>\n",
       "      <td>3.24</td>\n",
       "      <td>3.28</td>\n",
       "      <td>0.0</td>\n",
       "      <td>0.0</td>\n",
       "      <td>70.28</td>\n",
       "      <td>100.0</td>\n",
       "    </tr>\n",
       "    <tr>\n",
       "      <th>3</th>\n",
       "      <td>01/01/2018 01:00</td>\n",
       "      <td>3.31</td>\n",
       "      <td>3.56</td>\n",
       "      <td>0.0</td>\n",
       "      <td>0.0</td>\n",
       "      <td>68.09</td>\n",
       "      <td>100.0</td>\n",
       "    </tr>\n",
       "    <tr>\n",
       "      <th>4</th>\n",
       "      <td>01/01/2018 01:15</td>\n",
       "      <td>3.82</td>\n",
       "      <td>4.50</td>\n",
       "      <td>0.0</td>\n",
       "      <td>0.0</td>\n",
       "      <td>64.72</td>\n",
       "      <td>100.0</td>\n",
       "    </tr>\n",
       "  </tbody>\n",
       "</table>\n",
       "</div>"
      ],
      "text/plain": [
       "               date   Kwh  LaCR  LeCR  co2    LaF    LeF\n",
       "0  01/01/2018 00:15  3.17  2.95   0.0  0.0  73.21  100.0\n",
       "1  01/01/2018 00:30  4.00  4.46   0.0  0.0  66.77  100.0\n",
       "2  01/01/2018 00:45  3.24  3.28   0.0  0.0  70.28  100.0\n",
       "3  01/01/2018 01:00  3.31  3.56   0.0  0.0  68.09  100.0\n",
       "4  01/01/2018 01:15  3.82  4.50   0.0  0.0  64.72  100.0"
      ]
     },
     "execution_count": 7,
     "metadata": {},
     "output_type": "execute_result"
    }
   ],
   "source": [
    "import pandas as pd \n",
    "df = pd.read_csv(\"https://raw.githubusercontent.com/Datamanim/datarepo/main/adp/32/adp32_p1.csv\")\n",
    "df.head()"
   ]
  },
  {
   "cell_type": "markdown",
   "id": "d9e7da81",
   "metadata": {},
   "source": [
    "## 1-1  date 컬럼을 이용하여 3개의 파생변수를 만들어라\n",
    "- 1. month : 해당 시각의 월 정보\n",
    "- 2. day : 해당 시각의 일자 정보, 일요일-0, 월요일-1 ~ 토요일-6\n",
    "- 3. nsd : 해당 시각의 일자의 자정으로부터 소요된 총 분(minute)"
   ]
  },
  {
   "cell_type": "code",
   "execution_count": null,
   "id": "a5024644",
   "metadata": {},
   "outputs": [],
   "source": []
  },
  {
   "cell_type": "markdown",
   "id": "997f02a5",
   "metadata": {},
   "source": [
    "## 1-2 아래 기준으로 두개의 파생변수를 추가하라\n",
    "- 파생변수명(ind11) : month, day, nsd 컬럼의 합이 11의 배수이고 22의 배수가 아니라면 1의 값 그 외는 0의 값\n",
    "- 파생변수명(ind22) : month, day, nsd 컬럼의 합이 22의 배수라면 1의 값 그 외는 0의 값"
   ]
  },
  {
   "cell_type": "code",
   "execution_count": null,
   "id": "be80f5c5",
   "metadata": {},
   "outputs": [],
   "source": []
  },
  {
   "cell_type": "markdown",
   "id": "887d1cda",
   "metadata": {},
   "source": [
    "## 1-3 아래 기준으로 한개의 파생변수를 추가하라\n",
    "- 파생변수명(Kwh8) : Kwh컬럼의 값이 4.1 초과일 경우 1 그 외 0"
   ]
  },
  {
   "cell_type": "code",
   "execution_count": null,
   "id": "2de74710",
   "metadata": {},
   "outputs": [],
   "source": []
  },
  {
   "cell_type": "markdown",
   "id": "456fe212",
   "metadata": {},
   "source": [
    "## 1-4 전처리 완료한 데이터를 기준으로 EDA를 실시하라 (시각화 포함)"
   ]
  },
  {
   "cell_type": "code",
   "execution_count": null,
   "id": "8ee310e6",
   "metadata": {},
   "outputs": [],
   "source": []
  },
  {
   "cell_type": "markdown",
   "id": "15863c2e",
   "metadata": {},
   "source": [
    "## 1-5 Kwh8를 종속 변수로 하여(Kwh제거) 분류 모델을 학습하고 평가하라. 서포트벡터머신과 랜덤포레스트를 사용하라. confusionmatrix를 해석하라"
   ]
  },
  {
   "cell_type": "code",
   "execution_count": null,
   "id": "d3953da2",
   "metadata": {},
   "outputs": [],
   "source": []
  },
  {
   "cell_type": "markdown",
   "id": "73f8b6ce",
   "metadata": {},
   "source": [
    "## 1-6 Kwh를 종속 변수로 하여(Kwh8 제거) 회귀 모델을 학습하고 평가하라. 서포트벡터머신과 랜덤포레스트를 사용하라"
   ]
  },
  {
   "cell_type": "code",
   "execution_count": null,
   "id": "2a2fc2b2",
   "metadata": {},
   "outputs": [],
   "source": []
  },
  {
   "cell_type": "markdown",
   "id": "79264e53",
   "metadata": {},
   "source": [
    "## 1-7 아래 두 조건으로 각각 데이터를 추출하여 회귀 모델링을 하고 1-6과 성능을 비교하라\n",
    "- Kwh8 값이 1인 데이터만 추출 후 Kwh8 컬럼 제거\n",
    "- Kwh8 값이 0인 데이터만 추출 후 Kwh8 컬럼 제거"
   ]
  },
  {
   "cell_type": "code",
   "execution_count": null,
   "id": "a1665dd9",
   "metadata": {},
   "outputs": [],
   "source": []
  },
  {
   "cell_type": "markdown",
   "id": "96df2b8f",
   "metadata": {},
   "source": [
    "## 데이터 설명\n",
    "- 데이터 출처 : https://www.data.go.kr/data/15126430/fileData.do 후처리 + 자체제작\n",
    "- 데이터 링크 : \n",
    "    - https://raw.githubusercontent.com/Datamanim/datarepo/main/adp/32/adp32_p2.csv\n",
    "    - https://raw.githubusercontent.com/Datamanim/datarepo/main/adp/32/adp32_p2_sub.csv\n",
    "- 데이터 설명 : \n",
    "    - 두가지 데이터이다. \n",
    "    - adp32_p2.csv : J시의 4개의 발전기의 시간당 발전용량에 대한 정보이다.\n",
    "    - adp32_p2_sub.csv : J시의 시간별 계절성 정보 데이터이다."
   ]
  },
  {
   "cell_type": "code",
   "execution_count": 13,
   "id": "54699dcb",
   "metadata": {
    "scrolled": false
   },
   "outputs": [
    {
     "data": {
      "text/html": [
       "<div>\n",
       "<style scoped>\n",
       "    .dataframe tbody tr th:only-of-type {\n",
       "        vertical-align: middle;\n",
       "    }\n",
       "\n",
       "    .dataframe tbody tr th {\n",
       "        vertical-align: top;\n",
       "    }\n",
       "\n",
       "    .dataframe thead th {\n",
       "        text-align: right;\n",
       "    }\n",
       "</style>\n",
       "<table border=\"1\" class=\"dataframe\">\n",
       "  <thead>\n",
       "    <tr style=\"text-align: right;\">\n",
       "      <th></th>\n",
       "      <th>발전기명</th>\n",
       "      <th>일자</th>\n",
       "      <th>설비용량</th>\n",
       "      <th>0시</th>\n",
       "      <th>1시</th>\n",
       "      <th>2시</th>\n",
       "      <th>3시</th>\n",
       "      <th>4시</th>\n",
       "      <th>5시</th>\n",
       "      <th>6시</th>\n",
       "      <th>...</th>\n",
       "      <th>14시</th>\n",
       "      <th>15시</th>\n",
       "      <th>16시</th>\n",
       "      <th>17시</th>\n",
       "      <th>18시</th>\n",
       "      <th>19시</th>\n",
       "      <th>20시</th>\n",
       "      <th>21시</th>\n",
       "      <th>22시</th>\n",
       "      <th>23시</th>\n",
       "    </tr>\n",
       "  </thead>\n",
       "  <tbody>\n",
       "    <tr>\n",
       "      <th>0</th>\n",
       "      <td>a</td>\n",
       "      <td>2020-01-01</td>\n",
       "      <td>263.225</td>\n",
       "      <td>0.0</td>\n",
       "      <td>0.0</td>\n",
       "      <td>0.0</td>\n",
       "      <td>0.0</td>\n",
       "      <td>0.0</td>\n",
       "      <td>0.0</td>\n",
       "      <td>0.0</td>\n",
       "      <td>...</td>\n",
       "      <td>93.280</td>\n",
       "      <td>53.840</td>\n",
       "      <td>21.630</td>\n",
       "      <td>5.690</td>\n",
       "      <td>4.610</td>\n",
       "      <td>4.270</td>\n",
       "      <td>1.330</td>\n",
       "      <td>0.530</td>\n",
       "      <td>0.0</td>\n",
       "      <td>0.0</td>\n",
       "    </tr>\n",
       "    <tr>\n",
       "      <th>1</th>\n",
       "      <td>b</td>\n",
       "      <td>2020-01-01</td>\n",
       "      <td>245.725</td>\n",
       "      <td>0.0</td>\n",
       "      <td>0.0</td>\n",
       "      <td>0.0</td>\n",
       "      <td>0.0</td>\n",
       "      <td>0.0</td>\n",
       "      <td>0.0</td>\n",
       "      <td>0.0</td>\n",
       "      <td>...</td>\n",
       "      <td>88.250</td>\n",
       "      <td>51.059</td>\n",
       "      <td>22.283</td>\n",
       "      <td>5.244</td>\n",
       "      <td>4.183</td>\n",
       "      <td>3.848</td>\n",
       "      <td>1.290</td>\n",
       "      <td>0.564</td>\n",
       "      <td>0.0</td>\n",
       "      <td>0.0</td>\n",
       "    </tr>\n",
       "    <tr>\n",
       "      <th>2</th>\n",
       "      <td>c</td>\n",
       "      <td>2020-01-01</td>\n",
       "      <td>254.425</td>\n",
       "      <td>0.0</td>\n",
       "      <td>0.0</td>\n",
       "      <td>0.0</td>\n",
       "      <td>0.0</td>\n",
       "      <td>0.0</td>\n",
       "      <td>0.0</td>\n",
       "      <td>0.0</td>\n",
       "      <td>...</td>\n",
       "      <td>90.641</td>\n",
       "      <td>50.344</td>\n",
       "      <td>22.072</td>\n",
       "      <td>5.652</td>\n",
       "      <td>4.495</td>\n",
       "      <td>4.089</td>\n",
       "      <td>1.240</td>\n",
       "      <td>0.526</td>\n",
       "      <td>0.0</td>\n",
       "      <td>0.0</td>\n",
       "    </tr>\n",
       "    <tr>\n",
       "      <th>3</th>\n",
       "      <td>d</td>\n",
       "      <td>2020-01-01</td>\n",
       "      <td>250.125</td>\n",
       "      <td>0.0</td>\n",
       "      <td>0.0</td>\n",
       "      <td>0.0</td>\n",
       "      <td>0.0</td>\n",
       "      <td>0.0</td>\n",
       "      <td>0.0</td>\n",
       "      <td>0.0</td>\n",
       "      <td>...</td>\n",
       "      <td>86.995</td>\n",
       "      <td>51.953</td>\n",
       "      <td>21.831</td>\n",
       "      <td>6.149</td>\n",
       "      <td>4.666</td>\n",
       "      <td>4.141</td>\n",
       "      <td>1.228</td>\n",
       "      <td>0.491</td>\n",
       "      <td>0.0</td>\n",
       "      <td>0.0</td>\n",
       "    </tr>\n",
       "    <tr>\n",
       "      <th>4</th>\n",
       "      <td>a</td>\n",
       "      <td>2020-01-02</td>\n",
       "      <td>263.225</td>\n",
       "      <td>0.0</td>\n",
       "      <td>0.0</td>\n",
       "      <td>0.0</td>\n",
       "      <td>0.0</td>\n",
       "      <td>0.0</td>\n",
       "      <td>0.0</td>\n",
       "      <td>0.0</td>\n",
       "      <td>...</td>\n",
       "      <td>39.000</td>\n",
       "      <td>25.860</td>\n",
       "      <td>8.310</td>\n",
       "      <td>4.090</td>\n",
       "      <td>0.730</td>\n",
       "      <td>1.070</td>\n",
       "      <td>0.390</td>\n",
       "      <td>0.020</td>\n",
       "      <td>0.0</td>\n",
       "      <td>0.0</td>\n",
       "    </tr>\n",
       "  </tbody>\n",
       "</table>\n",
       "<p>5 rows × 27 columns</p>\n",
       "</div>"
      ],
      "text/plain": [
       "  발전기명          일자     설비용량   0시   1시   2시   3시   4시   5시   6시  ...     14시  \\\n",
       "0    a  2020-01-01  263.225  0.0  0.0  0.0  0.0  0.0  0.0  0.0  ...  93.280   \n",
       "1    b  2020-01-01  245.725  0.0  0.0  0.0  0.0  0.0  0.0  0.0  ...  88.250   \n",
       "2    c  2020-01-01  254.425  0.0  0.0  0.0  0.0  0.0  0.0  0.0  ...  90.641   \n",
       "3    d  2020-01-01  250.125  0.0  0.0  0.0  0.0  0.0  0.0  0.0  ...  86.995   \n",
       "4    a  2020-01-02  263.225  0.0  0.0  0.0  0.0  0.0  0.0  0.0  ...  39.000   \n",
       "\n",
       "      15시     16시    17시    18시    19시    20시    21시  22시  23시  \n",
       "0  53.840  21.630  5.690  4.610  4.270  1.330  0.530  0.0  0.0  \n",
       "1  51.059  22.283  5.244  4.183  3.848  1.290  0.564  0.0  0.0  \n",
       "2  50.344  22.072  5.652  4.495  4.089  1.240  0.526  0.0  0.0  \n",
       "3  51.953  21.831  6.149  4.666  4.141  1.228  0.491  0.0  0.0  \n",
       "4  25.860   8.310  4.090  0.730  1.070  0.390  0.020  0.0  0.0  \n",
       "\n",
       "[5 rows x 27 columns]"
      ]
     },
     "metadata": {},
     "output_type": "display_data"
    },
    {
     "data": {
      "text/html": [
       "<div>\n",
       "<style scoped>\n",
       "    .dataframe tbody tr th:only-of-type {\n",
       "        vertical-align: middle;\n",
       "    }\n",
       "\n",
       "    .dataframe tbody tr th {\n",
       "        vertical-align: top;\n",
       "    }\n",
       "\n",
       "    .dataframe thead th {\n",
       "        text-align: right;\n",
       "    }\n",
       "</style>\n",
       "<table border=\"1\" class=\"dataframe\">\n",
       "  <thead>\n",
       "    <tr style=\"text-align: right;\">\n",
       "      <th></th>\n",
       "      <th>일시</th>\n",
       "      <th>기온</th>\n",
       "      <th>강수량(mm)</th>\n",
       "      <th>습도</th>\n",
       "      <th>적설(cm)</th>\n",
       "      <th>전운량(10분위)</th>\n",
       "      <th>일조(hr)</th>\n",
       "      <th>일사량</th>\n",
       "    </tr>\n",
       "  </thead>\n",
       "  <tbody>\n",
       "    <tr>\n",
       "      <th>0</th>\n",
       "      <td>2020-01-01 00:00</td>\n",
       "      <td>2.4</td>\n",
       "      <td>NaN</td>\n",
       "      <td>63.0</td>\n",
       "      <td>0.0</td>\n",
       "      <td>9</td>\n",
       "      <td>0.0</td>\n",
       "      <td>0.0</td>\n",
       "    </tr>\n",
       "    <tr>\n",
       "      <th>1</th>\n",
       "      <td>2020-01-01 01:00</td>\n",
       "      <td>2.6</td>\n",
       "      <td>0.0</td>\n",
       "      <td>63.0</td>\n",
       "      <td>0.0</td>\n",
       "      <td>9</td>\n",
       "      <td>0.0</td>\n",
       "      <td>0.0</td>\n",
       "    </tr>\n",
       "    <tr>\n",
       "      <th>2</th>\n",
       "      <td>2020-01-01 02:00</td>\n",
       "      <td>2.7</td>\n",
       "      <td>0.0</td>\n",
       "      <td>68.0</td>\n",
       "      <td>0.0</td>\n",
       "      <td>9</td>\n",
       "      <td>0.0</td>\n",
       "      <td>0.0</td>\n",
       "    </tr>\n",
       "    <tr>\n",
       "      <th>3</th>\n",
       "      <td>2020-01-01 03:00</td>\n",
       "      <td>3.2</td>\n",
       "      <td>0.0</td>\n",
       "      <td>69.0</td>\n",
       "      <td>0.0</td>\n",
       "      <td>9</td>\n",
       "      <td>0.0</td>\n",
       "      <td>0.0</td>\n",
       "    </tr>\n",
       "    <tr>\n",
       "      <th>4</th>\n",
       "      <td>2020-01-01 04:00</td>\n",
       "      <td>3.0</td>\n",
       "      <td>0.0</td>\n",
       "      <td>65.0</td>\n",
       "      <td>0.0</td>\n",
       "      <td>9</td>\n",
       "      <td>NaN</td>\n",
       "      <td>0.0</td>\n",
       "    </tr>\n",
       "  </tbody>\n",
       "</table>\n",
       "</div>"
      ],
      "text/plain": [
       "                 일시   기온  강수량(mm)    습도  적설(cm)  전운량(10분위)  일조(hr)  일사량\n",
       "0  2020-01-01 00:00  2.4      NaN  63.0     0.0          9     0.0  0.0\n",
       "1  2020-01-01 01:00  2.6      0.0  63.0     0.0          9     0.0  0.0\n",
       "2  2020-01-01 02:00  2.7      0.0  68.0     0.0          9     0.0  0.0\n",
       "3  2020-01-01 03:00  3.2      0.0  69.0     0.0          9     0.0  0.0\n",
       "4  2020-01-01 04:00  3.0      0.0  65.0     0.0          9     NaN  0.0"
      ]
     },
     "metadata": {},
     "output_type": "display_data"
    }
   ],
   "source": [
    "p = pd.read_csv('https://raw.githubusercontent.com/Datamanim/datarepo/main/adp/32/adp32_p2.csv')\n",
    "weather = pd.read_csv('https://raw.githubusercontent.com/Datamanim/datarepo/main/adp/32/adp32_p2_sub.csv')\n",
    "display(p.head())\n",
    "display(weather.head())"
   ]
  },
  {
   "cell_type": "markdown",
   "id": "7c1a322d",
   "metadata": {},
   "source": [
    "## 2-1 아래 조건들을 참고하여 전처리를 시행하라\n",
    "- 계절성 정보 데이터 중 강수량과 일조량의 결측치를 0으로 채워라\n",
    "- 계절성 정보 데이터 중 기온은 직전시간과 직후시간의 기온의 평균값으로 결측치를 대치하라\n",
    "- 계절성 정보데이터와 발전용량 데이터를 머지하라.\n",
    "    - 계절성 정보데이터의 일자,시각을 기준으로 한다.\n",
    "    - 계절성 정보데이터에 발전기명, 설비용량, 발전량 컬럼을 추가하여 일조량을 추가한다."
   ]
  },
  {
   "cell_type": "code",
   "execution_count": null,
   "id": "8b65cc3b",
   "metadata": {},
   "outputs": [],
   "source": []
  },
  {
   "cell_type": "markdown",
   "id": "2e1d2843",
   "metadata": {},
   "source": [
    "## 2-2 전처리 데이터를 기준으로 아래 조건으로 train,test 데이터를 나눈다. 데이터 분리 후 train 데이터의 기초 통계량을 확인하라\n",
    "- a발전기의 12시~18시의 데이터만 모델링에 사용한다. \n",
    "- 2020년도, 2021년도는 train, 2022년도는 test 데이터로 사용한다"
   ]
  },
  {
   "cell_type": "code",
   "execution_count": null,
   "id": "fd8f5a9a",
   "metadata": {},
   "outputs": [],
   "source": []
  },
  {
   "cell_type": "markdown",
   "id": "e34279c9",
   "metadata": {},
   "source": [
    "## 2-3 train 데이터 세트의 발전량과 나머지 변수간의 상관관계를 확인하라\n"
   ]
  },
  {
   "cell_type": "code",
   "execution_count": null,
   "id": "b95f71ac",
   "metadata": {},
   "outputs": [],
   "source": []
  },
  {
   "cell_type": "markdown",
   "id": "0218e767",
   "metadata": {},
   "source": [
    "## 2-4 발전량을 종속변수로 하여 2개의 회귀모델링을 진행하고 모델을 평가하라"
   ]
  },
  {
   "cell_type": "code",
   "execution_count": null,
   "id": "70dd47d1",
   "metadata": {},
   "outputs": [],
   "source": []
  },
  {
   "cell_type": "markdown",
   "id": "af360f6b",
   "metadata": {},
   "source": [
    "# 통계 (40점)"
   ]
  },
  {
   "cell_type": "markdown",
   "id": "212d8106",
   "metadata": {},
   "source": [
    "## 데이터 설명\n",
    "- 데이터 출처 : https://www.kaggle.com/code/prasadperera/the-boston-housing-dataset 후처리\n",
    "- 데이터 링크 : https://raw.githubusercontent.com/Datamanim/datarepo/main/adp/32/adp32_s1.csv\n",
    "- 데이터 설명 : 보스턴 집값 관련 데이터\n",
    "    - MEDV (집값): 종속변수"
   ]
  },
  {
   "cell_type": "code",
   "execution_count": 23,
   "id": "3920e675",
   "metadata": {},
   "outputs": [
    {
     "data": {
      "text/html": [
       "<div>\n",
       "<style scoped>\n",
       "    .dataframe tbody tr th:only-of-type {\n",
       "        vertical-align: middle;\n",
       "    }\n",
       "\n",
       "    .dataframe tbody tr th {\n",
       "        vertical-align: top;\n",
       "    }\n",
       "\n",
       "    .dataframe thead th {\n",
       "        text-align: right;\n",
       "    }\n",
       "</style>\n",
       "<table border=\"1\" class=\"dataframe\">\n",
       "  <thead>\n",
       "    <tr style=\"text-align: right;\">\n",
       "      <th></th>\n",
       "      <th>CRIM</th>\n",
       "      <th>ZN</th>\n",
       "      <th>INDUS</th>\n",
       "      <th>CHAS</th>\n",
       "      <th>NOX</th>\n",
       "      <th>AGE</th>\n",
       "      <th>DIS</th>\n",
       "      <th>RAD</th>\n",
       "      <th>TAX</th>\n",
       "      <th>PTRATIO</th>\n",
       "      <th>B</th>\n",
       "      <th>LSTAT1</th>\n",
       "      <th>LSTAT2</th>\n",
       "      <th>MEDV</th>\n",
       "    </tr>\n",
       "  </thead>\n",
       "  <tbody>\n",
       "    <tr>\n",
       "      <th>0</th>\n",
       "      <td>0.00632</td>\n",
       "      <td>18.0</td>\n",
       "      <td>2.31</td>\n",
       "      <td>0.0</td>\n",
       "      <td>0.538</td>\n",
       "      <td>65.2</td>\n",
       "      <td>4.0900</td>\n",
       "      <td>1.0</td>\n",
       "      <td>296.0</td>\n",
       "      <td>15.3</td>\n",
       "      <td>396.90</td>\n",
       "      <td>4.98</td>\n",
       "      <td>5.0520</td>\n",
       "      <td>24.0</td>\n",
       "    </tr>\n",
       "    <tr>\n",
       "      <th>1</th>\n",
       "      <td>0.02731</td>\n",
       "      <td>0.0</td>\n",
       "      <td>7.07</td>\n",
       "      <td>0.0</td>\n",
       "      <td>0.469</td>\n",
       "      <td>78.9</td>\n",
       "      <td>4.9671</td>\n",
       "      <td>2.0</td>\n",
       "      <td>242.0</td>\n",
       "      <td>17.8</td>\n",
       "      <td>396.90</td>\n",
       "      <td>9.14</td>\n",
       "      <td>9.4440</td>\n",
       "      <td>21.6</td>\n",
       "    </tr>\n",
       "    <tr>\n",
       "      <th>2</th>\n",
       "      <td>0.02729</td>\n",
       "      <td>0.0</td>\n",
       "      <td>7.07</td>\n",
       "      <td>0.0</td>\n",
       "      <td>0.469</td>\n",
       "      <td>61.1</td>\n",
       "      <td>4.9671</td>\n",
       "      <td>2.0</td>\n",
       "      <td>242.0</td>\n",
       "      <td>17.8</td>\n",
       "      <td>392.83</td>\n",
       "      <td>4.03</td>\n",
       "      <td>3.8970</td>\n",
       "      <td>34.7</td>\n",
       "    </tr>\n",
       "    <tr>\n",
       "      <th>3</th>\n",
       "      <td>0.03237</td>\n",
       "      <td>0.0</td>\n",
       "      <td>2.18</td>\n",
       "      <td>0.0</td>\n",
       "      <td>0.458</td>\n",
       "      <td>45.8</td>\n",
       "      <td>6.0622</td>\n",
       "      <td>3.0</td>\n",
       "      <td>222.0</td>\n",
       "      <td>18.7</td>\n",
       "      <td>394.63</td>\n",
       "      <td>2.94</td>\n",
       "      <td>2.9410</td>\n",
       "      <td>33.4</td>\n",
       "    </tr>\n",
       "    <tr>\n",
       "      <th>4</th>\n",
       "      <td>0.06905</td>\n",
       "      <td>0.0</td>\n",
       "      <td>2.18</td>\n",
       "      <td>0.0</td>\n",
       "      <td>0.458</td>\n",
       "      <td>54.2</td>\n",
       "      <td>6.0622</td>\n",
       "      <td>3.0</td>\n",
       "      <td>222.0</td>\n",
       "      <td>18.7</td>\n",
       "      <td>396.90</td>\n",
       "      <td>5.33</td>\n",
       "      <td>5.4075</td>\n",
       "      <td>36.2</td>\n",
       "    </tr>\n",
       "  </tbody>\n",
       "</table>\n",
       "</div>"
      ],
      "text/plain": [
       "      CRIM    ZN  INDUS  CHAS    NOX   AGE     DIS  RAD    TAX  PTRATIO  \\\n",
       "0  0.00632  18.0   2.31   0.0  0.538  65.2  4.0900  1.0  296.0     15.3   \n",
       "1  0.02731   0.0   7.07   0.0  0.469  78.9  4.9671  2.0  242.0     17.8   \n",
       "2  0.02729   0.0   7.07   0.0  0.469  61.1  4.9671  2.0  242.0     17.8   \n",
       "3  0.03237   0.0   2.18   0.0  0.458  45.8  6.0622  3.0  222.0     18.7   \n",
       "4  0.06905   0.0   2.18   0.0  0.458  54.2  6.0622  3.0  222.0     18.7   \n",
       "\n",
       "        B  LSTAT1  LSTAT2  MEDV  \n",
       "0  396.90    4.98  5.0520  24.0  \n",
       "1  396.90    9.14  9.4440  21.6  \n",
       "2  392.83    4.03  3.8970  34.7  \n",
       "3  394.63    2.94  2.9410  33.4  \n",
       "4  396.90    5.33  5.4075  36.2  "
      ]
     },
     "execution_count": 23,
     "metadata": {},
     "output_type": "execute_result"
    }
   ],
   "source": [
    "df = pd.read_csv('https://raw.githubusercontent.com/Datamanim/datarepo/main/adp/32/adp32_s1.csv')\n",
    "df.head()"
   ]
  },
  {
   "cell_type": "markdown",
   "id": "48c6050d",
   "metadata": {},
   "source": [
    "## 3-1 기본 회귀가정을 검토하라"
   ]
  },
  {
   "cell_type": "code",
   "execution_count": null,
   "id": "d9ff9828",
   "metadata": {},
   "outputs": [],
   "source": []
  },
  {
   "cell_type": "markdown",
   "id": "64e556c1",
   "metadata": {},
   "source": [
    "## 3-2 변수간 관계 검토하고 문제점 해결방안 2가지를 제시하라"
   ]
  },
  {
   "cell_type": "code",
   "execution_count": null,
   "id": "89fd243d",
   "metadata": {},
   "outputs": [],
   "source": []
  },
  {
   "cell_type": "markdown",
   "id": "7c726724",
   "metadata": {},
   "source": [
    "## 3-3 3-2에서 제안한 것을 반영하여 문제를 해결하고 적용 결과를 제시하라"
   ]
  },
  {
   "cell_type": "code",
   "execution_count": null,
   "id": "899754eb",
   "metadata": {},
   "outputs": [],
   "source": []
  },
  {
   "cell_type": "markdown",
   "id": "3fc97ccb",
   "metadata": {},
   "source": [
    "## 데이터 설명\n",
    "- 데이터 출처 : https://www.rdocumentation.org/packages/datasets/versions/3.6.2/topics/mtcars 후처리\n",
    "- 데이터 링크 : https://raw.githubusercontent.com/Datamanim/datarepo/main/adp/32/adp32_s2.csv\n",
    "- 데이터 설명 : 차량정보데이터"
   ]
  },
  {
   "cell_type": "markdown",
   "id": "05f5a0b6",
   "metadata": {},
   "source": [
    "## 4-1 cyl랑 gear 컬럼으로 교차테이블을 만들어라"
   ]
  },
  {
   "cell_type": "code",
   "execution_count": null,
   "id": "a33b029c",
   "metadata": {},
   "outputs": [],
   "source": []
  },
  {
   "cell_type": "markdown",
   "id": "545880c0",
   "metadata": {},
   "source": [
    "## 4-2 두 범주형 변수간 차이가 존재하는지 확인하려한다. 귀무가설과 대립가설을 작성하라"
   ]
  },
  {
   "cell_type": "code",
   "execution_count": null,
   "id": "bb100bd7",
   "metadata": {},
   "outputs": [],
   "source": []
  },
  {
   "cell_type": "markdown",
   "id": "24740f02",
   "metadata": {},
   "source": [
    "## 4-3 통계검정을 실시하고 해석하라"
   ]
  },
  {
   "cell_type": "code",
   "execution_count": null,
   "id": "abe58da1",
   "metadata": {},
   "outputs": [],
   "source": []
  },
  {
   "cell_type": "markdown",
   "id": "2c40f800",
   "metadata": {},
   "source": [
    "## 데이터 설명\n",
    "- 데이터 출처 : 자체제작\n",
    "- 데이터 링크 : https://raw.githubusercontent.com/Datamanim/datarepo/main/adp/32/adp32_s3.csv\n",
    "- 데이터 설명 : 남녀 급여 데이터"
   ]
  },
  {
   "cell_type": "markdown",
   "id": "941234ec",
   "metadata": {},
   "source": [
    "## 5-1 각 성별의 급여 데이터가 정규성을 만족하는지 확인하라. "
   ]
  },
  {
   "cell_type": "code",
   "execution_count": null,
   "id": "04f44f32",
   "metadata": {},
   "outputs": [],
   "source": []
  },
  {
   "cell_type": "markdown",
   "id": "c0774ea0",
   "metadata": {},
   "source": [
    "## 5-2 위 결과에 맞는 남녀 월급 차이가 있는지 확인 하기 위한 검정 전략을 설명하라"
   ]
  },
  {
   "cell_type": "code",
   "execution_count": null,
   "id": "20f205a4",
   "metadata": {},
   "outputs": [],
   "source": []
  },
  {
   "cell_type": "markdown",
   "id": "bc36e858",
   "metadata": {},
   "source": [
    "## 5-3 가설에 따른 검정을 수행하고, 검정통계량과 p-value를 설명하라"
   ]
  },
  {
   "cell_type": "code",
   "execution_count": null,
   "id": "e88425f1",
   "metadata": {},
   "outputs": [],
   "source": []
  }
 ],
 "metadata": {
  "kernelspec": {
   "display_name": "Python 3 (ipykernel)",
   "language": "python",
   "name": "python3"
  },
  "language_info": {
   "codemirror_mode": {
    "name": "ipython",
    "version": 3
   },
   "file_extension": ".py",
   "mimetype": "text/x-python",
   "name": "python",
   "nbconvert_exporter": "python",
   "pygments_lexer": "ipython3",
   "version": "3.8.18"
  }
 },
 "nbformat": 4,
 "nbformat_minor": 5
}
