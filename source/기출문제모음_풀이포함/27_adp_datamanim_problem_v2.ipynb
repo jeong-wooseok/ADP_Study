{
 "cells": [
  {
   "cell_type": "markdown",
   "id": "0a308b4f",
   "metadata": {},
   "source": [
    "# ADP 27회 실기 문제"
   ]
  },
  {
   "cell_type": "markdown",
   "id": "fd3ee113",
   "metadata": {},
   "source": [
    "# 문제설명 (1번)\n",
    "- 데이터 url :https://raw.githubusercontent.com/Datamanim/datarepo/main/adp/27/rauds.csv    \n",
    "- 출처 :https://www.kaggle.com/datasets/mlg-ulb/creditcardfraud (후처리)    \n",
    "신용카드 사용에 대한 데이터이다. 각 컬럼의 의미는 다음과 같다.    \n",
    "Time : 카드 이용 시점의 시각 (sec)    \n",
    "V1 ~ V25 : 유저 특성에 관한 피쳐 (float)    \n",
    "Amount : 거래금액    \n",
    "Class : 0: 정상거래 , 1: 이상거래"
   ]
  },
  {
   "cell_type": "markdown",
   "id": "5ff89acb",
   "metadata": {},
   "source": [
    "## 문제 1-1 \n",
    "EDA 데이터 탐색 (시각화 포함)"
   ]
  },
  {
   "cell_type": "code",
   "execution_count": null,
   "id": "5bef18a5",
   "metadata": {},
   "outputs": [],
   "source": [
    "import pandas as pd\n",
    "df = pd.read_csv('https://raw.githubusercontent.com/Datamanim/datarepo/main/adp/27/rauds.csv')\n",
    "df"
   ]
  },
  {
   "cell_type": "markdown",
   "id": "1596f222",
   "metadata": {},
   "source": [
    "## 문제 1-2 \n",
    "변수간 상관관계를 시각화하고 전처리가 필요하다면 그 이유를 설명하고 시행하라"
   ]
  },
  {
   "cell_type": "code",
   "execution_count": null,
   "id": "50f22264",
   "metadata": {},
   "outputs": [],
   "source": []
  },
  {
   "cell_type": "markdown",
   "id": "56efe394",
   "metadata": {},
   "source": [
    "## 문제 2.1 \n",
    "차원축소 방법 2가지 이상에 대해 설명하고 장단점을 비교하라"
   ]
  },
  {
   "cell_type": "code",
   "execution_count": null,
   "id": "38142bf4",
   "metadata": {},
   "outputs": [],
   "source": []
  },
  {
   "cell_type": "markdown",
   "id": "817bfa2d",
   "metadata": {},
   "source": [
    "## 문제 2.2\n",
    "2.1에서 선택한 한가지 차원축소 방법을 실제로 수행하고 선택한 이유를 설명하라"
   ]
  },
  {
   "cell_type": "code",
   "execution_count": null,
   "id": "73dd9819",
   "metadata": {},
   "outputs": [],
   "source": []
  },
  {
   "cell_type": "markdown",
   "id": "f1c13bb7",
   "metadata": {},
   "source": [
    "## 문제 3.1\n",
    "오버샘플링과 언더샘플링에 대한 설명 및 장단점을 설명하라"
   ]
  },
  {
   "cell_type": "code",
   "execution_count": null,
   "id": "b83c271c",
   "metadata": {},
   "outputs": [],
   "source": []
  },
  {
   "cell_type": "markdown",
   "id": "b215a515",
   "metadata": {},
   "source": [
    "## 문제 3.2 \n",
    "오버샘플링 및 언더샘플링 방식 중 하나를 선택하여 구현하고 Class를 종속변수로 하는 분류 모델을 2가지 이상 구현하고 성능을 비교하라"
   ]
  },
  {
   "cell_type": "code",
   "execution_count": null,
   "id": "f557df74",
   "metadata": {},
   "outputs": [],
   "source": []
  },
  {
   "cell_type": "markdown",
   "id": "cd5236c4",
   "metadata": {},
   "source": [
    "## 문제 4.1 \n",
    "Class 컬럼이 주어지지 않았다고 가정하고 비지도 학습 방식의 이상탐지 모델을 만들려고한다.     \n",
    "이상 탐지 모델 2가지 이상 기술하고 장단점을 설명하라"
   ]
  },
  {
   "cell_type": "code",
   "execution_count": null,
   "id": "1eb45b2f",
   "metadata": {},
   "outputs": [],
   "source": []
  },
  {
   "cell_type": "markdown",
   "id": "1fab9924",
   "metadata": {},
   "source": [
    "## 문제 4.2 \n",
    "2번에서 만든 데이터로 한 가지 비지도학습 이상탐지 모델을 구현하고, 3번에서 만든 모델과 결과를 비교하라"
   ]
  },
  {
   "cell_type": "code",
   "execution_count": null,
   "id": "0ccfdd35",
   "metadata": {},
   "outputs": [],
   "source": []
  },
  {
   "cell_type": "markdown",
   "id": "28f1446b",
   "metadata": {},
   "source": [
    "## 문제 5\n",
    "2년 전 제품 생산량이 100,000개, 1년 전 제품 생산량이 150,000개, 그 후 팩토리 기술의 상승으로 제품 생산량이 250,000개 되었을 때, 연평균 복합성장률 대푯값을 구하시오. (반올림하여 소수점 아래 둘째자리까지 표기하시오.)"
   ]
  },
  {
   "cell_type": "code",
   "execution_count": null,
   "id": "3d1d5de2",
   "metadata": {},
   "outputs": [],
   "source": []
  },
  {
   "cell_type": "markdown",
   "id": "142c89bc",
   "metadata": {},
   "source": [
    "## 문제 6\n",
    "12건의 광고 시간 측정. 평균 15.5초, 분산 3.2초 일때 90% 신뢰구간은?"
   ]
  },
  {
   "cell_type": "code",
   "execution_count": null,
   "id": "379af1dd",
   "metadata": {},
   "outputs": [],
   "source": []
  },
  {
   "cell_type": "markdown",
   "id": "4bae3cc5",
   "metadata": {},
   "source": [
    "## 문제 설명 (7번)\n",
    "강의 상류와 하류의 생물 다양성 점수에 차이가 있는지 검정하시오. (단, 같은 강에서 상류와 하류는 서로 독립적이지 않으며, 종속적인 관계에 있다.)\n",
    "\n",
    "- 데이터 url : https://raw.githubusercontent.com/Datamanim/datarepo/main/adp/27/river.csv"
   ]
  },
  {
   "cell_type": "markdown",
   "id": "17839701",
   "metadata": {},
   "source": [
    "## 문제 7.1\n",
    "귀무가설과 대립가설을 세우시오"
   ]
  },
  {
   "cell_type": "code",
   "execution_count": null,
   "id": "0386e5a7",
   "metadata": {},
   "outputs": [],
   "source": []
  },
  {
   "cell_type": "markdown",
   "id": "0fcd3131",
   "metadata": {},
   "source": [
    "## 문제 7.2\n",
    "검정통계량 및 유의확률을 구하고 검정 결과를 서술하시오"
   ]
  },
  {
   "cell_type": "code",
   "execution_count": null,
   "id": "72c1f093",
   "metadata": {},
   "outputs": [],
   "source": []
  },
  {
   "cell_type": "markdown",
   "id": "40f69c9a",
   "metadata": {},
   "source": [
    "## 문제설명(8번)\n",
    "user_counts를 종속변수로 하는 데이터이다\n",
    "\n",
    "- 데이터 url : https://raw.githubusercontent.com/Datamanim/datarepo/main/adp/27/problem8.csv"
   ]
  },
  {
   "cell_type": "markdown",
   "id": "70f12b73",
   "metadata": {},
   "source": [
    "## 문제 8.1\n",
    "분위수 회귀분석 (Quantile Regression) 을 사용하여 회귀 계수를 구하시오. (반올림하여 소수점 아래 둘째자리까지 표기하시오.)"
   ]
  },
  {
   "cell_type": "code",
   "execution_count": null,
   "id": "c8544199",
   "metadata": {},
   "outputs": [],
   "source": []
  },
  {
   "cell_type": "markdown",
   "id": "eaa812e5",
   "metadata": {},
   "source": [
    "## 문제 8.2\n",
    "8.1의 모델의 회귀계수를 활용하여 temperature : 10.5 , wind : 8.2 , precipitation : 3.5 일때 user_counts를 예측하시오 "
   ]
  },
  {
   "cell_type": "code",
   "execution_count": null,
   "id": "c1aecc9a",
   "metadata": {},
   "outputs": [],
   "source": []
  },
  {
   "cell_type": "markdown",
   "id": "d5ef2e34",
   "metadata": {},
   "source": [
    "## 문제설명(9번)\n",
    "지하철 호선과 월별, 승객 수 간 상관관계가 있는지 확인(Type III Anova 사용)\n",
    "\n",
    "- 데이터 url : https://raw.githubusercontent.com/Datamanim/datarepo/main/adp/27/subway.csv"
   ]
  },
  {
   "cell_type": "markdown",
   "id": "0a2d63eb",
   "metadata": {},
   "source": [
    "## 문제 9.1 \n",
    "귀무가설과 대립가설 설정하라"
   ]
  },
  {
   "cell_type": "code",
   "execution_count": null,
   "id": "955befad",
   "metadata": {},
   "outputs": [],
   "source": []
  },
  {
   "cell_type": "markdown",
   "id": "ea141b56",
   "metadata": {},
   "source": [
    "## 문제 9.2\n",
    "통계량을 구하고 검정 결과를 서술하라"
   ]
  },
  {
   "cell_type": "code",
   "execution_count": null,
   "id": "92685c48",
   "metadata": {},
   "outputs": [],
   "source": []
  },
  {
   "cell_type": "markdown",
   "id": "ef985a46",
   "metadata": {},
   "source": [
    "참고사이트 \n",
    "- https://blog.naver.com/clairefromkorea/222938928665\n",
    "- https://amaruak00.github.io/2022/12/17/adp27th.html\n",
    "- https://blog.naver.com/dmz04/222938757841"
   ]
  }
 ],
 "metadata": {
  "celltoolbar": "Edit Metadata",
  "kernelspec": {
   "display_name": "tw311",
   "language": "python",
   "name": "tw311"
  },
  "language_info": {
   "codemirror_mode": {
    "name": "ipython",
    "version": 3
   },
   "file_extension": ".py",
   "mimetype": "text/x-python",
   "name": "python",
   "nbconvert_exporter": "python",
   "pygments_lexer": "ipython3",
   "version": "3.11.8"
  }
 },
 "nbformat": 4,
 "nbformat_minor": 5
}
