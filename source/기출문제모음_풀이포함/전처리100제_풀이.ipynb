{
 "cells": [
  {
   "cell_type": "markdown",
   "id": "74013440-5387-4e8b-bb15-98b15dc6e92c",
   "metadata": {
    "tags": []
   },
   "source": [
    "# Loading"
   ]
  },
  {
   "cell_type": "markdown",
   "id": "754e658f-4f5f-48d9-af88-2f8a87086839",
   "metadata": {},
   "source": [
    "## 롤 랭킹 데이터 \n",
    "import pandas as pd\n",
    "DataUrl = 'https://raw.githubusercontent.com/Datamanim/pandas/main/lol.csv'"
   ]
  },
  {
   "cell_type": "markdown",
   "id": "8767b734-0d6a-4fb8-8e5b-8d1bd85cb75d",
   "metadata": {},
   "source": [
    "### 1 데이터를 로드하라. \n",
    "데이터는 \\t을 기준으로 구분되어있다."
   ]
  },
  {
   "cell_type": "markdown",
   "id": "0bb491e3-a2a6-47b4-baf5-86a1feceb9bc",
   "metadata": {},
   "source": [
    "### 2. 데이터의 상위 5개 행을 출력하라"
   ]
  },
  {
   "cell_type": "markdown",
   "id": "4a406d04-79db-4316-bf78-9259612f6b7a",
   "metadata": {},
   "source": [
    "### 3.데이터의 행과 열의 갯수를 파악하라"
   ]
  },
  {
   "cell_type": "markdown",
   "id": "833e217d-dd6f-40f1-b620-582585dd6f75",
   "metadata": {},
   "source": [
    "### 4. 전체 컬럼을 출력하라"
   ]
  },
  {
   "cell_type": "markdown",
   "id": "0d796b4c-c840-43f0-b408-307fc7d1393d",
   "metadata": {},
   "source": [
    "### 5.6번째 컬럼명을 출력하라"
   ]
  },
  {
   "cell_type": "markdown",
   "id": "80a0fb8b-eff8-49ea-bbd1-13f4a9fa4cf8",
   "metadata": {},
   "source": [
    "### 6. 6번째 컬럼의 데이터 타입을 확인하라"
   ]
  },
  {
   "cell_type": "markdown",
   "id": "a2d49511-42d8-44dd-b2e6-597289c05954",
   "metadata": {
    "tags": []
   },
   "source": [
    "### 7. 데이터셋의 인덱스 구성은 어떤가"
   ]
  },
  {
   "cell_type": "markdown",
   "id": "ea6f3578-5b61-4a08-89af-1fbee7544c91",
   "metadata": {},
   "source": [
    "### 8. 6번째 컬럼의 3번째 값은 무엇인가?"
   ]
  },
  {
   "cell_type": "markdown",
   "id": "bdd64cf9-65df-4e5a-a9b5-d7cb029d9649",
   "metadata": {},
   "source": [
    "## 제주 날씨,인구에 따른 교통량데이터 \n",
    ": 출처 제주 데이터 허브 DataUrl = ‘https://raw.githubusercontent.com/Datamanim/pandas/main/Jeju.csv’"
   ]
  },
  {
   "cell_type": "markdown",
   "id": "9a88af6d-db36-4c9a-843f-1420f6589e59",
   "metadata": {},
   "source": [
    "### 9. 데이터를 로드하라. 컬럼이 한글이기에 적절한 처리해줘야함"
   ]
  },
  {
   "cell_type": "markdown",
   "id": "ba9f4bbc-6925-4757-9563-ce6a909aadec",
   "metadata": {},
   "source": [
    "### 10. 데이터 마지막 3개행을 출력하라"
   ]
  },
  {
   "cell_type": "markdown",
   "id": "a7279830-a571-4eda-b3b0-3e364629fbb6",
   "metadata": {},
   "source": [
    "### 11. 수치형 변수를 가진 컬럼을 출력하라"
   ]
  },
  {
   "cell_type": "markdown",
   "id": "aed07a3a-7684-4a01-82fe-a54cf8f8ae1b",
   "metadata": {},
   "source": [
    "### 12. 범주형 변수를 가진 컬럼을 출력하라"
   ]
  },
  {
   "cell_type": "markdown",
   "id": "69065028-5fd9-4425-8e86-2ef629cb788c",
   "metadata": {},
   "source": [
    "### 13. 각 컬럼의 결측치 숫자를 파악하라"
   ]
  },
  {
   "cell_type": "markdown",
   "id": "f3ccdf75-6ade-45a2-b0c0-be56fb14756a",
   "metadata": {},
   "source": [
    "### 14 각 컬럼의 데이터수, 데이터타입을 한번에 확인하라"
   ]
  },
  {
   "cell_type": "markdown",
   "id": "359940bf-c239-43f4-8d90-43d409452404",
   "metadata": {},
   "source": [
    "### 15. 각 수치형 변수의 분포(사분위, 평균, 표준편차, 최대 , 최소)를 확인하라"
   ]
  },
  {
   "cell_type": "markdown",
   "id": "613f0861-980f-4f0f-94cc-fc6d490161fd",
   "metadata": {},
   "source": [
    "### 16. 거주인구 컬럼의 값들을 출력하라"
   ]
  },
  {
   "cell_type": "markdown",
   "id": "4f04435d-2a88-4c47-b72d-c2c3cc97b243",
   "metadata": {},
   "source": [
    "### 17. 평균 속도 컬럼의 4분위 범위(IQR) 값을 구하여라"
   ]
  },
  {
   "cell_type": "markdown",
   "id": "5b1485aa-7076-430e-9273-a7c53055e16e",
   "metadata": {},
   "source": [
    "### 18. 읍면동명 컬럼의 유일값 갯수를 출력하라"
   ]
  },
  {
   "cell_type": "markdown",
   "id": "9f008dbe-0560-45c5-baea-35b7771d5e0d",
   "metadata": {},
   "source": [
    "### 19. 읍면동명 컬럼의 유일값을 모두 출력하라"
   ]
  },
  {
   "cell_type": "markdown",
   "id": "75ecf8e1-cf00-4f33-a800-b23f82d56521",
   "metadata": {
    "tags": []
   },
   "source": [
    "# Filtering & Sorting"
   ]
  },
  {
   "cell_type": "markdown",
   "id": "c73d8129-de47-460e-9678-20a73f2cc9b2",
   "metadata": {},
   "source": [
    "## 식당데이터 : justmarkham/DAT8\n",
    "DataUrl = 'https://raw.githubusercontent.com/Datamanim/pandas/main/chipo.csv'"
   ]
  },
  {
   "cell_type": "markdown",
   "id": "577f949a-5814-4aaa-bc43-71a797f9db93",
   "metadata": {},
   "source": [
    "### 20. 데이터를 로드하라."
   ]
  },
  {
   "cell_type": "markdown",
   "id": "ff019fea-0672-4a31-b72f-fbb8278dda22",
   "metadata": {},
   "source": [
    "### 21. quantity컬럼 값이 3인 데이터를 추출하여 첫 5행을 출력하라"
   ]
  },
  {
   "cell_type": "markdown",
   "id": "a7827422-9cae-453e-86f6-a48b0b990c9e",
   "metadata": {},
   "source": [
    "### 22. quantity컬럼 값이 3인 데이터를 추출하여 index를 0부터 정렬하고 첫 5행을 출력하라"
   ]
  },
  {
   "cell_type": "markdown",
   "id": "b914ebb3-c751-42cf-a20e-9f52888afad0",
   "metadata": {},
   "source": [
    "### 23. quantity , item_price 두개의 컬럼으로 구성된 새로운 데이터 프레임을 정의하라"
   ]
  },
  {
   "cell_type": "markdown",
   "id": "1b21af4f-e2ff-4282-8b3a-1ed9b70e80ae",
   "metadata": {},
   "source": [
    "### 24. item_price 컬럼의 달러표시 문자를 제거하고 float 타입으로 저장하여 new_price 컬럼에 저장하라"
   ]
  },
  {
   "cell_type": "markdown",
   "id": "d2301d63-296e-45e0-b62f-0a63f8ce0e82",
   "metadata": {},
   "source": [
    "### 25. new_price 컬럼이 5이하의 값을 가지는 데이터프레임을 추출하고, 전체 갯수를 구하여라"
   ]
  },
  {
   "cell_type": "markdown",
   "id": "a22cf0c6-67f6-4bf1-901e-ff0af66eacdc",
   "metadata": {},
   "source": [
    "### 26. item_name명이 Chicken Salad Bowl 인 데이터 프레임을 추출하라고 index 값을 초기화 하여라"
   ]
  },
  {
   "cell_type": "markdown",
   "id": "bb9fc4ef-f153-4646-9f38-53a9f968cedb",
   "metadata": {},
   "source": [
    "### 27. new_price값이 9 이하이고 item_name 값이 Chicken Salad Bowl 인 데이터 프레임을 추출하라"
   ]
  },
  {
   "cell_type": "markdown",
   "id": "06629551-2ad8-486b-a4fc-de9d55450521",
   "metadata": {},
   "source": [
    "### 28. df의 new_price 컬럼 값에 따라 오름차순으로 정리하고 index를 초기화 하여라"
   ]
  },
  {
   "cell_type": "markdown",
   "id": "68978230-60a1-4b9e-bf77-64c101a20210",
   "metadata": {},
   "source": [
    "### 정리29. df의 item_name 컬럼 값중 Chips 포함하는 경우의 데이터를 출력하라"
   ]
  },
  {
   "cell_type": "markdown",
   "id": "13b4a542-cf48-48d7-9ed6-0e2f7037fad5",
   "metadata": {},
   "source": [
    "### 30. df의 짝수번째 컬럼만을 포함하는 데이터프레임을 출력하라"
   ]
  },
  {
   "cell_type": "markdown",
   "id": "a8e43245-500a-4d29-8c8a-db7daf7eb36c",
   "metadata": {},
   "source": [
    "### 31. df의 new_price 컬럼 값에 따라 내림차순으로 정리하고 index를 초기화 하여라"
   ]
  },
  {
   "cell_type": "markdown",
   "id": "d4d53e84-dce2-42ce-ac80-cf1fc61294c1",
   "metadata": {},
   "source": [
    "### 32. df의 item_name 컬럼 값이 Steak Salad 또는 Bowl 인 데이터를 인덱싱하라"
   ]
  },
  {
   "cell_type": "markdown",
   "id": "26ce38a6-3499-4d40-969e-07d961d8ca7f",
   "metadata": {},
   "source": [
    "### 33. df의 item_name 컬럼 값이 Steak Salad 또는 Bowl 인 데이터를 데이터 프레임화 한 후, item_name를 기준으로 중복행이 있으면 제거하되 첫번째 케이스만 남겨라"
   ]
  },
  {
   "cell_type": "markdown",
   "id": "2e29b36e-18dd-4e4e-8c3c-684097bf4f47",
   "metadata": {},
   "source": [
    "### 34. df의 item_name 컬럼 값이 Steak Salad 또는 Bowl 인 데이터를 데이터 프레임화 한 후, item_name를 기준으로 중복행이 있으면 제거하되 마지막 케이스만 남겨라"
   ]
  },
  {
   "cell_type": "markdown",
   "id": "8277937f-be59-4541-a294-c266e89a040e",
   "metadata": {},
   "source": [
    "### 35. df의 데이터 중 new_price값이 new_price값의 평균값 이상을 가지는 데이터들을 인덱싱하라"
   ]
  },
  {
   "cell_type": "markdown",
   "id": "30941410-e522-47e4-b722-93ba123d01cd",
   "metadata": {},
   "source": [
    "### 36. df의 데이터 중 item_name의 값이 Izze 데이터를 Fizzy Lizzy로 수정하라"
   ]
  },
  {
   "cell_type": "markdown",
   "id": "7ccd6023-bd7f-44e6-b0f6-02097a294b88",
   "metadata": {},
   "source": [
    "### 37. df의 데이터 중 choice_description 값이 NaN 인 데이터의 갯수를 구하여라"
   ]
  },
  {
   "cell_type": "markdown",
   "id": "dc55ef6a-994b-41b3-a028-743eba025244",
   "metadata": {},
   "source": [
    "### 38. df의 데이터 중 choice_description 값이 NaN 인 데이터를 NoData 값으로 대체하라(loc 이용)"
   ]
  },
  {
   "cell_type": "markdown",
   "id": "e24e313a-cba0-476b-b5ff-c33c4633dbae",
   "metadata": {},
   "source": [
    "### 39. df의 데이터 중 choice_description 값에 Black이 들어가는 경우를 인덱싱하라"
   ]
  },
  {
   "cell_type": "markdown",
   "id": "8a9dd9b0-3fcf-452d-9171-02f1d5c4f082",
   "metadata": {},
   "source": [
    "### 40. df의 데이터 중 choice_description 값에 Vegetables 들어가지 않는 경우의 갯수를 출력하라"
   ]
  },
  {
   "cell_type": "markdown",
   "id": "e9a4eda9-eb32-45df-bb09-9578ca0ae8d0",
   "metadata": {},
   "source": [
    "### 41. df의 데이터 중 item_name 값이 N으로 시작하는 데이터를 모두 추출하라"
   ]
  },
  {
   "cell_type": "markdown",
   "id": "1c417b62-4821-466a-b2f9-bb9a6117204e",
   "metadata": {},
   "source": [
    "### 42. df의 데이터 중 item_name 값의 단어갯수가 15개 이상인 데이터를 인덱싱하라"
   ]
  },
  {
   "cell_type": "markdown",
   "id": "0dbc0f5a-6866-4703-8576-d75d3fa7774e",
   "metadata": {},
   "source": [
    "### 43. df의 데이터 중 new_price값이 lst에 해당하는 경우의 데이터 프레임을 구하고 그 갯수를 출력하라 \n",
    "lst =[1.69, 2.39, 3.39, 4.45, 9.25, 10.98, 11.75, 16.98]"
   ]
  },
  {
   "cell_type": "markdown",
   "id": "6c630285-c517-40c9-a1dd-d0321477b8d4",
   "metadata": {
    "toc-hr-collapsed": true
   },
   "source": [
    "# Grouping"
   ]
  },
  {
   "cell_type": "markdown",
   "id": "bb6cb30b-4122-4ff2-a63d-59a957a4f09b",
   "metadata": {},
   "source": [
    "## 뉴욕 airBnB \n",
    ": https://www.kaggle.com/ptoscano230382/air-bnb-ny-2019 \n",
    "- DataUrl = ‘https://raw.githubusercontent.com/Datamanim/pandas/main/AB_NYC_2019.csv’"
   ]
  },
  {
   "cell_type": "markdown",
   "id": "37270282-66f1-4895-9106-0bfecfaa988e",
   "metadata": {},
   "source": [
    "### 44. 데이터를 로드하고 상위 5개 컬럼을 출력하라"
   ]
  },
  {
   "cell_type": "markdown",
   "id": "bb0d60af-3444-4094-bc32-b734dfc7a714",
   "metadata": {},
   "source": [
    "### 45. 데이터의 각 host_name의 빈도수를 구하고 host_name으로 정렬하여 상위 5개를 출력하라"
   ]
  },
  {
   "cell_type": "markdown",
   "id": "970ae839-6170-4424-a8fc-7c9a1e3c075d",
   "metadata": {},
   "source": [
    "### 46. 데이터의 각 host_name의 빈도수를 구하고 빈도수 기준 내림차순 정렬한 데이터 프레임을 만들어라. 빈도수 컬럼은 counts로 명명하라"
   ]
  },
  {
   "cell_type": "markdown",
   "id": "0fb0463f-8e96-4548-a606-b9b67c40ec17",
   "metadata": {},
   "source": [
    "### 47. neighbourhood_group의 값에 따른 neighbourhood컬럼 값의 갯수를 구하여라"
   ]
  },
  {
   "cell_type": "markdown",
   "id": "f788f98c-0cae-404c-9521-aa78451364dd",
   "metadata": {},
   "source": [
    "### 48. neighbourhood_group의 값에 따른 neighbourhood컬럼 값 중 neighbourhood_group그룹의 최댓값들을 출력하라"
   ]
  },
  {
   "cell_type": "markdown",
   "id": "75e9cd67-1c6f-47ff-ad3d-4f8b2a7d2ca3",
   "metadata": {},
   "source": [
    "### 49. neighbourhood_group 값에 따른 price값의 평균, 분산, 최대, 최소 값을 구하여라"
   ]
  },
  {
   "cell_type": "markdown",
   "id": "a9bccd21-ee21-4fb0-97b6-58d35bf400e4",
   "metadata": {},
   "source": [
    "### 50. neighbourhood_group 값에 따른 reviews_per_month 평균, 분산, 최대, 최소 값을 구하여라"
   ]
  },
  {
   "cell_type": "markdown",
   "id": "ba1a4bfc-eb20-444e-807b-90ee83db3327",
   "metadata": {},
   "source": [
    "### 51. neighbourhood 값과 neighbourhood_group 값에 따른 price 의 평균을 구하라"
   ]
  },
  {
   "cell_type": "markdown",
   "id": "a0842cc4-96b4-4848-943b-01a02693b08f",
   "metadata": {},
   "source": [
    "### 52. neighbourhood 값과 neighbourhood_group 값에 따른 price 의 평균을 계층적 indexing 없이 구하라"
   ]
  },
  {
   "cell_type": "markdown",
   "id": "994b985d-3935-4128-8253-cd1aba59585a",
   "metadata": {},
   "source": [
    "### 53. neighbourhood 값과 neighbourhood_group 값에 따른 price 의 평균을 계층적 indexing 없이 구하고 nan 값은 -999값으로 채워라"
   ]
  },
  {
   "cell_type": "markdown",
   "id": "4e5f8e7e-665e-463b-9297-ab87124cde75",
   "metadata": {},
   "source": [
    "### 54. 데이터중 neighbourhood_group 값이 Queens값을 가지는 데이터들 중 neighbourhood 그룹별로 price값의 평균, 분산, 최대, 최소값을 구하라"
   ]
  },
  {
   "cell_type": "markdown",
   "id": "30cfb730-8a8d-4571-89e5-105b8cd17619",
   "metadata": {},
   "source": [
    "### 55. 데이터중 neighbourhood_group 값에 따른 room_type 컬럼의 숫자를 구하고 neighbourhood_group 값을 기준으로 각 값의 비율을 구하여라"
   ]
  },
  {
   "cell_type": "markdown",
   "id": "f1418867-6e45-4302-842d-58191d27cfcb",
   "metadata": {
    "tags": []
   },
   "source": [
    "# Apply , Map"
   ]
  },
  {
   "cell_type": "markdown",
   "id": "50891f6e-10c2-4bcb-8a75-4dea64a486e8",
   "metadata": {
    "tags": [],
    "toc-hr-collapsed": true
   },
   "source": [
    "## 카드이용데이터 \n",
    "\n",
    "- https://www.kaggle.com/sakshigoyal7/credit-card-customers \n",
    "- DataUrl = ‘https://raw.githubusercontent.com/Datamanim/pandas/main/BankChurnersUp.csv’"
   ]
  },
  {
   "cell_type": "markdown",
   "id": "33dc841d-41df-43fb-bc25-74005317bf8d",
   "metadata": {},
   "source": [
    "### 56. 데이터를 로드하고 데이터 행과 열의 갯수를 출력하라"
   ]
  },
  {
   "cell_type": "markdown",
   "id": "d25b3d9c-31c1-4999-9020-09b1e8325dfc",
   "metadata": {},
   "source": [
    "### 57. Income_Category의 카테고리를 map 함수를 이용하여 다음과 같이 변경하여 newIncome 컬럼에 매핑하라 \n",
    "\n",
    "- Unknown : N \n",
    "- Less than $40K : a\n",
    "- 40K ~ 60K : b\n",
    "- 60K ~ 80K : c\n",
    "- 80K ~ 120K : d\n",
    "- $120K + : e"
   ]
  },
  {
   "cell_type": "markdown",
   "id": "a7a32f7e-f2cf-4744-b472-710f0e248022",
   "metadata": {},
   "source": [
    "### 58. Income_Category의 카테고리를 apply 함수를 이용하여 다음과 같이 변경하여 newIncome 컬럼에 매핑하라 \n",
    "- Unknown : N\n",
    "- Less than $40K : a\n",
    "- 40K ~ 60K : b\n",
    "- 60K ~ 80K : c\n",
    "- 80K ~ 120K : d\n",
    "- 120K + : e"
   ]
  },
  {
   "cell_type": "markdown",
   "id": "78185bdd-6473-4e18-8fd2-ea30f6da6e08",
   "metadata": {},
   "source": [
    "### 59. Customer_Age의 값을 이용하여 나이 구간을 AgeState 컬럼으로 정의하라. \n",
    "- 0 ~ 9 : 0 \n",
    "- 10~19 : 10 \n",
    "- 20~29 :20 … <br>각 구간의 빈도수를 출력하라"
   ]
  },
  {
   "cell_type": "markdown",
   "id": "05038ab1-90c2-453f-8f18-61aa5d09f3b9",
   "metadata": {},
   "source": [
    "### 정리60. Education_Level의 값중 Graduate단어가 포함되는 값은 1 그렇지 않은 경우에는 0으로 변경하여 newEduLevel 컬럼을 정의하고 빈도수를 출력하라"
   ]
  },
  {
   "cell_type": "markdown",
   "id": "d795e47b-14ca-4276-be52-dd872f40d4a8",
   "metadata": {},
   "source": [
    "### 61. Credit_Limit 컬럼값이 4500 이상인 경우 1 그외의 경우에는 모두 0으로 하는 newLimit 정의하라. newLimit 각 값들의 빈도수를 출력하라"
   ]
  },
  {
   "cell_type": "markdown",
   "id": "df61bcbe-a630-4dfd-9e59-3f8b9228478e",
   "metadata": {},
   "source": [
    "### 62. Marital_Status 컬럼값이 Married 이고 Card_Category 컬럼의 값이 Platinum인 경우 1 그외의 경우에는 모두 0으로 하는 newState컬럼을 정의하라. newState의 각 값들의 빈도수를 출력하라"
   ]
  },
  {
   "cell_type": "markdown",
   "id": "4794d809-f7ce-4a5a-935c-2f7c25f36f16",
   "metadata": {},
   "source": [
    "### 63. Gender 컬럼값 M인 경우 male F인 경우 female로 값을 변경하여 Gender 컬럼에 새롭게 정의하라. 각 value의 빈도를 출력하라"
   ]
  },
  {
   "cell_type": "markdown",
   "id": "dd0ea65a-6538-48f0-b631-6bd838db066f",
   "metadata": {
    "tags": []
   },
   "source": [
    "# Time_Series\n"
   ]
  },
  {
   "cell_type": "markdown",
   "id": "40542d03-69f4-4879-9b1e-2b7981985aa3",
   "metadata": {
    "tags": [],
    "toc-hr-collapsed": true
   },
   "source": [
    "## 주가 데이터 \n",
    "\n",
    "- https://raw.githubusercontent.com/guipsamora/pandas_exercises/master/06_Stats/Wind_Stats/wind.data \n",
    "- DataUrl = ‘https://raw.githubusercontent.com/Datamanim/pandas/main/timeTest.csv’"
   ]
  },
  {
   "cell_type": "code",
   "execution_count": 226,
   "id": "70ee91bf-e5eb-4390-86f0-dcae79af9266",
   "metadata": {},
   "outputs": [],
   "source": [
    "DataUrl = 'https://raw.githubusercontent.com/Datamanim/pandas/main/timeTest.csv'\n",
    "df = pd.read_csv(DataUrl)"
   ]
  },
  {
   "cell_type": "markdown",
   "id": "7f6d0126-e366-4fc5-a420-985313cc4ed7",
   "metadata": {
    "tags": []
   },
   "source": [
    "### 64. 데이터를 로드하고 각 열의 데이터 타입을 파악하라"
   ]
  },
  {
   "cell_type": "markdown",
   "id": "f9d2cffd-9b9e-4a4a-8bc3-f635fbd915a7",
   "metadata": {},
   "source": [
    "### 65. Yr_Mo_Dy을 판다스에서 인식할 수 있는 datetime64타입으로 변경하라"
   ]
  },
  {
   "cell_type": "markdown",
   "id": "dd1eadd9-f5a9-40fa-93f1-ce6c57967c23",
   "metadata": {},
   "source": [
    "### 66. Yr_Mo_Dy에 존재하는 년도의 유일값을 모두 출력하라"
   ]
  },
  {
   "cell_type": "markdown",
   "id": "9865e455-4e84-414c-a66d-099314fad50a",
   "metadata": {},
   "source": [
    "### 재확인 67. Yr_Mo_Dy에 년도가 2061년 이상의 경우에는 모두 잘못된 데이터이다. 해당경우의 값은 100을 빼서 새롭게 날짜를 Yr_Mo_Dy 컬럼에 정의하라"
   ]
  },
  {
   "cell_type": "markdown",
   "id": "98a89856-d492-4db6-9ea2-cac8e7ce81b7",
   "metadata": {},
   "source": [
    "### 68. 년도별 각 컬럼의 평균값을 구하여라"
   ]
  },
  {
   "cell_type": "markdown",
   "id": "11818b23-ec12-4f68-9713-51379c437ce6",
   "metadata": {},
   "source": [
    "### 69. weekday컬럼을 만들고 요|일별로 매핑하라 ( 월요일: 0 ~ 일요일 :6)"
   ]
  },
  {
   "cell_type": "markdown",
   "id": "bd85b127-654b-4bdf-a929-9628eb47f794",
   "metadata": {},
   "source": [
    "### 70. weekday컬럼을 기준으로 주말이면 1 평일이면 0의 값을 가지는 WeekCheck 컬럼을 만들어라"
   ]
  },
  {
   "cell_type": "markdown",
   "id": "fae80e47-4891-4456-952c-1d2e6eed2246",
   "metadata": {},
   "source": [
    "### 재확인 71. 년도, 일자 상관없이 모든 컬럼의 각 달의 평균을 구하여라"
   ]
  },
  {
   "cell_type": "markdown",
   "id": "0b896934-1dc5-4f48-b7f0-5b1530f9a3da",
   "metadata": {},
   "source": [
    "### 72. 모든 결측치는 컬럼기준 직전의 값으로 대체하고 첫번째 행에 결측치가 있을경우 뒤에있는 값으로 대채하라"
   ]
  },
  {
   "cell_type": "markdown",
   "id": "98ab80fd-d882-403b-8aeb-fa8b92a6d8a0",
   "metadata": {},
   "source": [
    "### 73. 년도 - 월을 기준으로 모든 컬럼의 평균값을 구하여라"
   ]
  },
  {
   "cell_type": "markdown",
   "id": "16287f29-7e71-44bf-9c37-1412d7f4fb79",
   "metadata": {},
   "source": [
    "### 74. RPT 컬럼의 값을 일자별 기준으로 1차차분하라"
   ]
  },
  {
   "cell_type": "markdown",
   "id": "17d28ebc-9008-4bea-b50d-3623fe6d3c33",
   "metadata": {},
   "source": [
    "### 75. RPT와 VAL의 컬럼을 일주일 간격으로 각각 이동평균한값을 구하여라"
   ]
  },
  {
   "cell_type": "markdown",
   "id": "06ee6704-18cb-460a-a594-88ce0ff510a4",
   "metadata": {
    "toc-hr-collapsed": true
   },
   "source": [
    "## 서울시 미세먼지 데이터 \n",
    "\n",
    "- https://www.airkorea.or.kr/web/realSearch?pMENU_NO=97 \n",
    "- DataUrl = ‘https://raw.githubusercontent.com/Datamanim/pandas/main/seoul_pm.csv’"
   ]
  },
  {
   "cell_type": "code",
   "execution_count": 302,
   "id": "638dde52-f50c-4484-abdb-cc1f16f5c73b",
   "metadata": {},
   "outputs": [],
   "source": [
    "DataUrl = 'https://raw.githubusercontent.com/Datamanim/pandas/main/seoul_pm.csv'\n",
    "df = pd.read_csv(DataUrl)"
   ]
  },
  {
   "cell_type": "markdown",
   "id": "bb910309-6c9f-4bae-a15b-1701f5d65f77",
   "metadata": {},
   "source": [
    "### 재확인 76. 년-월-일:시 컬럼을 pandas에서 인식할 수 있는 datetime 형태로 변경하라. \n",
    "서울시의 제공데이터의 경우 0시가 24시로 표현된다"
   ]
  },
  {
   "cell_type": "markdown",
   "id": "0fae604e-e2b4-4117-8e8d-9f80f881f334",
   "metadata": {},
   "source": [
    "### 77. 일자별 영어요일 이름을 dayName 컬럼에 저장하라"
   ]
  },
  {
   "cell_type": "markdown",
   "id": "ff6ca53f-b61d-4ca8-ae7a-852d8d2be1ca",
   "metadata": {},
   "source": [
    "### 78. 일자별 각 PM10등급의 빈도수를 파악하라"
   ]
  },
  {
   "cell_type": "markdown",
   "id": "15c7537e-c53c-4e63-aec9-de87714de869",
   "metadata": {},
   "source": [
    "### 79. 시간이 연속적으로 존재하며 결측치가 없는지 확인하라"
   ]
  },
  {
   "cell_type": "markdown",
   "id": "7af88f2c-66ea-410d-9583-0751c23736e4",
   "metadata": {},
   "source": [
    "### 80. 오전 10시와 오후 10시(22시)의 PM10의 평균값을 각각 구하여라"
   ]
  },
  {
   "cell_type": "markdown",
   "id": "ee88ab45-9abf-4694-87b7-8337abfc7df7",
   "metadata": {},
   "source": [
    "### 재확인 81. 날짜 컬럼을 index로 만들어라"
   ]
  },
  {
   "cell_type": "markdown",
   "id": "93d67e25-78c1-4fd2-8625-7d324c5b96a4",
   "metadata": {},
   "source": [
    "### 82. 데이터를 주단위로 뽑아서 최소,최대 평균, 표준표차를 구하여라"
   ]
  },
  {
   "cell_type": "markdown",
   "id": "d0735b3b-9d71-4b7c-b8f4-1d5adf604196",
   "metadata": {},
   "source": [
    "# Pivot"
   ]
  },
  {
   "cell_type": "markdown",
   "id": "16bee81e-e8e0-4184-8e73-eee526b7163c",
   "metadata": {},
   "source": [
    "## 국가별 5세이하 사망비율 통계 \n",
    "\n",
    "- https://www.kaggle.com/utkarshxy/who-worldhealth-statistics-2020-complete \n",
    "- Dataurl = ‘https://raw.githubusercontent.com/Datamanim/pandas/main/under5MortalityRate.csv’"
   ]
  },
  {
   "cell_type": "code",
   "execution_count": null,
   "id": "c4c630c3-c07b-4f2e-92ff-d5d3c378ce85",
   "metadata": {},
   "outputs": [],
   "source": [
    "Dataurl = 'https://raw.githubusercontent.com/Datamanim/pandas/main/under5MortalityRate.csv'\n",
    "df = pd.read_csv(Dataurl)"
   ]
  },
  {
   "cell_type": "markdown",
   "id": "0f6cbff7-61d5-4c2c-a789-0e1efb1494d3",
   "metadata": {},
   "source": [
    "### 83. Indicator을 삭제하고 First Tooltip 컬럼에서 신뢰구간에 해당하는 표현을 지워라"
   ]
  },
  {
   "cell_type": "markdown",
   "id": "70eee6d3-027b-4551-a853-998f9e88d0c5",
   "metadata": {},
   "source": [
    "### 84. 년도가 2015년 이상, Dim1이 Both sexes인 케이스만 추출하라"
   ]
  },
  {
   "cell_type": "markdown",
   "id": "3d3dbb91-11c8-4406-a0ba-fdd9c4402ae2",
   "metadata": {},
   "source": [
    "### 85. 84번 문제에서 추출한 데이터로 아래와 같이 나라에 따른 년도별 사망률을 데이터 프레임화 하라"
   ]
  },
  {
   "cell_type": "markdown",
   "id": "6f2620c7-f54d-4787-a85e-5d56f9608123",
   "metadata": {},
   "source": [
    "### 86. Dim1에 따른 년도별 사망비율의 평균을 구하라"
   ]
  },
  {
   "cell_type": "markdown",
   "id": "370057c1-7ffa-4da1-a25f-ec948f2187ef",
   "metadata": {},
   "source": [
    "## 올림픽 메달리스트 정보 데이터\n",
    "- https://www.kaggle.com/the-guardian/olympic-games \n",
    "- dataUrl =’https://raw.githubusercontent.com/Datamanim/pandas/main/winter.csv’"
   ]
  },
  {
   "cell_type": "code",
   "execution_count": null,
   "id": "ea1e2a0f-d392-4c23-bdfd-ed7da554ed13",
   "metadata": {},
   "outputs": [],
   "source": [
    "dataUrl ='https://raw.githubusercontent.com/Datamanim/pandas/main/winter.csv'"
   ]
  },
  {
   "cell_type": "markdown",
   "id": "1946cae4-4e83-478d-951c-3069522a2534",
   "metadata": {},
   "source": [
    "### 87. 데이터에서 한국 KOR 데이터만 추출하라"
   ]
  },
  {
   "cell_type": "markdown",
   "id": "ad8c5e9e-4582-4c53-b015-486ac5d7c2fc",
   "metadata": {},
   "source": [
    "### 88. 한국 올림픽 메달리스트 데이터에서 년도에 따른 medal 갯수를 데이터프레임화 하라"
   ]
  },
  {
   "cell_type": "markdown",
   "id": "e75e8314-4bbe-44dd-9e13-bdf965bdbfce",
   "metadata": {},
   "source": [
    "### 89. 전체 데이터에서 sport종류에 따른 성별수를 구하여라"
   ]
  },
  {
   "cell_type": "markdown",
   "id": "ee5019ac-7ae7-4774-9347-f183abe78699",
   "metadata": {},
   "source": [
    "### 90. 전체 데이터에서 Discipline종류에 따른 따른 Medal수를 구하여라"
   ]
  },
  {
   "cell_type": "markdown",
   "id": "78b4c1d1-f848-488a-a40b-bbe360aa8af1",
   "metadata": {},
   "source": [
    "# Merge , Concat"
   ]
  },
  {
   "cell_type": "markdown",
   "id": "e95dc666-cff6-4fbf-843a-14cb6eda1a48",
   "metadata": {},
   "source": [
    "## 국가별 5세이하 사망비율 통계 \n",
    "\n",
    "-https://www.kaggle.com/utkarshxy/who-worldhealth-statistics-2020-complete\n",
    "- Dataurl = ‘https://raw.githubusercontent.com/Datamanim/pandas/main/mergeTEst.csv’"
   ]
  },
  {
   "cell_type": "code",
   "execution_count": 390,
   "id": "94a7ac43-13e3-4606-9700-ef889862d464",
   "metadata": {},
   "outputs": [
    {
     "data": {
      "text/html": [
       "<div>\n",
       "<style scoped>\n",
       "    .dataframe tbody tr th:only-of-type {\n",
       "        vertical-align: middle;\n",
       "    }\n",
       "\n",
       "    .dataframe tbody tr th {\n",
       "        vertical-align: top;\n",
       "    }\n",
       "\n",
       "    .dataframe thead th {\n",
       "        text-align: right;\n",
       "    }\n",
       "</style>\n",
       "<table border=\"1\" class=\"dataframe\">\n",
       "  <thead>\n",
       "    <tr style=\"text-align: right;\">\n",
       "      <th></th>\n",
       "      <th>2010</th>\n",
       "      <th>2011</th>\n",
       "      <th>2012</th>\n",
       "      <th>2013</th>\n",
       "      <th>2014</th>\n",
       "      <th>2015</th>\n",
       "      <th>2016</th>\n",
       "      <th>2017</th>\n",
       "      <th>2018</th>\n",
       "      <th>2019</th>\n",
       "    </tr>\n",
       "    <tr>\n",
       "      <th>Location</th>\n",
       "      <th></th>\n",
       "      <th></th>\n",
       "      <th></th>\n",
       "      <th></th>\n",
       "      <th></th>\n",
       "      <th></th>\n",
       "      <th></th>\n",
       "      <th></th>\n",
       "      <th></th>\n",
       "      <th></th>\n",
       "    </tr>\n",
       "  </thead>\n",
       "  <tbody>\n",
       "    <tr>\n",
       "      <th>Afghanistan</th>\n",
       "      <td>64.023</td>\n",
       "      <td>61.640</td>\n",
       "      <td>59.367</td>\n",
       "      <td>57.170</td>\n",
       "      <td>55.08</td>\n",
       "      <td>53.107</td>\n",
       "      <td>51.267</td>\n",
       "      <td>49.560</td>\n",
       "      <td>47.983</td>\n",
       "      <td>46.453</td>\n",
       "    </tr>\n",
       "    <tr>\n",
       "      <th>Albania</th>\n",
       "      <td>11.803</td>\n",
       "      <td>10.807</td>\n",
       "      <td>9.943</td>\n",
       "      <td>9.267</td>\n",
       "      <td>8.79</td>\n",
       "      <td>8.493</td>\n",
       "      <td>8.363</td>\n",
       "      <td>8.363</td>\n",
       "      <td>8.453</td>\n",
       "      <td>8.597</td>\n",
       "    </tr>\n",
       "    <tr>\n",
       "      <th>Algeria</th>\n",
       "      <td>23.540</td>\n",
       "      <td>22.907</td>\n",
       "      <td>22.450</td>\n",
       "      <td>22.117</td>\n",
       "      <td>21.85</td>\n",
       "      <td>21.587</td>\n",
       "      <td>21.257</td>\n",
       "      <td>20.850</td>\n",
       "      <td>20.407</td>\n",
       "      <td>19.930</td>\n",
       "    </tr>\n",
       "    <tr>\n",
       "      <th>Andorra</th>\n",
       "      <td>4.240</td>\n",
       "      <td>4.033</td>\n",
       "      <td>3.843</td>\n",
       "      <td>3.667</td>\n",
       "      <td>3.49</td>\n",
       "      <td>3.330</td>\n",
       "      <td>3.187</td>\n",
       "      <td>3.060</td>\n",
       "      <td>2.933</td>\n",
       "      <td>2.827</td>\n",
       "    </tr>\n",
       "  </tbody>\n",
       "</table>\n",
       "</div>"
      ],
      "text/plain": [
       "               2010    2011    2012    2013   2014    2015    2016    2017  \\\n",
       "Location                                                                     \n",
       "Afghanistan  64.023  61.640  59.367  57.170  55.08  53.107  51.267  49.560   \n",
       "Albania      11.803  10.807   9.943   9.267   8.79   8.493   8.363   8.363   \n",
       "Algeria      23.540  22.907  22.450  22.117  21.85  21.587  21.257  20.850   \n",
       "Andorra       4.240   4.033   3.843   3.667   3.49   3.330   3.187   3.060   \n",
       "\n",
       "               2018    2019  \n",
       "Location                     \n",
       "Afghanistan  47.983  46.453  \n",
       "Albania       8.453   8.597  \n",
       "Algeria      20.407  19.930  \n",
       "Andorra       2.933   2.827  "
      ]
     },
     "metadata": {},
     "output_type": "display_data"
    },
    {
     "data": {
      "text/html": [
       "<div>\n",
       "<style scoped>\n",
       "    .dataframe tbody tr th:only-of-type {\n",
       "        vertical-align: middle;\n",
       "    }\n",
       "\n",
       "    .dataframe tbody tr th {\n",
       "        vertical-align: top;\n",
       "    }\n",
       "\n",
       "    .dataframe thead th {\n",
       "        text-align: right;\n",
       "    }\n",
       "</style>\n",
       "<table border=\"1\" class=\"dataframe\">\n",
       "  <thead>\n",
       "    <tr style=\"text-align: right;\">\n",
       "      <th></th>\n",
       "      <th>2010</th>\n",
       "      <th>2011</th>\n",
       "      <th>2012</th>\n",
       "      <th>2013</th>\n",
       "      <th>2014</th>\n",
       "      <th>2015</th>\n",
       "      <th>2016</th>\n",
       "      <th>2017</th>\n",
       "      <th>2018</th>\n",
       "      <th>2019</th>\n",
       "    </tr>\n",
       "    <tr>\n",
       "      <th>Location</th>\n",
       "      <th></th>\n",
       "      <th></th>\n",
       "      <th></th>\n",
       "      <th></th>\n",
       "      <th></th>\n",
       "      <th></th>\n",
       "      <th></th>\n",
       "      <th></th>\n",
       "      <th></th>\n",
       "      <th></th>\n",
       "    </tr>\n",
       "  </thead>\n",
       "  <tbody>\n",
       "    <tr>\n",
       "      <th>Angola</th>\n",
       "      <td>75.713</td>\n",
       "      <td>71.280</td>\n",
       "      <td>67.233</td>\n",
       "      <td>63.570</td>\n",
       "      <td>60.430</td>\n",
       "      <td>57.757</td>\n",
       "      <td>55.510</td>\n",
       "      <td>53.460</td>\n",
       "      <td>51.757</td>\n",
       "      <td>50.093</td>\n",
       "    </tr>\n",
       "    <tr>\n",
       "      <th>Antigua and Barbuda</th>\n",
       "      <td>8.667</td>\n",
       "      <td>8.223</td>\n",
       "      <td>7.807</td>\n",
       "      <td>7.420</td>\n",
       "      <td>7.070</td>\n",
       "      <td>6.757</td>\n",
       "      <td>6.483</td>\n",
       "      <td>6.230</td>\n",
       "      <td>6.000</td>\n",
       "      <td>5.783</td>\n",
       "    </tr>\n",
       "    <tr>\n",
       "      <th>Argentina</th>\n",
       "      <td>12.887</td>\n",
       "      <td>12.380</td>\n",
       "      <td>11.840</td>\n",
       "      <td>11.283</td>\n",
       "      <td>10.733</td>\n",
       "      <td>10.203</td>\n",
       "      <td>9.683</td>\n",
       "      <td>9.177</td>\n",
       "      <td>8.680</td>\n",
       "      <td>8.227</td>\n",
       "    </tr>\n",
       "    <tr>\n",
       "      <th>Armenia</th>\n",
       "      <td>16.497</td>\n",
       "      <td>15.677</td>\n",
       "      <td>14.897</td>\n",
       "      <td>14.170</td>\n",
       "      <td>13.477</td>\n",
       "      <td>12.817</td>\n",
       "      <td>12.183</td>\n",
       "      <td>11.583</td>\n",
       "      <td>11.007</td>\n",
       "      <td>10.497</td>\n",
       "    </tr>\n",
       "    <tr>\n",
       "      <th>Australia</th>\n",
       "      <td>3.993</td>\n",
       "      <td>3.803</td>\n",
       "      <td>3.623</td>\n",
       "      <td>3.467</td>\n",
       "      <td>3.343</td>\n",
       "      <td>3.253</td>\n",
       "      <td>3.183</td>\n",
       "      <td>3.137</td>\n",
       "      <td>3.090</td>\n",
       "      <td>3.047</td>\n",
       "    </tr>\n",
       "    <tr>\n",
       "      <th>Austria</th>\n",
       "      <td>3.573</td>\n",
       "      <td>3.463</td>\n",
       "      <td>3.333</td>\n",
       "      <td>3.210</td>\n",
       "      <td>3.113</td>\n",
       "      <td>3.043</td>\n",
       "      <td>2.987</td>\n",
       "      <td>2.943</td>\n",
       "      <td>2.897</td>\n",
       "      <td>2.843</td>\n",
       "    </tr>\n",
       "  </tbody>\n",
       "</table>\n",
       "</div>"
      ],
      "text/plain": [
       "                       2010    2011    2012    2013    2014    2015    2016  \\\n",
       "Location                                                                      \n",
       "Angola               75.713  71.280  67.233  63.570  60.430  57.757  55.510   \n",
       "Antigua and Barbuda   8.667   8.223   7.807   7.420   7.070   6.757   6.483   \n",
       "Argentina            12.887  12.380  11.840  11.283  10.733  10.203   9.683   \n",
       "Armenia              16.497  15.677  14.897  14.170  13.477  12.817  12.183   \n",
       "Australia             3.993   3.803   3.623   3.467   3.343   3.253   3.183   \n",
       "Austria               3.573   3.463   3.333   3.210   3.113   3.043   2.987   \n",
       "\n",
       "                       2017    2018    2019  \n",
       "Location                                     \n",
       "Angola               53.460  51.757  50.093  \n",
       "Antigua and Barbuda   6.230   6.000   5.783  \n",
       "Argentina             9.177   8.680   8.227  \n",
       "Armenia              11.583  11.007  10.497  \n",
       "Australia             3.137   3.090   3.047  \n",
       "Austria               2.943   2.897   2.843  "
      ]
     },
     "metadata": {},
     "output_type": "display_data"
    },
    {
     "data": {
      "text/html": [
       "<div>\n",
       "<style scoped>\n",
       "    .dataframe tbody tr th:only-of-type {\n",
       "        vertical-align: middle;\n",
       "    }\n",
       "\n",
       "    .dataframe tbody tr th {\n",
       "        vertical-align: top;\n",
       "    }\n",
       "\n",
       "    .dataframe thead th {\n",
       "        text-align: right;\n",
       "    }\n",
       "</style>\n",
       "<table border=\"1\" class=\"dataframe\">\n",
       "  <thead>\n",
       "    <tr style=\"text-align: right;\">\n",
       "      <th></th>\n",
       "      <th>2010</th>\n",
       "      <th>2011</th>\n",
       "      <th>2012</th>\n",
       "      <th>2013</th>\n",
       "    </tr>\n",
       "    <tr>\n",
       "      <th>Location</th>\n",
       "      <th></th>\n",
       "      <th></th>\n",
       "      <th></th>\n",
       "      <th></th>\n",
       "    </tr>\n",
       "  </thead>\n",
       "  <tbody>\n",
       "    <tr>\n",
       "      <th>Afghanistan</th>\n",
       "      <td>64.023</td>\n",
       "      <td>61.640</td>\n",
       "      <td>59.367</td>\n",
       "      <td>57.170</td>\n",
       "    </tr>\n",
       "    <tr>\n",
       "      <th>Albania</th>\n",
       "      <td>11.803</td>\n",
       "      <td>10.807</td>\n",
       "      <td>9.943</td>\n",
       "      <td>9.267</td>\n",
       "    </tr>\n",
       "  </tbody>\n",
       "</table>\n",
       "</div>"
      ],
      "text/plain": [
       "               2010    2011    2012    2013\n",
       "Location                                   \n",
       "Afghanistan  64.023  61.640  59.367  57.170\n",
       "Albania      11.803  10.807   9.943   9.267"
      ]
     },
     "metadata": {},
     "output_type": "display_data"
    },
    {
     "data": {
      "text/html": [
       "<div>\n",
       "<style scoped>\n",
       "    .dataframe tbody tr th:only-of-type {\n",
       "        vertical-align: middle;\n",
       "    }\n",
       "\n",
       "    .dataframe tbody tr th {\n",
       "        vertical-align: top;\n",
       "    }\n",
       "\n",
       "    .dataframe thead th {\n",
       "        text-align: right;\n",
       "    }\n",
       "</style>\n",
       "<table border=\"1\" class=\"dataframe\">\n",
       "  <thead>\n",
       "    <tr style=\"text-align: right;\">\n",
       "      <th></th>\n",
       "      <th>2013</th>\n",
       "      <th>2014</th>\n",
       "      <th>2015</th>\n",
       "      <th>2016</th>\n",
       "      <th>2017</th>\n",
       "      <th>2018</th>\n",
       "      <th>2019</th>\n",
       "    </tr>\n",
       "    <tr>\n",
       "      <th>Location</th>\n",
       "      <th></th>\n",
       "      <th></th>\n",
       "      <th></th>\n",
       "      <th></th>\n",
       "      <th></th>\n",
       "      <th></th>\n",
       "      <th></th>\n",
       "    </tr>\n",
       "  </thead>\n",
       "  <tbody>\n",
       "    <tr>\n",
       "      <th>Antigua and Barbuda</th>\n",
       "      <td>7.420</td>\n",
       "      <td>7.070</td>\n",
       "      <td>6.757</td>\n",
       "      <td>6.483</td>\n",
       "      <td>6.230</td>\n",
       "      <td>6.000</td>\n",
       "      <td>5.783</td>\n",
       "    </tr>\n",
       "    <tr>\n",
       "      <th>Argentina</th>\n",
       "      <td>11.283</td>\n",
       "      <td>10.733</td>\n",
       "      <td>10.203</td>\n",
       "      <td>9.683</td>\n",
       "      <td>9.177</td>\n",
       "      <td>8.680</td>\n",
       "      <td>8.227</td>\n",
       "    </tr>\n",
       "    <tr>\n",
       "      <th>Armenia</th>\n",
       "      <td>14.170</td>\n",
       "      <td>13.477</td>\n",
       "      <td>12.817</td>\n",
       "      <td>12.183</td>\n",
       "      <td>11.583</td>\n",
       "      <td>11.007</td>\n",
       "      <td>10.497</td>\n",
       "    </tr>\n",
       "    <tr>\n",
       "      <th>Australia</th>\n",
       "      <td>3.467</td>\n",
       "      <td>3.343</td>\n",
       "      <td>3.253</td>\n",
       "      <td>3.183</td>\n",
       "      <td>3.137</td>\n",
       "      <td>3.090</td>\n",
       "      <td>3.047</td>\n",
       "    </tr>\n",
       "    <tr>\n",
       "      <th>Austria</th>\n",
       "      <td>3.210</td>\n",
       "      <td>3.113</td>\n",
       "      <td>3.043</td>\n",
       "      <td>2.987</td>\n",
       "      <td>2.943</td>\n",
       "      <td>2.897</td>\n",
       "      <td>2.843</td>\n",
       "    </tr>\n",
       "  </tbody>\n",
       "</table>\n",
       "</div>"
      ],
      "text/plain": [
       "                       2013    2014    2015    2016    2017    2018    2019\n",
       "Location                                                                   \n",
       "Antigua and Barbuda   7.420   7.070   6.757   6.483   6.230   6.000   5.783\n",
       "Argentina            11.283  10.733  10.203   9.683   9.177   8.680   8.227\n",
       "Armenia              14.170  13.477  12.817  12.183  11.583  11.007  10.497\n",
       "Australia             3.467   3.343   3.253   3.183   3.137   3.090   3.047\n",
       "Austria               3.210   3.113   3.043   2.987   2.943   2.897   2.843"
      ]
     },
     "metadata": {},
     "output_type": "display_data"
    },
    {
     "data": {
      "text/html": [
       "<div>\n",
       "<style scoped>\n",
       "    .dataframe tbody tr th:only-of-type {\n",
       "        vertical-align: middle;\n",
       "    }\n",
       "\n",
       "    .dataframe tbody tr th {\n",
       "        vertical-align: top;\n",
       "    }\n",
       "\n",
       "    .dataframe thead th {\n",
       "        text-align: right;\n",
       "    }\n",
       "</style>\n",
       "<table border=\"1\" class=\"dataframe\">\n",
       "  <thead>\n",
       "    <tr style=\"text-align: right;\">\n",
       "      <th>Location</th>\n",
       "      <th>Afghanistan</th>\n",
       "      <th>Albania</th>\n",
       "      <th>Algeria</th>\n",
       "    </tr>\n",
       "  </thead>\n",
       "  <tbody>\n",
       "    <tr>\n",
       "      <th>2010</th>\n",
       "      <td>64.023</td>\n",
       "      <td>11.803</td>\n",
       "      <td>23.540</td>\n",
       "    </tr>\n",
       "    <tr>\n",
       "      <th>2011</th>\n",
       "      <td>61.640</td>\n",
       "      <td>10.807</td>\n",
       "      <td>22.907</td>\n",
       "    </tr>\n",
       "    <tr>\n",
       "      <th>2012</th>\n",
       "      <td>59.367</td>\n",
       "      <td>9.943</td>\n",
       "      <td>22.450</td>\n",
       "    </tr>\n",
       "    <tr>\n",
       "      <th>2013</th>\n",
       "      <td>57.170</td>\n",
       "      <td>9.267</td>\n",
       "      <td>22.117</td>\n",
       "    </tr>\n",
       "    <tr>\n",
       "      <th>2014</th>\n",
       "      <td>55.080</td>\n",
       "      <td>8.790</td>\n",
       "      <td>21.850</td>\n",
       "    </tr>\n",
       "    <tr>\n",
       "      <th>2015</th>\n",
       "      <td>53.107</td>\n",
       "      <td>8.493</td>\n",
       "      <td>21.587</td>\n",
       "    </tr>\n",
       "    <tr>\n",
       "      <th>2016</th>\n",
       "      <td>51.267</td>\n",
       "      <td>8.363</td>\n",
       "      <td>21.257</td>\n",
       "    </tr>\n",
       "  </tbody>\n",
       "</table>\n",
       "</div>"
      ],
      "text/plain": [
       "Location  Afghanistan  Albania  Algeria\n",
       "2010           64.023   11.803   23.540\n",
       "2011           61.640   10.807   22.907\n",
       "2012           59.367    9.943   22.450\n",
       "2013           57.170    9.267   22.117\n",
       "2014           55.080    8.790   21.850\n",
       "2015           53.107    8.493   21.587\n",
       "2016           51.267    8.363   21.257"
      ]
     },
     "metadata": {},
     "output_type": "display_data"
    },
    {
     "data": {
      "text/html": [
       "<div>\n",
       "<style scoped>\n",
       "    .dataframe tbody tr th:only-of-type {\n",
       "        vertical-align: middle;\n",
       "    }\n",
       "\n",
       "    .dataframe tbody tr th {\n",
       "        vertical-align: top;\n",
       "    }\n",
       "\n",
       "    .dataframe thead th {\n",
       "        text-align: right;\n",
       "    }\n",
       "</style>\n",
       "<table border=\"1\" class=\"dataframe\">\n",
       "  <thead>\n",
       "    <tr style=\"text-align: right;\">\n",
       "      <th>Location</th>\n",
       "      <th>Algeria</th>\n",
       "      <th>Andorra</th>\n",
       "      <th>Angola</th>\n",
       "    </tr>\n",
       "  </thead>\n",
       "  <tbody>\n",
       "    <tr>\n",
       "      <th>2016</th>\n",
       "      <td>21.257</td>\n",
       "      <td>3.187</td>\n",
       "      <td>55.510</td>\n",
       "    </tr>\n",
       "    <tr>\n",
       "      <th>2017</th>\n",
       "      <td>20.850</td>\n",
       "      <td>3.060</td>\n",
       "      <td>53.460</td>\n",
       "    </tr>\n",
       "    <tr>\n",
       "      <th>2018</th>\n",
       "      <td>20.407</td>\n",
       "      <td>2.933</td>\n",
       "      <td>51.757</td>\n",
       "    </tr>\n",
       "    <tr>\n",
       "      <th>2019</th>\n",
       "      <td>19.930</td>\n",
       "      <td>2.827</td>\n",
       "      <td>50.093</td>\n",
       "    </tr>\n",
       "  </tbody>\n",
       "</table>\n",
       "</div>"
      ],
      "text/plain": [
       "Location  Algeria  Andorra  Angola\n",
       "2016       21.257    3.187  55.510\n",
       "2017       20.850    3.060  53.460\n",
       "2018       20.407    2.933  51.757\n",
       "2019       19.930    2.827  50.093"
      ]
     },
     "metadata": {},
     "output_type": "display_data"
    }
   ],
   "source": [
    "Dataurl = 'https://raw.githubusercontent.com/Datamanim/pandas/main/mergeTEst.csv'\n",
    "df = pd.read_csv(Dataurl,index_col=0)\n",
    "df1 = df.iloc[:4,:]\n",
    "df2 = df.iloc[4:,:]\n",
    "df3 = df.iloc[:2,:4]\n",
    "df4 = df.iloc[5:,3:]\n",
    "df5 = df.T.iloc[:7,:3]\n",
    "df6 = df.T.iloc[6:,2:5]\n",
    "\n",
    "display(df1)\n",
    "display(df2)\n",
    "display(df3)\n",
    "display(df4)\n",
    "display(df5)\n",
    "display(df6)"
   ]
  },
  {
   "cell_type": "markdown",
   "id": "3c25dcf6-f737-4e85-b3a9-721b1beda5de",
   "metadata": {},
   "source": [
    "### 91. df1과 df2 데이터를 하나의 데이터 프레임으로 합쳐라"
   ]
  },
  {
   "cell_type": "markdown",
   "id": "e3c3e0dc-45b1-4a09-91bb-8bfe74d58d55",
   "metadata": {},
   "source": [
    "### 92. df3과 df4 데이터를 하나의 데이터 프레임으로 합쳐라. 둘다 포함하고 있는 년도에 대해서만 고려한다"
   ]
  },
  {
   "cell_type": "markdown",
   "id": "04800a7d-545c-4711-9149-de5e7bd80338",
   "metadata": {},
   "source": [
    "### 93. df3과 df4 데이터를 하나의 데이터 프레임으로 합쳐라. 모든 컬럼을 포함하고, 결측치는 0으로 대체한다"
   ]
  },
  {
   "cell_type": "markdown",
   "id": "8e7c61b5-d954-46f3-b450-e1fefd1baa0c",
   "metadata": {},
   "source": [
    "### 94. df5과 df6 데이터를 하나의 데이터 프레임으로 merge함수를 이용하여 합쳐라. Algeria컬럼을 key로 하고 두 데이터 모두 포함하는 데이터만 출력하라"
   ]
  },
  {
   "cell_type": "markdown",
   "id": "a4f0434b-2b96-4541-95f4-efcb000e6828",
   "metadata": {},
   "source": [
    "### 95. df5과 df6 데이터를 하나의 데이터 프레임으로 merge함수를 이용하여 합쳐라. Algeria컬럼을 key로 하고 합집합으로 합쳐라"
   ]
  },
  {
   "cell_type": "code",
   "execution_count": null,
   "id": "654915d5-aefb-41f7-b140-fdc6afa0a603",
   "metadata": {},
   "outputs": [],
   "source": []
  }
 ],
 "metadata": {
  "kernelspec": {
   "display_name": "tw311",
   "language": "python",
   "name": "tw311"
  },
  "language_info": {
   "codemirror_mode": {
    "name": "ipython",
    "version": 3
   },
   "file_extension": ".py",
   "mimetype": "text/x-python",
   "name": "python",
   "nbconvert_exporter": "python",
   "pygments_lexer": "ipython3",
   "version": "3.11.8"
  }
 },
 "nbformat": 4,
 "nbformat_minor": 5
}
