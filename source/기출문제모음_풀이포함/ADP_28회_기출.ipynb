{
 "cells": [
  {
   "cell_type": "raw",
   "id": "888db396-a75c-4788-8643-93ef2ca4afea",
   "metadata": {},
   "source": [
    "데이터 출처 : https://www.kaggle.com/datasets/dipam7/student-grade-prediction?resource=download 후처리\n",
    "\n",
    "데이터 링크 : https://raw.githubusercontent.com/Datamanim/datarepo/main/adp/28/p1.csv\n",
    "\n",
    "데이터 설명 : 학생의 다양한 주변 환경에 따른 결석 등급 (absences)\n",
    "\n",
    "sex : 성별 (F : 여성 / M :남성)\n",
    "\n",
    "age : 나이\n",
    "\n",
    "pstatus : 부모와 동거 유무 (T : 동거중 , A : 별거)\n",
    "\n",
    "medu : 어머니 교육(0 - 없음, 1 - 초등 교육(4학년), 2 - 5~9학년, 3 - 중등 교육 또는 4 - 고등 교육)\n",
    "\n",
    "fedu : 아버지 교육(0 - 없음, 1 - 초등 교육(4학년), 2 - 5 - 9학년, 3 - 중등 교육 또는 4 - 고등 교육)\n",
    "\n",
    "guardian : 학생의 보호자\n",
    "\n",
    "traveltime : 집에서 학교까지 이동 시간(1 - <15분, 2 - 15 - 30분, 3 - 30분 - 1시간, 또는 4 - >1시간)\n",
    "\n",
    "studytime : 주간 학습 시간(1 - <2시간, 2 - 2 - 5시간, 3 - 5 - 10시간 또는 4 - >10시간)\n",
    "\n",
    "failures : 과거 클래스 실패 수(n if 1<=n<3, 그렇지 않으면 4)\n",
    "\n",
    "freetime : 방과 후 자유 시간(숫자: 1 - 매우 낮음에서 5 - 매우 높음)\n",
    "\n",
    "famrel : 가족 관계의 질(숫자: 1 - 매우 나쁨에서 5 - 훌륭함)\n",
    "\n",
    "absences : 학교 결석 횟수등급 (0~5, 높은 숫자일수록 많은 결석 횟수)"
   ]
  },
  {
   "cell_type": "markdown",
   "id": "88bc904d-513f-44f6-9e9e-1688c84745b5",
   "metadata": {},
   "source": [
    "# 1-1\n",
    "\n",
    "EDA를 진행하고 (+시각화) , 차원축소의 필요성이 있는지 확인 (5점)"
   ]
  },
  {
   "cell_type": "code",
   "execution_count": 93,
   "id": "a0d32bcd-a577-451e-9d2b-022d2fd2deee",
   "metadata": {},
   "outputs": [
    {
     "name": "stdout",
     "output_type": "stream",
     "text": [
      "(395, 12)\n"
     ]
    },
    {
     "data": {
      "text/html": [
       "<div>\n",
       "<style scoped>\n",
       "    .dataframe tbody tr th:only-of-type {\n",
       "        vertical-align: middle;\n",
       "    }\n",
       "\n",
       "    .dataframe tbody tr th {\n",
       "        vertical-align: top;\n",
       "    }\n",
       "\n",
       "    .dataframe thead th {\n",
       "        text-align: right;\n",
       "    }\n",
       "</style>\n",
       "<table border=\"1\" class=\"dataframe\">\n",
       "  <thead>\n",
       "    <tr style=\"text-align: right;\">\n",
       "      <th></th>\n",
       "      <th>dtypes</th>\n",
       "      <th>결측치</th>\n",
       "      <th>유일값</th>\n",
       "      <th>첫번째</th>\n",
       "      <th>두번째</th>\n",
       "    </tr>\n",
       "  </thead>\n",
       "  <tbody>\n",
       "    <tr>\n",
       "      <th>sex</th>\n",
       "      <td>object</td>\n",
       "      <td>0</td>\n",
       "      <td>2</td>\n",
       "      <td>F</td>\n",
       "      <td>F</td>\n",
       "    </tr>\n",
       "    <tr>\n",
       "      <th>age</th>\n",
       "      <td>int64</td>\n",
       "      <td>0</td>\n",
       "      <td>8</td>\n",
       "      <td>18</td>\n",
       "      <td>17</td>\n",
       "    </tr>\n",
       "    <tr>\n",
       "      <th>pstatus</th>\n",
       "      <td>object</td>\n",
       "      <td>0</td>\n",
       "      <td>2</td>\n",
       "      <td>A</td>\n",
       "      <td>T</td>\n",
       "    </tr>\n",
       "    <tr>\n",
       "      <th>medu</th>\n",
       "      <td>int64</td>\n",
       "      <td>0</td>\n",
       "      <td>5</td>\n",
       "      <td>4</td>\n",
       "      <td>1</td>\n",
       "    </tr>\n",
       "    <tr>\n",
       "      <th>fedu</th>\n",
       "      <td>int64</td>\n",
       "      <td>0</td>\n",
       "      <td>5</td>\n",
       "      <td>4</td>\n",
       "      <td>1</td>\n",
       "    </tr>\n",
       "    <tr>\n",
       "      <th>guardian</th>\n",
       "      <td>object</td>\n",
       "      <td>0</td>\n",
       "      <td>3</td>\n",
       "      <td>mother</td>\n",
       "      <td>father</td>\n",
       "    </tr>\n",
       "    <tr>\n",
       "      <th>traveltime</th>\n",
       "      <td>int64</td>\n",
       "      <td>0</td>\n",
       "      <td>4</td>\n",
       "      <td>2</td>\n",
       "      <td>1</td>\n",
       "    </tr>\n",
       "    <tr>\n",
       "      <th>studytime</th>\n",
       "      <td>int64</td>\n",
       "      <td>0</td>\n",
       "      <td>4</td>\n",
       "      <td>2</td>\n",
       "      <td>2</td>\n",
       "    </tr>\n",
       "    <tr>\n",
       "      <th>failures</th>\n",
       "      <td>int64</td>\n",
       "      <td>0</td>\n",
       "      <td>4</td>\n",
       "      <td>0</td>\n",
       "      <td>0</td>\n",
       "    </tr>\n",
       "    <tr>\n",
       "      <th>freetime</th>\n",
       "      <td>int64</td>\n",
       "      <td>0</td>\n",
       "      <td>5</td>\n",
       "      <td>3</td>\n",
       "      <td>3</td>\n",
       "    </tr>\n",
       "    <tr>\n",
       "      <th>famrel</th>\n",
       "      <td>int64</td>\n",
       "      <td>0</td>\n",
       "      <td>5</td>\n",
       "      <td>4</td>\n",
       "      <td>5</td>\n",
       "    </tr>\n",
       "    <tr>\n",
       "      <th>absences</th>\n",
       "      <td>int64</td>\n",
       "      <td>0</td>\n",
       "      <td>5</td>\n",
       "      <td>2</td>\n",
       "      <td>1</td>\n",
       "    </tr>\n",
       "  </tbody>\n",
       "</table>\n",
       "</div>"
      ],
      "text/plain": [
       "            dtypes  결측치  유일값     첫번째     두번째\n",
       "sex         object    0    2       F       F\n",
       "age          int64    0    8      18      17\n",
       "pstatus     object    0    2       A       T\n",
       "medu         int64    0    5       4       1\n",
       "fedu         int64    0    5       4       1\n",
       "guardian    object    0    3  mother  father\n",
       "traveltime   int64    0    4       2       1\n",
       "studytime    int64    0    4       2       2\n",
       "failures     int64    0    4       0       0\n",
       "freetime     int64    0    5       3       3\n",
       "famrel       int64    0    5       4       5\n",
       "absences     int64    0    5       2       1"
      ]
     },
     "execution_count": 93,
     "metadata": {},
     "output_type": "execute_result"
    }
   ],
   "source": [
    "import pandas as pd\n",
    "df = pd.read_csv('https://raw.githubusercontent.com/Datamanim/datarepo/main/adp/28/p1.csv')\n",
    "def resume(df):\n",
    "    print(df.shape)\n",
    "    tmp = pd.DataFrame()\n",
    "    tmp['dtypes'] = df.dtypes\n",
    "    tmp['결측치'] = df.isna().sum()\n",
    "    tmp['유일값'] = df.nunique()\n",
    "    tmp['첫번째'] = df.iloc[0,:]\n",
    "    tmp['두번째'] = df.iloc[1,:]\n",
    "    return tmp\n",
    "resume(df)"
   ]
  },
  {
   "cell_type": "markdown",
   "id": "f5077d8a-1b5f-484e-9206-e7cc3b4046b8",
   "metadata": {},
   "source": [
    "- 목적 : 학생의 다양한 주변 환경에 따른 결석 등급 (absences)\n",
    "- 크게 부모의및보호자현황 (pstatus, medu, fedu, guardian), 입지 (traveltime, studytime), 개인현황(sex, age, failure, freetime) 으로 나뉜다.\n",
    "- 수치형으로 되어있는 데이터도 전부 범주형에 속함\n",
    "- <u>차원축소 시, 범주형의 수치값을 적용하므로 왜곡이 생길수 있음<u>"
   ]
  },
  {
   "cell_type": "code",
   "execution_count": 94,
   "id": "c2e50a51-8b96-4c2a-9bae-05ea4e1551c4",
   "metadata": {},
   "outputs": [
    {
     "data": {
      "image/png": "[encoded data removed]",
      "text/plain": [
       "<Figure size 1500x1500 with 12 Axes>"
      ]
     },
     "metadata": {},
     "output_type": "display_data"
    }
   ],
   "source": [
    "import matplotlib.pyplot as plt\n",
    "import seaborn as sns \n",
    "fig, ax = plt.subplots(3,4,figsize = (15,15))\n",
    "for ax, col in zip(ax.flat, df.columns):\n",
    "    sns.countplot(data=df, x=col, hue='absences', ax=ax);\n",
    "    # df[col].value_counts().sort_index().plot(kind='bar', ax=ax, color = 'grey')"
   ]
  },
  {
   "cell_type": "markdown",
   "id": "5775e7b1-8e94-401e-90a2-337243c9f4a0",
   "metadata": {},
   "source": [
    "- absences에 따른 각 변수별 차이를 확인\n",
    "    - 부모의 생존여부 및 studytime 등이 크게 영향 미치는 것 확인\n"
   ]
  },
  {
   "cell_type": "code",
   "execution_count": 95,
   "id": "79437545-c1fa-409d-890d-5da675a669b4",
   "metadata": {},
   "outputs": [
    {
     "data": {
      "text/html": [
       "<div>\n",
       "<style scoped>\n",
       "    .dataframe tbody tr th:only-of-type {\n",
       "        vertical-align: middle;\n",
       "    }\n",
       "\n",
       "    .dataframe tbody tr th {\n",
       "        vertical-align: top;\n",
       "    }\n",
       "\n",
       "    .dataframe thead th {\n",
       "        text-align: right;\n",
       "    }\n",
       "</style>\n",
       "<table border=\"1\" class=\"dataframe\">\n",
       "  <thead>\n",
       "    <tr style=\"text-align: right;\">\n",
       "      <th>medu</th>\n",
       "      <th>0</th>\n",
       "      <th>1</th>\n",
       "      <th>2</th>\n",
       "      <th>3</th>\n",
       "      <th>4</th>\n",
       "    </tr>\n",
       "    <tr>\n",
       "      <th>absences</th>\n",
       "      <th></th>\n",
       "      <th></th>\n",
       "      <th></th>\n",
       "      <th></th>\n",
       "      <th></th>\n",
       "    </tr>\n",
       "  </thead>\n",
       "  <tbody>\n",
       "    <tr>\n",
       "      <th>0</th>\n",
       "      <td>3</td>\n",
       "      <td>33</td>\n",
       "      <td>50</td>\n",
       "      <td>40</td>\n",
       "      <td>57</td>\n",
       "    </tr>\n",
       "    <tr>\n",
       "      <th>1</th>\n",
       "      <td>0</td>\n",
       "      <td>11</td>\n",
       "      <td>16</td>\n",
       "      <td>14</td>\n",
       "      <td>20</td>\n",
       "    </tr>\n",
       "    <tr>\n",
       "      <th>2</th>\n",
       "      <td>0</td>\n",
       "      <td>5</td>\n",
       "      <td>11</td>\n",
       "      <td>7</td>\n",
       "      <td>13</td>\n",
       "    </tr>\n",
       "    <tr>\n",
       "      <th>3</th>\n",
       "      <td>0</td>\n",
       "      <td>4</td>\n",
       "      <td>12</td>\n",
       "      <td>13</td>\n",
       "      <td>20</td>\n",
       "    </tr>\n",
       "    <tr>\n",
       "      <th>4</th>\n",
       "      <td>0</td>\n",
       "      <td>6</td>\n",
       "      <td>14</td>\n",
       "      <td>25</td>\n",
       "      <td>21</td>\n",
       "    </tr>\n",
       "  </tbody>\n",
       "</table>\n",
       "</div>"
      ],
      "text/plain": [
       "medu      0   1   2   3   4\n",
       "absences                   \n",
       "0         3  33  50  40  57\n",
       "1         0  11  16  14  20\n",
       "2         0   5  11   7  13\n",
       "3         0   4  12  13  20\n",
       "4         0   6  14  25  21"
      ]
     },
     "execution_count": 95,
     "metadata": {},
     "output_type": "execute_result"
    }
   ],
   "source": [
    "pd.crosstab(df['absences'],df['medu'])"
   ]
  },
  {
   "cell_type": "markdown",
   "id": "a566146f-0066-49d9-a290-d37febafa832",
   "metadata": {},
   "source": [
    "# 1-2\n",
    "\n",
    "데이터 품질 개선을 위한 방법이 있는지 찾고 데이터셋을 재생성하라 (5점)"
   ]
  },
  {
   "cell_type": "code",
   "execution_count": 96,
   "id": "8f29b31e-9f55-4e40-970d-4544a7f993f9",
   "metadata": {},
   "outputs": [
    {
     "name": "stdout",
     "output_type": "stream",
     "text": [
      "sex는 p-value:0.7930484454144936로 결석률과 관련이 없다\n",
      "age는 p-value:0.001840496992289635로 결석률과 관련이 있다\n",
      "pstatus는 p-value:0.01931591912939198로 결석률과 관련이 있다\n",
      "medu는 p-value:0.4517558001251953로 결석률과 관련이 없다\n",
      "fedu는 p-value:0.6736185670620628로 결석률과 관련이 없다\n",
      "guardian는 p-value:0.01580475746030849로 결석률과 관련이 있다\n",
      "traveltime는 p-value:0.8349934325072776로 결석률과 관련이 없다\n",
      "studytime는 p-value:0.04439265786829646로 결석률과 관련이 있다\n",
      "failures는 p-value:0.005994149777223442로 결석률과 관련이 있다\n",
      "freetime는 p-value:0.48328809003780904로 결석률과 관련이 없다\n",
      "famrel는 p-value:0.8404434032741234로 결석률과 관련이 없다\n"
     ]
    }
   ],
   "source": [
    "from scipy.stats import chi2_contingency\n",
    "cols = []\n",
    "for col in df.columns[:-1]:\n",
    "    tmp = pd.crosstab(df[col],df['absences'])\n",
    "    _,p_val,_,_= chi2_contingency(tmp)\n",
    "    if p_val<0.05: \n",
    "        if col != 'absences':\n",
    "            statement = '결석률과 관련이 있다'\n",
    "            cols.append(col)\n",
    "        else : pass\n",
    "    else : statement = '결석률과 관련이 없다'\n",
    "    print(f'{col}는 p-value:{p_val}로 {statement}')"
   ]
  },
  {
   "cell_type": "code",
   "execution_count": 97,
   "id": "4d015b1e-7fec-4078-bcd3-eb736edcef77",
   "metadata": {},
   "outputs": [
    {
     "data": {
      "text/plain": [
       "['age', 'pstatus', 'guardian', 'studytime', 'failures']"
      ]
     },
     "execution_count": 97,
     "metadata": {},
     "output_type": "execute_result"
    }
   ],
   "source": [
    "cols"
   ]
  },
  {
   "cell_type": "code",
   "execution_count": 114,
   "id": "0c1b3229-2d05-49dc-8d1e-d7ababd7ce0d",
   "metadata": {},
   "outputs": [],
   "source": [
    "from sklearn.model_selection import train_test_split\n",
    "X = df[cols]\n",
    "y = df['absences']\n",
    "X_d = pd.get_dummies(X, drop_first= True)\n",
    "X_train,X_test,y_train,y_test = train_test_split(X_d,y,test_size=0.2,stratify=y,random_state=0)"
   ]
  },
  {
   "cell_type": "markdown",
   "id": "c7561f06-670a-4770-b812-d7bc4b91633c",
   "metadata": {},
   "source": [
    "# 1-3\n",
    "\n",
    "1.2에서 제시한 방법이 데이터 과적합이 된다는 가정하에 어떻게 해결할 수 있을지 2가지 개선안 제시, 각방법들의 장단점 기술 (10점)\n",
    "\n"
   ]
  },
  {
   "cell_type": "markdown",
   "id": "0ccd0b63-6138-4480-9f0d-4d40cff88ccd",
   "metadata": {},
   "source": [
    "- 변수선택법을 진행하며 차원의 수를 줄인다. 보다 중요한 변수를 선별적으로 선택한다.\n",
    "    - 장점 : 간단한 방법으로 과적합 문제를 해결할 수 있다\n",
    "    - 단점 : 변수 간/시기 간에도 영향을 받기 때문에, 상황/환경이 바뀌면 제외한 변수가 더 중요해지는 경우도 있다.\n",
    "    - 단점을 보완하기 위해, 주기적으로 모델의 성능을 점검하며, 개선할 필요가 있다.\n",
    "- 데이터를 추가로 확보한다. \n",
    "    - 장점 : 보다 많은 샘플을 확보하며, 과적합 및 데이터의 편향 문제를 개선할 수 있다.\n",
    "    - 단점 : 데이터를 추가로 확보하기 위한 시간 및 자원이 소요된다.\n",
    "    - 목적성 있는 기간동안 전략적으로 데이터를 확보하려는 노력이 필요하다."
   ]
  },
  {
   "cell_type": "markdown",
   "id": "7588b84b-3346-4d1e-a0ae-d27a1be0eb36",
   "metadata": {},
   "source": [
    "# 2-1\n",
    "\n",
    "1-2 데이터셋을 기준으로 random forest, neural network , lightgbm 3가지 방식으로 학교 결석 횟수등급을 예측하는 모델을 만들어라, f1 score로 모델을 평가하라 (5점)"
   ]
  },
  {
   "cell_type": "code",
   "execution_count": 121,
   "id": "90191a1c-a13f-4beb-a266-e1ff12d3a030",
   "metadata": {
    "tags": []
   },
   "outputs": [
    {
     "name": "stdout",
     "output_type": "stream",
     "text": [
      "====random forest====\n",
      "time:0.11428403854370117\n",
      "              precision    recall  f1-score   support\n",
      "\n",
      "           0       0.55      0.59      0.57        37\n",
      "           1       0.08      0.08      0.08        12\n",
      "           2       0.20      0.14      0.17         7\n",
      "           3       0.17      0.10      0.12        10\n",
      "           4       0.31      0.38      0.34        13\n",
      "\n",
      "    accuracy                           0.38        79\n",
      "   macro avg       0.26      0.26      0.26        79\n",
      "weighted avg       0.36      0.38      0.37        79\n",
      "\n",
      "\n",
      "====neural network====\n",
      "time:0.15122079849243164\n",
      "              precision    recall  f1-score   support\n",
      "\n",
      "           0       0.51      0.97      0.67        37\n",
      "           1       0.00      0.00      0.00        12\n",
      "           2       0.00      0.00      0.00         7\n",
      "           3       0.50      0.10      0.17        10\n",
      "           4       0.33      0.15      0.21        13\n",
      "\n",
      "    accuracy                           0.49        79\n",
      "   macro avg       0.27      0.25      0.21        79\n",
      "weighted avg       0.36      0.49      0.37        79\n",
      "\n",
      "\n",
      "====lightgbm====\n",
      "time:0.054259300231933594\n",
      "              precision    recall  f1-score   support\n",
      "\n",
      "           0       0.49      0.65      0.56        37\n",
      "           1       0.11      0.08      0.10        12\n",
      "           2       0.00      0.00      0.00         7\n",
      "           3       0.17      0.10      0.12        10\n",
      "           4       0.17      0.15      0.16        13\n",
      "\n",
      "    accuracy                           0.35        79\n",
      "   macro avg       0.19      0.20      0.19        79\n",
      "weighted avg       0.29      0.35      0.32        79\n",
      "\n",
      "\n"
     ]
    },
    {
     "name": "stderr",
     "output_type": "stream",
     "text": [
      "E:\\miniconda\\envs\\tw311\\Lib\\site-packages\\sklearn\\neural_network\\_multilayer_perceptron.py:686: ConvergenceWarning: Stochastic Optimizer: Maximum iterations (200) reached and the optimization hasn't converged yet.\n",
      "  warnings.warn(\n",
      "E:\\miniconda\\envs\\tw311\\Lib\\site-packages\\sklearn\\metrics\\_classification.py:1344: UndefinedMetricWarning: Precision and F-score are ill-defined and being set to 0.0 in labels with no predicted samples. Use `zero_division` parameter to control this behavior.\n",
      "  _warn_prf(average, modifier, msg_start, len(result))\n",
      "E:\\miniconda\\envs\\tw311\\Lib\\site-packages\\sklearn\\metrics\\_classification.py:1344: UndefinedMetricWarning: Precision and F-score are ill-defined and being set to 0.0 in labels with no predicted samples. Use `zero_division` parameter to control this behavior.\n",
      "  _warn_prf(average, modifier, msg_start, len(result))\n",
      "E:\\miniconda\\envs\\tw311\\Lib\\site-packages\\sklearn\\metrics\\_classification.py:1344: UndefinedMetricWarning: Precision and F-score are ill-defined and being set to 0.0 in labels with no predicted samples. Use `zero_division` parameter to control this behavior.\n",
      "  _warn_prf(average, modifier, msg_start, len(result))\n"
     ]
    }
   ],
   "source": [
    "from sklearn.ensemble import RandomForestClassifier\n",
    "from lightgbm import LGBMClassifier\n",
    "from sklearn.neural_network import MLPClassifier\n",
    "from sklearn.metrics import classification_report\n",
    "import logging\n",
    "from time import time\n",
    "import lightgbm \n",
    "from lightgbm import LGBMClassifier\n",
    "# LightGBM의 로그 레벨 설정\n",
    "lightgbm.register_logger(logging.root)\n",
    "logging.root.setLevel(logging.CRITICAL)\n",
    "\n",
    "nn = MLPClassifier()\n",
    "lgb = LGBMClassifier(verbose=0)\n",
    "rf = RandomForestClassifier()\n",
    "\n",
    "models = [rf,nn,lgb]\n",
    "mns = ['random forest', 'neural network' , 'lightgbm']\n",
    "for idx, model in enumerate(models):\n",
    "    s = time()\n",
    "    model.fit(X_train, y_train)\n",
    "    y_pred = model.predict(X_test)\n",
    "    e = time()\n",
    "    t = e-s\n",
    "    print(f'===={mns[idx]}====')\n",
    "    print(f'time:{t}')\n",
    "    print(classification_report(y_test,y_pred))\n",
    "    print()"
   ]
  },
  {
   "cell_type": "markdown",
   "id": "7de948d8-86bc-4e87-abde-7626e080ff57",
   "metadata": {},
   "source": [
    "# 2-2\n",
    "hard voting, soft voting에 대한 장단점을 설명하고 2-1의 3가지 모델로 구현하라. 두 방식의 f1-score를 비교하라 (10점)"
   ]
  },
  {
   "cell_type": "markdown",
   "id": "066951b8-a371-4688-9611-474ca71e373a",
   "metadata": {},
   "source": [
    "소프트 보팅(Soft Voting)과 하드 보팅(Hard Voting)은 앙상블 학습 방법에서 개별 모델의 예측 결과를 결합하는 방식의 차이입니다.\n",
    "\n",
    "1. 하드 보팅(Hard Voting)\n",
    "- 개별 모델의 예측 결과를 다수결 원칙으로 결합합니다.\n",
    "- 각 모델의 예측 결과를 모아 가장 많이 예측된 클래스를 최종 예측 결과로 선택합니다.\n",
    "- 예를 들어, 세 개의 모델이 있고 각각 A, B, A를 예측했다면, 최종 예측 결과는 A가 됩니다.\n",
    "- 하드 보팅은 분류 문제에서 주로 사용됩니다.\n",
    "\n",
    "2. 소프트 보팅(Soft Voting)\n",
    "- 개별 모델의 예측 확률(또는 신뢰도)을 평균하여 결합합니다.\n",
    "- 각 모델의 예측 확률을 모아 평균을 내고, 그 평균값이 가장 높은 클래스를 최종 예측 결과로 선택합니다.\n",
    "- 예를 들어, 세 개의 모델이 있고 각각 A에 대한 확률이 0.6, 0.7, 0.8이라면, 평균은 0.7이 되고 최종 예측 결과는 A가 됩니다.\n",
    "- 소프트 보팅은 분류 문제뿐만 아니라 회귀 문제에서도 사용할 수 있습니다.\n",
    "\n",
    "하드 보팅은 개별 모델의 예측 결과만을 고려하므로 단순하지만, 소프트 보팅은 예측 확률까지 고려하므로 더 정교한 결과를 얻을 수 있습니다. 그러나 소프트 보팅은 모든 모델이 예측 확률을 출력할 수 있어야 한다는 제약이 있습니다.\n",
    "\n",
    "일반적으로 소프트 보팅이 하드 보팅보다 더 나은 성능을 보이지만, 모델의 특성과 데이터에 따라 적절한 방법을 선택해야 합니다. 또한 두 방법을 혼합하여 사용하는 것도 가능합니다.\n"
   ]
  },
  {
   "cell_type": "code",
   "execution_count": 119,
   "id": "273b202b-23dd-46fe-a326-89fd881e6757",
   "metadata": {
    "tags": []
   },
   "outputs": [
    {
     "name": "stdout",
     "output_type": "stream",
     "text": [
      "time:0.06309247016906738\n",
      "              precision    recall  f1-score   support\n",
      "\n",
      "           0       0.48      0.70      0.57        37\n",
      "           1       0.11      0.08      0.10        12\n",
      "           2       0.00      0.00      0.00         7\n",
      "           3       0.25      0.10      0.14        10\n",
      "           4       0.22      0.15      0.18        13\n",
      "\n",
      "    accuracy                           0.38        79\n",
      "   macro avg       0.21      0.21      0.20        79\n",
      "weighted avg       0.31      0.38      0.33        79\n",
      "\n"
     ]
    },
    {
     "name": "stderr",
     "output_type": "stream",
     "text": [
      "E:\\miniconda\\envs\\tw311\\Lib\\site-packages\\sklearn\\neural_network\\_multilayer_perceptron.py:686: ConvergenceWarning: Stochastic Optimizer: Maximum iterations (200) reached and the optimization hasn't converged yet.\n",
      "  warnings.warn(\n"
     ]
    }
   ],
   "source": [
    "from sklearn.ensemble import VotingClassifier\n",
    "lightgbm.register_logger(logging.root)\n",
    "logging.root.setLevel(logging.CRITICAL)\n",
    "# 하드 보팅 분류기 생성\n",
    "voting_clf = VotingClassifier(estimators=[('random forest', rf), ('neural network', nn), ('lightgbm', lgb)], voting='hard')\n",
    "\n",
    "# 모델 학습\n",
    "voting_clf.fit(X_train, y_train)\n",
    "y_pred = voting_clf.predict(X_test)\n",
    "# 모델 평가\n",
    "print(f'time:{t}')\n",
    "print(classification_report(y_test,y_pred))"
   ]
  },
  {
   "cell_type": "code",
   "execution_count": 120,
   "id": "1f8adde9-5166-453c-8d2d-7844269cbbd4",
   "metadata": {},
   "outputs": [
    {
     "name": "stdout",
     "output_type": "stream",
     "text": [
      "time:0.18785858154296875\n",
      "              precision    recall  f1-score   support\n",
      "\n",
      "           0       0.50      0.76      0.60        37\n",
      "           1       0.17      0.08      0.11        12\n",
      "           2       0.25      0.14      0.18         7\n",
      "           3       0.25      0.10      0.14        10\n",
      "           4       0.22      0.15      0.18        13\n",
      "\n",
      "    accuracy                           0.42        79\n",
      "   macro avg       0.28      0.25      0.24        79\n",
      "weighted avg       0.35      0.42      0.36        79\n",
      "\n"
     ]
    }
   ],
   "source": [
    "from sklearn.ensemble import VotingClassifier\n",
    "# 소프트 보팅 분류기 생성\n",
    "s=time()\n",
    "lightgbm.register_logger(logging.root)\n",
    "logging.root.setLevel(logging.CRITICAL)\n",
    "voting_clf = VotingClassifier(estimators=[('random forest', rf), ('neural network', nn), ('lightgbm', lgb)], voting='soft')\n",
    "\n",
    "# 모델 학습\n",
    "voting_clf.fit(X_train, y_train)\n",
    "y_pred = voting_clf.predict(X_test)\n",
    "e=time()\n",
    "# 모델 평가\n",
    "t = e-s\n",
    "print(f'time:{t}')\n",
    "print(classification_report(y_test,y_pred))"
   ]
  },
  {
   "cell_type": "markdown",
   "id": "3e1052d2-5fb7-4093-b2d6-4d7ad42396c7",
   "metadata": {},
   "source": [
    "# 2-3\n",
    "총 5개 모델(RF, NN, LGBM, 하드보팅, 소프트보팅) 중 실시간 온라인 시스템에 가장 적합한 모델과 선정이유를 객관적으로 제시하라 (5점)"
   ]
  },
  {
   "cell_type": "markdown",
   "id": "8ac12e94-5152-48a1-8491-9218494805e2",
   "metadata": {},
   "source": [
    "- 실시간 온라인 시스템에는 속도 / 정확도 를 고려하여 선정\n",
    "- 5개 시스템 모두 속도는 0.5초 이하로 속도상의 큰 문제는 없어보인다.\n",
    "- NN을 활용한 모델이 성능면에서 가장우수하기에 활용을 하며,\n",
    "- 데이터가 많이 쌓여서 속도 저하시 보다 빠른 lightGBM모델도 고려해볼만 하다."
   ]
  },
  {
   "cell_type": "markdown",
   "id": "5b301823-b655-4dba-a710-44bdc006095a",
   "metadata": {},
   "source": [
    "# 3-1\n",
    "적정 모델과 선정 및 모델링 과정에서 추가적으로 고려해볼 만한 사항은? (5점)"
   ]
  },
  {
   "cell_type": "markdown",
   "id": "ec584742-a023-44f1-9f29-676f0fb7c9e0",
   "metadata": {},
   "source": []
  },
  {
   "cell_type": "markdown",
   "id": "dc1cfe91-2f50-4a7a-bc81-f18a5cb8a1fd",
   "metadata": {},
   "source": [
    "# 3-2\n",
    "모델을 학교 시스템에 적용하여 활용하려한다. 모델 적용 및 운영과정에서 고려해볼 만한 사항? (5점)"
   ]
  },
  {
   "cell_type": "code",
   "execution_count": null,
   "id": "2cae9889-31a7-421a-b95e-9bfb0be3e95e",
   "metadata": {},
   "outputs": [],
   "source": []
  },
  {
   "cell_type": "markdown",
   "id": "ce33349e-6a33-448e-b1c4-08198dfb7b56",
   "metadata": {},
   "source": [
    "# 4번\n",
    "\n",
    "데이터 url : https://raw.githubusercontent.com/Datamanim/datarepo/main/adp/28/p4_.csv\n",
    "\n",
    "status : 생존 여부 (death: 죽음 / event lost: 생존)\n",
    "\n",
    "company : 회사구분"
   ]
  },
  {
   "cell_type": "code",
   "execution_count": 51,
   "id": "29af3c08-f82a-40f9-805c-afce35730ca8",
   "metadata": {},
   "outputs": [
    {
     "name": "stdout",
     "output_type": "stream",
     "text": [
      "(42, 3)\n"
     ]
    },
    {
     "data": {
      "text/html": [
       "<div>\n",
       "<style scoped>\n",
       "    .dataframe tbody tr th:only-of-type {\n",
       "        vertical-align: middle;\n",
       "    }\n",
       "\n",
       "    .dataframe tbody tr th {\n",
       "        vertical-align: top;\n",
       "    }\n",
       "\n",
       "    .dataframe thead th {\n",
       "        text-align: right;\n",
       "    }\n",
       "</style>\n",
       "<table border=\"1\" class=\"dataframe\">\n",
       "  <thead>\n",
       "    <tr style=\"text-align: right;\">\n",
       "      <th></th>\n",
       "      <th>dtypes</th>\n",
       "      <th>결측치</th>\n",
       "      <th>유일값</th>\n",
       "      <th>첫번째</th>\n",
       "      <th>두번째</th>\n",
       "    </tr>\n",
       "  </thead>\n",
       "  <tbody>\n",
       "    <tr>\n",
       "      <th>time(month)</th>\n",
       "      <td>int64</td>\n",
       "      <td>0</td>\n",
       "      <td>21</td>\n",
       "      <td>1</td>\n",
       "      <td>2</td>\n",
       "    </tr>\n",
       "    <tr>\n",
       "      <th>status</th>\n",
       "      <td>object</td>\n",
       "      <td>0</td>\n",
       "      <td>2</td>\n",
       "      <td>event lost</td>\n",
       "      <td>event lost</td>\n",
       "    </tr>\n",
       "    <tr>\n",
       "      <th>company</th>\n",
       "      <td>object</td>\n",
       "      <td>0</td>\n",
       "      <td>2</td>\n",
       "      <td>X</td>\n",
       "      <td>X</td>\n",
       "    </tr>\n",
       "  </tbody>\n",
       "</table>\n",
       "</div>"
      ],
      "text/plain": [
       "             dtypes  결측치  유일값         첫번째         두번째\n",
       "time(month)   int64    0   21           1           2\n",
       "status       object    0    2  event lost  event lost\n",
       "company      object    0    2           X           X"
      ]
     },
     "execution_count": 51,
     "metadata": {},
     "output_type": "execute_result"
    }
   ],
   "source": [
    "df = pd.read_csv('https://raw.githubusercontent.com/Datamanim/datarepo/main/adp/28/p4_.csv')\n",
    "resume(df)"
   ]
  },
  {
   "cell_type": "markdown",
   "id": "4788ce92-c752-4ac2-a3aa-9c4aebc5c2f1",
   "metadata": {},
   "source": [
    "# 4-1\n",
    "Kaplan Meier 방법 사용 생존분석 수행. 회사부품별 25, 35, 45 개월에서의 생존 확률 (소숫점 3자리 ,5점)"
   ]
  },
  {
   "cell_type": "code",
   "execution_count": 56,
   "id": "5d4d73c6-1f53-44b9-85fe-b44ef2b8d6d2",
   "metadata": {},
   "outputs": [],
   "source": [
    "df['status_'] = df['status'].map({'event lost':0, 'death':1})"
   ]
  },
  {
   "cell_type": "code",
   "execution_count": 60,
   "id": "e212a61d-7be7-4c66-94c1-caa972343421",
   "metadata": {},
   "outputs": [
    {
     "data": {
      "image/png": "[encoded data removed]",
      "text/plain": [
       "<Figure size 800x500 with 1 Axes>"
      ]
     },
     "metadata": {},
     "output_type": "display_data"
    }
   ],
   "source": [
    "from lifelines import KaplanMeierFitter\n",
    "kmf = KaplanMeierFitter()\n",
    "kmf.fit(df['time(month)'], df['status_'])\n",
    "\n",
    "# Survival Plot 그리기\n",
    "kmf.plot_survival_function(figsize=(8,5))\n",
    "plt.title('Survial Curve estimated with Kaplan-Meier Filter')\n",
    "plt.show()"
   ]
  },
  {
   "cell_type": "markdown",
   "id": "c97b49ae-15ad-49b8-a57c-9eadc82be0ed",
   "metadata": {},
   "source": [
    "# 4-2\n",
    "두 회사간 생존시간 차이를 log-rank 방식으로 검정하시오. 가설설정, 통계량, 귀무가설 기각여부 판단(10점)"
   ]
  },
  {
   "cell_type": "code",
   "execution_count": 66,
   "id": "1a19cdf0-0090-4614-a9f2-f78a18fa0de7",
   "metadata": {},
   "outputs": [
    {
     "data": {
      "text/html": [
       "<div>\n",
       "<style scoped>\n",
       "    .dataframe tbody tr th:only-of-type {\n",
       "        vertical-align: middle;\n",
       "    }\n",
       "\n",
       "    .dataframe tbody tr th {\n",
       "        vertical-align: top;\n",
       "    }\n",
       "\n",
       "    .dataframe thead th {\n",
       "        text-align: right;\n",
       "    }\n",
       "</style>\n",
       "<table border=\"1\" class=\"dataframe\">\n",
       "  <tbody>\n",
       "    <tr>\n",
       "      <th>t_0</th>\n",
       "      <td>-1</td>\n",
       "    </tr>\n",
       "    <tr>\n",
       "      <th>null_distribution</th>\n",
       "      <td>chi squared</td>\n",
       "    </tr>\n",
       "    <tr>\n",
       "      <th>degrees_of_freedom</th>\n",
       "      <td>1</td>\n",
       "    </tr>\n",
       "    <tr>\n",
       "      <th>test_name</th>\n",
       "      <td>logrank_test</td>\n",
       "    </tr>\n",
       "  </tbody>\n",
       "</table>\n",
       "</div><table border=\"1\" class=\"dataframe\">\n",
       "  <thead>\n",
       "    <tr style=\"text-align: right;\">\n",
       "      <th></th>\n",
       "      <th>test_statistic</th>\n",
       "      <th>p</th>\n",
       "      <th>-log2(p)</th>\n",
       "    </tr>\n",
       "  </thead>\n",
       "  <tbody>\n",
       "    <tr>\n",
       "      <th>0</th>\n",
       "      <td>0.00</td>\n",
       "      <td>1.00</td>\n",
       "      <td>-0.00</td>\n",
       "    </tr>\n",
       "  </tbody>\n",
       "</table>"
      ],
      "text/latex": [
       "\\begin{tabular}{lrrr}\n",
       " & test_statistic & p & -log2(p) \\\\\n",
       "0 & 0.00 & 1.00 & -0.00 \\\\\n",
       "\\end{tabular}\n"
      ],
      "text/plain": [
       "<lifelines.StatisticalResult: logrank_test>\n",
       "               t_0 = -1\n",
       " null_distribution = chi squared\n",
       "degrees_of_freedom = 1\n",
       "         test_name = logrank_test\n",
       "\n",
       "---\n",
       " test_statistic    p  -log2(p)\n",
       "           0.00 1.00     -0.00"
      ]
     },
     "execution_count": 66,
     "metadata": {},
     "output_type": "execute_result"
    }
   ],
   "source": [
    "from lifelines.statistics import logrank_test\n",
    "con1 = (df.company == df.company.unique()[0])\n",
    "con2 = (df.company == df.company.unique()[1])\n",
    "logrank_test(df[con1]['time(month)'], df[con1]['time(month)'],\\\n",
    "             df[con2]['status_'], df[con2]['status_'])"
   ]
  },
  {
   "cell_type": "raw",
   "id": "f4b70da3-4f8f-46c3-9155-cd635aeb24e6",
   "metadata": {},
   "source": [
    "귀무가설 (H0): 두 회사 간 생존 시간에 차이가 없다.\n",
    "대립가설 (H1): 두 회사 간 생존 시간에 차이가 있다.\n",
    "\n",
    "통계량: 로그랭크 검정 통계량 (log-rank test statistic)\n",
    "\n",
    "\n",
    "로그랭크 검정은 두 생존 함수 간의 차이를 검정하는 비모수적 방법입니다. 이 검정에서 사용되는 통계량은 카이제곱 분포를 따르며, 자유도는 1입니다.\n",
    "\n",
    "\n",
    "주어진 데이터에서 로그랭크 검정 통계량의 값은 0.00입니다.\n",
    "\n",
    "\n",
    "귀무가설 기각 여부 판단:\n",
    "\n",
    "\n",
    "로그랭크 검정에서 p-값은 1.00으로 주어졌습니다. 일반적으로 유의수준 0.05를 기준으로 판단하면, p-값이 0.05보다 크므로 귀무가설을 기각할 수 없습니다.\n",
    "\n",
    "\n",
    "따라서, 두 회사 간 생존 시간에 통계적으로 유의한 차이가 없다고 결론내릴 수 있습니다.\n",
    "\n",
    "\n",
    "요약:\n",
    "\n",
    "\n",
    "\n",
    "귀무가설 (H0): 두 회사 간 생존 시간에 차이가 없다.\n",
    "통계량: 로그랭크 검정 통계량 = 0.00\n",
    "p-값 = 1.00 > 0.05 (유의수준)\n",
    "귀무가설을 기각할 수 없으므로, 두 회사 간 생존 시간에 통계적으로 유의한 차이가 없다고 판단할 수 있습니다."
   ]
  },
  {
   "cell_type": "markdown",
   "id": "ccbe5e11-e9c0-456a-a002-b86349dbec14",
   "metadata": {},
   "source": [
    "# 5번\n",
    "\n",
    "데이터 url: https://raw.githubusercontent.com/Datamanim/datarepo/main/adp/28/p5_.csv\n",
    "\n",
    "data형식\n",
    "\n",
    "한 유저가 시식 전 물건 구매의사 유,무와 시식 후 구매의사 유,무에 대한 응답을 나타낸 데이터\n",
    "\n",
    "{시식전} _ {구매의사 유 or 무} __ {시식후} _ {구매의사 유 or 무}"
   ]
  },
  {
   "cell_type": "code",
   "execution_count": 39,
   "id": "f453d3c7-1e4e-4670-ae1c-35bba7be6211",
   "metadata": {},
   "outputs": [
    {
     "name": "stdout",
     "output_type": "stream",
     "text": [
      "(60, 2)\n"
     ]
    },
    {
     "data": {
      "text/html": [
       "<div>\n",
       "<style scoped>\n",
       "    .dataframe tbody tr th:only-of-type {\n",
       "        vertical-align: middle;\n",
       "    }\n",
       "\n",
       "    .dataframe tbody tr th {\n",
       "        vertical-align: top;\n",
       "    }\n",
       "\n",
       "    .dataframe thead th {\n",
       "        text-align: right;\n",
       "    }\n",
       "</style>\n",
       "<table border=\"1\" class=\"dataframe\">\n",
       "  <thead>\n",
       "    <tr style=\"text-align: right;\">\n",
       "      <th></th>\n",
       "      <th>dtypes</th>\n",
       "      <th>결측치</th>\n",
       "      <th>유일값</th>\n",
       "      <th>첫번째</th>\n",
       "      <th>두번째</th>\n",
       "    </tr>\n",
       "  </thead>\n",
       "  <tbody>\n",
       "    <tr>\n",
       "      <th>data</th>\n",
       "      <td>object</td>\n",
       "      <td>0</td>\n",
       "      <td>4</td>\n",
       "      <td>시식전_유__시식후_유</td>\n",
       "      <td>시식전_유__시식후_유</td>\n",
       "    </tr>\n",
       "    <tr>\n",
       "      <th>userId</th>\n",
       "      <td>object</td>\n",
       "      <td>0</td>\n",
       "      <td>60</td>\n",
       "      <td>user_1</td>\n",
       "      <td>user_2</td>\n",
       "    </tr>\n",
       "  </tbody>\n",
       "</table>\n",
       "</div>"
      ],
      "text/plain": [
       "        dtypes  결측치  유일값           첫번째           두번째\n",
       "data    object    0    4  시식전_유__시식후_유  시식전_유__시식후_유\n",
       "userId  object    0   60        user_1        user_2"
      ]
     },
     "execution_count": 39,
     "metadata": {},
     "output_type": "execute_result"
    }
   ],
   "source": [
    "df = pd.read_csv('https://raw.githubusercontent.com/Datamanim/datarepo/main/adp/28/p5_.csv')\n",
    "resume(df)"
   ]
  },
  {
   "cell_type": "code",
   "execution_count": 45,
   "id": "f9f647e4-8a44-42c9-9e31-52387a616256",
   "metadata": {},
   "outputs": [
    {
     "data": {
      "text/html": [
       "<div>\n",
       "<style scoped>\n",
       "    .dataframe tbody tr th:only-of-type {\n",
       "        vertical-align: middle;\n",
       "    }\n",
       "\n",
       "    .dataframe tbody tr th {\n",
       "        vertical-align: top;\n",
       "    }\n",
       "\n",
       "    .dataframe thead th {\n",
       "        text-align: right;\n",
       "    }\n",
       "</style>\n",
       "<table border=\"1\" class=\"dataframe\">\n",
       "  <thead>\n",
       "    <tr style=\"text-align: right;\">\n",
       "      <th></th>\n",
       "      <th>userId</th>\n",
       "      <th>시식전</th>\n",
       "      <th>시식후</th>\n",
       "    </tr>\n",
       "  </thead>\n",
       "  <tbody>\n",
       "    <tr>\n",
       "      <th>0</th>\n",
       "      <td>user_1</td>\n",
       "      <td>1</td>\n",
       "      <td>1</td>\n",
       "    </tr>\n",
       "    <tr>\n",
       "      <th>1</th>\n",
       "      <td>user_2</td>\n",
       "      <td>1</td>\n",
       "      <td>1</td>\n",
       "    </tr>\n",
       "  </tbody>\n",
       "</table>\n",
       "</div>"
      ],
      "text/plain": [
       "   userId  시식전  시식후\n",
       "0  user_1    1    1\n",
       "1  user_2    1    1"
      ]
     },
     "execution_count": 45,
     "metadata": {},
     "output_type": "execute_result"
    }
   ],
   "source": [
    "df = pd.read_csv('https://raw.githubusercontent.com/Datamanim/datarepo/main/adp/28/p5_.csv')\n",
    "df['시식전'] = df['data'].apply(lambda x : x.split('__')[0].split('_')[1]).map({'무':0,'유':1})\n",
    "df['시식후'] = df['data'].apply(lambda x : x.split('__')[1].split('_')[1]).map({'무':0,'유':1})\n",
    "df = df.drop('data',axis=1)\n",
    "df.head(2)"
   ]
  },
  {
   "cell_type": "markdown",
   "id": "2c3a3f1a-685f-42cb-abea-c901aa1312db",
   "metadata": {},
   "source": [
    "# 5-1\n",
    "시식여부가 구매의사에 영향을 주는지 가설을 설정하시오(5점)"
   ]
  },
  {
   "cell_type": "code",
   "execution_count": 49,
   "id": "3874a663-f649-4c8f-9fa5-7542a7e472bb",
   "metadata": {},
   "outputs": [
    {
     "name": "stdout",
     "output_type": "stream",
     "text": [
      "귀무가설: 시식전과 시식후의 결과 변화가 없다\n",
      "대립가설: 시식전과 시식후의 결과 변화가 있다\n"
     ]
    }
   ],
   "source": [
    "'''\n",
    "카이제곱검정을 통해 시식전과 시식후의 결과 변화이 있는지 확인\n",
    "'''\n",
    "H0 = '시식전과 시식후의 결과 변화가 없다'\n",
    "H1 = '시식전과 시식후의 결과 변화가 있다'\n",
    "print('귀무가설:',H0)\n",
    "print('대립가설:',H1)\n"
   ]
  },
  {
   "cell_type": "markdown",
   "id": "86247b11-e7c6-46bf-84e1-98b7d118b522",
   "metadata": {},
   "source": [
    "# 5-2\n",
    "검정하고 결과를 분석하시오(5점)"
   ]
  },
  {
   "cell_type": "code",
   "execution_count": 50,
   "id": "06e5d2d6-4ab1-4a38-b097-3f5a5e22e27d",
   "metadata": {},
   "outputs": [
    {
     "name": "stdout",
     "output_type": "stream",
     "text": [
      "p_value: 0.3150334515411813\n",
      "시식전과 시식후의 결과 변화가 없다\n"
     ]
    }
   ],
   "source": [
    "ct = pd.crosstab(df['시식전'], df['시식후'])\n",
    "_,p_val,_,_ = chi2_contingency(ct)\n",
    "print(f'p_value: {p_val}')\n",
    "if p_val <0.05:    print(H1)\n",
    "else:print(H0)"
   ]
  },
  {
   "cell_type": "markdown",
   "id": "4f124a9a-8327-4285-ab03-274ff9af89a5",
   "metadata": {},
   "source": [
    "# 6-1\n",
    "A,B 지역 학생의 점수에 차이가 있는지 가설을 설정하고 정하시오 (10점) \n",
    "dataurl : https://raw.githubusercontent.com/Datamanim/datarepo/main/adp/28/p6.csv"
   ]
  },
  {
   "cell_type": "code",
   "execution_count": 67,
   "id": "05b0a4f2-4d73-4ef0-9c5e-76635b47a7d1",
   "metadata": {},
   "outputs": [
    {
     "name": "stdout",
     "output_type": "stream",
     "text": [
      "(36, 3)\n"
     ]
    },
    {
     "data": {
      "text/html": [
       "<div>\n",
       "<style scoped>\n",
       "    .dataframe tbody tr th:only-of-type {\n",
       "        vertical-align: middle;\n",
       "    }\n",
       "\n",
       "    .dataframe tbody tr th {\n",
       "        vertical-align: top;\n",
       "    }\n",
       "\n",
       "    .dataframe thead th {\n",
       "        text-align: right;\n",
       "    }\n",
       "</style>\n",
       "<table border=\"1\" class=\"dataframe\">\n",
       "  <thead>\n",
       "    <tr style=\"text-align: right;\">\n",
       "      <th></th>\n",
       "      <th>dtypes</th>\n",
       "      <th>결측치</th>\n",
       "      <th>유일값</th>\n",
       "      <th>첫번째</th>\n",
       "      <th>두번째</th>\n",
       "    </tr>\n",
       "  </thead>\n",
       "  <tbody>\n",
       "    <tr>\n",
       "      <th>score</th>\n",
       "      <td>float64</td>\n",
       "      <td>8</td>\n",
       "      <td>21</td>\n",
       "      <td>91.0</td>\n",
       "      <td>NaN</td>\n",
       "    </tr>\n",
       "    <tr>\n",
       "      <th>school_name</th>\n",
       "      <td>object</td>\n",
       "      <td>0</td>\n",
       "      <td>2</td>\n",
       "      <td>A</td>\n",
       "      <td>A</td>\n",
       "    </tr>\n",
       "    <tr>\n",
       "      <th>ID</th>\n",
       "      <td>int64</td>\n",
       "      <td>0</td>\n",
       "      <td>36</td>\n",
       "      <td>1</td>\n",
       "      <td>2</td>\n",
       "    </tr>\n",
       "  </tbody>\n",
       "</table>\n",
       "</div>"
      ],
      "text/plain": [
       "              dtypes  결측치  유일값   첫번째  두번째\n",
       "score        float64    8   21  91.0  NaN\n",
       "school_name   object    0    2     A    A\n",
       "ID             int64    0   36     1    2"
      ]
     },
     "execution_count": 67,
     "metadata": {},
     "output_type": "execute_result"
    }
   ],
   "source": [
    "df = pd.read_csv('https://raw.githubusercontent.com/Datamanim/datarepo/main/adp/28/p6.csv')\n",
    "resume(df)"
   ]
  },
  {
   "cell_type": "code",
   "execution_count": 80,
   "id": "806b33c6-3078-4396-a281-178951cfdd56",
   "metadata": {},
   "outputs": [
    {
     "name": "stdout",
     "output_type": "stream",
     "text": [
      "독립표본의 t검정 진행결과 pvalue는 0.021140로\n",
      "귀무가설을 기각한다. 즉, A,B 지역 학생의 점수에 차이가 있다\n"
     ]
    }
   ],
   "source": [
    "'''\n",
    "서로 다른 두집단간 평균의 차이를 묻는 것으로, 표본의 갯수는 50개 이하이므로\n",
    "정규성을 확인후 독립표본t검정을 진행한다\n",
    "'''\n",
    "from scipy.stats import ttest_ind\n",
    "H0 = 'A,B 지역 학생의 점수에 차이가 없다'\n",
    "H1 = 'A,B 지역 학생의 점수에 차이가 있다'\n",
    "\n",
    "A = df.loc[df.school_name=='A','score'].dropna(axis=0).reset_index(drop=True)\n",
    "B = df.loc[df.school_name=='B','score'].dropna(axis=0).reset_index(drop=True)\n",
    "_,p_val= ttest_ind(A,B)\n",
    "print(f'독립표본의 t검정 진행결과 pvalue는 {p_val:.6f}로')\n",
    "\n",
    "if p_val<0.05:print(f'귀무가설을 기각한다. 즉, {H1}')\n",
    "else: print(f'귀무가설을 기각하지 못한다. 즉, {H0}')"
   ]
  },
  {
   "cell_type": "markdown",
   "id": "3615cdea-3cbc-4288-8085-4844496e71dd",
   "metadata": {},
   "source": [
    "# 7-1\n",
    "몸무게를 제어한다고 생각하고, 나이와 콜레스테롤 상관계수 및 유의확률 구하라(10점)\n",
    "\n",
    "데이터 출처 : https://www.kaggle.com/datasets/hangawqadir/erbil-heart-disease-dataset\n",
    "\n",
    "데이터 url : https://raw.githubusercontent.com/Datamanim/datarepo/main/adp/28/p7.csv\n",
    "\n",
    "연령, 몸무게,콜레스테롤 수치 데이터"
   ]
  },
  {
   "cell_type": "code",
   "execution_count": 81,
   "id": "88c53acd-8186-46cc-82d8-5a894bc031ba",
   "metadata": {},
   "outputs": [
    {
     "name": "stdout",
     "output_type": "stream",
     "text": [
      "(333, 3)\n"
     ]
    },
    {
     "data": {
      "text/html": [
       "<div>\n",
       "<style scoped>\n",
       "    .dataframe tbody tr th:only-of-type {\n",
       "        vertical-align: middle;\n",
       "    }\n",
       "\n",
       "    .dataframe tbody tr th {\n",
       "        vertical-align: top;\n",
       "    }\n",
       "\n",
       "    .dataframe thead th {\n",
       "        text-align: right;\n",
       "    }\n",
       "</style>\n",
       "<table border=\"1\" class=\"dataframe\">\n",
       "  <thead>\n",
       "    <tr style=\"text-align: right;\">\n",
       "      <th></th>\n",
       "      <th>dtypes</th>\n",
       "      <th>결측치</th>\n",
       "      <th>유일값</th>\n",
       "      <th>첫번째</th>\n",
       "      <th>두번째</th>\n",
       "    </tr>\n",
       "  </thead>\n",
       "  <tbody>\n",
       "    <tr>\n",
       "      <th>age</th>\n",
       "      <td>int64</td>\n",
       "      <td>0</td>\n",
       "      <td>59</td>\n",
       "      <td>65.0</td>\n",
       "      <td>54.0</td>\n",
       "    </tr>\n",
       "    <tr>\n",
       "      <th>Cholesterol</th>\n",
       "      <td>float64</td>\n",
       "      <td>0</td>\n",
       "      <td>154</td>\n",
       "      <td>69.0</td>\n",
       "      <td>117.0</td>\n",
       "    </tr>\n",
       "    <tr>\n",
       "      <th>weight</th>\n",
       "      <td>float64</td>\n",
       "      <td>0</td>\n",
       "      <td>92</td>\n",
       "      <td>111.0</td>\n",
       "      <td>81.0</td>\n",
       "    </tr>\n",
       "  </tbody>\n",
       "</table>\n",
       "</div>"
      ],
      "text/plain": [
       "              dtypes  결측치  유일값    첫번째    두번째\n",
       "age            int64    0   59   65.0   54.0\n",
       "Cholesterol  float64    0  154   69.0  117.0\n",
       "weight       float64    0   92  111.0   81.0"
      ]
     },
     "execution_count": 81,
     "metadata": {},
     "output_type": "execute_result"
    }
   ],
   "source": [
    "df = pd.read_csv('https://raw.githubusercontent.com/Datamanim/datarepo/main/adp/28/p7.csv')\n",
    "resume(df)"
   ]
  },
  {
   "cell_type": "code",
   "execution_count": 87,
   "id": "300d5da3-7851-4cc3-b9bc-d01c17cea932",
   "metadata": {},
   "outputs": [
    {
     "data": {
      "text/plain": [
       "age           -0.062325\n",
       "Cholesterol    0.206904\n",
       "Name: weight, dtype: float64"
      ]
     },
     "execution_count": 87,
     "metadata": {},
     "output_type": "execute_result"
    }
   ],
   "source": [
    "df.corr()['weight'][:-1]"
   ]
  },
  {
   "cell_type": "markdown",
   "id": "c6818dfb-9ff8-47bb-9518-5a64afa1fc87",
   "metadata": {},
   "source": [
    "- 몸무게는 나이보다 콜레스테롤과의 상관계수가 높다"
   ]
  },
  {
   "cell_type": "markdown",
   "id": "b24e5e77-0547-490f-9c40-a5b685f7f360",
   "metadata": {},
   "source": [
    "# 7-2\n",
    "상관계수를 유의수준 0.05하에서 검정하라 (5점)"
   ]
  },
  {
   "cell_type": "code",
   "execution_count": 92,
   "id": "66ae867f-d134-4ec7-84cf-76eb82314c0b",
   "metadata": {},
   "outputs": [
    {
     "name": "stdout",
     "output_type": "stream",
     "text": [
      "age의 p_value :  0.2567295907424403\n",
      "age의상관계수 -0.06는 유의수준 0.05에서 유의미하지 않습니다.\n",
      "\n",
      "Cholesterol의 p_value :  0.00014314060248596513\n",
      "Cholesterol의 상관계수 0.21는 유의수준 0.05에서 유의미합니다.\n",
      "\n"
     ]
    }
   ],
   "source": [
    "import numpy as np\n",
    "from scipy.stats import pearsonr\n",
    "for col in df.columns[:-1]:\n",
    "    # 예시 데이터\n",
    "    x = df[col]\n",
    "    y = df['weight']\n",
    "\n",
    "    # 피어슨 상관계수 계산\n",
    "    corr_coef, p_value = pearsonr(x, y)\n",
    "\n",
    "    # 유의수준 0.05 하에서 검정\n",
    "    alpha = 0.05\n",
    "    print(f'{col}의 p_value : ',p_value)\n",
    "    if p_value < alpha:\n",
    "        print(f\"{col}의 상관계수 {corr_coef:.2f}는 유의수준 {alpha}에서 유의미합니다.\\n\")\n",
    "    else:\n",
    "        print(f\"{col}의상관계수 {corr_coef:.2f}는 유의수준 {alpha}에서 유의미하지 않습니다.\\n\")"
   ]
  }
 ],
 "metadata": {
  "kernelspec": {
   "display_name": "tw311",
   "language": "python",
   "name": "tw311"
  },
  "language_info": {
   "codemirror_mode": {
    "name": "ipython",
    "version": 3
   },
   "file_extension": ".py",
   "mimetype": "text/x-python",
   "name": "python",
   "nbconvert_exporter": "python",
   "pygments_lexer": "ipython3",
   "version": "3.11.8"
  }
 },
 "nbformat": 4,
 "nbformat_minor": 5
}
