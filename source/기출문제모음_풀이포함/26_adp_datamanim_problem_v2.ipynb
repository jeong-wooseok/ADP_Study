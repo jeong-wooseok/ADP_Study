{
 "cells": [
  {
   "cell_type": "markdown",
   "id": "0a308b4f",
   "metadata": {},
   "source": [
    "# ADP 26회 실기 문제"
   ]
  },
  {
   "cell_type": "markdown",
   "id": "e7116d9d",
   "metadata": {},
   "source": [
    "# 머신러닝 - 데이터 설명\n",
    "- 데이터 설명\n",
    "    - InvoiceNo: Invoice number. Nominal, a 6-digit integral number uniquely assigned to each transaction. If this code starts with letter 'c', it indicates a cancellation.     \n",
    "    - StockCode: Product (item) code. Nominal, a 5-digit integral number uniquely assigned to each distinct product.     \n",
    "    - Description: Product (item) name. Nominal.    \n",
    "    - Quantity: The quantities of each product (item) per transaction. Numeric.     \n",
    "    - InvoiceDate: Invice Date and time. Numeric, the day and time when each transaction was generated.   \n",
    "    - UnitPrice: Unit price. Numeric, Product price per unit in sterling.    \n",
    "    - CustomerID: Customer number. Nominal, a 5-digit integral number uniquely assigned to each customer.     \n",
    "    - Country: Country name. Nominal, the name of the country where each customer resides.  \n",
    "    \n",
    "- 출처 : - https://archive.ics.uci.edu/ml/index.phpm\n",
    "- 데이터url : https://raw.githubusercontent.com/Datamanim/datarepo/main/adp/26/problem1.csv"
   ]
  },
  {
   "cell_type": "code",
   "execution_count": 1,
   "id": "04d19c52",
   "metadata": {},
   "outputs": [
    {
     "name": "stdout",
     "output_type": "stream",
     "text": [
      "(35801, 8)\n"
     ]
    },
    {
     "data": {
      "text/html": [
       "<div>\n",
       "<style scoped>\n",
       "    .dataframe tbody tr th:only-of-type {\n",
       "        vertical-align: middle;\n",
       "    }\n",
       "\n",
       "    .dataframe tbody tr th {\n",
       "        vertical-align: top;\n",
       "    }\n",
       "\n",
       "    .dataframe thead th {\n",
       "        text-align: right;\n",
       "    }\n",
       "</style>\n",
       "<table border=\"1\" class=\"dataframe\">\n",
       "  <thead>\n",
       "    <tr style=\"text-align: right;\">\n",
       "      <th></th>\n",
       "      <th>dtypes</th>\n",
       "      <th>결측치</th>\n",
       "      <th>유일값</th>\n",
       "      <th>첫번째</th>\n",
       "      <th>두번째</th>\n",
       "    </tr>\n",
       "  </thead>\n",
       "  <tbody>\n",
       "    <tr>\n",
       "      <th>InvoiceNo</th>\n",
       "      <td>object</td>\n",
       "      <td>0</td>\n",
       "      <td>1846</td>\n",
       "      <td>563808</td>\n",
       "      <td>561645</td>\n",
       "    </tr>\n",
       "    <tr>\n",
       "      <th>StockCode</th>\n",
       "      <td>object</td>\n",
       "      <td>0</td>\n",
       "      <td>2668</td>\n",
       "      <td>22432</td>\n",
       "      <td>23166</td>\n",
       "    </tr>\n",
       "    <tr>\n",
       "      <th>Description</th>\n",
       "      <td>object</td>\n",
       "      <td>0</td>\n",
       "      <td>2763</td>\n",
       "      <td>WATERING CAN PINK BUNNY</td>\n",
       "      <td>MEDIUM CERAMIC TOP STORAGE JAR</td>\n",
       "    </tr>\n",
       "    <tr>\n",
       "      <th>Quantity</th>\n",
       "      <td>float64</td>\n",
       "      <td>25</td>\n",
       "      <td>124</td>\n",
       "      <td>6.0</td>\n",
       "      <td>12.0</td>\n",
       "    </tr>\n",
       "    <tr>\n",
       "      <th>InvoiceDate</th>\n",
       "      <td>object</td>\n",
       "      <td>0</td>\n",
       "      <td>1827</td>\n",
       "      <td>8/19/2011 11:46</td>\n",
       "      <td>7/28/2011 15:16</td>\n",
       "    </tr>\n",
       "    <tr>\n",
       "      <th>UnitPrice</th>\n",
       "      <td>float64</td>\n",
       "      <td>97</td>\n",
       "      <td>162</td>\n",
       "      <td>1.95</td>\n",
       "      <td>1.25</td>\n",
       "    </tr>\n",
       "    <tr>\n",
       "      <th>CustomerID</th>\n",
       "      <td>float64</td>\n",
       "      <td>0</td>\n",
       "      <td>289</td>\n",
       "      <td>12626.0</td>\n",
       "      <td>14911.0</td>\n",
       "    </tr>\n",
       "    <tr>\n",
       "      <th>Country</th>\n",
       "      <td>object</td>\n",
       "      <td>0</td>\n",
       "      <td>8</td>\n",
       "      <td>Germany</td>\n",
       "      <td>EIRE</td>\n",
       "    </tr>\n",
       "  </tbody>\n",
       "</table>\n",
       "</div>"
      ],
      "text/plain": [
       "              dtypes  결측치   유일값                      첫번째  \\\n",
       "InvoiceNo     object    0  1846                   563808   \n",
       "StockCode     object    0  2668                    22432   \n",
       "Description   object    0  2763  WATERING CAN PINK BUNNY   \n",
       "Quantity     float64   25   124                      6.0   \n",
       "InvoiceDate   object    0  1827          8/19/2011 11:46   \n",
       "UnitPrice    float64   97   162                     1.95   \n",
       "CustomerID   float64    0   289                  12626.0   \n",
       "Country       object    0     8                  Germany   \n",
       "\n",
       "                                        두번째  \n",
       "InvoiceNo                            561645  \n",
       "StockCode                             23166  \n",
       "Description  MEDIUM CERAMIC TOP STORAGE JAR  \n",
       "Quantity                               12.0  \n",
       "InvoiceDate                 7/28/2011 15:16  \n",
       "UnitPrice                              1.25  \n",
       "CustomerID                          14911.0  \n",
       "Country                                EIRE  "
      ]
     },
     "execution_count": 1,
     "metadata": {},
     "output_type": "execute_result"
    }
   ],
   "source": [
    "import pandas as pd\n",
    "\n",
    "df= pd.read_csv('https://raw.githubusercontent.com/Datamanim/datarepo/main/adp/26/problem1.csv',encoding='cp949')\n",
    "def resume(df):\n",
    "    print(df.shape)\n",
    "    tmp = pd.DataFrame()\n",
    "    tmp['dtypes'] = df.dtypes\n",
    "    tmp['결측치'] = df.isna().sum()\n",
    "    tmp['유일값'] = df.nunique()\n",
    "    tmp['첫번째'] = df.iloc[0,:]\n",
    "    tmp['두번째'] = df.iloc[1,:]\n",
    "    return tmp\n",
    "resume(df)"
   ]
  },
  {
   "cell_type": "markdown",
   "id": "b2a4f16a",
   "metadata": {},
   "source": [
    "## 문제1.1 \n",
    "결측치를 확인 하고, 결측치 제거 또는 대치하고 방법에 대해 설명하라"
   ]
  },
  {
   "cell_type": "markdown",
   "id": "0c21081e",
   "metadata": {},
   "source": [
    "## 문제1.2 \n",
    "이상치를 제거하는 방법을 설명하고, 이상치 제거 전 후 결과에 대해 통계적인 방법을 포함하여 설명할 것"
   ]
  },
  {
   "cell_type": "markdown",
   "id": "1c59c076",
   "metadata": {},
   "source": [
    "## 문제1.3 \n",
    "각 StockCode을 기준으로 파생변수들을 만들고 제품들의 특성에 따른 군집 생성을 위한 전처리를 수행하라. "
   ]
  },
  {
   "cell_type": "markdown",
   "id": "5a7d0d7d",
   "metadata": {},
   "source": [
    "## 문제 2.1 \n",
    "Kmeans , DBSCAN 방법 중 하나를 선택하여 군집분석을 시행하고 각 군집별 특성을 분석하라"
   ]
  },
  {
   "cell_type": "markdown",
   "id": "20259b64",
   "metadata": {},
   "source": [
    "## 문제 2.2 \n",
    "각 군집 별 대표 추천 상품을 도출할 것"
   ]
  },
  {
   "cell_type": "markdown",
   "id": "3d7f4768",
   "metadata": {},
   "source": [
    "## 문제 2.3 \n",
    "CustomerID가 12413인 고객을 대상으로 상품을 추천할 것"
   ]
  },
  {
   "cell_type": "markdown",
   "id": "791f8802",
   "metadata": {},
   "source": [
    "# 통계"
   ]
  },
  {
   "cell_type": "markdown",
   "id": "f36afec7",
   "metadata": {},
   "source": [
    "## 문제 3\n",
    "어느 제조업체의 제품 불량률을 조사하려고 한다. 이 회사의 제품 불량률이 실제로는 90%라고 알려져 있다.     \n",
    "이를 표본 조사로 추정하고자 합니다. 추정된 불량률의 추정오차한계가 5% 이내가 되도록 하려면, 어느 정도의 표본 크기가 필요한지 계산하라."
   ]
  },
  {
   "cell_type": "code",
   "execution_count": 2,
   "id": "0175ace1-d274-421e-93ef-c94729ebc33a",
   "metadata": {},
   "outputs": [
    {
     "name": "stdout",
     "output_type": "stream",
     "text": [
      "필요한 표본 크기: 139.0\n"
     ]
    }
   ],
   "source": [
    "import numpy as np\n",
    "# 입력 값\n",
    "p = 0.9  # 모집단의 비율 (불량률 90%)\n",
    "me = 0.05  # 허용 가능한 오차한계 (5%)\n",
    "z = 1.96  # 95% 신뢰수준에 해당하는 표준정규분포 값\n",
    "\n",
    "# 표본 크기 계산\n",
    "n = (z**2 * p * (1 - p)) / (me**2)\n",
    "n = np.ceil(n)  # 정수로 올림\n",
    "\n",
    "print(f\"필요한 표본 크기: {n}\")"
   ]
  },
  {
   "cell_type": "markdown",
   "id": "d95e096f",
   "metadata": {},
   "source": [
    "## 문제 설명 (4번)\n",
    "![image](https://raw.githubusercontent.com/Datamanim/datarepo/main/adp/26/problem2.png)"
   ]
  },
  {
   "cell_type": "code",
   "execution_count": 3,
   "id": "d1045842-9ad4-472b-b94f-4fa832981fe9",
   "metadata": {},
   "outputs": [
    {
     "data": {
      "text/html": [
       "<div>\n",
       "<style scoped>\n",
       "    .dataframe tbody tr th:only-of-type {\n",
       "        vertical-align: middle;\n",
       "    }\n",
       "\n",
       "    .dataframe tbody tr th {\n",
       "        vertical-align: top;\n",
       "    }\n",
       "\n",
       "    .dataframe thead th {\n",
       "        text-align: right;\n",
       "    }\n",
       "</style>\n",
       "<table border=\"1\" class=\"dataframe\">\n",
       "  <thead>\n",
       "    <tr style=\"text-align: right;\">\n",
       "      <th></th>\n",
       "      <th>1월</th>\n",
       "      <th>2월</th>\n",
       "      <th>3월</th>\n",
       "      <th>4월</th>\n",
       "      <th>5월</th>\n",
       "      <th>6월</th>\n",
       "      <th>7월</th>\n",
       "      <th>8월</th>\n",
       "      <th>9월</th>\n",
       "    </tr>\n",
       "  </thead>\n",
       "  <tbody>\n",
       "    <tr>\n",
       "      <th>USD/oz</th>\n",
       "      <td>12.14</td>\n",
       "      <td>42.6</td>\n",
       "      <td>34.4</td>\n",
       "      <td>35.29</td>\n",
       "      <td>30.96</td>\n",
       "      <td>57.12</td>\n",
       "      <td>37.84</td>\n",
       "      <td>42.49</td>\n",
       "      <td>31.38</td>\n",
       "    </tr>\n",
       "  </tbody>\n",
       "</table>\n",
       "</div>"
      ],
      "text/plain": [
       "           1월    2월    3월     4월     5월     6월     7월     8월     9월\n",
       "USD/oz  12.14  42.6  34.4  35.29  30.96  57.12  37.84  42.49  31.38"
      ]
     },
     "execution_count": 3,
     "metadata": {},
     "output_type": "execute_result"
    }
   ],
   "source": [
    "df = pd.DataFrame([12.14,42.6,34.4,35.29,30.96,57.12,37.84,42.49,31.38],index= [f'{i}월' for i in range(1,10)],columns=['USD/oz']).T\n",
    "df"
   ]
  },
  {
   "cell_type": "markdown",
   "id": "7147d76a",
   "metadata": {},
   "source": [
    "## 문제 4.1 \n",
    "은의 가격 및 이동평균값 3이 설정된 시계열 그래프를 그려라"
   ]
  },
  {
   "cell_type": "code",
   "execution_count": 4,
   "id": "1fd7bde1",
   "metadata": {},
   "outputs": [
    {
     "data": {
      "text/html": [
       "<div>\n",
       "<style scoped>\n",
       "    .dataframe tbody tr th:only-of-type {\n",
       "        vertical-align: middle;\n",
       "    }\n",
       "\n",
       "    .dataframe tbody tr th {\n",
       "        vertical-align: top;\n",
       "    }\n",
       "\n",
       "    .dataframe thead th {\n",
       "        text-align: right;\n",
       "    }\n",
       "</style>\n",
       "<table border=\"1\" class=\"dataframe\">\n",
       "  <thead>\n",
       "    <tr style=\"text-align: right;\">\n",
       "      <th></th>\n",
       "      <th>USD/oz</th>\n",
       "    </tr>\n",
       "    <tr>\n",
       "      <th>index</th>\n",
       "      <th></th>\n",
       "    </tr>\n",
       "  </thead>\n",
       "  <tbody>\n",
       "    <tr>\n",
       "      <th>1</th>\n",
       "      <td>12.14</td>\n",
       "    </tr>\n",
       "    <tr>\n",
       "      <th>2</th>\n",
       "      <td>42.60</td>\n",
       "    </tr>\n",
       "    <tr>\n",
       "      <th>3</th>\n",
       "      <td>34.40</td>\n",
       "    </tr>\n",
       "    <tr>\n",
       "      <th>4</th>\n",
       "      <td>35.29</td>\n",
       "    </tr>\n",
       "    <tr>\n",
       "      <th>5</th>\n",
       "      <td>30.96</td>\n",
       "    </tr>\n",
       "    <tr>\n",
       "      <th>6</th>\n",
       "      <td>57.12</td>\n",
       "    </tr>\n",
       "    <tr>\n",
       "      <th>7</th>\n",
       "      <td>37.84</td>\n",
       "    </tr>\n",
       "    <tr>\n",
       "      <th>8</th>\n",
       "      <td>42.49</td>\n",
       "    </tr>\n",
       "    <tr>\n",
       "      <th>9</th>\n",
       "      <td>31.38</td>\n",
       "    </tr>\n",
       "  </tbody>\n",
       "</table>\n",
       "</div>"
      ],
      "text/plain": [
       "       USD/oz\n",
       "index        \n",
       "1       12.14\n",
       "2       42.60\n",
       "3       34.40\n",
       "4       35.29\n",
       "5       30.96\n",
       "6       57.12\n",
       "7       37.84\n",
       "8       42.49\n",
       "9       31.38"
      ]
     },
     "execution_count": 4,
     "metadata": {},
     "output_type": "execute_result"
    }
   ],
   "source": [
    "df = pd.DataFrame([12.14,42.6,34.4,35.29,30.96,57.12,37.84,42.49,31.38],index= [f'{i}월' for i in range(1,10)],columns=['USD/oz']).T\n",
    "df = df.T.reset_index()\n",
    "df['index'] = df['index'].str.replace('월','')\n",
    "df['index'] = pd.to_datetime(df['index'], format='%m').dt.month\n",
    "df = df.set_index('index')\n",
    "df"
   ]
  },
  {
   "cell_type": "code",
   "execution_count": 5,
   "id": "9ca84634-21bb-4269-bc3d-7ddf20415114",
   "metadata": {},
   "outputs": [
    {
     "data": {
      "image/png": "[encoded data removed]",
      "text/plain": [
       "<Figure size 640x480 with 1 Axes>"
      ]
     },
     "metadata": {},
     "output_type": "display_data"
    }
   ],
   "source": [
    "df.rolling(3).mean().plot();"
   ]
  },
  {
   "cell_type": "markdown",
   "id": "d81112a7",
   "metadata": {},
   "source": [
    "## 문제 4.2\n",
    "1월 대비 9월의 은의 가격은 몇 % 올랐는가? 소수점 두번째 자리에서 반올림"
   ]
  },
  {
   "cell_type": "code",
   "execution_count": 6,
   "id": "325bb2bc",
   "metadata": {},
   "outputs": [
    {
     "data": {
      "text/plain": [
       "158.48"
      ]
     },
     "execution_count": 6,
     "metadata": {},
     "output_type": "execute_result"
    }
   ],
   "source": [
    "np.round((df.loc[9,'USD/oz']/df.loc[1,'USD/oz']-1)*100,2)"
   ]
  },
  {
   "cell_type": "markdown",
   "id": "76918d7b",
   "metadata": {},
   "source": [
    "## 문제설명 (5번)\n",
    "<img src=\"https://github.com/Datamanim/datarepo/blob/main/adp/26/problem3.png?raw=true\" width=\"300\" height=\"300\">\n",
    "\n",
    "위 표는 A,B,C 자치구별 W 의원에 대한 찬성, 반대 지지를 나타낸다. 자치구별 지지율이 같은지에 대해서 검정하라"
   ]
  },
  {
   "cell_type": "markdown",
   "id": "0f222d5b",
   "metadata": {},
   "source": [
    "## 문제 5.1 \n",
    "연구가설과 귀무가설을 설정하라"
   ]
  },
  {
   "cell_type": "code",
   "execution_count": 4,
   "id": "857e9a82",
   "metadata": {},
   "outputs": [
    {
     "name": "stdout",
     "output_type": "stream",
     "text": [
      "귀무가설은 '자치구별 지지율이 같다'이고,\n",
      "연구가설은 '자치구별 지지율이 같지않다'이다\n"
     ]
    }
   ],
   "source": [
    "H0 = '자치구별 지지율이 같다'\n",
    "H1 = '자치구별 지지율이 같지않다'\n",
    "print(f\"귀무가설은 '{H0}'이고,\\n연구가설은 '{H1}'이다\")"
   ]
  },
  {
   "cell_type": "markdown",
   "id": "72a8d5f3",
   "metadata": {},
   "source": [
    "## 문제 5.2 \n",
    "검정통계량을 구하고 결론을 내라"
   ]
  },
  {
   "cell_type": "code",
   "execution_count": 5,
   "id": "50e72433",
   "metadata": {},
   "outputs": [
    {
     "name": "stdout",
     "output_type": "stream",
     "text": [
      "pvalue:0.019로 귀무가설을 기각하여 자치구별 지지율이 같지않다\n"
     ]
    }
   ],
   "source": [
    "import pandas as pd\n",
    "df = pd.DataFrame([[176,193,159],\n",
    "              [124,107,141]],\n",
    "            index=['찬성','반대'],\n",
    "            columns=['A','B','C'])\n",
    "from scipy.stats import chi2_contingency\n",
    "_,p_val,_,_ = chi2_contingency(df)\n",
    "if p_val<0.05:print(f\"pvalue:{p_val:.3f}로 귀무가설을 기각하여 {H1}\")\n",
    "else:print(f\"pvalue:{p_val:.3f}로 귀무가설을 채택하여 {H0}\")"
   ]
  },
  {
   "cell_type": "markdown",
   "id": "6f29af2c",
   "metadata": {},
   "source": [
    "## 문제설명 (6번)\n",
    "A초등학교 남학생 16명과 여학생 9명의 혈압을 측정한 pressure.csv파일을 가지고 남녀학생의 평균 혈압에 차이가 없는지 확인하려한다.\n",
    "- 데이터 url :https://raw.githubusercontent.com/Datamanim/datarepo/main/adp/26/pressure.csv"
   ]
  },
  {
   "cell_type": "code",
   "execution_count": 6,
   "id": "83d998fc-2aed-4642-944f-bc1af32dab33",
   "metadata": {},
   "outputs": [],
   "source": [
    "df = pd.read_csv('https://raw.githubusercontent.com/Datamanim/datarepo/main/adp/26/pressure.csv')"
   ]
  },
  {
   "cell_type": "markdown",
   "id": "fb78ce9e",
   "metadata": {},
   "source": [
    "## 문제 6.2 \n",
    "검정 통계량을 구하고 가설 검정을 수행하라"
   ]
  },
  {
   "cell_type": "code",
   "execution_count": 7,
   "id": "45c6117c",
   "metadata": {},
   "outputs": [
    {
     "name": "stdout",
     "output_type": "stream",
     "text": [
      "0.038415980516041\n",
      "0.05908637914715314\n"
     ]
    }
   ],
   "source": [
    "'''\n",
    "서로다른 두 집단의 평균차이를 구하는 문제로 샘플 30개 이하이므로 정규성검정이후\n",
    "모수검정시 독립표본t검정으로, 비모수 검정 독립표본이므로 mannwhitneyu로 풀이한다\n",
    "'''\n",
    "H0 = '남녀학생의 평균 혈압에 차이가 없다'\n",
    "H1 = '남녀학생의 평균 혈압에 차이가 있다'\n",
    "con_m = df['gender']=='male'\n",
    "con_f = df['gender']=='female'\n",
    "male = df.loc[con_m,'pressure']\n",
    "female = df.loc[con_f,'pressure']\n",
    "from scipy.stats import shapiro\n",
    "print(shapiro(male.values).pvalue)\n",
    "print(shapiro(female.values).pvalue)"
   ]
  },
  {
   "cell_type": "markdown",
   "id": "b7486920-99af-4325-9dda-98a35a11189e",
   "metadata": {},
   "source": [
    "남성의 경우, pvalue가 0.05이하이므로 정규성을 만족한다고 보기 어렵다.\n",
    "따라서 비모수검정으로 풀이"
   ]
  },
  {
   "cell_type": "code",
   "execution_count": 11,
   "id": "2158c9d3-6bd6-4439-9520-bfbc118f27c4",
   "metadata": {},
   "outputs": [
    {
     "name": "stdout",
     "output_type": "stream",
     "text": [
      "pvalue가 0.148758으로 남녀학생의 평균 혈압에 차이가 없다\n"
     ]
    }
   ],
   "source": [
    "from scipy.stats import mannwhitneyu\n",
    "u_stat, p_val = mannwhitneyu(male, female)\n",
    "if p_val<0.05:print(f'pvalue가 {p_val:.6f}으로 {H1}')\n",
    "else:print(f'pvalue가 {p_val:.6f}으로 {H0}')"
   ]
  },
  {
   "cell_type": "markdown",
   "id": "145990ff",
   "metadata": {},
   "source": [
    "## 문제 6.3 \n",
    "6.2의 검정 통계량 값을 바탕으로 신뢰수준 95%하에서 신뢰구간을 설정하라"
   ]
  },
  {
   "cell_type": "code",
   "execution_count": 14,
   "id": "36dcb007-9e22-49cf-b6be-b527a6856818",
   "metadata": {},
   "outputs": [
    {
     "data": {
      "text/plain": [
       "array([ 97.1, 107. ,  91.2, 107. , 100.8,  83.9,  91.2,  91.2,  97.1,\n",
       "        83.9,  84.5, 106.2, 101.2, 100.8,  97.1, 107. ])"
      ]
     },
     "execution_count": 14,
     "metadata": {},
     "output_type": "execute_result"
    }
   ],
   "source": [
    "import numpy as np\n",
    "np.random.choice(male, size=len(male), replace=True)"
   ]
  },
  {
   "cell_type": "code",
   "execution_count": 12,
   "id": "9fc55d2f",
   "metadata": {},
   "outputs": [
    {
     "name": "stdout",
     "output_type": "stream",
     "text": [
      "Mann-Whitney U Test Statistic: 98.00\n",
      "95% Confidence Interval: [61.00, 131.00]\n"
     ]
    }
   ],
   "source": [
    "# Mann-Whitney U 검정\n",
    "statistic, p_value = mannwhitneyu(male, female)\n",
    "\n",
    "# 부트스트랩 신뢰구간 계산\n",
    "def bootstrap_mannwhitneyu(data1, data2, alpha=0.05, n_bootstraps=10000):\n",
    "    stats = []\n",
    "    for _ in range(n_bootstraps):\n",
    "        sample1 = np.random.choice(data1, size=len(data1), replace=True)\n",
    "        sample2 = np.random.choice(data2, size=len(data2), replace=True)\n",
    "        stats.append(mannwhitneyu(sample1, sample2)[0])\n",
    "    \n",
    "    stats = np.sort(stats)\n",
    "    lower = stats[int(alpha/2 * n_bootstraps)]\n",
    "    upper = stats[int((1 - alpha/2) * n_bootstraps)]\n",
    "    \n",
    "    return lower, statistic, upper\n",
    "\n",
    "# 95% 신뢰구간 계산\n",
    "lower, statistic, upper = bootstrap_mannwhitneyu(male, female, alpha=0.05)\n",
    "print(f\"Mann-Whitney U Test Statistic: {statistic:.2f}\")\n",
    "print(f\"95% Confidence Interval: [{lower:.2f}, {upper:.2f}]\")\n"
   ]
  },
  {
   "cell_type": "markdown",
   "id": "bc2a1d92",
   "metadata": {},
   "source": [
    "## 문제설명 (7번)\n",
    "height(키), weight(몸무게), waist(허리둘레) 컬럼을 가진 problem7.csv파일을 가지고 다음을 분석하라      \n",
    "A시의 20대 남성 411명을 임의로 추출하여 키, 몸무게, 허리둘레를 조사하여 기록한 데이터이다.         \n",
    "이 데이터를 이용하여 20대 남성의 키와 허리둘레가 체중에 영향을 미치는지 알아보고자 한다.     \n",
    "\n",
    "- 데이터 url :https://raw.githubusercontent.com/Datamanim/datarepo/main/adp/26/problem7.csv"
   ]
  },
  {
   "cell_type": "markdown",
   "id": "4c0f6221",
   "metadata": {},
   "source": [
    "## 문제 7.1\n",
    "아래 조건을 참고하여 회귀계수(반올림하여 소수점 두자리)를 구하시오.    \n",
    "- 베이지안 회귀   \n",
    "- 시드넘버 1234로 지정\n",
    "- 1000번의 burn-in 이후 10,000의 MCMC를 수행\n",
    "- 회귀계수의 사전분포는 부적절한 균일분포(improper uniform prior distribution), 오차항의 분산의 사전분포는 역감마 분포로 지정. 이때, 형상(Shape)모수와 척도(Scale)모수는 각각 0.005로 지정."
   ]
  },
  {
   "cell_type": "code",
   "execution_count": 35,
   "id": "2261317c",
   "metadata": {
    "tags": []
   },
   "outputs": [
    {
     "data": {
      "text/html": [
       "<div>\n",
       "<style scoped>\n",
       "    .dataframe tbody tr th:only-of-type {\n",
       "        vertical-align: middle;\n",
       "    }\n",
       "\n",
       "    .dataframe tbody tr th {\n",
       "        vertical-align: top;\n",
       "    }\n",
       "\n",
       "    .dataframe thead th {\n",
       "        text-align: right;\n",
       "    }\n",
       "</style>\n",
       "<table border=\"1\" class=\"dataframe\">\n",
       "  <thead>\n",
       "    <tr style=\"text-align: right;\">\n",
       "      <th></th>\n",
       "      <th>height</th>\n",
       "      <th>weight</th>\n",
       "      <th>waistline</th>\n",
       "    </tr>\n",
       "  </thead>\n",
       "  <tbody>\n",
       "    <tr>\n",
       "      <th>0</th>\n",
       "      <td>174.396</td>\n",
       "      <td>72.102</td>\n",
       "      <td>79.3787</td>\n",
       "    </tr>\n",
       "  </tbody>\n",
       "</table>\n",
       "</div>"
      ],
      "text/plain": [
       "    height  weight  waistline\n",
       "0  174.396  72.102    79.3787"
      ]
     },
     "execution_count": 35,
     "metadata": {},
     "output_type": "execute_result"
    }
   ],
   "source": [
    "import pandas as pd\n",
    "df =pd.read_csv('https://raw.githubusercontent.com/Datamanim/datarepo/main/adp/26/problem7.csv')\n",
    "df.head(1)"
   ]
  },
  {
   "cell_type": "code",
   "execution_count": 28,
   "id": "cb07e903-6a5e-4629-b1be-3b70e26bccaf",
   "metadata": {},
   "outputs": [],
   "source": [
    "x1 = df['height']\n",
    "x2 = df['waistline']\n",
    "y = df['weight']"
   ]
  },
  {
   "cell_type": "code",
   "execution_count": null,
   "id": "1ca573d4-1b35-47b0-b399-8bf6aef5897f",
   "metadata": {
    "tags": []
   },
   "outputs": [
    {
     "data": {
      "application/vnd.jupyter.widget-view+json": {
       "model_id": "ea9cbe6181fd47ca9d970040c17e449b",
       "version_major": 2,
       "version_minor": 0
      },
      "text/plain": [
       "Output()"
      ]
     },
     "metadata": {},
     "output_type": "display_data"
    },
    {
     "data": {
      "text/html": [
       "<pre style=\"white-space:pre;overflow-x:auto;line-height:normal;font-family:Menlo,'DejaVu Sans Mono',consolas,'Courier New',monospace\">\n",
       "</pre>\n"
      ],
      "text/plain": [
       "\n"
      ]
     },
     "metadata": {},
     "output_type": "display_data"
    },
    {
     "data": {
      "text/html": [
       "<pre style=\"white-space:pre;overflow-x:auto;line-height:normal;font-family:Menlo,'DejaVu Sans Mono',consolas,'Courier New',monospace\"></pre>\n"
      ],
      "text/plain": []
     },
     "metadata": {},
     "output_type": "display_data"
    },
    {
     "data": {
      "text/html": [
       "<pre style=\"white-space:pre;overflow-x:auto;line-height:normal;font-family:Menlo,'DejaVu Sans Mono',consolas,'Courier New',monospace\">\n",
       "</pre>\n"
      ],
      "text/plain": [
       "\n"
      ]
     },
     "metadata": {},
     "output_type": "display_data"
    },
    {
     "name": "stderr",
     "output_type": "stream",
     "text": [
      "C:\\Users\\masta\\AppData\\Local\\Temp\\ipykernel_19600\\4571398.py:17: FutureWarning: The `start` kwarg was renamed to `initvals` and can now do more. Please check the docstring.\n",
      "  trace = pm.sample(draws=1000, tune=10000, start=start, progressbar=True, random_seed=1234)\n",
      "Auto-assigning NUTS sampler...\n",
      "Initializing NUTS using jitter+adapt_diag...\n",
      "Multiprocess sampling (4 chains in 4 jobs)\n",
      "NUTS: [beta1, beta2, alpha, sigma]\n"
     ]
    },
    {
     "data": {
      "application/vnd.jupyter.widget-view+json": {
       "model_id": "397c610c32c34fc99dcef17862c3d2bb",
       "version_major": 2,
       "version_minor": 0
      },
      "text/plain": [
       "Output()"
      ]
     },
     "metadata": {},
     "output_type": "display_data"
    }
   ],
   "source": [
    "import pymc as pm\n",
    "with pm.Model() as model:\n",
    "    beta1 = pm.Flat('beta1') # Flat : 회귀계수의 사전분포 정의 (부적절한 균일분포)\n",
    "    beta2 = pm.Flat('beta2')\n",
    "    alpha = pm.Flat('alpha')\n",
    "\n",
    "    shape = 0.005\n",
    "    scaling = 0.005\n",
    "    sigma = pm.InverseGamma('sigma', alpha=shape, beta=scaling) # 오차항의 분산의 사전분포 정의 (역감마분포)\n",
    "    y_test = alpha + beta1*x1.values + beta2*x2.values \n",
    "    likelihood = pm.Normal('y', mu=y_test, sigma=sigma, observed=y)\n",
    "\n",
    "    # inference\n",
    "    start = pm.find_MAP()\n",
    "    step = pm.NUTS() # NUTS MCMC 샘플링 알고리즘\n",
    "    # Perform MCMC sampling with burn-in of 1000 and 10000 iterations(MCMC) -> 소요 시간 길어 100,100번으로 진행함.\n",
    "    trace = pm.sample(draws=1000, tune=10000, start=start, progressbar=True, random_seed=1234)"
   ]
  },
  {
   "cell_type": "code",
   "execution_count": null,
   "id": "ebc29ad9-945d-4d0a-b63f-93aaa10b4c06",
   "metadata": {},
   "outputs": [],
   "source": [
    "sm = pm.summary(trace)\n",
    "sm"
   ]
  },
  {
   "cell_type": "markdown",
   "id": "2959ad47",
   "metadata": {},
   "source": [
    "## 문제 7.2\n",
    "위에서 만든 모델을 바탕으로 키 180cm, 허리둘레 85cm인 남성의 몸무게를 추정하라"
   ]
  },
  {
   "cell_type": "code",
   "execution_count": null,
   "id": "759ca261",
   "metadata": {},
   "outputs": [],
   "source": [
    "# 새로운 데이터 생성\n",
    "alpha = sm.loc['alpha','mean']\n",
    "beta1 = sm.loc['beta1','mean']\n",
    "beta2 = sm.loc['beta2','mean']\n",
    "\n",
    "# 예측값 계산\n",
    "mu_pred = alpha + beta1 * 180 + beta2 * 85\n",
    "\n",
    "print(f'예측 몸무게: {round(mu_pred, 2)} kg')"
   ]
  }
 ],
 "metadata": {
  "celltoolbar": "Edit Metadata",
  "kernelspec": {
   "display_name": "tw311",
   "language": "python",
   "name": "tw311"
  },
  "language_info": {
   "codemirror_mode": {
    "name": "ipython",
    "version": 3
   },
   "file_extension": ".py",
   "mimetype": "text/x-python",
   "name": "python",
   "nbconvert_exporter": "python",
   "pygments_lexer": "ipython3",
   "version": "3.11.8"
  }
 },
 "nbformat": 4,
 "nbformat_minor": 5
}
