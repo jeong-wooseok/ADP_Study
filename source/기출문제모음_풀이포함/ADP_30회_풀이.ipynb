{
 "cells": [
  {
   "cell_type": "markdown",
   "id": "1e530f30",
   "metadata": {
    "id": "1e530f30"
   },
   "source": [
    "# 30회 ADP 복원"
   ]
  },
  {
   "cell_type": "markdown",
   "id": "d0c9251b",
   "metadata": {
    "id": "d0c9251b"
   },
   "source": [
    "# 기계학습 (60점)"
   ]
  },
  {
   "cell_type": "markdown",
   "id": "435ce658",
   "metadata": {
    "id": "435ce658"
   },
   "source": [
    "## 데이터 설명\n",
    "- 데이터 출처 : 캐글어딘가.. 후처리\n",
    "- 데이터 링크 : https://raw.githubusercontent.com/Datamanim/datarepo/main/adp/30/p1.csv\n",
    "- 데이터 설명 : 혈압 데이터 DBP"
   ]
  },
  {
   "cell_type": "markdown",
   "id": "c9373a22",
   "metadata": {
    "id": "c9373a22"
   },
   "source": [
    "## 1-1  EDA를 시행하라"
   ]
  },
  {
   "cell_type": "code",
   "execution_count": 1,
   "id": "e7df5beb",
   "metadata": {
    "colab": {
     "base_uri": "https://localhost:8080/",
     "height": 443
    },
    "executionInfo": {
     "elapsed": 1016,
     "status": "ok",
     "timestamp": 1710281610272,
     "user": {
      "displayName": "WOOSEOK JEONG",
      "userId": "01703662546986869335"
     },
     "user_tz": -540
    },
    "id": "e7df5beb",
    "outputId": "340f8863-04e2-4abf-efad-2e09ffe0c120"
   },
   "outputs": [
    {
     "name": "stdout",
     "output_type": "stream",
     "text": [
      "(4303, 12)\n"
     ]
    },
    {
     "data": {
      "text/html": [
       "<div>\n",
       "<style scoped>\n",
       "    .dataframe tbody tr th:only-of-type {\n",
       "        vertical-align: middle;\n",
       "    }\n",
       "\n",
       "    .dataframe tbody tr th {\n",
       "        vertical-align: top;\n",
       "    }\n",
       "\n",
       "    .dataframe thead th {\n",
       "        text-align: right;\n",
       "    }\n",
       "</style>\n",
       "<table border=\"1\" class=\"dataframe\">\n",
       "  <thead>\n",
       "    <tr style=\"text-align: right;\">\n",
       "      <th></th>\n",
       "      <th>dtypes</th>\n",
       "      <th>isna</th>\n",
       "      <th>nunique</th>\n",
       "      <th>mean</th>\n",
       "      <th>std</th>\n",
       "      <th>25%</th>\n",
       "      <th>50%</th>\n",
       "      <th>70%</th>\n",
       "      <th>1st</th>\n",
       "      <th>2nd</th>\n",
       "    </tr>\n",
       "  </thead>\n",
       "  <tbody>\n",
       "    <tr>\n",
       "      <th>Age</th>\n",
       "      <td>int64</td>\n",
       "      <td>0</td>\n",
       "      <td>70</td>\n",
       "      <td>48.09</td>\n",
       "      <td>14.69</td>\n",
       "      <td>35.00</td>\n",
       "      <td>46.00</td>\n",
       "      <td>59.00</td>\n",
       "      <td>26.00</td>\n",
       "      <td>40.00</td>\n",
       "    </tr>\n",
       "    <tr>\n",
       "      <th>Gender</th>\n",
       "      <td>int64</td>\n",
       "      <td>0</td>\n",
       "      <td>2</td>\n",
       "      <td>1.35</td>\n",
       "      <td>0.48</td>\n",
       "      <td>1.00</td>\n",
       "      <td>1.00</td>\n",
       "      <td>2.00</td>\n",
       "      <td>1.00</td>\n",
       "      <td>1.00</td>\n",
       "    </tr>\n",
       "    <tr>\n",
       "      <th>BMI</th>\n",
       "      <td>float64</td>\n",
       "      <td>0</td>\n",
       "      <td>275</td>\n",
       "      <td>24.12</td>\n",
       "      <td>3.40</td>\n",
       "      <td>21.70</td>\n",
       "      <td>24.00</td>\n",
       "      <td>26.30</td>\n",
       "      <td>20.10</td>\n",
       "      <td>17.70</td>\n",
       "    </tr>\n",
       "    <tr>\n",
       "      <th>DBP</th>\n",
       "      <td>int64</td>\n",
       "      <td>0</td>\n",
       "      <td>75</td>\n",
       "      <td>76.36</td>\n",
       "      <td>11.00</td>\n",
       "      <td>69.00</td>\n",
       "      <td>76.00</td>\n",
       "      <td>83.00</td>\n",
       "      <td>81.00</td>\n",
       "      <td>54.00</td>\n",
       "    </tr>\n",
       "    <tr>\n",
       "      <th>FPG</th>\n",
       "      <td>float64</td>\n",
       "      <td>0</td>\n",
       "      <td>361</td>\n",
       "      <td>5.23</td>\n",
       "      <td>0.78</td>\n",
       "      <td>4.70</td>\n",
       "      <td>5.14</td>\n",
       "      <td>5.70</td>\n",
       "      <td>5.80</td>\n",
       "      <td>4.60</td>\n",
       "    </tr>\n",
       "    <tr>\n",
       "      <th>Chol</th>\n",
       "      <td>float64</td>\n",
       "      <td>1</td>\n",
       "      <td>486</td>\n",
       "      <td>4.86</td>\n",
       "      <td>0.93</td>\n",
       "      <td>4.20</td>\n",
       "      <td>4.79</td>\n",
       "      <td>5.43</td>\n",
       "      <td>4.36</td>\n",
       "      <td>3.70</td>\n",
       "    </tr>\n",
       "    <tr>\n",
       "      <th>Tri</th>\n",
       "      <td>float64</td>\n",
       "      <td>0</td>\n",
       "      <td>478</td>\n",
       "      <td>1.59</td>\n",
       "      <td>1.26</td>\n",
       "      <td>0.86</td>\n",
       "      <td>1.28</td>\n",
       "      <td>1.94</td>\n",
       "      <td>0.86</td>\n",
       "      <td>1.02</td>\n",
       "    </tr>\n",
       "    <tr>\n",
       "      <th>HDL</th>\n",
       "      <td>float64</td>\n",
       "      <td>0</td>\n",
       "      <td>188</td>\n",
       "      <td>1.67</td>\n",
       "      <td>1.08</td>\n",
       "      <td>1.13</td>\n",
       "      <td>1.34</td>\n",
       "      <td>1.61</td>\n",
       "      <td>0.90</td>\n",
       "      <td>1.50</td>\n",
       "    </tr>\n",
       "    <tr>\n",
       "      <th>LDL</th>\n",
       "      <td>float64</td>\n",
       "      <td>0</td>\n",
       "      <td>384</td>\n",
       "      <td>2.98</td>\n",
       "      <td>0.89</td>\n",
       "      <td>2.35</td>\n",
       "      <td>2.82</td>\n",
       "      <td>3.42</td>\n",
       "      <td>2.43</td>\n",
       "      <td>2.04</td>\n",
       "    </tr>\n",
       "    <tr>\n",
       "      <th>ALT</th>\n",
       "      <td>float64</td>\n",
       "      <td>0</td>\n",
       "      <td>680</td>\n",
       "      <td>26.75</td>\n",
       "      <td>22.28</td>\n",
       "      <td>14.30</td>\n",
       "      <td>20.50</td>\n",
       "      <td>31.05</td>\n",
       "      <td>12.00</td>\n",
       "      <td>9.20</td>\n",
       "    </tr>\n",
       "    <tr>\n",
       "      <th>CCR</th>\n",
       "      <td>float64</td>\n",
       "      <td>0</td>\n",
       "      <td>700</td>\n",
       "      <td>71.56</td>\n",
       "      <td>16.94</td>\n",
       "      <td>60.00</td>\n",
       "      <td>72.00</td>\n",
       "      <td>82.30</td>\n",
       "      <td>63.80</td>\n",
       "      <td>70.30</td>\n",
       "    </tr>\n",
       "    <tr>\n",
       "      <th>FFPG</th>\n",
       "      <td>float64</td>\n",
       "      <td>0</td>\n",
       "      <td>479</td>\n",
       "      <td>5.73</td>\n",
       "      <td>1.42</td>\n",
       "      <td>4.90</td>\n",
       "      <td>5.30</td>\n",
       "      <td>6.02</td>\n",
       "      <td>5.40</td>\n",
       "      <td>4.10</td>\n",
       "    </tr>\n",
       "  </tbody>\n",
       "</table>\n",
       "</div>"
      ],
      "text/plain": [
       "         dtypes  isna  nunique   mean    std    25%    50%    70%    1st  \\\n",
       "Age       int64     0       70  48.09  14.69  35.00  46.00  59.00  26.00   \n",
       "Gender    int64     0        2   1.35   0.48   1.00   1.00   2.00   1.00   \n",
       "BMI     float64     0      275  24.12   3.40  21.70  24.00  26.30  20.10   \n",
       "DBP       int64     0       75  76.36  11.00  69.00  76.00  83.00  81.00   \n",
       "FPG     float64     0      361   5.23   0.78   4.70   5.14   5.70   5.80   \n",
       "Chol    float64     1      486   4.86   0.93   4.20   4.79   5.43   4.36   \n",
       "Tri     float64     0      478   1.59   1.26   0.86   1.28   1.94   0.86   \n",
       "HDL     float64     0      188   1.67   1.08   1.13   1.34   1.61   0.90   \n",
       "LDL     float64     0      384   2.98   0.89   2.35   2.82   3.42   2.43   \n",
       "ALT     float64     0      680  26.75  22.28  14.30  20.50  31.05  12.00   \n",
       "CCR     float64     0      700  71.56  16.94  60.00  72.00  82.30  63.80   \n",
       "FFPG    float64     0      479   5.73   1.42   4.90   5.30   6.02   5.40   \n",
       "\n",
       "          2nd  \n",
       "Age     40.00  \n",
       "Gender   1.00  \n",
       "BMI     17.70  \n",
       "DBP     54.00  \n",
       "FPG      4.60  \n",
       "Chol     3.70  \n",
       "Tri      1.02  \n",
       "HDL      1.50  \n",
       "LDL      2.04  \n",
       "ALT      9.20  \n",
       "CCR     70.30  \n",
       "FFPG     4.10  "
      ]
     },
     "execution_count": 1,
     "metadata": {},
     "output_type": "execute_result"
    }
   ],
   "source": [
    "import pandas as pd\n",
    "import numpy as np\n",
    "import warnings\n",
    "warnings.filterwarnings('ignore')\n",
    "\n",
    "url = 'https://raw.githubusercontent.com/Datamanim/datarepo/main/adp/30/p1.csv'\n",
    "df = pd.read_csv(url)\n",
    "\n",
    "def resume(df):\n",
    "    print(df.shape)\n",
    "    tmp = pd.DataFrame()\n",
    "    tmp['dtypes'] = df.dtypes\n",
    "    tmp['isna'] = df.isna().sum()\n",
    "    tmp['nunique'] = df.nunique()\n",
    "    tmp['mean'] = df.mean().round(2)\n",
    "    tmp['std'] = df.std().round(2)\n",
    "    tmp['25%'] = df.quantile(0.25)\n",
    "    tmp['50%'] = df.quantile(0.5)\n",
    "    tmp['70%'] = df.quantile(0.75)\n",
    "    tmp['1st']= df.iloc[0,:]\n",
    "    tmp['2nd']= df.iloc[1,:]\n",
    "    return tmp\n",
    "\n",
    "resume(df)"
   ]
  },
  {
   "cell_type": "code",
   "execution_count": 2,
   "id": "9446464e-5a2a-4343-8212-535032e402ad",
   "metadata": {
    "colab": {
     "base_uri": "https://localhost:8080/",
     "height": 442
    },
    "executionInfo": {
     "elapsed": 419,
     "status": "ok",
     "timestamp": 1710281610685,
     "user": {
      "displayName": "WOOSEOK JEONG",
      "userId": "01703662546986869335"
     },
     "user_tz": -540
    },
    "id": "9446464e-5a2a-4343-8212-535032e402ad",
    "outputId": "84b0024c-7282-4de4-e177-fa1fca7341a8"
   },
   "outputs": [
    {
     "data": {
      "text/plain": [
       "<AxesSubplot: >"
      ]
     },
     "execution_count": 2,
     "metadata": {},
     "output_type": "execute_result"
    },
    {
     "data": {
      "image/png": "[encoded data removed]",
      "text/plain": [
       "<Figure size 640x480 with 1 Axes>"
      ]
     },
     "metadata": {},
     "output_type": "display_data"
    }
   ],
   "source": [
    "df['Gender'].value_counts().plot(kind='bar')"
   ]
  },
  {
   "cell_type": "code",
   "execution_count": 3,
   "id": "d441d08e-4937-41f0-99e5-9bf31bb5b0c5",
   "metadata": {
    "colab": {
     "base_uri": "https://localhost:8080/",
     "height": 466
    },
    "executionInfo": {
     "elapsed": 2664,
     "status": "ok",
     "timestamp": 1710281720019,
     "user": {
      "displayName": "WOOSEOK JEONG",
      "userId": "01703662546986869335"
     },
     "user_tz": -540
    },
    "id": "d441d08e-4937-41f0-99e5-9bf31bb5b0c5",
    "outputId": "96d136a6-309c-42f6-cd27-1eb6ea328467"
   },
   "outputs": [
    {
     "data": {
      "text/plain": [
       "<AxesSubplot: xlabel='Age', ylabel='Density'>"
      ]
     },
     "execution_count": 3,
     "metadata": {},
     "output_type": "execute_result"
    },
    {
     "data": {
      "image/png": "[encoded data removed]",
      "text/plain": [
       "<Figure size 640x480 with 1 Axes>"
      ]
     },
     "metadata": {},
     "output_type": "display_data"
    }
   ],
   "source": [
    "import seaborn as sns\n",
    "sns.kdeplot(data = df, x = 'Age', hue='Gender')"
   ]
  },
  {
   "cell_type": "markdown",
   "id": "440a99af-d82c-4737-a0c5-46c169a4eb12",
   "metadata": {
    "id": "440a99af-d82c-4737-a0c5-46c169a4eb12"
   },
   "source": [
    "- 성별로는 1번이 2번성에 비해 더 많으며, 30대의 데이터가 많은 데이터"
   ]
  },
  {
   "cell_type": "code",
   "execution_count": 4,
   "id": "46a0399b-dfe7-4d65-a2ff-50926ad10315",
   "metadata": {
    "colab": {
     "base_uri": "https://localhost:8080/",
     "height": 447
    },
    "executionInfo": {
     "elapsed": 563,
     "status": "ok",
     "timestamp": 1710281867867,
     "user": {
      "displayName": "WOOSEOK JEONG",
      "userId": "01703662546986869335"
     },
     "user_tz": -540
    },
    "id": "46a0399b-dfe7-4d65-a2ff-50926ad10315",
    "outputId": "c03a2370-022e-47c4-95e2-54293eb96e83"
   },
   "outputs": [
    {
     "data": {
      "text/plain": [
       "<AxesSubplot: ylabel='Density'>"
      ]
     },
     "execution_count": 4,
     "metadata": {},
     "output_type": "execute_result"
    },
    {
     "data": {
      "image/png": "[encoded data removed]",
      "text/plain": [
       "<Figure size 640x480 with 1 Axes>"
      ]
     },
     "metadata": {},
     "output_type": "display_data"
    }
   ],
   "source": [
    "df['DBP'].plot(kind='kde')"
   ]
  },
  {
   "cell_type": "markdown",
   "id": "2e7d24f5-eb37-4881-9462-24363ed94b19",
   "metadata": {
    "id": "2e7d24f5-eb37-4881-9462-24363ed94b19"
   },
   "source": [
    "- 전체 성향은 정규분포의 모양을 띈다"
   ]
  },
  {
   "cell_type": "code",
   "execution_count": null,
   "id": "ac488bd2-4dcf-4673-b158-1a92ab0578cc",
   "metadata": {
    "colab": {
     "base_uri": "https://localhost:8080/",
     "height": 1000,
     "output_embedded_package_id": "1dgTnyFMImF4m-XXhkEhqqYQ00fI8acxN"
    },
    "executionInfo": {
     "elapsed": 140933,
     "status": "ok",
     "timestamp": 1710281866134,
     "user": {
      "displayName": "WOOSEOK JEONG",
      "userId": "01703662546986869335"
     },
     "user_tz": -540
    },
    "id": "ac488bd2-4dcf-4673-b158-1a92ab0578cc",
    "outputId": "bb9bc093-980d-454a-f75d-8c1983363fc6",
    "tags": []
   },
   "outputs": [],
   "source": [
    "import seaborn as sns\n",
    "sns.pairplot(df, hue = 'Gender');"
   ]
  },
  {
   "cell_type": "markdown",
   "id": "4bd74ff9",
   "metadata": {
    "id": "4bd74ff9",
    "tags": []
   },
   "source": [
    "## 1-2 데이터 전처리가 필요하다면 수행하고 이유를 작성하라"
   ]
  },
  {
   "cell_type": "code",
   "execution_count": 6,
   "id": "870c8ab1-2351-4b92-b5e9-9e6f6eba3108",
   "metadata": {
    "colab": {
     "base_uri": "https://localhost:8080/"
    },
    "executionInfo": {
     "elapsed": 534,
     "status": "ok",
     "timestamp": 1710281995302,
     "user": {
      "displayName": "WOOSEOK JEONG",
      "userId": "01703662546986869335"
     },
     "user_tz": -540
    },
    "id": "870c8ab1-2351-4b92-b5e9-9e6f6eba3108",
    "outputId": "e9854d4e-cb12-464b-8281-61a1561e85c3"
   },
   "outputs": [
    {
     "data": {
      "text/plain": [
       "{'Age': 0.9814083197768998,\n",
       " 'Gender': 0.35161515221938183,\n",
       " 'BMI': 0.9760632117127586,\n",
       " 'DBP': 0.9781547757378574,\n",
       " 'FPG': 0.9007669068092029,\n",
       " 'Chol': 0.0,\n",
       " 'Tri': 0.7527306530327679,\n",
       " 'HDL': 0.9507320474087846,\n",
       " 'LDL': 0.9723448756681385,\n",
       " 'ALT': 0.9509644434115733,\n",
       " 'CCR': 0.9920985359051824,\n",
       " 'FFPG': 0.9832674877992098}"
      ]
     },
     "execution_count": 6,
     "metadata": {},
     "output_type": "execute_result"
    }
   ],
   "source": [
    "import numpy as np\n",
    "def outlier_iqr(df, column):\n",
    "    q1, q3 = np.percentile(df[column],0.25),np.percentile(df[column],0.75)\n",
    "    iqr = q3 - q1\n",
    "    c = 1.5 * iqr\n",
    "    low, high = q1 - c, q3 + c\n",
    "    outliers = df[(df[column] < low) | (df[column] > high)]\n",
    "    return outliers\n",
    "{c:len(outlier_iqr(df, c))/len(df) for c in df.columns}"
   ]
  },
  {
   "cell_type": "code",
   "execution_count": null,
   "id": "57f4e376-ee25-421e-8a77-24f219e7db82",
   "metadata": {
    "colab": {
     "base_uri": "https://localhost:8080/",
     "height": 447
    },
    "executionInfo": {
     "elapsed": 556,
     "status": "ok",
     "timestamp": 1710281995856,
     "user": {
      "displayName": "WOOSEOK JEONG",
      "userId": "01703662546986869335"
     },
     "user_tz": -540
    },
    "id": "57f4e376-ee25-421e-8a77-24f219e7db82",
    "outputId": "731ed32b-6552-4772-a2e6-33284687dc23"
   },
   "outputs": [],
   "source": [
    "df.plot(kind='box',subplots=True, layout=(4,4), figsize = (20,20));"
   ]
  },
  {
   "cell_type": "markdown",
   "id": "15539b8c-b872-4cdb-b543-10213c07a088",
   "metadata": {
    "id": "15539b8c-b872-4cdb-b543-10213c07a088"
   },
   "source": [
    "- BoxPlot을 확인하며, 너무큰 이상치를 제거\n",
    "- 이상치가 많으므로 특히 이상치가 많은 DBP, ALT, CCR은 log변환을 적용한다.\n",
    "- Robust Scaling사용하여 이상치의 영향을 적게 받도록 한다.\n",
    "- 나이를 범주형으로 만들어서 일반화 한다.\n",
    "- 1건의 결측치를 제거한다."
   ]
  },
  {
   "cell_type": "markdown",
   "id": "5c77d83c-a998-4020-8d41-4f5b4e30097a",
   "metadata": {
    "id": "5c77d83c-a998-4020-8d41-4f5b4e30097a"
   },
   "source": [
    "- BoxPlot을 확인하며, 너무큰 이상치를 제거"
   ]
  },
  {
   "cell_type": "code",
   "execution_count": 9,
   "id": "61a730a4-2bf4-4899-990d-2ab171e8b776",
   "metadata": {
    "executionInfo": {
     "elapsed": 3,
     "status": "ok",
     "timestamp": 1710281996251,
     "user": {
      "displayName": "WOOSEOK JEONG",
      "userId": "01703662546986869335"
     },
     "user_tz": -540
    },
    "id": "61a730a4-2bf4-4899-990d-2ab171e8b776"
   },
   "outputs": [],
   "source": [
    "to_drop = []\n",
    "[to_drop.append(df[df['ALT']>200].index[i]) for i in range(len(df[df['ALT']>200].index))]\n",
    "[to_drop.append(df[df['CCR']>170].index[i]) for i in range(len(df[df['CCR']>170].index))]\n",
    "[to_drop.append(df[df['FFPG']>17].index[i]) for i in range(len(df[df['FFPG']>17].index))]\n",
    "[to_drop.append(df[df['Tri']>30].index[i]) for i in range(len(df[df['Tri']>30].index))]\n",
    "df_ = df.drop(to_drop, axis=0)"
   ]
  },
  {
   "cell_type": "markdown",
   "id": "62719916-cdb5-4176-abc1-bcb339d38612",
   "metadata": {
    "id": "62719916-cdb5-4176-abc1-bcb339d38612"
   },
   "source": [
    "- 이상치가 많으므로 특히 이상치가 많은 ALT, CCR은 log변환을 적용한다."
   ]
  },
  {
   "cell_type": "code",
   "execution_count": null,
   "id": "f189e004-8445-40c0-b1da-67b8861fb528",
   "metadata": {
    "colab": {
     "base_uri": "https://localhost:8080/",
     "height": 423
    },
    "executionInfo": {
     "elapsed": 376,
     "status": "ok",
     "timestamp": 1710283097680,
     "user": {
      "displayName": "WOOSEOK JEONG",
      "userId": "01703662546986869335"
     },
     "user_tz": -540
    },
    "id": "f189e004-8445-40c0-b1da-67b8861fb528",
    "outputId": "6046a1b8-f87e-4c7f-ef22-42522c0e89b0"
   },
   "outputs": [],
   "source": [
    "cs = ['ALT', 'CCR']\n",
    "for c in cs:\n",
    "    df[c] = np.log(df[c])\n",
    "df"
   ]
  },
  {
   "cell_type": "markdown",
   "id": "icc9v6xr0R43",
   "metadata": {
    "id": "icc9v6xr0R43"
   },
   "source": [
    "- 결측치를 제거"
   ]
  },
  {
   "cell_type": "code",
   "execution_count": null,
   "id": "oMQY_Wxy0SQ9",
   "metadata": {
    "colab": {
     "base_uri": "https://localhost:8080/",
     "height": 443
    },
    "executionInfo": {
     "elapsed": 364,
     "status": "ok",
     "timestamp": 1710283114655,
     "user": {
      "displayName": "WOOSEOK JEONG",
      "userId": "01703662546986869335"
     },
     "user_tz": -540
    },
    "id": "oMQY_Wxy0SQ9",
    "outputId": "6bca16d2-0167-4896-8ecc-c5b53d1e8da3"
   },
   "outputs": [],
   "source": [
    "resume(df)"
   ]
  },
  {
   "cell_type": "code",
   "execution_count": 12,
   "id": "g4zf2CYN0ZP2",
   "metadata": {
    "executionInfo": {
     "elapsed": 348,
     "status": "ok",
     "timestamp": 1710283159194,
     "user": {
      "displayName": "WOOSEOK JEONG",
      "userId": "01703662546986869335"
     },
     "user_tz": -540
    },
    "id": "g4zf2CYN0ZP2"
   },
   "outputs": [],
   "source": [
    "df = df.dropna()"
   ]
  },
  {
   "cell_type": "markdown",
   "id": "a0a4b329-966e-4f2b-8352-639986aa8f4d",
   "metadata": {
    "id": "a0a4b329-966e-4f2b-8352-639986aa8f4d"
   },
   "source": [
    "- Robust Scaling사용하여 이상치의 영향을 적게 받도록 한다."
   ]
  },
  {
   "cell_type": "code",
   "execution_count": null,
   "id": "579e5fa9-6951-48f1-a606-f1c82aa3436c",
   "metadata": {
    "colab": {
     "base_uri": "https://localhost:8080/",
     "height": 423
    },
    "executionInfo": {
     "elapsed": 5,
     "status": "ok",
     "timestamp": 1710283211019,
     "user": {
      "displayName": "WOOSEOK JEONG",
      "userId": "01703662546986869335"
     },
     "user_tz": -540
    },
    "id": "579e5fa9-6951-48f1-a606-f1c82aa3436c",
    "outputId": "bdcc6c13-5402-4395-d77d-54e0ec393954"
   },
   "outputs": [],
   "source": [
    "from sklearn.preprocessing import RobustScaler\n",
    "X = df.drop('DBP', axis =1)\n",
    "y = df['DBP'].values\n",
    "scaler = RobustScaler()\n",
    "X_f = X.columns\n",
    "X_s = scaler.fit_transform(X)\n",
    "X_s = pd.DataFrame(X_s, columns= X.columns)\n",
    "X_s"
   ]
  },
  {
   "cell_type": "markdown",
   "id": "0265da78",
   "metadata": {
    "id": "0265da78",
    "tags": []
   },
   "source": [
    "## 1-3 train test set을 DBP컬럼 기준으로 7:3 비율로 나누고 잘 나뉘었는지 통계적으로 나타내라"
   ]
  },
  {
   "cell_type": "code",
   "execution_count": 14,
   "id": "63631cce-a64c-46f4-9bb4-1c7f5bd414a0",
   "metadata": {
    "colab": {
     "base_uri": "https://localhost:8080/"
    },
    "executionInfo": {
     "elapsed": 2,
     "status": "ok",
     "timestamp": 1710282003887,
     "user": {
      "displayName": "WOOSEOK JEONG",
      "userId": "01703662546986869335"
     },
     "user_tz": -540
    },
    "id": "63631cce-a64c-46f4-9bb4-1c7f5bd414a0",
    "outputId": "cb8d3ab0-f33a-455b-8f22-9e90599c0c09"
   },
   "outputs": [
    {
     "name": "stdout",
     "output_type": "stream",
     "text": [
      "Train set 평균: 76.32\n",
      "Test set 평균: 76.45\n",
      "T-통계량: -0.34\n",
      "P-값: 0.7328\n",
      "평균이 유의미하게 다르지 않습니다 (귀무가설 채택)\n"
     ]
    }
   ],
   "source": [
    "from sklearn.model_selection import train_test_split\n",
    "\n",
    "X_train, X_test, y_train, y_test = train_test_split(X_s, y, test_size =0.3, random_state=42)\n",
    "\n",
    "\n",
    "# train set과 test set의 종속변수 평균 계산\n",
    "train_mean = np.mean(y_train)\n",
    "test_mean = np.mean(y_test)\n",
    "\n",
    "# 결과 출력\n",
    "print(f\"Train set 평균: {train_mean:.2f}\")\n",
    "print(f\"Test set 평균: {test_mean:.2f}\")\n",
    "\n",
    "# t-test를 통해 평균이 유의미하게 다른지 확인\n",
    "from scipy.stats import ttest_ind\n",
    "t_stat, p_value = ttest_ind(y_train, y_test)\n",
    "print(f\"T-통계량: {t_stat:.2f}\")\n",
    "print(f\"P-값: {p_value:.4f}\")\n",
    "\n",
    "# P-값 해석\n",
    "if p_value < 0.05:\n",
    "    print(\"평균이 유의미하게 다릅니다 (귀무가설 기각)\")\n",
    "else:\n",
    "    print(\"평균이 유의미하게 다르지 않습니다 (귀무가설 채택)\")"
   ]
  },
  {
   "cell_type": "code",
   "execution_count": 15,
   "id": "tEjqZ4rHwQT9",
   "metadata": {
    "colab": {
     "base_uri": "https://localhost:8080/",
     "height": 309
    },
    "executionInfo": {
     "elapsed": 1362,
     "status": "ok",
     "timestamp": 1710282375303,
     "user": {
      "displayName": "WOOSEOK JEONG",
      "userId": "01703662546986869335"
     },
     "user_tz": -540
    },
    "id": "tEjqZ4rHwQT9",
    "outputId": "66fb6d8e-b700-4938-961d-d3b4f16b6819"
   },
   "outputs": [
    {
     "data": {
      "image/png": "[encoded data removed]",
      "text/plain": [
       "<Figure size 1000x300 with 2 Axes>"
      ]
     },
     "metadata": {},
     "output_type": "display_data"
    }
   ],
   "source": [
    "import matplotlib.pyplot as plt\n",
    "fig = plt.figure(figsize=(10, 3))\n",
    "ys = [y_train, y_test]\n",
    "\n",
    "for idx, y_ in enumerate(ys):\n",
    "    plt.subplot(1, 2, idx+1)\n",
    "    sns.kdeplot(data=y_)\n",
    "\n",
    "fig.tight_layout(pad=1.0)"
   ]
  },
  {
   "cell_type": "markdown",
   "id": "0b465a8e",
   "metadata": {
    "id": "0b465a8e"
   },
   "source": [
    "## 2-2 2-1 작업 후 데이터가 회귀분석의 기본가정 따르는지 설명"
   ]
  },
  {
   "cell_type": "markdown",
   "id": "NT-c35Hqx_P_",
   "metadata": {
    "id": "NT-c35Hqx_P_"
   },
   "source": [
    "\n",
    "\n",
    "- 선형성: 독립변수와 종속변수 간의 관계가 선형적이어야\n",
    "  > 독립변수의 변화에 따라 종속변수도 일정한 비율로 변화\n",
    "\n",
    "\n",
    "- 독립성: 각각의 관측치는 서로 독립적\n",
    "  > 하나의 관측치가 다른 관측치에 영향을 미치지 않아야\n",
    "\n",
    "- 등분산성:오차항의 분산이 독립변수의 값에 관계없이 일정해야 함\n",
    "  > 잔차 간 일정한 분산\n",
    "\n",
    "\n",
    "- 정규성: 오차항은 정규분포를 따라야 합니다.\n",
    "  > 잔차가 정규분포를 따라야 함\n",
    "\n",
    "- 선형독립성: 독립변수들 간에 다중공선성이 없어야 합니다.\n",
    "  > 독립변수들 간에 강한 선형 관계가 없어야\n",
    "\n",
    "\n",
    "이러한 기본가정을 데이터가 충족하는지 확인하기 위해 회귀분석을 수행한 후, 잔차분석을 통해 가정을 검토할 수 있습니다. 잔차분석을 통해 잔차가 무작위로 분포되어 있는지, 등분산성을 만족하는지, 정규성을 따르는지 등을 확인할 수 있습니다.\n",
    "\n",
    "\n",
    "따라서, 회귀분석의 기본가정을 데이터가 만족하는지 확인하려면 회귀분석을 수행한 후 잔차분석을 통해 각 가정을 검토해야 합니다."
   ]
  },
  {
   "cell_type": "code",
   "execution_count": 16,
   "id": "d34e4123",
   "metadata": {
    "colab": {
     "base_uri": "https://localhost:8080/"
    },
    "executionInfo": {
     "elapsed": 3,
     "status": "ok",
     "timestamp": 1710283229408,
     "user": {
      "displayName": "WOOSEOK JEONG",
      "userId": "01703662546986869335"
     },
     "user_tz": -540
    },
    "id": "d34e4123",
    "outputId": "4bd214a9-7d0d-42ad-c694-8e7234817767"
   },
   "outputs": [
    {
     "name": "stdout",
     "output_type": "stream",
     "text": [
      "Regression Results:\n",
      "                                 OLS Regression Results                                \n",
      "=======================================================================================\n",
      "Dep. Variable:                      y   R-squared (uncentered):                   0.491\n",
      "Model:                            OLS   Adj. R-squared (uncentered):              0.490\n",
      "Method:                 Least Squares   F-statistic:                              376.5\n",
      "Date:                Sun, 17 Mar 2024   Prob (F-statistic):                        0.00\n",
      "Time:                        09:58:21   Log-Likelihood:                         -23346.\n",
      "No. Observations:                4302   AIC:                                  4.671e+04\n",
      "Df Residuals:                    4291   BIC:                                  4.678e+04\n",
      "Df Model:                          11                                                  \n",
      "Covariance Type:            nonrobust                                                  \n",
      "==============================================================================\n",
      "                 coef    std err          t      P>|t|      [0.025      0.975]\n",
      "------------------------------------------------------------------------------\n",
      "Age            3.4892      1.583      2.205      0.028       0.386       6.592\n",
      "Gender        85.6256      1.705     50.233      0.000      82.284      88.967\n",
      "BMI            1.9315      1.370      1.410      0.159      -0.754       4.617\n",
      "FPG           -3.3193      1.283     -2.587      0.010      -5.835      -0.804\n",
      "Chol         -13.5939      1.908     -7.123      0.000     -17.335      -9.853\n",
      "Tri           11.3777      0.819     13.888      0.000       9.772      12.984\n",
      "HDL            3.3898      0.614      5.524      0.000       2.187       4.593\n",
      "LDL            5.7816      2.184      2.647      0.008       1.500      10.063\n",
      "ALT           18.1768      1.293     14.062      0.000      15.643      20.711\n",
      "CCR           14.7125      0.942     15.625      0.000      12.866      16.558\n",
      "FFPG           7.5642      0.778      9.720      0.000       6.039       9.090\n",
      "==============================================================================\n",
      "Omnibus:                      200.147   Durbin-Watson:                   0.989\n",
      "Prob(Omnibus):                  0.000   Jarque-Bera (JB):              238.948\n",
      "Skew:                          -0.507   Prob(JB):                     1.30e-52\n",
      "Kurtosis:                       3.553   Cond. No.                         8.44\n",
      "==============================================================================\n",
      "\n",
      "Notes:\n",
      "[1] R² is computed without centering (uncentered) since the model does not contain a constant.\n",
      "[2] Standard Errors assume that the covariance matrix of the errors is correctly specified.\n"
     ]
    }
   ],
   "source": [
    "import pandas as pd\n",
    "import numpy as np\n",
    "import statsmodels.api as sm\n",
    "import matplotlib.pyplot as plt\n",
    "from scipy.stats import shapiro\n",
    "from statsmodels.stats.diagnostic import het_breuschpagan\n",
    "\n",
    "# Fit the OLS model\n",
    "model = sm.OLS(y, X_s).fit()\n",
    "\n",
    "# Print the regression results\n",
    "print(\"Regression Results:\")\n",
    "print(model.summary())"
   ]
  },
  {
   "cell_type": "code",
   "execution_count": 17,
   "id": "sYVmB22kyT_g",
   "metadata": {
    "colab": {
     "base_uri": "https://localhost:8080/",
     "height": 591
    },
    "executionInfo": {
     "elapsed": 662,
     "status": "ok",
     "timestamp": 1710283440883,
     "user": {
      "displayName": "WOOSEOK JEONG",
      "userId": "01703662546986869335"
     },
     "user_tz": -540
    },
    "id": "sYVmB22kyT_g",
    "outputId": "a69ece51-ceef-447d-db1f-c0f72230a23e"
   },
   "outputs": [
    {
     "data": {
      "image/png": "[encoded data removed]",
      "text/plain": [
       "<Figure size 640x480 with 1 Axes>"
      ]
     },
     "metadata": {},
     "output_type": "display_data"
    },
    {
     "name": "stdout",
     "output_type": "stream",
     "text": [
      "\n",
      "등분산성 검증 결과:\n",
      "LM Statistic: 640.6953936005228\n",
      "LM-Test p-value: 2.737334528177694e-130\n",
      "\n",
      "정규성 검증 결과:\n",
      "Shapiro-Wilk Test Statistic: 0.973143458366394\n",
      "Shapiro-Wilk Test p-value: 1.047381755737016e-27\n"
     ]
    }
   ],
   "source": [
    "# 독립성 검증 (잔차의 자기상관성 검증)\n",
    "residuals = model.resid\n",
    "plt.plot(residuals)\n",
    "plt.title(\"Residuals Plot for Independence Check\")\n",
    "plt.show()\n",
    "\n",
    "# 등분산성 검증\n",
    "import statsmodels.api as sm\n",
    "X = sm.add_constant(X) # 상수항 추가\n",
    "bp_test = het_breuschpagan(y, X)\n",
    "print(\"\\n등분산성 검증 결과:\")\n",
    "print(\"LM Statistic:\", bp_test[0])\n",
    "print(\"LM-Test p-value:\", bp_test[1])\n",
    "\n",
    "# 정규성 검증\n",
    "shapiro_test = shapiro(residuals)\n",
    "print(\"\\n정규성 검증 결과:\")\n",
    "print(\"Shapiro-Wilk Test Statistic:\", shapiro_test[0])\n",
    "print(\"Shapiro-Wilk Test p-value:\", shapiro_test[1])"
   ]
  },
  {
   "cell_type": "code",
   "execution_count": 18,
   "id": "Kn_lKTde2oN6",
   "metadata": {
    "colab": {
     "base_uri": "https://localhost:8080/"
    },
    "executionInfo": {
     "elapsed": 455,
     "status": "ok",
     "timestamp": 1710283771153,
     "user": {
      "displayName": "WOOSEOK JEONG",
      "userId": "01703662546986869335"
     },
     "user_tz": -540
    },
    "id": "Kn_lKTde2oN6",
    "outputId": "890e324c-d717-448a-a3b5-3167ca8cda9d"
   },
   "outputs": [
    {
     "name": "stdout",
     "output_type": "stream",
     "text": [
      "\n",
      "다중공선성 진단 결과:\n",
      "   Feature       VIF\n",
      "0      Age  1.355852\n",
      "1   Gender  1.447906\n",
      "2      BMI  1.452261\n",
      "3      FPG  1.440663\n",
      "4     Chol  2.937704\n",
      "5      Tri  1.371722\n",
      "6      HDL  2.945577\n",
      "7      LDL  4.843097\n",
      "8      ALT  1.412255\n",
      "9      CCR  1.329903\n",
      "10    FFPG  1.513983\n"
     ]
    }
   ],
   "source": [
    "# VIF를 통한 다중공선성 진단 (선형독립성 진단)\n",
    "from statsmodels.stats.outliers_influence import variance_inflation_factor\n",
    "\n",
    "vif_data = pd.DataFrame()\n",
    "vif_data[\"Feature\"] = X_s.columns\n",
    "vif_data[\"VIF\"] = [variance_inflation_factor(X_s.values, i) for i in range(X_s.shape[1])]\n",
    "\n",
    "print(\"\\n다중공선성 진단 결과:\")\n",
    "print(vif_data)"
   ]
  },
  {
   "cell_type": "markdown",
   "id": "XwNqGAvW24Ov",
   "metadata": {
    "id": "XwNqGAvW24Ov"
   },
   "source": [
    "- 다중공선성 진단결과 결과값이 10 이하로, 다중공선성의 문제가 거의 없다고 판단하여 선형독립성을 만족한다"
   ]
  },
  {
   "cell_type": "markdown",
   "id": "a50e03d7",
   "metadata": {
    "id": "a50e03d7"
   },
   "source": [
    "## 3-1 회귀분석 알고리즘 3개를 선택하고 선정이유와 장단점 비교"
   ]
  },
  {
   "cell_type": "markdown",
   "id": "247d95a5-285f-4847-a52a-2e8be81e167e",
   "metadata": {},
   "source": [
    "- 기본모델로는 linearRegression\n",
    "- 비교모델1로는 약한모델을 결합하여 회귀하는 앙상블기법 활용,\n",
    "- 비교모델2로는 부스팅기법을 활용한 XGBRegressor를 적용"
   ]
  },
  {
   "cell_type": "markdown",
   "id": "7c145d8f",
   "metadata": {
    "id": "7c145d8f"
   },
   "source": [
    "## 3-2. 1-3에서 구분한 데이터를 기준으로 3개의 회귀 분석 모델링을 진행하고 평가지표 rmse로 가장 최적화된 알고리즘 선정"
   ]
  },
  {
   "cell_type": "code",
   "execution_count": 19,
   "id": "f9b2e8fc",
   "metadata": {
    "colab": {
     "base_uri": "https://localhost:8080/",
     "height": 425
    },
    "executionInfo": {
     "elapsed": 380,
     "status": "error",
     "timestamp": 1710284528032,
     "user": {
      "displayName": "WOOSEOK JEONG",
      "userId": "01703662546986869335"
     },
     "user_tz": -540
    },
    "id": "f9b2e8fc",
    "outputId": "af3ba34c-ca6e-4a00-c8ba-787ce05ade7a"
   },
   "outputs": [
    {
     "name": "stdout",
     "output_type": "stream",
     "text": [
      "-----------LinearRegression---------\n",
      "LinearRegression시간 : 0.00600\n",
      "RMSE : 9.88606\n",
      "-----------RandomForestRegressor---------\n",
      "RandomForestRegressor시간 : 1.82669\n",
      "RMSE : 10.10393\n",
      "-----------XGBRegressor---------\n",
      "XGBRegressor시간 : 0.08851\n",
      "RMSE : 10.62583\n"
     ]
    }
   ],
   "source": [
    "from sklearn.linear_model import LinearRegression # base model\n",
    "from sklearn.ensemble import RandomForestRegressor # 비교 model1\n",
    "from xgboost import XGBRegressor # 비교 model2\n",
    "from time import time\n",
    "from sklearn.metrics import mean_squared_error\n",
    "import numpy as np\n",
    "\n",
    "lr = LinearRegression()\n",
    "rf = RandomForestRegressor()\n",
    "xgb = XGBRegressor()\n",
    "\n",
    "models_name = ['LinearRegression','RandomForestRegressor','XGBRegressor']\n",
    "models = [lr,rf,xgb]\n",
    "\n",
    "for idx,model in  enumerate(models):\n",
    "    s = time()\n",
    "    model.fit(X_train, y_train)\n",
    "    preds = model.predict(X_test)\n",
    "    e = time()\n",
    "    print(f'-----------{models_name[idx]}---------')\n",
    "    print(f'{models_name[idx]}시간 : {e-s:.5f}')\n",
    "    print(f'RMSE : {np.sqrt(mean_squared_error(y_test, preds)):.5f}')"
   ]
  },
  {
   "cell_type": "markdown",
   "id": "2a9ae2c6",
   "metadata": {
    "id": "2a9ae2c6"
   },
   "source": [
    "## 3-3 3-2에서 가장 성능 좋은 알고리즘을 이용하여 K-Fold 교차검증을 수행하시오."
   ]
  },
  {
   "cell_type": "code",
   "execution_count": 26,
   "id": "59ed346d-dbce-4b77-875f-375d101a024f",
   "metadata": {},
   "outputs": [],
   "source": [
    "X =X.reset_index()"
   ]
  },
  {
   "cell_type": "code",
   "execution_count": 28,
   "id": "6090d6b6-92e5-4e07-84c3-84d01244db48",
   "metadata": {},
   "outputs": [
    {
     "data": {
      "text/html": [
       "<div>\n",
       "<style scoped>\n",
       "    .dataframe tbody tr th:only-of-type {\n",
       "        vertical-align: middle;\n",
       "    }\n",
       "\n",
       "    .dataframe tbody tr th {\n",
       "        vertical-align: top;\n",
       "    }\n",
       "\n",
       "    .dataframe thead th {\n",
       "        text-align: right;\n",
       "    }\n",
       "</style>\n",
       "<table border=\"1\" class=\"dataframe\">\n",
       "  <thead>\n",
       "    <tr style=\"text-align: right;\">\n",
       "      <th></th>\n",
       "      <th>index</th>\n",
       "      <th>const</th>\n",
       "      <th>Age</th>\n",
       "      <th>Gender</th>\n",
       "      <th>BMI</th>\n",
       "      <th>FPG</th>\n",
       "      <th>Chol</th>\n",
       "      <th>Tri</th>\n",
       "      <th>HDL</th>\n",
       "      <th>LDL</th>\n",
       "      <th>ALT</th>\n",
       "      <th>CCR</th>\n",
       "      <th>FFPG</th>\n",
       "    </tr>\n",
       "  </thead>\n",
       "  <tbody>\n",
       "    <tr>\n",
       "      <th>0</th>\n",
       "      <td>0</td>\n",
       "      <td>1.0</td>\n",
       "      <td>26</td>\n",
       "      <td>1</td>\n",
       "      <td>20.1</td>\n",
       "      <td>5.80</td>\n",
       "      <td>4.36</td>\n",
       "      <td>0.86</td>\n",
       "      <td>0.90</td>\n",
       "      <td>2.43</td>\n",
       "      <td>2.484907</td>\n",
       "      <td>4.155753</td>\n",
       "      <td>5.40</td>\n",
       "    </tr>\n",
       "    <tr>\n",
       "      <th>1</th>\n",
       "      <td>1</td>\n",
       "      <td>1.0</td>\n",
       "      <td>40</td>\n",
       "      <td>1</td>\n",
       "      <td>17.7</td>\n",
       "      <td>4.60</td>\n",
       "      <td>3.70</td>\n",
       "      <td>1.02</td>\n",
       "      <td>1.50</td>\n",
       "      <td>2.04</td>\n",
       "      <td>2.219203</td>\n",
       "      <td>4.252772</td>\n",
       "      <td>4.10</td>\n",
       "    </tr>\n",
       "    <tr>\n",
       "      <th>2</th>\n",
       "      <td>2</td>\n",
       "      <td>1.0</td>\n",
       "      <td>40</td>\n",
       "      <td>2</td>\n",
       "      <td>19.7</td>\n",
       "      <td>5.30</td>\n",
       "      <td>5.87</td>\n",
       "      <td>1.29</td>\n",
       "      <td>1.75</td>\n",
       "      <td>3.37</td>\n",
       "      <td>2.312535</td>\n",
       "      <td>4.112512</td>\n",
       "      <td>4.85</td>\n",
       "    </tr>\n",
       "    <tr>\n",
       "      <th>3</th>\n",
       "      <td>3</td>\n",
       "      <td>1.0</td>\n",
       "      <td>43</td>\n",
       "      <td>1</td>\n",
       "      <td>23.1</td>\n",
       "      <td>4.50</td>\n",
       "      <td>4.05</td>\n",
       "      <td>0.74</td>\n",
       "      <td>1.27</td>\n",
       "      <td>2.60</td>\n",
       "      <td>3.597312</td>\n",
       "      <td>4.295924</td>\n",
       "      <td>5.30</td>\n",
       "    </tr>\n",
       "    <tr>\n",
       "      <th>4</th>\n",
       "      <td>4</td>\n",
       "      <td>1.0</td>\n",
       "      <td>36</td>\n",
       "      <td>1</td>\n",
       "      <td>26.5</td>\n",
       "      <td>5.54</td>\n",
       "      <td>6.69</td>\n",
       "      <td>3.49</td>\n",
       "      <td>0.91</td>\n",
       "      <td>3.64</td>\n",
       "      <td>4.238445</td>\n",
       "      <td>4.212128</td>\n",
       "      <td>5.53</td>\n",
       "    </tr>\n",
       "    <tr>\n",
       "      <th>...</th>\n",
       "      <td>...</td>\n",
       "      <td>...</td>\n",
       "      <td>...</td>\n",
       "      <td>...</td>\n",
       "      <td>...</td>\n",
       "      <td>...</td>\n",
       "      <td>...</td>\n",
       "      <td>...</td>\n",
       "      <td>...</td>\n",
       "      <td>...</td>\n",
       "      <td>...</td>\n",
       "      <td>...</td>\n",
       "      <td>...</td>\n",
       "    </tr>\n",
       "    <tr>\n",
       "      <th>4297</th>\n",
       "      <td>4298</td>\n",
       "      <td>1.0</td>\n",
       "      <td>54</td>\n",
       "      <td>1</td>\n",
       "      <td>23.4</td>\n",
       "      <td>6.82</td>\n",
       "      <td>5.00</td>\n",
       "      <td>1.50</td>\n",
       "      <td>1.24</td>\n",
       "      <td>2.98</td>\n",
       "      <td>2.079442</td>\n",
       "      <td>4.343805</td>\n",
       "      <td>6.70</td>\n",
       "    </tr>\n",
       "    <tr>\n",
       "      <th>4298</th>\n",
       "      <td>4299</td>\n",
       "      <td>1.0</td>\n",
       "      <td>50</td>\n",
       "      <td>2</td>\n",
       "      <td>22.3</td>\n",
       "      <td>5.32</td>\n",
       "      <td>4.37</td>\n",
       "      <td>2.09</td>\n",
       "      <td>1.37</td>\n",
       "      <td>2.29</td>\n",
       "      <td>3.054001</td>\n",
       "      <td>3.856510</td>\n",
       "      <td>6.55</td>\n",
       "    </tr>\n",
       "    <tr>\n",
       "      <th>4299</th>\n",
       "      <td>4300</td>\n",
       "      <td>1.0</td>\n",
       "      <td>67</td>\n",
       "      <td>1</td>\n",
       "      <td>24.6</td>\n",
       "      <td>4.85</td>\n",
       "      <td>3.89</td>\n",
       "      <td>1.38</td>\n",
       "      <td>1.14</td>\n",
       "      <td>2.17</td>\n",
       "      <td>2.895912</td>\n",
       "      <td>4.257030</td>\n",
       "      <td>6.80</td>\n",
       "    </tr>\n",
       "    <tr>\n",
       "      <th>4300</th>\n",
       "      <td>4301</td>\n",
       "      <td>1.0</td>\n",
       "      <td>60</td>\n",
       "      <td>2</td>\n",
       "      <td>29.0</td>\n",
       "      <td>6.70</td>\n",
       "      <td>5.91</td>\n",
       "      <td>1.29</td>\n",
       "      <td>1.73</td>\n",
       "      <td>2.85</td>\n",
       "      <td>2.939162</td>\n",
       "      <td>3.916015</td>\n",
       "      <td>7.00</td>\n",
       "    </tr>\n",
       "    <tr>\n",
       "      <th>4301</th>\n",
       "      <td>4302</td>\n",
       "      <td>1.0</td>\n",
       "      <td>37</td>\n",
       "      <td>1</td>\n",
       "      <td>34.3</td>\n",
       "      <td>4.97</td>\n",
       "      <td>5.42</td>\n",
       "      <td>2.66</td>\n",
       "      <td>1.08</td>\n",
       "      <td>2.87</td>\n",
       "      <td>4.394449</td>\n",
       "      <td>4.324133</td>\n",
       "      <td>8.20</td>\n",
       "    </tr>\n",
       "  </tbody>\n",
       "</table>\n",
       "<p>4302 rows × 13 columns</p>\n",
       "</div>"
      ],
      "text/plain": [
       "      index  const  Age  Gender   BMI   FPG  Chol   Tri   HDL   LDL       ALT  \\\n",
       "0         0    1.0   26       1  20.1  5.80  4.36  0.86  0.90  2.43  2.484907   \n",
       "1         1    1.0   40       1  17.7  4.60  3.70  1.02  1.50  2.04  2.219203   \n",
       "2         2    1.0   40       2  19.7  5.30  5.87  1.29  1.75  3.37  2.312535   \n",
       "3         3    1.0   43       1  23.1  4.50  4.05  0.74  1.27  2.60  3.597312   \n",
       "4         4    1.0   36       1  26.5  5.54  6.69  3.49  0.91  3.64  4.238445   \n",
       "...     ...    ...  ...     ...   ...   ...   ...   ...   ...   ...       ...   \n",
       "4297   4298    1.0   54       1  23.4  6.82  5.00  1.50  1.24  2.98  2.079442   \n",
       "4298   4299    1.0   50       2  22.3  5.32  4.37  2.09  1.37  2.29  3.054001   \n",
       "4299   4300    1.0   67       1  24.6  4.85  3.89  1.38  1.14  2.17  2.895912   \n",
       "4300   4301    1.0   60       2  29.0  6.70  5.91  1.29  1.73  2.85  2.939162   \n",
       "4301   4302    1.0   37       1  34.3  4.97  5.42  2.66  1.08  2.87  4.394449   \n",
       "\n",
       "           CCR  FFPG  \n",
       "0     4.155753  5.40  \n",
       "1     4.252772  4.10  \n",
       "2     4.112512  4.85  \n",
       "3     4.295924  5.30  \n",
       "4     4.212128  5.53  \n",
       "...        ...   ...  \n",
       "4297  4.343805  6.70  \n",
       "4298  3.856510  6.55  \n",
       "4299  4.257030  6.80  \n",
       "4300  3.916015  7.00  \n",
       "4301  4.324133  8.20  \n",
       "\n",
       "[4302 rows x 13 columns]"
      ]
     },
     "execution_count": 28,
     "metadata": {},
     "output_type": "execute_result"
    }
   ],
   "source": [
    "X"
   ]
  },
  {
   "cell_type": "code",
   "execution_count": 29,
   "id": "21a57913",
   "metadata": {
    "collapsed": true,
    "id": "21a57913",
    "jupyter": {
     "outputs_hidden": true
    },
    "tags": []
   },
   "outputs": [
    {
     "ename": "KeyError",
     "evalue": "\"None of [Int64Index([   0,    2,    3,    4,    5,    6,    7,    8,    9,   10,\\n            ...\\n            4291, 4292, 4293, 4294, 4295, 4296, 4297, 4299, 4300, 4301],\\n           dtype='int64', length=3441)] are in the [columns]\"",
     "output_type": "error",
     "traceback": [
      "\u001b[1;31m---------------------------------------------------------------------------\u001b[0m",
      "\u001b[1;31mKeyError\u001b[0m                                  Traceback (most recent call last)",
      "Cell \u001b[1;32mIn[29], line 7\u001b[0m\n\u001b[0;32m      4\u001b[0m rmse_scores \u001b[38;5;241m=\u001b[39m []\n\u001b[0;32m      6\u001b[0m \u001b[38;5;28;01mfor\u001b[39;00m train_index, test_index \u001b[38;5;129;01min\u001b[39;00m kf\u001b[38;5;241m.\u001b[39msplit(X):\n\u001b[1;32m----> 7\u001b[0m     X_train, X_test \u001b[38;5;241m=\u001b[39m \u001b[43mX\u001b[49m\u001b[43m[\u001b[49m\u001b[43mtrain_index\u001b[49m\u001b[43m]\u001b[49m, X[test_index]\n\u001b[0;32m      8\u001b[0m     y_train, y_test \u001b[38;5;241m=\u001b[39m y[train_index], y[test_index]\n\u001b[0;32m     10\u001b[0m     model \u001b[38;5;241m=\u001b[39m LinearRegression()\n",
      "File \u001b[1;32m~\\AppData\\Roaming\\Python\\Python39\\site-packages\\pandas\\core\\frame.py:3811\u001b[0m, in \u001b[0;36mDataFrame.__getitem__\u001b[1;34m(self, key)\u001b[0m\n\u001b[0;32m   3809\u001b[0m     \u001b[38;5;28;01mif\u001b[39;00m is_iterator(key):\n\u001b[0;32m   3810\u001b[0m         key \u001b[38;5;241m=\u001b[39m \u001b[38;5;28mlist\u001b[39m(key)\n\u001b[1;32m-> 3811\u001b[0m     indexer \u001b[38;5;241m=\u001b[39m \u001b[38;5;28;43mself\u001b[39;49m\u001b[38;5;241;43m.\u001b[39;49m\u001b[43mcolumns\u001b[49m\u001b[38;5;241;43m.\u001b[39;49m\u001b[43m_get_indexer_strict\u001b[49m\u001b[43m(\u001b[49m\u001b[43mkey\u001b[49m\u001b[43m,\u001b[49m\u001b[43m \u001b[49m\u001b[38;5;124;43m\"\u001b[39;49m\u001b[38;5;124;43mcolumns\u001b[39;49m\u001b[38;5;124;43m\"\u001b[39;49m\u001b[43m)\u001b[49m[\u001b[38;5;241m1\u001b[39m]\n\u001b[0;32m   3813\u001b[0m \u001b[38;5;66;03m# take() does not accept boolean indexers\u001b[39;00m\n\u001b[0;32m   3814\u001b[0m \u001b[38;5;28;01mif\u001b[39;00m \u001b[38;5;28mgetattr\u001b[39m(indexer, \u001b[38;5;124m\"\u001b[39m\u001b[38;5;124mdtype\u001b[39m\u001b[38;5;124m\"\u001b[39m, \u001b[38;5;28;01mNone\u001b[39;00m) \u001b[38;5;241m==\u001b[39m \u001b[38;5;28mbool\u001b[39m:\n",
      "File \u001b[1;32m~\\AppData\\Roaming\\Python\\Python39\\site-packages\\pandas\\core\\indexes\\base.py:6113\u001b[0m, in \u001b[0;36mIndex._get_indexer_strict\u001b[1;34m(self, key, axis_name)\u001b[0m\n\u001b[0;32m   6110\u001b[0m \u001b[38;5;28;01melse\u001b[39;00m:\n\u001b[0;32m   6111\u001b[0m     keyarr, indexer, new_indexer \u001b[38;5;241m=\u001b[39m \u001b[38;5;28mself\u001b[39m\u001b[38;5;241m.\u001b[39m_reindex_non_unique(keyarr)\n\u001b[1;32m-> 6113\u001b[0m \u001b[38;5;28;43mself\u001b[39;49m\u001b[38;5;241;43m.\u001b[39;49m\u001b[43m_raise_if_missing\u001b[49m\u001b[43m(\u001b[49m\u001b[43mkeyarr\u001b[49m\u001b[43m,\u001b[49m\u001b[43m \u001b[49m\u001b[43mindexer\u001b[49m\u001b[43m,\u001b[49m\u001b[43m \u001b[49m\u001b[43maxis_name\u001b[49m\u001b[43m)\u001b[49m\n\u001b[0;32m   6115\u001b[0m keyarr \u001b[38;5;241m=\u001b[39m \u001b[38;5;28mself\u001b[39m\u001b[38;5;241m.\u001b[39mtake(indexer)\n\u001b[0;32m   6116\u001b[0m \u001b[38;5;28;01mif\u001b[39;00m \u001b[38;5;28misinstance\u001b[39m(key, Index):\n\u001b[0;32m   6117\u001b[0m     \u001b[38;5;66;03m# GH 42790 - Preserve name from an Index\u001b[39;00m\n",
      "File \u001b[1;32m~\\AppData\\Roaming\\Python\\Python39\\site-packages\\pandas\\core\\indexes\\base.py:6173\u001b[0m, in \u001b[0;36mIndex._raise_if_missing\u001b[1;34m(self, key, indexer, axis_name)\u001b[0m\n\u001b[0;32m   6171\u001b[0m     \u001b[38;5;28;01mif\u001b[39;00m use_interval_msg:\n\u001b[0;32m   6172\u001b[0m         key \u001b[38;5;241m=\u001b[39m \u001b[38;5;28mlist\u001b[39m(key)\n\u001b[1;32m-> 6173\u001b[0m     \u001b[38;5;28;01mraise\u001b[39;00m \u001b[38;5;167;01mKeyError\u001b[39;00m(\u001b[38;5;124mf\u001b[39m\u001b[38;5;124m\"\u001b[39m\u001b[38;5;124mNone of [\u001b[39m\u001b[38;5;132;01m{\u001b[39;00mkey\u001b[38;5;132;01m}\u001b[39;00m\u001b[38;5;124m] are in the [\u001b[39m\u001b[38;5;132;01m{\u001b[39;00maxis_name\u001b[38;5;132;01m}\u001b[39;00m\u001b[38;5;124m]\u001b[39m\u001b[38;5;124m\"\u001b[39m)\n\u001b[0;32m   6175\u001b[0m not_found \u001b[38;5;241m=\u001b[39m \u001b[38;5;28mlist\u001b[39m(ensure_index(key)[missing_mask\u001b[38;5;241m.\u001b[39mnonzero()[\u001b[38;5;241m0\u001b[39m]]\u001b[38;5;241m.\u001b[39munique())\n\u001b[0;32m   6176\u001b[0m \u001b[38;5;28;01mraise\u001b[39;00m \u001b[38;5;167;01mKeyError\u001b[39;00m(\u001b[38;5;124mf\u001b[39m\u001b[38;5;124m\"\u001b[39m\u001b[38;5;132;01m{\u001b[39;00mnot_found\u001b[38;5;132;01m}\u001b[39;00m\u001b[38;5;124m not in index\u001b[39m\u001b[38;5;124m\"\u001b[39m)\n",
      "\u001b[1;31mKeyError\u001b[0m: \"None of [Int64Index([   0,    2,    3,    4,    5,    6,    7,    8,    9,   10,\\n            ...\\n            4291, 4292, 4293, 4294, 4295, 4296, 4297, 4299, 4300, 4301],\\n           dtype='int64', length=3441)] are in the [columns]\""
     ]
    }
   ],
   "source": [
    "from sklearn.model_selection import KFold\n",
    "# K-Fold Cross Validation\n",
    "kf = KFold(n_splits=5, shuffle=True, random_state=0)\n",
    "rmse_scores = []\n",
    "\n",
    "for train_index, test_index in kf.split(X):\n",
    "    X_train, X_test = X[train_index], X[test_index]\n",
    "    y_train, y_test = y[train_index], y[test_index]\n",
    "    \n",
    "    model = LinearRegression()\n",
    "    model.fit(X_train, y_train)\n",
    "    \n",
    "    y_pred = model.predict(X_test)\n",
    "    \n",
    "    rmse = np.sqrt(mean_squared_error(y_test, y_pred))\n",
    "    rmse_scores.append(rmse)\n",
    "\n",
    "average_rmse = np.mean(rmse_scores)\n",
    "print(\"Average RMSE for K-Fold Cross Validation:\", average_rmse)"
   ]
  },
  {
   "cell_type": "markdown",
   "id": "c684b36a",
   "metadata": {
    "id": "c684b36a"
   },
   "source": [
    "## 데이터 설명\n",
    "- 데이터 출처 : https://taas.koroad.or.kr/api/selectOpenApi.do 후처리\n",
    "- 데이터 링크 : https://raw.githubusercontent.com/Datamanim/datarepo/main/adp/30/p2_v2.csv\n",
    "- 데이터 설명 : 자전거사고 다발지역 개별사고 정보\n",
    "1) 대상사고 : 해당 1년간 발생한 가해 또는 피해차종이 자전거인 교통사고\n",
    "2) 다발지역 선정조건 : 반경 300m 내 대상사고 4건이상 발생지역\n",
    "3) 종속 변수 : 피해자신체상해정도"
   ]
  },
  {
   "cell_type": "code",
   "execution_count": null,
   "id": "798f65dd",
   "metadata": {
    "id": "798f65dd",
    "outputId": "53cab4af-54f6-40bb-df84-598698642fa5",
    "scrolled": true
   },
   "outputs": [
    {
     "name": "stdout",
     "output_type": "stream",
     "text": [
      "(7826, 14)\n"
     ]
    },
    {
     "data": {
      "text/html": [
       "<div>\n",
       "<style scoped>\n",
       "    .dataframe tbody tr th:only-of-type {\n",
       "        vertical-align: middle;\n",
       "    }\n",
       "\n",
       "    .dataframe tbody tr th {\n",
       "        vertical-align: top;\n",
       "    }\n",
       "\n",
       "    .dataframe thead th {\n",
       "        text-align: right;\n",
       "    }\n",
       "</style>\n",
       "<table border=\"1\" class=\"dataframe\">\n",
       "  <thead>\n",
       "    <tr style=\"text-align: right;\">\n",
       "      <th></th>\n",
       "      <th>dtypes</th>\n",
       "      <th>isna</th>\n",
       "      <th>nunique</th>\n",
       "      <th>mean</th>\n",
       "      <th>std</th>\n",
       "      <th>25%</th>\n",
       "      <th>50%</th>\n",
       "      <th>70%</th>\n",
       "      <th>1st</th>\n",
       "      <th>2nd</th>\n",
       "    </tr>\n",
       "  </thead>\n",
       "  <tbody>\n",
       "    <tr>\n",
       "      <th>사고년도</th>\n",
       "      <td>int64</td>\n",
       "      <td>0</td>\n",
       "      <td>6</td>\n",
       "      <td>2017.05</td>\n",
       "      <td>1.75</td>\n",
       "      <td>2015.0</td>\n",
       "      <td>2017.0</td>\n",
       "      <td>2019.0</td>\n",
       "      <td>2015</td>\n",
       "      <td>2019</td>\n",
       "    </tr>\n",
       "    <tr>\n",
       "      <th>가해자성별</th>\n",
       "      <td>object</td>\n",
       "      <td>0</td>\n",
       "      <td>2</td>\n",
       "      <td>NaN</td>\n",
       "      <td>NaN</td>\n",
       "      <td>NaN</td>\n",
       "      <td>NaN</td>\n",
       "      <td>NaN</td>\n",
       "      <td>남</td>\n",
       "      <td>남</td>\n",
       "    </tr>\n",
       "    <tr>\n",
       "      <th>가해자연령</th>\n",
       "      <td>object</td>\n",
       "      <td>0</td>\n",
       "      <td>85</td>\n",
       "      <td>NaN</td>\n",
       "      <td>NaN</td>\n",
       "      <td>NaN</td>\n",
       "      <td>NaN</td>\n",
       "      <td>NaN</td>\n",
       "      <td>46세</td>\n",
       "      <td>53세</td>\n",
       "    </tr>\n",
       "    <tr>\n",
       "      <th>가해차종</th>\n",
       "      <td>object</td>\n",
       "      <td>0</td>\n",
       "      <td>13</td>\n",
       "      <td>NaN</td>\n",
       "      <td>NaN</td>\n",
       "      <td>NaN</td>\n",
       "      <td>NaN</td>\n",
       "      <td>NaN</td>\n",
       "      <td>승합차</td>\n",
       "      <td>승용차</td>\n",
       "    </tr>\n",
       "    <tr>\n",
       "      <th>가해자신체상해정도</th>\n",
       "      <td>object</td>\n",
       "      <td>0</td>\n",
       "      <td>4</td>\n",
       "      <td>NaN</td>\n",
       "      <td>NaN</td>\n",
       "      <td>NaN</td>\n",
       "      <td>NaN</td>\n",
       "      <td>NaN</td>\n",
       "      <td>상해없음</td>\n",
       "      <td>상해없음</td>\n",
       "    </tr>\n",
       "    <tr>\n",
       "      <th>피해자성별</th>\n",
       "      <td>object</td>\n",
       "      <td>0</td>\n",
       "      <td>2</td>\n",
       "      <td>NaN</td>\n",
       "      <td>NaN</td>\n",
       "      <td>NaN</td>\n",
       "      <td>NaN</td>\n",
       "      <td>NaN</td>\n",
       "      <td>여</td>\n",
       "      <td>여</td>\n",
       "    </tr>\n",
       "    <tr>\n",
       "      <th>피해자연령</th>\n",
       "      <td>object</td>\n",
       "      <td>0</td>\n",
       "      <td>96</td>\n",
       "      <td>NaN</td>\n",
       "      <td>NaN</td>\n",
       "      <td>NaN</td>\n",
       "      <td>NaN</td>\n",
       "      <td>NaN</td>\n",
       "      <td>64세</td>\n",
       "      <td>57세</td>\n",
       "    </tr>\n",
       "    <tr>\n",
       "      <th>피해차종</th>\n",
       "      <td>object</td>\n",
       "      <td>0</td>\n",
       "      <td>8</td>\n",
       "      <td>NaN</td>\n",
       "      <td>NaN</td>\n",
       "      <td>NaN</td>\n",
       "      <td>NaN</td>\n",
       "      <td>NaN</td>\n",
       "      <td>자전거</td>\n",
       "      <td>자전거</td>\n",
       "    </tr>\n",
       "    <tr>\n",
       "      <th>피해자신체상해정도</th>\n",
       "      <td>object</td>\n",
       "      <td>0</td>\n",
       "      <td>2</td>\n",
       "      <td>NaN</td>\n",
       "      <td>NaN</td>\n",
       "      <td>NaN</td>\n",
       "      <td>NaN</td>\n",
       "      <td>NaN</td>\n",
       "      <td>경상</td>\n",
       "      <td>경상</td>\n",
       "    </tr>\n",
       "    <tr>\n",
       "      <th>사고유형</th>\n",
       "      <td>object</td>\n",
       "      <td>0</td>\n",
       "      <td>13</td>\n",
       "      <td>NaN</td>\n",
       "      <td>NaN</td>\n",
       "      <td>NaN</td>\n",
       "      <td>NaN</td>\n",
       "      <td>NaN</td>\n",
       "      <td>차대차 - 기타</td>\n",
       "      <td>차대차 - 후진중충돌</td>\n",
       "    </tr>\n",
       "    <tr>\n",
       "      <th>가해자법규위반</th>\n",
       "      <td>object</td>\n",
       "      <td>0</td>\n",
       "      <td>13</td>\n",
       "      <td>NaN</td>\n",
       "      <td>NaN</td>\n",
       "      <td>NaN</td>\n",
       "      <td>NaN</td>\n",
       "      <td>NaN</td>\n",
       "      <td>안전운전불이행</td>\n",
       "      <td>안전운전불이행</td>\n",
       "    </tr>\n",
       "    <tr>\n",
       "      <th>기상상태</th>\n",
       "      <td>object</td>\n",
       "      <td>0</td>\n",
       "      <td>3</td>\n",
       "      <td>NaN</td>\n",
       "      <td>NaN</td>\n",
       "      <td>NaN</td>\n",
       "      <td>NaN</td>\n",
       "      <td>NaN</td>\n",
       "      <td>맑음</td>\n",
       "      <td>맑음</td>\n",
       "    </tr>\n",
       "    <tr>\n",
       "      <th>시각</th>\n",
       "      <td>object</td>\n",
       "      <td>0</td>\n",
       "      <td>6940</td>\n",
       "      <td>NaN</td>\n",
       "      <td>NaN</td>\n",
       "      <td>NaN</td>\n",
       "      <td>NaN</td>\n",
       "      <td>NaN</td>\n",
       "      <td>2015-07-03_10시</td>\n",
       "      <td>2019-10-12_10시</td>\n",
       "    </tr>\n",
       "    <tr>\n",
       "      <th>사건번호</th>\n",
       "      <td>object</td>\n",
       "      <td>0</td>\n",
       "      <td>7826</td>\n",
       "      <td>NaN</td>\n",
       "      <td>NaN</td>\n",
       "      <td>NaN</td>\n",
       "      <td>NaN</td>\n",
       "      <td>NaN</td>\n",
       "      <td>ID_796</td>\n",
       "      <td>ID_6697</td>\n",
       "    </tr>\n",
       "  </tbody>\n",
       "</table>\n",
       "</div>"
      ],
      "text/plain": [
       "           dtypes  isna  nunique     mean   std     25%     50%     70%  \\\n",
       "사고년도        int64     0        6  2017.05  1.75  2015.0  2017.0  2019.0   \n",
       "가해자성별      object     0        2      NaN   NaN     NaN     NaN     NaN   \n",
       "가해자연령      object     0       85      NaN   NaN     NaN     NaN     NaN   \n",
       "가해차종       object     0       13      NaN   NaN     NaN     NaN     NaN   \n",
       "가해자신체상해정도  object     0        4      NaN   NaN     NaN     NaN     NaN   \n",
       "피해자성별      object     0        2      NaN   NaN     NaN     NaN     NaN   \n",
       "피해자연령      object     0       96      NaN   NaN     NaN     NaN     NaN   \n",
       "피해차종       object     0        8      NaN   NaN     NaN     NaN     NaN   \n",
       "피해자신체상해정도  object     0        2      NaN   NaN     NaN     NaN     NaN   \n",
       "사고유형       object     0       13      NaN   NaN     NaN     NaN     NaN   \n",
       "가해자법규위반    object     0       13      NaN   NaN     NaN     NaN     NaN   \n",
       "기상상태       object     0        3      NaN   NaN     NaN     NaN     NaN   \n",
       "시각         object     0     6940      NaN   NaN     NaN     NaN     NaN   \n",
       "사건번호       object     0     7826      NaN   NaN     NaN     NaN     NaN   \n",
       "\n",
       "                      1st             2nd  \n",
       "사고년도                 2015            2019  \n",
       "가해자성별                   남               남  \n",
       "가해자연령                 46세             53세  \n",
       "가해차종                  승합차             승용차  \n",
       "가해자신체상해정도            상해없음            상해없음  \n",
       "피해자성별                   여               여  \n",
       "피해자연령                 64세             57세  \n",
       "피해차종                  자전거             자전거  \n",
       "피해자신체상해정도              경상              경상  \n",
       "사고유형             차대차 - 기타     차대차 - 후진중충돌  \n",
       "가해자법규위반           안전운전불이행         안전운전불이행  \n",
       "기상상태                   맑음              맑음  \n",
       "시각         2015-07-03_10시  2019-10-12_10시  \n",
       "사건번호               ID_796         ID_6697  "
      ]
     },
     "execution_count": 108,
     "metadata": {},
     "output_type": "execute_result"
    }
   ],
   "source": [
    "df = pd.read_csv('https://raw.githubusercontent.com/Datamanim/datarepo/main/adp/30/p2_v2.csv')\n",
    "\n",
    "resume(df)"
   ]
  },
  {
   "cell_type": "markdown",
   "id": "1bc6f69c",
   "metadata": {
    "id": "1bc6f69c"
   },
   "source": [
    "## 4-1 발생시각을 통해 평일인지 주말인지를 구분하는  '주말여부'  범주형 변수 추가하고 데이터 분포를 확인하라. (월 ~ 금은 평일, 토요일과 일요일을 주말)"
   ]
  },
  {
   "cell_type": "code",
   "execution_count": null,
   "id": "5bcbe31a",
   "metadata": {
    "id": "5bcbe31a",
    "outputId": "2876220a-7e9c-45b0-ec37-6cfdd81616b7"
   },
   "outputs": [
    {
     "data": {
      "image/png": "[encoded data removed]",
      "text/plain": [
       "<Figure size 640x480 with 1 Axes>"
      ]
     },
     "metadata": {},
     "output_type": "display_data"
    }
   ],
   "source": [
    "# 그래프를 노트북 안에 그리기 위해 설정\n",
    "%matplotlib inline\n",
    "\n",
    "# 필요한 패키지와 라이브러리를 가져옴\n",
    "import matplotlib as mpl\n",
    "import matplotlib.pyplot as plt\n",
    "import matplotlib.font_manager as fm\n",
    "\n",
    "# 그래프에서 마이너스 폰트 깨지는 문제에 대한 대처\n",
    "mpl.rcParams['axes.unicode_minus'] = False\n",
    "\n",
    "df['주말여부'] = pd.to_datetime([d for d, t in df['시각'].str.split('_')])\n",
    "df['시각'] = pd.Series([t for d, t in df['시각'].str.split('_')]).replace('시',\"\")\n",
    "\n",
    "df['주말여부'] = df['주말여부'].dt.day_name()\n",
    "df['주말여부'] = df['주말여부'].apply(lambda x: \"weekend\" if x in ['Saturday','Sunday'] else \"weekday\")\n",
    "df['주말여부'].value_counts().plot(kind='bar',color='g');"
   ]
  },
  {
   "cell_type": "markdown",
   "id": "d95f4e52",
   "metadata": {
    "id": "d95f4e52"
   },
   "source": [
    "## 4-2 '피해자신체상해정도' 에 따라 각 독립변수들이 유의한지 통계적 검정하라."
   ]
  },
  {
   "cell_type": "markdown",
   "id": "5785c2a2-a9eb-403f-beea-26e8ff951134",
   "metadata": {
    "id": "5785c2a2-a9eb-403f-beea-26e8ff951134"
   },
   "source": [
    "- 나이 및 시각을 수치로 바꾼다"
   ]
  },
  {
   "cell_type": "code",
   "execution_count": null,
   "id": "dda6b0d9-62f3-401c-826e-a298492ced6b",
   "metadata": {
    "id": "dda6b0d9-62f3-401c-826e-a298492ced6b"
   },
   "outputs": [],
   "source": [
    "for c in ['가해자연령','피해자연령']:\n",
    "    df[c] = df[c].apply(lambda x: x.replace(\"세\",\"\"))"
   ]
  },
  {
   "cell_type": "code",
   "execution_count": null,
   "id": "89b97980-b8fb-4553-b8aa-65eac158ab79",
   "metadata": {
    "id": "89b97980-b8fb-4553-b8aa-65eac158ab79"
   },
   "outputs": [],
   "source": [
    "# 결측치 제거\n",
    "df.drop(df[df['가해자연령']=='불명'].index,axis=0, inplace=True)"
   ]
  },
  {
   "cell_type": "code",
   "execution_count": null,
   "id": "712b37d4-679f-4ec6-bfbd-6c6d3e1d0b0b",
   "metadata": {
    "id": "712b37d4-679f-4ec6-bfbd-6c6d3e1d0b0b",
    "outputId": "da0c55f2-6703-413f-a61f-83c5bbba83c1"
   },
   "outputs": [
    {
     "data": {
      "text/plain": [
       "array([10, 20, 15,  6,  8,  7, 21, 19, 17, 22,  0,  4, 13,  9, 18, 12, 11,\n",
       "        1, 14, 16,  2, 23,  5,  3])"
      ]
     },
     "execution_count": 113,
     "metadata": {},
     "output_type": "execute_result"
    }
   ],
   "source": [
    "df['시각'] = df['시각'].apply(lambda x: x.replace(\"시\",\"\")).astype(int)\n",
    "df['시각'].unique()"
   ]
  },
  {
   "cell_type": "code",
   "execution_count": null,
   "id": "a6078c51-f506-43f3-94bd-47466768aaa0",
   "metadata": {
    "id": "a6078c51-f506-43f3-94bd-47466768aaa0"
   },
   "outputs": [],
   "source": [
    "for c in ['가해자연령','피해자연령']:\n",
    "    df[c] = df[c].astype(int)"
   ]
  },
  {
   "cell_type": "markdown",
   "id": "5b1a5f4c-5f2b-46dc-83d6-eef770db1a23",
   "metadata": {
    "id": "5b1a5f4c-5f2b-46dc-83d6-eef770db1a23"
   },
   "source": [
    "- 범주형변수를 레이블인코딩"
   ]
  },
  {
   "cell_type": "code",
   "execution_count": null,
   "id": "0d2591be-f72b-4b11-b2a9-d3470f7eb8bb",
   "metadata": {
    "id": "0d2591be-f72b-4b11-b2a9-d3470f7eb8bb",
    "outputId": "0df9a2e0-3fef-4646-87ac-8544d1541011"
   },
   "outputs": [
    {
     "data": {
      "text/html": [
       "<div>\n",
       "<style scoped>\n",
       "    .dataframe tbody tr th:only-of-type {\n",
       "        vertical-align: middle;\n",
       "    }\n",
       "\n",
       "    .dataframe tbody tr th {\n",
       "        vertical-align: top;\n",
       "    }\n",
       "\n",
       "    .dataframe thead th {\n",
       "        text-align: right;\n",
       "    }\n",
       "</style>\n",
       "<table border=\"1\" class=\"dataframe\">\n",
       "  <thead>\n",
       "    <tr style=\"text-align: right;\">\n",
       "      <th></th>\n",
       "      <th>사고년도</th>\n",
       "      <th>가해자성별</th>\n",
       "      <th>가해자연령</th>\n",
       "      <th>가해차종</th>\n",
       "      <th>가해자신체상해정도</th>\n",
       "      <th>피해자성별</th>\n",
       "      <th>피해자연령</th>\n",
       "      <th>피해차종</th>\n",
       "      <th>피해자신체상해정도</th>\n",
       "      <th>사고유형</th>\n",
       "      <th>가해자법규위반</th>\n",
       "      <th>기상상태</th>\n",
       "      <th>시각</th>\n",
       "      <th>사건번호</th>\n",
       "      <th>주말여부</th>\n",
       "    </tr>\n",
       "  </thead>\n",
       "  <tbody>\n",
       "    <tr>\n",
       "      <th>0</th>\n",
       "      <td>2015</td>\n",
       "      <td>0</td>\n",
       "      <td>46</td>\n",
       "      <td>6</td>\n",
       "      <td>3</td>\n",
       "      <td>1</td>\n",
       "      <td>64</td>\n",
       "      <td>6</td>\n",
       "      <td>0</td>\n",
       "      <td>5</td>\n",
       "      <td>9</td>\n",
       "      <td>0</td>\n",
       "      <td>10</td>\n",
       "      <td>7597</td>\n",
       "      <td>0</td>\n",
       "    </tr>\n",
       "    <tr>\n",
       "      <th>1</th>\n",
       "      <td>2019</td>\n",
       "      <td>0</td>\n",
       "      <td>53</td>\n",
       "      <td>5</td>\n",
       "      <td>3</td>\n",
       "      <td>1</td>\n",
       "      <td>57</td>\n",
       "      <td>6</td>\n",
       "      <td>0</td>\n",
       "      <td>12</td>\n",
       "      <td>9</td>\n",
       "      <td>0</td>\n",
       "      <td>10</td>\n",
       "      <td>6327</td>\n",
       "      <td>1</td>\n",
       "    </tr>\n",
       "    <tr>\n",
       "      <th>2</th>\n",
       "      <td>2015</td>\n",
       "      <td>0</td>\n",
       "      <td>39</td>\n",
       "      <td>5</td>\n",
       "      <td>3</td>\n",
       "      <td>0</td>\n",
       "      <td>63</td>\n",
       "      <td>6</td>\n",
       "      <td>1</td>\n",
       "      <td>5</td>\n",
       "      <td>3</td>\n",
       "      <td>0</td>\n",
       "      <td>20</td>\n",
       "      <td>7734</td>\n",
       "      <td>0</td>\n",
       "    </tr>\n",
       "    <tr>\n",
       "      <th>3</th>\n",
       "      <td>2016</td>\n",
       "      <td>0</td>\n",
       "      <td>12</td>\n",
       "      <td>9</td>\n",
       "      <td>3</td>\n",
       "      <td>0</td>\n",
       "      <td>52</td>\n",
       "      <td>2</td>\n",
       "      <td>0</td>\n",
       "      <td>1</td>\n",
       "      <td>9</td>\n",
       "      <td>0</td>\n",
       "      <td>15</td>\n",
       "      <td>1681</td>\n",
       "      <td>1</td>\n",
       "    </tr>\n",
       "    <tr>\n",
       "      <th>4</th>\n",
       "      <td>2015</td>\n",
       "      <td>0</td>\n",
       "      <td>54</td>\n",
       "      <td>5</td>\n",
       "      <td>3</td>\n",
       "      <td>0</td>\n",
       "      <td>63</td>\n",
       "      <td>6</td>\n",
       "      <td>1</td>\n",
       "      <td>5</td>\n",
       "      <td>9</td>\n",
       "      <td>0</td>\n",
       "      <td>6</td>\n",
       "      <td>7219</td>\n",
       "      <td>0</td>\n",
       "    </tr>\n",
       "    <tr>\n",
       "      <th>...</th>\n",
       "      <td>...</td>\n",
       "      <td>...</td>\n",
       "      <td>...</td>\n",
       "      <td>...</td>\n",
       "      <td>...</td>\n",
       "      <td>...</td>\n",
       "      <td>...</td>\n",
       "      <td>...</td>\n",
       "      <td>...</td>\n",
       "      <td>...</td>\n",
       "      <td>...</td>\n",
       "      <td>...</td>\n",
       "      <td>...</td>\n",
       "      <td>...</td>\n",
       "      <td>...</td>\n",
       "    </tr>\n",
       "    <tr>\n",
       "      <th>7821</th>\n",
       "      <td>2017</td>\n",
       "      <td>1</td>\n",
       "      <td>60</td>\n",
       "      <td>5</td>\n",
       "      <td>3</td>\n",
       "      <td>0</td>\n",
       "      <td>13</td>\n",
       "      <td>6</td>\n",
       "      <td>0</td>\n",
       "      <td>7</td>\n",
       "      <td>7</td>\n",
       "      <td>0</td>\n",
       "      <td>16</td>\n",
       "      <td>3826</td>\n",
       "      <td>0</td>\n",
       "    </tr>\n",
       "    <tr>\n",
       "      <th>7822</th>\n",
       "      <td>2018</td>\n",
       "      <td>1</td>\n",
       "      <td>62</td>\n",
       "      <td>5</td>\n",
       "      <td>3</td>\n",
       "      <td>1</td>\n",
       "      <td>76</td>\n",
       "      <td>6</td>\n",
       "      <td>1</td>\n",
       "      <td>11</td>\n",
       "      <td>3</td>\n",
       "      <td>0</td>\n",
       "      <td>13</td>\n",
       "      <td>5261</td>\n",
       "      <td>0</td>\n",
       "    </tr>\n",
       "    <tr>\n",
       "      <th>7823</th>\n",
       "      <td>2020</td>\n",
       "      <td>0</td>\n",
       "      <td>44</td>\n",
       "      <td>5</td>\n",
       "      <td>3</td>\n",
       "      <td>1</td>\n",
       "      <td>76</td>\n",
       "      <td>6</td>\n",
       "      <td>0</td>\n",
       "      <td>11</td>\n",
       "      <td>3</td>\n",
       "      <td>0</td>\n",
       "      <td>13</td>\n",
       "      <td>7261</td>\n",
       "      <td>0</td>\n",
       "    </tr>\n",
       "    <tr>\n",
       "      <th>7824</th>\n",
       "      <td>2016</td>\n",
       "      <td>0</td>\n",
       "      <td>61</td>\n",
       "      <td>5</td>\n",
       "      <td>3</td>\n",
       "      <td>0</td>\n",
       "      <td>27</td>\n",
       "      <td>6</td>\n",
       "      <td>0</td>\n",
       "      <td>5</td>\n",
       "      <td>3</td>\n",
       "      <td>0</td>\n",
       "      <td>22</td>\n",
       "      <td>1375</td>\n",
       "      <td>0</td>\n",
       "    </tr>\n",
       "    <tr>\n",
       "      <th>7825</th>\n",
       "      <td>2015</td>\n",
       "      <td>0</td>\n",
       "      <td>73</td>\n",
       "      <td>6</td>\n",
       "      <td>3</td>\n",
       "      <td>0</td>\n",
       "      <td>76</td>\n",
       "      <td>6</td>\n",
       "      <td>0</td>\n",
       "      <td>10</td>\n",
       "      <td>3</td>\n",
       "      <td>0</td>\n",
       "      <td>10</td>\n",
       "      <td>975</td>\n",
       "      <td>1</td>\n",
       "    </tr>\n",
       "  </tbody>\n",
       "</table>\n",
       "<p>7823 rows × 15 columns</p>\n",
       "</div>"
      ],
      "text/plain": [
       "      사고년도  가해자성별  가해자연령  가해차종  가해자신체상해정도  피해자성별  피해자연령  피해차종  피해자신체상해정도  \\\n",
       "0     2015      0     46     6          3      1     64     6          0   \n",
       "1     2019      0     53     5          3      1     57     6          0   \n",
       "2     2015      0     39     5          3      0     63     6          1   \n",
       "3     2016      0     12     9          3      0     52     2          0   \n",
       "4     2015      0     54     5          3      0     63     6          1   \n",
       "...    ...    ...    ...   ...        ...    ...    ...   ...        ...   \n",
       "7821  2017      1     60     5          3      0     13     6          0   \n",
       "7822  2018      1     62     5          3      1     76     6          1   \n",
       "7823  2020      0     44     5          3      1     76     6          0   \n",
       "7824  2016      0     61     5          3      0     27     6          0   \n",
       "7825  2015      0     73     6          3      0     76     6          0   \n",
       "\n",
       "      사고유형  가해자법규위반  기상상태  시각  사건번호  주말여부  \n",
       "0        5        9     0  10  7597     0  \n",
       "1       12        9     0  10  6327     1  \n",
       "2        5        3     0  20  7734     0  \n",
       "3        1        9     0  15  1681     1  \n",
       "4        5        9     0   6  7219     0  \n",
       "...    ...      ...   ...  ..   ...   ...  \n",
       "7821     7        7     0  16  3826     0  \n",
       "7822    11        3     0  13  5261     0  \n",
       "7823    11        3     0  13  7261     0  \n",
       "7824     5        3     0  22  1375     0  \n",
       "7825    10        3     0  10   975     1  \n",
       "\n",
       "[7823 rows x 15 columns]"
      ]
     },
     "execution_count": 115,
     "metadata": {},
     "output_type": "execute_result"
    }
   ],
   "source": [
    "from sklearn.compose import ColumnTransformer\n",
    "from sklearn.preprocessing import LabelEncoder\n",
    "\n",
    "# 범주형 변수 자동 선택\n",
    "cat_cols = df.select_dtypes(include=['object']).columns\n",
    "\n",
    "# 레이블 인코딩 수행\n",
    "led = {}\n",
    "for col in cat_cols:\n",
    "    le = LabelEncoder()\n",
    "    df[col] = le.fit_transform(df[col])\n",
    "    led[col] = le\n",
    "\n",
    "# 결과 출력\n",
    "df"
   ]
  },
  {
   "cell_type": "code",
   "execution_count": null,
   "id": "8f00704e",
   "metadata": {
    "id": "8f00704e",
    "outputId": "3d5b26fd-12d1-4b1e-e14f-24870d0a8973"
   },
   "outputs": [
    {
     "data": {
      "text/html": [
       "<table class=\"simpletable\">\n",
       "<caption>OLS Regression Results</caption>\n",
       "<tr>\n",
       "  <th>Dep. Variable:</th>        <td>피해자신체상해정도</td>    <th>  R-squared (uncentered):</th>      <td>   0.435</td> \n",
       "</tr>\n",
       "<tr>\n",
       "  <th>Model:</th>                   <td>OLS</td>       <th>  Adj. R-squared (uncentered):</th> <td>   0.434</td> \n",
       "</tr>\n",
       "<tr>\n",
       "  <th>Method:</th>             <td>Least Squares</td>  <th>  F-statistic:       </th>          <td>   428.8</td> \n",
       "</tr>\n",
       "<tr>\n",
       "  <th>Date:</th>             <td>Tue, 12 Mar 2024</td> <th>  Prob (F-statistic):</th>           <td>  0.00</td>  \n",
       "</tr>\n",
       "<tr>\n",
       "  <th>Time:</th>                 <td>22:09:41</td>     <th>  Log-Likelihood:    </th>          <td> -5305.2</td> \n",
       "</tr>\n",
       "<tr>\n",
       "  <th>No. Observations:</th>      <td>  7823</td>      <th>  AIC:               </th>          <td>1.064e+04</td>\n",
       "</tr>\n",
       "<tr>\n",
       "  <th>Df Residuals:</th>          <td>  7809</td>      <th>  BIC:               </th>          <td>1.074e+04</td>\n",
       "</tr>\n",
       "<tr>\n",
       "  <th>Df Model:</th>              <td>    14</td>      <th>                     </th>              <td> </td>    \n",
       "</tr>\n",
       "<tr>\n",
       "  <th>Covariance Type:</th>      <td>nonrobust</td>    <th>                     </th>              <td> </td>    \n",
       "</tr>\n",
       "</table>\n",
       "<table class=\"simpletable\">\n",
       "<tr>\n",
       "      <td></td>         <th>coef</th>     <th>std err</th>      <th>t</th>      <th>P>|t|</th>  <th>[0.025</th>    <th>0.975]</th>  \n",
       "</tr>\n",
       "<tr>\n",
       "  <th>사고년도</th>      <td> 5.733e-05</td> <td> 2.92e-05</td> <td>    1.963</td> <td> 0.050</td> <td> 9.19e-08</td> <td>    0.000</td>\n",
       "</tr>\n",
       "<tr>\n",
       "  <th>가해자성별</th>     <td>   -0.0163</td> <td>    0.013</td> <td>   -1.238</td> <td> 0.216</td> <td>   -0.042</td> <td>    0.010</td>\n",
       "</tr>\n",
       "<tr>\n",
       "  <th>가해자연령</th>     <td>   -0.0008</td> <td>    0.000</td> <td>   -2.262</td> <td> 0.024</td> <td>   -0.001</td> <td>   -0.000</td>\n",
       "</tr>\n",
       "<tr>\n",
       "  <th>가해차종</th>      <td>   -0.0005</td> <td>    0.003</td> <td>   -0.182</td> <td> 0.856</td> <td>   -0.006</td> <td>    0.005</td>\n",
       "</tr>\n",
       "<tr>\n",
       "  <th>가해자신체상해정도</th> <td>    0.0111</td> <td>    0.010</td> <td>    1.155</td> <td> 0.248</td> <td>   -0.008</td> <td>    0.030</td>\n",
       "</tr>\n",
       "<tr>\n",
       "  <th>피해자성별</th>     <td>    0.0533</td> <td>    0.012</td> <td>    4.403</td> <td> 0.000</td> <td>    0.030</td> <td>    0.077</td>\n",
       "</tr>\n",
       "<tr>\n",
       "  <th>피해자연령</th>     <td>    0.0046</td> <td>    0.000</td> <td>   18.222</td> <td> 0.000</td> <td>    0.004</td> <td>    0.005</td>\n",
       "</tr>\n",
       "<tr>\n",
       "  <th>피해차종</th>      <td>    0.0195</td> <td>    0.006</td> <td>    3.216</td> <td> 0.001</td> <td>    0.008</td> <td>    0.031</td>\n",
       "</tr>\n",
       "<tr>\n",
       "  <th>사고유형</th>      <td>    0.0036</td> <td>    0.002</td> <td>    1.729</td> <td> 0.084</td> <td>   -0.000</td> <td>    0.008</td>\n",
       "</tr>\n",
       "<tr>\n",
       "  <th>가해자법규위반</th>   <td>    0.0013</td> <td>    0.002</td> <td>    0.565</td> <td> 0.572</td> <td>   -0.003</td> <td>    0.006</td>\n",
       "</tr>\n",
       "<tr>\n",
       "  <th>기상상태</th>      <td>    0.0136</td> <td>    0.015</td> <td>    0.909</td> <td> 0.363</td> <td>   -0.016</td> <td>    0.043</td>\n",
       "</tr>\n",
       "<tr>\n",
       "  <th>시각</th>        <td>   -0.0042</td> <td>    0.001</td> <td>   -4.061</td> <td> 0.000</td> <td>   -0.006</td> <td>   -0.002</td>\n",
       "</tr>\n",
       "<tr>\n",
       "  <th>사건번호</th>      <td>-7.582e-06</td> <td> 2.42e-06</td> <td>   -3.138</td> <td> 0.002</td> <td>-1.23e-05</td> <td>-2.85e-06</td>\n",
       "</tr>\n",
       "<tr>\n",
       "  <th>주말여부</th>      <td>    0.0129</td> <td>    0.013</td> <td>    1.012</td> <td> 0.311</td> <td>   -0.012</td> <td>    0.038</td>\n",
       "</tr>\n",
       "</table>\n",
       "<table class=\"simpletable\">\n",
       "<tr>\n",
       "  <th>Omnibus:</th>       <td>36597.067</td> <th>  Durbin-Watson:     </th> <td>   1.989</td> \n",
       "</tr>\n",
       "<tr>\n",
       "  <th>Prob(Omnibus):</th>  <td> 0.000</td>   <th>  Jarque-Bera (JB):  </th> <td>1051.882</td> \n",
       "</tr>\n",
       "<tr>\n",
       "  <th>Skew:</th>           <td> 0.360</td>   <th>  Prob(JB):          </th> <td>3.86e-229</td>\n",
       "</tr>\n",
       "<tr>\n",
       "  <th>Kurtosis:</th>       <td> 1.354</td>   <th>  Cond. No.          </th> <td>1.35e+04</td> \n",
       "</tr>\n",
       "</table><br/><br/>Notes:<br/>[1] R² is computed without centering (uncentered) since the model does not contain a constant.<br/>[2] Standard Errors assume that the covariance matrix of the errors is correctly specified.<br/>[3] The condition number is large, 1.35e+04. This might indicate that there are<br/>strong multicollinearity or other numerical problems."
      ],
      "text/plain": [
       "<class 'statsmodels.iolib.summary.Summary'>\n",
       "\"\"\"\n",
       "                                 OLS Regression Results                                \n",
       "=======================================================================================\n",
       "Dep. Variable:              피해자신체상해정도   R-squared (uncentered):                   0.435\n",
       "Model:                            OLS   Adj. R-squared (uncentered):              0.434\n",
       "Method:                 Least Squares   F-statistic:                              428.8\n",
       "Date:                Tue, 12 Mar 2024   Prob (F-statistic):                        0.00\n",
       "Time:                        22:09:41   Log-Likelihood:                         -5305.2\n",
       "No. Observations:                7823   AIC:                                  1.064e+04\n",
       "Df Residuals:                    7809   BIC:                                  1.074e+04\n",
       "Df Model:                          14                                                  \n",
       "Covariance Type:            nonrobust                                                  \n",
       "==============================================================================\n",
       "                 coef    std err          t      P>|t|      [0.025      0.975]\n",
       "------------------------------------------------------------------------------\n",
       "사고년도        5.733e-05   2.92e-05      1.963      0.050    9.19e-08       0.000\n",
       "가해자성별         -0.0163      0.013     -1.238      0.216      -0.042       0.010\n",
       "가해자연령         -0.0008      0.000     -2.262      0.024      -0.001      -0.000\n",
       "가해차종          -0.0005      0.003     -0.182      0.856      -0.006       0.005\n",
       "가해자신체상해정도      0.0111      0.010      1.155      0.248      -0.008       0.030\n",
       "피해자성별          0.0533      0.012      4.403      0.000       0.030       0.077\n",
       "피해자연령          0.0046      0.000     18.222      0.000       0.004       0.005\n",
       "피해차종           0.0195      0.006      3.216      0.001       0.008       0.031\n",
       "사고유형           0.0036      0.002      1.729      0.084      -0.000       0.008\n",
       "가해자법규위반        0.0013      0.002      0.565      0.572      -0.003       0.006\n",
       "기상상태           0.0136      0.015      0.909      0.363      -0.016       0.043\n",
       "시각            -0.0042      0.001     -4.061      0.000      -0.006      -0.002\n",
       "사건번호       -7.582e-06   2.42e-06     -3.138      0.002   -1.23e-05   -2.85e-06\n",
       "주말여부           0.0129      0.013      1.012      0.311      -0.012       0.038\n",
       "==============================================================================\n",
       "Omnibus:                    36597.067   Durbin-Watson:                   1.989\n",
       "Prob(Omnibus):                  0.000   Jarque-Bera (JB):             1051.882\n",
       "Skew:                           0.360   Prob(JB):                    3.86e-229\n",
       "Kurtosis:                       1.354   Cond. No.                     1.35e+04\n",
       "==============================================================================\n",
       "\n",
       "Notes:\n",
       "[1] R² is computed without centering (uncentered) since the model does not contain a constant.\n",
       "[2] Standard Errors assume that the covariance matrix of the errors is correctly specified.\n",
       "[3] The condition number is large, 1.35e+04. This might indicate that there are\n",
       "strong multicollinearity or other numerical problems.\n",
       "\"\"\""
      ]
     },
     "execution_count": 135,
     "metadata": {},
     "output_type": "execute_result"
    }
   ],
   "source": [
    "import statsmodels.api as sm\n",
    "from sklearn.preprocessing import StandardScaler\n",
    "scaler = StandardScaler()\n",
    "\n",
    "# 회귀 모델 적합\n",
    "X = df.drop('피해자신체상해정도', axis=1)\n",
    "# X = sm.add_constant(X)  # 상수항 추가\n",
    "\n",
    "\n",
    "y = df['피해자신체상해정도']\n",
    "model = sm.OLS(y, X).fit()\n",
    "\n",
    "# 결과 출력\n",
    "model.summary()\n",
    "\n",
    "## R스타일로 구하는 방법도 있음\n",
    "# cols = ['사고년도', '가해자성별', '가해자연령', '가해차종', '가해자신체상해정도', '피해자성별', '피해자연령', '피해차종', '사고유형', '가해자법규위반', '기상상태', '주말여부','시각']\n",
    "# import statsmodels.formula.api as sm\n",
    "# model = sm.ols(f'피해자신체상해정도~{\"+\".join(cols)}',data = df).fit()\n",
    "# model.summary()"
   ]
  },
  {
   "cell_type": "markdown",
   "id": "1953b23e-e340-46f8-a970-c3b92c9caeb1",
   "metadata": {
    "id": "1953b23e-e340-46f8-a970-c3b92c9caeb1"
   },
   "source": [
    "- 사고년도, 가해재연령, 피해자성별, 피해자연령, 피해차종, 시각이 p-value가 0.05이하로 통계적으로 유의하다 할수 있다"
   ]
  },
  {
   "cell_type": "markdown",
   "id": "ced79c7b",
   "metadata": {
    "id": "ced79c7b"
   },
   "source": [
    "## 4-3 4-2 에서 유의한 변수들만을 가지고 '피해자신체상해정도'를 기준으로 SMOTE 오버샘플링을 수행하고 샘플링 데이터와 기존데이터를 합친 전체 데이터에 대해 범주형변수는 변수별 빈도를 나타내고 연속형이면 평균을 나타내시오"
   ]
  },
  {
   "cell_type": "code",
   "execution_count": null,
   "id": "0b6b2579-b4e0-403d-b395-5474f002f657",
   "metadata": {
    "id": "0b6b2579-b4e0-403d-b395-5474f002f657",
    "outputId": "bae66bcb-47bd-4dc3-975d-e233638553fb"
   },
   "outputs": [
    {
     "data": {
      "text/html": [
       "<div>\n",
       "<style scoped>\n",
       "    .dataframe tbody tr th:only-of-type {\n",
       "        vertical-align: middle;\n",
       "    }\n",
       "\n",
       "    .dataframe tbody tr th {\n",
       "        vertical-align: top;\n",
       "    }\n",
       "\n",
       "    .dataframe thead th {\n",
       "        text-align: right;\n",
       "    }\n",
       "</style>\n",
       "<table border=\"1\" class=\"dataframe\">\n",
       "  <thead>\n",
       "    <tr style=\"text-align: right;\">\n",
       "      <th></th>\n",
       "      <th>사고년도</th>\n",
       "      <th>가해자연령</th>\n",
       "      <th>피해자성별</th>\n",
       "      <th>피해자연령</th>\n",
       "      <th>피해차종</th>\n",
       "      <th>시각</th>\n",
       "    </tr>\n",
       "  </thead>\n",
       "  <tbody>\n",
       "    <tr>\n",
       "      <th>0</th>\n",
       "      <td>2015</td>\n",
       "      <td>46</td>\n",
       "      <td>1</td>\n",
       "      <td>64</td>\n",
       "      <td>6</td>\n",
       "      <td>10</td>\n",
       "    </tr>\n",
       "    <tr>\n",
       "      <th>1</th>\n",
       "      <td>2019</td>\n",
       "      <td>53</td>\n",
       "      <td>1</td>\n",
       "      <td>57</td>\n",
       "      <td>6</td>\n",
       "      <td>10</td>\n",
       "    </tr>\n",
       "    <tr>\n",
       "      <th>2</th>\n",
       "      <td>2015</td>\n",
       "      <td>39</td>\n",
       "      <td>0</td>\n",
       "      <td>63</td>\n",
       "      <td>6</td>\n",
       "      <td>20</td>\n",
       "    </tr>\n",
       "    <tr>\n",
       "      <th>3</th>\n",
       "      <td>2016</td>\n",
       "      <td>12</td>\n",
       "      <td>0</td>\n",
       "      <td>52</td>\n",
       "      <td>2</td>\n",
       "      <td>15</td>\n",
       "    </tr>\n",
       "    <tr>\n",
       "      <th>4</th>\n",
       "      <td>2015</td>\n",
       "      <td>54</td>\n",
       "      <td>0</td>\n",
       "      <td>63</td>\n",
       "      <td>6</td>\n",
       "      <td>6</td>\n",
       "    </tr>\n",
       "    <tr>\n",
       "      <th>...</th>\n",
       "      <td>...</td>\n",
       "      <td>...</td>\n",
       "      <td>...</td>\n",
       "      <td>...</td>\n",
       "      <td>...</td>\n",
       "      <td>...</td>\n",
       "    </tr>\n",
       "    <tr>\n",
       "      <th>9351</th>\n",
       "      <td>2015</td>\n",
       "      <td>30</td>\n",
       "      <td>0</td>\n",
       "      <td>23</td>\n",
       "      <td>6</td>\n",
       "      <td>9</td>\n",
       "    </tr>\n",
       "    <tr>\n",
       "      <th>9352</th>\n",
       "      <td>2015</td>\n",
       "      <td>32</td>\n",
       "      <td>0</td>\n",
       "      <td>15</td>\n",
       "      <td>6</td>\n",
       "      <td>19</td>\n",
       "    </tr>\n",
       "    <tr>\n",
       "      <th>9353</th>\n",
       "      <td>2019</td>\n",
       "      <td>37</td>\n",
       "      <td>0</td>\n",
       "      <td>69</td>\n",
       "      <td>6</td>\n",
       "      <td>15</td>\n",
       "    </tr>\n",
       "    <tr>\n",
       "      <th>9354</th>\n",
       "      <td>2019</td>\n",
       "      <td>51</td>\n",
       "      <td>0</td>\n",
       "      <td>13</td>\n",
       "      <td>6</td>\n",
       "      <td>16</td>\n",
       "    </tr>\n",
       "    <tr>\n",
       "      <th>9355</th>\n",
       "      <td>2019</td>\n",
       "      <td>75</td>\n",
       "      <td>0</td>\n",
       "      <td>45</td>\n",
       "      <td>6</td>\n",
       "      <td>6</td>\n",
       "    </tr>\n",
       "  </tbody>\n",
       "</table>\n",
       "<p>9356 rows × 6 columns</p>\n",
       "</div>"
      ],
      "text/plain": [
       "      사고년도  가해자연령  피해자성별  피해자연령  피해차종  시각\n",
       "0     2015     46      1     64     6  10\n",
       "1     2019     53      1     57     6  10\n",
       "2     2015     39      0     63     6  20\n",
       "3     2016     12      0     52     2  15\n",
       "4     2015     54      0     63     6   6\n",
       "...    ...    ...    ...    ...   ...  ..\n",
       "9351  2015     30      0     23     6   9\n",
       "9352  2015     32      0     15     6  19\n",
       "9353  2019     37      0     69     6  15\n",
       "9354  2019     51      0     13     6  16\n",
       "9355  2019     75      0     45     6   6\n",
       "\n",
       "[9356 rows x 6 columns]"
      ]
     },
     "execution_count": 144,
     "metadata": {},
     "output_type": "execute_result"
    }
   ],
   "source": [
    "X_resampled"
   ]
  },
  {
   "cell_type": "code",
   "execution_count": null,
   "id": "f1f736af",
   "metadata": {
    "id": "f1f736af",
    "outputId": "1eec5238-1dc1-44f9-a29a-1e5e13628663"
   },
   "outputs": [
    {
     "data": {
      "text/html": [
       "<div>\n",
       "<style scoped>\n",
       "    .dataframe tbody tr th:only-of-type {\n",
       "        vertical-align: middle;\n",
       "    }\n",
       "\n",
       "    .dataframe tbody tr th {\n",
       "        vertical-align: top;\n",
       "    }\n",
       "\n",
       "    .dataframe thead th {\n",
       "        text-align: right;\n",
       "    }\n",
       "</style>\n",
       "<table border=\"1\" class=\"dataframe\">\n",
       "  <thead>\n",
       "    <tr style=\"text-align: right;\">\n",
       "      <th></th>\n",
       "      <th>사고년도</th>\n",
       "      <th>가해자연령</th>\n",
       "      <th>피해자성별</th>\n",
       "      <th>피해자연령</th>\n",
       "      <th>피해차종</th>\n",
       "      <th>시각</th>\n",
       "      <th>피해자신체상해정도</th>\n",
       "    </tr>\n",
       "  </thead>\n",
       "  <tbody>\n",
       "    <tr>\n",
       "      <th>0</th>\n",
       "      <td>2015</td>\n",
       "      <td>46</td>\n",
       "      <td>1</td>\n",
       "      <td>64</td>\n",
       "      <td>6</td>\n",
       "      <td>10</td>\n",
       "      <td>0</td>\n",
       "    </tr>\n",
       "    <tr>\n",
       "      <th>1</th>\n",
       "      <td>2019</td>\n",
       "      <td>53</td>\n",
       "      <td>1</td>\n",
       "      <td>57</td>\n",
       "      <td>6</td>\n",
       "      <td>10</td>\n",
       "      <td>0</td>\n",
       "    </tr>\n",
       "    <tr>\n",
       "      <th>2</th>\n",
       "      <td>2015</td>\n",
       "      <td>39</td>\n",
       "      <td>0</td>\n",
       "      <td>63</td>\n",
       "      <td>6</td>\n",
       "      <td>20</td>\n",
       "      <td>1</td>\n",
       "    </tr>\n",
       "    <tr>\n",
       "      <th>3</th>\n",
       "      <td>2016</td>\n",
       "      <td>12</td>\n",
       "      <td>0</td>\n",
       "      <td>52</td>\n",
       "      <td>2</td>\n",
       "      <td>15</td>\n",
       "      <td>0</td>\n",
       "    </tr>\n",
       "    <tr>\n",
       "      <th>4</th>\n",
       "      <td>2015</td>\n",
       "      <td>54</td>\n",
       "      <td>0</td>\n",
       "      <td>63</td>\n",
       "      <td>6</td>\n",
       "      <td>6</td>\n",
       "      <td>1</td>\n",
       "    </tr>\n",
       "    <tr>\n",
       "      <th>...</th>\n",
       "      <td>...</td>\n",
       "      <td>...</td>\n",
       "      <td>...</td>\n",
       "      <td>...</td>\n",
       "      <td>...</td>\n",
       "      <td>...</td>\n",
       "      <td>...</td>\n",
       "    </tr>\n",
       "    <tr>\n",
       "      <th>9351</th>\n",
       "      <td>2015</td>\n",
       "      <td>31</td>\n",
       "      <td>0</td>\n",
       "      <td>24</td>\n",
       "      <td>6</td>\n",
       "      <td>11</td>\n",
       "      <td>1</td>\n",
       "    </tr>\n",
       "    <tr>\n",
       "      <th>9352</th>\n",
       "      <td>2015</td>\n",
       "      <td>57</td>\n",
       "      <td>0</td>\n",
       "      <td>52</td>\n",
       "      <td>6</td>\n",
       "      <td>6</td>\n",
       "      <td>1</td>\n",
       "    </tr>\n",
       "    <tr>\n",
       "      <th>9353</th>\n",
       "      <td>2016</td>\n",
       "      <td>28</td>\n",
       "      <td>0</td>\n",
       "      <td>27</td>\n",
       "      <td>6</td>\n",
       "      <td>18</td>\n",
       "      <td>1</td>\n",
       "    </tr>\n",
       "    <tr>\n",
       "      <th>9354</th>\n",
       "      <td>2017</td>\n",
       "      <td>23</td>\n",
       "      <td>0</td>\n",
       "      <td>57</td>\n",
       "      <td>6</td>\n",
       "      <td>21</td>\n",
       "      <td>1</td>\n",
       "    </tr>\n",
       "    <tr>\n",
       "      <th>9355</th>\n",
       "      <td>2017</td>\n",
       "      <td>56</td>\n",
       "      <td>1</td>\n",
       "      <td>64</td>\n",
       "      <td>6</td>\n",
       "      <td>12</td>\n",
       "      <td>1</td>\n",
       "    </tr>\n",
       "  </tbody>\n",
       "</table>\n",
       "<p>9356 rows × 7 columns</p>\n",
       "</div>"
      ],
      "text/plain": [
       "      사고년도  가해자연령  피해자성별  피해자연령  피해차종  시각  피해자신체상해정도\n",
       "0     2015     46      1     64     6  10          0\n",
       "1     2019     53      1     57     6  10          0\n",
       "2     2015     39      0     63     6  20          1\n",
       "3     2016     12      0     52     2  15          0\n",
       "4     2015     54      0     63     6   6          1\n",
       "...    ...    ...    ...    ...   ...  ..        ...\n",
       "9351  2015     31      0     24     6  11          1\n",
       "9352  2015     57      0     52     6   6          1\n",
       "9353  2016     28      0     27     6  18          1\n",
       "9354  2017     23      0     57     6  21          1\n",
       "9355  2017     56      1     64     6  12          1\n",
       "\n",
       "[9356 rows x 7 columns]"
      ]
     },
     "execution_count": 147,
     "metadata": {},
     "output_type": "execute_result"
    }
   ],
   "source": [
    "from imblearn.over_sampling import SMOTE\n",
    "import pandas as pd\n",
    "cols = ['사고년도', '가해자연령', '피해자성별', '피해자연령', '피해차종', '시각']\n",
    "\n",
    "X = df[cols]\n",
    "y = df['피해자신체상해정도']\n",
    "\n",
    "# SMOTE 오버샘플링 적용\n",
    "smote = SMOTE()\n",
    "X_resampled, y_resampled = smote.fit_resample(X, y)\n",
    "\n",
    "# 오버샘플링 결과 확인\n",
    "resampled_df = pd.concat([X_resampled, y_resampled], axis=1)\n",
    "\n",
    "resampled_df"
   ]
  },
  {
   "cell_type": "markdown",
   "id": "0b20a303",
   "metadata": {
    "id": "0b20a303"
   },
   "source": [
    "## 4-4 4-3 데이터를 가지고 '피해자신체상해정도' 을 종속변수로 하여 로지스틱회귀분석, XGB 분류 분류 모델을 만들고 성능 비교를 하고 영향력 있는 변수를 확인하라"
   ]
  },
  {
   "cell_type": "code",
   "execution_count": null,
   "id": "a3149032",
   "metadata": {
    "id": "a3149032",
    "outputId": "dca61651-035f-43e6-8f96-7b9a731c7c51"
   },
   "outputs": [
    {
     "name": "stdout",
     "output_type": "stream",
     "text": [
      "LogisticRegression\n",
      "              precision    recall  f1-score   support\n",
      "\n",
      "           0       0.60      0.56      0.58       936\n",
      "           1       0.59      0.63      0.61       936\n",
      "\n",
      "    accuracy                           0.60      1872\n",
      "   macro avg       0.60      0.60      0.59      1872\n",
      "weighted avg       0.60      0.60      0.59      1872\n",
      "\n",
      "\n",
      "XGBClassifier\n",
      "              precision    recall  f1-score   support\n",
      "\n",
      "           0       0.63      0.59      0.61       936\n",
      "           1       0.61      0.65      0.63       936\n",
      "\n",
      "    accuracy                           0.62      1872\n",
      "   macro avg       0.62      0.62      0.62      1872\n",
      "weighted avg       0.62      0.62      0.62      1872\n",
      "\n"
     ]
    }
   ],
   "source": [
    "from xgboost import XGBClassifier\n",
    "from sklearn.linear_model import LogisticRegression\n",
    "from sklearn.model_selection import train_test_split\n",
    "from sklearn.metrics import classification_report\n",
    "\n",
    "X_train, X_test, y_train,y_test = train_test_split(X_resampled, y_resampled,test_size=0.2, random_state=42, stratify=y_resampled)\n",
    "lg = LogisticRegression()\n",
    "xgb = XGBClassifier()\n",
    "lg.fit(X_train,y_train)\n",
    "xgb.fit(X_train,y_train)\n",
    "pred_lg = lg.predict(X_test)\n",
    "pred_xgb = xgb.predict(X_test)\n",
    "\n",
    "print(\"LogisticRegression\")\n",
    "print(classification_report(y_test, pred_lg))\n",
    "print()\n",
    "print(\"XGBClassifier\")\n",
    "print(classification_report(y_test, pred_xgb))"
   ]
  },
  {
   "cell_type": "markdown",
   "id": "526e7015",
   "metadata": {
    "id": "526e7015"
   },
   "source": [
    "# 통계 (40점)"
   ]
  },
  {
   "cell_type": "markdown",
   "id": "862751b7",
   "metadata": {
    "id": "862751b7"
   },
   "source": [
    "## 5.\n",
    "3개의 공장에서 생산한 제품을 3지역으로 가능한 조건에 맞게 최대로 배송한다.    \n",
    "각 공장과 각 지역 사이의 1개 제품 배송 비용이 아래와 같을 때, 최소 배송 비용은 얼마인가?    \n",
    "![img](https://raw.githubusercontent.com/Datamanim/datarepo/main/adp/30/p5.png)"
   ]
  },
  {
   "cell_type": "code",
   "execution_count": 40,
   "id": "7dac3e8a",
   "metadata": {
    "id": "7dac3e8a",
    "outputId": "df5130ca-7694-457f-d04c-83bddd76522e"
   },
   "outputs": [
    {
     "data": {
      "text/plain": [
       "100"
      ]
     },
     "execution_count": 40,
     "metadata": {},
     "output_type": "execute_result"
    }
   ],
   "source": [
    "df=pd.DataFrame({'지역1':[20,15,4,80],\n",
    "'지역2':[5,2,14,50],\n",
    "'지역3':[35,20,17,60],\n",
    "'총생산량':[75,55,60,190]\n",
    "}, index = ['공장A','공장B','공장C','총수요량'])\n",
    "\n",
    "배송비용s =[]\n",
    "\n",
    "for i in range(df.shape[0]):\n",
    "    for j in range(df.shape[1]):\n",
    "        배송단가 = df.iloc[i,j]\n",
    "        if df.iloc[i,3]>df.iloc[3,i]:\n",
    "            배송량 = df.iloc[3,i]\n",
    "        else:\n",
    "            배송량 = df.iloc[3,i]\n",
    "        배송비용 = 배송단가 * 배송량\n",
    "        배송비용s.append(배송비용)\n",
    "\n",
    "np.array(배송비용s).min()"
   ]
  },
  {
   "cell_type": "code",
   "execution_count": 44,
   "id": "5203a1df-76ef-44a9-b0ef-22385bdebb11",
   "metadata": {},
   "outputs": [
    {
     "data": {
      "text/html": [
       "<div>\n",
       "<style scoped>\n",
       "    .dataframe tbody tr th:only-of-type {\n",
       "        vertical-align: middle;\n",
       "    }\n",
       "\n",
       "    .dataframe tbody tr th {\n",
       "        vertical-align: top;\n",
       "    }\n",
       "\n",
       "    .dataframe thead th {\n",
       "        text-align: right;\n",
       "    }\n",
       "</style>\n",
       "<table border=\"1\" class=\"dataframe\">\n",
       "  <thead>\n",
       "    <tr style=\"text-align: right;\">\n",
       "      <th></th>\n",
       "      <th>지역1</th>\n",
       "      <th>지역2</th>\n",
       "      <th>지역3</th>\n",
       "      <th>총생산량</th>\n",
       "    </tr>\n",
       "  </thead>\n",
       "  <tbody>\n",
       "    <tr>\n",
       "      <th>공장A</th>\n",
       "      <td>20</td>\n",
       "      <td>5</td>\n",
       "      <td>35</td>\n",
       "      <td>75</td>\n",
       "    </tr>\n",
       "    <tr>\n",
       "      <th>공장B</th>\n",
       "      <td>15</td>\n",
       "      <td>2</td>\n",
       "      <td>20</td>\n",
       "      <td>55</td>\n",
       "    </tr>\n",
       "    <tr>\n",
       "      <th>공장C</th>\n",
       "      <td>4</td>\n",
       "      <td>14</td>\n",
       "      <td>17</td>\n",
       "      <td>60</td>\n",
       "    </tr>\n",
       "    <tr>\n",
       "      <th>총수요량</th>\n",
       "      <td>80</td>\n",
       "      <td>50</td>\n",
       "      <td>60</td>\n",
       "      <td>190</td>\n",
       "    </tr>\n",
       "  </tbody>\n",
       "</table>\n",
       "</div>"
      ],
      "text/plain": [
       "      지역1  지역2  지역3  총생산량\n",
       "공장A    20    5   35    75\n",
       "공장B    15    2   20    55\n",
       "공장C     4   14   17    60\n",
       "총수요량   80   50   60   190"
      ]
     },
     "execution_count": 44,
     "metadata": {},
     "output_type": "execute_result"
    }
   ],
   "source": [
    "df"
   ]
  },
  {
   "cell_type": "markdown",
   "id": "d6ad5e43",
   "metadata": {
    "id": "d6ad5e43"
   },
   "source": [
    "## 데이터 설명\n",
    "- 데이터 링크 : https://raw.githubusercontent.com/Datamanim/datarepo/main/adp/30/p6.csv\n",
    "- 데이터 설명 : 3개 연령층 (청년 장년 노년)의 A 헤드셋의 선호도 (1,2,3/ 범주형) 설문조사"
   ]
  },
  {
   "cell_type": "markdown",
   "id": "884a2cee",
   "metadata": {
    "id": "884a2cee"
   },
   "source": [
    "## 6.1 연령대별로 헤드셋 선호도에 차이가 있는지를 검정하기 위한 귀무가설과 연구가설을 설정해라."
   ]
  },
  {
   "cell_type": "code",
   "execution_count": null,
   "id": "55d445aa",
   "metadata": {
    "id": "55d445aa",
    "outputId": "d7136a1f-ac21-4fdd-d6f1-78ab1be1bdb9"
   },
   "outputs": [
    {
     "data": {
      "text/html": [
       "<div>\n",
       "<style scoped>\n",
       "    .dataframe tbody tr th:only-of-type {\n",
       "        vertical-align: middle;\n",
       "    }\n",
       "\n",
       "    .dataframe tbody tr th {\n",
       "        vertical-align: top;\n",
       "    }\n",
       "\n",
       "    .dataframe thead th {\n",
       "        text-align: right;\n",
       "    }\n",
       "</style>\n",
       "<table border=\"1\" class=\"dataframe\">\n",
       "  <thead>\n",
       "    <tr style=\"text-align: right;\">\n",
       "      <th></th>\n",
       "      <th>나이</th>\n",
       "      <th>선호도</th>\n",
       "    </tr>\n",
       "  </thead>\n",
       "  <tbody>\n",
       "    <tr>\n",
       "      <th>0</th>\n",
       "      <td>청년</td>\n",
       "      <td>2</td>\n",
       "    </tr>\n",
       "    <tr>\n",
       "      <th>1</th>\n",
       "      <td>장년</td>\n",
       "      <td>2</td>\n",
       "    </tr>\n",
       "    <tr>\n",
       "      <th>2</th>\n",
       "      <td>청년</td>\n",
       "      <td>2</td>\n",
       "    </tr>\n",
       "    <tr>\n",
       "      <th>3</th>\n",
       "      <td>청년</td>\n",
       "      <td>1</td>\n",
       "    </tr>\n",
       "    <tr>\n",
       "      <th>4</th>\n",
       "      <td>장년</td>\n",
       "      <td>1</td>\n",
       "    </tr>\n",
       "    <tr>\n",
       "      <th>...</th>\n",
       "      <td>...</td>\n",
       "      <td>...</td>\n",
       "    </tr>\n",
       "    <tr>\n",
       "      <th>272</th>\n",
       "      <td>청년</td>\n",
       "      <td>1</td>\n",
       "    </tr>\n",
       "    <tr>\n",
       "      <th>273</th>\n",
       "      <td>장년</td>\n",
       "      <td>1</td>\n",
       "    </tr>\n",
       "    <tr>\n",
       "      <th>274</th>\n",
       "      <td>노년</td>\n",
       "      <td>2</td>\n",
       "    </tr>\n",
       "    <tr>\n",
       "      <th>275</th>\n",
       "      <td>노년</td>\n",
       "      <td>2</td>\n",
       "    </tr>\n",
       "    <tr>\n",
       "      <th>276</th>\n",
       "      <td>장년</td>\n",
       "      <td>3</td>\n",
       "    </tr>\n",
       "  </tbody>\n",
       "</table>\n",
       "<p>277 rows × 2 columns</p>\n",
       "</div>"
      ],
      "text/plain": [
       "     나이  선호도\n",
       "0    청년    2\n",
       "1    장년    2\n",
       "2    청년    2\n",
       "3    청년    1\n",
       "4    장년    1\n",
       "..   ..  ...\n",
       "272  청년    1\n",
       "273  장년    1\n",
       "274  노년    2\n",
       "275  노년    2\n",
       "276  장년    3\n",
       "\n",
       "[277 rows x 2 columns]"
      ]
     },
     "execution_count": 20,
     "metadata": {},
     "output_type": "execute_result"
    }
   ],
   "source": [
    "url = 'https://raw.githubusercontent.com/Datamanim/datarepo/main/adp/30/p6.csv'\n",
    "df = pd.read_csv(url)\n",
    "df"
   ]
  },
  {
   "cell_type": "code",
   "execution_count": null,
   "id": "c3d00ae5-9ee6-447d-bf89-d2eebce2b6bd",
   "metadata": {
    "id": "c3d00ae5-9ee6-447d-bf89-d2eebce2b6bd"
   },
   "outputs": [],
   "source": [
    "df_ = df.groupby(['나이','선호도']).agg('size').reset_index()\n",
    "df_.columns = ['나이','선호도','개수']"
   ]
  },
  {
   "cell_type": "markdown",
   "id": "94ecbc5d-1f11-4f02-bcde-5b2d92f6e7c6",
   "metadata": {
    "id": "94ecbc5d-1f11-4f02-bcde-5b2d92f6e7c6"
   },
   "source": [
    "H0 : 니이에 따라 선호도에는 차이가 없다\n",
    "H1 : 나이에 따른 선호도에는 차이가 있다."
   ]
  },
  {
   "cell_type": "markdown",
   "id": "e0c2c676",
   "metadata": {
    "id": "e0c2c676"
   },
   "source": [
    "## 6.2 유의수준 하에서 통계 검정해라"
   ]
  },
  {
   "cell_type": "markdown",
   "id": "680b1864-dc36-4f93-9515-087f95e2a737",
   "metadata": {
    "id": "680b1864-dc36-4f93-9515-087f95e2a737"
   },
   "source": [
    "- 여러 집단을 가진 하나의 독립 변수에 대해, 범주형 종속변수 차이를 검증한다\n",
    " > One-Way ANOVA"
   ]
  },
  {
   "cell_type": "code",
   "execution_count": null,
   "id": "504f0200-a1a6-4eda-bee1-893eb8efe4de",
   "metadata": {
    "id": "504f0200-a1a6-4eda-bee1-893eb8efe4de",
    "outputId": "014afa5f-1f08-4e1b-d4e6-b261d507ac5a"
   },
   "outputs": [
    {
     "name": "stdout",
     "output_type": "stream",
     "text": [
      "F-statistic: 0.07344869345120808\n",
      "P-value: 0.9292021058717312\n",
      "나이별 선호도에 통계적으로 유의한 차이가 없습니다.\n"
     ]
    }
   ],
   "source": [
    "import pandas as pd\n",
    "from scipy.stats import f_oneway\n",
    "# ANOVA 수행\n",
    "grouped_data = [df['선호도'][df['나이'] == age_group] for age_group in df['나이'].unique()]\n",
    "f_statistic, p_value = f_oneway(*grouped_data)\n",
    "\n",
    "# 결과 출력          \n",
    "print(\"F-statistic:\", f_statistic)\n",
    "print(\"P-value:\", p_value)\n",
    "\n",
    "if p_value < 0.05:\n",
    "    print(\"나이별 선호도에 통계적으로 유의한 차이가 있습니다.\")\n",
    "else:\n",
    "    print(\"나이별 선호도에 통계적으로 유의한 차이가 없습니다.\")"
   ]
  },
  {
   "cell_type": "markdown",
   "id": "9d388095",
   "metadata": {
    "id": "9d388095"
   },
   "source": [
    "## 데이터 설명\n",
    "아이를 6명 가진 가정이 5 가족이고, 아들/딸을 출생할 확률은 0.5이다."
   ]
  },
  {
   "cell_type": "markdown",
   "id": "0afcc3ae",
   "metadata": {
    "id": "0afcc3ae"
   },
   "source": [
    "## 7.1 딸이 4명 이상인 가구가 3 가족 이상일 확률을 구하라. (소숫점 이하 4번째 자리에서 반올림)"
   ]
  },
  {
   "cell_type": "code",
   "execution_count": null,
   "id": "bdd21cb2",
   "metadata": {
    "id": "bdd21cb2",
    "outputId": "f1fcff8d-1169-41b6-fca1-06a2b8219fea"
   },
   "outputs": [
    {
     "name": "stdout",
     "output_type": "stream",
     "text": [
      "딸이 4명 이상인 가구가 3 가족 이상일 확률: 0.2255\n"
     ]
    }
   ],
   "source": [
    "# 이항분포\n",
    "import scipy.stats as stats\n",
    "\n",
    "# 아이를 6명 가진 가정이 5 가족이고, 아들/딸을 출생할 확률은 0.5이다.\n",
    "n_children = 6\n",
    "n_families = 5\n",
    "p_girl = 0.5\n",
    "\n",
    "# 딸이 4명 이상인 가구가 3 가족 이상일 확률을 구하라.\n",
    "p_4_or_more_girls = sum([stats.binom.pmf(k, n_children, p_girl) for k in range(4, n_children+1)])\n",
    "prob_3_or_more_families = stats.binom.pmf(3, n_families, p_4_or_more_girls) + stats.binom.pmf(4, n_families, p_4_or_more_girls) + stats.binom.pmf(5, n_families, p_4_or_more_girls)\n",
    "print(f\"딸이 4명 이상인 가구가 3 가족 이상일 확률: {round(prob_3_or_more_families, 4)}\")"
   ]
  },
  {
   "cell_type": "markdown",
   "id": "f9a3736a",
   "metadata": {
    "id": "f9a3736a"
   },
   "source": [
    "## 7.2 5가족 중 몇 가족이 4명 이상 딸을 가질 것으로 기대할 수 있는가? (소숫점 이하 4번째 자리에서 반올림)"
   ]
  },
  {
   "cell_type": "code",
   "execution_count": null,
   "id": "6520e997",
   "metadata": {
    "id": "6520e997",
    "outputId": "757776c3-b78a-43bc-ff43-1df510fc0dcf"
   },
   "outputs": [
    {
     "name": "stdout",
     "output_type": "stream",
     "text": [
      "5가족 중 4명 이상 딸을 가질 것으로 기대되는 가족 수: 1.7188\n"
     ]
    }
   ],
   "source": [
    "# 5가족 중 몇 가족이 4명 이상 딸을 가질 것으로 기대할 수 있는가?\n",
    "expected_families = n_families * p_4_or_more_girls\n",
    "print(f\"5가족 중 4명 이상 딸을 가질 것으로 기대되는 가족 수: {round(expected_families, 4)}\")"
   ]
  },
  {
   "cell_type": "markdown",
   "id": "3d6834a0",
   "metadata": {
    "id": "3d6834a0"
   },
   "source": [
    "created by datamanim [web-link](https://www.datamanim.com)"
   ]
  }
 ],
 "metadata": {
  "colab": {
   "provenance": []
  },
  "kernelspec": {
   "display_name": "tw39",
   "language": "python",
   "name": "tw39"
  },
  "language_info": {
   "codemirror_mode": {
    "name": "ipython",
    "version": 3
   },
   "file_extension": ".py",
   "mimetype": "text/x-python",
   "name": "python",
   "nbconvert_exporter": "python",
   "pygments_lexer": "ipython3",
   "version": "3.9.16"
  }
 },
 "nbformat": 4,
 "nbformat_minor": 5
}
