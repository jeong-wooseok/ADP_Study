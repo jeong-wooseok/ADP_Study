{
 "cells": [
  {
   "cell_type": "markdown",
   "id": "5069cf4e-48ba-4437-81b7-8958cb526d4e",
   "metadata": {
    "tags": []
   },
   "source": [
    "# 22회기출1\n",
    "금속 성분 함유량 데이터(변수 1개) - 제품에 금속 재질 함유량의 분산이 1.3을 넘으면 불량이라고 보고 있는데 제조사별로 차이가 난다고 제보를 받았다. 분산에 대해 검정을 수행하시오. (유의확률 0.05)\n",
    "\n",
    "1 연구가설과 귀무가설 작성\n",
    "\n",
    "2 양측 검정 시행\n",
    "\n",
    "3 검정통계량, 가설채택"
   ]
  },
  {
   "cell_type": "code",
   "execution_count": 23,
   "id": "a467df6a-d1cd-4e6b-8de9-96db2e7be85f",
   "metadata": {},
   "outputs": [
    {
     "name": "stdout",
     "output_type": "stream",
     "text": [
      "<class 'pandas.core.frame.DataFrame'>\n",
      "RangeIndex: 200 entries, 0 to 199\n",
      "Data columns (total 1 columns):\n",
      " #   Column   Non-Null Count  Dtype  \n",
      "---  ------   --------------  -----  \n",
      " 0   content  200 non-null    float64\n",
      "dtypes: float64(1)\n",
      "memory usage: 1.7 KB\n"
     ]
    }
   ],
   "source": [
    "import pandas as pd\n",
    "\n",
    "df= pd.read_csv('https://raw.githubusercontent.com/Datamanim/datarepo/main/adp/22/content.csv')\n",
    "df.info()"
   ]
  },
  {
   "cell_type": "markdown",
   "id": "1706c329-a4ec-41e5-8ddb-b1983933e0bd",
   "metadata": {},
   "source": [
    "> 분산에 대한 검정이므로 카이제곱을 이용하여 푼다"
   ]
  },
  {
   "cell_type": "markdown",
   "id": "2198da73-c49e-44b7-b3fa-a112c4bf61e0",
   "metadata": {},
   "source": [
    "- H0 : 제품에 금속 재질 함유량은 제조사 별로 차이가 없다.\n",
    "- H1 : 제품에 금속 재질 함유량은 제조사 별로 차이가 있다."
   ]
  },
  {
   "cell_type": "markdown",
   "id": "e722a411-3879-4e57-963f-bd1fbd7d2197",
   "metadata": {},
   "source": [
    "1. convert the df Series to a NumPy array using df.values.\n",
    "2. calculate the sample variance using data.var().\n",
    "3. specify the hypothesized variance (1.3 in your case).\n",
    "4. calculate the Chi-square test statistic using the formula: (n - 1) * sample_var / hypothesized_var.\n",
    "5. calculate the p-value using the Chi-square cumulative distribution function (chi2.cdf)"
   ]
  },
  {
   "cell_type": "code",
   "execution_count": 24,
   "id": "4cd8408a-77f5-484a-a337-2741f46f36b1",
   "metadata": {},
   "outputs": [
    {
     "name": "stdout",
     "output_type": "stream",
     "text": [
      "Sample variance: 2.1339\n",
      "Chi-square statistic: 326.6508\n",
      "p-value: 0.0000\n",
      "제품에 금속 재질 함유량은 제조사 별로 차이가 있다.\n"
     ]
    }
   ],
   "source": [
    "import pandas as pd\n",
    "from scipy.stats import chi2\n",
    "H0 = '제품에 금속 재질 함유량은 제조사 별로 차이가 없다.'\n",
    "H1 = '제품에 금속 재질 함유량은 제조사 별로 차이가 있다.'\n",
    "# Convert the Series to a NumPy array\n",
    "data = df.values\n",
    "\n",
    "# Calculate the sample variance\n",
    "sample_var = data.var()\n",
    "\n",
    "# Specify the hypothesized variance (1.3 in your case)\n",
    "hypothesized_var = 1.3\n",
    "\n",
    "# Calculate the test statistic\n",
    "n = len(data)\n",
    "chi2_stat = (n - 1) * sample_var / hypothesized_var\n",
    "\n",
    "# Calculate the p-value\n",
    "p_value = 1 - chi2.cdf(chi2_stat, n - 1)\n",
    "\n",
    "print(f\"Sample variance: {sample_var:.4f}\")\n",
    "print(f\"Chi-square statistic: {chi2_stat:.4f}\")\n",
    "print(f\"p-value: {p_value:.4f}\")\n",
    "if p_value<0.05:print(H1)\n",
    "else : print(H0)"
   ]
  },
  {
   "cell_type": "markdown",
   "id": "475c1704-cdc9-4d0f-90a2-ad497269c2a3",
   "metadata": {},
   "source": [
    "# 22회기출2\n",
    "- Lot별 200개에 대한 불량 제품 수량 데이터(변수 2개 - lot번호, 불량제품수)\n",
    "\n",
    "1 불량률 관리도에 따라 관리중심선(CL : Center Line), 관리 상한선(UCL : Upper Control Limit), 하한선(LCL : Lower Control Limit) 구하기\n",
    "\n",
    "2 관리도 시각화"
   ]
  },
  {
   "cell_type": "code",
   "execution_count": 25,
   "id": "6db15444-d145-4185-a0a4-9f4fbc596a57",
   "metadata": {},
   "outputs": [
    {
     "data": {
      "text/html": [
       "<div>\n",
       "<style scoped>\n",
       "    .dataframe tbody tr th:only-of-type {\n",
       "        vertical-align: middle;\n",
       "    }\n",
       "\n",
       "    .dataframe tbody tr th {\n",
       "        vertical-align: top;\n",
       "    }\n",
       "\n",
       "    .dataframe thead th {\n",
       "        text-align: right;\n",
       "    }\n",
       "</style>\n",
       "<table border=\"1\" class=\"dataframe\">\n",
       "  <thead>\n",
       "    <tr style=\"text-align: right;\">\n",
       "      <th></th>\n",
       "      <th>iot_number</th>\n",
       "      <th>error_case_number</th>\n",
       "    </tr>\n",
       "  </thead>\n",
       "  <tbody>\n",
       "    <tr>\n",
       "      <th>0</th>\n",
       "      <td>1</td>\n",
       "      <td>4.5</td>\n",
       "    </tr>\n",
       "    <tr>\n",
       "      <th>1</th>\n",
       "      <td>2</td>\n",
       "      <td>2.5</td>\n",
       "    </tr>\n",
       "    <tr>\n",
       "      <th>2</th>\n",
       "      <td>3</td>\n",
       "      <td>2.0</td>\n",
       "    </tr>\n",
       "    <tr>\n",
       "      <th>3</th>\n",
       "      <td>4</td>\n",
       "      <td>3.0</td>\n",
       "    </tr>\n",
       "    <tr>\n",
       "      <th>4</th>\n",
       "      <td>5</td>\n",
       "      <td>0.5</td>\n",
       "    </tr>\n",
       "  </tbody>\n",
       "</table>\n",
       "</div>"
      ],
      "text/plain": [
       "   iot_number  error_case_number\n",
       "0           1                4.5\n",
       "1           2                2.5\n",
       "2           3                2.0\n",
       "3           4                3.0\n",
       "4           5                0.5"
      ]
     },
     "execution_count": 25,
     "metadata": {},
     "output_type": "execute_result"
    }
   ],
   "source": [
    "import pandas as pd\n",
    "\n",
    "df= pd.read_csv('https://raw.githubusercontent.com/Datamanim/datarepo/main/adp/22/error.csv')\n",
    "df.head()"
   ]
  },
  {
   "cell_type": "code",
   "execution_count": 27,
   "id": "498ce09b-e583-44a7-a4d2-36e939959aa9",
   "metadata": {},
   "outputs": [
    {
     "name": "stdout",
     "output_type": "stream",
     "text": [
      "<class 'pandas.core.frame.DataFrame'>\n",
      "RangeIndex: 100 entries, 0 to 99\n",
      "Data columns (total 2 columns):\n",
      " #   Column             Non-Null Count  Dtype  \n",
      "---  ------             --------------  -----  \n",
      " 0   iot_number         100 non-null    int64  \n",
      " 1   error_case_number  100 non-null    float64\n",
      "dtypes: float64(1), int64(1)\n",
      "memory usage: 1.7 KB\n"
     ]
    }
   ],
   "source": [
    "df.info()"
   ]
  },
  {
   "cell_type": "code",
   "execution_count": 29,
   "id": "b1fc0f58-243e-44a0-afc4-a27d0d80bd31",
   "metadata": {},
   "outputs": [
    {
     "data": {
      "image/png": "[encoded data removed]",
      "text/plain": [
       "<Figure size 640x480 with 1 Axes>"
      ]
     },
     "metadata": {},
     "output_type": "display_data"
    }
   ],
   "source": [
    "df['error_case_number'].plot(kind='box');"
   ]
  },
  {
   "cell_type": "code",
   "execution_count": 32,
   "id": "05f27654-d0bd-4bba-bf4f-05d345687b4b",
   "metadata": {},
   "outputs": [
    {
     "data": {
      "image/png": "[encoded data removed]",
      "text/plain": [
       "<Figure size 640x480 with 1 Axes>"
      ]
     },
     "metadata": {},
     "output_type": "display_data"
    }
   ],
   "source": [
    "df.plot(x='iot_number',y='error_case_number',kind='scatter');"
   ]
  },
  {
   "cell_type": "code",
   "execution_count": 33,
   "id": "c46bd06c-8ae5-4205-94a0-76780a4b7ec5",
   "metadata": {},
   "outputs": [
    {
     "data": {
      "text/html": [
       "<div>\n",
       "<style scoped>\n",
       "    .dataframe tbody tr th:only-of-type {\n",
       "        vertical-align: middle;\n",
       "    }\n",
       "\n",
       "    .dataframe tbody tr th {\n",
       "        vertical-align: top;\n",
       "    }\n",
       "\n",
       "    .dataframe thead th {\n",
       "        text-align: right;\n",
       "    }\n",
       "</style>\n",
       "<table border=\"1\" class=\"dataframe\">\n",
       "  <thead>\n",
       "    <tr style=\"text-align: right;\">\n",
       "      <th></th>\n",
       "      <th>iot_number</th>\n",
       "      <th>error_case_number</th>\n",
       "    </tr>\n",
       "  </thead>\n",
       "  <tbody>\n",
       "    <tr>\n",
       "      <th>count</th>\n",
       "      <td>100.000000</td>\n",
       "      <td>100.000000</td>\n",
       "    </tr>\n",
       "    <tr>\n",
       "      <th>mean</th>\n",
       "      <td>50.500000</td>\n",
       "      <td>3.410000</td>\n",
       "    </tr>\n",
       "    <tr>\n",
       "      <th>std</th>\n",
       "      <td>29.011492</td>\n",
       "      <td>3.316153</td>\n",
       "    </tr>\n",
       "    <tr>\n",
       "      <th>min</th>\n",
       "      <td>1.000000</td>\n",
       "      <td>0.000000</td>\n",
       "    </tr>\n",
       "    <tr>\n",
       "      <th>25%</th>\n",
       "      <td>25.750000</td>\n",
       "      <td>1.500000</td>\n",
       "    </tr>\n",
       "    <tr>\n",
       "      <th>50%</th>\n",
       "      <td>50.500000</td>\n",
       "      <td>3.000000</td>\n",
       "    </tr>\n",
       "    <tr>\n",
       "      <th>75%</th>\n",
       "      <td>75.250000</td>\n",
       "      <td>4.500000</td>\n",
       "    </tr>\n",
       "    <tr>\n",
       "      <th>max</th>\n",
       "      <td>100.000000</td>\n",
       "      <td>19.000000</td>\n",
       "    </tr>\n",
       "  </tbody>\n",
       "</table>\n",
       "</div>"
      ],
      "text/plain": [
       "       iot_number  error_case_number\n",
       "count  100.000000         100.000000\n",
       "mean    50.500000           3.410000\n",
       "std     29.011492           3.316153\n",
       "min      1.000000           0.000000\n",
       "25%     25.750000           1.500000\n",
       "50%     50.500000           3.000000\n",
       "75%     75.250000           4.500000\n",
       "max    100.000000          19.000000"
      ]
     },
     "execution_count": 33,
     "metadata": {},
     "output_type": "execute_result"
    }
   ],
   "source": [
    "df.describe()"
   ]
  },
  {
   "cell_type": "code",
   "execution_count": 40,
   "id": "ea5cda07-91c4-479e-81e7-b8cfebcd99b0",
   "metadata": {},
   "outputs": [
    {
     "name": "stdout",
     "output_type": "stream",
     "text": [
      "3.0 9.0 -3.0\n"
     ]
    }
   ],
   "source": [
    "CL = df['error_case_number'].quantile(0.5)\n",
    "Q3 = df['error_case_number'].quantile(0.75)\n",
    "Q1 = df['error_case_number'].quantile(0.25)\n",
    "iqr = Q3-Q1\n",
    "\n",
    "UCL = Q3 + 1.5*iqr\n",
    "LCL = Q1 - 1.5*iqr\n",
    "print(CL, UCL, LCL)"
   ]
  },
  {
   "cell_type": "markdown",
   "id": "b98bcb75-7187-496e-9e44-f9ee89b679a9",
   "metadata": {},
   "source": [
    "- 상위 이상치 5개 발생\n",
    "- CL : 3.0, UCL: 9.0, LCL: 0 인것을 알수 있다"
   ]
  },
  {
   "cell_type": "markdown",
   "id": "898186d0-32fe-45b6-a9c0-806a841e6508",
   "metadata": {},
   "source": [
    "# 23회기출1\n",
    "공장에서는 진공관 수명이 1만 시간이라고 주장하여 품질관리팀에서 12개 샘플을 뽑았음 유의수준 5%에서 부호 검정하시오\n",
    "\n",
    "귀무가설 연구가설 세우기\n",
    "\n",
    "유효한 데이터의 숫자는?\n",
    "\n",
    "검정통계량 및 연구 가설 채택 여부를 작성하라"
   ]
  },
  {
   "cell_type": "code",
   "execution_count": 41,
   "id": "80c7e0c1-60f3-48f4-b088-5fbde68489cb",
   "metadata": {},
   "outputs": [
    {
     "data": {
      "text/html": [
       "<div>\n",
       "<style scoped>\n",
       "    .dataframe tbody tr th:only-of-type {\n",
       "        vertical-align: middle;\n",
       "    }\n",
       "\n",
       "    .dataframe tbody tr th {\n",
       "        vertical-align: top;\n",
       "    }\n",
       "\n",
       "    .dataframe thead th {\n",
       "        text-align: right;\n",
       "    }\n",
       "</style>\n",
       "<table border=\"1\" class=\"dataframe\">\n",
       "  <thead>\n",
       "    <tr style=\"text-align: right;\">\n",
       "      <th></th>\n",
       "      <th>name</th>\n",
       "      <th>life span</th>\n",
       "    </tr>\n",
       "  </thead>\n",
       "  <tbody>\n",
       "    <tr>\n",
       "      <th>0</th>\n",
       "      <td>sample1</td>\n",
       "      <td>10000</td>\n",
       "    </tr>\n",
       "    <tr>\n",
       "      <th>1</th>\n",
       "      <td>sample2</td>\n",
       "      <td>9000</td>\n",
       "    </tr>\n",
       "    <tr>\n",
       "      <th>2</th>\n",
       "      <td>sample3</td>\n",
       "      <td>9500</td>\n",
       "    </tr>\n",
       "    <tr>\n",
       "      <th>3</th>\n",
       "      <td>sample4</td>\n",
       "      <td>10000</td>\n",
       "    </tr>\n",
       "    <tr>\n",
       "      <th>4</th>\n",
       "      <td>sample5</td>\n",
       "      <td>10000</td>\n",
       "    </tr>\n",
       "  </tbody>\n",
       "</table>\n",
       "</div>"
      ],
      "text/plain": [
       "      name  life span\n",
       "0  sample1      10000\n",
       "1  sample2       9000\n",
       "2  sample3       9500\n",
       "3  sample4      10000\n",
       "4  sample5      10000"
      ]
     },
     "execution_count": 41,
     "metadata": {},
     "output_type": "execute_result"
    }
   ],
   "source": [
    "import pandas as pd\n",
    "df =pd.read_csv('https://raw.githubusercontent.com/Datamanim/datarepo/main/adp/23/problem2.csv')\n",
    "df.head()"
   ]
  },
  {
   "cell_type": "markdown",
   "id": "7e1ee19f-cf5f-435e-8c6a-1dbe0878b205",
   "metadata": {},
   "source": [
    "# 23회기출2\n",
    "아래 이미지와 같은 학과별 학점 분포 인원수 표가 있다. 학과와 성적이 관계있는지를 검정하라\n",
    "\n",
    "1. 귀무가설 연구가설 세우기\n",
    "\n",
    "2. 학과와 성적이 독립일 경우의 기댓값을 구하시오\n",
    "\n",
    "3. 검정통계량 및 연구 가설 채택 여부를 작성하라"
   ]
  },
  {
   "cell_type": "code",
   "execution_count": 54,
   "id": "440cce17-60c5-4ece-8dd7-11c653c5f993",
   "metadata": {},
   "outputs": [
    {
     "data": {
      "text/html": [
       "<div>\n",
       "<style scoped>\n",
       "    .dataframe tbody tr th:only-of-type {\n",
       "        vertical-align: middle;\n",
       "    }\n",
       "\n",
       "    .dataframe tbody tr th {\n",
       "        vertical-align: top;\n",
       "    }\n",
       "\n",
       "    .dataframe thead th {\n",
       "        text-align: right;\n",
       "    }\n",
       "</style>\n",
       "<table border=\"1\" class=\"dataframe\">\n",
       "  <thead>\n",
       "    <tr style=\"text-align: right;\">\n",
       "      <th></th>\n",
       "      <th>사회과학</th>\n",
       "      <th>자연과학</th>\n",
       "      <th>공학</th>\n",
       "    </tr>\n",
       "  </thead>\n",
       "  <tbody>\n",
       "    <tr>\n",
       "      <th>1.5-2.5</th>\n",
       "      <td>15</td>\n",
       "      <td>25</td>\n",
       "      <td>10</td>\n",
       "    </tr>\n",
       "    <tr>\n",
       "      <th>2.5-3.5</th>\n",
       "      <td>60</td>\n",
       "      <td>69</td>\n",
       "      <td>77</td>\n",
       "    </tr>\n",
       "    <tr>\n",
       "      <th>3.5-4.5</th>\n",
       "      <td>24</td>\n",
       "      <td>5</td>\n",
       "      <td>13</td>\n",
       "    </tr>\n",
       "  </tbody>\n",
       "</table>\n",
       "</div>"
      ],
      "text/plain": [
       "         사회과학  자연과학  공학\n",
       "1.5-2.5    15    25  10\n",
       "2.5-3.5    60    69  77\n",
       "3.5-4.5    24     5  13"
      ]
     },
     "execution_count": 54,
     "metadata": {},
     "output_type": "execute_result"
    }
   ],
   "source": [
    "df = pd.DataFrame({'사회과학':[15,60,24],'자연과학':[25,69,5],'공학':[10,77,13]})\n",
    "df.index = ['1.5-2.5','2.5-3.5','3.5-4.5']\n",
    "df"
   ]
  },
  {
   "cell_type": "markdown",
   "id": "6b8407ca-db28-4616-ba64-dc8b97151d0d",
   "metadata": {},
   "source": [
    "- H0: 학과와 성적이 관계가 없다\n",
    "- H1: 학과와 성적이 관계가 있다"
   ]
  },
  {
   "cell_type": "code",
   "execution_count": 68,
   "id": "548fb99a-0fd2-4e6b-8fc6-d51a5ef6b72a",
   "metadata": {},
   "outputs": [
    {
     "data": {
      "text/plain": [
       "1.5-2.5    24.285714\n",
       "2.5-3.5    98.533333\n",
       "3.5-4.5    21.238095\n",
       "dtype: float64"
      ]
     },
     "execution_count": 68,
     "metadata": {},
     "output_type": "execute_result"
    }
   ],
   "source": [
    "idx = np.array([float(i.split('-')[1])/float(i.split('-')[0]) for i in df.index])\n",
    "idx@df.T/3"
   ]
  },
  {
   "cell_type": "markdown",
   "id": "b7a9e532-a205-4bbc-bdb3-fc1a147d3e26",
   "metadata": {},
   "source": [
    "학과와 성적이 독립성이 있다, 즉 성적별 기대치는 학과와 상관없이 동일하게 위와같다"
   ]
  },
  {
   "cell_type": "code",
   "execution_count": 69,
   "id": "57144dfa-1ae2-48c0-a185-5e870d1f05cc",
   "metadata": {},
   "outputs": [
    {
     "name": "stdout",
     "output_type": "stream",
     "text": [
      "H0: 학과와 성적이 관계가 없다\n"
     ]
    }
   ],
   "source": [
    "from scipy.stats import chi2_contingency\n",
    "stats,p_val,dof,expected = chi2_contingency(df)\n",
    "if p_val<0:\n",
    "    print(\"H1: 학과와 성적이 관계가 있다\")\n",
    "else:print(\"H0: 학과와 성적이 관계가 없다\")"
   ]
  },
  {
   "cell_type": "markdown",
   "id": "909d2e6d-91ef-4024-a72c-e43e659fdc86",
   "metadata": {},
   "source": [
    "# 24회기출1\n",
    "광고횟수와 광고비에 따른 매출액의 데이터이다\n",
    "\n",
    "1 광고비 변수를 가변수 처리후 다중회귀를 수행하여 회귀계수가 유의한지 검정\n",
    "\n",
    "2 회귀식이 유의한지 판단"
   ]
  },
  {
   "cell_type": "code",
   "execution_count": 81,
   "id": "6c5b70f3-9d0e-4bac-8a07-f2be0dcfd719",
   "metadata": {},
   "outputs": [
    {
     "data": {
      "text/html": [
       "<div>\n",
       "<style scoped>\n",
       "    .dataframe tbody tr th:only-of-type {\n",
       "        vertical-align: middle;\n",
       "    }\n",
       "\n",
       "    .dataframe tbody tr th {\n",
       "        vertical-align: top;\n",
       "    }\n",
       "\n",
       "    .dataframe thead th {\n",
       "        text-align: right;\n",
       "    }\n",
       "</style>\n",
       "<table border=\"1\" class=\"dataframe\">\n",
       "  <thead>\n",
       "    <tr style=\"text-align: right;\">\n",
       "      <th></th>\n",
       "      <th>광고횟수</th>\n",
       "      <th>광고비</th>\n",
       "      <th>매출액</th>\n",
       "    </tr>\n",
       "  </thead>\n",
       "  <tbody>\n",
       "    <tr>\n",
       "      <th>0</th>\n",
       "      <td>2</td>\n",
       "      <td>낮음</td>\n",
       "      <td>15</td>\n",
       "    </tr>\n",
       "    <tr>\n",
       "      <th>1</th>\n",
       "      <td>3</td>\n",
       "      <td>낮음</td>\n",
       "      <td>16</td>\n",
       "    </tr>\n",
       "    <tr>\n",
       "      <th>2</th>\n",
       "      <td>4</td>\n",
       "      <td>낮음</td>\n",
       "      <td>17</td>\n",
       "    </tr>\n",
       "    <tr>\n",
       "      <th>3</th>\n",
       "      <td>4</td>\n",
       "      <td>높음</td>\n",
       "      <td>18</td>\n",
       "    </tr>\n",
       "    <tr>\n",
       "      <th>4</th>\n",
       "      <td>5</td>\n",
       "      <td>높음</td>\n",
       "      <td>20</td>\n",
       "    </tr>\n",
       "  </tbody>\n",
       "</table>\n",
       "</div>"
      ],
      "text/plain": [
       "   광고횟수 광고비  매출액\n",
       "0     2  낮음   15\n",
       "1     3  낮음   16\n",
       "2     4  낮음   17\n",
       "3     4  높음   18\n",
       "4     5  높음   20"
      ]
     },
     "execution_count": 81,
     "metadata": {},
     "output_type": "execute_result"
    }
   ],
   "source": [
    "import pandas as pd\n",
    "\n",
    "df= pd.read_csv('https://raw.githubusercontent.com/Datamanim/datarepo/main/adp/24/problem2.csv',encoding='cp949')\n",
    "df.head()"
   ]
  },
  {
   "cell_type": "code",
   "execution_count": 84,
   "id": "34fa9fb4-4347-44fe-92c3-c141c1db7775",
   "metadata": {},
   "outputs": [
    {
     "data": {
      "text/plain": [
       "0     0\n",
       "1     0\n",
       "2     0\n",
       "3     1\n",
       "4     1\n",
       "5     1\n",
       "6     0\n",
       "7     1\n",
       "8     1\n",
       "9     0\n",
       "10    1\n",
       "Name: 광고비, dtype: int64"
      ]
     },
     "execution_count": 84,
     "metadata": {},
     "output_type": "execute_result"
    }
   ],
   "source": [
    "df['광고비'] = df['광고비'].map({'낮음':0, '높음':1})\n",
    "df['광고비']"
   ]
  },
  {
   "cell_type": "code",
   "execution_count": 87,
   "id": "239c7428-5562-48ae-adb4-cc67d054151c",
   "metadata": {},
   "outputs": [
    {
     "name": "stderr",
     "output_type": "stream",
     "text": [
      "E:\\miniconda\\lib\\site-packages\\scipy\\stats\\_stats_py.py:1736: UserWarning: kurtosistest only valid for n>=20 ... continuing anyway, n=11\n",
      "  warnings.warn(\"kurtosistest only valid for n>=20 ... continuing \"\n"
     ]
    },
    {
     "data": {
      "text/html": [
       "<table class=\"simpletable\">\n",
       "<caption>OLS Regression Results</caption>\n",
       "<tr>\n",
       "  <th>Dep. Variable:</th>           <td>매출액</td>       <th>  R-squared (uncentered):</th>      <td>   0.942</td>\n",
       "</tr>\n",
       "<tr>\n",
       "  <th>Model:</th>                   <td>OLS</td>       <th>  Adj. R-squared (uncentered):</th> <td>   0.929</td>\n",
       "</tr>\n",
       "<tr>\n",
       "  <th>Method:</th>             <td>Least Squares</td>  <th>  F-statistic:       </th>          <td>   72.52</td>\n",
       "</tr>\n",
       "<tr>\n",
       "  <th>Date:</th>             <td>Fri, 19 Apr 2024</td> <th>  Prob (F-statistic):</th>          <td>2.82e-06</td>\n",
       "</tr>\n",
       "<tr>\n",
       "  <th>Time:</th>                 <td>05:17:44</td>     <th>  Log-Likelihood:    </th>          <td> -34.476</td>\n",
       "</tr>\n",
       "<tr>\n",
       "  <th>No. Observations:</th>      <td>    11</td>      <th>  AIC:               </th>          <td>   72.95</td>\n",
       "</tr>\n",
       "<tr>\n",
       "  <th>Df Residuals:</th>          <td>     9</td>      <th>  BIC:               </th>          <td>   73.75</td>\n",
       "</tr>\n",
       "<tr>\n",
       "  <th>Df Model:</th>              <td>     2</td>      <th>                     </th>              <td> </td>   \n",
       "</tr>\n",
       "<tr>\n",
       "  <th>Covariance Type:</th>      <td>nonrobust</td>    <th>                     </th>              <td> </td>   \n",
       "</tr>\n",
       "</table>\n",
       "<table class=\"simpletable\">\n",
       "<tr>\n",
       "    <td></td>      <th>coef</th>     <th>std err</th>      <th>t</th>      <th>P>|t|</th>  <th>[0.025</th>    <th>0.975]</th>  \n",
       "</tr>\n",
       "<tr>\n",
       "  <th>광고횟수</th> <td>    2.6259</td> <td>    0.363</td> <td>    7.227</td> <td> 0.000</td> <td>    1.804</td> <td>    3.448</td>\n",
       "</tr>\n",
       "<tr>\n",
       "  <th>광고비</th>  <td>    3.1597</td> <td>    3.839</td> <td>    0.823</td> <td> 0.432</td> <td>   -5.526</td> <td>   11.845</td>\n",
       "</tr>\n",
       "</table>\n",
       "<table class=\"simpletable\">\n",
       "<tr>\n",
       "  <th>Omnibus:</th>       <td> 1.050</td> <th>  Durbin-Watson:     </th> <td>   0.252</td>\n",
       "</tr>\n",
       "<tr>\n",
       "  <th>Prob(Omnibus):</th> <td> 0.592</td> <th>  Jarque-Bera (JB):  </th> <td>   0.770</td>\n",
       "</tr>\n",
       "<tr>\n",
       "  <th>Skew:</th>          <td>-0.341</td> <th>  Prob(JB):          </th> <td>   0.680</td>\n",
       "</tr>\n",
       "<tr>\n",
       "  <th>Kurtosis:</th>      <td> 1.898</td> <th>  Cond. No.          </th> <td>    16.3</td>\n",
       "</tr>\n",
       "</table><br/><br/>Notes:<br/>[1] R² is computed without centering (uncentered) since the model does not contain a constant.<br/>[2] Standard Errors assume that the covariance matrix of the errors is correctly specified."
      ],
      "text/latex": [
       "\\begin{center}\n",
       "\\begin{tabular}{lclc}\n",
       "\\toprule\n",
       "\\textbf{Dep. Variable:}    &       매출액        & \\textbf{  R-squared (uncentered):}      &     0.942   \\\\\n",
       "\\textbf{Model:}            &       OLS        & \\textbf{  Adj. R-squared (uncentered):} &     0.929   \\\\\n",
       "\\textbf{Method:}           &  Least Squares   & \\textbf{  F-statistic:       }          &     72.52   \\\\\n",
       "\\textbf{Date:}             & Fri, 19 Apr 2024 & \\textbf{  Prob (F-statistic):}          &  2.82e-06   \\\\\n",
       "\\textbf{Time:}             &     05:17:44     & \\textbf{  Log-Likelihood:    }          &   -34.476   \\\\\n",
       "\\textbf{No. Observations:} &          11      & \\textbf{  AIC:               }          &     72.95   \\\\\n",
       "\\textbf{Df Residuals:}     &           9      & \\textbf{  BIC:               }          &     73.75   \\\\\n",
       "\\textbf{Df Model:}         &           2      & \\textbf{                     }          &             \\\\\n",
       "\\textbf{Covariance Type:}  &    nonrobust     & \\textbf{                     }          &             \\\\\n",
       "\\bottomrule\n",
       "\\end{tabular}\n",
       "\\begin{tabular}{lcccccc}\n",
       "              & \\textbf{coef} & \\textbf{std err} & \\textbf{t} & \\textbf{P$> |$t$|$} & \\textbf{[0.025} & \\textbf{0.975]}  \\\\\n",
       "\\midrule\n",
       "\\textbf{광고횟수} &       2.6259  &        0.363     &     7.227  &         0.000        &        1.804    &        3.448     \\\\\n",
       "\\textbf{광고비}  &       3.1597  &        3.839     &     0.823  &         0.432        &       -5.526    &       11.845     \\\\\n",
       "\\bottomrule\n",
       "\\end{tabular}\n",
       "\\begin{tabular}{lclc}\n",
       "\\textbf{Omnibus:}       &  1.050 & \\textbf{  Durbin-Watson:     } &    0.252  \\\\\n",
       "\\textbf{Prob(Omnibus):} &  0.592 & \\textbf{  Jarque-Bera (JB):  } &    0.770  \\\\\n",
       "\\textbf{Skew:}          & -0.341 & \\textbf{  Prob(JB):          } &    0.680  \\\\\n",
       "\\textbf{Kurtosis:}      &  1.898 & \\textbf{  Cond. No.          } &     16.3  \\\\\n",
       "\\bottomrule\n",
       "\\end{tabular}\n",
       "%\\caption{OLS Regression Results}\n",
       "\\end{center}\n",
       "\n",
       "Notes: \\newline\n",
       " [1] R² is computed without centering (uncentered) since the model does not contain a constant. \\newline\n",
       " [2] Standard Errors assume that the covariance matrix of the errors is correctly specified."
      ],
      "text/plain": [
       "<class 'statsmodels.iolib.summary.Summary'>\n",
       "\"\"\"\n",
       "                                 OLS Regression Results                                \n",
       "=======================================================================================\n",
       "Dep. Variable:                    매출액   R-squared (uncentered):                   0.942\n",
       "Model:                            OLS   Adj. R-squared (uncentered):              0.929\n",
       "Method:                 Least Squares   F-statistic:                              72.52\n",
       "Date:                Fri, 19 Apr 2024   Prob (F-statistic):                    2.82e-06\n",
       "Time:                        05:17:44   Log-Likelihood:                         -34.476\n",
       "No. Observations:                  11   AIC:                                      72.95\n",
       "Df Residuals:                       9   BIC:                                      73.75\n",
       "Df Model:                           2                                                  \n",
       "Covariance Type:            nonrobust                                                  \n",
       "==============================================================================\n",
       "                 coef    std err          t      P>|t|      [0.025      0.975]\n",
       "------------------------------------------------------------------------------\n",
       "광고횟수           2.6259      0.363      7.227      0.000       1.804       3.448\n",
       "광고비            3.1597      3.839      0.823      0.432      -5.526      11.845\n",
       "==============================================================================\n",
       "Omnibus:                        1.050   Durbin-Watson:                   0.252\n",
       "Prob(Omnibus):                  0.592   Jarque-Bera (JB):                0.770\n",
       "Skew:                          -0.341   Prob(JB):                        0.680\n",
       "Kurtosis:                       1.898   Cond. No.                         16.3\n",
       "==============================================================================\n",
       "\n",
       "Notes:\n",
       "[1] R² is computed without centering (uncentered) since the model does not contain a constant.\n",
       "[2] Standard Errors assume that the covariance matrix of the errors is correctly specified.\n",
       "\"\"\""
      ]
     },
     "execution_count": 87,
     "metadata": {},
     "output_type": "execute_result"
    }
   ],
   "source": [
    "# df['광고비'] = df['광고비'].map({'낮음':0, '높음':1})\n",
    "\n",
    "y = df['매출액']\n",
    "X = df.drop('매출액',axis=1)\n",
    "sm.add_constant(X) \n",
    "model = sm.OLS(y, X).fit()\n",
    "model.summary()"
   ]
  },
  {
   "cell_type": "markdown",
   "id": "1ee92095-171b-416e-a90c-eab54b0e002b",
   "metadata": {},
   "source": [
    "F의 p-value가 0.05보다 작으므로 회귀식 유효"
   ]
  },
  {
   "cell_type": "markdown",
   "id": "2928685b-ed6e-4fe4-9b9a-9c11203fcd26",
   "metadata": {},
   "source": [
    "# 24회기출2\n",
    "각unique별로 12개의 제품을 추출하여 구한 정보가 A생산라인의 제품 평균은 5.7mm이고 표준편차는 0.03, B생산라인의 제품 평균은 5.6mm이고 표준편차는 0.04라면 5%유의수준으로 두 제품의 평균이 차이가 있는지 여부를 검정하기 Z(0.05) = 1.65\n",
    "\n",
    "1 귀무가설과 대립가설을 세워라\n",
    "\n",
    "2 두 평균이 차이가 있는지 검정하라"
   ]
  },
  {
   "cell_type": "code",
   "execution_count": null,
   "id": "0baeb7cb-c4ed-47fb-8a19-b395ffe061cb",
   "metadata": {},
   "outputs": [],
   "source": []
  },
  {
   "cell_type": "markdown",
   "id": "31e653b5-59bb-45ba-be0c-ac26221abc0c",
   "metadata": {},
   "source": [
    "# 24회기출3\n",
    "바이러스 감염 분류표를 보고 베이지안 분류 방법을 사용해 양성으로 예측된 사람이 실제로 양성일 확률을 구하라"
   ]
  },
  {
   "cell_type": "code",
   "execution_count": 46,
   "id": "cd526278-37ca-475b-bf34-ce33765d900c",
   "metadata": {},
   "outputs": [
    {
     "data": {
      "text/html": [
       "<div>\n",
       "<style scoped>\n",
       "    .dataframe tbody tr th:only-of-type {\n",
       "        vertical-align: middle;\n",
       "    }\n",
       "\n",
       "    .dataframe tbody tr th {\n",
       "        vertical-align: top;\n",
       "    }\n",
       "\n",
       "    .dataframe thead th {\n",
       "        text-align: right;\n",
       "    }\n",
       "</style>\n",
       "<table border=\"1\" class=\"dataframe\">\n",
       "  <thead>\n",
       "    <tr style=\"text-align: right;\">\n",
       "      <th></th>\n",
       "      <th>양성(실제)</th>\n",
       "      <th>음성(실제)</th>\n",
       "    </tr>\n",
       "  </thead>\n",
       "  <tbody>\n",
       "    <tr>\n",
       "      <th>양성(예측)</th>\n",
       "      <td>370</td>\n",
       "      <td>10</td>\n",
       "    </tr>\n",
       "    <tr>\n",
       "      <th>음성(예측)</th>\n",
       "      <td>10</td>\n",
       "      <td>690</td>\n",
       "    </tr>\n",
       "  </tbody>\n",
       "</table>\n",
       "</div>"
      ],
      "text/plain": [
       "        양성(실제)  음성(실제)\n",
       "양성(예측)     370      10\n",
       "음성(예측)      10     690"
      ]
     },
     "execution_count": 46,
     "metadata": {},
     "output_type": "execute_result"
    }
   ],
   "source": [
    "data = pd.DataFrame({'양성(실제)':[370,10],'음성(실제)':[10,690]},index = ['양성(예측)','음성(예측)'])\n",
    "data"
   ]
  },
  {
   "cell_type": "code",
   "execution_count": 47,
   "id": "583dfc3b-97e5-4436-86da-0e2b73adb6d3",
   "metadata": {},
   "outputs": [
    {
     "data": {
      "text/plain": [
       "0.9736842105263158"
      ]
     },
     "execution_count": 47,
     "metadata": {},
     "output_type": "execute_result"
    }
   ],
   "source": [
    "370/380"
   ]
  },
  {
   "cell_type": "markdown",
   "id": "b4ee7edf-e2b2-4228-9bb9-18cdd4987310",
   "metadata": {},
   "source": [
    "# 24회기출4\n",
    "주어진 데이터에서 신뢰구간을 구하려한다\n",
    "정규분포에서 표본을 추출함\n",
    "- Z(0.05) = -1.65 , Z(0.025) = -1.96, T(0.05, 8) = 1.860 , T0.025(0.025, 8) = 2.306\n",
    "- 데이터(9개) : [3.1, 3.3, 3.5, 3.7, 3.9, 4.1, 4.3 4.4, 4.7]\n",
    "\n",
    "1 모분산을 모르는 경우 주어진 데이터의 95% 신뢰구간을 구하라\n",
    "\n",
    "2 sigma = 0.04인걸 알고 있을때의 95% 신뢰구간을 구하라"
   ]
  },
  {
   "cell_type": "code",
   "execution_count": 49,
   "id": "8e34530d-0949-4819-91ae-b3372cd75c51",
   "metadata": {},
   "outputs": [
    {
     "data": {
      "text/plain": [
       "(3.7790630162612144, 3.9987147615165632)"
      ]
     },
     "execution_count": 49,
     "metadata": {},
     "output_type": "execute_result"
    }
   ],
   "source": [
    "import numpy as np\n",
    "data = np.array([3.1, 3.3, 3.5, 3.7, 3.9, 4.1, 4.3, 4.4, 4.7])\n",
    "m,s,n = data.mean(), data.std(), len(data)\n",
    "me = 1.96 * s/n\n",
    "conf = m-me,m+me\n",
    "conf"
   ]
  },
  {
   "cell_type": "markdown",
   "id": "69178ce0-3498-435f-b97a-636d82d06acf",
   "metadata": {},
   "source": [
    "# 25회기출1\n",
    "서울에서 영동까지 100km/h로 가고 영동에서 서울까지 80km/로 돌아왔을 때, 평균 속도는?"
   ]
  },
  {
   "cell_type": "code",
   "execution_count": 53,
   "id": "69327a58-5d93-485f-9374-dd8c73a857dc",
   "metadata": {},
   "outputs": [
    {
     "data": {
      "text/plain": [
       "88.88888888888889"
      ]
     },
     "execution_count": 53,
     "metadata": {},
     "output_type": "execute_result"
    }
   ],
   "source": [
    "(100*80)*2/(100+80)"
   ]
  },
  {
   "cell_type": "code",
   "execution_count": null,
   "id": "8e1113a1-6201-4385-8c6b-cb9a47468530",
   "metadata": {},
   "outputs": [],
   "source": []
  }
 ],
 "metadata": {
  "kernelspec": {
   "display_name": "Python 3 (ipykernel)",
   "language": "python",
   "name": "python3"
  },
  "language_info": {
   "codemirror_mode": {
    "name": "ipython",
    "version": 3
   },
   "file_extension": ".py",
   "mimetype": "text/x-python",
   "name": "python",
   "nbconvert_exporter": "python",
   "pygments_lexer": "ipython3",
   "version": "3.10.9"
  }
 },
 "nbformat": 4,
 "nbformat_minor": 5
}
