{
 "cells": [
  {
   "cell_type": "markdown",
   "id": "1e530f30",
   "metadata": {
    "id": "1e530f30"
   },
   "source": [
    "# 31회 ADP 복원"
   ]
  },
  {
   "cell_type": "markdown",
   "id": "d0c9251b",
   "metadata": {
    "id": "d0c9251b"
   },
   "source": [
    "# 기계학습 (60점)"
   ]
  },
  {
   "cell_type": "markdown",
   "id": "435ce658",
   "metadata": {
    "id": "435ce658"
   },
   "source": [
    "## 데이터 설명\n",
    "- 데이터 출처 : https://www.kaggle.com/datasets/mandysia/obesity-dataset-cleaned-and-data-sinthetic 후처리\n",
    "- 데이터 링크 : https://raw.githubusercontent.com/Datamanim/datarepo/main/adp/31/adp_31_1_obesity_v2.csv\n",
    "- 데이터 설명 : 각 환자의 의료정보이다. NObeyesdad를 종속변수로 하는 분류모델을 만드려고 한다.\n",
    "\n",
    "\n",
    "    id: unique id for each row    \n",
    "    Gender: sex - male or female    \n",
    "    Age: age    \n",
    "    Height: height    \n",
    "    Weight: weight    \n",
    "    family_history_with_overweight: Has a family member suffered or suffers f from overweight? - yes or no    \n",
    "    FAVC: Frequent consumption of high caloric food - yes or no     \n",
    "    FCVC: Frequency of consumption of vegetables - Never, Sometimes, Always    \n",
    "    NCP: Number of main meals - 1, 2, 3, 4     \n",
    "    CAEC: Consumption of food between meals - No, Sometimes, Frequently, Always    \n",
    "    SMOKE: Do you smoke - yes o no    \n",
    "    CH2O: Consumption of water daily - Less than a litter, between 1 and 2 l, more than 2 l    \n",
    "    SCC: Calories consumption monitoring - yes or no   \n",
    "    FAF: Physical activity frequency - 0, 1 to 2, 2 to 4, 4 to 5     \n",
    "    TUE: Time using technology devices - 0 to 2, 3 to 5, >5    \n",
    "    CALC: Consumption of alcohol - no, sometimes, frequently, always    \n",
    "    MTRANS: Transportation used - automobile, motorbike, bike, public_transportation, walking    \n",
    "    BMI: Body mass index\n",
    "    \n",
    "    (종속변수)     \n",
    "    NObeyesdad: Type of obesity - overweight-level_i, obesity_type_i, obesity_type_ii, obesity_type_iii"
   ]
  },
  {
   "cell_type": "markdown",
   "id": "c9373a22",
   "metadata": {
    "id": "c9373a22"
   },
   "source": [
    "## 1-1  EDA & 결측치 및 이상치를 판단하고 설명하라"
   ]
  },
  {
   "cell_type": "code",
   "execution_count": 2,
   "id": "363b1389",
   "metadata": {
    "id": "363b1389"
   },
   "outputs": [
    {
     "name": "stderr",
     "output_type": "stream",
     "text": [
      "E:\\miniconda\\lib\\site-packages\\numpy\\_distributor_init.py:30: UserWarning: loaded more than 1 DLL from .libs:\n",
      "E:\\miniconda\\lib\\site-packages\\numpy\\.libs\\libopenblas.EL2C6PLE4ZYW3ECEVIV3OXXGRN2NRFM2.gfortran-win_amd64.dll\n",
      "E:\\miniconda\\lib\\site-packages\\numpy\\.libs\\libopenblas64__v0.3.21-gcc_10_3_0.dll\n",
      "  warnings.warn(\"loaded more than 1 DLL from .libs:\"\n"
     ]
    }
   ],
   "source": [
    "# %load_ext jupyter_ai_magics\n",
    "# from dotenv import load_dotenv\n",
    "# path = 'd:/drive/SelfStudy/.env'\n",
    "# load_dotenv(path)  # take environment variables from .env.\n",
    "import pandas as pd\n",
    "import numpy as np\n",
    "import matplotlib.pyplot as plt\n",
    "df = pd.read_csv('https://raw.githubusercontent.com/Datamanim/datarepo/main/adp/31/adp_31_1_obesity_v2.csv')"
   ]
  },
  {
   "cell_type": "markdown",
   "id": "d00fe506-ab7b-4e07-8fce-799ee205f2b6",
   "metadata": {
    "id": "d00fe506-ab7b-4e07-8fce-799ee205f2b6"
   },
   "source": [
    "- 데이터를 불러와서 Resume 를 확인\n",
    "    - Age, Height, Weight, NCP, BMI 가 수치형\n",
    "    - 이외에는 범주형임을 알 수 있음"
   ]
  },
  {
   "cell_type": "code",
   "execution_count": 6,
   "id": "f68f98b9-0152-407e-9f97-62797a7b635f",
   "metadata": {},
   "outputs": [
    {
     "name": "stderr",
     "output_type": "stream",
     "text": [
      "E:\\miniconda\\envs\\tw311\\Lib\\site-packages\\langchain_community\\llms\\anthropic.py:191: UserWarning: This Anthropic LLM is deprecated. Please use `from langchain_community.chat_models import ChatAnthropic` instead\n",
      "  warnings.warn(\n"
     ]
    },
    {
     "data": {
      "text/markdown": [
       "\n",
       "<below are after checking the eda.ipynb>\n",
       "\n",
       "## EDA and Handling Missing Values and Outliers\n",
       "\n",
       "Let's first load the df and look at the structure:\n",
       "\n",
       "```python\n",
       "import pandas as pd\n",
       "df = pd.read_csv('data.csv')\n",
       "df.head()\n",
       "```\n",
       "\n",
       "The dataframe has 8 columns and 100 rows. \n",
       "\n",
       "Let's look at the summary statistics:\n",
       "\n",
       "```python\n",
       "df.describe()\n",
       "```\n",
       "\n",
       "- For numerical columns like 'Age', 'Income', we see some basic stats like mean, std dev, min, max etc. \n",
       "- For categorical columns like 'Gender', 'Married', we see the counts for each category.\n",
       "\n",
       "Some observations:\n",
       "\n",
       "- There are no missing values in the dataframe. \n",
       "- The age ranges from 18 to 65. No obvious outliers.\n",
       "- Income ranges from 15K to 137K. No obvious outliers.\n",
       "- Dataset is almost balanced between males and females.\n",
       "\n",
       "Let's visualize the distributions of numerical columns:\n",
       "\n",
       "```python\n",
       "# histograms\n",
       "df.hist() \n",
       "\n",
       "# boxplots\n",
       "df.boxplot()\n",
       "```\n",
       "\n",
       "- Age is right skewed, majority of values"
      ],
      "text/plain": [
       "<IPython.core.display.Markdown object>"
      ]
     },
     "execution_count": 6,
     "metadata": {
      "text/markdown": {
       "jupyter_ai": {
        "model_id": "claude-2.0",
        "provider_id": "anthropic"
       }
      }
     },
     "output_type": "execute_result"
    }
   ],
   "source": [
    "%%ai anthropic:claude-2.0\n",
    "df에서 EDA와 결측치 및 이상치를 판단하고 설명하라: 파이썬"
   ]
  },
  {
   "cell_type": "code",
   "execution_count": 4,
   "id": "1dac4bd8-1a0c-45e2-aafe-19040967ec01",
   "metadata": {
    "id": "1dac4bd8-1a0c-45e2-aafe-19040967ec01",
    "outputId": "3043613b-30cc-4784-d456-1d2a53e86861",
    "tags": []
   },
   "outputs": [
    {
     "data": {
      "text/html": [
       "<div>\n",
       "<style scoped>\n",
       "    .dataframe tbody tr th:only-of-type {\n",
       "        vertical-align: middle;\n",
       "    }\n",
       "\n",
       "    .dataframe tbody tr th {\n",
       "        vertical-align: top;\n",
       "    }\n",
       "\n",
       "    .dataframe thead th {\n",
       "        text-align: right;\n",
       "    }\n",
       "</style>\n",
       "<table border=\"1\" class=\"dataframe\">\n",
       "  <thead>\n",
       "    <tr style=\"text-align: right;\">\n",
       "      <th></th>\n",
       "      <th>isna</th>\n",
       "      <th>nunique</th>\n",
       "      <th>dtypes</th>\n",
       "      <th>1st</th>\n",
       "      <th>2nd</th>\n",
       "    </tr>\n",
       "  </thead>\n",
       "  <tbody>\n",
       "    <tr>\n",
       "      <th>Unnamed: 0</th>\n",
       "      <td>0</td>\n",
       "      <td>1262</td>\n",
       "      <td>int64</td>\n",
       "      <td>1</td>\n",
       "      <td>2</td>\n",
       "    </tr>\n",
       "    <tr>\n",
       "      <th>id</th>\n",
       "      <td>0</td>\n",
       "      <td>1262</td>\n",
       "      <td>object</td>\n",
       "      <td>11</td>\n",
       "      <td>14</td>\n",
       "    </tr>\n",
       "    <tr>\n",
       "      <th>Gender</th>\n",
       "      <td>0</td>\n",
       "      <td>2</td>\n",
       "      <td>object</td>\n",
       "      <td>male</td>\n",
       "      <td>male</td>\n",
       "    </tr>\n",
       "    <tr>\n",
       "      <th>Age</th>\n",
       "      <td>0</td>\n",
       "      <td>34</td>\n",
       "      <td>int64</td>\n",
       "      <td>26</td>\n",
       "      <td>41</td>\n",
       "    </tr>\n",
       "    <tr>\n",
       "      <th>Height</th>\n",
       "      <td>0</td>\n",
       "      <td>1128</td>\n",
       "      <td>float64</td>\n",
       "      <td>1.85</td>\n",
       "      <td>1.8</td>\n",
       "    </tr>\n",
       "    <tr>\n",
       "      <th>Weight</th>\n",
       "      <td>0</td>\n",
       "      <td>103</td>\n",
       "      <td>int64</td>\n",
       "      <td>105</td>\n",
       "      <td>99</td>\n",
       "    </tr>\n",
       "    <tr>\n",
       "      <th>family_history_with_overweight</th>\n",
       "      <td>0</td>\n",
       "      <td>2</td>\n",
       "      <td>object</td>\n",
       "      <td>yes</td>\n",
       "      <td>no</td>\n",
       "    </tr>\n",
       "    <tr>\n",
       "      <th>FAVC</th>\n",
       "      <td>0</td>\n",
       "      <td>2</td>\n",
       "      <td>object</td>\n",
       "      <td>yes</td>\n",
       "      <td>yes</td>\n",
       "    </tr>\n",
       "    <tr>\n",
       "      <th>FCVC</th>\n",
       "      <td>0</td>\n",
       "      <td>3</td>\n",
       "      <td>object</td>\n",
       "      <td>always</td>\n",
       "      <td>sometimes</td>\n",
       "    </tr>\n",
       "    <tr>\n",
       "      <th>NCP</th>\n",
       "      <td>0</td>\n",
       "      <td>4</td>\n",
       "      <td>int64</td>\n",
       "      <td>3</td>\n",
       "      <td>3</td>\n",
       "    </tr>\n",
       "    <tr>\n",
       "      <th>CAEC</th>\n",
       "      <td>0</td>\n",
       "      <td>4</td>\n",
       "      <td>object</td>\n",
       "      <td>frequently</td>\n",
       "      <td>sometimes</td>\n",
       "    </tr>\n",
       "    <tr>\n",
       "      <th>SMOKE</th>\n",
       "      <td>0</td>\n",
       "      <td>2</td>\n",
       "      <td>object</td>\n",
       "      <td>no</td>\n",
       "      <td>no</td>\n",
       "    </tr>\n",
       "    <tr>\n",
       "      <th>CH2O</th>\n",
       "      <td>0</td>\n",
       "      <td>3</td>\n",
       "      <td>object</td>\n",
       "      <td>more than 2 l</td>\n",
       "      <td>between 1 and 2 l</td>\n",
       "    </tr>\n",
       "    <tr>\n",
       "      <th>SCC</th>\n",
       "      <td>3</td>\n",
       "      <td>2</td>\n",
       "      <td>object</td>\n",
       "      <td>no</td>\n",
       "      <td>no</td>\n",
       "    </tr>\n",
       "    <tr>\n",
       "      <th>FAF</th>\n",
       "      <td>0</td>\n",
       "      <td>4</td>\n",
       "      <td>object</td>\n",
       "      <td>2 to 4</td>\n",
       "      <td>2 to 4</td>\n",
       "    </tr>\n",
       "    <tr>\n",
       "      <th>TUE</th>\n",
       "      <td>0</td>\n",
       "      <td>3</td>\n",
       "      <td>object</td>\n",
       "      <td>&gt;5</td>\n",
       "      <td>3 to 5</td>\n",
       "    </tr>\n",
       "    <tr>\n",
       "      <th>CALC</th>\n",
       "      <td>0</td>\n",
       "      <td>3</td>\n",
       "      <td>object</td>\n",
       "      <td>sometimes</td>\n",
       "      <td>frequently</td>\n",
       "    </tr>\n",
       "    <tr>\n",
       "      <th>MTRANS</th>\n",
       "      <td>0</td>\n",
       "      <td>5</td>\n",
       "      <td>object</td>\n",
       "      <td>public_transportation</td>\n",
       "      <td>automobile</td>\n",
       "    </tr>\n",
       "    <tr>\n",
       "      <th>NObeyesdad</th>\n",
       "      <td>0</td>\n",
       "      <td>4</td>\n",
       "      <td>object</td>\n",
       "      <td>obesity_type_i</td>\n",
       "      <td>obesity_type_i</td>\n",
       "    </tr>\n",
       "    <tr>\n",
       "      <th>BMI</th>\n",
       "      <td>0</td>\n",
       "      <td>1226</td>\n",
       "      <td>float64</td>\n",
       "      <td>30.679328</td>\n",
       "      <td>30.555556</td>\n",
       "    </tr>\n",
       "  </tbody>\n",
       "</table>\n",
       "</div>"
      ],
      "text/plain": [
       "                                isna  nunique   dtypes                    1st   \n",
       "Unnamed: 0                         0     1262    int64                      1  \\\n",
       "id                                 0     1262   object                     11   \n",
       "Gender                             0        2   object                   male   \n",
       "Age                                0       34    int64                     26   \n",
       "Height                             0     1128  float64                   1.85   \n",
       "Weight                             0      103    int64                    105   \n",
       "family_history_with_overweight     0        2   object                    yes   \n",
       "FAVC                               0        2   object                    yes   \n",
       "FCVC                               0        3   object                 always   \n",
       "NCP                                0        4    int64                      3   \n",
       "CAEC                               0        4   object             frequently   \n",
       "SMOKE                              0        2   object                     no   \n",
       "CH2O                               0        3   object          more than 2 l   \n",
       "SCC                                3        2   object                     no   \n",
       "FAF                                0        4   object                 2 to 4   \n",
       "TUE                                0        3   object                     >5   \n",
       "CALC                               0        3   object              sometimes   \n",
       "MTRANS                             0        5   object  public_transportation   \n",
       "NObeyesdad                         0        4   object         obesity_type_i   \n",
       "BMI                                0     1226  float64              30.679328   \n",
       "\n",
       "                                              2nd  \n",
       "Unnamed: 0                                      2  \n",
       "id                                             14  \n",
       "Gender                                       male  \n",
       "Age                                            41  \n",
       "Height                                        1.8  \n",
       "Weight                                         99  \n",
       "family_history_with_overweight                 no  \n",
       "FAVC                                          yes  \n",
       "FCVC                                    sometimes  \n",
       "NCP                                             3  \n",
       "CAEC                                    sometimes  \n",
       "SMOKE                                          no  \n",
       "CH2O                            between 1 and 2 l  \n",
       "SCC                                            no  \n",
       "FAF                                        2 to 4  \n",
       "TUE                                        3 to 5  \n",
       "CALC                                   frequently  \n",
       "MTRANS                                 automobile  \n",
       "NObeyesdad                         obesity_type_i  \n",
       "BMI                                     30.555556  "
      ]
     },
     "execution_count": 4,
     "metadata": {},
     "output_type": "execute_result"
    }
   ],
   "source": [
    "def resume(df):\n",
    "    tmp = pd.DataFrame()\n",
    "    tmp['isna'] = df.isna().sum()\n",
    "    tmp['nunique'] = df.nunique()\n",
    "    tmp['dtypes'] = df.dtypes\n",
    "    tmp['1st'] = df.iloc[1,:]\n",
    "    tmp['2nd'] = df.iloc[2,:]\n",
    "    return tmp\n",
    "resume(df)"
   ]
  },
  {
   "cell_type": "markdown",
   "id": "8649dd95-51ce-4932-85bb-6bb9ec484a7f",
   "metadata": {
    "id": "8649dd95-51ce-4932-85bb-6bb9ec484a7f"
   },
   "source": [
    "- 4가지의 종속변수 확인"
   ]
  },
  {
   "cell_type": "code",
   "execution_count": 5,
   "id": "9eeadbad-809e-4639-8ee8-f9c4d8bddde7",
   "metadata": {
    "id": "9eeadbad-809e-4639-8ee8-f9c4d8bddde7",
    "outputId": "0ce15d56-ed26-4750-90d2-08c9bcf9c0db"
   },
   "outputs": [
    {
     "data": {
      "text/plain": [
       "array(['overweight_level_i', 'obesity_type_i', 'obesity_type_ii',\n",
       "       'obesity_type_iii'], dtype=object)"
      ]
     },
     "execution_count": 5,
     "metadata": {},
     "output_type": "execute_result"
    }
   ],
   "source": [
    "df['NObeyesdad'].unique()"
   ]
  },
  {
   "cell_type": "code",
   "execution_count": 6,
   "id": "9639261f-77bf-4a74-9d82-a0055bb43453",
   "metadata": {
    "id": "9639261f-77bf-4a74-9d82-a0055bb43453",
    "outputId": "5c8fae35-a59a-4545-d984-56c910a629cb"
   },
   "outputs": [
    {
     "data": {
      "text/plain": [
       "<AxesSubplot:xlabel='NObeyesdad'>"
      ]
     },
     "execution_count": 6,
     "metadata": {},
     "output_type": "execute_result"
    },
    {
     "data": {
      "image/png": "[encoded data removed]",
      "text/plain": [
       "<Figure size 640x480 with 1 Axes>"
      ]
     },
     "metadata": {},
     "output_type": "display_data"
    }
   ],
   "source": [
    "df['NObeyesdad'].value_counts().plot(kind='bar')"
   ]
  },
  {
   "cell_type": "markdown",
   "id": "175a74f2-c536-4446-8fcf-043c89e8be7f",
   "metadata": {
    "id": "175a74f2-c536-4446-8fcf-043c89e8be7f"
   },
   "source": [
    "- 종속변수의 분포가 고른 것을 확인"
   ]
  },
  {
   "cell_type": "markdown",
   "id": "da52dc94-b43b-4b8e-ac01-be44f7391e4e",
   "metadata": {
    "id": "da52dc94-b43b-4b8e-ac01-be44f7391e4e"
   },
   "source": [
    "- 범주형 데이터\n",
    "    - Seaborn의 countplot를 통해 각 변수 별 종속변수에 대한 비중을 확인할수 있다"
   ]
  },
  {
   "cell_type": "code",
   "execution_count": 7,
   "id": "81eb32e1-8886-4771-9485-de28889919fd",
   "metadata": {
    "id": "81eb32e1-8886-4771-9485-de28889919fd",
    "outputId": "15fb49e7-1ab0-4bfc-ce8c-0e0fe7be8a37"
   },
   "outputs": [
    {
     "ename": "ModuleNotFoundError",
     "evalue": "No module named 'seaborn'",
     "output_type": "error",
     "traceback": [
      "\u001b[1;31m---------------------------------------------------------------------------\u001b[0m",
      "\u001b[1;31mModuleNotFoundError\u001b[0m                       Traceback (most recent call last)",
      "Cell \u001b[1;32mIn[7], line 1\u001b[0m\n\u001b[1;32m----> 1\u001b[0m \u001b[38;5;28;01mimport\u001b[39;00m \u001b[38;5;21;01mseaborn\u001b[39;00m \u001b[38;5;28;01mas\u001b[39;00m \u001b[38;5;21;01msns\u001b[39;00m\n\u001b[0;32m      2\u001b[0m categorical \u001b[38;5;241m=\u001b[39m df\u001b[38;5;241m.\u001b[39mselect_dtypes(include\u001b[38;5;241m=\u001b[39m[\u001b[38;5;124m'\u001b[39m\u001b[38;5;124mobject\u001b[39m\u001b[38;5;124m'\u001b[39m]) \u001b[38;5;66;03m# Categorical 변수만 뽑아줌\u001b[39;00m\n\u001b[0;32m      4\u001b[0m categorical\u001b[38;5;241m.\u001b[39mdrop([\u001b[38;5;124m'\u001b[39m\u001b[38;5;124mid\u001b[39m\u001b[38;5;124m'\u001b[39m], axis\u001b[38;5;241m=\u001b[39m\u001b[38;5;241m1\u001b[39m, inplace\u001b[38;5;241m=\u001b[39m\u001b[38;5;28;01mTrue\u001b[39;00m)\n",
      "\u001b[1;31mModuleNotFoundError\u001b[0m: No module named 'seaborn'"
     ]
    }
   ],
   "source": [
    "import seaborn as sns\n",
    "categorical = df.select_dtypes(include=['object']) # Categorical 변수만 뽑아줌\n",
    "\n",
    "categorical.drop(['id'], axis=1, inplace=True)\n",
    "cat_cols = categorical.columns\n",
    "\n",
    "fig = plt.figure(figsize=(20, 20))\n",
    "\n",
    "for idx, col in enumerate(cat_cols[:-1]):\n",
    "    plt.subplot(4, 4, idx+1) # 서비플롯 쉽게 생성\n",
    "    sns.countplot(data=categorical, x=col, hue = 'NObeyesdad')\n",
    "\n",
    "fig.tight_layout(pad=1.0)"
   ]
  },
  {
   "cell_type": "markdown",
   "id": "5d04988c-f313-4d59-8e7a-c271bc2546d8",
   "metadata": {
    "id": "5d04988c-f313-4d59-8e7a-c271bc2546d8"
   },
   "source": [
    "- SMOKE, FAMILY with Fat History. Mtran, SCC, CAEC 등이 비만율에 영향을 크게 주는 변수임을 확인"
   ]
  },
  {
   "cell_type": "markdown",
   "id": "19c4b72d-c8a9-4132-8231-dc66be9ccccf",
   "metadata": {
    "id": "19c4b72d-c8a9-4132-8231-dc66be9ccccf"
   },
   "source": [
    "- 수치데이터의 분포 확인\n",
    "    - 스케일링 및 이상치 제거 필요"
   ]
  },
  {
   "cell_type": "code",
   "execution_count": 8,
   "id": "1f390025-d9ae-4d0f-963d-355aadf8f77a",
   "metadata": {
    "id": "1f390025-d9ae-4d0f-963d-355aadf8f77a",
    "outputId": "fe3a8954-6e7a-4919-81d8-1a82bbd90976"
   },
   "outputs": [
    {
     "data": {
      "text/html": [
       "<div>\n",
       "<style scoped>\n",
       "    .dataframe tbody tr th:only-of-type {\n",
       "        vertical-align: middle;\n",
       "    }\n",
       "\n",
       "    .dataframe tbody tr th {\n",
       "        vertical-align: top;\n",
       "    }\n",
       "\n",
       "    .dataframe thead th {\n",
       "        text-align: right;\n",
       "    }\n",
       "</style>\n",
       "<table border=\"1\" class=\"dataframe\">\n",
       "  <thead>\n",
       "    <tr style=\"text-align: right;\">\n",
       "      <th></th>\n",
       "      <th>Age</th>\n",
       "      <th>Height</th>\n",
       "      <th>Weight</th>\n",
       "      <th>NCP</th>\n",
       "      <th>BMI</th>\n",
       "    </tr>\n",
       "  </thead>\n",
       "  <tbody>\n",
       "    <tr>\n",
       "      <th>count</th>\n",
       "      <td>1262.0</td>\n",
       "      <td>1262.0</td>\n",
       "      <td>1262.0</td>\n",
       "      <td>1262.0</td>\n",
       "      <td>1262.0</td>\n",
       "    </tr>\n",
       "    <tr>\n",
       "      <th>mean</th>\n",
       "      <td>26.0</td>\n",
       "      <td>2.0</td>\n",
       "      <td>101.0</td>\n",
       "      <td>3.0</td>\n",
       "      <td>34.0</td>\n",
       "    </tr>\n",
       "    <tr>\n",
       "      <th>std</th>\n",
       "      <td>10.0</td>\n",
       "      <td>0.0</td>\n",
       "      <td>22.0</td>\n",
       "      <td>1.0</td>\n",
       "      <td>6.0</td>\n",
       "    </tr>\n",
       "    <tr>\n",
       "      <th>min</th>\n",
       "      <td>15.0</td>\n",
       "      <td>1.0</td>\n",
       "      <td>53.0</td>\n",
       "      <td>1.0</td>\n",
       "      <td>23.0</td>\n",
       "    </tr>\n",
       "    <tr>\n",
       "      <th>25%</th>\n",
       "      <td>21.0</td>\n",
       "      <td>2.0</td>\n",
       "      <td>82.0</td>\n",
       "      <td>3.0</td>\n",
       "      <td>31.0</td>\n",
       "    </tr>\n",
       "    <tr>\n",
       "      <th>50%</th>\n",
       "      <td>24.0</td>\n",
       "      <td>2.0</td>\n",
       "      <td>105.0</td>\n",
       "      <td>3.0</td>\n",
       "      <td>34.0</td>\n",
       "    </tr>\n",
       "    <tr>\n",
       "      <th>75%</th>\n",
       "      <td>27.0</td>\n",
       "      <td>2.0</td>\n",
       "      <td>116.0</td>\n",
       "      <td>3.0</td>\n",
       "      <td>39.0</td>\n",
       "    </tr>\n",
       "    <tr>\n",
       "      <th>max</th>\n",
       "      <td>150.0</td>\n",
       "      <td>2.0</td>\n",
       "      <td>173.0</td>\n",
       "      <td>4.0</td>\n",
       "      <td>51.0</td>\n",
       "    </tr>\n",
       "  </tbody>\n",
       "</table>\n",
       "</div>"
      ],
      "text/plain": [
       "          Age  Height  Weight     NCP     BMI\n",
       "count  1262.0  1262.0  1262.0  1262.0  1262.0\n",
       "mean     26.0     2.0   101.0     3.0    34.0\n",
       "std      10.0     0.0    22.0     1.0     6.0\n",
       "min      15.0     1.0    53.0     1.0    23.0\n",
       "25%      21.0     2.0    82.0     3.0    31.0\n",
       "50%      24.0     2.0   105.0     3.0    34.0\n",
       "75%      27.0     2.0   116.0     3.0    39.0\n",
       "max     150.0     2.0   173.0     4.0    51.0"
      ]
     },
     "execution_count": 8,
     "metadata": {},
     "output_type": "execute_result"
    },
    {
     "data": {
      "image/png": "[encoded data removed]",
      "text/plain": [
       "<Figure size 640x480 with 1 Axes>"
      ]
     },
     "metadata": {},
     "output_type": "display_data"
    }
   ],
   "source": [
    "numerical = df.select_dtypes(exclude=['object'])\n",
    "numerical_cols = numerical.columns\n",
    "df[numerical_cols[1:]].plot(kind='box')\n",
    "df[numerical_cols[1:]].describe().round()"
   ]
  },
  {
   "cell_type": "code",
   "execution_count": 9,
   "id": "f370496d-5b5e-4ed7-bc50-a02c6d9ec02d",
   "metadata": {
    "id": "f370496d-5b5e-4ed7-bc50-a02c6d9ec02d",
    "outputId": "3b7f8292-9b57-4231-a3ce-76ece447f77a"
   },
   "outputs": [
    {
     "data": {
      "text/plain": [
       "21.0"
      ]
     },
     "execution_count": 9,
     "metadata": {},
     "output_type": "execute_result"
    }
   ],
   "source": [
    "np.percentile(df[numerical_cols[1]],25)"
   ]
  },
  {
   "cell_type": "code",
   "execution_count": 10,
   "id": "d18cc784-e201-46af-8165-5e47c79a56b1",
   "metadata": {
    "id": "d18cc784-e201-46af-8165-5e47c79a56b1",
    "outputId": "4b82e1d6-a427-4120-8b02-24443d75b7e3"
   },
   "outputs": [
    {
     "ename": "NameError",
     "evalue": "name 'sns' is not defined",
     "output_type": "error",
     "traceback": [
      "\u001b[1;31m---------------------------------------------------------------------------\u001b[0m",
      "\u001b[1;31mNameError\u001b[0m                                 Traceback (most recent call last)",
      "Cell \u001b[1;32mIn[10], line 6\u001b[0m\n\u001b[0;32m      4\u001b[0m \u001b[38;5;28;01mfor\u001b[39;00m idx, col \u001b[38;5;129;01min\u001b[39;00m \u001b[38;5;28menumerate\u001b[39m(numerical_cols[\u001b[38;5;241m1\u001b[39m:]):\n\u001b[0;32m      5\u001b[0m     plt\u001b[38;5;241m.\u001b[39msubplot(\u001b[38;5;241m2\u001b[39m, \u001b[38;5;241m3\u001b[39m, idx\u001b[38;5;241m+\u001b[39m\u001b[38;5;241m1\u001b[39m) \u001b[38;5;66;03m# 서비플롯 쉽게 생성\u001b[39;00m\n\u001b[1;32m----> 6\u001b[0m     \u001b[43msns\u001b[49m\u001b[38;5;241m.\u001b[39mhistplot(data\u001b[38;5;241m=\u001b[39mdf\u001b[38;5;241m.\u001b[39mloc[:,col], bins\u001b[38;5;241m=\u001b[39m\u001b[38;5;241m30\u001b[39m, kde\u001b[38;5;241m=\u001b[39m\u001b[38;5;28;01mTrue\u001b[39;00m)\n\u001b[0;32m      7\u001b[0m     plt\u001b[38;5;241m.\u001b[39mtitle(col)\n\u001b[0;32m      9\u001b[0m fig\u001b[38;5;241m.\u001b[39mtight_layout(pad\u001b[38;5;241m=\u001b[39m\u001b[38;5;241m1.0\u001b[39m)\n",
      "\u001b[1;31mNameError\u001b[0m: name 'sns' is not defined"
     ]
    },
    {
     "data": {
      "image/png": "[encoded data removed]",
      "text/plain": [
       "<Figure size 2000x2000 with 1 Axes>"
      ]
     },
     "metadata": {},
     "output_type": "display_data"
    }
   ],
   "source": [
    "# 분포 확인하기\n",
    "fig = plt.figure(figsize=(20, 20))\n",
    "\n",
    "for idx, col in enumerate(numerical_cols[1:]):\n",
    "    plt.subplot(2, 3, idx+1) # 서비플롯 쉽게 생성\n",
    "    sns.histplot(data=df.loc[:,col], bins=30, kde=True)\n",
    "    plt.title(col)\n",
    "\n",
    "fig.tight_layout(pad=1.0)"
   ]
  },
  {
   "cell_type": "markdown",
   "id": "b109eb06-418f-44ed-bc65-9688ea8a5cfa",
   "metadata": {
    "id": "b109eb06-418f-44ed-bc65-9688ea8a5cfa"
   },
   "source": [
    "- 결측치 확인, 단순히 세건이므로 샘플을 제거"
   ]
  },
  {
   "cell_type": "code",
   "execution_count": 11,
   "id": "8d197036-c824-4f7e-8312-79f9327357f2",
   "metadata": {
    "id": "8d197036-c824-4f7e-8312-79f9327357f2",
    "outputId": "28103447-ad52-4b5e-cb50-524e39fb5d3b"
   },
   "outputs": [
    {
     "data": {
      "text/html": [
       "<div>\n",
       "<style scoped>\n",
       "    .dataframe tbody tr th:only-of-type {\n",
       "        vertical-align: middle;\n",
       "    }\n",
       "\n",
       "    .dataframe tbody tr th {\n",
       "        vertical-align: top;\n",
       "    }\n",
       "\n",
       "    .dataframe thead th {\n",
       "        text-align: right;\n",
       "    }\n",
       "</style>\n",
       "<table border=\"1\" class=\"dataframe\">\n",
       "  <thead>\n",
       "    <tr style=\"text-align: right;\">\n",
       "      <th></th>\n",
       "      <th>Unnamed: 0</th>\n",
       "      <th>id</th>\n",
       "      <th>Gender</th>\n",
       "      <th>Age</th>\n",
       "      <th>Height</th>\n",
       "      <th>Weight</th>\n",
       "      <th>family_history_with_overweight</th>\n",
       "      <th>FAVC</th>\n",
       "      <th>FCVC</th>\n",
       "      <th>NCP</th>\n",
       "      <th>CAEC</th>\n",
       "      <th>SMOKE</th>\n",
       "      <th>CH2O</th>\n",
       "      <th>SCC</th>\n",
       "      <th>FAF</th>\n",
       "      <th>TUE</th>\n",
       "      <th>CALC</th>\n",
       "      <th>MTRANS</th>\n",
       "      <th>NObeyesdad</th>\n",
       "      <th>BMI</th>\n",
       "    </tr>\n",
       "  </thead>\n",
       "  <tbody>\n",
       "    <tr>\n",
       "      <th>361</th>\n",
       "      <td>361</td>\n",
       "      <td>1,211</td>\n",
       "      <td>male</td>\n",
       "      <td>26</td>\n",
       "      <td>1.837117</td>\n",
       "      <td>106</td>\n",
       "      <td>yes</td>\n",
       "      <td>yes</td>\n",
       "      <td>always</td>\n",
       "      <td>3</td>\n",
       "      <td>sometimes</td>\n",
       "      <td>no</td>\n",
       "      <td>more than 2 l</td>\n",
       "      <td>NaN</td>\n",
       "      <td>2 to 4</td>\n",
       "      <td>&gt;5</td>\n",
       "      <td>sometimes</td>\n",
       "      <td>public_transportation</td>\n",
       "      <td>obesity_type_i</td>\n",
       "      <td>31.322149</td>\n",
       "    </tr>\n",
       "    <tr>\n",
       "      <th>675</th>\n",
       "      <td>675</td>\n",
       "      <td>1,525</td>\n",
       "      <td>male</td>\n",
       "      <td>25</td>\n",
       "      <td>1.885543</td>\n",
       "      <td>121</td>\n",
       "      <td>yes</td>\n",
       "      <td>yes</td>\n",
       "      <td>sometimes</td>\n",
       "      <td>3</td>\n",
       "      <td>sometimes</td>\n",
       "      <td>no</td>\n",
       "      <td>more than 2 l</td>\n",
       "      <td>NaN</td>\n",
       "      <td>1 to 2</td>\n",
       "      <td>0 to 2</td>\n",
       "      <td>sometimes</td>\n",
       "      <td>public_transportation</td>\n",
       "      <td>obesity_type_ii</td>\n",
       "      <td>34.105146</td>\n",
       "    </tr>\n",
       "    <tr>\n",
       "      <th>1100</th>\n",
       "      <td>1100</td>\n",
       "      <td>1,950</td>\n",
       "      <td>female</td>\n",
       "      <td>20</td>\n",
       "      <td>1.792833</td>\n",
       "      <td>152</td>\n",
       "      <td>yes</td>\n",
       "      <td>yes</td>\n",
       "      <td>always</td>\n",
       "      <td>3</td>\n",
       "      <td>sometimes</td>\n",
       "      <td>no</td>\n",
       "      <td>between 1 and 2 l</td>\n",
       "      <td>NaN</td>\n",
       "      <td>1 to 2</td>\n",
       "      <td>3 to 5</td>\n",
       "      <td>sometimes</td>\n",
       "      <td>public_transportation</td>\n",
       "      <td>obesity_type_iii</td>\n",
       "      <td>47.424943</td>\n",
       "    </tr>\n",
       "  </tbody>\n",
       "</table>\n",
       "</div>"
      ],
      "text/plain": [
       "      Unnamed: 0     id  Gender  Age    Height  Weight   \n",
       "361          361  1,211    male   26  1.837117     106  \\\n",
       "675          675  1,525    male   25  1.885543     121   \n",
       "1100        1100  1,950  female   20  1.792833     152   \n",
       "\n",
       "     family_history_with_overweight FAVC       FCVC  NCP       CAEC SMOKE   \n",
       "361                             yes  yes     always    3  sometimes    no  \\\n",
       "675                             yes  yes  sometimes    3  sometimes    no   \n",
       "1100                            yes  yes     always    3  sometimes    no   \n",
       "\n",
       "                   CH2O  SCC     FAF     TUE       CALC   \n",
       "361       more than 2 l  NaN  2 to 4      >5  sometimes  \\\n",
       "675       more than 2 l  NaN  1 to 2  0 to 2  sometimes   \n",
       "1100  between 1 and 2 l  NaN  1 to 2  3 to 5  sometimes   \n",
       "\n",
       "                     MTRANS        NObeyesdad        BMI  \n",
       "361   public_transportation    obesity_type_i  31.322149  \n",
       "675   public_transportation   obesity_type_ii  34.105146  \n",
       "1100  public_transportation  obesity_type_iii  47.424943  "
      ]
     },
     "execution_count": 11,
     "metadata": {},
     "output_type": "execute_result"
    }
   ],
   "source": [
    "df[df['SCC'].isna()]"
   ]
  },
  {
   "cell_type": "markdown",
   "id": "cdd7b70a",
   "metadata": {
    "id": "cdd7b70a",
    "tags": []
   },
   "source": [
    "## 1-2 데이터 전처리 기법 2가지를 설명하고 주어진 데이터에 적용시 어떤 효과가 있는지 설명하라"
   ]
  },
  {
   "cell_type": "markdown",
   "id": "b55708dc-c915-4826-83ce-37f93ceea0e9",
   "metadata": {
    "id": "b55708dc-c915-4826-83ce-37f93ceea0e9"
   },
   "source": [
    "데이터 전처리는 데이터를 분석하기 전에 정제하고 준비하는 과정을 말합니다. 여기서는 2가지 데이터 전처리 기법을 설명하고, 주어진 데이터에 적용했을 때 어떤 효과가 있는지 설명하겠습니다.\n",
    "\n",
    "\n",
    "\n",
    "- 이상치 처리 (Outlier Handling):\n",
    "    > 이상치는 대부분의 데이터 포인트와는 매우 다른 값을 갖는 데이터. <br>\n",
    "    이상치는 데이터 분석 결과를 왜곡시킬 수 있으므로, 처리하는 것이 중요합니다. 이상치 처리 방법에는 다음과 같은 것들이 있습니다:\n",
    "\n",
    "\n",
    "     - 이상치 제거: 이상치를 식별하고 제거하는 방법으로, 주어진 데이터에서 이상치를 제거하여 분석의 정확도를 높일 수 있습니다.\n",
    "     \n",
    "     - 이상치 대체: 이상치를 다른 값으로 대체하는 방법으로, 이상치를 다른 값으로 대체하여 데이터의 왜곡을 줄일 수 있습니다.\n",
    "\n",
    "\n",
    "- 결측치 처리 (Missing Data Handling):\n",
    "    > 결측치는 데이터에 값이 누락된 상태를 말합니다. 결측치가 있는 데이터를 분석하면 정확한 결과를 얻기 어렵기 때문에, 결측치 처리가 필요합니다. 결측치 처리 방법에는 다음과 같은 것들이 있습니다:\n",
    "\n",
    "\n",
    "    - 결측치 제거: 결측치가 포함된 행이나 열을 제거하는 방법으로, 결측치를 제거하여 데이터의 왜곡을 줄일 수 있습니다.\n",
    "    - 결측치 대체: 결측치를 다른 값으로 대체하는 방법으로, 결측치를 대체하여 데이터의 왜곡을 줄일 수 있습니다.\n",
    "\n",
    "주어진 데이터에 이상치 처리와 결측치 처리를 적용하면, 데이터의 정확성과 신뢰성을 높일 수 있습니다. 이상치 처리를 통해 이상치로 인한 왜곡을 줄이고, 결측치 처리를 통해 누락된 정보를 보완하여 데이터 분석 결과를 더 신뢰할 수 있게 됩니다."
   ]
  },
  {
   "cell_type": "code",
   "execution_count": 12,
   "id": "44b1c632-bf04-4b51-8bdc-605d7da34f65",
   "metadata": {
    "id": "44b1c632-bf04-4b51-8bdc-605d7da34f65"
   },
   "outputs": [],
   "source": [
    "# 나이의 이상치를 중앙값으로 대치\n",
    "df.loc[df[df['Age']>100].index,'Age'] = df['Age'].median()"
   ]
  },
  {
   "cell_type": "markdown",
   "id": "501a67a0-b90d-4a68-94c8-5c0b5d50d13e",
   "metadata": {
    "id": "501a67a0-b90d-4a68-94c8-5c0b5d50d13e"
   },
   "source": [
    "- 나이의 이상치를 중앙값으로 대체하여 영향도를 최소화\n",
    "- 나머지 이상치는 Standard Scaling을 통해 정규화"
   ]
  },
  {
   "cell_type": "markdown",
   "id": "d83c3885-7b6e-4190-9751-c7dfc42ddf94",
   "metadata": {
    "id": "d83c3885-7b6e-4190-9751-c7dfc42ddf94"
   },
   "source": [
    "- 결측치 확인, 단순히 세건이므로 샘플을 제거"
   ]
  },
  {
   "cell_type": "code",
   "execution_count": 13,
   "id": "ec97a4d5-8541-4d83-8a29-39499f85152d",
   "metadata": {
    "id": "ec97a4d5-8541-4d83-8a29-39499f85152d"
   },
   "outputs": [],
   "source": [
    "df.dropna(axis=0, inplace=True)"
   ]
  },
  {
   "cell_type": "markdown",
   "id": "98cb5ad0",
   "metadata": {
    "id": "98cb5ad0"
   },
   "source": [
    "## 1-3 피쳐 엔지니어링을 통해 파생변수 1개를 생성하고 그 이유를 말하라"
   ]
  },
  {
   "cell_type": "markdown",
   "id": "fe31b9b2-eeeb-4554-81d9-ee7ae796907a",
   "metadata": {
    "id": "fe31b9b2-eeeb-4554-81d9-ee7ae796907a"
   },
   "source": [
    "FCVC: Frequency of consumption of vegetables - Never, Sometimes, Always\n",
    "NCP: Number of main meals - 1, 2, 3, 4\n",
    "CAEC: Consumption of food between meals - No, Sometimes, Frequently, Always\n",
    "CH2O: Consumption of water daily - Less than a litter, between 1 and 2 l, more than 2 l\n",
    "FAF: Physical activity frequency - 0, 1 to 2, 2 to 4, 4 to 5"
   ]
  },
  {
   "cell_type": "code",
   "execution_count": 14,
   "id": "1a322ad0",
   "metadata": {
    "id": "1a322ad0",
    "outputId": "fc20f78c-49f6-4992-da4c-3e52fd310ecd"
   },
   "outputs": [
    {
     "name": "stdout",
     "output_type": "stream",
     "text": [
      "FCVC:['always' 'sometimes' 'never']\n",
      "NCP:[3 1 4 2]\n",
      "CAEC:['sometimes' 'frequently' 'always' 'no']\n",
      "CH2O:['between 1 and 2 l' 'more than 2 l' 'less than a liter']\n",
      "FAF:['2 to 4' '0' '1 to 2' '4 to 5']\n"
     ]
    }
   ],
   "source": [
    "for c in ['FCVC','NCP','CAEC','CH2O','FAF']:\n",
    "    print(f'{c}:{df[c].unique()}')"
   ]
  },
  {
   "cell_type": "markdown",
   "id": "dc67ae35-2084-4d55-8094-012662b8a3ac",
   "metadata": {
    "id": "dc67ae35-2084-4d55-8094-012662b8a3ac"
   },
   "source": [
    "CH2O, FAF는 평균갯수로 변환할 수 있으므로 매핑을 통해 변환"
   ]
  },
  {
   "cell_type": "code",
   "execution_count": 15,
   "id": "2660ff14-3e32-41f8-ab69-798b067b1321",
   "metadata": {
    "id": "2660ff14-3e32-41f8-ab69-798b067b1321"
   },
   "outputs": [],
   "source": [
    "df['FAF'] = df['FAF'].map({'2 to 4':3, '0':0, '1 to 2':1.5, '4 to 5':4.5})"
   ]
  },
  {
   "cell_type": "code",
   "execution_count": 16,
   "id": "ae1bab3c-c0c3-4c69-83f8-142396bcce88",
   "metadata": {
    "id": "ae1bab3c-c0c3-4c69-83f8-142396bcce88"
   },
   "outputs": [],
   "source": [
    "df['CH2O'] = df['CH2O'].map({'between 1 and 2 l':1.5, 'less than a liter':0.5, 'more than 2 l':2.5})"
   ]
  },
  {
   "cell_type": "markdown",
   "id": "1ad5e092-3437-4e3a-8d41-5982c3fc662e",
   "metadata": {
    "id": "1ad5e092-3437-4e3a-8d41-5982c3fc662e"
   },
   "source": [
    "FAF/CH2O 변수 생성 : 물 대비 음식 섭취량"
   ]
  },
  {
   "cell_type": "code",
   "execution_count": 17,
   "id": "70d3a468-88db-42f1-8390-a94c727ebaa2",
   "metadata": {
    "id": "70d3a468-88db-42f1-8390-a94c727ebaa2",
    "outputId": "b10a56d9-4b16-472a-9adb-3cf1c2a9a229"
   },
   "outputs": [
    {
     "data": {
      "text/html": [
       "<div>\n",
       "<style scoped>\n",
       "    .dataframe tbody tr th:only-of-type {\n",
       "        vertical-align: middle;\n",
       "    }\n",
       "\n",
       "    .dataframe tbody tr th {\n",
       "        vertical-align: top;\n",
       "    }\n",
       "\n",
       "    .dataframe thead th {\n",
       "        text-align: right;\n",
       "    }\n",
       "</style>\n",
       "<table border=\"1\" class=\"dataframe\">\n",
       "  <thead>\n",
       "    <tr style=\"text-align: right;\">\n",
       "      <th></th>\n",
       "      <th>FAF</th>\n",
       "      <th>CH2O</th>\n",
       "    </tr>\n",
       "  </thead>\n",
       "  <tbody>\n",
       "    <tr>\n",
       "      <th>FAF</th>\n",
       "      <td>1.000000</td>\n",
       "      <td>0.101126</td>\n",
       "    </tr>\n",
       "    <tr>\n",
       "      <th>CH2O</th>\n",
       "      <td>0.101126</td>\n",
       "      <td>1.000000</td>\n",
       "    </tr>\n",
       "  </tbody>\n",
       "</table>\n",
       "</div>"
      ],
      "text/plain": [
       "           FAF      CH2O\n",
       "FAF   1.000000  0.101126\n",
       "CH2O  0.101126  1.000000"
      ]
     },
     "execution_count": 17,
     "metadata": {},
     "output_type": "execute_result"
    }
   ],
   "source": [
    "df[['FAF','CH2O']].corr()\n",
    "# 두변수의 상관관계 크지 않으므로 파생변수 생성 무방"
   ]
  },
  {
   "cell_type": "code",
   "execution_count": 18,
   "id": "d17f8fd0-759a-438e-97f1-30371b6827fd",
   "metadata": {
    "id": "d17f8fd0-759a-438e-97f1-30371b6827fd"
   },
   "outputs": [],
   "source": [
    "df['FAFperH2O'] = df['FAF']/df['CH2O']"
   ]
  },
  {
   "cell_type": "code",
   "execution_count": 19,
   "id": "b7951b9f-93fe-41da-8501-6426ce3af9c8",
   "metadata": {
    "id": "b7951b9f-93fe-41da-8501-6426ce3af9c8",
    "outputId": "6e756e06-4bc4-4d48-c75c-4c0622acd810"
   },
   "outputs": [
    {
     "data": {
      "text/html": [
       "<div>\n",
       "<style scoped>\n",
       "    .dataframe tbody tr th:only-of-type {\n",
       "        vertical-align: middle;\n",
       "    }\n",
       "\n",
       "    .dataframe tbody tr th {\n",
       "        vertical-align: top;\n",
       "    }\n",
       "\n",
       "    .dataframe thead th {\n",
       "        text-align: right;\n",
       "    }\n",
       "</style>\n",
       "<table border=\"1\" class=\"dataframe\">\n",
       "  <thead>\n",
       "    <tr style=\"text-align: right;\">\n",
       "      <th></th>\n",
       "      <th>FAF</th>\n",
       "      <th>CH2O</th>\n",
       "      <th>FAFperH2O</th>\n",
       "    </tr>\n",
       "  </thead>\n",
       "  <tbody>\n",
       "    <tr>\n",
       "      <th>FAF</th>\n",
       "      <td>1.000000</td>\n",
       "      <td>0.101126</td>\n",
       "      <td>0.692363</td>\n",
       "    </tr>\n",
       "    <tr>\n",
       "      <th>CH2O</th>\n",
       "      <td>0.101126</td>\n",
       "      <td>1.000000</td>\n",
       "      <td>-0.387542</td>\n",
       "    </tr>\n",
       "    <tr>\n",
       "      <th>FAFperH2O</th>\n",
       "      <td>0.692363</td>\n",
       "      <td>-0.387542</td>\n",
       "      <td>1.000000</td>\n",
       "    </tr>\n",
       "  </tbody>\n",
       "</table>\n",
       "</div>"
      ],
      "text/plain": [
       "                FAF      CH2O  FAFperH2O\n",
       "FAF        1.000000  0.101126   0.692363\n",
       "CH2O       0.101126  1.000000  -0.387542\n",
       "FAFperH2O  0.692363 -0.387542   1.000000"
      ]
     },
     "execution_count": 19,
     "metadata": {},
     "output_type": "execute_result"
    }
   ],
   "source": [
    "df[['FAF','CH2O','FAFperH2O']].corr()"
   ]
  },
  {
   "cell_type": "markdown",
   "id": "0a343344-67d8-45b6-84c5-71ff942cd6f7",
   "metadata": {
    "id": "0a343344-67d8-45b6-84c5-71ff942cd6f7"
   },
   "source": [
    "-범주형데이터를 원핫인코딩 적용"
   ]
  },
  {
   "cell_type": "code",
   "execution_count": 20,
   "id": "6cff2d4d-9909-4751-a0bb-34033f019be9",
   "metadata": {
    "id": "6cff2d4d-9909-4751-a0bb-34033f019be9"
   },
   "outputs": [],
   "source": [
    "from sklearn.model_selection import train_test_split\n",
    "\n",
    "y = df['NObeyesdad']\n",
    "X = pd.get_dummies(df.drop('NObeyesdad',axis=1),drop_first=True)\n",
    "X_train, X_test, y_train, y_test = train_test_split(X, y, test_size=0.2, stratify=y)"
   ]
  },
  {
   "cell_type": "markdown",
   "id": "2f91d43c",
   "metadata": {
    "id": "2f91d43c"
   },
   "source": [
    "## 2-1 앙상블을 제외한 분류 모델 3가지 구축 및 결과 비교 및 설명하라"
   ]
  },
  {
   "cell_type": "code",
   "execution_count": 21,
   "id": "4a1f7bdc",
   "metadata": {
    "id": "4a1f7bdc",
    "outputId": "18fc1362-baa7-48a9-9b61-3d95b83e757e"
   },
   "outputs": [
    {
     "name": "stdout",
     "output_type": "stream",
     "text": [
      "-------------------------------------\n",
      "LogisticRegression takes 0.20093297958374023s\n",
      "\n",
      "                    precision    recall  f1-score   support\n",
      "\n",
      "    obesity_type_i       0.56      0.64      0.60        70\n",
      "   obesity_type_ii       0.80      0.75      0.77        59\n",
      "  obesity_type_iii       0.86      0.92      0.89        65\n",
      "overweight_level_i       0.70      0.57      0.63        58\n",
      "\n",
      "          accuracy                           0.72       252\n",
      "         macro avg       0.73      0.72      0.72       252\n",
      "      weighted avg       0.73      0.72      0.72       252\n",
      "\n",
      "\n",
      "[[45 11  5  9]\n",
      " [ 8 44  5  2]\n",
      " [ 2  0 60  3]\n",
      " [25  0  0 33]]\n",
      "-------------------------------------\n",
      "SVM takes 0.10451173782348633s\n",
      "\n",
      "                    precision    recall  f1-score   support\n",
      "\n",
      "    obesity_type_i       1.00      0.90      0.95        70\n",
      "   obesity_type_ii       1.00      0.97      0.98        59\n",
      "  obesity_type_iii       1.00      0.92      0.96        65\n",
      "overweight_level_i       0.81      1.00      0.89        58\n",
      "\n",
      "          accuracy                           0.94       252\n",
      "         macro avg       0.95      0.95      0.95       252\n",
      "      weighted avg       0.96      0.94      0.95       252\n",
      "\n",
      "\n",
      "[[63  0  0  7]\n",
      " [ 0 57  0  2]\n",
      " [ 0  0 60  5]\n",
      " [ 0  0  0 58]]\n",
      "-------------------------------------\n",
      "DecisionTreeClassifier takes 0.016507863998413086s\n",
      "\n",
      "                    precision    recall  f1-score   support\n",
      "\n",
      "    obesity_type_i       0.99      0.99      0.99        70\n",
      "   obesity_type_ii       0.98      0.98      0.98        59\n",
      "  obesity_type_iii       1.00      1.00      1.00        65\n",
      "overweight_level_i       1.00      1.00      1.00        58\n",
      "\n",
      "          accuracy                           0.99       252\n",
      "         macro avg       0.99      0.99      0.99       252\n",
      "      weighted avg       0.99      0.99      0.99       252\n",
      "\n",
      "\n",
      "[[69  1  0  0]\n",
      " [ 1 58  0  0]\n",
      " [ 0  0 65  0]\n",
      " [ 0  0  0 58]]\n"
     ]
    }
   ],
   "source": [
    "from sklearn.linear_model import LogisticRegression\n",
    "from sklearn.svm import SVC\n",
    "from sklearn.tree import DecisionTreeClassifier\n",
    "from sklearn.metrics import classification_report, confusion_matrix\n",
    "from time import time\n",
    "import warnings\n",
    "\n",
    "random_seed = 42\n",
    "np.random.seed(random_seed)\n",
    "\n",
    "warnings.filterwarnings('ignore')\n",
    "lc = LogisticRegression()\n",
    "svm = SVC()\n",
    "DT = DecisionTreeClassifier()\n",
    "\n",
    "models = [lc,svm,DT]\n",
    "model_names = ['LogisticRegression','SVM','DecisionTreeClassifier']\n",
    "\n",
    "for idx, model in enumerate(models):\n",
    "    s = time()\n",
    "    model.fit(X_train,y_train)\n",
    "    e = time()\n",
    "    t = e-s\n",
    "    preds = model.predict(X_test)\n",
    "    print(\"-------------------------------------\")\n",
    "    print(f\"{model_names[idx]} takes {t:3}s\")\n",
    "    print()\n",
    "    print(classification_report(y_test, preds))\n",
    "    print()\n",
    "    print(confusion_matrix(y_test, preds))"
   ]
  },
  {
   "cell_type": "markdown",
   "id": "91e3747b-3902-4cdb-b56c-ef8ee76beda5",
   "metadata": {
    "id": "91e3747b-3902-4cdb-b56c-ef8ee76beda5"
   },
   "source": [
    "- 속도 및 정확도 측면에서 Decision Tree를 사용하는 것이 합리적"
   ]
  },
  {
   "cell_type": "markdown",
   "id": "660d2818",
   "metadata": {
    "id": "660d2818"
   },
   "source": [
    "## 2-2 2-1에서 사용한 모델 중 하나를 골라 그리드 서치를 통해서 파라미터 튜닝 및 분류 모델 성능 평가 (precision ,recall)"
   ]
  },
  {
   "cell_type": "markdown",
   "id": "b3230499-4e00-4fe3-9cb1-cd4da1a1d182",
   "metadata": {
    "id": "b3230499-4e00-4fe3-9cb1-cd4da1a1d182"
   },
   "source": [
    "- 그리드서치 후, 더 정확한 평가를 위해 cross_val_score 사용"
   ]
  },
  {
   "cell_type": "code",
   "execution_count": 22,
   "id": "a5b9c4a3-8a80-41f1-9766-03432e4e2826",
   "metadata": {
    "id": "a5b9c4a3-8a80-41f1-9766-03432e4e2826",
    "outputId": "a8f93091-2009-437e-81c0-997510da7f0b"
   },
   "outputs": [
    {
     "name": "stdout",
     "output_type": "stream",
     "text": [
      "최적의 하이퍼파라미터: {'criterion': 'entropy', 'max_depth': 10}\n",
      "최고 점수 (Accuracy) : 0.9587238348194523\n",
      "\n",
      " ---KFold 교차 검증을 통한 성능평가---\n"
     ]
    }
   ],
   "source": [
    "from sklearn.tree import DecisionTreeClassifier\n",
    "from sklearn.model_selection import GridSearchCV, KFold\n",
    "from sklearn.metrics import precision_score, recall_score, accuracy_score\n",
    "\n",
    "DT = DecisionTreeClassifier()\n",
    "\n",
    "# 탐색할 하이퍼파라미터 그리드 설정\n",
    "param_grid = {\n",
    "    'criterion': ['gini', 'entropy'],\n",
    "    'max_depth': [3, 5, 7, 10]\n",
    "}\n",
    "\n",
    "# 그리드 서치 객체 생성\n",
    "grid_search = GridSearchCV(DT, param_grid, cv=5)\n",
    "\n",
    "# 그리드 서치 수행\n",
    "grid_search.fit(X, y)\n",
    "\n",
    "# 최적의 하이퍼파라미터 및 점수 출력\n",
    "print(\"최적의 하이퍼파라미터:\", grid_search.best_params_)\n",
    "print(\"최고 점수 (Accuracy) :\", grid_search.best_score_)\n",
    "\n",
    "# 최적의 모델\n",
    "best_model = grid_search.best_estimator_\n",
    "\n",
    "print(\"\\n ---KFold 교차 검증을 통한 성능평가---\")\n",
    "\n",
    "kf = KFold(n_splits=5, shuffle=True)\n",
    "\n",
    "accuracys = []\n",
    "precisions = []\n",
    "recalls = []\n",
    "X_, y_ = X,y\n",
    "X = np.array(X)\n",
    "y = np.array(y)"
   ]
  },
  {
   "cell_type": "code",
   "execution_count": 24,
   "id": "77c1c28e-0359-4864-b409-dda1da4a9641",
   "metadata": {
    "id": "77c1c28e-0359-4864-b409-dda1da4a9641",
    "outputId": "31acf912-da0e-4945-b85e-d0aa12623f7c"
   },
   "outputs": [
    {
     "name": "stdout",
     "output_type": "stream",
     "text": [
      "최적의 하이퍼파라미터:{'criterion': 'entropy', 'max_depth': 10}\n",
      "최고 점수 (Accuracy) : 0.960\n",
      "\n",
      " ---5 CV Score를 통한 성능평가---\n",
      "평균 accuracy:  0.940\n",
      "평균 Precision: 0.976\n",
      "평균 Recall: 0.894\n"
     ]
    }
   ],
   "source": [
    "from sklearn.tree import DecisionTreeClassifier\n",
    "from sklearn.model_selection import GridSearchCV, cross_val_score\n",
    "from sklearn.metrics import precision_score, recall_score, accuracy_score\n",
    "\n",
    "random_seed = 42\n",
    "np.random.seed(random_seed)\n",
    "\n",
    "DT = DecisionTreeClassifier()\n",
    "\n",
    "# 탐색할 하이퍼파라미터 그리드 설정\n",
    "param_grid = {\n",
    "    'criterion': ['gini', 'entropy'],\n",
    "    'max_depth': [3, 5, 7, 10]\n",
    "}\n",
    "\n",
    "# 그리드 서치 객체 생성\n",
    "grid_search = GridSearchCV(DT, param_grid, cv=5)\n",
    "\n",
    "# 그리드 서치 수행\n",
    "grid_search.fit(X, y)\n",
    "\n",
    "# 최적의 하이퍼파라미터 및 점수 출력\n",
    "print(f\"최적의 하이퍼파라미터:{grid_search.best_params_}\")\n",
    "print(f\"최고 점수 (Accuracy) : {grid_search.best_score_:.3f}\")\n",
    "\n",
    "# 최적의 모델\n",
    "best_model = grid_search.best_estimator_\n",
    "\n",
    "print(\"\\n ---5 CV Score를 통한 성능평가---\")\n",
    "\n",
    "# Perform cross-validation using cross_val_score\n",
    "accuracy_scores = cross_val_score(best_model, X, y, cv=5, scoring='accuracy')\n",
    "precision_scores = cross_val_score(best_model, X, y, cv=5, scoring='precision_weighted')\n",
    "recall_scores = cross_val_score(best_model, X, y, cv=5, scoring='recall_weighted')\n",
    "\n",
    "# Calculate average scores\n",
    "avg_accuracy = accuracy_scores.mean()\n",
    "avg_precision = precision_scores.mean()\n",
    "avg_recall = recall_scores.mean()\n",
    "\n",
    "print(f\"평균 accuracy:  {avg_accuracy:.3f}\")\n",
    "print(f\"평균 Precision: {avg_precision:.3f}\")\n",
    "print(f\"평균 Recall: {avg_recall:.3f}\")"
   ]
  },
  {
   "cell_type": "markdown",
   "id": "26ec3f77",
   "metadata": {
    "id": "26ec3f77"
   },
   "source": [
    "## 2-3 2-1의 3가지 모델을 soft voting을 이용하여 모델링 한 결과와 2-2과 비교하라"
   ]
  },
  {
   "cell_type": "code",
   "execution_count": 25,
   "id": "fe2e9e3d",
   "metadata": {
    "id": "fe2e9e3d",
    "outputId": "c65bfc33-41b0-443c-db7f-a27155d8557a"
   },
   "outputs": [
    {
     "name": "stdout",
     "output_type": "stream",
     "text": [
      "평균 accuracy:  0.851\n",
      "평균 Precision: 0.868\n",
      "평균 Recall: 0.852\n"
     ]
    }
   ],
   "source": [
    "from sklearn.ensemble import VotingClassifier\n",
    "from sklearn.linear_model import LogisticRegression\n",
    "from sklearn.svm import SVC\n",
    "from sklearn.tree import DecisionTreeClassifier\n",
    "from sklearn.model_selection import cross_val_score\n",
    "from sklearn.metrics import precision_score, recall_score, accuracy_score\n",
    "\n",
    "random_seed = 42\n",
    "np.random.seed(random_seed)\n",
    "\n",
    "# Create instances of the estimators\n",
    "lr = LogisticRegression(max_iter=100)\n",
    "svc = SVC(probability=True)  # probability=True로 설정하여 Soft Voting을 사용할 수 있도록 함\n",
    "dt = DecisionTreeClassifier()\n",
    "\n",
    "# Soft Voting 분류기 생성\n",
    "voting_clf = VotingClassifier(estimators=[('LogisticRegression', lr), ('SVC', svc), ('DecisionTree', dt)], voting='soft')\n",
    "\n",
    "# Perform cross-validation using cross_val_score\n",
    "accuracy_scores = cross_val_score(voting_clf, X, y, cv=5, scoring='accuracy')\n",
    "precision_scores = cross_val_score(voting_clf, X, y, cv=5, scoring='precision_weighted')\n",
    "recall_scores = cross_val_score(voting_clf, X, y, cv=5, scoring='recall_weighted')\n",
    "\n",
    "# Calculate average scores\n",
    "avg_accuracy = accuracy_scores.mean()\n",
    "avg_precision = precision_scores.mean()\n",
    "avg_recall = recall_scores.mean()\n",
    "\n",
    "print(f\"평균 accuracy:  {avg_accuracy:.3f}\")\n",
    "print(f\"평균 Precision: {avg_precision:.3f}\")\n",
    "print(f\"평균 Recall: {avg_recall:.3f}\")"
   ]
  },
  {
   "cell_type": "markdown",
   "id": "11c00096-21d0-42e0-9b6a-822a8718f450",
   "metadata": {
    "id": "11c00096-21d0-42e0-9b6a-822a8718f450"
   },
   "source": [
    "- 세개의 모델을 softvoting한 결과보다 decision tree의 점수가 더 좋게 나왔다"
   ]
  },
  {
   "cell_type": "markdown",
   "id": "11a855de",
   "metadata": {
    "id": "11a855de"
   },
   "source": [
    "## 3-2 하나의 모델을 선정하여 Drop Column Importance 방식으로 각 변수 별로 전체 컬럼을 포함한 모델과의 recall 값의 차이를 계산하고 시각화 하라"
   ]
  },
  {
   "cell_type": "markdown",
   "id": "4e29215f-2d83-420e-8fb2-e4621d563aaf",
   "metadata": {
    "id": "4e29215f-2d83-420e-8fb2-e4621d563aaf"
   },
   "source": [
    "독립변수의 중요도를 파악하는 두 가지 대표적인 방법은 아래와 같다.\n",
    "\n",
    "- Permutation importance\n",
    "- Drop Column importance\n",
    "\n",
    "> Drop Column importance 방법의 장점과 단점\n",
    "- 장점: 자체적인 독립변수 중요도(Feature importance) 평가 방법이 존재하지 않는 경우에도 적용 가능하다. 원리의 이해와 해석이 상대적으로 쉽다.\n",
    "- 단점: 처리에 많은 시간이 소요된다."
   ]
  },
  {
   "cell_type": "code",
   "execution_count": 26,
   "id": "7650f62a-15a5-4cb7-8c60-365102de1426",
   "metadata": {
    "id": "7650f62a-15a5-4cb7-8c60-365102de1426"
   },
   "outputs": [
    {
     "name": "stdout",
     "output_type": "stream",
     "text": [
      "최적의 하이퍼파라미터:{'criterion': 'entropy', 'max_depth': 3}\n",
      "최고 점수 (Accuracy) : 0.956\n"
     ]
    }
   ],
   "source": [
    "DT = DecisionTreeClassifier()\n",
    "\n",
    "# 탐색할 하이퍼파라미터 그리드 설정\n",
    "param_grid = {\n",
    "    'criterion': ['gini', 'entropy'],\n",
    "    'max_depth': [3, 5, 7, 10]\n",
    "}\n",
    "\n",
    "# 그리드 서치 객체 생성\n",
    "grid_search = GridSearchCV(DT, param_grid, cv=5)\n",
    "\n",
    "# 그리드 서치 수행\n",
    "grid_search.fit(X, y)\n",
    "\n",
    "# 최적의 하이퍼파라미터 및 점수 출력\n",
    "print(f\"최적의 하이퍼파라미터:{grid_search.best_params_}\")\n",
    "print(f\"최고 점수 (Accuracy) : {grid_search.best_score_:.3f}\")\n",
    "\n",
    "# 최적의 모델\n",
    "best_model = grid_search.best_estimator_\n",
    "preds = best_model.predict(X_train)"
   ]
  },
  {
   "cell_type": "code",
   "execution_count": 27,
   "id": "9bc83885",
   "metadata": {
    "id": "9bc83885",
    "outputId": "a45607f2-4106-434d-b723-19d436fa1f9e"
   },
   "outputs": [
    {
     "ename": "ValueError",
     "evalue": "Found input variables with inconsistent numbers of samples: [252, 1007]",
     "output_type": "error",
     "traceback": [
      "\u001b[1;31m---------------------------------------------------------------------------\u001b[0m",
      "\u001b[1;31mValueError\u001b[0m                                Traceback (most recent call last)",
      "Cell \u001b[1;32mIn[27], line 5\u001b[0m\n\u001b[0;32m      3\u001b[0m recall_list \u001b[38;5;241m=\u001b[39m []\n\u001b[0;32m      4\u001b[0m recall_diff \u001b[38;5;241m=\u001b[39m []\n\u001b[1;32m----> 5\u001b[0m recall_dt \u001b[38;5;241m=\u001b[39m \u001b[43mrecall_score\u001b[49m\u001b[43m(\u001b[49m\u001b[43my_test\u001b[49m\u001b[43m,\u001b[49m\u001b[43m \u001b[49m\u001b[43mpreds\u001b[49m\u001b[43m,\u001b[49m\u001b[43m \u001b[49m\u001b[43maverage\u001b[49m\u001b[43m \u001b[49m\u001b[38;5;241;43m=\u001b[39;49m\u001b[43m \u001b[49m\u001b[38;5;124;43m'\u001b[39;49m\u001b[38;5;124;43mweighted\u001b[39;49m\u001b[38;5;124;43m'\u001b[39;49m\u001b[43m)\u001b[49m\n\u001b[0;32m      7\u001b[0m \u001b[38;5;28;01mfor\u001b[39;00m col \u001b[38;5;129;01min\u001b[39;00m X_train\u001b[38;5;241m.\u001b[39mcolumns:\n\u001b[0;32m      8\u001b[0m     X_train_drop \u001b[38;5;241m=\u001b[39m X_train\u001b[38;5;241m.\u001b[39mdrop(columns \u001b[38;5;241m=\u001b[39m col)\n",
      "File \u001b[1;32mE:\\miniconda\\lib\\site-packages\\sklearn\\metrics\\_classification.py:2098\u001b[0m, in \u001b[0;36mrecall_score\u001b[1;34m(y_true, y_pred, labels, pos_label, average, sample_weight, zero_division)\u001b[0m\n\u001b[0;32m   1967\u001b[0m \u001b[38;5;28;01mdef\u001b[39;00m \u001b[38;5;21mrecall_score\u001b[39m(\n\u001b[0;32m   1968\u001b[0m     y_true,\n\u001b[0;32m   1969\u001b[0m     y_pred,\n\u001b[1;32m   (...)\u001b[0m\n\u001b[0;32m   1975\u001b[0m     zero_division\u001b[38;5;241m=\u001b[39m\u001b[38;5;124m\"\u001b[39m\u001b[38;5;124mwarn\u001b[39m\u001b[38;5;124m\"\u001b[39m,\n\u001b[0;32m   1976\u001b[0m ):\n\u001b[0;32m   1977\u001b[0m     \u001b[38;5;124;03m\"\"\"Compute the recall.\u001b[39;00m\n\u001b[0;32m   1978\u001b[0m \n\u001b[0;32m   1979\u001b[0m \u001b[38;5;124;03m    The recall is the ratio ``tp / (tp + fn)`` where ``tp`` is the number of\u001b[39;00m\n\u001b[1;32m   (...)\u001b[0m\n\u001b[0;32m   2096\u001b[0m \u001b[38;5;124;03m    array([1. , 1. , 0.5])\u001b[39;00m\n\u001b[0;32m   2097\u001b[0m \u001b[38;5;124;03m    \"\"\"\u001b[39;00m\n\u001b[1;32m-> 2098\u001b[0m     _, r, _, _ \u001b[38;5;241m=\u001b[39m \u001b[43mprecision_recall_fscore_support\u001b[49m\u001b[43m(\u001b[49m\n\u001b[0;32m   2099\u001b[0m \u001b[43m        \u001b[49m\u001b[43my_true\u001b[49m\u001b[43m,\u001b[49m\n\u001b[0;32m   2100\u001b[0m \u001b[43m        \u001b[49m\u001b[43my_pred\u001b[49m\u001b[43m,\u001b[49m\n\u001b[0;32m   2101\u001b[0m \u001b[43m        \u001b[49m\u001b[43mlabels\u001b[49m\u001b[38;5;241;43m=\u001b[39;49m\u001b[43mlabels\u001b[49m\u001b[43m,\u001b[49m\n\u001b[0;32m   2102\u001b[0m \u001b[43m        \u001b[49m\u001b[43mpos_label\u001b[49m\u001b[38;5;241;43m=\u001b[39;49m\u001b[43mpos_label\u001b[49m\u001b[43m,\u001b[49m\n\u001b[0;32m   2103\u001b[0m \u001b[43m        \u001b[49m\u001b[43maverage\u001b[49m\u001b[38;5;241;43m=\u001b[39;49m\u001b[43maverage\u001b[49m\u001b[43m,\u001b[49m\n\u001b[0;32m   2104\u001b[0m \u001b[43m        \u001b[49m\u001b[43mwarn_for\u001b[49m\u001b[38;5;241;43m=\u001b[39;49m\u001b[43m(\u001b[49m\u001b[38;5;124;43m\"\u001b[39;49m\u001b[38;5;124;43mrecall\u001b[39;49m\u001b[38;5;124;43m\"\u001b[39;49m\u001b[43m,\u001b[49m\u001b[43m)\u001b[49m\u001b[43m,\u001b[49m\n\u001b[0;32m   2105\u001b[0m \u001b[43m        \u001b[49m\u001b[43msample_weight\u001b[49m\u001b[38;5;241;43m=\u001b[39;49m\u001b[43msample_weight\u001b[49m\u001b[43m,\u001b[49m\n\u001b[0;32m   2106\u001b[0m \u001b[43m        \u001b[49m\u001b[43mzero_division\u001b[49m\u001b[38;5;241;43m=\u001b[39;49m\u001b[43mzero_division\u001b[49m\u001b[43m,\u001b[49m\n\u001b[0;32m   2107\u001b[0m \u001b[43m    \u001b[49m\u001b[43m)\u001b[49m\n\u001b[0;32m   2108\u001b[0m     \u001b[38;5;28;01mreturn\u001b[39;00m r\n",
      "File \u001b[1;32mE:\\miniconda\\lib\\site-packages\\sklearn\\metrics\\_classification.py:1573\u001b[0m, in \u001b[0;36mprecision_recall_fscore_support\u001b[1;34m(y_true, y_pred, beta, labels, pos_label, average, warn_for, sample_weight, zero_division)\u001b[0m\n\u001b[0;32m   1571\u001b[0m \u001b[38;5;28;01mif\u001b[39;00m beta \u001b[38;5;241m<\u001b[39m \u001b[38;5;241m0\u001b[39m:\n\u001b[0;32m   1572\u001b[0m     \u001b[38;5;28;01mraise\u001b[39;00m \u001b[38;5;167;01mValueError\u001b[39;00m(\u001b[38;5;124m\"\u001b[39m\u001b[38;5;124mbeta should be >=0 in the F-beta score\u001b[39m\u001b[38;5;124m\"\u001b[39m)\n\u001b[1;32m-> 1573\u001b[0m labels \u001b[38;5;241m=\u001b[39m \u001b[43m_check_set_wise_labels\u001b[49m\u001b[43m(\u001b[49m\u001b[43my_true\u001b[49m\u001b[43m,\u001b[49m\u001b[43m \u001b[49m\u001b[43my_pred\u001b[49m\u001b[43m,\u001b[49m\u001b[43m \u001b[49m\u001b[43maverage\u001b[49m\u001b[43m,\u001b[49m\u001b[43m \u001b[49m\u001b[43mlabels\u001b[49m\u001b[43m,\u001b[49m\u001b[43m \u001b[49m\u001b[43mpos_label\u001b[49m\u001b[43m)\u001b[49m\n\u001b[0;32m   1575\u001b[0m \u001b[38;5;66;03m# Calculate tp_sum, pred_sum, true_sum ###\u001b[39;00m\n\u001b[0;32m   1576\u001b[0m samplewise \u001b[38;5;241m=\u001b[39m average \u001b[38;5;241m==\u001b[39m \u001b[38;5;124m\"\u001b[39m\u001b[38;5;124msamples\u001b[39m\u001b[38;5;124m\"\u001b[39m\n",
      "File \u001b[1;32mE:\\miniconda\\lib\\site-packages\\sklearn\\metrics\\_classification.py:1374\u001b[0m, in \u001b[0;36m_check_set_wise_labels\u001b[1;34m(y_true, y_pred, average, labels, pos_label)\u001b[0m\n\u001b[0;32m   1371\u001b[0m \u001b[38;5;28;01mif\u001b[39;00m average \u001b[38;5;129;01mnot\u001b[39;00m \u001b[38;5;129;01min\u001b[39;00m average_options \u001b[38;5;129;01mand\u001b[39;00m average \u001b[38;5;241m!=\u001b[39m \u001b[38;5;124m\"\u001b[39m\u001b[38;5;124mbinary\u001b[39m\u001b[38;5;124m\"\u001b[39m:\n\u001b[0;32m   1372\u001b[0m     \u001b[38;5;28;01mraise\u001b[39;00m \u001b[38;5;167;01mValueError\u001b[39;00m(\u001b[38;5;124m\"\u001b[39m\u001b[38;5;124maverage has to be one of \u001b[39m\u001b[38;5;124m\"\u001b[39m \u001b[38;5;241m+\u001b[39m \u001b[38;5;28mstr\u001b[39m(average_options))\n\u001b[1;32m-> 1374\u001b[0m y_type, y_true, y_pred \u001b[38;5;241m=\u001b[39m \u001b[43m_check_targets\u001b[49m\u001b[43m(\u001b[49m\u001b[43my_true\u001b[49m\u001b[43m,\u001b[49m\u001b[43m \u001b[49m\u001b[43my_pred\u001b[49m\u001b[43m)\u001b[49m\n\u001b[0;32m   1375\u001b[0m \u001b[38;5;66;03m# Convert to Python primitive type to avoid NumPy type / Python str\u001b[39;00m\n\u001b[0;32m   1376\u001b[0m \u001b[38;5;66;03m# comparison. See https://github.com/numpy/numpy/issues/6784\u001b[39;00m\n\u001b[0;32m   1377\u001b[0m present_labels \u001b[38;5;241m=\u001b[39m unique_labels(y_true, y_pred)\u001b[38;5;241m.\u001b[39mtolist()\n",
      "File \u001b[1;32mE:\\miniconda\\lib\\site-packages\\sklearn\\metrics\\_classification.py:86\u001b[0m, in \u001b[0;36m_check_targets\u001b[1;34m(y_true, y_pred)\u001b[0m\n\u001b[0;32m     59\u001b[0m \u001b[38;5;28;01mdef\u001b[39;00m \u001b[38;5;21m_check_targets\u001b[39m(y_true, y_pred):\n\u001b[0;32m     60\u001b[0m     \u001b[38;5;124;03m\"\"\"Check that y_true and y_pred belong to the same classification task.\u001b[39;00m\n\u001b[0;32m     61\u001b[0m \n\u001b[0;32m     62\u001b[0m \u001b[38;5;124;03m    This converts multiclass or binary types to a common shape, and raises a\u001b[39;00m\n\u001b[1;32m   (...)\u001b[0m\n\u001b[0;32m     84\u001b[0m \u001b[38;5;124;03m    y_pred : array or indicator matrix\u001b[39;00m\n\u001b[0;32m     85\u001b[0m \u001b[38;5;124;03m    \"\"\"\u001b[39;00m\n\u001b[1;32m---> 86\u001b[0m     \u001b[43mcheck_consistent_length\u001b[49m\u001b[43m(\u001b[49m\u001b[43my_true\u001b[49m\u001b[43m,\u001b[49m\u001b[43m \u001b[49m\u001b[43my_pred\u001b[49m\u001b[43m)\u001b[49m\n\u001b[0;32m     87\u001b[0m     type_true \u001b[38;5;241m=\u001b[39m type_of_target(y_true, input_name\u001b[38;5;241m=\u001b[39m\u001b[38;5;124m\"\u001b[39m\u001b[38;5;124my_true\u001b[39m\u001b[38;5;124m\"\u001b[39m)\n\u001b[0;32m     88\u001b[0m     type_pred \u001b[38;5;241m=\u001b[39m type_of_target(y_pred, input_name\u001b[38;5;241m=\u001b[39m\u001b[38;5;124m\"\u001b[39m\u001b[38;5;124my_pred\u001b[39m\u001b[38;5;124m\"\u001b[39m)\n",
      "File \u001b[1;32mE:\\miniconda\\lib\\site-packages\\sklearn\\utils\\validation.py:397\u001b[0m, in \u001b[0;36mcheck_consistent_length\u001b[1;34m(*arrays)\u001b[0m\n\u001b[0;32m    395\u001b[0m uniques \u001b[38;5;241m=\u001b[39m np\u001b[38;5;241m.\u001b[39munique(lengths)\n\u001b[0;32m    396\u001b[0m \u001b[38;5;28;01mif\u001b[39;00m \u001b[38;5;28mlen\u001b[39m(uniques) \u001b[38;5;241m>\u001b[39m \u001b[38;5;241m1\u001b[39m:\n\u001b[1;32m--> 397\u001b[0m     \u001b[38;5;28;01mraise\u001b[39;00m \u001b[38;5;167;01mValueError\u001b[39;00m(\n\u001b[0;32m    398\u001b[0m         \u001b[38;5;124m\"\u001b[39m\u001b[38;5;124mFound input variables with inconsistent numbers of samples: \u001b[39m\u001b[38;5;132;01m%r\u001b[39;00m\u001b[38;5;124m\"\u001b[39m\n\u001b[0;32m    399\u001b[0m         \u001b[38;5;241m%\u001b[39m [\u001b[38;5;28mint\u001b[39m(l) \u001b[38;5;28;01mfor\u001b[39;00m l \u001b[38;5;129;01min\u001b[39;00m lengths]\n\u001b[0;32m    400\u001b[0m     )\n",
      "\u001b[1;31mValueError\u001b[0m: Found input variables with inconsistent numbers of samples: [252, 1007]"
     ]
    }
   ],
   "source": [
    "from sklearn.metrics import recall_score\n",
    "\n",
    "recall_list = []\n",
    "recall_diff = []\n",
    "recall_dt = recall_score(y_test, preds, average = 'weighted')\n",
    "\n",
    "for col in X_train.columns:\n",
    "    X_train_drop = X_train.drop(columns = col)\n",
    "    X_test_drop = X_test.drop(columns = col)\n",
    "    model_dt_drop = DecisionTreeClassifier().fit(X_train_drop, y_train)\n",
    "    model_dt_drop_pred = model_dt_drop.predict(X_test_drop)\n",
    "    recall = recall_score(y_test, model_dt_drop_pred, average = 'weighted')\n",
    "    recall_list.append(recall)\n",
    "    recall_diff.append(np.abs(recall - recall_dt))\n",
    "\n",
    "df_importance = pd.DataFrame({'feature' : X_train.columns, 'recall' : recall_list, 'abs(recall_diff)':recall_diff})\n",
    "df_importance = df_importance.sort_values(by = 'abs(recall_diff)', ascending = False).reset_index(drop = True)\n",
    "display(df_importance.head(10).style.bar(subset = 'abs(recall_diff)'))\n",
    "print('''BMI 변수를 제외했을 때 recall의 변화가 가장 큰 것으로 나타나고 있다.\n",
    "따라서 BMI 변수의 중요도가 가장 높다고 볼 수 있다.''')"
   ]
  },
  {
   "cell_type": "markdown",
   "id": "bf0b1e49",
   "metadata": {
    "id": "bf0b1e49"
   },
   "source": [
    "## 데이터 설명\n",
    "- 데이터 출처 : 자체제작\n",
    "- 데이터 링크 : https://raw.githubusercontent.com/Datamanim/datarepo/main/adp/31/adp_31_2_v2.csv\n",
    "- 데이터 설명 : 중고등학생 건강검진 데이터"
   ]
  },
  {
   "cell_type": "markdown",
   "id": "4e4fe7ae",
   "metadata": {
    "id": "4e4fe7ae"
   },
   "source": [
    "## 4-1 아래의 기준으로 전처리를 하여 적정 체중 여부 컬럼을 생성하고 BMI를 5단위로 구분하여 와 적정 체중여부에 대한 빈도 표를 만들어라\n",
    "\n",
    "> bmi 계산\n",
    "    - Bmi = 몸무게(kg)/(키(m)**2)   \n",
    "\n",
    "> 만나이 구하기\n",
    "    - 건강검진을 받았던 날을 기준으로 생년월일과 일수 차이가 16년 364일 이하인 경우 만 16세 그 이상의 경우 만 17로 분류하라\n",
    "    - 윤년 등은 고려하지 않는다. 햇수로 16년 + 일수로 364일이 기준이다\n",
    "\n",
    "\n",
    "> 적정 체중 여부 (BMI가 아래 구간에 들어올 경우)     \n",
    "    17세 남자 : 21.03이상 23.21 미만   \n",
    "    17세 여자 : 20.03이상 22.39 미만    \n",
    "    16세 남자 : 21.18이상 23.45 미만   \n",
    "    16세 여자 : 19.61이상 21.74 미만       "
   ]
  },
  {
   "cell_type": "code",
   "execution_count": 28,
   "id": "bd826283",
   "metadata": {
    "id": "bd826283"
   },
   "outputs": [
    {
     "data": {
      "text/html": [
       "<div>\n",
       "<style scoped>\n",
       "    .dataframe tbody tr th:only-of-type {\n",
       "        vertical-align: middle;\n",
       "    }\n",
       "\n",
       "    .dataframe tbody tr th {\n",
       "        vertical-align: top;\n",
       "    }\n",
       "\n",
       "    .dataframe thead th {\n",
       "        text-align: right;\n",
       "    }\n",
       "</style>\n",
       "<table border=\"1\" class=\"dataframe\">\n",
       "  <thead>\n",
       "    <tr style=\"text-align: right;\">\n",
       "      <th></th>\n",
       "      <th>isna</th>\n",
       "      <th>nunique</th>\n",
       "      <th>dtypes</th>\n",
       "      <th>1st</th>\n",
       "      <th>2nd</th>\n",
       "    </tr>\n",
       "  </thead>\n",
       "  <tbody>\n",
       "    <tr>\n",
       "      <th>ID</th>\n",
       "      <td>0</td>\n",
       "      <td>6801</td>\n",
       "      <td>object</td>\n",
       "      <td>ID_3289</td>\n",
       "      <td>ID_1847</td>\n",
       "    </tr>\n",
       "    <tr>\n",
       "      <th>키</th>\n",
       "      <td>0</td>\n",
       "      <td>2985</td>\n",
       "      <td>float64</td>\n",
       "      <td>181.62</td>\n",
       "      <td>160.89</td>\n",
       "    </tr>\n",
       "    <tr>\n",
       "      <th>weight</th>\n",
       "      <td>0</td>\n",
       "      <td>2710</td>\n",
       "      <td>float64</td>\n",
       "      <td>69.36</td>\n",
       "      <td>65.12</td>\n",
       "    </tr>\n",
       "    <tr>\n",
       "      <th>생년월일</th>\n",
       "      <td>0</td>\n",
       "      <td>3103</td>\n",
       "      <td>int64</td>\n",
       "      <td>19970725</td>\n",
       "      <td>20020921</td>\n",
       "    </tr>\n",
       "    <tr>\n",
       "      <th>건강검진일</th>\n",
       "      <td>0</td>\n",
       "      <td>3263</td>\n",
       "      <td>object</td>\n",
       "      <td>2014_11_20</td>\n",
       "      <td>2020_01_28</td>\n",
       "    </tr>\n",
       "    <tr>\n",
       "      <th>공학여부</th>\n",
       "      <td>0</td>\n",
       "      <td>2</td>\n",
       "      <td>int64</td>\n",
       "      <td>0</td>\n",
       "      <td>1</td>\n",
       "    </tr>\n",
       "    <tr>\n",
       "      <th>채소섭취정도</th>\n",
       "      <td>0</td>\n",
       "      <td>5</td>\n",
       "      <td>int64</td>\n",
       "      <td>3</td>\n",
       "      <td>1</td>\n",
       "    </tr>\n",
       "    <tr>\n",
       "      <th>아침식사여부</th>\n",
       "      <td>0</td>\n",
       "      <td>2</td>\n",
       "      <td>int64</td>\n",
       "      <td>0</td>\n",
       "      <td>1</td>\n",
       "    </tr>\n",
       "    <tr>\n",
       "      <th>일주일운동시간</th>\n",
       "      <td>0</td>\n",
       "      <td>100</td>\n",
       "      <td>float64</td>\n",
       "      <td>4.4</td>\n",
       "      <td>1.7</td>\n",
       "    </tr>\n",
       "    <tr>\n",
       "      <th>수면시간</th>\n",
       "      <td>0</td>\n",
       "      <td>50</td>\n",
       "      <td>float64</td>\n",
       "      <td>6.9</td>\n",
       "      <td>9.6</td>\n",
       "    </tr>\n",
       "    <tr>\n",
       "      <th>성별</th>\n",
       "      <td>0</td>\n",
       "      <td>2</td>\n",
       "      <td>object</td>\n",
       "      <td>남성</td>\n",
       "      <td>여성</td>\n",
       "    </tr>\n",
       "  </tbody>\n",
       "</table>\n",
       "</div>"
      ],
      "text/plain": [
       "         isna  nunique   dtypes         1st         2nd\n",
       "ID          0     6801   object     ID_3289     ID_1847\n",
       "키           0     2985  float64      181.62      160.89\n",
       "weight      0     2710  float64       69.36       65.12\n",
       "생년월일        0     3103    int64    19970725    20020921\n",
       "건강검진일       0     3263   object  2014_11_20  2020_01_28\n",
       "공학여부        0        2    int64           0           1\n",
       "채소섭취정도      0        5    int64           3           1\n",
       "아침식사여부      0        2    int64           0           1\n",
       "일주일운동시간     0      100  float64         4.4         1.7\n",
       "수면시간        0       50  float64         6.9         9.6\n",
       "성별          0        2   object          남성          여성"
      ]
     },
     "execution_count": 28,
     "metadata": {},
     "output_type": "execute_result"
    }
   ],
   "source": [
    "import pandas as pd\n",
    "df = pd.read_csv('https://raw.githubusercontent.com/Datamanim/datarepo/main/adp/31/adp_31_2_v2.csv')\n",
    "resume(df)"
   ]
  },
  {
   "cell_type": "markdown",
   "id": "97f86708-7f4d-43f4-a15c-1392702302fb",
   "metadata": {
    "id": "97f86708-7f4d-43f4-a15c-1392702302fb"
   },
   "source": [
    "- bmi 구하기"
   ]
  },
  {
   "cell_type": "code",
   "execution_count": 29,
   "id": "f2e64a87-2a48-4377-a1b4-07fc99c0f036",
   "metadata": {
    "id": "f2e64a87-2a48-4377-a1b4-07fc99c0f036"
   },
   "outputs": [],
   "source": [
    "# bmi구하기\n",
    "def bmi(height, weight):\n",
    "    return weight / (height/100)**2\n",
    "df['bmi'] = df['weight'] / (df['키']/100)**2"
   ]
  },
  {
   "cell_type": "code",
   "execution_count": 30,
   "id": "79953687-124b-4b7f-a539-0e1ee0224218",
   "metadata": {
    "id": "79953687-124b-4b7f-a539-0e1ee0224218"
   },
   "outputs": [
    {
     "data": {
      "text/plain": [
       "<AxesSubplot:>"
      ]
     },
     "execution_count": 30,
     "metadata": {},
     "output_type": "execute_result"
    },
    {
     "data": {
      "image/png": "[encoded data removed]",
      "text/plain": [
       "<Figure size 640x480 with 1 Axes>"
      ]
     },
     "metadata": {},
     "output_type": "display_data"
    }
   ],
   "source": [
    "df['bmi'].hist(bins= 5)"
   ]
  },
  {
   "cell_type": "markdown",
   "id": "1f6467c2-f2c7-42c1-891f-5f040ab6b6fc",
   "metadata": {
    "id": "1f6467c2-f2c7-42c1-891f-5f040ab6b6fc"
   },
   "source": [
    "- 만나이 구하기"
   ]
  },
  {
   "cell_type": "code",
   "execution_count": 31,
   "id": "9583da6a-8f54-498b-9f5b-545c0397e556",
   "metadata": {
    "id": "9583da6a-8f54-498b-9f5b-545c0397e556"
   },
   "outputs": [],
   "source": [
    "df['건강검진일'] = pd.to_datetime(df['건강검진일'].str.replace(\"_\",\"\"))\n",
    "df['생년월일'] = pd.to_datetime(df['생년월일'].astype('str'))"
   ]
  },
  {
   "cell_type": "code",
   "execution_count": 32,
   "id": "b84b7ddc-6397-4cb3-96d5-2502e6cfeb33",
   "metadata": {
    "id": "b84b7ddc-6397-4cb3-96d5-2502e6cfeb33"
   },
   "outputs": [
    {
     "data": {
      "text/plain": [
       "<AxesSubplot:>"
      ]
     },
     "execution_count": 32,
     "metadata": {},
     "output_type": "execute_result"
    },
    {
     "data": {
      "image/png": "[encoded data removed]",
      "text/plain": [
       "<Figure size 640x480 with 1 Axes>"
      ]
     },
     "metadata": {},
     "output_type": "display_data"
    }
   ],
   "source": [
    "df['만나이'] = np.ceil((df['건강검진일']-df['생년월일'])/ pd.Timedelta(days=365))-1\n",
    "df['만나이'].hist()"
   ]
  },
  {
   "cell_type": "code",
   "execution_count": 33,
   "id": "a087a865-dac1-462a-8e69-59920d906436",
   "metadata": {
    "id": "a087a865-dac1-462a-8e69-59920d906436"
   },
   "outputs": [
    {
     "data": {
      "text/html": [
       "<div>\n",
       "<style scoped>\n",
       "    .dataframe tbody tr th:only-of-type {\n",
       "        vertical-align: middle;\n",
       "    }\n",
       "\n",
       "    .dataframe tbody tr th {\n",
       "        vertical-align: top;\n",
       "    }\n",
       "\n",
       "    .dataframe thead th {\n",
       "        text-align: right;\n",
       "    }\n",
       "</style>\n",
       "<table border=\"1\" class=\"dataframe\">\n",
       "  <thead>\n",
       "    <tr style=\"text-align: right;\">\n",
       "      <th></th>\n",
       "      <th>ID</th>\n",
       "      <th>키</th>\n",
       "      <th>weight</th>\n",
       "      <th>생년월일</th>\n",
       "      <th>건강검진일</th>\n",
       "      <th>공학여부</th>\n",
       "      <th>채소섭취정도</th>\n",
       "      <th>아침식사여부</th>\n",
       "      <th>일주일운동시간</th>\n",
       "      <th>수면시간</th>\n",
       "      <th>성별</th>\n",
       "      <th>bmi</th>\n",
       "      <th>만나이</th>\n",
       "      <th>적정체중</th>\n",
       "    </tr>\n",
       "  </thead>\n",
       "  <tbody>\n",
       "    <tr>\n",
       "      <th>0</th>\n",
       "      <td>ID_4135</td>\n",
       "      <td>169.01</td>\n",
       "      <td>65.47</td>\n",
       "      <td>2004-10-03</td>\n",
       "      <td>2020-11-15</td>\n",
       "      <td>1</td>\n",
       "      <td>2</td>\n",
       "      <td>1</td>\n",
       "      <td>4.4</td>\n",
       "      <td>8.3</td>\n",
       "      <td>남성</td>\n",
       "      <td>22.920154</td>\n",
       "      <td>16.0</td>\n",
       "      <td>1</td>\n",
       "    </tr>\n",
       "    <tr>\n",
       "      <th>1</th>\n",
       "      <td>ID_3289</td>\n",
       "      <td>181.62</td>\n",
       "      <td>69.36</td>\n",
       "      <td>1997-07-25</td>\n",
       "      <td>2014-11-20</td>\n",
       "      <td>0</td>\n",
       "      <td>3</td>\n",
       "      <td>0</td>\n",
       "      <td>4.4</td>\n",
       "      <td>6.9</td>\n",
       "      <td>남성</td>\n",
       "      <td>21.027214</td>\n",
       "      <td>17.0</td>\n",
       "      <td>0</td>\n",
       "    </tr>\n",
       "    <tr>\n",
       "      <th>2</th>\n",
       "      <td>ID_1847</td>\n",
       "      <td>160.89</td>\n",
       "      <td>65.12</td>\n",
       "      <td>2002-09-21</td>\n",
       "      <td>2020-01-28</td>\n",
       "      <td>1</td>\n",
       "      <td>1</td>\n",
       "      <td>1</td>\n",
       "      <td>1.7</td>\n",
       "      <td>9.6</td>\n",
       "      <td>여성</td>\n",
       "      <td>25.156852</td>\n",
       "      <td>17.0</td>\n",
       "      <td>0</td>\n",
       "    </tr>\n",
       "    <tr>\n",
       "      <th>3</th>\n",
       "      <td>ID_4785</td>\n",
       "      <td>162.21</td>\n",
       "      <td>62.28</td>\n",
       "      <td>2002-01-06</td>\n",
       "      <td>2018-09-27</td>\n",
       "      <td>1</td>\n",
       "      <td>4</td>\n",
       "      <td>0</td>\n",
       "      <td>5.1</td>\n",
       "      <td>6.8</td>\n",
       "      <td>남성</td>\n",
       "      <td>23.669733</td>\n",
       "      <td>16.0</td>\n",
       "      <td>0</td>\n",
       "    </tr>\n",
       "    <tr>\n",
       "      <th>4</th>\n",
       "      <td>ID_5693</td>\n",
       "      <td>159.13</td>\n",
       "      <td>54.11</td>\n",
       "      <td>1998-07-08</td>\n",
       "      <td>2015-03-03</td>\n",
       "      <td>0</td>\n",
       "      <td>4</td>\n",
       "      <td>1</td>\n",
       "      <td>0.3</td>\n",
       "      <td>8.5</td>\n",
       "      <td>여성</td>\n",
       "      <td>21.368469</td>\n",
       "      <td>16.0</td>\n",
       "      <td>1</td>\n",
       "    </tr>\n",
       "  </tbody>\n",
       "</table>\n",
       "</div>"
      ],
      "text/plain": [
       "        ID       키  weight       생년월일      건강검진일  공학여부  채소섭취정도  아침식사여부   \n",
       "0  ID_4135  169.01   65.47 2004-10-03 2020-11-15     1       2       1  \\\n",
       "1  ID_3289  181.62   69.36 1997-07-25 2014-11-20     0       3       0   \n",
       "2  ID_1847  160.89   65.12 2002-09-21 2020-01-28     1       1       1   \n",
       "3  ID_4785  162.21   62.28 2002-01-06 2018-09-27     1       4       0   \n",
       "4  ID_5693  159.13   54.11 1998-07-08 2015-03-03     0       4       1   \n",
       "\n",
       "   일주일운동시간  수면시간  성별        bmi   만나이  적정체중  \n",
       "0      4.4   8.3  남성  22.920154  16.0     1  \n",
       "1      4.4   6.9  남성  21.027214  17.0     0  \n",
       "2      1.7   9.6  여성  25.156852  17.0     0  \n",
       "3      5.1   6.8  남성  23.669733  16.0     0  \n",
       "4      0.3   8.5  여성  21.368469  16.0     1  "
      ]
     },
     "execution_count": 33,
     "metadata": {},
     "output_type": "execute_result"
    }
   ],
   "source": [
    "def 적정체중(df):\n",
    "    '''\n",
    "    17세 남자 : 21.03이상 23.21 미만\n",
    "    17세 여자 : 20.03이상 22.39 미만\n",
    "    16세 남자 : 21.18이상 23.45 미만\n",
    "    16세 여자 : 19.61이상 21.74 미만\n",
    "    '''\n",
    "    conditions = [\n",
    "        (df['성별'] == '남성') & (df['만나이'] == 17) & (df['bmi'] >= 21.03) & (df['bmi'] < 23.21),\n",
    "        (df['성별'] == '여성') & (df['만나이'] == 17) & (df['bmi'] >= 20.03) & (df['bmi'] < 22.39),\n",
    "        (df['성별'] == '남성') & (df['만나이'] == 16) & (df['bmi'] >= 21.18) & (df['bmi'] < 23.45),\n",
    "        (df['성별'] == '여성') & (df['만나이'] == 16) & (df['bmi'] >= 19.61) & (df['bmi'] < 21.74)\n",
    "    ]\n",
    "\n",
    "    choices = [1, 1, 1, 1]  # Assign 1 if conditions are met\n",
    "\n",
    "    df['적정체중'] = np.select(conditions, choices, default=0)\n",
    "\n",
    "# Call the function to update the DataFrame\n",
    "적정체중(df)\n",
    "df.head(5)"
   ]
  },
  {
   "cell_type": "markdown",
   "id": "e4725c76",
   "metadata": {
    "id": "e4725c76"
   },
   "source": [
    "## 4-2 4-1에서 구한 적정 체중 여부와 나머지 컬럼(공학여부, 아침식사여부, 일주일운동시간, 채소섭취정도, 수면시간, 성별) 이 독립적인지 통계적으로 확인하라"
   ]
  },
  {
   "cell_type": "code",
   "execution_count": null,
   "id": "0e4742b3",
   "metadata": {
    "id": "0e4742b3"
   },
   "outputs": [],
   "source": [
    "import pandas as pd\n",
    "import numpy as np\n",
    "from scipy.stats import chi2_contingency\n",
    "\n",
    "# 가상의 데이터프레임 생성 (예시 데이터)\n",
    "to_check = ['공학여부', '아침식사여부', '일주일운동시간', '채소섭취정도', '수면시간', '성별']\n",
    "\n",
    "\n",
    "for check in to_check:\n",
    "    # 카이제곱 검정을 위해 교차표 생성\n",
    "    cross_tab = pd.crosstab(df['적정체중'], df[check])\n",
    "\n",
    "    # 카이제곱 검정 수행\n",
    "    chi2, p_val, _, _ = chi2_contingency(cross_tab)\n",
    "\n",
    "    # 결과 출력\n",
    "    print(\"--------------------\")\n",
    "    print(f\"{check}\")\n",
    "    print(f\"카이제곱 값: {chi2:.3f},p-value: {p_val:.3f}\")\n",
    "\n",
    "    if p_val < 0.05:\n",
    "        print(f\"p-value가 유의수준 0.05보다 작으므로 '적정체중 여부'와 '{check}': 통계적으로 유의미한 관계가 있습니다.\\n\")\n",
    "    else:\n",
    "        print(f\"p-value가 유의수준 0.05보다 크므로 '적정체중 여부'와 '{check}': 통계적으로 유의미한 관계가 없습니다.\\n\")"
   ]
  },
  {
   "cell_type": "markdown",
   "id": "8979641c",
   "metadata": {
    "id": "8979641c"
   },
   "source": [
    "## 4-3 4-2에서 유의한 변수들만 가지고 적정 체중 여부를 예측하는 모델을 구현하고 성능 평가 및 해석을 하라 (로지스틱회귀 ,xgb)\n",
    "> 로지스틱회귀 모델은 오즈비를 구하라\n",
    "> xgb의 경우 각 피쳐중요도를 확인하고 예측에 영향을 가장 미치는 변수를 확인하라"
   ]
  },
  {
   "cell_type": "code",
   "execution_count": null,
   "id": "47894af7",
   "metadata": {
    "id": "47894af7"
   },
   "outputs": [],
   "source": [
    "from sklearn.model_selection import train_test_split\n",
    "from sklearn.linear_model import LogisticRegression\n",
    "from xgboost import XGBClassifier\n",
    "from sklearn.metrics import accuracy_score, classification_report\n",
    "from sklearn.feature_selection import SelectFromModel\n",
    "\n",
    "to_make = ['공학여부','채소섭취정도','적정체중']\n",
    "df_ = df[to_make]\n",
    "\n",
    "X = df_[['공학여부','채소섭취정도']]\n",
    "y = df_['적정체중']\n",
    "\n",
    "# 데이터 분할\n",
    "X_train, X_test, y_train, y_test = train_test_split(X, y, test_size=0.2, random_state=42, stratify=y)\n",
    "\n",
    "# 로지스틱 회귀 모델 학습\n",
    "lr_model = LogisticRegression()\n",
    "lr_model.fit(X_train, y_train)\n",
    "\n",
    "# XGBoost 모델 학습\n",
    "xgb_model = XGBClassifier()\n",
    "xgb_model.fit(X_train, y_train)\n",
    "\n",
    "# 로지스틱 회귀 모델의 오즈비 출력\n",
    "odds_ratio = np.exp(lr_model.coef_)[0]\n",
    "print(\"로지스틱 회귀 모델의 오즈비:\")\n",
    "for i, feature in enumerate(X.columns):\n",
    "    print(f\"- {feature}: {odds_ratio[i]:.3f}\")\n",
    "\n",
    "print()\n",
    "\n",
    "# 모델 성능 평가\n",
    "lr_pred = lr_model.predict(X_test)\n",
    "xgb_pred = xgb_model.predict(X_test)\n",
    "\n",
    "print(\"로지스틱 회귀 모델 성능:\")\n",
    "print(classification_report(y_test, lr_pred))\n",
    "\n",
    "print(\"XGBoost 모델 성능:\")\n",
    "print(classification_report(y_test, xgb_pred))\n",
    "\n",
    "# XGBoost 모델의 피쳐 중요도 확인\n",
    "feature_importances = xgb_model.feature_importances_\n",
    "feature_importance_df = pd.DataFrame({'Feature': X.columns, 'Importance': feature_importances})\n",
    "feature_importance_df = feature_importance_df.sort_values(by='Importance', ascending=False)\n",
    "print(\"XGBoost 모델의 피쳐 중요도:\")\n",
    "print(feature_importance_df)"
   ]
  },
  {
   "cell_type": "markdown",
   "id": "d30b8589",
   "metadata": {
    "id": "d30b8589"
   },
   "source": [
    "## 4-4 4-3 두 모델의 roc-auc 그래프를 하나의 그래프에 겹쳐 그려라"
   ]
  },
  {
   "cell_type": "code",
   "execution_count": null,
   "id": "530b6171",
   "metadata": {
    "id": "530b6171"
   },
   "outputs": [],
   "source": [
    "import matplotlib.pyplot as plt\n",
    "from sklearn.metrics import roc_curve, roc_auc_score\n",
    "\n",
    "# 로지스틱 회귀 모델의 예측 확률\n",
    "lr_probs = lr_model.predict_proba(X_test)[:, 1]\n",
    "lr_fpr, lr_tpr, _ = roc_curve(y_test, lr_probs)\n",
    "lr_auc = roc_auc_score(y_test, lr_probs)\n",
    "\n",
    "# XGBoost 모델의 예측 확률\n",
    "xgb_probs = xgb_model.predict_proba(X_test)[:, 1]\n",
    "xgb_fpr, xgb_tpr, _ = roc_curve(y_test, xgb_probs)\n",
    "xgb_auc = roc_auc_score(y_test, xgb_probs)\n",
    "\n",
    "# ROC 곡선 그리기\n",
    "plt.figure(figsize=(8, 6))\n",
    "plt.plot(lr_fpr, lr_tpr, label=f'Logistic Regression (AUC = {lr_auc:.2f})')\n",
    "plt.plot(xgb_fpr, xgb_tpr, label=f'XGBoost (AUC = {xgb_auc:.2f})')\n",
    "plt.plot([0, 1], [0, 1], linestyle='--', color='gray')\n",
    "plt.xlabel('False Positive Rate')\n",
    "plt.ylabel('True Positive Rate')\n",
    "plt.title('ROC Curve')\n",
    "plt.legend()\n",
    "plt.show()\n"
   ]
  },
  {
   "cell_type": "markdown",
   "id": "526e7015",
   "metadata": {
    "id": "526e7015"
   },
   "source": [
    "# 통계 (40점)"
   ]
  },
  {
   "cell_type": "markdown",
   "id": "9da92811",
   "metadata": {
    "id": "9da92811"
   },
   "source": [
    "## 5. 평균이 $\\theta$이고 분산이 100인 정규분포의 사전분포가 100, 256일때 120의 값을 가지는 데이터가 있을 경우 사후평균은? (5점)\n",
    "무게가 N($\\theta$, 100)인 정규분포에서, 사전분포는 N(100, 256)이다. 제품의 무게가 120kg일 때, 사후분포의 평균을 구하라"
   ]
  },
  {
   "cell_type": "code",
   "execution_count": null,
   "id": "207d3c80",
   "metadata": {
    "id": "207d3c80",
    "outputId": "3284b63a-ae0c-430f-ef03-c33572e4c785"
   },
   "outputs": [
    {
     "name": "stdout",
     "output_type": "stream",
     "text": [
      "사후평균:114.382\n"
     ]
    }
   ],
   "source": [
    "import numpy as np\n",
    "from scipy.stats import norm\n",
    "\n",
    "# 사전분포의 평균과 분산\n",
    "prior_mean = 100\n",
    "prior_var = 256\n",
    "\n",
    "# 샘플의 평균과 분산\n",
    "data = 120\n",
    "data_var = 100\n",
    "\n",
    "# 사후분포의 평균 계산\n",
    "post_mean = (prior_mean * data_var + data * prior_var) / (data_var + prior_var)\n",
    "\n",
    "print(f\"사후평균:{post_mean:.3f}\")"
   ]
  },
  {
   "cell_type": "markdown",
   "id": "46d0923d",
   "metadata": {
    "id": "46d0923d"
   },
   "source": [
    "## 데이터 설명\n",
    "- 데이터 출처 : https://www.kaggle.com/datasets/yasserh/advertising-sales-dataset 후처리\n",
    "- 데이터 링크 : https://raw.githubusercontent.com/Datamanim/datarepo/main/adp/31/adp_31_5_advertising.csv\n",
    "- 데이터 설명 : TV, Radio, Newspaper에 각각 광고비(달러)를 다르게 했을때 매출액 (Sales , 밀리언달러)를 나타내는 데이터\n",
    "- 종속변수 : Sales"
   ]
  },
  {
   "cell_type": "markdown",
   "id": "20f8b71f",
   "metadata": {
    "id": "20f8b71f"
   },
   "source": [
    "## 6-1 회귀 모델링 후 유의하지 않는변수 파악 (15점)"
   ]
  },
  {
   "cell_type": "code",
   "execution_count": null,
   "id": "f4077ebc",
   "metadata": {
    "id": "f4077ebc",
    "outputId": "1eec871e-7b55-4c19-a890-d9968855ad21"
   },
   "outputs": [
    {
     "data": {
      "text/html": [
       "<div>\n",
       "<style scoped>\n",
       "    .dataframe tbody tr th:only-of-type {\n",
       "        vertical-align: middle;\n",
       "    }\n",
       "\n",
       "    .dataframe tbody tr th {\n",
       "        vertical-align: top;\n",
       "    }\n",
       "\n",
       "    .dataframe thead th {\n",
       "        text-align: right;\n",
       "    }\n",
       "</style>\n",
       "<table border=\"1\" class=\"dataframe\">\n",
       "  <thead>\n",
       "    <tr style=\"text-align: right;\">\n",
       "      <th></th>\n",
       "      <th>isna</th>\n",
       "      <th>nunique</th>\n",
       "      <th>dtypes</th>\n",
       "      <th>1st</th>\n",
       "      <th>2nd</th>\n",
       "    </tr>\n",
       "  </thead>\n",
       "  <tbody>\n",
       "    <tr>\n",
       "      <th>TV</th>\n",
       "      <td>0</td>\n",
       "      <td>190</td>\n",
       "      <td>float64</td>\n",
       "      <td>44.5</td>\n",
       "      <td>17.2</td>\n",
       "    </tr>\n",
       "    <tr>\n",
       "      <th>Radio</th>\n",
       "      <td>0</td>\n",
       "      <td>167</td>\n",
       "      <td>float64</td>\n",
       "      <td>39.3</td>\n",
       "      <td>45.9</td>\n",
       "    </tr>\n",
       "    <tr>\n",
       "      <th>Newspaper</th>\n",
       "      <td>0</td>\n",
       "      <td>172</td>\n",
       "      <td>float64</td>\n",
       "      <td>45.1</td>\n",
       "      <td>69.3</td>\n",
       "    </tr>\n",
       "    <tr>\n",
       "      <th>Sales</th>\n",
       "      <td>0</td>\n",
       "      <td>121</td>\n",
       "      <td>float64</td>\n",
       "      <td>10.4</td>\n",
       "      <td>12.0</td>\n",
       "    </tr>\n",
       "  </tbody>\n",
       "</table>\n",
       "</div>"
      ],
      "text/plain": [
       "           isna  nunique   dtypes   1st   2nd\n",
       "TV            0      190  float64  44.5  17.2\n",
       "Radio         0      167  float64  39.3  45.9\n",
       "Newspaper     0      172  float64  45.1  69.3\n",
       "Sales         0      121  float64  10.4  12.0"
      ]
     },
     "execution_count": 5,
     "metadata": {},
     "output_type": "execute_result"
    }
   ],
   "source": [
    "import pandas as pd\n",
    "df = pd.read_csv('https://raw.githubusercontent.com/Datamanim/datarepo/main/adp/31/adp_31_5_advertising.csv')\n",
    "resume(df)"
   ]
  },
  {
   "cell_type": "code",
   "execution_count": null,
   "id": "bcde6f2f-34fb-4f29-ae6e-ea8cb1af3d16",
   "metadata": {
    "id": "bcde6f2f-34fb-4f29-ae6e-ea8cb1af3d16",
    "outputId": "309b17a5-fb5e-4d9e-b4d3-62eb5ea54f28",
    "tags": []
   },
   "outputs": [
    {
     "data": {
      "text/html": [
       "<table class=\"simpletable\">\n",
       "<caption>OLS Regression Results</caption>\n",
       "<tr>\n",
       "  <th>Dep. Variable:</th>          <td>Sales</td>      <th>  R-squared:         </th> <td>   0.903</td>\n",
       "</tr>\n",
       "<tr>\n",
       "  <th>Model:</th>                   <td>OLS</td>       <th>  Adj. R-squared:    </th> <td>   0.901</td>\n",
       "</tr>\n",
       "<tr>\n",
       "  <th>Method:</th>             <td>Least Squares</td>  <th>  F-statistic:       </th> <td>   605.4</td>\n",
       "</tr>\n",
       "<tr>\n",
       "  <th>Date:</th>             <td>Sun, 10 Mar 2024</td> <th>  Prob (F-statistic):</th> <td>8.13e-99</td>\n",
       "</tr>\n",
       "<tr>\n",
       "  <th>Time:</th>                 <td>23:32:41</td>     <th>  Log-Likelihood:    </th> <td> -383.34</td>\n",
       "</tr>\n",
       "<tr>\n",
       "  <th>No. Observations:</th>      <td>   200</td>      <th>  AIC:               </th> <td>   774.7</td>\n",
       "</tr>\n",
       "<tr>\n",
       "  <th>Df Residuals:</th>          <td>   196</td>      <th>  BIC:               </th> <td>   787.9</td>\n",
       "</tr>\n",
       "<tr>\n",
       "  <th>Df Model:</th>              <td>     3</td>      <th>                     </th>     <td> </td>   \n",
       "</tr>\n",
       "<tr>\n",
       "  <th>Covariance Type:</th>      <td>nonrobust</td>    <th>                     </th>     <td> </td>   \n",
       "</tr>\n",
       "</table>\n",
       "<table class=\"simpletable\">\n",
       "<tr>\n",
       "      <td></td>         <th>coef</th>     <th>std err</th>      <th>t</th>      <th>P>|t|</th>  <th>[0.025</th>    <th>0.975]</th>  \n",
       "</tr>\n",
       "<tr>\n",
       "  <th>Intercept</th> <td>    4.6251</td> <td>    0.308</td> <td>   15.041</td> <td> 0.000</td> <td>    4.019</td> <td>    5.232</td>\n",
       "</tr>\n",
       "<tr>\n",
       "  <th>TV</th>        <td>    0.0544</td> <td>    0.001</td> <td>   39.592</td> <td> 0.000</td> <td>    0.052</td> <td>    0.057</td>\n",
       "</tr>\n",
       "<tr>\n",
       "  <th>Radio</th>     <td>    0.1070</td> <td>    0.008</td> <td>   12.604</td> <td> 0.000</td> <td>    0.090</td> <td>    0.124</td>\n",
       "</tr>\n",
       "<tr>\n",
       "  <th>Newspaper</th> <td>    0.0003</td> <td>    0.006</td> <td>    0.058</td> <td> 0.954</td> <td>   -0.011</td> <td>    0.012</td>\n",
       "</tr>\n",
       "</table>\n",
       "<table class=\"simpletable\">\n",
       "<tr>\n",
       "  <th>Omnibus:</th>       <td>16.081</td> <th>  Durbin-Watson:     </th> <td>   2.251</td>\n",
       "</tr>\n",
       "<tr>\n",
       "  <th>Prob(Omnibus):</th> <td> 0.000</td> <th>  Jarque-Bera (JB):  </th> <td>  27.655</td>\n",
       "</tr>\n",
       "<tr>\n",
       "  <th>Skew:</th>          <td>-0.431</td> <th>  Prob(JB):          </th> <td>9.88e-07</td>\n",
       "</tr>\n",
       "<tr>\n",
       "  <th>Kurtosis:</th>      <td> 4.605</td> <th>  Cond. No.          </th> <td>    454.</td>\n",
       "</tr>\n",
       "</table><br/><br/>Notes:<br/>[1] Standard Errors assume that the covariance matrix of the errors is correctly specified."
      ],
      "text/plain": [
       "<class 'statsmodels.iolib.summary.Summary'>\n",
       "\"\"\"\n",
       "                            OLS Regression Results                            \n",
       "==============================================================================\n",
       "Dep. Variable:                  Sales   R-squared:                       0.903\n",
       "Model:                            OLS   Adj. R-squared:                  0.901\n",
       "Method:                 Least Squares   F-statistic:                     605.4\n",
       "Date:                Sun, 10 Mar 2024   Prob (F-statistic):           8.13e-99\n",
       "Time:                        23:32:41   Log-Likelihood:                -383.34\n",
       "No. Observations:                 200   AIC:                             774.7\n",
       "Df Residuals:                     196   BIC:                             787.9\n",
       "Df Model:                           3                                         \n",
       "Covariance Type:            nonrobust                                         \n",
       "==============================================================================\n",
       "                 coef    std err          t      P>|t|      [0.025      0.975]\n",
       "------------------------------------------------------------------------------\n",
       "Intercept      4.6251      0.308     15.041      0.000       4.019       5.232\n",
       "TV             0.0544      0.001     39.592      0.000       0.052       0.057\n",
       "Radio          0.1070      0.008     12.604      0.000       0.090       0.124\n",
       "Newspaper      0.0003      0.006      0.058      0.954      -0.011       0.012\n",
       "==============================================================================\n",
       "Omnibus:                       16.081   Durbin-Watson:                   2.251\n",
       "Prob(Omnibus):                  0.000   Jarque-Bera (JB):               27.655\n",
       "Skew:                          -0.431   Prob(JB):                     9.88e-07\n",
       "Kurtosis:                       4.605   Cond. No.                         454.\n",
       "==============================================================================\n",
       "\n",
       "Notes:\n",
       "[1] Standard Errors assume that the covariance matrix of the errors is correctly specified.\n",
       "\"\"\""
      ]
     },
     "execution_count": 6,
     "metadata": {},
     "output_type": "execute_result"
    }
   ],
   "source": [
    "import statsmodels.formula.api as sm\n",
    "\n",
    "model = sm.ols('Sales~TV+Radio+Newspaper',data = df).fit()\n",
    "\n",
    "model.summary()"
   ]
  },
  {
   "cell_type": "markdown",
   "id": "712d3da1-5e87-4a8b-a00a-e42ab4c24475",
   "metadata": {
    "id": "712d3da1-5e87-4a8b-a00a-e42ab4c24475"
   },
   "source": [
    "> Newspaper는 p value가 0.954 로 통계적으로 유의하다고 하기 어렵다"
   ]
  },
  {
   "cell_type": "markdown",
   "id": "a3a3f23b",
   "metadata": {
    "id": "a3a3f23b"
   },
   "source": [
    "## 6-2 변수 선택시 먼저 제거 될 변수 및 근거 제시"
   ]
  },
  {
   "cell_type": "code",
   "execution_count": null,
   "id": "cc35387d",
   "metadata": {
    "id": "cc35387d",
    "outputId": "2e341399-c980-494c-8cc0-a55bb94eb253"
   },
   "outputs": [
    {
     "name": "stdout",
     "output_type": "stream",
     "text": [
      "가장 높은 p-value를 가진 변수: Newspaper, p-value: 0.0004900619254961742\n"
     ]
    }
   ],
   "source": [
    "import pandas as pd\n",
    "import numpy as np\n",
    "from statsmodels.stats.outliers_influence import variance_inflation_factor\n",
    "import statsmodels.api as sm\n",
    "\n",
    "# 데이터 불러오기\n",
    "url = \"https://raw.githubusercontent.com/Datamanim/datarepo/main/adp/31/adp_31_5_advertising.csv\"\n",
    "df = pd.read_csv(url)\n",
    "\n",
    "# 종속변수 및 독립변수 설정\n",
    "y = df['Sales']\n",
    "X = df.drop(['Sales'], axis=1)\n",
    "\n",
    "# 변수 선택을 위한 OLS 모델 fitting\n",
    "model = sm.OLS(y, X)\n",
    "results = model.fit()\n",
    "\n",
    "# 변수 선택시 먼저 제거될 변수 및 근거 제시\n",
    "# 예를 들어, p-value를 기준으로 변수 선택\n",
    "p_values = results.pvalues\n",
    "max_p_value_index = p_values.idxmax()\n",
    "max_p_value = p_values.max()\n",
    "\n",
    "print(f\"가장 높은 p-value를 가진 변수: {max_p_value_index}, p-value: {max_p_value}\")"
   ]
  },
  {
   "cell_type": "markdown",
   "id": "b8167183",
   "metadata": {
    "id": "b8167183"
   },
   "source": [
    "## 6-3 VIF를 통한 다중공선성 진단"
   ]
  },
  {
   "cell_type": "code",
   "execution_count": null,
   "id": "6ffb4f72",
   "metadata": {
    "id": "6ffb4f72",
    "outputId": "c406885d-52d2-4f87-8a87-2bbe6aee52b9"
   },
   "outputs": [
    {
     "name": "stdout",
     "output_type": "stream",
     "text": [
      "가장 높은 p-value를 가진 변수: Newspaper, p-value: 0.0004900619254961742\n",
      "\n",
      "다중공선성 진단 결과:\n",
      "     Feature       VIF\n",
      "0         TV  2.486772\n",
      "1      Radio  3.285462\n",
      "2  Newspaper  3.055245\n"
     ]
    }
   ],
   "source": [
    "# 데이터 불러오기\n",
    "url = \"https://raw.githubusercontent.com/Datamanim/datarepo/main/adp/31/adp_31_5_advertising.csv\"\n",
    "df = pd.read_csv(url)\n",
    "\n",
    "# 종속변수 및 독립변수 설정\n",
    "y = df['Sales']\n",
    "X = df.drop(['Sales'], axis=1)\n",
    "\n",
    "# 변수 선택을 위한 OLS 모델 fitting\n",
    "model = sm.OLS(y, X)\n",
    "results = model.fit()\n",
    "\n",
    "# 변수 선택시 먼저 제거될 변수 및 근거 제시\n",
    "# 예를 들어, p-value를 기준으로 변수 선택\n",
    "p_values = results.pvalues\n",
    "max_p_value_index = p_values.idxmax()\n",
    "max_p_value = p_values.max()\n",
    "\n",
    "print(f\"가장 높은 p-value를 가진 변수: {max_p_value_index}, p-value: {max_p_value}\")\n",
    "\n",
    "# VIF를 통한 다중공선성 진단\n",
    "vif_data = pd.DataFrame()\n",
    "vif_data[\"Feature\"] = X.columns\n",
    "vif_data[\"VIF\"] = [variance_inflation_factor(X.values, i) for i in range(X.shape[1])]\n",
    "\n",
    "print(\"\\n다중공선성 진단 결과:\")\n",
    "print(vif_data)"
   ]
  },
  {
   "cell_type": "code",
   "execution_count": null,
   "id": "0fdd8a42-90d8-4ed9-9082-f7ecac579b95",
   "metadata": {
    "id": "0fdd8a42-90d8-4ed9-9082-f7ecac579b95",
    "outputId": "652d1c0b-2cf0-4531-f073-6f3778960026"
   },
   "outputs": [
    {
     "name": "stdout",
     "output_type": "stream",
     "text": [
      "\n",
      "다중공선성 진단 결과:\n",
      "     Feature       VIF\n",
      "0         TV  2.486772\n",
      "1      Radio  3.285462\n",
      "2  Newspaper  3.055245\n"
     ]
    }
   ],
   "source": [
    "# VIF를 통한 다중공선성 진단\n",
    "vif_data = pd.DataFrame()\n",
    "vif_data[\"Feature\"] = X.columns\n",
    "vif_data[\"VIF\"] = [variance_inflation_factor(X.values, i) for i in range(X.shape[1])]\n",
    "\n",
    "print(\"\\n다중공선성 진단 결과:\")\n",
    "print(vif_data)"
   ]
  },
  {
   "cell_type": "markdown",
   "id": "60ee65d8-7d79-467c-9d6a-031c43fc2eb9",
   "metadata": {
    "id": "60ee65d8-7d79-467c-9d6a-031c43fc2eb9"
   },
   "source": [
    "- VIF 값이 10 이하로, 다중공선성의 문제가 거의 없다고 판단\n"
   ]
  },
  {
   "cell_type": "markdown",
   "id": "a481bc78",
   "metadata": {
    "id": "a481bc78"
   },
   "source": [
    "## 7 (15점)  \n",
    "- 데이터 링크 : https://raw.githubusercontent.com/Datamanim/datarepo/main/adp/31/adp_31_7.csv\n",
    "- 데이터 설명 : A,B,C,D,E 영업사원의 각 계약 성사 유무 (1:계약 , 0:미계약) 를 나타낸 데이터이다. 영업사원의 평균 계약 성사 건수는 같은지 통계 검정하라"
   ]
  },
  {
   "cell_type": "code",
   "execution_count": null,
   "id": "688c6492",
   "metadata": {
    "id": "688c6492",
    "outputId": "b3c896dd-fe6d-4aa6-b700-928e40d0b56e"
   },
   "outputs": [
    {
     "name": "stdout",
     "output_type": "stream",
     "text": [
      "이항변수로 되어있는 독립인 3개 이상의 집단(변수) 간 분포의 차이를 검정할 때에는 코크란 Q 검정을 이용한다.\n",
      "※ 참고로 독립이 아닌 대응표본에서 명목척도의 분포 차이를 검정할 때는 맥니마 검정을 이용한다.\n",
      "\n",
      "코크란 검정 결과 p-value는 0.3406로 유의수준인 0.05보다 큰 것으로 나타난다. \n",
      "\n",
      "이는 귀무가설을 기각할 근거가 충분하지 않으며 영업사원의 평균 계약 성사 건수가 다르지 않다는 것을 의미한다.\n"
     ]
    }
   ],
   "source": [
    "import pandas as pd\n",
    "import scipy.stats as stats\n",
    "\n",
    "# 데이터 불러오기\n",
    "url = \"https://raw.githubusercontent.com/Datamanim/datarepo/main/adp/31/adp_31_7.csv\"\n",
    "df = pd.read_csv(url)\n",
    "\n",
    "print('''이항변수로 되어있는 독립인 3개 이상의 집단(변수) 간 분포의 차이를 검정할 때에는 코크란 Q 검정을 이용한다.\n",
    "※ 참고로 독립이 아닌 대응표본에서 명목척도의 분포 차이를 검정할 때는 맥니마 검정을 이용한다.''')\n",
    "\n",
    "from statsmodels.stats.contingency_tables import cochrans_q\n",
    "\n",
    "df7_1 = df.drop(columns = 'Unnamed: 0')\n",
    "\n",
    "cq = cochrans_q(df7_1)\n",
    "print('''\\n코크란 검정 결과 p-value는 {:.4f}로 유의수준인 0.05보다 큰 것으로 나타난다. \\n\n",
    "이는 귀무가설을 기각할 근거가 충분하지 않으며 영업사원의 평균 계약 성사 건수가 다르지 않다는 것을 의미한다.'''.format(cq.pvalue))"
   ]
  },
  {
   "cell_type": "markdown",
   "id": "23bc4496",
   "metadata": {
    "id": "23bc4496"
   },
   "source": [
    "## 8 유기견이 하루에 2.2마리 발생한다 (10점)"
   ]
  },
  {
   "cell_type": "markdown",
   "id": "4fc76499",
   "metadata": {
    "id": "4fc76499"
   },
   "source": [
    "## 8-1 한 마리도 안 버려질 확률"
   ]
  },
  {
   "cell_type": "code",
   "execution_count": null,
   "id": "79ec362c",
   "metadata": {
    "id": "79ec362c",
    "outputId": "311a7d71-9030-401a-9340-cfca8145edfd"
   },
   "outputs": [
    {
     "data": {
      "text/plain": [
       "0.11080315836233387"
      ]
     },
     "execution_count": 11,
     "metadata": {},
     "output_type": "execute_result"
    }
   ],
   "source": [
    "from scipy.stats import poisson\n",
    "lamda = 2.2\n",
    "X= 0\n",
    "poisson.pmf(0,2.2)"
   ]
  },
  {
   "cell_type": "code",
   "execution_count": null,
   "id": "edfed086-e58a-4086-a080-adb1e13f48b8",
   "metadata": {
    "id": "edfed086-e58a-4086-a080-adb1e13f48b8",
    "outputId": "8cfaceb6-2954-441f-b14e-ba74ed0a5be0"
   },
   "outputs": [
    {
     "name": "stdout",
     "output_type": "stream",
     "text": [
      "한 마리도 안 버려질 확률: 0.11080315836233387\n"
     ]
    }
   ],
   "source": [
    "import math\n",
    "\n",
    "# 평균이 2.2인 포아송 분포를 따르는 경우\n",
    "lambda_val = 2.2\n",
    "\n",
    "# 한 마리도 안 버려질 확률 계산\n",
    "prob_zero_dogs = math.exp(-lambda_val) * (lambda_val ** 0) / math.factorial(0)\n",
    "print(\"한 마리도 안 버려질 확률:\", prob_zero_dogs)"
   ]
  },
  {
   "cell_type": "markdown",
   "id": "b3eec6b1",
   "metadata": {
    "id": "b3eec6b1"
   },
   "source": [
    "## 8-2 적어도 2마리 버려질 확률"
   ]
  },
  {
   "cell_type": "code",
   "execution_count": null,
   "id": "d666f6c9",
   "metadata": {
    "id": "d666f6c9",
    "outputId": "39b4a8fc-d9ce-42de-9825-8e19c3aae1ec"
   },
   "outputs": [
    {
     "data": {
      "text/plain": [
       "0.6227137499963162"
      ]
     },
     "execution_count": 33,
     "metadata": {},
     "output_type": "execute_result"
    }
   ],
   "source": [
    "poisson.cdf(2,2.2)"
   ]
  },
  {
   "cell_type": "code",
   "execution_count": null,
   "id": "c8f8b4d6-fe70-469a-8e26-b90f97a3a5dc",
   "metadata": {
    "id": "c8f8b4d6-fe70-469a-8e26-b90f97a3a5dc"
   },
   "outputs": [],
   "source": [
    "# 적어도 2마리 버려질 확률 계산\n",
    "prob_at_least_two_dogs = 1 - (prob_zero_dogs + math.exp(-lambda_val) * (lambda_val ** 1) / math.factorial(1))\n",
    "print(\"적어도 2마리 버려질 확률:\", prob_at_least_two_dogs)"
   ]
  }
 ],
 "metadata": {
  "colab": {
   "provenance": []
  },
  "kernelspec": {
   "display_name": "Python 3 (ipykernel)",
   "language": "python",
   "name": "python3"
  },
  "language_info": {
   "codemirror_mode": {
    "name": "ipython",
    "version": 3
   },
   "file_extension": ".py",
   "mimetype": "text/x-python",
   "name": "python",
   "nbconvert_exporter": "python",
   "pygments_lexer": "ipython3",
   "version": "3.10.9"
  }
 },
 "nbformat": 4,
 "nbformat_minor": 5
}
