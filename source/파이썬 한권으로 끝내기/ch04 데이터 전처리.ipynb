{
   "cells": [
      {
         "cell_type": "markdown",
         "metadata": {},
         "source": [
            "# 데이터 전처리의 의미\n",
            "- 수행하고자 하는 분석에 적합하게 데이터 가공하는 것으로 <br> 결측값 및 이상치를 처리하고, 분석도구에 적합하지 않은 변수는 제거해주며 데이터를 분석에 활용하기 좋도록 품질을 향상시키는 역할 수행\n",
            "    - 데이터 클린징 : 결측치 처리, 이상치 확인 및 정제\n",
            "    - 데이터 통합 : 다양한 데이터 파일의 결합 등\n",
            "    - 데이터 변환 : 스케일링, 요약 등\n",
            "    - 데이터 축소 : 변수 축소, 라벨링 등\n",
            "    - 불균형 데이터 처리 : 언더 샘플링, 오버 샘플링\n",
            "    - 데이터 분할 : train, val, test 데이터 분할"
         ]
      },
      {
         "cell_type": "markdown",
         "metadata": {},
         "source": [
            "# 이상치 확인 및 정제"
         ]
      },
      {
         "cell_type": "markdown",
         "metadata": {},
         "source": [
            "## 이상치의 의미\n",
            "- 결측치, 다른 데이터들과 값의 차이가 큰 데이터\n",
            "- 측정의 변동성, 실험의 오류, 측정 장비의 오류 등이 이유\n",
            "- 자료 수집 시, 결측치를 대신하기 위해 넣은 값이 이상치일 수도 있다.\n",
            "- 자료 수집의 오류로 발생한 이상치는 되도록 제거 하는 것이 모델 성능에 좋다.\n",
            "    - 관측값과 다른 형식의 이상치\n",
            "    - 관측값과 형식은 같지만 값이 현저히 차이나는 이상치\n",
            "    - 자료 수집 오류로 인한 이상치\n",
            "\n",
            "## 이상치 확인\n",
            "- 데이터 정의서를 확인하여 기준을 벗어나는 값\n",
            "- 기준이 없다면 도메인 지식을 가진 사람이 판단\n",
            "- 수치형의 경우 IQR(inter quantile range) 방식 사용\n",
            "\n",
            "\n",
            "※ IQR 방식 <BR>\n",
            "    IQR = Q3 – Q1 (3사분위수에서 1사분위수를 차감)<BR>\n",
            "    Q3 + 1.5 IQR (최대값) 넘거나, Q1 – 1.5 IQR (최소값) 미만인 수치를 이상치로 판단    \n"
         ]
      },
      {
         "cell_type": "code",
         "execution_count": 1,
         "metadata": {},
         "outputs": [],
         "source": [
            "import pandas as pd\n",
            "import matplotlib.pyplot as plt\n",
            "from sklearn.datasets import load_wine\n",
            "\n",
            "wine_load = load_wine()\n",
            "wine = pd.DataFrame(wine_load.data, columns=wine_load.feature_names)\n",
            "wine['Class'] = wine_load.target\n",
            "wine['Class'] = wine['Class'].map({0:'class_0', 1:'class_1', 2:'class_2'})"
         ]
      },
      {
         "cell_type": "code",
         "execution_count": 2,
         "metadata": {},
         "outputs": [
            {
               "data": {
                  "text/html": [
                     "<div>\n",
                     "<style scoped>\n",
                     "    .dataframe tbody tr th:only-of-type {\n",
                     "        vertical-align: middle;\n",
                     "    }\n",
                     "\n",
                     "    .dataframe tbody tr th {\n",
                     "        vertical-align: top;\n",
                     "    }\n",
                     "\n",
                     "    .dataframe thead th {\n",
                     "        text-align: right;\n",
                     "    }\n",
                     "</style>\n",
                     "<table border=\"1\" class=\"dataframe\">\n",
                     "  <thead>\n",
                     "    <tr style=\"text-align: right;\">\n",
                     "      <th></th>\n",
                     "      <th>alcohol</th>\n",
                     "      <th>malic_acid</th>\n",
                     "      <th>ash</th>\n",
                     "      <th>alcalinity_of_ash</th>\n",
                     "      <th>magnesium</th>\n",
                     "      <th>total_phenols</th>\n",
                     "      <th>flavanoids</th>\n",
                     "      <th>nonflavanoid_phenols</th>\n",
                     "      <th>proanthocyanins</th>\n",
                     "      <th>color_intensity</th>\n",
                     "      <th>hue</th>\n",
                     "      <th>od280/od315_of_diluted_wines</th>\n",
                     "      <th>proline</th>\n",
                     "      <th>Class</th>\n",
                     "    </tr>\n",
                     "  </thead>\n",
                     "  <tbody>\n",
                     "    <tr>\n",
                     "      <th>0</th>\n",
                     "      <td>14.23</td>\n",
                     "      <td>1.71</td>\n",
                     "      <td>2.43</td>\n",
                     "      <td>15.6</td>\n",
                     "      <td>127.0</td>\n",
                     "      <td>2.80</td>\n",
                     "      <td>3.06</td>\n",
                     "      <td>0.28</td>\n",
                     "      <td>2.29</td>\n",
                     "      <td>5.64</td>\n",
                     "      <td>1.04</td>\n",
                     "      <td>3.92</td>\n",
                     "      <td>1065.0</td>\n",
                     "      <td>class_0</td>\n",
                     "    </tr>\n",
                     "    <tr>\n",
                     "      <th>1</th>\n",
                     "      <td>13.20</td>\n",
                     "      <td>1.78</td>\n",
                     "      <td>2.14</td>\n",
                     "      <td>11.2</td>\n",
                     "      <td>100.0</td>\n",
                     "      <td>2.65</td>\n",
                     "      <td>2.76</td>\n",
                     "      <td>0.26</td>\n",
                     "      <td>1.28</td>\n",
                     "      <td>4.38</td>\n",
                     "      <td>1.05</td>\n",
                     "      <td>3.40</td>\n",
                     "      <td>1050.0</td>\n",
                     "      <td>class_0</td>\n",
                     "    </tr>\n",
                     "    <tr>\n",
                     "      <th>2</th>\n",
                     "      <td>13.16</td>\n",
                     "      <td>2.36</td>\n",
                     "      <td>2.67</td>\n",
                     "      <td>18.6</td>\n",
                     "      <td>101.0</td>\n",
                     "      <td>2.80</td>\n",
                     "      <td>3.24</td>\n",
                     "      <td>0.30</td>\n",
                     "      <td>2.81</td>\n",
                     "      <td>5.68</td>\n",
                     "      <td>1.03</td>\n",
                     "      <td>3.17</td>\n",
                     "      <td>1185.0</td>\n",
                     "      <td>class_0</td>\n",
                     "    </tr>\n",
                     "  </tbody>\n",
                     "</table>\n",
                     "</div>"
                  ],
                  "text/plain": [
                     "   alcohol  malic_acid   ash  alcalinity_of_ash  magnesium  total_phenols  \\\n",
                     "0    14.23        1.71  2.43               15.6      127.0           2.80   \n",
                     "1    13.20        1.78  2.14               11.2      100.0           2.65   \n",
                     "2    13.16        2.36  2.67               18.6      101.0           2.80   \n",
                     "\n",
                     "   flavanoids  nonflavanoid_phenols  proanthocyanins  color_intensity   hue  \\\n",
                     "0        3.06                  0.28             2.29             5.64  1.04   \n",
                     "1        2.76                  0.26             1.28             4.38  1.05   \n",
                     "2        3.24                  0.30             2.81             5.68  1.03   \n",
                     "\n",
                     "   od280/od315_of_diluted_wines  proline    Class  \n",
                     "0                          3.92   1065.0  class_0  \n",
                     "1                          3.40   1050.0  class_0  \n",
                     "2                          3.17   1185.0  class_0  "
                  ]
               },
               "execution_count": 2,
               "metadata": {},
               "output_type": "execute_result"
            }
         ],
         "source": [
            "wine.head(3)"
         ]
      },
      {
         "cell_type": "code",
         "execution_count": 3,
         "metadata": {},
         "outputs": [
            {
               "data": {
                  "text/plain": [
                     "Index(['alcohol', 'malic_acid', 'ash', 'alcalinity_of_ash', 'magnesium',\n",
                     "       'total_phenols', 'flavanoids', 'nonflavanoid_phenols',\n",
                     "       'proanthocyanins', 'color_intensity', 'hue',\n",
                     "       'od280/od315_of_diluted_wines', 'proline', 'Class'],\n",
                     "      dtype='object')"
                  ]
               },
               "execution_count": 3,
               "metadata": {},
               "output_type": "execute_result"
            }
         ],
         "source": [
            "wine.columns"
         ]
      },
      {
         "cell_type": "code",
         "execution_count": 4,
         "metadata": {},
         "outputs": [
            {
               "data": {
                  "image/png": "[encoded data removed]",
                  "text/plain": [
                     "<Figure size 432x288 with 1 Axes>"
                  ]
               },
               "metadata": {
                  "needs_background": "light"
               },
               "output_type": "display_data"
            }
         ],
         "source": [
            "plt.boxplot(wine['color_intensity'], whis=1.5)\n",
            "plt.title('color_intensity')\n",
            "plt.show()"
         ]
      },
      {
         "cell_type": "markdown",
         "metadata": {},
         "source": [
            "- 4개의 이상치가 있음\n",
            "- 이를 아래와 같이 IQR을 통해 확인 가능\n",
            "- 하지만 IQR을 활용하는 방법은 너무 많은 데이터를 이상치로 간주 할 가능성이 있다.\n",
            "- 데이터 유형을 보고 필요에 따라 곱하는 값을 조정하는 것도 방법 (아래의 함수 참고)"
         ]
      },
      {
         "cell_type": "code",
         "execution_count": 6,
         "metadata": {},
         "outputs": [
            {
               "data": {
                  "text/html": [
                     "<div>\n",
                     "<style scoped>\n",
                     "    .dataframe tbody tr th:only-of-type {\n",
                     "        vertical-align: middle;\n",
                     "    }\n",
                     "\n",
                     "    .dataframe tbody tr th {\n",
                     "        vertical-align: top;\n",
                     "    }\n",
                     "\n",
                     "    .dataframe thead th {\n",
                     "        text-align: right;\n",
                     "    }\n",
                     "</style>\n",
                     "<table border=\"1\" class=\"dataframe\">\n",
                     "  <thead>\n",
                     "    <tr style=\"text-align: right;\">\n",
                     "      <th></th>\n",
                     "      <th>color_intensity</th>\n",
                     "    </tr>\n",
                     "  </thead>\n",
                     "  <tbody>\n",
                     "    <tr>\n",
                     "      <th>151</th>\n",
                     "      <td>10.80</td>\n",
                     "    </tr>\n",
                     "    <tr>\n",
                     "      <th>158</th>\n",
                     "      <td>13.00</td>\n",
                     "    </tr>\n",
                     "    <tr>\n",
                     "      <th>159</th>\n",
                     "      <td>11.75</td>\n",
                     "    </tr>\n",
                     "    <tr>\n",
                     "      <th>166</th>\n",
                     "      <td>10.68</td>\n",
                     "    </tr>\n",
                     "  </tbody>\n",
                     "</table>\n",
                     "</div>"
                  ],
                  "text/plain": [
                     "     color_intensity\n",
                     "151            10.80\n",
                     "158            13.00\n",
                     "159            11.75\n",
                     "166            10.68"
                  ]
               },
               "execution_count": 6,
               "metadata": {},
               "output_type": "execute_result"
            }
         ],
         "source": [
            "import numpy as np\n",
            "\n",
            "def outliers_iqr(df, col):\n",
            "    q1, q3 = np.percentile(df[col], [25, 75])\n",
            "    iqr = q3 - q1\n",
            "    outliers = df[(df[col] < q1 - (iqr*1.5))|(df[col] > q3 + (iqr*1.5))]\n",
            "    return outliers[[col]]\n",
            "\n",
            "outliers = outliers_iqr(wine, 'color_intensity')\n",
            "outliers"
         ]
      },
      {
         "cell_type": "markdown",
         "metadata": {},
         "source": [
            "## 이상치 정제\n",
            "### 이상치 제거\n",
            "- 데이터 전체 수에 비하여 이상치가 적을 경우 삭제 할 수 있다 <BR>\n",
            "(단, 삭제시 분석에 사용 가능한 데이터 수가 줄어들기 때문에, 주의한다)"
         ]
      },
      {
         "cell_type": "code",
         "execution_count": 7,
         "metadata": {},
         "outputs": [
            {
               "name": "stdout",
               "output_type": "stream",
               "text": [
                  "Original :  (178, 14)\n",
                  "Drop outliers :  (174, 14)\n"
               ]
            }
         ],
         "source": [
            "drop_outliers = wine.drop(index=outliers.index)\n",
            "\n",
            "print('Original : ', wine.shape)\n",
            "print('Drop outliers : ', drop_outliers.shape)"
         ]
      },
      {
         "cell_type": "markdown",
         "metadata": {},
         "source": [
            "### 이상치 대체\n",
            "- 이상치를 Null로 만들고, 평균 등의 수치로 대체한다. "
         ]
      },
      {
         "cell_type": "code",
         "execution_count": 8,
         "metadata": {},
         "outputs": [
            {
               "data": {
                  "text/plain": [
                     "151    4.908678\n",
                     "158    4.908678\n",
                     "159    4.908678\n",
                     "166    4.908678\n",
                     "Name: color_intensity, dtype: float64"
                  ]
               },
               "execution_count": 8,
               "metadata": {},
               "output_type": "execute_result"
            }
         ],
         "source": [
            "wine.loc[outliers.index, 'color_intensity'] = np.nan\n",
            "wine['color_intensity']=wine['color_intensity'].fillna(wine['color_intensity'].mean())\n",
            "wine.loc[outliers.index, 'color_intensity']"
         ]
      },
      {
         "cell_type": "markdown",
         "metadata": {},
         "source": [
            "# 범주형 변수 처리\n",
            "- 문자열, object, category 형\n",
            "- 사칙 연산 불가능, 수학적 의미 없음\n",
            "- 모델 학습에 바로 사용할 수 없어 처리가 필요하다.\n",
            "- label encoding이나 one hot encoding 등이 사용됨\n",
            "- one hot encoding(더미 변수)는 범주 별로 컬럼 변수를 만들어, 원본 변수가 해당 컬럼에 포함되면 1로 아니면 0으로 설정\n",
            "- pd.get_dummies(data, columns=['범주형1', '범주형2'])"
         ]
      },
      {
         "cell_type": "code",
         "execution_count": 10,
         "metadata": {},
         "outputs": [
            {
               "data": {
                  "text/html": [
                     "<div>\n",
                     "<style scoped>\n",
                     "    .dataframe tbody tr th:only-of-type {\n",
                     "        vertical-align: middle;\n",
                     "    }\n",
                     "\n",
                     "    .dataframe tbody tr th {\n",
                     "        vertical-align: top;\n",
                     "    }\n",
                     "\n",
                     "    .dataframe thead th {\n",
                     "        text-align: right;\n",
                     "    }\n",
                     "</style>\n",
                     "<table border=\"1\" class=\"dataframe\">\n",
                     "  <thead>\n",
                     "    <tr style=\"text-align: right;\">\n",
                     "      <th></th>\n",
                     "      <th>sepal length (cm)</th>\n",
                     "      <th>sepal width (cm)</th>\n",
                     "      <th>petal length (cm)</th>\n",
                     "      <th>petal width (cm)</th>\n",
                     "      <th>Class</th>\n",
                     "    </tr>\n",
                     "  </thead>\n",
                     "  <tbody>\n",
                     "    <tr>\n",
                     "      <th>0</th>\n",
                     "      <td>5.1</td>\n",
                     "      <td>3.5</td>\n",
                     "      <td>1.4</td>\n",
                     "      <td>0.2</td>\n",
                     "      <td>Setosa</td>\n",
                     "    </tr>\n",
                     "    <tr>\n",
                     "      <th>1</th>\n",
                     "      <td>4.9</td>\n",
                     "      <td>3.0</td>\n",
                     "      <td>1.4</td>\n",
                     "      <td>0.2</td>\n",
                     "      <td>Setosa</td>\n",
                     "    </tr>\n",
                     "    <tr>\n",
                     "      <th>2</th>\n",
                     "      <td>4.7</td>\n",
                     "      <td>3.2</td>\n",
                     "      <td>1.3</td>\n",
                     "      <td>0.2</td>\n",
                     "      <td>Setosa</td>\n",
                     "    </tr>\n",
                     "    <tr>\n",
                     "      <th>3</th>\n",
                     "      <td>4.6</td>\n",
                     "      <td>3.1</td>\n",
                     "      <td>1.5</td>\n",
                     "      <td>0.2</td>\n",
                     "      <td>Setosa</td>\n",
                     "    </tr>\n",
                     "    <tr>\n",
                     "      <th>4</th>\n",
                     "      <td>5.0</td>\n",
                     "      <td>3.6</td>\n",
                     "      <td>1.4</td>\n",
                     "      <td>0.2</td>\n",
                     "      <td>Setosa</td>\n",
                     "    </tr>\n",
                     "  </tbody>\n",
                     "</table>\n",
                     "</div>"
                  ],
                  "text/plain": [
                     "   sepal length (cm)  sepal width (cm)  petal length (cm)  petal width (cm)  \\\n",
                     "0                5.1               3.5                1.4               0.2   \n",
                     "1                4.9               3.0                1.4               0.2   \n",
                     "2                4.7               3.2                1.3               0.2   \n",
                     "3                4.6               3.1                1.5               0.2   \n",
                     "4                5.0               3.6                1.4               0.2   \n",
                     "\n",
                     "    Class  \n",
                     "0  Setosa  \n",
                     "1  Setosa  \n",
                     "2  Setosa  \n",
                     "3  Setosa  \n",
                     "4  Setosa  "
                  ]
               },
               "execution_count": 10,
               "metadata": {},
               "output_type": "execute_result"
            }
         ],
         "source": [
            "# iris 데이터의 Class 변수를 더미 변수화\n",
            "import pandas as pd\n",
            "from sklearn.datasets import load_iris\n",
            "\n",
            "iris = load_iris()\n",
            "iris = pd.DataFrame(iris.data, columns=iris.feature_names)\n",
            "iris['Class'] = load_iris().target\n",
            "iris['Class'] = iris['Class'].map({0:'Setosa', 1:'Versicolour', 2:'Virginica'})\n",
            "iris.head()"
         ]
      },
      {
         "cell_type": "code",
         "execution_count": 11,
         "metadata": {},
         "outputs": [
            {
               "data": {
                  "text/html": [
                     "<div>\n",
                     "<style scoped>\n",
                     "    .dataframe tbody tr th:only-of-type {\n",
                     "        vertical-align: middle;\n",
                     "    }\n",
                     "\n",
                     "    .dataframe tbody tr th {\n",
                     "        vertical-align: top;\n",
                     "    }\n",
                     "\n",
                     "    .dataframe thead th {\n",
                     "        text-align: right;\n",
                     "    }\n",
                     "</style>\n",
                     "<table border=\"1\" class=\"dataframe\">\n",
                     "  <thead>\n",
                     "    <tr style=\"text-align: right;\">\n",
                     "      <th></th>\n",
                     "      <th>sepal length (cm)</th>\n",
                     "      <th>sepal width (cm)</th>\n",
                     "      <th>petal length (cm)</th>\n",
                     "      <th>petal width (cm)</th>\n",
                     "      <th>Class_Setosa</th>\n",
                     "      <th>Class_Versicolour</th>\n",
                     "      <th>Class_Virginica</th>\n",
                     "    </tr>\n",
                     "  </thead>\n",
                     "  <tbody>\n",
                     "    <tr>\n",
                     "      <th>0</th>\n",
                     "      <td>5.1</td>\n",
                     "      <td>3.5</td>\n",
                     "      <td>1.4</td>\n",
                     "      <td>0.2</td>\n",
                     "      <td>1</td>\n",
                     "      <td>0</td>\n",
                     "      <td>0</td>\n",
                     "    </tr>\n",
                     "    <tr>\n",
                     "      <th>1</th>\n",
                     "      <td>4.9</td>\n",
                     "      <td>3.0</td>\n",
                     "      <td>1.4</td>\n",
                     "      <td>0.2</td>\n",
                     "      <td>1</td>\n",
                     "      <td>0</td>\n",
                     "      <td>0</td>\n",
                     "    </tr>\n",
                     "    <tr>\n",
                     "      <th>2</th>\n",
                     "      <td>4.7</td>\n",
                     "      <td>3.2</td>\n",
                     "      <td>1.3</td>\n",
                     "      <td>0.2</td>\n",
                     "      <td>1</td>\n",
                     "      <td>0</td>\n",
                     "      <td>0</td>\n",
                     "    </tr>\n",
                     "    <tr>\n",
                     "      <th>3</th>\n",
                     "      <td>4.6</td>\n",
                     "      <td>3.1</td>\n",
                     "      <td>1.5</td>\n",
                     "      <td>0.2</td>\n",
                     "      <td>1</td>\n",
                     "      <td>0</td>\n",
                     "      <td>0</td>\n",
                     "    </tr>\n",
                     "    <tr>\n",
                     "      <th>4</th>\n",
                     "      <td>5.0</td>\n",
                     "      <td>3.6</td>\n",
                     "      <td>1.4</td>\n",
                     "      <td>0.2</td>\n",
                     "      <td>1</td>\n",
                     "      <td>0</td>\n",
                     "      <td>0</td>\n",
                     "    </tr>\n",
                     "  </tbody>\n",
                     "</table>\n",
                     "</div>"
                  ],
                  "text/plain": [
                     "   sepal length (cm)  sepal width (cm)  petal length (cm)  petal width (cm)  \\\n",
                     "0                5.1               3.5                1.4               0.2   \n",
                     "1                4.9               3.0                1.4               0.2   \n",
                     "2                4.7               3.2                1.3               0.2   \n",
                     "3                4.6               3.1                1.5               0.2   \n",
                     "4                5.0               3.6                1.4               0.2   \n",
                     "\n",
                     "   Class_Setosa  Class_Versicolour  Class_Virginica  \n",
                     "0             1                  0                0  \n",
                     "1             1                  0                0  \n",
                     "2             1                  0                0  \n",
                     "3             1                  0                0  \n",
                     "4             1                  0                0  "
                  ]
               },
               "execution_count": 11,
               "metadata": {},
               "output_type": "execute_result"
            }
         ],
         "source": [
            "iris_dummy = pd.get_dummies(iris, columns=['Class'])\n",
            "iris_dummy.head()"
         ]
      },
      {
         "cell_type": "markdown",
         "metadata": {},
         "source": [
            "# 데이터 분할\n",
            "- train, test (7:3) 으로 분할 하거나, train, validation, test (6:2:2) 로 분할 하기도\n",
            "- 데이터가 많은 경우, validation, test의 비율을 줄이기도 한다. "
         ]
      },
      {
         "cell_type": "code",
         "execution_count": 1,
         "metadata": {},
         "outputs": [],
         "source": [
            "# iris 데이터를 train:test = 4:1 로 분할 \n",
            "import pandas as pd\n",
            "from sklearn.datasets import load_iris\n",
            "\n",
            "iris = load_iris()\n",
            "iris = pd.DataFrame(iris.data, columns=iris.feature_names)\n",
            "iris['Class'] = load_iris().target\n",
            "iris['Class'] = iris['Class'].map({0:'Setosa', 1:'Versicolour', 2:'Virginica'})"
         ]
      },
      {
         "cell_type": "code",
         "execution_count": 2,
         "metadata": {},
         "outputs": [
            {
               "data": {
                  "text/plain": [
                     "((120, 4), (30, 4), (120,), (30,))"
                  ]
               },
               "execution_count": 2,
               "metadata": {},
               "output_type": "execute_result"
            }
         ],
         "source": [
            "from sklearn.model_selection import train_test_split\n",
            "\n",
            "X_train, X_test, y_train, y_test = train_test_split(iris.drop(columns='Class'), iris['Class'], \n",
            "                                                    test_size=0.2, random_state=1004)\n",
            "X_train.shape, X_test.shape, y_train.shape, y_test.shape"
         ]
      },
      {
         "cell_type": "code",
         "execution_count": 3,
         "metadata": {},
         "outputs": [
            {
               "data": {
                  "text/plain": [
                     "Setosa         50\n",
                     "Versicolour    50\n",
                     "Virginica      50\n",
                     "Name: Class, dtype: int64"
                  ]
               },
               "execution_count": 3,
               "metadata": {},
               "output_type": "execute_result"
            }
         ],
         "source": [
            "iris['Class'].value_counts()"
         ]
      },
      {
         "cell_type": "code",
         "execution_count": 4,
         "metadata": {},
         "outputs": [
            {
               "data": {
                  "text/plain": [
                     "Versicolour    41\n",
                     "Setosa         40\n",
                     "Virginica      39\n",
                     "Name: Class, dtype: int64"
                  ]
               },
               "execution_count": 4,
               "metadata": {},
               "output_type": "execute_result"
            }
         ],
         "source": [
            "y_train.value_counts()"
         ]
      },
      {
         "cell_type": "markdown",
         "metadata": {},
         "source": [
            "- stratify를 적용하지 않아, 원본 데이터와 분할 한 후의 비율에 차이가 있나\n",
            "- stratify 옵션을 주게 되면, 옵션으로 받는 데이터의 분포와 동일한 비율의 범주가 되도록 층화 추출을 하게 된다."
         ]
      },
      {
         "cell_type": "code",
         "execution_count": 5,
         "metadata": {},
         "outputs": [
            {
               "data": {
                  "text/plain": [
                     "((120, 4), (30, 4), (120,), (30,))"
                  ]
               },
               "execution_count": 5,
               "metadata": {},
               "output_type": "execute_result"
            }
         ],
         "source": [
            "X_train, X_test, y_train, y_test = train_test_split(iris.drop(columns='Class'), iris['Class'], \n",
            "                                                    test_size=0.2, random_state=1004, stratify=iris['Class'])\n",
            "X_train.shape, X_test.shape, y_train.shape, y_test.shape"
         ]
      },
      {
         "cell_type": "code",
         "execution_count": 6,
         "metadata": {},
         "outputs": [
            {
               "data": {
                  "text/plain": [
                     "Versicolour    40\n",
                     "Virginica      40\n",
                     "Setosa         40\n",
                     "Name: Class, dtype: int64"
                  ]
               },
               "execution_count": 6,
               "metadata": {},
               "output_type": "execute_result"
            }
         ],
         "source": [
            "y_train.value_counts()"
         ]
      },
      {
         "cell_type": "markdown",
         "metadata": {},
         "source": [
            "# 데이터 스케일링\n",
            "- 변수들 마다 데이터 값의 크기가 차이가 날 경우 알고리즘의 성능에 좋지 않다.\n",
            "\n",
            "## 데이터 스케일링 방법\n",
            "- 주의 점은, train와 test 데이터는 같은 scaler를 사용해야 한다.\n",
            "    1. scaler 선택 및 import\n",
            "    2. scaler 객체 생성\n",
            "    3. train 데이터로 fit\n",
            "    4. train 데이터 transform\n",
            "    5. test 데이터 transform\n",
            "    6. 원본 스테일로 변환 scaler_inverse_transform(X_train_scaled)\n",
            "- 표준화(Standardization) : 평균을 0, 분산을 1인 정규 분포로 만드는 것\n",
            "- 정규화(Normalization) : 특정 범위(보통 0~1)로 만드는 것 "
         ]
      },
      {
         "cell_type": "markdown",
         "metadata": {},
         "source": [
            "## Standard Scaler\n",
            "- 평균을 0, 분산을 1인 정규 분포로 만드는 것\n",
            "- 최솟값과 최댓값의 크기를 제한하지 않아 이상치에 민감\n",
            "- 이상치를 미리 확인 및 정제 후 사용하는 것이 좋다.\n",
            "- 회귀 보다 분류 분석에 유용"
         ]
      },
      {
         "cell_type": "code",
         "execution_count": 14,
         "metadata": {},
         "outputs": [
            {
               "name": "stdout",
               "output_type": "stream",
               "text": [
                  "\t\t(min, max), (mean, std)\n",
                  "Train_scaled (-2.37, 3.04),(0.00, 1.00)\n",
                  "Test_scaled (-1.76, 2.48),(-0.01, 0.97)\n"
               ]
            }
         ],
         "source": [
            "from sklearn.preprocessing import StandardScaler\n",
            "scaler = StandardScaler()\n",
            "\n",
            "scaler.fit(X_train)\n",
            "X_train_sc = scaler.transform(X_train)\n",
            "X_test_sc = scaler.transform(X_test)\n",
            "\n",
            "print('\\t\\t(min, max), (mean, std)')\n",
            "print('Train_scaled (%.2f, %.2f),(%.2f, %.2f)'%(X_train_sc.min(),\n",
            "                                                X_train_sc.max(), X_train_sc.mean(), X_train_sc.std()))\n",
            "print('Test_scaled (%.2f, %.2f),(%.2f, %.2f)'%(X_test_sc.min(),\n",
            "                                                X_test_sc.max(), X_test_sc.mean(), X_test_sc.std()))"
         ]
      },
      {
         "cell_type": "markdown",
         "metadata": {},
         "source": [
            "## Min-max Scaler\n",
            "- 0과 1 사이의 값들로 정규화\n",
            "- 즉 최솟값이 0, 최댓값이 1이 된다\n",
            "- 이상치에 매우 민감\n",
            "- 분류보다 회귀에 유용"
         ]
      },
      {
         "cell_type": "code",
         "execution_count": 15,
         "metadata": {},
         "outputs": [
            {
               "name": "stdout",
               "output_type": "stream",
               "text": [
                  "\t\t(min, max), (mean, std)\n",
                  "Train_scaled (0.00, 1.00),(0.46, 0.27)\n",
                  "Test_scaled (0.03, 1.06),(0.45, 0.26)\n"
               ]
            }
         ],
         "source": [
            "from sklearn.preprocessing import MinMaxScaler\n",
            "scaler = MinMaxScaler()\n",
            "\n",
            "scaler.fit(X_train)\n",
            "X_train_sc = scaler.transform(X_train)\n",
            "X_test_sc = scaler.transform(X_test)\n",
            "\n",
            "print('\\t\\t(min, max), (mean, std)')\n",
            "print('Train_scaled (%.2f, %.2f),(%.2f, %.2f)'%(X_train_sc.min(),\n",
            "                                                X_train_sc.max(), X_train_sc.mean(), X_train_sc.std()))\n",
            "print('Test_scaled (%.2f, %.2f),(%.2f, %.2f)'%(X_test_sc.min(),\n",
            "                                                X_test_sc.max(), X_test_sc.mean(), X_test_sc.std()))"
         ]
      },
      {
         "cell_type": "markdown",
         "metadata": {},
         "source": [
            "## Max Abs Scaler\n",
            "- 최대절댓값과 0이 각각 1, 0이 되도록 스케일링\n",
            "- 모든 값이 -1과 1 사이에 표현\n",
            "- 데이터가 양수인 경우 Min-Max Scaler와 동일\n",
            "- 이상치에 매우 민감\n",
            "- 분류보다 회귀에 유용"
         ]
      },
      {
         "cell_type": "code",
         "execution_count": 16,
         "metadata": {},
         "outputs": [
            {
               "name": "stdout",
               "output_type": "stream",
               "text": [
                  "\t\t(min, max), (mean, std)\n",
                  "Train_scaled (0.04, 1.00),(0.62, 0.24)\n",
                  "Test_scaled (0.08, 1.03),(0.62, 0.24)\n"
               ]
            }
         ],
         "source": [
            "from sklearn.preprocessing import MaxAbsScaler\n",
            "scaler = MaxAbsScaler()\n",
            "\n",
            "scaler.fit(X_train)\n",
            "X_train_sc = scaler.transform(X_train)\n",
            "X_test_sc = scaler.transform(X_test)\n",
            "\n",
            "print('\\t\\t(min, max), (mean, std)')\n",
            "print('Train_scaled (%.2f, %.2f),(%.2f, %.2f)'%(X_train_sc.min(),\n",
            "                                                X_train_sc.max(), X_train_sc.mean(), X_train_sc.std()))\n",
            "print('Test_scaled (%.2f, %.2f),(%.2f, %.2f)'%(X_test_sc.min(),\n",
            "                                                X_test_sc.max(), X_test_sc.mean(), X_test_sc.std()))"
         ]
      },
      {
         "cell_type": "markdown",
         "metadata": {},
         "source": [
            "## Robust Scaler\n",
            "- 평균과 분산 대신 중앙값과 사분위값을 활용\n",
            "- 중앙값을 0으로 설정하고 IQR을 사용해 이상치의 영향을 최소화\n",
            "- quantile_range (기본 값 : 25.0, 75.0) 를 조정하여 이상치 범위를 설정 가능"
         ]
      },
      {
         "cell_type": "code",
         "execution_count": 18,
         "metadata": {},
         "outputs": [
            {
               "name": "stdout",
               "output_type": "stream",
               "text": [
                  "\t\t(min, max), (mean, std)\n",
                  "Train_scaled (-1.90, 2.67),(-0.02, 0.65)\n",
                  "Test_scaled (-1.14, 1.90),(-0.02, 0.62)\n"
               ]
            }
         ],
         "source": [
            "from sklearn.preprocessing import RobustScaler\n",
            "scaler = RobustScaler()\n",
            "\n",
            "scaler.fit(X_train)\n",
            "X_train_sc = scaler.transform(X_train)\n",
            "X_test_sc = scaler.transform(X_test)\n",
            "\n",
            "print('\\t\\t(min, max), (mean, std)')\n",
            "print('Train_scaled (%.2f, %.2f),(%.2f, %.2f)'%(X_train_sc.min(),\n",
            "                                                X_train_sc.max(), X_train_sc.mean(), X_train_sc.std()))\n",
            "print('Test_scaled (%.2f, %.2f),(%.2f, %.2f)'%(X_test_sc.min(),\n",
            "                                                X_test_sc.max(), X_test_sc.mean(), X_test_sc.std()))"
         ]
      },
      {
         "cell_type": "markdown",
         "metadata": {},
         "source": [
            "## 원본 스케일로 변경\n",
            "- 스테일링 한 데이터를 원본으로 변경"
         ]
      },
      {
         "cell_type": "code",
         "execution_count": 23,
         "metadata": {},
         "outputs": [
            {
               "data": {
                  "text/html": [
                     "<div>\n",
                     "<style scoped>\n",
                     "    .dataframe tbody tr th:only-of-type {\n",
                     "        vertical-align: middle;\n",
                     "    }\n",
                     "\n",
                     "    .dataframe tbody tr th {\n",
                     "        vertical-align: top;\n",
                     "    }\n",
                     "\n",
                     "    .dataframe thead th {\n",
                     "        text-align: right;\n",
                     "    }\n",
                     "</style>\n",
                     "<table border=\"1\" class=\"dataframe\">\n",
                     "  <thead>\n",
                     "    <tr style=\"text-align: right;\">\n",
                     "      <th></th>\n",
                     "      <th>sepal length (cm)</th>\n",
                     "      <th>sepal width (cm)</th>\n",
                     "      <th>petal length (cm)</th>\n",
                     "      <th>petal width (cm)</th>\n",
                     "    </tr>\n",
                     "  </thead>\n",
                     "  <tbody>\n",
                     "    <tr>\n",
                     "      <th>0</th>\n",
                     "      <td>0.846154</td>\n",
                     "      <td>0.190476</td>\n",
                     "      <td>0.157143</td>\n",
                     "      <td>0.133333</td>\n",
                     "    </tr>\n",
                     "    <tr>\n",
                     "      <th>1</th>\n",
                     "      <td>-0.153846</td>\n",
                     "      <td>-0.380952</td>\n",
                     "      <td>0.157143</td>\n",
                     "      <td>0.466667</td>\n",
                     "    </tr>\n",
                     "    <tr>\n",
                     "      <th>2</th>\n",
                     "      <td>-0.076923</td>\n",
                     "      <td>0.000000</td>\n",
                     "      <td>-0.042857</td>\n",
                     "      <td>-0.066667</td>\n",
                     "    </tr>\n",
                     "  </tbody>\n",
                     "</table>\n",
                     "</div>"
                  ],
                  "text/plain": [
                     "   sepal length (cm)  sepal width (cm)  petal length (cm)  petal width (cm)\n",
                     "0           0.846154          0.190476           0.157143          0.133333\n",
                     "1          -0.153846         -0.380952           0.157143          0.466667\n",
                     "2          -0.076923          0.000000          -0.042857         -0.066667"
                  ]
               },
               "execution_count": 23,
               "metadata": {},
               "output_type": "execute_result"
            }
         ],
         "source": [
            "pd.DataFrame(X_train_sc, columns=X_train.columns).head(3)"
         ]
      },
      {
         "cell_type": "code",
         "execution_count": 24,
         "metadata": {},
         "outputs": [
            {
               "data": {
                  "text/html": [
                     "<div>\n",
                     "<style scoped>\n",
                     "    .dataframe tbody tr th:only-of-type {\n",
                     "        vertical-align: middle;\n",
                     "    }\n",
                     "\n",
                     "    .dataframe tbody tr th {\n",
                     "        vertical-align: top;\n",
                     "    }\n",
                     "\n",
                     "    .dataframe thead th {\n",
                     "        text-align: right;\n",
                     "    }\n",
                     "</style>\n",
                     "<table border=\"1\" class=\"dataframe\">\n",
                     "  <thead>\n",
                     "    <tr style=\"text-align: right;\">\n",
                     "      <th></th>\n",
                     "      <th>sepal length (cm)</th>\n",
                     "      <th>sepal width (cm)</th>\n",
                     "      <th>petal length (cm)</th>\n",
                     "      <th>petal width (cm)</th>\n",
                     "    </tr>\n",
                     "  </thead>\n",
                     "  <tbody>\n",
                     "    <tr>\n",
                     "      <th>0</th>\n",
                     "      <td>6.9</td>\n",
                     "      <td>3.1</td>\n",
                     "      <td>4.9</td>\n",
                     "      <td>1.5</td>\n",
                     "    </tr>\n",
                     "    <tr>\n",
                     "      <th>1</th>\n",
                     "      <td>5.6</td>\n",
                     "      <td>2.8</td>\n",
                     "      <td>4.9</td>\n",
                     "      <td>2.0</td>\n",
                     "    </tr>\n",
                     "    <tr>\n",
                     "      <th>2</th>\n",
                     "      <td>5.7</td>\n",
                     "      <td>3.0</td>\n",
                     "      <td>4.2</td>\n",
                     "      <td>1.2</td>\n",
                     "    </tr>\n",
                     "  </tbody>\n",
                     "</table>\n",
                     "</div>"
                  ],
                  "text/plain": [
                     "   sepal length (cm)  sepal width (cm)  petal length (cm)  petal width (cm)\n",
                     "0                6.9               3.1                4.9               1.5\n",
                     "1                5.6               2.8                4.9               2.0\n",
                     "2                5.7               3.0                4.2               1.2"
                  ]
               },
               "execution_count": 24,
               "metadata": {},
               "output_type": "execute_result"
            }
         ],
         "source": [
            "X_Original = scaler.inverse_transform(X_train_sc)\n",
            "pd.DataFrame(X_Original, columns=X_train.columns).head(3)"
         ]
      },
      {
         "cell_type": "code",
         "execution_count": 21,
         "metadata": {},
         "outputs": [
            {
               "data": {
                  "text/html": [
                     "<div>\n",
                     "<style scoped>\n",
                     "    .dataframe tbody tr th:only-of-type {\n",
                     "        vertical-align: middle;\n",
                     "    }\n",
                     "\n",
                     "    .dataframe tbody tr th {\n",
                     "        vertical-align: top;\n",
                     "    }\n",
                     "\n",
                     "    .dataframe thead th {\n",
                     "        text-align: right;\n",
                     "    }\n",
                     "</style>\n",
                     "<table border=\"1\" class=\"dataframe\">\n",
                     "  <thead>\n",
                     "    <tr style=\"text-align: right;\">\n",
                     "      <th></th>\n",
                     "      <th>sepal length (cm)</th>\n",
                     "      <th>sepal width (cm)</th>\n",
                     "      <th>petal length (cm)</th>\n",
                     "      <th>petal width (cm)</th>\n",
                     "    </tr>\n",
                     "  </thead>\n",
                     "  <tbody>\n",
                     "    <tr>\n",
                     "      <th>52</th>\n",
                     "      <td>6.9</td>\n",
                     "      <td>3.1</td>\n",
                     "      <td>4.9</td>\n",
                     "      <td>1.5</td>\n",
                     "    </tr>\n",
                     "    <tr>\n",
                     "      <th>121</th>\n",
                     "      <td>5.6</td>\n",
                     "      <td>2.8</td>\n",
                     "      <td>4.9</td>\n",
                     "      <td>2.0</td>\n",
                     "    </tr>\n",
                     "    <tr>\n",
                     "      <th>95</th>\n",
                     "      <td>5.7</td>\n",
                     "      <td>3.0</td>\n",
                     "      <td>4.2</td>\n",
                     "      <td>1.2</td>\n",
                     "    </tr>\n",
                     "  </tbody>\n",
                     "</table>\n",
                     "</div>"
                  ],
                  "text/plain": [
                     "     sepal length (cm)  sepal width (cm)  petal length (cm)  petal width (cm)\n",
                     "52                 6.9               3.1                4.9               1.5\n",
                     "121                5.6               2.8                4.9               2.0\n",
                     "95                 5.7               3.0                4.2               1.2"
                  ]
               },
               "execution_count": 21,
               "metadata": {},
               "output_type": "execute_result"
            }
         ],
         "source": [
            "X_train.head(3)"
         ]
      },
      {
         "cell_type": "markdown",
         "metadata": {},
         "source": [
            "# 차원 축소\n",
            "- '차원의 저주': 변수의 수가 많을 수록 (==차원이 많아질수록), 성능이 저하 되는 현상\n",
            "- 차원이 늘어감에 따라 데이터 간의 거리가 멀어지는 현상\n",
            "- 공간의 성김 현상(Sparsity)<br>\n",
            "<img src=\"img/sparsity.png\" width=\"500\"/>\n",
            "- 각 변수에서 같은 비율의 데이터를 차원이 증가할 수록 전체 데이터에서 설명 가능한 비율이 줄어 든다.<br>\n",
            "<img src=\"img/sparsity2.png\" width=\"500\"/>\n",
            "- 차원이 늘 수록 무조건 차원의 저주가 발생하는 것은 아니다.\n",
            "- 데이터가 충분히 있다면, 차원이 늘어 새로운 패턴을 발견할 수 있는 가능성을 높일 수도 있다."
         ]
      },
      {
         "cell_type": "markdown",
         "metadata": {},
         "source": [
            "## 설명 변수 선택\n",
            "- 차원을 축소하는 가장 쉬운 방법\n",
            "- 자료를 잘 설명하는 설명변수 만을 사용한다.\n",
            "- 다중공선성을 발생시키는 변수를 제거 한다.(서로 상관관계가 높은 변수는 대표성을 띄는 것 하나만 선택)\n",
            "- 정보가 없는 컬럼, 관련이 없는 컬럼(변수)를 제거 한다 (e.g. ID, 모두 같은 값인 컬럼 등)\n",
            "    - 장점 : 선택한 설명변수의 해석이 용이, 수행 과정이 간단\n",
            "    - 단점 : 설명변수 간의 고차원적 상관관계는 고려하기 어렵다"
         ]
      },
      {
         "cell_type": "markdown",
         "metadata": {
            "tags": []
         },
         "source": [
            "## 주성분 분석 (PCA : Principle Component Analysis)\n",
            "- 기존의 컬럼을 새롭게 해석, 저차원의 초평면에 투영하는 방법으로 여러 변수간 상관관계를 이용\n",
            "    - 데이터를 축에 사영하였을 때 분산이 가장 큰 축을 찾아 그 축을 새로운 주성분으로 결정\n",
            "    - 이 벡터 축에 직각이 되는 벡터를 두 번째 축으로 선택\n",
            "    - 세 번째 축은 다시 두번째 축과 직각이 되는 벡터를 선택 ..."
         ]
      },
      {
         "cell_type": "markdown",
         "metadata": {},
         "source": [
            "### 주성분 분석의 과정\n",
            "#### PCA를 위한 전처리\n",
            "- 변수 간 스케일의 차이가 영향을 주는 것을 방지 하기 위해 \n",
            "- 이상치 제거 후 스케일링을 한다"
         ]
      },
      {
         "cell_type": "code",
         "execution_count": 2,
         "metadata": {},
         "outputs": [],
         "source": [
            "import pandas as pd\n",
            "from sklearn.datasets import load_iris\n",
            "\n",
            "iris = load_iris()\n",
            "iris = pd.DataFrame(iris.data, columns=iris.feature_names)\n",
            "iris['Class'] = load_iris().target\n",
            "iris['Class'] = iris['Class'].map({0:'Setosa', 1:'Versicolour', 2:'Virginica'})"
         ]
      },
      {
         "cell_type": "code",
         "execution_count": 4,
         "metadata": {},
         "outputs": [
            {
               "data": {
                  "text/html": [
                     "<div>\n",
                     "<style scoped>\n",
                     "    .dataframe tbody tr th:only-of-type {\n",
                     "        vertical-align: middle;\n",
                     "    }\n",
                     "\n",
                     "    .dataframe tbody tr th {\n",
                     "        vertical-align: top;\n",
                     "    }\n",
                     "\n",
                     "    .dataframe thead th {\n",
                     "        text-align: right;\n",
                     "    }\n",
                     "</style>\n",
                     "<table border=\"1\" class=\"dataframe\">\n",
                     "  <thead>\n",
                     "    <tr style=\"text-align: right;\">\n",
                     "      <th></th>\n",
                     "      <th>sepal length (cm)</th>\n",
                     "      <th>sepal width (cm)</th>\n",
                     "      <th>petal length (cm)</th>\n",
                     "      <th>petal width (cm)</th>\n",
                     "    </tr>\n",
                     "  </thead>\n",
                     "  <tbody>\n",
                     "    <tr>\n",
                     "      <th>0</th>\n",
                     "      <td>-0.900681</td>\n",
                     "      <td>1.019004</td>\n",
                     "      <td>-1.340227</td>\n",
                     "      <td>-1.315444</td>\n",
                     "    </tr>\n",
                     "    <tr>\n",
                     "      <th>1</th>\n",
                     "      <td>-1.143017</td>\n",
                     "      <td>-0.131979</td>\n",
                     "      <td>-1.340227</td>\n",
                     "      <td>-1.315444</td>\n",
                     "    </tr>\n",
                     "    <tr>\n",
                     "      <th>2</th>\n",
                     "      <td>-1.385353</td>\n",
                     "      <td>0.328414</td>\n",
                     "      <td>-1.397064</td>\n",
                     "      <td>-1.315444</td>\n",
                     "    </tr>\n",
                     "  </tbody>\n",
                     "</table>\n",
                     "</div>"
                  ],
                  "text/plain": [
                     "   sepal length (cm)  sepal width (cm)  petal length (cm)  petal width (cm)\n",
                     "0          -0.900681          1.019004          -1.340227         -1.315444\n",
                     "1          -1.143017         -0.131979          -1.340227         -1.315444\n",
                     "2          -1.385353          0.328414          -1.397064         -1.315444"
                  ]
               },
               "execution_count": 4,
               "metadata": {},
               "output_type": "execute_result"
            }
         ],
         "source": [
            "X = iris.drop('Class', axis=1)\n",
            "\n",
            "from sklearn.preprocessing import StandardScaler\n",
            "scaler = StandardScaler()\n",
            "X_scaled = scaler.fit_transform(X)\n",
            "pd.DataFrame(X_scaled, columns=X.columns).head(3)"
         ]
      },
      {
         "cell_type": "markdown",
         "metadata": {},
         "source": [
            "#### 주성분 추출\n",
            "- 생성할 주성분의 수를 임의로 정한다\n",
            "- scikit-learn의 PCA 함수를 이용하여 주성분을 구한다.\n",
            "- singular_values_ : 전체 데이터에서 해당 모델로 설명할 수 있는 분산의 비율,\n",
            "    - The singular values corresponding to each of the selected components. The singular values are equal to the 2-norms of the n_components variables in the lower-dimensional space.\n",
            "- explained_variance_ratio_ : 전체 데이터에서 각 주성분이 설명할 수 있는 분산 비율a"
         ]
      },
      {
         "cell_type": "code",
         "execution_count": 14,
         "metadata": {},
         "outputs": [],
         "source": [
            "from sklearn.decomposition import PCA\n",
            "pca = PCA(n_components=4)\n",
            "pcs = pca.fit_transform(X_scaled)"
         ]
      },
      {
         "cell_type": "code",
         "execution_count": 15,
         "metadata": {},
         "outputs": [
            {
               "name": "stdout",
               "output_type": "stream",
               "text": [
                  "[20.92306556 11.7091661   4.69185798  1.76273239]\n",
                  "[0.72962445 0.22850762 0.03668922 0.00517871]\n"
               ]
            }
         ],
         "source": [
            "print(pca.singular_values_)\n",
            "print(pca.explained_variance_ratio_)"
         ]
      },
      {
         "cell_type": "code",
         "execution_count": 17,
         "metadata": {},
         "outputs": [
            {
               "data": {
                  "text/html": [
                     "<div>\n",
                     "<style scoped>\n",
                     "    .dataframe tbody tr th:only-of-type {\n",
                     "        vertical-align: middle;\n",
                     "    }\n",
                     "\n",
                     "    .dataframe tbody tr th {\n",
                     "        vertical-align: top;\n",
                     "    }\n",
                     "\n",
                     "    .dataframe thead th {\n",
                     "        text-align: right;\n",
                     "    }\n",
                     "</style>\n",
                     "<table border=\"1\" class=\"dataframe\">\n",
                     "  <thead>\n",
                     "    <tr style=\"text-align: right;\">\n",
                     "      <th></th>\n",
                     "      <th>PC1</th>\n",
                     "      <th>PC2</th>\n",
                     "      <th>PC3</th>\n",
                     "      <th>PC4</th>\n",
                     "    </tr>\n",
                     "  </thead>\n",
                     "  <tbody>\n",
                     "    <tr>\n",
                     "      <th>0</th>\n",
                     "      <td>-2.264703</td>\n",
                     "      <td>0.480027</td>\n",
                     "      <td>-0.127706</td>\n",
                     "      <td>-0.024168</td>\n",
                     "    </tr>\n",
                     "    <tr>\n",
                     "      <th>1</th>\n",
                     "      <td>-2.080961</td>\n",
                     "      <td>-0.674134</td>\n",
                     "      <td>-0.234609</td>\n",
                     "      <td>-0.103007</td>\n",
                     "    </tr>\n",
                     "    <tr>\n",
                     "      <th>2</th>\n",
                     "      <td>-2.364229</td>\n",
                     "      <td>-0.341908</td>\n",
                     "      <td>0.044201</td>\n",
                     "      <td>-0.028377</td>\n",
                     "    </tr>\n",
                     "    <tr>\n",
                     "      <th>3</th>\n",
                     "      <td>-2.299384</td>\n",
                     "      <td>-0.597395</td>\n",
                     "      <td>0.091290</td>\n",
                     "      <td>0.065956</td>\n",
                     "    </tr>\n",
                     "    <tr>\n",
                     "      <th>4</th>\n",
                     "      <td>-2.389842</td>\n",
                     "      <td>0.646835</td>\n",
                     "      <td>0.015738</td>\n",
                     "      <td>0.035923</td>\n",
                     "    </tr>\n",
                     "    <tr>\n",
                     "      <th>...</th>\n",
                     "      <td>...</td>\n",
                     "      <td>...</td>\n",
                     "      <td>...</td>\n",
                     "      <td>...</td>\n",
                     "    </tr>\n",
                     "    <tr>\n",
                     "      <th>145</th>\n",
                     "      <td>1.870503</td>\n",
                     "      <td>0.386966</td>\n",
                     "      <td>0.256274</td>\n",
                     "      <td>-0.389257</td>\n",
                     "    </tr>\n",
                     "    <tr>\n",
                     "      <th>146</th>\n",
                     "      <td>1.564580</td>\n",
                     "      <td>-0.896687</td>\n",
                     "      <td>-0.026371</td>\n",
                     "      <td>-0.220192</td>\n",
                     "    </tr>\n",
                     "    <tr>\n",
                     "      <th>147</th>\n",
                     "      <td>1.521170</td>\n",
                     "      <td>0.269069</td>\n",
                     "      <td>0.180178</td>\n",
                     "      <td>-0.119171</td>\n",
                     "    </tr>\n",
                     "    <tr>\n",
                     "      <th>148</th>\n",
                     "      <td>1.372788</td>\n",
                     "      <td>1.011254</td>\n",
                     "      <td>0.933395</td>\n",
                     "      <td>-0.026129</td>\n",
                     "    </tr>\n",
                     "    <tr>\n",
                     "      <th>149</th>\n",
                     "      <td>0.960656</td>\n",
                     "      <td>-0.024332</td>\n",
                     "      <td>0.528249</td>\n",
                     "      <td>0.163078</td>\n",
                     "    </tr>\n",
                     "  </tbody>\n",
                     "</table>\n",
                     "<p>150 rows × 4 columns</p>\n",
                     "</div>"
                  ],
                  "text/plain": [
                     "          PC1       PC2       PC3       PC4\n",
                     "0   -2.264703  0.480027 -0.127706 -0.024168\n",
                     "1   -2.080961 -0.674134 -0.234609 -0.103007\n",
                     "2   -2.364229 -0.341908  0.044201 -0.028377\n",
                     "3   -2.299384 -0.597395  0.091290  0.065956\n",
                     "4   -2.389842  0.646835  0.015738  0.035923\n",
                     "..        ...       ...       ...       ...\n",
                     "145  1.870503  0.386966  0.256274 -0.389257\n",
                     "146  1.564580 -0.896687 -0.026371 -0.220192\n",
                     "147  1.521170  0.269069  0.180178 -0.119171\n",
                     "148  1.372788  1.011254  0.933395 -0.026129\n",
                     "149  0.960656 -0.024332  0.528249  0.163078\n",
                     "\n",
                     "[150 rows x 4 columns]"
                  ]
               },
               "execution_count": 17,
               "metadata": {},
               "output_type": "execute_result"
            }
         ],
         "source": [
            "pd.DataFrame(data=pcs, columns = ['PC1', 'PC2', 'PC3', 'PC4'])"
         ]
      },
      {
         "cell_type": "markdown",
         "metadata": {},
         "source": [
            "#### Scree plot으로 사용할 성분의 수 구하기\n",
            "- Scree plot은 주성분 각각으로 설명할 수 있는 분산의 정도를 점으로 표시하고 이 점을 이은 선\n",
            "- 주성분의 개수가 증가할 수록 scree plot의 기울기가 감소\n",
            "- 기울기가 급격하게 감소하는 지점의 직전까지를 주성분으로 선택"
         ]
      },
      {
         "cell_type": "code",
         "execution_count": 19,
         "metadata": {},
         "outputs": [
            {
               "data": {
                  "image/png": "[encoded data removed]",
                  "text/plain": [
                     "<Figure size 432x288 with 1 Axes>"
                  ]
               },
               "metadata": {
                  "needs_background": "light"
               },
               "output_type": "display_data"
            }
         ],
         "source": [
            "import matplotlib.pyplot as plt\n",
            "\n",
            "plt.title('Scree plot')\n",
            "plt.xlabel('Number of Componets')\n",
            "plt.ylabel('Cumulative Explained Variance')\n",
            "plt.plot(pca.explained_variance_ratio_, 'o-')\n",
            "plt.show()"
         ]
      },
      {
         "cell_type": "markdown",
         "metadata": {},
         "source": [
            "#### 새로운 데이터 프레임 확인\n",
            "- 주성분의 수를 scree plot을 통해 다시 정한다\n",
            "- pca 객체 생성, fit_transform으로 주성분으로 변환"
         ]
      },
      {
         "cell_type": "code",
         "execution_count": 26,
         "metadata": {},
         "outputs": [
            {
               "data": {
                  "text/html": [
                     "<div>\n",
                     "<style scoped>\n",
                     "    .dataframe tbody tr th:only-of-type {\n",
                     "        vertical-align: middle;\n",
                     "    }\n",
                     "\n",
                     "    .dataframe tbody tr th {\n",
                     "        vertical-align: top;\n",
                     "    }\n",
                     "\n",
                     "    .dataframe thead th {\n",
                     "        text-align: right;\n",
                     "    }\n",
                     "</style>\n",
                     "<table border=\"1\" class=\"dataframe\">\n",
                     "  <thead>\n",
                     "    <tr style=\"text-align: right;\">\n",
                     "      <th></th>\n",
                     "      <th>PC1</th>\n",
                     "      <th>PC2</th>\n",
                     "    </tr>\n",
                     "  </thead>\n",
                     "  <tbody>\n",
                     "    <tr>\n",
                     "      <th>0</th>\n",
                     "      <td>-2.264703</td>\n",
                     "      <td>0.480027</td>\n",
                     "    </tr>\n",
                     "    <tr>\n",
                     "      <th>1</th>\n",
                     "      <td>-2.080961</td>\n",
                     "      <td>-0.674134</td>\n",
                     "    </tr>\n",
                     "    <tr>\n",
                     "      <th>2</th>\n",
                     "      <td>-2.364229</td>\n",
                     "      <td>-0.341908</td>\n",
                     "    </tr>\n",
                     "  </tbody>\n",
                     "</table>\n",
                     "</div>"
                  ],
                  "text/plain": [
                     "        PC1       PC2\n",
                     "0 -2.264703  0.480027\n",
                     "1 -2.080961 -0.674134\n",
                     "2 -2.364229 -0.341908"
                  ]
               },
               "execution_count": 26,
               "metadata": {},
               "output_type": "execute_result"
            }
         ],
         "source": [
            "from sklearn.decomposition import PCA\n",
            "pca = PCA(n_components=2)\n",
            "pcs = pca.fit_transform(X_scaled)\n",
            "pca_iris = pd.DataFrame(data=pcs, columns = ['PC1', 'PC2'])\n",
            "pca_iris.head(3)"
         ]
      },
      {
         "cell_type": "markdown",
         "metadata": {},
         "source": [
            "#### 주성분 산포도 확인\n",
            "- 각 주성분으로 x, y 축 할당\n",
            "- hue로 원본의 class 입력"
         ]
      },
      {
         "cell_type": "code",
         "execution_count": 29,
         "metadata": {},
         "outputs": [
            {
               "data": {
                  "image/png": "[encoded data removed]",
                  "text/plain": [
                     "<Figure size 576x432 with 1 Axes>"
                  ]
               },
               "metadata": {
                  "needs_background": "light"
               },
               "output_type": "display_data"
            }
         ],
         "source": [
            "import matplotlib.pyplot as plt\n",
            "import seaborn as sns\n",
            "\n",
            "plt.figure(figsize=(8, 6))\n",
            "plt.title('2 componets PCA')\n",
            "sns.scatterplot(x='PC1', y='PC2', data=pca_iris, hue=iris.Class)\n",
            "plt.show()"
         ]
      },
      {
         "cell_type": "markdown",
         "metadata": {},
         "source": [
            "#### 주성분 산포도 확인\n",
            "- 각 주성분으로 x, y 축 할당\n",
            "- hue로 원본의 class 입력"
         ]
      },
      {
         "cell_type": "markdown",
         "metadata": {},
         "source": [
            "- 정확도가 높은 일반적 모델에서는 소수 데이터를 중요하게 여기지 않는다.\n",
            "- 데이터의 불균형 상태에서 \"소수의 이상 데이터\"를 타겟으로 분류해야 되는 상황에서는 어떻게 할까?\n",
            "  <br> 예시> 암 검진 대상자 중에 암에 걸린 사람을 정확히 가려내어 치료할 수 있나?\n",
            "    - 무작정 정확도를 높이기보다는 다소 정확도를 포기하더라도 최대한 손실없이 환자를 가려내어 치료를 시작하는 것이 중요\n",
            "- 이런 문제를 해결하기 위해 제시하는 방법이 소수의 비정상 데이터의 수를 늘리는 오버샘플링과, 상대적으로 많은 정상 데이터에서 일부만 사용하는 언더샘플링 기법을 사용한다."
         ]
      },
      {
         "cell_type": "markdown",
         "metadata": {},
         "source": [
            "## 언더샘플링 (Under Sampling)\n",
            "- 다수의 레이블을 가진 데이터를 샘플링하여 소수의 데이터세트가 가진 레이블의 수 수준으로 감소시키는 기법\n",
            "    + +) 데이터 불균형으로 인한 문제를 피할 수 있음\n",
            "    - -) 전체 데이터의 수가 줄어들어 학습성능을 떨어뜨림"
         ]
      },
      {
         "cell_type": "code",
         "execution_count": 1,
         "metadata": {},
         "outputs": [
            {
               "name": "stdout",
               "output_type": "stream",
               "text": [
                  "Collecting imbalanced-learn\n",
                  "  Downloading imbalanced_learn-0.9.1-py3-none-any.whl (199 kB)\n",
                  "Requirement already satisfied: numpy>=1.17.3 in c:\\dev\\miniconda\\lib\\site-packages (from imbalanced-learn) (1.21.5)\n",
                  "Requirement already satisfied: joblib>=1.0.0 in c:\\dev\\miniconda\\lib\\site-packages (from imbalanced-learn) (1.1.0)\n",
                  "  Downloading imbalanced_learn-0.9.0-py3-none-any.whl (199 kB)\n",
                  "Requirement already satisfied: scipy>=1.1.0 in c:\\dev\\miniconda\\lib\\site-packages (from imbalanced-learn) (1.7.3)\n",
                  "Requirement already satisfied: threadpoolctl>=2.0.0 in c:\\dev\\miniconda\\lib\\site-packages (from imbalanced-learn) (3.1.0)\n",
                  "Requirement already satisfied: scikit-learn>=1.0.1 in c:\\dev\\miniconda\\lib\\site-packages (from imbalanced-learn) (1.0.2)\n",
                  "Installing collected packages: imbalanced-learn\n",
                  "Successfully installed imbalanced-learn-0.9.0\n"
               ]
            }
         ],
         "source": [
            "# !pip install imbalanced-learn"
         ]
      },
      {
         "cell_type": "code",
         "execution_count": 2,
         "metadata": {},
         "outputs": [
            {
               "name": "stdout",
               "output_type": "stream",
               "text": [
                  "Counter({0: 1900, 1: 100})\n"
               ]
            }
         ],
         "source": [
            "import numpy as np\n",
            "import pandas as pd\n",
            "\n",
            "from sklearn.datasets import make_classification\n",
            "from collections import Counter\n",
            "from imblearn.under_sampling import RandomUnderSampler\n",
            "\n",
            "x, y = make_classification(n_samples=2000, n_features=6, weights=[0.95], flip_y=0) # 95:1의 불균형데이터 가정\n",
            "print(Counter(y))"
         ]
      },
      {
         "cell_type": "markdown",
         "metadata": {},
         "source": [
            "랜덤언더샘플링 : 다수의 레이블에서 무작위로 데이터를 제거한다. 1900개 였던 0번레이블이 1번레이블 수에 맞춰서 줄어든다"
         ]
      },
      {
         "cell_type": "code",
         "execution_count": 3,
         "metadata": {},
         "outputs": [
            {
               "name": "stdout",
               "output_type": "stream",
               "text": [
                  "Counter({0: 100, 1: 100})\n"
               ]
            }
         ],
         "source": [
            "undersample = RandomUnderSampler(sampling_strategy='majority') # 다수의 레이블의 데이터를 샘플링하여 소수의 수와 맞춤\n",
            "x_under, y_under = undersample.fit_resample(x, y)\n",
            "print(Counter(y_under))"
         ]
      },
      {
         "cell_type": "code",
         "execution_count": 4,
         "metadata": {},
         "outputs": [
            {
               "name": "stdout",
               "output_type": "stream",
               "text": [
                  "Counter({0: 200, 1: 100})\n"
               ]
            }
         ],
         "source": [
            "undersample = RandomUnderSampler(sampling_strategy=0.5) # 비율 톨해 다수레이블의 갯수 조정 가능\n",
            "x_under2, y_under2 = undersample.fit_resample(x, y)\n",
            "print(Counter(y_under2))"
         ]
      },
      {
         "cell_type": "markdown",
         "metadata": {},
         "source": [
            "## 오버샘플링 (Over Sampling)\n",
            "- 소수의 레이블을 지닌 데이터세트를 단순 복제하여 다수의 레이블과 비율을 맞추는 방법\n",
            "    + +) 불균형문제를 처리하지 않는 것보다는 유효\n",
            "    + -) 오버피팅의 위험성 있음"
         ]
      },
      {
         "cell_type": "code",
         "execution_count": 6,
         "metadata": {},
         "outputs": [
            {
               "name": "stdout",
               "output_type": "stream",
               "text": [
                  "Counter({0: 1900, 1: 1900})\n"
               ]
            }
         ],
         "source": [
            "oversample = RandomOverSampler(sampling_strategy='minority')\n",
            "x_over, y_over = oversample.fit_resample(x, y)\n",
            "print(Counter(y_over))"
         ]
      },
      {
         "cell_type": "code",
         "execution_count": 5,
         "metadata": {},
         "outputs": [
            {
               "name": "stdout",
               "output_type": "stream",
               "text": [
                  "Counter({0: 1900, 1: 950})\n"
               ]
            }
         ],
         "source": [
            "from imblearn.over_sampling import RandomOverSampler\n",
            "oversample = RandomOverSampler(sampling_strategy=0.5) \n",
            "x_over, y_over = oversample.fit_resample(x, y)\n",
            "print(Counter(y_over))"
         ]
      },
      {
         "cell_type": "markdown",
         "metadata": {},
         "source": [
            "SMOTES(Synthentic Minority Over-sampling Technique) : 소수레이블을 지닌 데이터세트의 관측값에 대한 K개의 최근접이웃을 찾고, 관측값과 이웃으로 선택된 값 사이에 임의의 새로운 데이터를 생성하는 방법으로 샘플의 수를 늘리는 방법"
         ]
      },
      {
         "cell_type": "code",
         "execution_count": 7,
         "metadata": {},
         "outputs": [
            {
               "name": "stdout",
               "output_type": "stream",
               "text": [
                  "Counter({0: 1900, 1: 1900})\n"
               ]
            }
         ],
         "source": [
            "from imblearn.over_sampling import SMOTE\n",
            "smote_sample = SMOTE(sampling_strategy='minority') \n",
            "x_sm, y_sm = smote_sample.fit_resample(x, y)\n",
            "print(Counter(y_sm))"
         ]
      },
      {
         "cell_type": "code",
         "execution_count": 8,
         "metadata": {},
         "outputs": [
            {
               "name": "stderr",
               "output_type": "stream",
               "text": [
                  "C:\\Dev\\Miniconda\\lib\\site-packages\\seaborn\\_decorators.py:43: FutureWarning: Pass the following variables as keyword args: x, y. From version 0.12, the only valid positional argument will be `data`, and passing other arguments without an explicit keyword will result in an error or misinterpretation.\n",
                  "  FutureWarning\n",
                  "C:\\Dev\\Miniconda\\lib\\site-packages\\seaborn\\_decorators.py:43: FutureWarning: Pass the following variables as keyword args: x, y. From version 0.12, the only valid positional argument will be `data`, and passing other arguments without an explicit keyword will result in an error or misinterpretation.\n",
                  "  FutureWarning\n",
                  "C:\\Dev\\Miniconda\\lib\\site-packages\\seaborn\\_decorators.py:43: FutureWarning: Pass the following variables as keyword args: x, y. From version 0.12, the only valid positional argument will be `data`, and passing other arguments without an explicit keyword will result in an error or misinterpretation.\n",
                  "  FutureWarning\n",
                  "C:\\Dev\\Miniconda\\lib\\site-packages\\seaborn\\_decorators.py:43: FutureWarning: Pass the following variables as keyword args: x, y. From version 0.12, the only valid positional argument will be `data`, and passing other arguments without an explicit keyword will result in an error or misinterpretation.\n",
                  "  FutureWarning\n"
               ]
            },
            {
               "data": {
                  "image/png": "[encoded data removed]",
                  "text/plain": [
                     "<Figure size 720x720 with 4 Axes>"
                  ]
               },
               "metadata": {
                  "needs_background": "light"
               },
               "output_type": "display_data"
            }
         ],
         "source": [
            "from matplotlib import pyplot as plt\n",
            "import seaborn as sns\n",
            "\n",
            "fig, axes = plt.subplots(nrows=2, ncols=2, figsize=(10, 10))\n",
            "\n",
            "sns.scatterplot(x[:, 1], x[:, 2], hue=y, ax=axes[0][0], alpha=0.5)\n",
            "sns.scatterplot(x_under[:, 1], x_under[:,2], hue=y_under, ax=axes[0][1], alpha=0.5)\n",
            "sns.scatterplot(x_over[:, 1], x_over[:, 2], hue=y_over, ax=axes[1][0], alpha=0.5)\n",
            "sns.scatterplot(x_sm[:, 1], x_sm[:, 2], hue=y_sm, ax=axes[1][1], alpha=0.5)\n",
            "\n",
            "axes[0][0].set_title('Original Data')\n",
            "axes[0][1].set_title('Random Under Sampling')\n",
            "axes[1][0].set_title('Random Over Sampling')\n",
            "axes[1][1].set_title('SMOTE')\n",
            "\n",
            "plt.show()"
         ]
      },
      {
         "cell_type": "markdown",
         "metadata": {},
         "source": [
            "좌상단의 원본 데이터에서는 0과 1의 갯수가 크게 차이나는 것을 확인. 우상단에서 0의 수 줄어듬,<br>\n",
            "좌하단에서 1의 갯수 증가 (중복으로 인한 진한 주황), 우하단, 인근에 다른 1번 레이블을 생성함"
         ]
      }
   ],
   "metadata": {
      "kernelspec": {
         "display_name": "Python 3.8.13 ('py38')",
         "language": "python",
         "name": "python3"
      },
      "language_info": {
         "codemirror_mode": {
            "name": "ipython",
            "version": 3
         },
         "file_extension": ".py",
         "mimetype": "text/x-python",
         "name": "python",
         "nbconvert_exporter": "python",
         "pygments_lexer": "ipython3",
         "version": "3.8.13"
      },
      "toc": {
         "base_numbering": 1,
         "nav_menu": {},
         "number_sections": true,
         "sideBar": true,
         "skip_h1_title": false,
         "title_cell": "Table of Contents",
         "title_sidebar": "Contents",
         "toc_cell": false,
         "toc_position": {},
         "toc_section_display": true,
         "toc_window_display": true
      },
      "vscode": {
         "interpreter": {
            "hash": "4395888be403c58de61e9eb932f3da5d54821f847dc0ca6e361f0068678bfd78"
         }
      }
   },
   "nbformat": 4,
   "nbformat_minor": 4
}
