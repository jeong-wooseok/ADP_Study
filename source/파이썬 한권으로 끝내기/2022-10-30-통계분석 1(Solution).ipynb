{
 "cells": [
  {
   "cell_type": "markdown",
   "id": "a54464ff",
   "metadata": {},
   "source": [
    "# One Sample T-test\n",
    "\n",
    "<img src=\"img/07-03.png\" width=\"800\"/>\n",
    "\n",
    "- 고양이들의 평균 몸무게가 2.6kg인지 아닌지 검증 하시오.\n",
    "- Bwt : 고양이의 몸무게\n",
    "- Hwt : 고양이의 길이"
   ]
  },
  {
   "cell_type": "code",
   "execution_count": 7,
   "id": "d9990e88",
   "metadata": {},
   "outputs": [
    {
     "data": {
      "text/html": [
       "<div>\n",
       "<style scoped>\n",
       "    .dataframe tbody tr th:only-of-type {\n",
       "        vertical-align: middle;\n",
       "    }\n",
       "\n",
       "    .dataframe tbody tr th {\n",
       "        vertical-align: top;\n",
       "    }\n",
       "\n",
       "    .dataframe thead th {\n",
       "        text-align: right;\n",
       "    }\n",
       "</style>\n",
       "<table border=\"1\" class=\"dataframe\">\n",
       "  <thead>\n",
       "    <tr style=\"text-align: right;\">\n",
       "      <th></th>\n",
       "      <th>Sex</th>\n",
       "      <th>Bwt</th>\n",
       "      <th>Hwt</th>\n",
       "    </tr>\n",
       "  </thead>\n",
       "  <tbody>\n",
       "    <tr>\n",
       "      <th>0</th>\n",
       "      <td>F</td>\n",
       "      <td>2.0</td>\n",
       "      <td>7.0</td>\n",
       "    </tr>\n",
       "    <tr>\n",
       "      <th>1</th>\n",
       "      <td>F</td>\n",
       "      <td>2.0</td>\n",
       "      <td>7.4</td>\n",
       "    </tr>\n",
       "    <tr>\n",
       "      <th>2</th>\n",
       "      <td>F</td>\n",
       "      <td>2.0</td>\n",
       "      <td>9.5</td>\n",
       "    </tr>\n",
       "    <tr>\n",
       "      <th>3</th>\n",
       "      <td>F</td>\n",
       "      <td>2.1</td>\n",
       "      <td>7.2</td>\n",
       "    </tr>\n",
       "    <tr>\n",
       "      <th>4</th>\n",
       "      <td>F</td>\n",
       "      <td>2.1</td>\n",
       "      <td>7.3</td>\n",
       "    </tr>\n",
       "  </tbody>\n",
       "</table>\n",
       "</div>"
      ],
      "text/plain": [
       "  Sex  Bwt  Hwt\n",
       "0   F  2.0  7.0\n",
       "1   F  2.0  7.4\n",
       "2   F  2.0  9.5\n",
       "3   F  2.1  7.2\n",
       "4   F  2.1  7.3"
      ]
     },
     "execution_count": 7,
     "metadata": {},
     "output_type": "execute_result"
    }
   ],
   "source": [
    "import pandas as pd\n",
    "df = pd.read_csv('./data/cats.csv')\n",
    "df.head()"
   ]
  },
  {
   "cell_type": "markdown",
   "id": "3ca1998b",
   "metadata": {},
   "source": [
    "## 풀이"
   ]
  },
  {
   "cell_type": "markdown",
   "id": "01c24782",
   "metadata": {},
   "source": [
    "### 정규 분포 확인"
   ]
  },
  {
   "cell_type": "code",
   "execution_count": null,
   "id": "bc402060",
   "metadata": {},
   "outputs": [],
   "source": []
  },
  {
   "cell_type": "code",
   "execution_count": 10,
   "id": "38e227fc",
   "metadata": {},
   "outputs": [
    {
     "data": {
      "text/plain": [
       "ShapiroResult(statistic=0.9518786668777466, pvalue=6.730248423991725e-05)"
      ]
     },
     "execution_count": 10,
     "metadata": {},
     "output_type": "execute_result"
    }
   ],
   "source": [
    "# mu = 2.6, shapiro.test\n",
    "\n",
    "from scipy.stats import stats\n",
    "from scipy.stats import shapiro\n",
    "mu = 2.6\n",
    "shapiro(df['Bwt'])"
   ]
  },
  {
   "cell_type": "markdown",
   "id": "0853420f",
   "metadata": {},
   "source": [
    "- 첫번째 값(통계 검증치), 두번째 값(p-value)\n",
    "- 유의 수준 보다 작음으로, '데이터가 정규분포를 따른다'는 귀무 가설을 기각"
   ]
  },
  {
   "cell_type": "markdown",
   "id": "79b88499",
   "metadata": {},
   "source": [
    "###  wilcoxon test\n",
    "- 정규분포를 따르지 않음으로, wilcoxon test로 t-test진행"
   ]
  },
  {
   "cell_type": "code",
   "execution_count": 11,
   "id": "2c588785",
   "metadata": {},
   "outputs": [
    {
     "data": {
      "text/plain": [
       "WilcoxonResult(statistic=3573.0, pvalue=0.02524520294814093)"
      ]
     },
     "execution_count": 11,
     "metadata": {},
     "output_type": "execute_result"
    }
   ],
   "source": [
    "from scipy.stats import wilcoxon\n",
    "wilcoxon(df.Bwt - mu, alternative='two-sided')"
   ]
  },
  {
   "cell_type": "markdown",
   "id": "e0dbad55",
   "metadata": {},
   "source": [
    "- p-value가 0.05보다 작아, '고양이의 몸무게가 2.6kg'이다 라는 귀무 가설 기각\n",
    "- 즉, 유의 수준 0.05 하에서 '고양이의 몸무게는 2.6kg'이다 라고 말할 수 없다."
   ]
  },
  {
   "cell_type": "markdown",
   "id": "09aab94e",
   "metadata": {},
   "source": [
    "### 시각화"
   ]
  },
  {
   "cell_type": "code",
   "execution_count": 12,
   "id": "cf9ec814",
   "metadata": {},
   "outputs": [
    {
     "data": {
      "image/png": "[encoded data removed]",
      "text/plain": [
       "<Figure size 432x288 with 1 Axes>"
      ]
     },
     "metadata": {
      "needs_background": "light"
     },
     "output_type": "display_data"
    }
   ],
   "source": [
    "import matplotlib.pyplot as plt\n",
    "plt.hist(df['Bwt'])\n",
    "plt.title('Bwt')\n",
    "plt.ylabel('Count')\n",
    "plt.show()"
   ]
  },
  {
   "cell_type": "markdown",
   "id": "a2245cda",
   "metadata": {},
   "source": [
    "# Paired Sample t-test\n",
    "\n",
    "<img src=\"img/07-06.png\" width=\"800\"/>\n",
    "\n",
    "- 10명의 환자 대상, 수면영향제 복용 전후 수명시간 측정 하였다.\n",
    "- 영양제의 효과 여부를 판단 하라.\n",
    "- 표본이 정규성을 만족한고 가정 한다."
   ]
  },
  {
   "cell_type": "code",
   "execution_count": 13,
   "id": "426cc134",
   "metadata": {},
   "outputs": [
    {
     "data": {
      "text/html": [
       "<div>\n",
       "<style scoped>\n",
       "    .dataframe tbody tr th:only-of-type {\n",
       "        vertical-align: middle;\n",
       "    }\n",
       "\n",
       "    .dataframe tbody tr th {\n",
       "        vertical-align: top;\n",
       "    }\n",
       "\n",
       "    .dataframe thead th {\n",
       "        text-align: right;\n",
       "    }\n",
       "</style>\n",
       "<table border=\"1\" class=\"dataframe\">\n",
       "  <thead>\n",
       "    <tr style=\"text-align: right;\">\n",
       "      <th></th>\n",
       "      <th>before</th>\n",
       "      <th>after</th>\n",
       "    </tr>\n",
       "  </thead>\n",
       "  <tbody>\n",
       "    <tr>\n",
       "      <th>0</th>\n",
       "      <td>7</td>\n",
       "      <td>8</td>\n",
       "    </tr>\n",
       "    <tr>\n",
       "      <th>1</th>\n",
       "      <td>3</td>\n",
       "      <td>4</td>\n",
       "    </tr>\n",
       "    <tr>\n",
       "      <th>2</th>\n",
       "      <td>4</td>\n",
       "      <td>5</td>\n",
       "    </tr>\n",
       "    <tr>\n",
       "      <th>3</th>\n",
       "      <td>5</td>\n",
       "      <td>6</td>\n",
       "    </tr>\n",
       "    <tr>\n",
       "      <th>4</th>\n",
       "      <td>2</td>\n",
       "      <td>2</td>\n",
       "    </tr>\n",
       "    <tr>\n",
       "      <th>5</th>\n",
       "      <td>1</td>\n",
       "      <td>3</td>\n",
       "    </tr>\n",
       "    <tr>\n",
       "      <th>6</th>\n",
       "      <td>6</td>\n",
       "      <td>6</td>\n",
       "    </tr>\n",
       "    <tr>\n",
       "      <th>7</th>\n",
       "      <td>6</td>\n",
       "      <td>8</td>\n",
       "    </tr>\n",
       "    <tr>\n",
       "      <th>8</th>\n",
       "      <td>5</td>\n",
       "      <td>6</td>\n",
       "    </tr>\n",
       "    <tr>\n",
       "      <th>9</th>\n",
       "      <td>4</td>\n",
       "      <td>5</td>\n",
       "    </tr>\n",
       "  </tbody>\n",
       "</table>\n",
       "</div>"
      ],
      "text/plain": [
       "   before  after\n",
       "0       7      8\n",
       "1       3      4\n",
       "2       4      5\n",
       "3       5      6\n",
       "4       2      2\n",
       "5       1      3\n",
       "6       6      6\n",
       "7       6      8\n",
       "8       5      6\n",
       "9       4      5"
      ]
     },
     "execution_count": 13,
     "metadata": {},
     "output_type": "execute_result"
    }
   ],
   "source": [
    "import pandas as pd\n",
    "data = {'before':[7,3, 4, 5, 2, 1, 6, 6, 5, 4],\n",
    "    'after':[8, 4, 5, 6, 2, 3, 6, 8, 6, 5]}\n",
    "df = pd.DataFrame(data)\n",
    "df"
   ]
  },
  {
   "cell_type": "markdown",
   "id": "00fda5b9",
   "metadata": {},
   "source": [
    "## 풀이\n",
    "- 가설 수립\n",
    "    - 귀무가설 : 수면제 복용 전과 후의 수면시간 차이가 없다.\n",
    "    - 대립가설 : 수면제 복용 전과 후의 수면시간 차이가 있다."
   ]
  },
  {
   "cell_type": "markdown",
   "id": "1f1efda5",
   "metadata": {},
   "source": [
    "### t-test"
   ]
  },
  {
   "cell_type": "code",
   "execution_count": 17,
   "id": "804ad971",
   "metadata": {},
   "outputs": [
    {
     "data": {
      "text/plain": [
       "Ttest_relResult(statistic=4.743416490252569, pvalue=0.0005269356285082764)"
      ]
     },
     "execution_count": 17,
     "metadata": {},
     "output_type": "execute_result"
    }
   ],
   "source": [
    "# alternative : {'two-sided', 'less', 'greater'}\n",
    "stats.ttest_rel(df['after'], df['before'], alternative='greater')"
   ]
  },
  {
   "cell_type": "markdown",
   "id": "b63a969e",
   "metadata": {},
   "source": [
    "- p-value = 0.00052 으로 유의 수준 보다 작아 귀무 가설 기각\n",
    "- 결론 '수면영양제를 복용하기 전과 후의 평균 수면시간 차이는 통계적으로 유의하며, 영양제를 복용한 후 수면시간이 늘었다' "
   ]
  },
  {
   "cell_type": "markdown",
   "id": "581015f3",
   "metadata": {},
   "source": [
    "# Independent Sample t-test\n",
    "\n",
    "<img src=\"img/07-09.png\" width=\"800\"/>\n",
    "\n",
    "\n",
    "- 위의 cats 데이터로 정규성을 따른다는 가정 하에, 수컷과 암컷 고양이의 몸무게 차이가 있는지 비교하라"
   ]
  },
  {
   "cell_type": "code",
   "execution_count": 19,
   "id": "48485fdd",
   "metadata": {},
   "outputs": [],
   "source": [
    "import pandas as pd\n",
    "\n",
    "df = pd.read_csv('./data/cats.csv')\n",
    "female = df.loc[df.Sex == 'F', 'Bwt']\n",
    "male = df.loc[df.Sex == 'M', 'Bwt']"
   ]
  },
  {
   "cell_type": "markdown",
   "id": "40bb98ff",
   "metadata": {},
   "source": [
    "## 풀이"
   ]
  },
  {
   "cell_type": "markdown",
   "id": "b8b01f25",
   "metadata": {},
   "source": [
    "### 등분산성 검정"
   ]
  },
  {
   "cell_type": "markdown",
   "id": "68a300d3",
   "metadata": {},
   "source": [
    "- 정규성을 만족한다는 가정 하에, cats 데이터의 등분산성 검정(levene-test) 진행"
   ]
  },
  {
   "cell_type": "code",
   "execution_count": 20,
   "id": "9cbff8c9",
   "metadata": {},
   "outputs": [
    {
     "data": {
      "text/plain": [
       "LeveneResult(statistic=19.43101190877999, pvalue=2.0435285255189404e-05)"
      ]
     },
     "execution_count": 20,
     "metadata": {},
     "output_type": "execute_result"
    }
   ],
   "source": [
    "from scipy.stats import stats, levene\n",
    "\n",
    "levene(female, male)"
   ]
  },
  {
   "cell_type": "markdown",
   "id": "e7020cf8",
   "metadata": {},
   "source": [
    "- p-value가 유의수준 0.05 보다 작음으로\n",
    "- 귀무가설(암컷과 수컷 고양이의 몸무게의 등분산성을 만족 한다) 을 기각.\n",
    "- 즉, 암컷, 수컷 고양이의 몸무게는 등분산성을 만족하지 않는다. \n",
    "- t-test에서 equal_var = False 로 설정"
   ]
  },
  {
   "cell_type": "markdown",
   "id": "808fd734",
   "metadata": {},
   "source": [
    "### t-test"
   ]
  },
  {
   "cell_type": "code",
   "execution_count": 21,
   "id": "88a7b107",
   "metadata": {},
   "outputs": [
    {
     "data": {
      "text/plain": [
       "Ttest_indResult(statistic=-8.70948849909559, pvalue=8.831034455859356e-15)"
      ]
     },
     "execution_count": 21,
     "metadata": {},
     "output_type": "execute_result"
    }
   ],
   "source": [
    "stats.ttest_ind(female, male, equal_var=False)"
   ]
  },
  {
   "cell_type": "markdown",
   "id": "2bcb64c1",
   "metadata": {},
   "source": [
    "- p-value의 값이 유의수준 보다 작음으로 \n",
    "- 귀무가설(수컷과 암컷의 몸무게 차이는 없다) 기각\n",
    "- 즉, 수컷과 암컷 몸무게 차이가 존재 한다."
   ]
  },
  {
   "cell_type": "markdown",
   "id": "d3eceb44",
   "metadata": {},
   "source": [
    "### 시각화"
   ]
  },
  {
   "cell_type": "code",
   "execution_count": 22,
   "id": "e6f51e6f",
   "metadata": {},
   "outputs": [
    {
     "data": {
      "image/png": "[encoded data removed]",
      "text/plain": [
       "<Figure size 1440x360 with 2 Axes>"
      ]
     },
     "metadata": {
      "needs_background": "light"
     },
     "output_type": "display_data"
    }
   ],
   "source": [
    "fig, axes = plt.subplots(1, 2, figsize=(20, 5))\n",
    "female.hist(ax=axes[0])\n",
    "axes[0].set_title('Female')\n",
    "axes[0].set_ylabel('Count')\n",
    "male.hist(ax=axes[1])\n",
    "axes[0].set_title('Male')\n",
    "axes[1].set_ylabel('Count')\n",
    "plt.show()"
   ]
  },
  {
   "cell_type": "markdown",
   "id": "a62655ac",
   "metadata": {},
   "source": [
    "# Independent Sample t-test 2"
   ]
  },
  {
   "cell_type": "markdown",
   "id": "ea847546",
   "metadata": {},
   "source": [
    "- 1반과 2반의 성적은 다음과 같다."
   ]
  },
  {
   "cell_type": "code",
   "execution_count": 42,
   "id": "257ad223",
   "metadata": {},
   "outputs": [],
   "source": [
    "x1 = [80, 75, 85, 50, 60, 75, 45, 70, 90, 95, 85, 80]\n",
    "x2 = [80, 85, 70, 80, 35, 55, 80]"
   ]
  },
  {
   "cell_type": "markdown",
   "id": "e2850ebd",
   "metadata": {},
   "source": [
    "- 1반의 성적 평균이 2반의 성적 평균 보다 좋다고 할 수 있는가?"
   ]
  },
  {
   "cell_type": "markdown",
   "id": "b636a80d",
   "metadata": {},
   "source": [
    "## 풀이"
   ]
  },
  {
   "cell_type": "markdown",
   "id": "ccee9822",
   "metadata": {},
   "source": [
    "### 등분산성 검정"
   ]
  },
  {
   "cell_type": "code",
   "execution_count": 43,
   "id": "0c5abd25",
   "metadata": {},
   "outputs": [
    {
     "data": {
      "text/plain": [
       "LeveneResult(statistic=0.005908291157112759, pvalue=0.9396280207926151)"
      ]
     },
     "execution_count": 43,
     "metadata": {},
     "output_type": "execute_result"
    }
   ],
   "source": [
    "from scipy.stats import stats, levene\n",
    "\n",
    "levene(x1, x2)"
   ]
  },
  {
   "cell_type": "markdown",
   "id": "3b33bff9",
   "metadata": {},
   "source": [
    "- 귀무가설(x1과 x2의 성적은 등분산성을 만족 한다) 을 기각하지 못함."
   ]
  },
  {
   "cell_type": "markdown",
   "id": "0ba4c069",
   "metadata": {},
   "source": [
    "### t-test"
   ]
  },
  {
   "cell_type": "markdown",
   "id": "fbb98baa",
   "metadata": {},
   "source": [
    "- p-value > 0.05, 1반의 실력이 2반 보다 좋다고 이야기 할 수 없다."
   ]
  },
  {
   "cell_type": "code",
   "execution_count": 44,
   "id": "dee4313e",
   "metadata": {
    "scrolled": true
   },
   "outputs": [
    {
     "data": {
      "text/plain": [
       "Ttest_indResult(statistic=0.596519621317167, pvalue=0.562790180213766)"
      ]
     },
     "execution_count": 44,
     "metadata": {},
     "output_type": "execute_result"
    }
   ],
   "source": [
    "stats.ttest_ind(x1, x2, equal_var=False)"
   ]
  },
  {
   "cell_type": "markdown",
   "id": "9344c75c",
   "metadata": {},
   "source": [
    "# One-way ANOVA\n",
    "\n",
    "<img src=\"img/07-14.png\" width=\"800\"/>\n",
    "\n",
    "- iris dataset에서 Species 별로 꽃받침의 폭의 평균이 같은지, 차이가 있는지 일원배치 분산분석 시행 하라"
   ]
  },
  {
   "cell_type": "code",
   "execution_count": 24,
   "id": "97cef4d7",
   "metadata": {},
   "outputs": [
    {
     "data": {
      "text/plain": [
       "array(['Iris-setosa', 'Iris-versicolor', 'Iris-virginica'], dtype=object)"
      ]
     },
     "execution_count": 24,
     "metadata": {},
     "output_type": "execute_result"
    }
   ],
   "source": [
    "import scipy.stats as stats\n",
    "import pandas as pd \n",
    "\n",
    "df = pd.read_csv('./data/iris.csv')\n",
    "df['target'].unique()"
   ]
  },
  {
   "cell_type": "code",
   "execution_count": 25,
   "id": "d37c1448",
   "metadata": {},
   "outputs": [
    {
     "data": {
      "text/plain": [
       "Iris-setosa        50\n",
       "Iris-versicolor    50\n",
       "Iris-virginica     50\n",
       "Name: target, dtype: int64"
      ]
     },
     "execution_count": 25,
     "metadata": {},
     "output_type": "execute_result"
    }
   ],
   "source": [
    "df['target'].value_counts()"
   ]
  },
  {
   "cell_type": "markdown",
   "id": "9fe2031e",
   "metadata": {},
   "source": [
    "## 풀이"
   ]
  },
  {
   "cell_type": "markdown",
   "id": "166bb631",
   "metadata": {},
   "source": [
    "### 가설"
   ]
  },
  {
   "cell_type": "code",
   "execution_count": 27,
   "id": "95bf56cb",
   "metadata": {},
   "outputs": [],
   "source": [
    "# target 별로 변수에 할당\n",
    "targets = df['target'].unique()\n",
    "setosa = df[df['target'] == targets[0]]['sepal width']\n",
    "versicolor = df[df['target'] == targets[1]]['sepal width']\n",
    "virginica = df[df['target'] == targets[2]]['sepal width']"
   ]
  },
  {
   "cell_type": "code",
   "execution_count": 28,
   "id": "88e3ce23",
   "metadata": {},
   "outputs": [
    {
     "data": {
      "image/png": "[encoded data removed]",
      "text/plain": [
       "<Figure size 432x288 with 1 Axes>"
      ]
     },
     "metadata": {
      "needs_background": "light"
     },
     "output_type": "display_data"
    }
   ],
   "source": [
    "# target 별 시각화\n",
    "import seaborn as sns\n",
    "import matplotlib.pyplot as plt\n",
    "sns.scatterplot(x='target', y='sepal width', data=df, hue='target', s=100)\n",
    "plt.show()"
   ]
  },
  {
   "cell_type": "markdown",
   "id": "b4e98662",
   "metadata": {},
   "source": [
    "- 시각화 결과, 3 종류의 sepal width 의 평균은 차이가 있어 보인다.\n",
    "- 다음과 같은 통계정 가설을 세운다\n",
    "    - 귀무가설($H_0$) : 세 가지 종에 대해 sepal width의 평균은 모두 같다.\n",
    "    - 대립가설($H_1$) : 적어도 하나의 종에 대한 sepal width의 평균값에는 차이가 있다."
   ]
  },
  {
   "cell_type": "markdown",
   "id": "122578c3",
   "metadata": {},
   "source": [
    "### 정규성 확인"
   ]
  },
  {
   "cell_type": "code",
   "execution_count": 30,
   "id": "32daed66",
   "metadata": {},
   "outputs": [
    {
     "name": "stdout",
     "output_type": "stream",
     "text": [
      "setosa :  ShapiroResult(statistic=0.968691885471344, pvalue=0.20465604960918427)\n",
      "versicolor :  ShapiroResult(statistic=0.9741330742835999, pvalue=0.33798879384994507)\n",
      "virginica :  ShapiroResult(statistic=0.9673910140991211, pvalue=0.1809043288230896)\n"
     ]
    }
   ],
   "source": [
    "# 각 변수가 정규성을 따르는지 확인 한다.\n",
    "# 모두 p-value > 0.05로 정규성을 만족 한다. \n",
    "# 따라서 등분산성을 확인한다. (만약 하나라도 만족 하지 못하면 kruskal 고려)\n",
    "print('setosa : ',stats.shapiro(setosa))\n",
    "print('versicolor : ',stats.shapiro(versicolor))\n",
    "print('virginica : ',stats.shapiro(virginica))"
   ]
  },
  {
   "cell_type": "markdown",
   "id": "bc65cee7",
   "metadata": {},
   "source": [
    "### 등분산성 검정\n",
    "- 등분산성 검정의 \n",
    "    - 귀무가설(H0)은 \"집단의 분산이 같다\"\n",
    "    - 연구가설(H1)은 \"집단의 분산이 다르다\""
   ]
  },
  {
   "cell_type": "code",
   "execution_count": 36,
   "id": "8a1f3dbe",
   "metadata": {},
   "outputs": [
    {
     "data": {
      "text/plain": [
       "LeveneResult(statistic=0.6475222363405327, pvalue=0.5248269975064537)"
      ]
     },
     "execution_count": 36,
     "metadata": {},
     "output_type": "execute_result"
    }
   ],
   "source": [
    "# p-value > 0.05 로, 등분산성을 만족 한다.\n",
    "# 만약 등분산성을 만족 시키지 못했다면, welch_anova 분석을 시행\n",
    "stats.levene(setosa, versicolor, virginica)"
   ]
  },
  {
   "cell_type": "markdown",
   "id": "4fc13f39",
   "metadata": {},
   "source": [
    "### ANOVA\n",
    "- p-value < 0.05, 귀무가설 기각\n",
    "- 적어도 하나의 종에 대한 sepal width의 평균값에는 차이가 있다."
   ]
  },
  {
   "cell_type": "code",
   "execution_count": 37,
   "id": "5adaf60b",
   "metadata": {},
   "outputs": [
    {
     "data": {
      "text/plain": [
       "F_onewayResult(statistic=47.36446140299382, pvalue=1.3279165184572242e-16)"
      ]
     },
     "execution_count": 37,
     "metadata": {},
     "output_type": "execute_result"
    }
   ],
   "source": [
    "stats.f_oneway(setosa, versicolor, virginica)"
   ]
  },
  {
   "cell_type": "markdown",
   "id": "97736591",
   "metadata": {},
   "source": [
    "# Two-way ANOVA\n",
    "- 변수 3개(하나는 범주형/ 나머지 두개는 수치형 연속 변수)의 이원분산분석을 수행하고 통계표를 작성 하시오."
   ]
  },
  {
   "cell_type": "code",
   "execution_count": 1,
   "id": "104177e6",
   "metadata": {},
   "outputs": [
    {
     "data": {
      "text/html": [
       "<div>\n",
       "<style scoped>\n",
       "    .dataframe tbody tr th:only-of-type {\n",
       "        vertical-align: middle;\n",
       "    }\n",
       "\n",
       "    .dataframe tbody tr th {\n",
       "        vertical-align: top;\n",
       "    }\n",
       "\n",
       "    .dataframe thead th {\n",
       "        text-align: right;\n",
       "    }\n",
       "</style>\n",
       "<table border=\"1\" class=\"dataframe\">\n",
       "  <thead>\n",
       "    <tr style=\"text-align: right;\">\n",
       "      <th></th>\n",
       "      <th>AveragePrice</th>\n",
       "      <th>type</th>\n",
       "      <th>region</th>\n",
       "    </tr>\n",
       "  </thead>\n",
       "  <tbody>\n",
       "    <tr>\n",
       "      <th>0</th>\n",
       "      <td>1.13</td>\n",
       "      <td>conventional</td>\n",
       "      <td>Boston</td>\n",
       "    </tr>\n",
       "    <tr>\n",
       "      <th>1</th>\n",
       "      <td>1.07</td>\n",
       "      <td>conventional</td>\n",
       "      <td>Boston</td>\n",
       "    </tr>\n",
       "    <tr>\n",
       "      <th>2</th>\n",
       "      <td>1.01</td>\n",
       "      <td>conventional</td>\n",
       "      <td>Boston</td>\n",
       "    </tr>\n",
       "    <tr>\n",
       "      <th>3</th>\n",
       "      <td>1.02</td>\n",
       "      <td>conventional</td>\n",
       "      <td>Boston</td>\n",
       "    </tr>\n",
       "    <tr>\n",
       "      <th>4</th>\n",
       "      <td>1.19</td>\n",
       "      <td>conventional</td>\n",
       "      <td>Boston</td>\n",
       "    </tr>\n",
       "    <tr>\n",
       "      <th>...</th>\n",
       "      <td>...</td>\n",
       "      <td>...</td>\n",
       "      <td>...</td>\n",
       "    </tr>\n",
       "    <tr>\n",
       "      <th>1009</th>\n",
       "      <td>1.36</td>\n",
       "      <td>organic</td>\n",
       "      <td>Orlando</td>\n",
       "    </tr>\n",
       "    <tr>\n",
       "      <th>1010</th>\n",
       "      <td>1.67</td>\n",
       "      <td>organic</td>\n",
       "      <td>Orlando</td>\n",
       "    </tr>\n",
       "    <tr>\n",
       "      <th>1011</th>\n",
       "      <td>1.53</td>\n",
       "      <td>organic</td>\n",
       "      <td>Orlando</td>\n",
       "    </tr>\n",
       "    <tr>\n",
       "      <th>1012</th>\n",
       "      <td>1.55</td>\n",
       "      <td>organic</td>\n",
       "      <td>Orlando</td>\n",
       "    </tr>\n",
       "    <tr>\n",
       "      <th>1013</th>\n",
       "      <td>1.56</td>\n",
       "      <td>organic</td>\n",
       "      <td>Orlando</td>\n",
       "    </tr>\n",
       "  </tbody>\n",
       "</table>\n",
       "<p>1014 rows × 3 columns</p>\n",
       "</div>"
      ],
      "text/plain": [
       "      AveragePrice          type   region\n",
       "0             1.13  conventional   Boston\n",
       "1             1.07  conventional   Boston\n",
       "2             1.01  conventional   Boston\n",
       "3             1.02  conventional   Boston\n",
       "4             1.19  conventional   Boston\n",
       "...            ...           ...      ...\n",
       "1009          1.36       organic  Orlando\n",
       "1010          1.67       organic  Orlando\n",
       "1011          1.53       organic  Orlando\n",
       "1012          1.55       organic  Orlando\n",
       "1013          1.56       organic  Orlando\n",
       "\n",
       "[1014 rows x 3 columns]"
      ]
     },
     "execution_count": 1,
     "metadata": {},
     "output_type": "execute_result"
    }
   ],
   "source": [
    "import pandas as pd\n",
    "import numpy as np\n",
    "\n",
    "df = pd.read_csv('./data/avocado.csv')\n",
    "df = df[['AveragePrice', 'type', 'region']]\n",
    "df = df[(df['region'] == 'Orlando')|(df['region'] == 'Boston')|(df['region'] == 'Chicago')].reset_index(drop=True)\n",
    "df"
   ]
  },
  {
   "cell_type": "markdown",
   "id": "5ac55e46",
   "metadata": {},
   "source": [
    "## 풀이"
   ]
  },
  {
   "cell_type": "markdown",
   "id": "a3591e03",
   "metadata": {},
   "source": [
    "### 가설\n",
    "- 귀무가설1: region과 type 간에는 교호작용 효과가 없다. (교호작용 interaction이란 독립변수 사이에 상호작용이 있어서, 두 효과의 합이 산술적인 예상치보다 차이가 나는 것을 말한다.)\n",
    "- 대립가설1: region과 type 간에는 교호작용 효과가 있다.\n",
    "- 귀무가설2: region에 따른 AveragePrice 차이는 존재하지 않는다.\n",
    "- 대립가설2: region에 따른 AveragePrice 차이는 존재 한다.\n",
    "- 귀무가설3: type에 따른 AveragePrice 차이는 존재하지 않는다.\n",
    "- 대립가설3: type에 따른 AveragePrice 차이는 존재한다."
   ]
  },
  {
   "cell_type": "code",
   "execution_count": 2,
   "id": "52ee73fa",
   "metadata": {},
   "outputs": [],
   "source": [
    "# 독립변수 type. region, 종속변수 AveragePrice를 별도의 객체에 저장\n",
    "avocado_type = df['type']\n",
    "region = df['region']\n",
    "AveragePrice = df['AveragePrice']"
   ]
  },
  {
   "cell_type": "markdown",
   "id": "e95e651a",
   "metadata": {},
   "source": [
    "### ANOVA"
   ]
  },
  {
   "cell_type": "code",
   "execution_count": 3,
   "id": "05799c54",
   "metadata": {},
   "outputs": [
    {
     "data": {
      "text/html": [
       "<div>\n",
       "<style scoped>\n",
       "    .dataframe tbody tr th:only-of-type {\n",
       "        vertical-align: middle;\n",
       "    }\n",
       "\n",
       "    .dataframe tbody tr th {\n",
       "        vertical-align: top;\n",
       "    }\n",
       "\n",
       "    .dataframe thead th {\n",
       "        text-align: right;\n",
       "    }\n",
       "</style>\n",
       "<table border=\"1\" class=\"dataframe\">\n",
       "  <thead>\n",
       "    <tr style=\"text-align: right;\">\n",
       "      <th></th>\n",
       "      <th>sum_sq</th>\n",
       "      <th>df</th>\n",
       "      <th>F</th>\n",
       "      <th>PR(&gt;F)</th>\n",
       "    </tr>\n",
       "  </thead>\n",
       "  <tbody>\n",
       "    <tr>\n",
       "      <th>C(avocado_type)</th>\n",
       "      <td>56.111007</td>\n",
       "      <td>1.0</td>\n",
       "      <td>828.218296</td>\n",
       "      <td>1.989417e-133</td>\n",
       "    </tr>\n",
       "    <tr>\n",
       "      <th>C(region)</th>\n",
       "      <td>0.432136</td>\n",
       "      <td>2.0</td>\n",
       "      <td>3.189242</td>\n",
       "      <td>4.161918e-02</td>\n",
       "    </tr>\n",
       "    <tr>\n",
       "      <th>C(avocado_type):C(region)</th>\n",
       "      <td>1.878817</td>\n",
       "      <td>2.0</td>\n",
       "      <td>13.866003</td>\n",
       "      <td>1.146622e-06</td>\n",
       "    </tr>\n",
       "    <tr>\n",
       "      <th>Residual</th>\n",
       "      <td>68.291047</td>\n",
       "      <td>1008.0</td>\n",
       "      <td>NaN</td>\n",
       "      <td>NaN</td>\n",
       "    </tr>\n",
       "  </tbody>\n",
       "</table>\n",
       "</div>"
      ],
      "text/plain": [
       "                              sum_sq      df           F         PR(>F)\n",
       "C(avocado_type)            56.111007     1.0  828.218296  1.989417e-133\n",
       "C(region)                   0.432136     2.0    3.189242   4.161918e-02\n",
       "C(avocado_type):C(region)   1.878817     2.0   13.866003   1.146622e-06\n",
       "Residual                   68.291047  1008.0         NaN            NaN"
      ]
     },
     "execution_count": 3,
     "metadata": {},
     "output_type": "execute_result"
    }
   ],
   "source": [
    "from statsmodels.formula.api import ols\n",
    "from statsmodels.stats.anova import anova_lm\n",
    "\n",
    "formula = 'AveragePrice ~ C(avocado_type)*C(region)'\n",
    "model = ols(formula, df).fit()\n",
    "avo_table = anova_lm(model, typ=2)\n",
    "avo_table"
   ]
  },
  {
   "cell_type": "markdown",
   "id": "190a25d1",
   "metadata": {},
   "source": [
    "- 교호작용에 대한 검정 결과는, C(avocado_type):C(region) 행의 p-value를 보고 판단\n",
    "- 1.146622e-06 로 0.05 이하, 귀무가설 기각, 따라서, 교호작용이 있다고 할 수 있다.\n",
    "- C(avocado_type)과 C(region)의 AveragePrice에 대한 효과는, p-value가 0.05 이하\n",
    "- 각 변수의 종류에 따른 AveragePrice에 차이가 있다고 할 수 있다."
   ]
  },
  {
   "cell_type": "markdown",
   "id": "dfef6807",
   "metadata": {},
   "source": [
    "### 시각화"
   ]
  },
  {
   "cell_type": "code",
   "execution_count": 4,
   "id": "b068a7d3",
   "metadata": {},
   "outputs": [
    {
     "data": {
      "image/png": "[encoded data removed]",
      "text/plain": [
       "<Figure size 576x432 with 1 Axes>"
      ]
     },
     "metadata": {
      "needs_background": "light"
     },
     "output_type": "display_data"
    }
   ],
   "source": [
    "# 더 직관적인 판단을 위한 시각화\n",
    "from statsmodels.graphics.factorplots import interaction_plot\n",
    "import matplotlib.pyplot as plt\n",
    "fig = plt.figure(figsize=(8,6))\n",
    "ax = fig.gca()\n",
    "fig = interaction_plot(avocado_type, region, AveragePrice, colors=['black', 'green', 'red'], markers=['D', '^', 'o'], ms=10, ax=ax)\n",
    "plt.show()"
   ]
  },
  {
   "cell_type": "markdown",
   "id": "19268bad",
   "metadata": {},
   "source": [
    "# 카이제곱 검정 - 적합성 검정\n",
    "- titanic data의 생존자 중 남녀 비율이 같은지, 가설을 세우고 검정 하시요.\n",
    "\n",
    "## 풀이\n",
    "### 가설\n",
    "    - 귀무가설 : 타이타닉호의 생존자 중 남성 비율이 50%, 여성 비율이 50% 이다.\n",
    "    - 대립가설 : 타이타닉호의 생존자 중 남성의 비율이 50%, 여자의 비율이 50%라고 할 수 없다."
   ]
  },
  {
   "cell_type": "code",
   "execution_count": 8,
   "id": "4f20e8ee",
   "metadata": {},
   "outputs": [
    {
     "name": "stdout",
     "output_type": "stream",
     "text": [
      "<class 'pandas.core.frame.DataFrame'>\n",
      "RangeIndex: 891 entries, 0 to 890\n",
      "Data columns (total 11 columns):\n",
      " #   Column       Non-Null Count  Dtype  \n",
      "---  ------       --------------  -----  \n",
      " 0   survived     891 non-null    int64  \n",
      " 1   pclass       891 non-null    int64  \n",
      " 2   sex          891 non-null    object \n",
      " 3   age          714 non-null    float64\n",
      " 4   sibsp        891 non-null    int64  \n",
      " 5   parch        891 non-null    int64  \n",
      " 6   fare         891 non-null    float64\n",
      " 7   embarked     889 non-null    object \n",
      " 8   class        891 non-null    object \n",
      " 9   adult_male   891 non-null    bool   \n",
      " 10  embark_town  889 non-null    object \n",
      "dtypes: bool(1), float64(2), int64(4), object(4)\n",
      "memory usage: 70.6+ KB\n"
     ]
    }
   ],
   "source": [
    "import pandas as pd\n",
    "df = pd.read_csv('./data/titanic.csv')\n",
    "df.info()"
   ]
  },
  {
   "cell_type": "code",
   "execution_count": 9,
   "id": "a1137f0b",
   "metadata": {},
   "outputs": [
    {
     "data": {
      "text/plain": [
       "female    233\n",
       "male      109\n",
       "Name: sex, dtype: int64"
      ]
     },
     "execution_count": 9,
     "metadata": {},
     "output_type": "execute_result"
    }
   ],
   "source": [
    "# 생존자만 골라 냄 \n",
    "df = df[df['survived']==1]\n",
    "table = df['sex'].value_counts()\n",
    "table"
   ]
  },
  {
   "cell_type": "markdown",
   "id": "1600eb67",
   "metadata": {},
   "source": [
    "### 적합성 검정"
   ]
  },
  {
   "cell_type": "markdown",
   "id": "c313b3fd",
   "metadata": {},
   "source": [
    "- 교차 분석을 사용하기 위해, 명목형 변수 sex 변수에 대한 도수분포표를 생성\n",
    "- 범주별 관찰빈도를 확인 후 적합도 검정"
   ]
  },
  {
   "cell_type": "code",
   "execution_count": 10,
   "id": "383c7d4e",
   "metadata": {},
   "outputs": [
    {
     "name": "stdout",
     "output_type": "stream",
     "text": [
      "적합도 검정 : Power_divergenceResult(statistic=44.95906432748538, pvalue=2.0119672574477235e-11)\n"
     ]
    }
   ],
   "source": [
    "# 유의수준 0.05로 적합도 검정 수행\n",
    "from scipy.stats import chisquare\n",
    "chi = chisquare(table, f_exp=[171, 171])\n",
    "print(f'적합도 검정 : {chi}')"
   ]
  },
  {
   "cell_type": "markdown",
   "id": "bc17624f",
   "metadata": {},
   "source": [
    "- 카이제곱 통계량 : 44.95, p-value : 2.0119672574477235e-11\n",
    "- 귀무가설 기각, 즉 유의수준 0.05에서 타이타닉호의 생존자 남녀 비율은 50:50 이라고 할 수 없다."
   ]
  },
  {
   "cell_type": "markdown",
   "id": "5ecdb76e",
   "metadata": {},
   "source": [
    "# 카이제곱 검정 - 독립성 검정\n",
    "- titanic 데이터의 좌석 등급(class)과 생존여부(survived)가 서로 독립인가 검정 하세요."
   ]
  },
  {
   "cell_type": "markdown",
   "id": "ab0215fc",
   "metadata": {},
   "source": [
    "## 풀이\n",
    "### 가설\n",
    "    - 귀무가설 : class 변수와 survived 변수는 독립이다.\n",
    "    - 대립가설 : class 변수와 survived 변수는 독립이 아니다."
   ]
  },
  {
   "cell_type": "code",
   "execution_count": 11,
   "id": "6fcb10a5",
   "metadata": {},
   "outputs": [
    {
     "data": {
      "text/html": [
       "<div>\n",
       "<style scoped>\n",
       "    .dataframe tbody tr th:only-of-type {\n",
       "        vertical-align: middle;\n",
       "    }\n",
       "\n",
       "    .dataframe tbody tr th {\n",
       "        vertical-align: top;\n",
       "    }\n",
       "\n",
       "    .dataframe thead th {\n",
       "        text-align: right;\n",
       "    }\n",
       "</style>\n",
       "<table border=\"1\" class=\"dataframe\">\n",
       "  <thead>\n",
       "    <tr style=\"text-align: right;\">\n",
       "      <th>survived</th>\n",
       "      <th>0</th>\n",
       "      <th>1</th>\n",
       "    </tr>\n",
       "    <tr>\n",
       "      <th>class</th>\n",
       "      <th></th>\n",
       "      <th></th>\n",
       "    </tr>\n",
       "  </thead>\n",
       "  <tbody>\n",
       "    <tr>\n",
       "      <th>First</th>\n",
       "      <td>80</td>\n",
       "      <td>136</td>\n",
       "    </tr>\n",
       "    <tr>\n",
       "      <th>Second</th>\n",
       "      <td>97</td>\n",
       "      <td>87</td>\n",
       "    </tr>\n",
       "    <tr>\n",
       "      <th>Third</th>\n",
       "      <td>372</td>\n",
       "      <td>119</td>\n",
       "    </tr>\n",
       "  </tbody>\n",
       "</table>\n",
       "</div>"
      ],
      "text/plain": [
       "survived    0    1\n",
       "class             \n",
       "First      80  136\n",
       "Second     97   87\n",
       "Third     372  119"
      ]
     },
     "execution_count": 11,
     "metadata": {},
     "output_type": "execute_result"
    }
   ],
   "source": [
    "import pandas as pd\n",
    "df = pd.read_csv('./data/titanic.csv')\n",
    "table = pd.crosstab(df['class'], df['survived'])\n",
    "table"
   ]
  },
  {
   "cell_type": "markdown",
   "id": "259df50f",
   "metadata": {},
   "source": [
    "### 독립성 검정"
   ]
  },
  {
   "cell_type": "code",
   "execution_count": 12,
   "id": "34166620",
   "metadata": {},
   "outputs": [
    {
     "name": "stdout",
     "output_type": "stream",
     "text": [
      "Statistic : 102.88898875696056\n",
      "p-value : 4.549251711298793e-23\n",
      "df : 2\n",
      "Expect : [[133.09090909  82.90909091]\n",
      " [113.37373737  70.62626263]\n",
      " [302.53535354 188.46464646]]\n"
     ]
    }
   ],
   "source": [
    "# 카이제곱 검정을 통한 독립성 검정 수행\n",
    "from scipy.stats import chi2_contingency\n",
    "chi, p, df, expect = chi2_contingency(table)\n",
    "print(f'Statistic : {chi}')\n",
    "print(f'p-value : {p}')\n",
    "print(f'df : {df}')\n",
    "print(f'Expect : {expect}')"
   ]
  },
  {
   "cell_type": "markdown",
   "id": "3d9d1993",
   "metadata": {},
   "source": [
    "- p-value < 0.05, 귀무가설 기각\n",
    "- 즉, 좌석 등급과 생존은 유의수준 0.05하에서 독립이라고 할 수 없다."
   ]
  }
 ],
 "metadata": {
  "kernelspec": {
   "display_name": "Python 3 (ipykernel)",
   "language": "python",
   "name": "python3"
  },
  "language_info": {
   "codemirror_mode": {
    "name": "ipython",
    "version": 3
   },
   "file_extension": ".py",
   "mimetype": "text/x-python",
   "name": "python",
   "nbconvert_exporter": "python",
   "pygments_lexer": "ipython3",
   "version": "3.7.9"
  },
  "toc": {
   "base_numbering": 1,
   "nav_menu": {},
   "number_sections": true,
   "sideBar": true,
   "skip_h1_title": false,
   "title_cell": "Table of Contents",
   "title_sidebar": "Contents",
   "toc_cell": false,
   "toc_position": {},
   "toc_section_display": true,
   "toc_window_display": true
  },
  "vscode": {
   "interpreter": {
    "hash": "8a76269b423b4980097cdf6634cad2727457b9abcc61bd96393e1c55d94e8f38"
   }
  }
 },
 "nbformat": 4,
 "nbformat_minor": 5
}
