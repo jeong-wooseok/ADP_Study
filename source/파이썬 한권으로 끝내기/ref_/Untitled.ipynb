{
 "cells": [
  {
   "cell_type": "code",
   "execution_count": 24,
   "id": "a07cc988-a196-42ff-984b-3be44e81705d",
   "metadata": {},
   "outputs": [],
   "source": [
    "import pdfkit\n",
    "path_wkhtmltopdf = r'C:\\Program Files\\wkhtmltopdf\\bin\\wkhtmltopdf.exe'\n",
    "\n",
    "config = pdfkit.configuration(wkhtmltopdf=path_wkhtmltopdf)"
   ]
  },
  {
   "cell_type": "code",
   "execution_count": 11,
   "id": "47726d5e-ba76-4248-8a08-3f0665132700",
   "metadata": {},
   "outputs": [
    {
     "data": {
      "text/plain": [
       "True"
      ]
     },
     "execution_count": 11,
     "metadata": {},
     "output_type": "execute_result"
    }
   ],
   "source": [
    "# pdfkit.from_file('시각화.html','시각화.pdf', configuration = config,options={\"enable-local-file-access\": \"\"})"
   ]
  },
  {
   "cell_type": "code",
   "execution_count": 25,
   "id": "cc43d3a1-7063-4648-8e3d-d05634a0dbc3",
   "metadata": {},
   "outputs": [],
   "source": [
    "import os\n",
    "ins = os.listdir('./in')\n",
    "\n",
    "for i in ins:\n",
    "    pdfkit.from_file(f'./in/{i}', f'./out/{i.split(\".\")[0]}.pdf', configuration = config,options={\"enable-local-file-access\": \"\"})     \n"
   ]
  },
  {
   "cell_type": "code",
   "execution_count": 19,
   "id": "990e3445-f625-4344-a655-6362492a63de",
   "metadata": {},
   "outputs": [
    {
     "data": {
      "text/plain": [
       "'pca'"
      ]
     },
     "execution_count": 19,
     "metadata": {},
     "output_type": "execute_result"
    }
   ],
   "source": [
    "i.split('.')[0]"
   ]
  },
  {
   "cell_type": "code",
   "execution_count": 1,
   "id": "bae86d25-6fb4-419b-9421-44f7eac7e59a",
   "metadata": {},
   "outputs": [
    {
     "data": {
      "text/plain": [
       "'C:\\\\Users\\\\David\\\\Desktop\\\\Study\\\\BD_Study\\\\ADP\\\\adp\\\\source\\\\study materials\\\\ref_'"
      ]
     },
     "execution_count": 1,
     "metadata": {},
     "output_type": "execute_result"
    }
   ],
   "source": [
    "pwd"
   ]
  },
  {
   "cell_type": "code",
   "execution_count": null,
   "id": "3aaa1a89-910c-4f99-982d-49851a6a07e9",
   "metadata": {},
   "outputs": [],
   "source": []
  }
 ],
 "metadata": {
  "kernelspec": {
   "display_name": "Python 3 (ipykernel)",
   "language": "python",
   "name": "python3"
  },
  "language_info": {
   "codemirror_mode": {
    "name": "ipython",
    "version": 3
   },
   "file_extension": ".py",
   "mimetype": "text/x-python",
   "name": "python",
   "nbconvert_exporter": "python",
   "pygments_lexer": "ipython3",
   "version": "3.7.10"
  }
 },
 "nbformat": 4,
 "nbformat_minor": 5
}
