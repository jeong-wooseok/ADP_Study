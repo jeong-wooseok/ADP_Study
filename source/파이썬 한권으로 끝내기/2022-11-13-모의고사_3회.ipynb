{
 "cells": [
  {
   "cell_type": "markdown",
   "id": "be806952",
   "metadata": {},
   "source": [
    "# 제3회 모의고사"
   ]
  },
  {
   "cell_type": "markdown",
   "id": "811cd9a1",
   "metadata": {},
   "source": [
    "## 머신러닝\n",
    "- 데이터 : 객실 사용 여부 관련 데이터\n",
    "- 데이터셋 개요 : 도시 및 리조트 호텔의 예약정보 데이터\n",
    "- 분석 목적 : 호텔 객실 예약 및 취소에 대한 정보 분석\n",
    "- 컬럼 설명\n",
    "    - is_canceled: 캔슬 여부 (1: yes / 0: no)\n",
    "    - deposit_type: 보증금 타입\n",
    "    - lead_time: 예약한 날짜와 호텔에 도착 한 날짜 사이의 경과일\n",
    "    - stays_in_weekend_nights: 주말 숙박 일수 (토요일,일요일)\n",
    "    - stays_in_week_nights: 평일 숙박 일수\n",
    "    - is_repeated_guest: 재방문 고객 여부(1: yes / 0: no)\n",
    "    - previous_cancellations: 이번 예약 전에 고객이 취소한 예약 수\n",
    "    - previous_bookings_not_canceled: 이번 예약 전에 고객이 취소하지 않은 예약 수\n",
    "    - days_in_waiting_list: 예약 확정 전까지 대기 명단에 있었던 기간\n",
    "    - adr: 평균 일일 숙박비\n",
    "- 데이터셋 출처 : https://www.kaggle.com/jessemostipak/hotel-booking-demand    "
   ]
  },
  {
   "cell_type": "markdown",
   "id": "095bbd81",
   "metadata": {},
   "source": [
    "### 데이터를 탐색하고 탐색 결과를 제시하시오."
   ]
  },
  {
   "cell_type": "code",
   "execution_count": 1,
   "id": "877470a1",
   "metadata": {},
   "outputs": [
    {
     "data": {
      "text/html": [
       "<div>\n",
       "<style scoped>\n",
       "    .dataframe tbody tr th:only-of-type {\n",
       "        vertical-align: middle;\n",
       "    }\n",
       "\n",
       "    .dataframe tbody tr th {\n",
       "        vertical-align: top;\n",
       "    }\n",
       "\n",
       "    .dataframe thead th {\n",
       "        text-align: right;\n",
       "    }\n",
       "</style>\n",
       "<table border=\"1\" class=\"dataframe\">\n",
       "  <thead>\n",
       "    <tr style=\"text-align: right;\">\n",
       "      <th></th>\n",
       "      <th>is_canceled</th>\n",
       "      <th>deposit_type</th>\n",
       "      <th>lead_time</th>\n",
       "      <th>stays_in_weekend_nights</th>\n",
       "      <th>stays_in_week_nights</th>\n",
       "      <th>is_repeated_guest</th>\n",
       "      <th>previous_cancellations</th>\n",
       "      <th>previous_bookings_not_canceled</th>\n",
       "      <th>booking_changes</th>\n",
       "      <th>days_in_waiting_list</th>\n",
       "      <th>adr</th>\n",
       "    </tr>\n",
       "  </thead>\n",
       "  <tbody>\n",
       "    <tr>\n",
       "      <th>0</th>\n",
       "      <td>0</td>\n",
       "      <td>No Deposit</td>\n",
       "      <td>105.0</td>\n",
       "      <td>2</td>\n",
       "      <td>5</td>\n",
       "      <td>NaN</td>\n",
       "      <td>0</td>\n",
       "      <td>0</td>\n",
       "      <td>1</td>\n",
       "      <td>0</td>\n",
       "      <td>131.50</td>\n",
       "    </tr>\n",
       "    <tr>\n",
       "      <th>1</th>\n",
       "      <td>0</td>\n",
       "      <td>No Deposit</td>\n",
       "      <td>303.0</td>\n",
       "      <td>2</td>\n",
       "      <td>2</td>\n",
       "      <td>NaN</td>\n",
       "      <td>0</td>\n",
       "      <td>0</td>\n",
       "      <td>0</td>\n",
       "      <td>0</td>\n",
       "      <td>73.95</td>\n",
       "    </tr>\n",
       "    <tr>\n",
       "      <th>2</th>\n",
       "      <td>0</td>\n",
       "      <td>No Deposit</td>\n",
       "      <td>33.0</td>\n",
       "      <td>2</td>\n",
       "      <td>3</td>\n",
       "      <td>0.0</td>\n",
       "      <td>0</td>\n",
       "      <td>0</td>\n",
       "      <td>0</td>\n",
       "      <td>0</td>\n",
       "      <td>NaN</td>\n",
       "    </tr>\n",
       "    <tr>\n",
       "      <th>3</th>\n",
       "      <td>0</td>\n",
       "      <td>No Deposit</td>\n",
       "      <td>48.0</td>\n",
       "      <td>0</td>\n",
       "      <td>1</td>\n",
       "      <td>0.0</td>\n",
       "      <td>0</td>\n",
       "      <td>0</td>\n",
       "      <td>1</td>\n",
       "      <td>0</td>\n",
       "      <td>80.30</td>\n",
       "    </tr>\n",
       "    <tr>\n",
       "      <th>4</th>\n",
       "      <td>0</td>\n",
       "      <td>No Deposit</td>\n",
       "      <td>216.0</td>\n",
       "      <td>4</td>\n",
       "      <td>7</td>\n",
       "      <td>0.0</td>\n",
       "      <td>0</td>\n",
       "      <td>0</td>\n",
       "      <td>2</td>\n",
       "      <td>0</td>\n",
       "      <td>60.90</td>\n",
       "    </tr>\n",
       "  </tbody>\n",
       "</table>\n",
       "</div>"
      ],
      "text/plain": [
       "   is_canceled deposit_type  lead_time  stays_in_weekend_nights  \\\n",
       "0            0   No Deposit      105.0                        2   \n",
       "1            0   No Deposit      303.0                        2   \n",
       "2            0   No Deposit       33.0                        2   \n",
       "3            0   No Deposit       48.0                        0   \n",
       "4            0   No Deposit      216.0                        4   \n",
       "\n",
       "   stays_in_week_nights  is_repeated_guest  previous_cancellations  \\\n",
       "0                     5                NaN                       0   \n",
       "1                     2                NaN                       0   \n",
       "2                     3                0.0                       0   \n",
       "3                     1                0.0                       0   \n",
       "4                     7                0.0                       0   \n",
       "\n",
       "   previous_bookings_not_canceled  booking_changes  days_in_waiting_list  \\\n",
       "0                               0                1                     0   \n",
       "1                               0                0                     0   \n",
       "2                               0                0                     0   \n",
       "3                               0                1                     0   \n",
       "4                               0                2                     0   \n",
       "\n",
       "      adr  \n",
       "0  131.50  \n",
       "1   73.95  \n",
       "2     NaN  \n",
       "3   80.30  \n",
       "4   60.90  "
      ]
     },
     "execution_count": 1,
     "metadata": {},
     "output_type": "execute_result"
    }
   ],
   "source": [
    "import pandas as pd\n",
    "import numpy as np\n",
    "df = pd.read_csv('./data/hotel_bookings.csv')\n",
    "df.head()"
   ]
  },
  {
   "cell_type": "code",
   "execution_count": 2,
   "id": "8f1b5be9",
   "metadata": {},
   "outputs": [
    {
     "name": "stdout",
     "output_type": "stream",
     "text": [
      "<class 'pandas.core.frame.DataFrame'>\n",
      "RangeIndex: 20000 entries, 0 to 19999\n",
      "Data columns (total 11 columns):\n",
      " #   Column                          Non-Null Count  Dtype  \n",
      "---  ------                          --------------  -----  \n",
      " 0   is_canceled                     20000 non-null  int64  \n",
      " 1   deposit_type                    20000 non-null  object \n",
      " 2   lead_time                       19995 non-null  float64\n",
      " 3   stays_in_weekend_nights         20000 non-null  int64  \n",
      " 4   stays_in_week_nights            20000 non-null  int64  \n",
      " 5   is_repeated_guest               19642 non-null  float64\n",
      " 6   previous_cancellations          20000 non-null  int64  \n",
      " 7   previous_bookings_not_canceled  20000 non-null  int64  \n",
      " 8   booking_changes                 20000 non-null  int64  \n",
      " 9   days_in_waiting_list            20000 non-null  int64  \n",
      " 10  adr                             18937 non-null  float64\n",
      "dtypes: float64(3), int64(7), object(1)\n",
      "memory usage: 1.7+ MB\n"
     ]
    }
   ],
   "source": [
    "df.info()"
   ]
  },
  {
   "cell_type": "markdown",
   "id": "fa3a5aa9",
   "metadata": {},
   "source": [
    "- 데이터 타입 설명\n",
    "    - 종속변수(is_cancled)는 int, 독립변수는 object, float, int 형으로 구성되어 있다.\n",
    "    - 독립변수의 object 타입은, 인코딩을 통한 변환이 필요해 보인다."
   ]
  },
  {
   "cell_type": "code",
   "execution_count": 3,
   "id": "1f9c9c4a",
   "metadata": {},
   "outputs": [
    {
     "data": {
      "text/html": [
       "<div>\n",
       "<style scoped>\n",
       "    .dataframe tbody tr th:only-of-type {\n",
       "        vertical-align: middle;\n",
       "    }\n",
       "\n",
       "    .dataframe tbody tr th {\n",
       "        vertical-align: top;\n",
       "    }\n",
       "\n",
       "    .dataframe thead th {\n",
       "        text-align: right;\n",
       "    }\n",
       "</style>\n",
       "<table border=\"1\" class=\"dataframe\">\n",
       "  <thead>\n",
       "    <tr style=\"text-align: right;\">\n",
       "      <th></th>\n",
       "      <th>is_canceled</th>\n",
       "      <th>deposit_type</th>\n",
       "      <th>lead_time</th>\n",
       "      <th>stays_in_weekend_nights</th>\n",
       "      <th>stays_in_week_nights</th>\n",
       "      <th>is_repeated_guest</th>\n",
       "      <th>previous_cancellations</th>\n",
       "      <th>previous_bookings_not_canceled</th>\n",
       "      <th>booking_changes</th>\n",
       "      <th>days_in_waiting_list</th>\n",
       "      <th>adr</th>\n",
       "    </tr>\n",
       "  </thead>\n",
       "  <tbody>\n",
       "    <tr>\n",
       "      <th>count</th>\n",
       "      <td>20000.00000</td>\n",
       "      <td>20000</td>\n",
       "      <td>19995.000000</td>\n",
       "      <td>20000.000000</td>\n",
       "      <td>20000.000000</td>\n",
       "      <td>19642.000000</td>\n",
       "      <td>20000.000000</td>\n",
       "      <td>20000.000000</td>\n",
       "      <td>20000.000000</td>\n",
       "      <td>20000.000000</td>\n",
       "      <td>18937.000000</td>\n",
       "    </tr>\n",
       "    <tr>\n",
       "      <th>unique</th>\n",
       "      <td>NaN</td>\n",
       "      <td>3</td>\n",
       "      <td>NaN</td>\n",
       "      <td>NaN</td>\n",
       "      <td>NaN</td>\n",
       "      <td>NaN</td>\n",
       "      <td>NaN</td>\n",
       "      <td>NaN</td>\n",
       "      <td>NaN</td>\n",
       "      <td>NaN</td>\n",
       "      <td>NaN</td>\n",
       "    </tr>\n",
       "    <tr>\n",
       "      <th>top</th>\n",
       "      <td>NaN</td>\n",
       "      <td>No Deposit</td>\n",
       "      <td>NaN</td>\n",
       "      <td>NaN</td>\n",
       "      <td>NaN</td>\n",
       "      <td>NaN</td>\n",
       "      <td>NaN</td>\n",
       "      <td>NaN</td>\n",
       "      <td>NaN</td>\n",
       "      <td>NaN</td>\n",
       "      <td>NaN</td>\n",
       "    </tr>\n",
       "    <tr>\n",
       "      <th>freq</th>\n",
       "      <td>NaN</td>\n",
       "      <td>19138</td>\n",
       "      <td>NaN</td>\n",
       "      <td>NaN</td>\n",
       "      <td>NaN</td>\n",
       "      <td>NaN</td>\n",
       "      <td>NaN</td>\n",
       "      <td>NaN</td>\n",
       "      <td>NaN</td>\n",
       "      <td>NaN</td>\n",
       "      <td>NaN</td>\n",
       "    </tr>\n",
       "    <tr>\n",
       "      <th>mean</th>\n",
       "      <td>0.12000</td>\n",
       "      <td>NaN</td>\n",
       "      <td>85.978345</td>\n",
       "      <td>0.892550</td>\n",
       "      <td>2.380400</td>\n",
       "      <td>0.038133</td>\n",
       "      <td>0.032900</td>\n",
       "      <td>0.169050</td>\n",
       "      <td>0.269400</td>\n",
       "      <td>1.983950</td>\n",
       "      <td>101.410239</td>\n",
       "    </tr>\n",
       "    <tr>\n",
       "      <th>std</th>\n",
       "      <td>0.32497</td>\n",
       "      <td>NaN</td>\n",
       "      <td>96.427240</td>\n",
       "      <td>0.952077</td>\n",
       "      <td>1.777345</td>\n",
       "      <td>0.191521</td>\n",
       "      <td>0.455552</td>\n",
       "      <td>1.502426</td>\n",
       "      <td>0.687566</td>\n",
       "      <td>15.927212</td>\n",
       "      <td>49.245097</td>\n",
       "    </tr>\n",
       "    <tr>\n",
       "      <th>min</th>\n",
       "      <td>0.00000</td>\n",
       "      <td>NaN</td>\n",
       "      <td>0.000000</td>\n",
       "      <td>0.000000</td>\n",
       "      <td>0.000000</td>\n",
       "      <td>0.000000</td>\n",
       "      <td>0.000000</td>\n",
       "      <td>0.000000</td>\n",
       "      <td>0.000000</td>\n",
       "      <td>0.000000</td>\n",
       "      <td>-6.380000</td>\n",
       "    </tr>\n",
       "    <tr>\n",
       "      <th>25%</th>\n",
       "      <td>0.00000</td>\n",
       "      <td>NaN</td>\n",
       "      <td>11.000000</td>\n",
       "      <td>0.000000</td>\n",
       "      <td>1.000000</td>\n",
       "      <td>0.000000</td>\n",
       "      <td>0.000000</td>\n",
       "      <td>0.000000</td>\n",
       "      <td>0.000000</td>\n",
       "      <td>0.000000</td>\n",
       "      <td>68.800000</td>\n",
       "    </tr>\n",
       "    <tr>\n",
       "      <th>50%</th>\n",
       "      <td>0.00000</td>\n",
       "      <td>NaN</td>\n",
       "      <td>51.000000</td>\n",
       "      <td>1.000000</td>\n",
       "      <td>2.000000</td>\n",
       "      <td>0.000000</td>\n",
       "      <td>0.000000</td>\n",
       "      <td>0.000000</td>\n",
       "      <td>0.000000</td>\n",
       "      <td>0.000000</td>\n",
       "      <td>94.500000</td>\n",
       "    </tr>\n",
       "    <tr>\n",
       "      <th>75%</th>\n",
       "      <td>0.00000</td>\n",
       "      <td>NaN</td>\n",
       "      <td>132.000000</td>\n",
       "      <td>2.000000</td>\n",
       "      <td>3.000000</td>\n",
       "      <td>0.000000</td>\n",
       "      <td>0.000000</td>\n",
       "      <td>0.000000</td>\n",
       "      <td>0.000000</td>\n",
       "      <td>0.000000</td>\n",
       "      <td>126.000000</td>\n",
       "    </tr>\n",
       "    <tr>\n",
       "      <th>max</th>\n",
       "      <td>1.00000</td>\n",
       "      <td>NaN</td>\n",
       "      <td>629.000000</td>\n",
       "      <td>13.000000</td>\n",
       "      <td>30.000000</td>\n",
       "      <td>1.000000</td>\n",
       "      <td>26.000000</td>\n",
       "      <td>66.000000</td>\n",
       "      <td>17.000000</td>\n",
       "      <td>379.000000</td>\n",
       "      <td>451.500000</td>\n",
       "    </tr>\n",
       "  </tbody>\n",
       "</table>\n",
       "</div>"
      ],
      "text/plain": [
       "        is_canceled deposit_type     lead_time  stays_in_weekend_nights  \\\n",
       "count   20000.00000        20000  19995.000000             20000.000000   \n",
       "unique          NaN            3           NaN                      NaN   \n",
       "top             NaN   No Deposit           NaN                      NaN   \n",
       "freq            NaN        19138           NaN                      NaN   \n",
       "mean        0.12000          NaN     85.978345                 0.892550   \n",
       "std         0.32497          NaN     96.427240                 0.952077   \n",
       "min         0.00000          NaN      0.000000                 0.000000   \n",
       "25%         0.00000          NaN     11.000000                 0.000000   \n",
       "50%         0.00000          NaN     51.000000                 1.000000   \n",
       "75%         0.00000          NaN    132.000000                 2.000000   \n",
       "max         1.00000          NaN    629.000000                13.000000   \n",
       "\n",
       "        stays_in_week_nights  is_repeated_guest  previous_cancellations  \\\n",
       "count           20000.000000       19642.000000            20000.000000   \n",
       "unique                   NaN                NaN                     NaN   \n",
       "top                      NaN                NaN                     NaN   \n",
       "freq                     NaN                NaN                     NaN   \n",
       "mean                2.380400           0.038133                0.032900   \n",
       "std                 1.777345           0.191521                0.455552   \n",
       "min                 0.000000           0.000000                0.000000   \n",
       "25%                 1.000000           0.000000                0.000000   \n",
       "50%                 2.000000           0.000000                0.000000   \n",
       "75%                 3.000000           0.000000                0.000000   \n",
       "max                30.000000           1.000000               26.000000   \n",
       "\n",
       "        previous_bookings_not_canceled  booking_changes  days_in_waiting_list  \\\n",
       "count                     20000.000000     20000.000000          20000.000000   \n",
       "unique                             NaN              NaN                   NaN   \n",
       "top                                NaN              NaN                   NaN   \n",
       "freq                               NaN              NaN                   NaN   \n",
       "mean                          0.169050         0.269400              1.983950   \n",
       "std                           1.502426         0.687566             15.927212   \n",
       "min                           0.000000         0.000000              0.000000   \n",
       "25%                           0.000000         0.000000              0.000000   \n",
       "50%                           0.000000         0.000000              0.000000   \n",
       "75%                           0.000000         0.000000              0.000000   \n",
       "max                          66.000000        17.000000            379.000000   \n",
       "\n",
       "                 adr  \n",
       "count   18937.000000  \n",
       "unique           NaN  \n",
       "top              NaN  \n",
       "freq             NaN  \n",
       "mean      101.410239  \n",
       "std        49.245097  \n",
       "min        -6.380000  \n",
       "25%        68.800000  \n",
       "50%        94.500000  \n",
       "75%       126.000000  \n",
       "max       451.500000  "
      ]
     },
     "execution_count": 3,
     "metadata": {},
     "output_type": "execute_result"
    }
   ],
   "source": [
    "df.describe(include='all')"
   ]
  },
  {
   "cell_type": "markdown",
   "id": "e7201e98",
   "metadata": {},
   "source": [
    "- 데이터의 기술분석\n",
    "    - is_canceled : 0 or 1로 되어 있다.평균 값으로 보아 0이 많은 듯\n",
    "    - deposit_type : 3가지 object 의 class로 되어 있다.\n",
    "    - lead_time : 평균과 중위값의 차이가 크며, 4분위수의 증가 폭이 가파르다. 분포가 positive skew 되어 있을 가능성이 크다\n",
    "    - stays_in_weekend_nights : 평균과 중위값으 차이가 크진 않지만, 75% 값과 max 값의 차이는 큰 편이다. 이상치가 있을 듯.\n",
    "    - stays_in_week_nights : 평균과 중위값으 차이가 크진 않지만, 75% 값과 max 값의 차이는 큰 편이다. 이상치가 있을 듯.\n",
    "    - is_repeated_guest: 0 or 1로 되어 있다.평균 값으로 보아 0이 많은 듯\n",
    "    - previous_cancellations : 0으로의 쏠림이 매우 크다.\n",
    "    - previous_bookings_not_canceled : 0으로의 쏠림이 매우 크다.\n",
    "    - booking_changes : 0으로의 쏠림이 매우 크다.\n",
    "    - days_in_waiting_list : 0으로의 쏠림이 매우 크다.\n",
    "    - adr :  평균과 중위값이 유사하고 정규분포에서 그렇게 많이 벗어나진 않아 보이지만, 최소값이 마이너스 인 점은 유의 할만하다."
   ]
  },
  {
   "cell_type": "markdown",
   "id": "1c32d4d3",
   "metadata": {},
   "source": [
    "### 결측치를 탐색하고 대체 방법 및 근거를 제시하시오."
   ]
  },
  {
   "cell_type": "code",
   "execution_count": 4,
   "id": "8fdebf1f",
   "metadata": {},
   "outputs": [
    {
     "data": {
      "text/plain": [
       "is_canceled                          0\n",
       "deposit_type                         0\n",
       "lead_time                            5\n",
       "stays_in_weekend_nights              0\n",
       "stays_in_week_nights                 0\n",
       "is_repeated_guest                  358\n",
       "previous_cancellations               0\n",
       "previous_bookings_not_canceled       0\n",
       "booking_changes                      0\n",
       "days_in_waiting_list                 0\n",
       "adr                               1063\n",
       "dtype: int64"
      ]
     },
     "execution_count": 4,
     "metadata": {},
     "output_type": "execute_result"
    }
   ],
   "source": [
    "df.isna().sum()"
   ]
  },
  {
   "cell_type": "code",
   "execution_count": 5,
   "id": "91d62960",
   "metadata": {},
   "outputs": [
    {
     "data": {
      "text/plain": [
       "is_canceled                       0.000\n",
       "deposit_type                      0.000\n",
       "lead_time                         0.025\n",
       "stays_in_weekend_nights           0.000\n",
       "stays_in_week_nights              0.000\n",
       "is_repeated_guest                 1.790\n",
       "previous_cancellations            0.000\n",
       "previous_bookings_not_canceled    0.000\n",
       "booking_changes                   0.000\n",
       "days_in_waiting_list              0.000\n",
       "adr                               5.315\n",
       "dtype: float64"
      ]
     },
     "execution_count": 5,
     "metadata": {},
     "output_type": "execute_result"
    }
   ],
   "source": [
    "df.isna().mean()*100"
   ]
  },
  {
   "cell_type": "code",
   "execution_count": 6,
   "id": "e7e507ba",
   "metadata": {},
   "outputs": [
    {
     "data": {
      "text/plain": [
       "deposit_type\n",
       "No Deposit    101.965190\n",
       "Non Refund     89.689476\n",
       "Refundable     67.456154\n",
       "Name: adr, dtype: float64"
      ]
     },
     "execution_count": 6,
     "metadata": {},
     "output_type": "execute_result"
    }
   ],
   "source": [
    "df.groupby('deposit_type').mean()['adr']"
   ]
  },
  {
   "cell_type": "markdown",
   "id": "678b0bd7",
   "metadata": {},
   "source": [
    "- 결측치 존재 여부\n",
    "    - lead_time, is_repeated_guest, adr 변수에 각각 5개, 358개와 1063의 결측치가 있다.\n",
    "    - 비율로는, lead_time 0.025%, is_repeated_guest 1.790%, adr 5.315% 이다\n",
    "- 결측치 대체 방법 1\n",
    "    - lead_time : 1% 미만으로 삭제"
   ]
  },
  {
   "cell_type": "code",
   "execution_count": 7,
   "id": "7c3c5947",
   "metadata": {},
   "outputs": [
    {
     "data": {
      "text/plain": [
       "20000"
      ]
     },
     "execution_count": 7,
     "metadata": {},
     "output_type": "execute_result"
    }
   ],
   "source": [
    "len(df)"
   ]
  },
  {
   "cell_type": "code",
   "execution_count": 8,
   "id": "d17fd6ce",
   "metadata": {},
   "outputs": [],
   "source": [
    "df = df[df['lead_time'].notnull()]"
   ]
  },
  {
   "cell_type": "code",
   "execution_count": 9,
   "id": "93285a23",
   "metadata": {},
   "outputs": [
    {
     "data": {
      "text/plain": [
       "19995"
      ]
     },
     "execution_count": 9,
     "metadata": {},
     "output_type": "execute_result"
    }
   ],
   "source": [
    "len(df)"
   ]
  },
  {
   "cell_type": "code",
   "execution_count": 10,
   "id": "9d7bf9a0",
   "metadata": {},
   "outputs": [
    {
     "data": {
      "text/plain": [
       "is_canceled                          0\n",
       "deposit_type                         0\n",
       "lead_time                            0\n",
       "stays_in_weekend_nights              0\n",
       "stays_in_week_nights                 0\n",
       "is_repeated_guest                  358\n",
       "previous_cancellations               0\n",
       "previous_bookings_not_canceled       0\n",
       "booking_changes                      0\n",
       "days_in_waiting_list                 0\n",
       "adr                               1063\n",
       "dtype: int64"
      ]
     },
     "execution_count": 10,
     "metadata": {},
     "output_type": "execute_result"
    }
   ],
   "source": [
    "df.isna().sum()"
   ]
  },
  {
   "cell_type": "markdown",
   "id": "b7f268d0",
   "metadata": {},
   "source": [
    "- 결측치 대체 방법 2\n",
    "    - is_repeated_guest : 범주형으로, 최빈값으로 대체"
   ]
  },
  {
   "cell_type": "code",
   "execution_count": 11,
   "id": "4a1d27d8",
   "metadata": {},
   "outputs": [
    {
     "data": {
      "text/plain": [
       "is_canceled                      -0.047367\n",
       "lead_time                        -0.141420\n",
       "stays_in_weekend_nights          -0.108885\n",
       "stays_in_week_nights             -0.116128\n",
       "is_repeated_guest                 1.000000\n",
       "previous_cancellations            0.130869\n",
       "previous_bookings_not_canceled    0.467179\n",
       "booking_changes                  -0.006321\n",
       "days_in_waiting_list             -0.020378\n",
       "adr                              -0.169400\n",
       "Name: is_repeated_guest, dtype: float64"
      ]
     },
     "execution_count": 11,
     "metadata": {},
     "output_type": "execute_result"
    }
   ],
   "source": [
    "df.corr()['is_repeated_guest']"
   ]
  },
  {
   "cell_type": "code",
   "execution_count": 12,
   "id": "49af1583",
   "metadata": {},
   "outputs": [
    {
     "data": {
      "text/plain": [
       "0.0    18888\n",
       "1.0      749\n",
       "Name: is_repeated_guest, dtype: int64"
      ]
     },
     "execution_count": 12,
     "metadata": {},
     "output_type": "execute_result"
    }
   ],
   "source": [
    "df['is_repeated_guest'].value_counts()"
   ]
  },
  {
   "cell_type": "code",
   "execution_count": 13,
   "id": "80e1b589",
   "metadata": {},
   "outputs": [],
   "source": [
    "df['is_repeated_guest']=df['is_repeated_guest'].fillna(df['is_repeated_guest'].mode()[0])"
   ]
  },
  {
   "cell_type": "code",
   "execution_count": 14,
   "id": "ffeac639",
   "metadata": {},
   "outputs": [
    {
     "data": {
      "text/plain": [
       "is_canceled                          0\n",
       "deposit_type                         0\n",
       "lead_time                            0\n",
       "stays_in_weekend_nights              0\n",
       "stays_in_week_nights                 0\n",
       "is_repeated_guest                    0\n",
       "previous_cancellations               0\n",
       "previous_bookings_not_canceled       0\n",
       "booking_changes                      0\n",
       "days_in_waiting_list                 0\n",
       "adr                               1063\n",
       "dtype: int64"
      ]
     },
     "execution_count": 14,
     "metadata": {},
     "output_type": "execute_result"
    }
   ],
   "source": [
    "df.isna().sum()"
   ]
  },
  {
   "cell_type": "markdown",
   "id": "5beaa39f",
   "metadata": {},
   "source": [
    "- 결측치 대체 방법 3\n",
    "    - adr : deposit_type 별 평균 adr로 대체 한다. 이유는, 다음 셀의 결과과 같이 deposit_type별 adr평균이 확연히 차이가 나기 때문이다."
   ]
  },
  {
   "cell_type": "code",
   "execution_count": 15,
   "id": "0d7f35bf",
   "metadata": {},
   "outputs": [
    {
     "data": {
      "text/plain": [
       "Text(0.5, 1.0, 'Average adr of each deposit_type')"
      ]
     },
     "execution_count": 15,
     "metadata": {},
     "output_type": "execute_result"
    },
    {
     "data": {
<<<<<<< HEAD
      "image/png": "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\n",
=======
      "image/png": "iVBORw0KGgoAAAANSUhEUgAAAYUAAAEXCAYAAABCjVgAAAAAOXRFWHRTb2Z0d2FyZQBNYXRwbG90bGliIHZlcnNpb24zLjUuMiwgaHR0cHM6Ly9tYXRwbG90bGliLm9yZy8qNh9FAAAACXBIWXMAAAsTAAALEwEAmpwYAAAbpElEQVR4nO3deZwdZZ3v8c83CUkg7KZNICEEIYDIaNAM4BAUgRFEnKDDIsOFsDgBRMAFI6NcZLx6L0YRVK5iEExQYVhkd2SRRRAQSSCsAYkhIQnp0AHCjhLymz/q6YfKoTvdSbpPdff5vl+vfnVVPbX8TtU5/T31VJ86igjMzMwA+lVdgJmZ9RwOBTMzyxwKZmaWORTMzCxzKJiZWeZQMDOzzKFgfYak2yV9rgvXd7ykJZJekfSurlpvB9tcq8cgKSRt05U1reb2X5H0nqq2b2vPodDHpD8qL0gaVHUtvZmkdYAfAB+PiPUj4rmqa+oN0r6aCyBpmqRvd2Y5SfMk7d291VlnOBT6EEmjgd2BAP6lG9Y/oKvXWS9rUPswYDDwaDeUY9ZjORT6liOAPwHTgIkAkgZJWiZpx9aZJDVJel3Su9P4/pJmpfnulvT+0rzzJH1N0kPAq5IGSDpV0l8lvSzpMUmfLs3fX9JZkpZKekrSF1KXxoDUvpGkCyQtlrRI0rcl9W/rwUjaWdI9qa7Fks6VNLDU/s+SHpf0oqRzAZXajpR0l6SzJT0HnNHG+gdJOkfSM+nnnDRtW+CJNNsySbe2U9+uaX8tk/SgpD1KbUdJmp320VxJx9YsOyHt85fSvty31Lxlqv1lSTdJGtrW9tN6vpr2zTOSjm7j8X1f0tOpG+w8Seumtj0kLZT09XSs5kk6rLTsRpIuktQiab6k0yT1S23bSPpD2u9LJV1aWi5S+yTgMGBy6lK6bhWP4ZfAKOC6NO9kSb+VdGLNfA+1PtfSdk5K+3appO+11pfaj077/wVJN0rasr3tW42I8E8f+QHmAJ8HPgS8CQxL0y8EvlOa7wTghjS8E/AssAvQnyJM5gGDUvs8YBawBbBumnYQsDnFm4pDgFeBzVLbccBjwEhgE+D3FGcuA1L7VcDPgCHAu4E/A8e283g+BOwKDABGA7OBL6a2ocDLwIHAOsCXgOXA51L7kWn8xLT8um2s/1sUIfpuoAm4G/g/qW10ue42lh0BPAfsl/bDP6fxptT+SWBriqD6KPAa8MHUtjPwYlqmX1rX9qntduCvwLbAumn8zHZq2BdYAuyY9ufFqeZtUvvZwLXApsAGwHXA/0tte6T98wNgUKrxVWC71H4RcE1abjTwF+CY1HYJ8I1U+2BgfKmm8vanAd/u5HN3HrB3afxg4N7S+AfS/h1Y2s5t6bGNSvW1HvsJFK+F96Zjfxpwd9Wvz97yU3kB/umiAwnjKYJgaBp/HPhSGt4b+Gtp3ruAI9LwT1v/EJbanwA+mobnAUd3sO1ZwIQ0fCulP/Jp25FenMOAv1H6Aw0cCtzWycf4ReCqNHwE8KdSm4CFrBwKT3ewvr8C+5XG9wHmpeHRrDoUvgb8smbajcDEdua/Gjg5Df8MOLud+W4HTiuNf54U4G3MeyGlwKAIkgC2SfvjVWDrUvuHgafS8B4UoTCk1H4Z8L8p3hz8Hdih1HYscHsavgiYCoxso6auCoXBwAvAmDT+feAnNdvZt2Y/3ZKGf0cKsDTejyKUt1yb11ij/Lj7qO+YCNwUEUvT+MVpGhTvqNaTtIuK6w5jKd6xA2wJfCV1gSyTtIzirGDz0roXlDck6Qi93d20jOKdamsXx+Y185eHt6R4V7+4tOzPKN6pv4OkbSVdL6lZ0kvA/21vO1G8+hfUrKJ2vNbmwPzS+HxWftyrsiVwUM1+Gw9slmr/hKQ/SXo+te1Xqn0LikBqT3Np+DVg/VXUX36M5cfSBKwHzCzVd0Oa3uqFiHi1ZvnNU53r8M59MyINT6YInT9LerS226orRMQbwKXA/0rdQocCv6yZrfaxtx67LYEflh7386neEViHeu2FQ3tb6ic+GOgvqfUPyiBgY0kfiIgHJV1G8cJaAlwfES+n+RZQdC19ZxWbyLfSTX2z5wN7AfdExFuSZvF2f/5iiq6jVluUhhdQnCkMjYjlnXhoPwUeAA6NiJclfZGiu6h1O3ndklSzrZXqbsczFH9AWi8mj0rTOmMBxZnCv9c2qPjPr99QnM1cExFvSrqat/fRAoqupbW10j6gqL/VUuB14H0Rsaid5TeRNKQUDKOAR9Kyb1Lsm8dKbYsAIqIZ+HcASeOB30u6IyLm1Kx/dW7B3Na80ymC4I/AaxFxT037FrR97Fqf079eje1b4jOFvuEA4C1gB4qzgLEU/al3UvxhguLM4RCKi38Xl5Y9HzgunUVI0hBJn5S0QTvbGkLxAm6B4oIqxZlCq8uAkyWNkLQxRTcLABGxGLgJOEvShpL6Sdpa0kfb2dYGwEvAK5K2B44vtf0WeJ+kz6i4iH0SMLyd9bTnEuA0FRfehwKnA7/q5LK/Aj4laR8VF9cHp4u3I4GBFKHcAiyX9Ang46VlLwCOkrRX2gcj0uNbXZcBR0raQdJ6wDdbGyJiBcWxPVtv/0PBCEn71KzjPyUNlLQ7sD9weUS8ldb9HUkbpDcCX06PGUkHpccJRRdPACvaqG8J0NnPLLxj3hQCK4CzeOdZAsBXJW0iaQvgZIozC4DzgP+Q9L5U70aSDupkHVZ1/5V/1v6HolvgrDamH0zRFdF6kXcOxan0wJr59gXuA5ZRvPu8HNggtc2j1Nebpn0nrWcpxYXKP/B2X/4AiguczwFPUVwAfhNQat+I4gxgIcXF1geAz7bzuD5CcW3kFYqA+xbwx5q6/5LWc25NHUeW521n/YOBH6XHvDgND05to1nFNYU0zy5pm89TBMBvgVGp7QSKP3TLKP6g/Rel/nXg08BDFBfL5wD7pOm3tz6GzjwO4NR0jJ8BjmblPv3BFF1ucynCdTZwUmrbIx2Db6Tj+DRweGm9m1CEQAvFO+/TgX6pbQrFWcMrFN1gk0rLlbc/huJ60zLg6g6OxYRUwzLglNL009I631Mzf1C8EZhL8Vw7C+hfaj8ceDg97gXAhVW/TnvLT+sL1axbpHfJ50XEllXXYm9T8e+zv4qIkR3MWilJR1CEzvia6UFxEbq2y8rWkruPrEtJWlfSfio+zzCCokvjqo6WM6uVusQ+T/GfTlYnDgXragL+k6Kv+QGKLovTK63IKidpVPpgWls/o9qYfx+KrqslrHwNzLqZu4/MzCzzmYKZmWW9+nMKQ4cOjdGjR1ddhplZrzJz5sylEdHUVluvDoXRo0czY8aMqsswM+tVJM1vr83dR2ZmljkUzMwscyiYmVnmUDAzs8yhYGZmmUPBzMwyh4KZmWUOBTMzy3r1h9f6ssmTJ9Pc3Mzw4cOZMmVK1eWYWYNwKPRQzc3NLFrU3rcompl1j4YJhQ999aKqS1gtGyx9mf7A00tf7lW1z/zeER3PZGY9VrddU5B0oaRnJT1SmrappJslPZl+b5KmS9KPJM2R9JCkD3ZXXWZm1r7uvNA8jeI7dMtOBW6JiDHALWkc4BMU3+c6BphE8R2+ZmZWZ90WChFxB8UXmpdNAKan4enAAaXpF0XhT8DGkjbrrtp6gxUDh/DWoA1ZMXBI1aWYWQOp9zWFYRGxOA03A8PS8AhgQWm+hWnaYmpImkRxNsGoUe/4Fr8+49UxH6+6BDNrQJV9TiGK7wFd7e8CjYipETEuIsY1NbX5HRFmZraG6h0KS1q7hdLvZ9P0RcAWpflGpmlmZlZH9Q6Fa4GJaXgicE1p+hHpv5B2BV4sdTOZmVmddNs1BUmXAHsAQyUtBL4JnAlcJukYYD5wcJr9v4H9gDnAa8BR3VWXmZm1r9tCISIObadprzbmDeCE7qrFzMw6xzfEMzOzzKFgZmaZQ8HMzDKHgpmZZQ4FMzPLHApmZpY5FMzMLHMomJlZ5lAwM7PMoWBmZlnDfEezmVlnTJ48mebmZoYPH86UKVOqLqfuHApmZiXNzc0sWtS4d+5395GZmWUOBTMzyxwKZmaW+ZqCmXWr3X68W9UlrJaBywbSj34sWLagV9V+14l3dcl6fKZgZmaZQ8HMzDKHgpmZZQ4FMzPLfKHZzKwk1gtWsIJYL6oupRIOBTOzkjd3e7PqEirl7iMzM8scCmZmljkUzMwscyiYmVnmUDAzs8yhYGZmmUPBzMwyh4KZmWUOBTMzyyoJBUlfkvSopEckXSJpsKStJN0raY6kSyUNrKI2M7NGVvdQkDQCOAkYFxE7Av2BzwLfBc6OiG2AF4Bj6l2bmVmjq6r7aACwrqQBwHrAYmBP4IrUPh04oJrSzMwaV91DISIWAd8HnqYIgxeBmcCyiFieZlsIjKh3bWZmja6K7qNNgAnAVsDmwBBg39VYfpKkGZJmtLS0dFOVZmaNqYruo72BpyKiJSLeBK4EdgM2Tt1JACOBRW0tHBFTI2JcRIxramqqT8VmZg2iilB4GthV0nqSBOwFPAbcBhyY5pkIXFNBbWZmDa2Kawr3UlxQvh94ONUwFfga8GVJc4B3ARfUuzYzs0ZXyTevRcQ3gW/WTJ4L7FxBOWZmlvgTzWZmljkUzMwscyiYmVnmUDAzs8yhYGZmmUPBzMwyh4KZmWUOBTMzyxwKZmaWVfKJZrO+bPLkyTQ3NzN8+HCmTJlSdTlmq8WhYNbFmpubWbSozZv8mvV47j4yM7PMoWBmZplDwczMMoeCmZllDgUzM8scCmZmljkUzMwscyiYmVnmUDAzs8yfaLZe4elv/UPVJXTa8uc3BQaw/Pn5varuUac/XHUJ1gP4TMHMzDKHgpmZZQ4FMzPLHApmZpY5FMzMLHMomJlZ5lAwM7PMn1Mw62JDB68AlqffZr2LQ8Gsi53y/mVVl2C2xtx9ZGZmmUPBzMyySkJB0saSrpD0uKTZkj4saVNJN0t6Mv3epIrazMwaWVVnCj8EboiI7YEPALOBU4FbImIMcEsaNzOzOqp7KEjaCPgIcAFARPw9IpYBE4DpabbpwAH1rs3MrNFVcaawFdAC/ELSA5J+LmkIMCwiFqd5moFhbS0saZKkGZJmtLS01KlkM7PGUEUoDAA+CPw0InYCXqWmqygiAoi2Fo6IqRExLiLGNTU1dXuxZmaNpIpQWAgsjIh70/gVFCGxRNJmAOn3sxXUZmbW0OoeChHRDCyQtF2atBfwGHAtMDFNmwhcU+/azMwaXVWfaD4R+LWkgcBc4CiKgLpM0jHAfODgimozM2tYlYRCRMwCxrXRtFedSzEzs5IOu48k9Zf0/XoUY2Zm1eowFCLiLWB8HWoxM7OKdbb76AFJ1wKXU/wLKQARcWW3VGVmZpXobCgMBp4D9ixNC8ChYGbWh3QqFCLiqO4uxMzMqrfKUJD0Y9r5ZDFARJzU5RWZmVllOrrQPAOYSdF99EHgyfQzFhjYrZWZmVndrfJMISKmA0g6HhgfEcvT+HnAnd1fnpmZ1VNnb3OxCbBhaXz9NM3MzPqQzv730ZkU/5Z6GyCK70M4o7uKMjOzanT2v49+IelG4HCKb0n7HfBMdxZmZmb116lQkPQ54GRgJDAL2BW4h5U/t2BmZr1cZ68pnAz8IzA/Ij4G7AQs666izMysGp0NhTci4g0ASYMi4nFguw6WMTOzXqazF5oXStoYuBq4WdILFN95YGZmfUhnLzR/Og2ekf4DaSPghm6ryszMKrHaX7ITEX/ojkLMzKx6df+OZjMz67kcCmZmljkUzMwscyiYmVnmUDAzs8yhYGZmmUPBzMwyh4KZmWUOBTMzyxwKZmaWORTMzCxzKJiZWeZQMDOzzKFgZmZZZaEgqb+kByRdn8a3knSvpDmSLpU0sKrazMwaVZVnCicDs0vj3wXOjohtgBeAYyqpysysgVUSCpJGAp8Efp7GBewJXJFmmQ4cUEVtZmaNrKozhXOAycCKNP4uYFlELE/jC4ERbS0oaZKkGZJmtLS0dHuhZmaNpO6hIGl/4NmImLkmy0fE1IgYFxHjmpqaurg6M7PGttrf0dwFdgP+RdJ+wGBgQ+CHwMaSBqSzhZHAogpqMzNraHU/U4iI/4iIkRExGvgscGtEHAbcBhyYZpsIXFPv2szMGl1P+pzC14AvS5pDcY3hgorrMTNrOFV0H2URcTtwexqeC+xcZT1mZo2uJ50pmJlZxRwKZmaWORTMzCxzKJiZWeZQMDOzzKFgZmaZQ8HMzDKHgpmZZQ4FMzPLHApmZpY5FMzMLHMomJlZ5lAwM7PMoWBmZplDwczMMoeCmZllDgUzM8scCmZmljkUzMwscyiYmVnmUDAzs8yhYGZmmUPBzMwyh4KZmWUOBTMzyxwKZmaWORTMzCxzKJiZWeZQMDOzzKFgZmaZQ8HMzLK6h4KkLSTdJukxSY9KOjlN31TSzZKeTL83qXdtZmaNroozheXAVyJiB2BX4ARJOwCnArdExBjgljRuZmZ1VPdQiIjFEXF/Gn4ZmA2MACYA09Ns04ED6l2bmVmjq/SagqTRwE7AvcCwiFicmpqBYVXVZWbWqCoLBUnrA78BvhgRL5XbIiKAaGe5SZJmSJrR0tJSh0rNzBpHJaEgaR2KQPh1RFyZJi+RtFlq3wx4tq1lI2JqRIyLiHFNTU31KdjMrEFU8d9HAi4AZkfED0pN1wIT0/BE4Jp612Zm1ugGVLDN3YDDgYclzUrTvg6cCVwm6RhgPnBwBbWZmTW0uodCRPwRUDvNe9WzFjMzW5k/0WxmZplDwczMMoeCmZllDgUzM8scCmZmljkUzMwscyiYmVnmUDAzs8yhYGZmmUPBzMwyh4KZmWUOBTMzyxwKZmaWORTMzCxzKJiZWeZQMDOzzKFgZmaZQ8HMzDKHgpmZZQ4FMzPLHApmZpY5FMzMLHMomJlZ5lAwM7PMoWBmZplDwczMMoeCmZllDgUzM8scCmZmljkUzMwscyiYmVnmUDAzs6xHhYKkfSU9IWmOpFOrrsfMrNH0mFCQ1B/4/8AngB2AQyXtUG1VZmaNpceEArAzMCci5kbE34H/AiZUXJOZWUNRRFRdAwCSDgT2jYjPpfHDgV0i4gs1800CJqXR7YAn6lpofQ0FllZdhK0RH7vera8fvy0joqmthgH1rmRtRcRUYGrVddSDpBkRMa7qOmz1+dj1bo18/HpS99EiYIvS+Mg0zczM6qQnhcJ9wBhJW0kaCHwWuLbimszMGkqP6T6KiOWSvgDcCPQHLoyIRysuq2oN0U3WR/nY9W4Ne/x6zIVmMzOrXk/qPjIzs4o5FMzMLHMorAFJIems0vgpks5YjeWPlNQi6QFJT0q6UdI/dUuxbW//7vR7tKR/q9d2qybpLUmzJD0i6TpJG3cwf5Oke9Nx2r0Ltj8tfR5nVfPcLukd/wqZnjPnrm0NvdXavuY6WHePf17Uk0NhzfwN+IykoWuxjksjYqeIGAOcCVwp6b1dU96qRURrAI0GGiYUgNcjYmxE7Ag8D5zQwfx7AQ+n43Rn95dnq9AVr7n2+HlR4lBYM8sp/jvhS7UN6d33rZIeknSLpFEdrSwibkvrm5TWsbWkGyTNlHSnpO3T9GmSzpM0Q9JfJO2fpg+W9AtJD6d3Lx9L098n6c/pXdBDksak6a+kTZ8J7J7a3/FY+rh7gBHQ9v6WNBaYAkxI+2fd0n5D0oGSpqXhaZJ+JOluSXNb3/WpcG66yePvgXeXlj9d0n3p3elUSSrVdnjpnevOtYWnd6q/ScvfJ2m3btg/Pc1qv+baOy4dqPR50SNEhH9W8wd4BdgQmAdsBJwCnJHargMmpuGjgavbWP5I4NyaaQcAv0vDtwBj0vAuwK1peBpwA0WYjwEWAoOBr1D8Cy/A9sDTafqPgcPS9IHAuq31p997ANdXvT/redzS7/7A5RS3VVnV/l7pOLUun4YPBKaVjsvl6bjsQHEPL4DPADen7W0OLAMOTG2bltb1S+BTafh24Pw0/BHgkdpagIuB8Wl4FDC76n1bj2O3uq+59o5LT35e9ISfHvM5hd4mIl6SdBFwEvB6qenDFAcdihf7lE6uUgCS1gf+Cbi89OZxUGm+yyJiBfCkpLkUITCeIgCIiMclzQe2pXjX8w1JI4ErI+LJ1XuUfc66kmZRvBOcDdzcif3dWVen4/KYpGFp2keASyLiLeAZSbeW5v+YpMnAesCmwKMUf9wALgGIiDskbdhGH/fewA6lejeUtH5EvEIftoavubaOS62e9LyonENh7ZwD3A/8ogvWtRPFE7IfsCwixrYzX+0HS9r9oElEXCzpXuCTwH9LOjYietQTsM5ej4ixktaj+JDkCRTv5la1v8vK+3pwTdvfSsNiFSQNBn4CjIuIBSoumJbX19Ex7gfsGhFvdFhx33MOq/ea68xx6RHPi57C1xTWQkQ8D1wGHFOafDfFLToADgM6vBAl6aMU1xPOj4iXgKckHZTaJOkDpdkPktRP0tbAeyjuEntn2haStqXoUnhC0nuAuRHxI+Aa4P01m34Z2GA1HnKfEBGvUbzb/ArwGqve32VLJL1XUj/g053Y1B3AIZL6S9oM+Fia3vqHY2l6R1rb131IqmU88GJEvFjTfhNwYutI6uduCF31mmtn3VU/L3oEh8LaO4viNrutTgSOkvQQcDhwcjvLHZIuVP0F+DrwrxExO7UdBhwj6UGKboXy90o8DfwZ+B1wXHq3+BOgn6SHgUuBIyPib8DBwCPp1HhH4KKaGh4C3pL0oBrsQnNEPEDx+A9l1fu77FTgeoo/Qos7sZmrgCeBxyj2/T1p28uA84FHKN6Z3lez3BuSHgDOY+U/fq1OAsalC6uPAcd1opa+ZE1fcx2q8nnRU/g2F71I+q+G6yPiiqprMbO+yWcKZmaW+UzBzMwynymYmVnmUDAzs8yhYGZmmUPBzMwyh4I1DElnSDqlDtvp9K3JJY2VtF9312TWWQ4Fsy4Wq3dr8rGAQ8F6DIeC9WmSvqHiNuN/BLZL03rErcklDQS+xdufbj9ExZcuNaX2fpLmqLhVdnu19Zf0PRW30H5I0rHdukOtz/MN8azPkvQhinvijKV4rt8PzKS4L/9xEfGkpF0obhOyZ1psNLAzsDVwm6RtKG6QFhHxDylAbkr3mDoO+GFE/Dr9ge9fU8KpwCkRsX9b9UXE3yWdTnFjvC+kmrenuL3CORR3Q30wIlrSnTrbqu0Iivsj/aOkQcBdkm6KiKfWdL9ZY3MoWF+2O3BVutEZkq6luBldT741+YUUNy88h+K7Acp3A22rto8D79fbXyCzEcV3bTgUbI04FKzR9Ohbk6dbaS+RtCfFWcFhHdQm4MSIuHFttmvWytcUrC+7AzhAxVcmbgB8io5viVzvW5O3Nc/PgV8Bl6cvYllVbTcCx0tap7U+SUM62KZZuxwK1mdFxP0UtxJ/kOJW4623qO5Jtya/jeJb1GZJOiRNuxZYn3d+kUxbtf2c4hbM90t6BPgZ7gGwteAb4pklPeXW5JLGAWdHxO6ladPoAbVZ3+d3FGY9iKRTgeNZ+VqCWd34TMGsDiTtA3y3ZvJTEdGZr280qxuHgpmZZb7QbGZmmUPBzMwyh4KZmWUOBTMzy/4HTk0J0qshwfYAAAAASUVORK5CYII=",
>>>>>>> 7b9ecbc... 221113_jeongwooseok
      "text/plain": [
       "<Figure size 432x288 with 1 Axes>"
      ]
     },
     "metadata": {
      "needs_background": "light"
     },
     "output_type": "display_data"
    }
   ],
   "source": [
    "import seaborn as sns\n",
    "import matplotlib.pyplot as plt\n",
    "\n",
    "sns.barplot(x='deposit_type', y='adr', data=df)\n",
    "plt.title('Average adr of each deposit_type')"
   ]
  },
  {
   "cell_type": "code",
   "execution_count": 16,
   "id": "09717aeb",
   "metadata": {},
   "outputs": [],
   "source": [
    "func = lambda g: g.fillna(g.mean())"
   ]
  },
  {
   "cell_type": "code",
   "execution_count": 19,
   "id": "815b7fb6",
   "metadata": {},
   "outputs": [],
   "source": [
    "df['adr'] = df.groupby('deposit_type')['adr'].apply(func)"
   ]
  },
  {
   "cell_type": "code",
   "execution_count": 20,
   "id": "b79cea7e",
   "metadata": {},
   "outputs": [
    {
     "data": {
      "text/plain": [
       "is_canceled                       0\n",
       "deposit_type                      0\n",
       "lead_time                         0\n",
       "stays_in_weekend_nights           0\n",
       "stays_in_week_nights              0\n",
       "is_repeated_guest                 0\n",
       "previous_cancellations            0\n",
       "previous_bookings_not_canceled    0\n",
       "booking_changes                   0\n",
       "days_in_waiting_list              0\n",
       "adr                               0\n",
       "dtype: int64"
      ]
     },
     "execution_count": 20,
     "metadata": {},
     "output_type": "execute_result"
    }
   ],
   "source": [
    "df.isna().sum()"
   ]
  },
  {
   "cell_type": "markdown",
   "id": "f1fbc4c4",
   "metadata": {},
   "source": [
    "    \n",
    "    "
   ]
  },
  {
   "cell_type": "markdown",
   "id": "4d7ea39a",
   "metadata": {},
   "source": [
    "### 데이터 질을 향상시킬 수 있는 방법을 제안하시오."
   ]
  },
  {
   "cell_type": "markdown",
   "id": "035de20c",
   "metadata": {},
   "source": [
    "- 수치형 변수의 분포를 살펴 본다."
   ]
  },
  {
   "cell_type": "code",
   "execution_count": 20,
   "id": "e9055546",
   "metadata": {
    "scrolled": false
   },
   "outputs": [
    {
     "name": "stdout",
     "output_type": "stream",
     "text": [
      "------------------------------------------------------------\n",
      "lead_time\n"
     ]
    },
    {
     "data": {
      "image/png": "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",
      "text/plain": [
       "<Figure size 432x288 with 1 Axes>"
      ]
     },
     "metadata": {
      "needs_background": "light"
     },
     "output_type": "display_data"
    },
    {
     "name": "stdout",
     "output_type": "stream",
     "text": [
      "------------------------------------------------------------\n",
      "stays_in_weekend_nights\n"
     ]
    },
    {
     "data": {
      "image/png": "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",
      "text/plain": [
       "<Figure size 432x288 with 1 Axes>"
      ]
     },
     "metadata": {
      "needs_background": "light"
     },
     "output_type": "display_data"
    },
    {
     "name": "stdout",
     "output_type": "stream",
     "text": [
      "------------------------------------------------------------\n",
      "stays_in_week_nights\n"
     ]
    },
    {
     "data": {
      "image/png": "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",
      "text/plain": [
       "<Figure size 432x288 with 1 Axes>"
      ]
     },
     "metadata": {
      "needs_background": "light"
     },
     "output_type": "display_data"
    },
    {
     "name": "stdout",
     "output_type": "stream",
     "text": [
      "------------------------------------------------------------\n",
      "previous_cancellations\n"
     ]
    },
    {
     "data": {
      "image/png": "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",
      "text/plain": [
       "<Figure size 432x288 with 1 Axes>"
      ]
     },
     "metadata": {
      "needs_background": "light"
     },
     "output_type": "display_data"
    },
    {
     "name": "stdout",
     "output_type": "stream",
     "text": [
      "------------------------------------------------------------\n",
      "previous_bookings_not_canceled\n"
     ]
    },
    {
     "data": {
      "image/png": "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",
      "text/plain": [
       "<Figure size 432x288 with 1 Axes>"
      ]
     },
     "metadata": {
      "needs_background": "light"
     },
     "output_type": "display_data"
    },
    {
     "name": "stdout",
     "output_type": "stream",
     "text": [
      "------------------------------------------------------------\n",
      "booking_changes\n"
     ]
    },
    {
     "data": {
      "image/png": "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",
      "text/plain": [
       "<Figure size 432x288 with 1 Axes>"
      ]
     },
     "metadata": {
      "needs_background": "light"
     },
     "output_type": "display_data"
    },
    {
     "name": "stdout",
     "output_type": "stream",
     "text": [
      "------------------------------------------------------------\n",
      "days_in_waiting_list\n"
     ]
    },
    {
     "data": {
      "image/png": "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",
      "text/plain": [
       "<Figure size 432x288 with 1 Axes>"
      ]
     },
     "metadata": {
      "needs_background": "light"
     },
     "output_type": "display_data"
    },
    {
     "name": "stdout",
     "output_type": "stream",
     "text": [
      "------------------------------------------------------------\n",
      "adr\n"
     ]
    },
    {
     "data": {
      "image/png": "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",
      "text/plain": [
       "<Figure size 432x288 with 1 Axes>"
      ]
     },
     "metadata": {
      "needs_background": "light"
     },
     "output_type": "display_data"
    }
   ],
   "source": [
    "for c in ['lead_time', 'stays_in_weekend_nights', 'stays_in_week_nights','previous_cancellations','previous_bookings_not_canceled', 'booking_changes', 'days_in_waiting_list', 'adr']:\n",
    "    print('--'*30)\n",
    "    print(c)\n",
    "    sns.boxplot(x=c, data=df)\n",
    "    plt.show()"
   ]
  },
  {
   "cell_type": "markdown",
   "id": "71db69f4",
   "metadata": {},
   "source": [
    "- 제안 : IQR 방식으로 이상치를 보정해 준다. boxplot으로 표시되는 이상치 들을 제거 해 준다."
   ]
  },
  {
   "cell_type": "markdown",
   "id": "67128343",
   "metadata": {},
   "source": [
    "### 데이터 불균형을 시각화아여 식별하고 불균형 판단근거를 작성하시오."
   ]
  },
  {
   "cell_type": "markdown",
   "id": "e567bd12",
   "metadata": {},
   "source": [
    "- 범주형 변수들의 범주의 수 비교"
   ]
  },
  {
   "cell_type": "code",
   "execution_count": 21,
   "id": "b3ad91de",
   "metadata": {
    "scrolled": false
   },
   "outputs": [
    {
     "name": "stdout",
     "output_type": "stream",
     "text": [
      "------------------------------------------------------------\n",
      "is_canceled 의 범주 비율 (%)\n",
      "0    88.0\n",
      "1    12.0\n",
      "Name: is_canceled, dtype: float64\n"
     ]
    },
    {
     "data": {
      "image/png": "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",
      "text/plain": [
       "<Figure size 432x288 with 1 Axes>"
      ]
     },
     "metadata": {
      "needs_background": "light"
     },
     "output_type": "display_data"
    },
    {
     "name": "stdout",
     "output_type": "stream",
     "text": [
      "------------------------------------------------------------\n",
      "deposit_type 의 범주 비율 (%)\n",
      "No Deposit    95.69\n",
      "Non Refund     4.17\n",
      "Refundable     0.14\n",
      "Name: deposit_type, dtype: float64\n"
     ]
    },
    {
     "data": {
      "image/png": "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",
      "text/plain": [
       "<Figure size 432x288 with 1 Axes>"
      ]
     },
     "metadata": {
      "needs_background": "light"
     },
     "output_type": "display_data"
    },
    {
     "name": "stdout",
     "output_type": "stream",
     "text": [
      "------------------------------------------------------------\n",
      "is_repeated_guest 의 범주 비율 (%)\n",
      "0.0    96.25\n",
      "1.0     3.75\n",
      "Name: is_repeated_guest, dtype: float64\n"
     ]
    },
    {
     "data": {
      "image/png": "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",
      "text/plain": [
       "<Figure size 432x288 with 1 Axes>"
      ]
     },
     "metadata": {
      "needs_background": "light"
     },
     "output_type": "display_data"
    }
   ],
   "source": [
    "for c in ['is_canceled','deposit_type','is_repeated_guest']:\n",
    "    print('--'*30)\n",
    "    print(c,'의 범주 비율 (%)')\n",
    "    sns.countplot(x=c, data=df)\n",
    "    print(round(df[c].value_counts(normalize=True)*100,2))\n",
    "    plt.show()"
   ]
  },
  {
   "cell_type": "markdown",
   "id": "423e9603",
   "metadata": {},
   "source": [
    "- 종속변수 is_canceled는, 0의 비율이 88.0%로, 1의 대비 불균형 하다. 따라서 불균형 하다.\n",
    "- 독립변수 deposit_type과 is_repeated_guest도 하나의 범주의 비율이 90%가 넘어 불균형한 데이터 이다."
   ]
  },
  {
   "cell_type": "markdown",
   "id": "d7244bf7",
   "metadata": {},
   "source": [
    "### 오버 샘플링 기법을 설명하고 비교한 뒤 2개 기법을 선정하고 근거를 제시하시오."
   ]
  },
  {
   "cell_type": "markdown",
   "id": "8f696670",
   "metadata": {},
   "source": [
    "- 오버 샘플링 기법이란, 비중이 적은 데이터를 늘려 그렇지 않은 데이터와 비율을 맞추는 방법이다.\n",
    "- Random Oversampling\n",
    "    - 소수의 클래스에 속하는 데이터의 관측치를 복사하는 방식으로 데이터 증식\n",
    "    - 데이터를 단순 복사하는 방식으로 기존 데이터와 동일한 복제 데이터 생성\n",
    "    - 소수 클래스의 과적합이 발생할 가능성이 높다는 단점, 사용법이 간단하다는 장점이 있다.\n",
    "- SMOTE\n",
    "    - 적은 데이터세트에 있는 개별 데이터들의 k-최근접 이웃을 찾아, \n",
    "    - 해당 데이터와 k개 이웃들의 차이를 일정한 값으로 만들어\n",
    "    - 기존 데이터와 약간 차이를 지닌 새로운 데이터를 생성\n",
    "    - Random Oversampling 방식보다 처리 속도가 느리지만, 과적합 문제가 적다."
   ]
  },
  {
   "cell_type": "markdown",
   "id": "0b1e5152",
   "metadata": {},
   "source": [
    "### 기법을 선정한 이유를 작성하고, 원 데이터를 포함해 3개의 데이터 세트를 구성하시오."
   ]
  },
  {
   "cell_type": "markdown",
   "id": "8509a67e",
   "metadata": {},
   "source": [
    "- 오버 샘플링 기법으로, Random Oversampling과 SMOTE 를 선택 하였다.\n",
    "- 전자는 간단하고 빠르게 구현이 가능하면, 후자는 속도는 느리지만 과적합을 방지하는 효과가 있기 때문이다."
   ]
  },
  {
   "cell_type": "code",
   "execution_count": 22,
   "id": "1df44283",
   "metadata": {},
   "outputs": [
    {
     "data": {
      "text/html": [
       "<div>\n",
       "<style scoped>\n",
       "    .dataframe tbody tr th:only-of-type {\n",
       "        vertical-align: middle;\n",
       "    }\n",
       "\n",
       "    .dataframe tbody tr th {\n",
       "        vertical-align: top;\n",
       "    }\n",
       "\n",
       "    .dataframe thead th {\n",
       "        text-align: right;\n",
       "    }\n",
       "</style>\n",
       "<table border=\"1\" class=\"dataframe\">\n",
       "  <thead>\n",
       "    <tr style=\"text-align: right;\">\n",
       "      <th></th>\n",
       "      <th>is_canceled</th>\n",
       "      <th>lead_time</th>\n",
       "      <th>stays_in_weekend_nights</th>\n",
       "      <th>stays_in_week_nights</th>\n",
       "      <th>is_repeated_guest</th>\n",
       "      <th>previous_cancellations</th>\n",
       "      <th>previous_bookings_not_canceled</th>\n",
       "      <th>booking_changes</th>\n",
       "      <th>days_in_waiting_list</th>\n",
       "      <th>adr</th>\n",
       "      <th>deposit_type_No Deposit</th>\n",
       "      <th>deposit_type_Non Refund</th>\n",
       "      <th>deposit_type_Refundable</th>\n",
       "    </tr>\n",
       "  </thead>\n",
       "  <tbody>\n",
       "    <tr>\n",
       "      <th>0</th>\n",
       "      <td>0</td>\n",
       "      <td>105.0</td>\n",
       "      <td>2</td>\n",
       "      <td>5</td>\n",
       "      <td>0.0</td>\n",
       "      <td>0</td>\n",
       "      <td>0</td>\n",
       "      <td>1</td>\n",
       "      <td>0</td>\n",
       "      <td>131.500000</td>\n",
       "      <td>1</td>\n",
       "      <td>0</td>\n",
       "      <td>0</td>\n",
       "    </tr>\n",
       "    <tr>\n",
       "      <th>1</th>\n",
       "      <td>0</td>\n",
       "      <td>303.0</td>\n",
       "      <td>2</td>\n",
       "      <td>2</td>\n",
       "      <td>0.0</td>\n",
       "      <td>0</td>\n",
       "      <td>0</td>\n",
       "      <td>0</td>\n",
       "      <td>0</td>\n",
       "      <td>73.950000</td>\n",
       "      <td>1</td>\n",
       "      <td>0</td>\n",
       "      <td>0</td>\n",
       "    </tr>\n",
       "    <tr>\n",
       "      <th>2</th>\n",
       "      <td>0</td>\n",
       "      <td>33.0</td>\n",
       "      <td>2</td>\n",
       "      <td>3</td>\n",
       "      <td>0.0</td>\n",
       "      <td>0</td>\n",
       "      <td>0</td>\n",
       "      <td>0</td>\n",
       "      <td>0</td>\n",
       "      <td>101.965827</td>\n",
       "      <td>1</td>\n",
       "      <td>0</td>\n",
       "      <td>0</td>\n",
       "    </tr>\n",
       "    <tr>\n",
       "      <th>3</th>\n",
       "      <td>0</td>\n",
       "      <td>48.0</td>\n",
       "      <td>0</td>\n",
       "      <td>1</td>\n",
       "      <td>0.0</td>\n",
       "      <td>0</td>\n",
       "      <td>0</td>\n",
       "      <td>1</td>\n",
       "      <td>0</td>\n",
       "      <td>80.300000</td>\n",
       "      <td>1</td>\n",
       "      <td>0</td>\n",
       "      <td>0</td>\n",
       "    </tr>\n",
       "    <tr>\n",
       "      <th>4</th>\n",
       "      <td>0</td>\n",
       "      <td>216.0</td>\n",
       "      <td>4</td>\n",
       "      <td>7</td>\n",
       "      <td>0.0</td>\n",
       "      <td>0</td>\n",
       "      <td>0</td>\n",
       "      <td>2</td>\n",
       "      <td>0</td>\n",
       "      <td>60.900000</td>\n",
       "      <td>1</td>\n",
       "      <td>0</td>\n",
       "      <td>0</td>\n",
       "    </tr>\n",
       "  </tbody>\n",
       "</table>\n",
       "</div>"
      ],
      "text/plain": [
       "   is_canceled  lead_time  stays_in_weekend_nights  stays_in_week_nights  \\\n",
       "0            0      105.0                        2                     5   \n",
       "1            0      303.0                        2                     2   \n",
       "2            0       33.0                        2                     3   \n",
       "3            0       48.0                        0                     1   \n",
       "4            0      216.0                        4                     7   \n",
       "\n",
       "   is_repeated_guest  previous_cancellations  previous_bookings_not_canceled  \\\n",
       "0                0.0                       0                               0   \n",
       "1                0.0                       0                               0   \n",
       "2                0.0                       0                               0   \n",
       "3                0.0                       0                               0   \n",
       "4                0.0                       0                               0   \n",
       "\n",
       "   booking_changes  days_in_waiting_list         adr  deposit_type_No Deposit  \\\n",
       "0                1                     0  131.500000                        1   \n",
       "1                0                     0   73.950000                        1   \n",
       "2                0                     0  101.965827                        1   \n",
       "3                1                     0   80.300000                        1   \n",
       "4                2                     0   60.900000                        1   \n",
       "\n",
       "   deposit_type_Non Refund  deposit_type_Refundable  \n",
       "0                        0                        0  \n",
       "1                        0                        0  \n",
       "2                        0                        0  \n",
       "3                        0                        0  \n",
       "4                        0                        0  "
      ]
     },
     "execution_count": 22,
     "metadata": {},
     "output_type": "execute_result"
    }
   ],
   "source": [
    "# 데이터를 one_hot encoding \n",
    "df_ohe = pd.get_dummies(df)\n",
    "df_ohe.head()"
   ]
  },
  {
   "cell_type": "code",
   "execution_count": 23,
   "id": "37136ef0",
   "metadata": {},
   "outputs": [],
   "source": [
    "from imblearn.over_sampling import RandomOverSampler, SMOTE\n",
    "import time\n",
    "\n",
    "X = df_ohe.drop('is_canceled', axis=1)\n",
    "y = df_ohe['is_canceled']"
   ]
  },
  {
   "cell_type": "markdown",
   "id": "ffc24303",
   "metadata": {},
   "source": [
    "- Random Oversampling  수행 및 수행 시간"
   ]
  },
  {
   "cell_type": "code",
   "execution_count": 24,
   "id": "600fe59e",
   "metadata": {},
   "outputs": [
    {
     "name": "stdout",
     "output_type": "stream",
     "text": [
      "time : 0.08822226524353027\n"
     ]
    }
   ],
   "source": [
    "start = time.time()\n",
    "ros = RandomOverSampler(random_state=100)\n",
    "X_ros, y_ros = ros.fit_resample(X, y)\n",
    "delta_ros_1 = time.time() - start\n",
    "print(f'time : {delta_ros_1}')"
   ]
  },
  {
   "cell_type": "markdown",
   "id": "7ced9f8d",
   "metadata": {},
   "source": [
    "- SMOTE 수행 및 수행 시간"
   ]
  },
  {
   "cell_type": "code",
   "execution_count": 25,
   "id": "a43e0491",
   "metadata": {},
   "outputs": [
    {
     "name": "stdout",
     "output_type": "stream",
     "text": [
      "time : 0.1351604461669922\n"
     ]
    }
   ],
   "source": [
    "start = time.time()\n",
    "sm = SMOTE(random_state=100)\n",
    "X_sm, y_sm = sm.fit_resample(X, y)\n",
    "delta_sm_1 = time.time() - start\n",
    "print(f'time : {delta_sm_1}')"
   ]
  },
  {
   "cell_type": "markdown",
   "id": "3c7f349c",
   "metadata": {},
   "source": [
    "### 오버 샘플링 데이터와 원데이터를 사용해 정확도 측면 모델 하나와 속도 측면의 모델 하나를 선정하고 그 이유를 설명하시오."
   ]
  },
  {
   "cell_type": "code",
   "execution_count": 26,
   "id": "3bf4bf6d",
   "metadata": {},
   "outputs": [],
   "source": [
    "from sklearn.model_selection import train_test_split\n",
    "from sklearn.ensemble import RandomForestClassifier\n",
    "from sklearn.metrics import classification_report"
   ]
  },
  {
   "cell_type": "markdown",
   "id": "9ac6a3dc",
   "metadata": {},
   "source": [
    "- 원본 데이터"
   ]
  },
  {
   "cell_type": "code",
   "execution_count": 27,
   "id": "7fa2fdd9",
   "metadata": {},
   "outputs": [
    {
     "name": "stdout",
     "output_type": "stream",
     "text": [
      "train 정확도 : 0.9334833708427107\n",
      "              precision    recall  f1-score   support\n",
      "\n",
      "           0       0.93      1.00      0.96      3519\n",
      "           1       0.98      0.44      0.61       480\n",
      "\n",
      "    accuracy                           0.93      3999\n",
      "   macro avg       0.95      0.72      0.78      3999\n",
      "weighted avg       0.93      0.93      0.92      3999\n",
      "\n",
      "time : 1.2061083316802979\n"
     ]
    }
   ],
   "source": [
    "start= time.time()\n",
    "X_train, X_test, y_train, y_test = train_test_split(X, y, test_size=.2, random_state=100, stratify=y)\n",
    "clf = RandomForestClassifier(n_estimators=100, min_samples_split=10)\n",
    "clf.fit(X_train, y_train)\n",
    "pred = clf.predict(X_test)\n",
    "print(f'train 정확도 : {clf.score(X_train, y_train)}')\n",
    "print(classification_report(y_test, pred))\n",
    "delta = time.time() - start\n",
    "print(f'time : {delta}')"
   ]
  },
  {
   "cell_type": "markdown",
   "id": "a4dd8875",
   "metadata": {},
   "source": [
    "- Random Oversampling 데이터"
   ]
  },
  {
   "cell_type": "code",
   "execution_count": 28,
   "id": "64238e09",
   "metadata": {},
   "outputs": [
    {
     "name": "stdout",
     "output_type": "stream",
     "text": [
      "train 정확도 : 0.9926825802784882\n",
      "              precision    recall  f1-score   support\n",
      "\n",
      "           0       1.00      0.94      0.97      3519\n",
      "           1       0.94      1.00      0.97      3519\n",
      "\n",
      "    accuracy                           0.97      7038\n",
      "   macro avg       0.97      0.97      0.97      7038\n",
      "weighted avg       0.97      0.97      0.97      7038\n",
      "\n",
      "time : 1.933419942855835\n"
     ]
    }
   ],
   "source": [
    "start= time.time()\n",
    "X_train, X_test, y_train, y_test = train_test_split(X_ros, y_ros, test_size=.2, random_state=100, stratify=y_ros)\n",
    "clf = RandomForestClassifier(n_estimators=100)\n",
    "clf.fit(X_train, y_train)\n",
    "pred = clf.predict(X_test)\n",
    "print(f'train 정확도 : {clf.score(X_train, y_train)}')\n",
    "print(classification_report(y_test, pred))\n",
    "delta_ros_2 = time.time() - start\n",
    "print(f'time : {delta_ros_2}')"
   ]
  },
  {
   "cell_type": "markdown",
   "id": "dac40ff5",
   "metadata": {},
   "source": [
    "- SMOTE 데이터"
   ]
  },
  {
   "cell_type": "code",
   "execution_count": 29,
   "id": "81fde52c",
   "metadata": {},
   "outputs": [
    {
     "name": "stdout",
     "output_type": "stream",
     "text": [
      "train 정확도 : 0.9960926399545326\n",
      "              precision    recall  f1-score   support\n",
      "\n",
      "           0       0.89      0.91      0.90      3519\n",
      "           1       0.91      0.89      0.90      3519\n",
      "\n",
      "    accuracy                           0.90      7038\n",
      "   macro avg       0.90      0.90      0.90      7038\n",
      "weighted avg       0.90      0.90      0.90      7038\n",
      "\n",
      "time : 10.966891527175903\n"
     ]
    }
   ],
   "source": [
    "start= time.time()\n",
    "X_train, X_test, y_train, y_test = train_test_split(X_sm, y_sm, test_size=.2, random_state=1, stratify=y_sm)\n",
    "clf = RandomForestClassifier(n_estimators=500)\n",
    "clf.fit(X_train, y_train)\n",
    "pred = clf.predict(X_test)\n",
    "print(f'train 정확도 : {clf.score(X_train, y_train)}')\n",
    "print(classification_report(y_test, pred))\n",
    "delta_sm_2 = time.time() - start\n",
    "print(f'time : {delta_sm_2}')"
   ]
  },
  {
   "cell_type": "code",
   "execution_count": 30,
   "id": "b36c2794",
   "metadata": {},
   "outputs": [
    {
     "name": "stdout",
     "output_type": "stream",
     "text": [
      "원본 데이터 모델링 수행 시간 :  1.2061083316802979\n",
      "Random Oversampling 데이터 모델링 수행 시간 :  2.0216422080993652\n",
      "SMOTE 데이터 모델링 수행 시간 :  11.102051973342896\n"
     ]
    }
   ],
   "source": [
    "print('원본 데이터 모델링 수행 시간 : ', delta)\n",
    "print('Random Oversampling 데이터 모델링 수행 시간 : ', delta_ros_1 + delta_ros_2)\n",
    "print('SMOTE 데이터 모델링 수행 시간 : ', delta_sm_1 + delta_sm_2)"
   ]
  },
  {
   "cell_type": "markdown",
   "id": "53d24977",
   "metadata": {},
   "source": [
    "- 원본 데이터를 사용한 모델의 학습 정확도는, 93.2%\n",
    "- Random Oversampling 을 사용한 학습 정확도는 99.2%\n",
    "- SMOTE 을 사용한 학습 정확도는 99.6%\n",
    "- 정확도 측면에서, SMOTE의 데이터를 사용한 경우가 train 정확도는 가장 높았고\n",
    "- 수행 시간에서는, 원본 데이터 모델링 수행 시간이 높았지만, 이는 데이터의 수가 적었기 때문이고, 데이터의 수를 고려하면 Random Oversampling 데이터를 사용한 모델이 우수하다."
   ]
  },
  {
   "cell_type": "markdown",
   "id": "ab300649",
   "metadata": {},
   "source": [
    "### 원데이터와 오버 샘플링 데이터를 가지고 각각 분류한 결과를 바탕으로, 오버 샘플링이 성능에 미친 영향에 대해 작성하시오."
   ]
  },
  {
   "cell_type": "markdown",
   "id": "1b83dbb9",
   "metadata": {},
   "source": [
    "- Train, test 데이터 모두 정확도는 원본 보다 oversampling을 수행한 경우가 더 높았다.\n",
    "- 이는 Oversampling을 한 것이 수행 방법과 상관없이 정확도에 긍정적인 효과가 있었음을 의미한다.\n",
    "- 좀 더 구체적으로는, 데이터의 불균형으로 인한 과적합을 방지하고, 예측 모델의 일반화 성능을 향상 시켰다.\n",
    "- 불균형으로 인한 과적합 문제는, 원본 test 데이터의 1의 f1-score 가 0.61 임을 보면 알 수 있다.\n",
    "- Train 데이터를 사용한 정확도 평가에서는, SMOTE를 사용한 경우가 가장 높았지만\n",
    "- Test 데이터를 사용한 macro avg f1 score 평가에서는 \n",
    "    - 원본 데이터를 사용한 모델의 macro avg는, 79%\n",
    "    - Random Oversampling 을 사용한 macro avg는 97%\n",
    "    - SMOTE 을 사용한 macro avg는 90%\n",
    "- 로, 전처리를 통한 오버 샘플링을 통해, 데이터 분균형으로 인한 과적합 문제를 해결 하고 있음을 알 수 있다."
   ]
  },
  {
   "cell_type": "markdown",
   "id": "3a81f5ba",
   "metadata": {},
   "source": [
    "## 통계분석\n",
    "- 데이터 : 각 문항 참고"
   ]
  },
  {
   "cell_type": "markdown",
   "id": "9ff8394f",
   "metadata": {},
   "source": [
    "### 공장에서는 시제품의 농도(%)가 60이라고 주장하며 품질관리팀에서는 10개의 샘플을 뽑았다. 유의수준 5%에서 다음을 검정하시오.\n",
    "- 데이터 : (시제품 샘플 농도) 52, 50, 62, 75, 26, 45, 62, 35, 57, 14"
   ]
  },
  {
   "cell_type": "markdown",
   "id": "5f894b7e",
   "metadata": {},
   "source": [
    "#### 연구가설, 귀무가설을 작성하시오."
   ]
  },
  {
   "cell_type": "markdown",
   "id": "7ed2e284",
   "metadata": {},
   "source": [
    "- 중심극한정리를 적용하기에는 표본의 크기가 작으므로, 비모수 분석의 부호검정을 실시한다.\n",
    "- 가설\n",
    "    - 귀무가설 : 시제품의 농도(%)가 60이다.\n",
    "    - 대립가설 : 시제품의 농도(%)가 60이 아니다."
   ]
  },
  {
   "cell_type": "markdown",
   "id": "444b2474",
   "metadata": {},
   "source": [
    "#### 유효한 샘플의 수를 계산하시오."
   ]
  },
  {
   "cell_type": "markdown",
   "id": "9932c216",
   "metadata": {},
   "source": [
    "- 유효한 샘플의 수는 최소 표본크기를 계산하여 설정할 수 있다.\n",
    "- 최소 표본의 크기 계산은 허용오차를 바탕으로 한다.\n",
    "- 허용할 수 있는 오차한계와 신뢰수준이 주어졌을 때, 샘플로 부터 추정한 표준편차를 사용해 표본의 크기를 구할 수 있다.\n",
    "- 오차 한계를 5, 신뢰수준을 0.05로 설정한 뒤 샘플의 표준편차를 구한다.\n",
    "- [표본크기 계산법](https://ko.surveymonkey.com/mp/sample-size-calculator/)"
   ]
  },
  {
   "cell_type": "code",
   "execution_count": 21,
   "id": "c45e26a6",
   "metadata": {},
   "outputs": [
    {
     "data": {
      "text/plain": [
       "17.434448657758008"
      ]
     },
     "execution_count": 21,
     "metadata": {},
     "output_type": "execute_result"
    }
   ],
   "source": [
    "x = [52, 50, 62, 75, 26, 45, 62, 35, 57, 14]\n",
    "\n",
    "import numpy as np\n",
    "\n",
    "moe= 5\n",
    "a = 0.05\n",
    "std = np.std(x)\n",
    "std"
   ]
  },
  {
   "cell_type": "markdown",
   "id": "b907b132",
   "metadata": {},
   "source": [
    "- 허용오차식에 오차한계 5, 신뢰수준 0.05, 샘플의 표준편차를 대입\n",
    "- [stats.t.ppf](https://stackoverflow.com/questions/67340028/how-to-use-t-ppf-which-are-the-arguments)"
   ]
  },
  {
   "cell_type": "code",
   "execution_count": 24,
   "id": "59d36eee",
   "metadata": {},
   "outputs": [
    {
     "data": {
      "text/plain": [
       "40.85590828532381"
      ]
     },
     "execution_count": 24,
     "metadata": {},
     "output_type": "execute_result"
    }
   ],
   "source": [
    "from scipy import stats\n",
    "\n",
    "(stats.t.ppf(q=a, df=9)*std / moe) **2"
   ]
  },
  {
   "cell_type": "markdown",
   "id": "5650efc9",
   "metadata": {},
   "source": [
    "- 결과가 40이므로, 유효한 샘플의 수는 40 이상이다.\n",
    "- Wilcoxon 의 부호검정을 검정 방법으로 선택 한다.\n",
    "- 이 검정 방법은, 모집단이 정규성을 만족하지 못할 때 사용하는 검정이다,\n",
    "- 비교 대상들 사이의 차이를 부호와 크기에 대한 정보로 바꾸어 이를 토대로 분포를 비교하는 방식이다."
   ]
  },
  {
   "cell_type": "markdown",
   "id": "f0bf6c75",
   "metadata": {},
   "source": [
    "#### 검정통계량을 구하고 연구가설 채택 여부를 작성하시오."
   ]
  },
  {
   "cell_type": "code",
   "execution_count": 33,
   "id": "3443d862",
   "metadata": {},
   "outputs": [
    {
     "data": {
      "text/plain": [
       "WilcoxonResult(statistic=9.5, pvalue=0.064453125)"
      ]
     },
     "execution_count": 33,
     "metadata": {},
     "output_type": "execute_result"
    }
   ],
   "source": [
    "stats.wilcoxon(pd.Series(x)-60)"
   ]
  },
  {
   "cell_type": "code",
   "execution_count": 23,
   "id": "158057ce",
   "metadata": {},
   "outputs": [
    {
     "data": {
      "text/plain": [
       "WilcoxonResult(statistic=9.5, pvalue=0.064453125)"
      ]
     },
     "execution_count": 23,
     "metadata": {},
     "output_type": "execute_result"
    }
   ],
   "source": [
    "stats.wilcoxon(pd.Series(x)-60, alternative='two-sided')"
   ]
  },
  {
   "cell_type": "markdown",
   "id": "24105db2",
   "metadata": {},
   "source": [
    "- 검증결과, p-value = 0.064 > 0.05 임으로, 귀무가설을 채택한다.\n",
    "- 즉, 시제품의 농도는 60% 라고 판단할 수 있다."
   ]
  },
  {
   "cell_type": "markdown",
   "id": "84852c61",
   "metadata": {},
   "source": [
    "### 코로나 시계열 데이터로 다음을 수행하시오.\n",
    "- 데이터 : 지역별 코로나 확진자 수 시계열 데이터"
   ]
  },
  {
   "cell_type": "markdown",
   "id": "38de5d20",
   "metadata": {},
   "source": [
    "#### ACF를 사용해 distancd 를 계산하시오."
   ]
  },
  {
   "cell_type": "markdown",
   "id": "0373bb95",
   "metadata": {},
   "source": [
    "- 데이터를 로드 후, ACF함수에 대입"
   ]
  },
  {
   "cell_type": "code",
   "execution_count": 26,
   "id": "cd8f500c",
   "metadata": {},
   "outputs": [
    {
     "data": {
      "text/html": [
       "<div>\n",
       "<style scoped>\n",
       "    .dataframe tbody tr th:only-of-type {\n",
       "        vertical-align: middle;\n",
       "    }\n",
       "\n",
       "    .dataframe tbody tr th {\n",
       "        vertical-align: top;\n",
       "    }\n",
       "\n",
       "    .dataframe thead th {\n",
       "        text-align: right;\n",
       "    }\n",
       "</style>\n",
       "<table border=\"1\" class=\"dataframe\">\n",
       "  <thead>\n",
       "    <tr style=\"text-align: right;\">\n",
       "      <th></th>\n",
       "      <th>종로구</th>\n",
       "      <th>중구</th>\n",
       "      <th>용산구</th>\n",
       "      <th>성동구</th>\n",
       "      <th>광진구</th>\n",
       "      <th>동대문구</th>\n",
       "      <th>중랑구</th>\n",
       "      <th>성북구</th>\n",
       "      <th>강북구</th>\n",
       "      <th>도봉구</th>\n",
       "      <th>...</th>\n",
       "      <th>강서구</th>\n",
       "      <th>구로구</th>\n",
       "      <th>금천구</th>\n",
       "      <th>영등포구</th>\n",
       "      <th>동작구</th>\n",
       "      <th>관악구</th>\n",
       "      <th>서초구</th>\n",
       "      <th>강남구</th>\n",
       "      <th>송파구</th>\n",
       "      <th>강동구</th>\n",
       "    </tr>\n",
       "    <tr>\n",
       "      <th>날짜</th>\n",
       "      <th></th>\n",
       "      <th></th>\n",
       "      <th></th>\n",
       "      <th></th>\n",
       "      <th></th>\n",
       "      <th></th>\n",
       "      <th></th>\n",
       "      <th></th>\n",
       "      <th></th>\n",
       "      <th></th>\n",
       "      <th></th>\n",
       "      <th></th>\n",
       "      <th></th>\n",
       "      <th></th>\n",
       "      <th></th>\n",
       "      <th></th>\n",
       "      <th></th>\n",
       "      <th></th>\n",
       "      <th></th>\n",
       "      <th></th>\n",
       "      <th></th>\n",
       "    </tr>\n",
       "  </thead>\n",
       "  <tbody>\n",
       "    <tr>\n",
       "      <th>2022-03-30</th>\n",
       "      <td>37261</td>\n",
       "      <td>33753</td>\n",
       "      <td>55376</td>\n",
       "      <td>81018</td>\n",
       "      <td>96008</td>\n",
       "      <td>95433</td>\n",
       "      <td>103288</td>\n",
       "      <td>116862</td>\n",
       "      <td>75118</td>\n",
       "      <td>82254</td>\n",
       "      <td>...</td>\n",
       "      <td>148359</td>\n",
       "      <td>109973</td>\n",
       "      <td>63687</td>\n",
       "      <td>110293</td>\n",
       "      <td>106238</td>\n",
       "      <td>132305</td>\n",
       "      <td>104368</td>\n",
       "      <td>136200</td>\n",
       "      <td>176765</td>\n",
       "      <td>121926</td>\n",
       "    </tr>\n",
       "    <tr>\n",
       "      <th>2022-03-29</th>\n",
       "      <td>36216</td>\n",
       "      <td>32835</td>\n",
       "      <td>53872</td>\n",
       "      <td>79030</td>\n",
       "      <td>93474</td>\n",
       "      <td>92993</td>\n",
       "      <td>100255</td>\n",
       "      <td>113609</td>\n",
       "      <td>72934</td>\n",
       "      <td>79677</td>\n",
       "      <td>...</td>\n",
       "      <td>143573</td>\n",
       "      <td>106162</td>\n",
       "      <td>61840</td>\n",
       "      <td>106171</td>\n",
       "      <td>102955</td>\n",
       "      <td>127626</td>\n",
       "      <td>100529</td>\n",
       "      <td>132333</td>\n",
       "      <td>172292</td>\n",
       "      <td>118842</td>\n",
       "    </tr>\n",
       "    <tr>\n",
       "      <th>2022-03-28</th>\n",
       "      <td>35276</td>\n",
       "      <td>31878</td>\n",
       "      <td>52391</td>\n",
       "      <td>76802</td>\n",
       "      <td>91030</td>\n",
       "      <td>90277</td>\n",
       "      <td>97419</td>\n",
       "      <td>110583</td>\n",
       "      <td>70754</td>\n",
       "      <td>77878</td>\n",
       "      <td>...</td>\n",
       "      <td>139633</td>\n",
       "      <td>103573</td>\n",
       "      <td>59946</td>\n",
       "      <td>104109</td>\n",
       "      <td>100665</td>\n",
       "      <td>124805</td>\n",
       "      <td>98869</td>\n",
       "      <td>128813</td>\n",
       "      <td>167386</td>\n",
       "      <td>115846</td>\n",
       "    </tr>\n",
       "    <tr>\n",
       "      <th>2022-03-27</th>\n",
       "      <td>34879</td>\n",
       "      <td>31577</td>\n",
       "      <td>51652</td>\n",
       "      <td>76108</td>\n",
       "      <td>89876</td>\n",
       "      <td>89302</td>\n",
       "      <td>96359</td>\n",
       "      <td>109500</td>\n",
       "      <td>70003</td>\n",
       "      <td>76542</td>\n",
       "      <td>...</td>\n",
       "      <td>137908</td>\n",
       "      <td>102610</td>\n",
       "      <td>59393</td>\n",
       "      <td>102916</td>\n",
       "      <td>99426</td>\n",
       "      <td>123374</td>\n",
       "      <td>96873</td>\n",
       "      <td>126296</td>\n",
       "      <td>165373</td>\n",
       "      <td>113549</td>\n",
       "    </tr>\n",
       "    <tr>\n",
       "      <th>2022-03-26</th>\n",
       "      <td>34061</td>\n",
       "      <td>30903</td>\n",
       "      <td>50720</td>\n",
       "      <td>74178</td>\n",
       "      <td>87770</td>\n",
       "      <td>87345</td>\n",
       "      <td>93690</td>\n",
       "      <td>106437</td>\n",
       "      <td>68329</td>\n",
       "      <td>75119</td>\n",
       "      <td>...</td>\n",
       "      <td>134285</td>\n",
       "      <td>99938</td>\n",
       "      <td>57925</td>\n",
       "      <td>100349</td>\n",
       "      <td>96989</td>\n",
       "      <td>120413</td>\n",
       "      <td>95124</td>\n",
       "      <td>123992</td>\n",
       "      <td>161650</td>\n",
       "      <td>110649</td>\n",
       "    </tr>\n",
       "  </tbody>\n",
       "</table>\n",
       "<p>5 rows × 25 columns</p>\n",
       "</div>"
      ],
      "text/plain": [
       "              종로구     중구    용산구    성동구    광진구   동대문구     중랑구     성북구    강북구  \\\n",
       "날짜                                                                            \n",
       "2022-03-30  37261  33753  55376  81018  96008  95433  103288  116862  75118   \n",
       "2022-03-29  36216  32835  53872  79030  93474  92993  100255  113609  72934   \n",
       "2022-03-28  35276  31878  52391  76802  91030  90277   97419  110583  70754   \n",
       "2022-03-27  34879  31577  51652  76108  89876  89302   96359  109500  70003   \n",
       "2022-03-26  34061  30903  50720  74178  87770  87345   93690  106437  68329   \n",
       "\n",
       "              도봉구  ...     강서구     구로구    금천구    영등포구     동작구     관악구     서초구  \\\n",
       "날짜                 ...                                                          \n",
       "2022-03-30  82254  ...  148359  109973  63687  110293  106238  132305  104368   \n",
       "2022-03-29  79677  ...  143573  106162  61840  106171  102955  127626  100529   \n",
       "2022-03-28  77878  ...  139633  103573  59946  104109  100665  124805   98869   \n",
       "2022-03-27  76542  ...  137908  102610  59393  102916   99426  123374   96873   \n",
       "2022-03-26  75119  ...  134285   99938  57925  100349   96989  120413   95124   \n",
       "\n",
       "               강남구     송파구     강동구  \n",
       "날짜                                  \n",
       "2022-03-30  136200  176765  121926  \n",
       "2022-03-29  132333  172292  118842  \n",
       "2022-03-28  128813  167386  115846  \n",
       "2022-03-27  126296  165373  113549  \n",
       "2022-03-26  123992  161650  110649  \n",
       "\n",
       "[5 rows x 25 columns]"
      ]
     },
     "execution_count": 26,
     "metadata": {},
     "output_type": "execute_result"
    }
   ],
   "source": [
    "import pandas as pd\n",
    "df = pd.read_csv('./data/서울특별시 코로나19.csv')\n",
    "df = df.set_index('날짜')\n",
    "df.head()"
   ]
  },
  {
   "cell_type": "code",
   "execution_count": 27,
   "id": "212abd40",
   "metadata": {},
   "outputs": [
    {
     "name": "stdout",
     "output_type": "stream",
     "text": [
      "<class 'pandas.core.frame.DataFrame'>\n",
      "Index: 785 entries, 2022-03-30 to 2020-02-05\n",
      "Data columns (total 25 columns):\n",
      " #   Column  Non-Null Count  Dtype\n",
      "---  ------  --------------  -----\n",
      " 0   종로구     785 non-null    int64\n",
      " 1   중구      785 non-null    int64\n",
      " 2   용산구     785 non-null    int64\n",
      " 3   성동구     785 non-null    int64\n",
      " 4   광진구     785 non-null    int64\n",
      " 5   동대문구    785 non-null    int64\n",
      " 6   중랑구     785 non-null    int64\n",
      " 7   성북구     785 non-null    int64\n",
      " 8   강북구     785 non-null    int64\n",
      " 9   도봉구     785 non-null    int64\n",
      " 10  노원구     785 non-null    int64\n",
      " 11  은평구     785 non-null    int64\n",
      " 12  서대문구    785 non-null    int64\n",
      " 13  마포구     785 non-null    int64\n",
      " 14  양천구     785 non-null    int64\n",
      " 15  강서구     785 non-null    int64\n",
      " 16  구로구     785 non-null    int64\n",
      " 17  금천구     785 non-null    int64\n",
      " 18  영등포구    785 non-null    int64\n",
      " 19  동작구     785 non-null    int64\n",
      " 20  관악구     785 non-null    int64\n",
      " 21  서초구     785 non-null    int64\n",
      " 22  강남구     785 non-null    int64\n",
      " 23  송파구     785 non-null    int64\n",
      " 24  강동구     785 non-null    int64\n",
      "dtypes: int64(25)\n",
      "memory usage: 159.5+ KB\n"
     ]
    }
   ],
   "source": [
    "df.info()"
   ]
  },
  {
   "cell_type": "markdown",
   "id": "8ded8bbb",
   "metadata": {},
   "source": [
    "- sm.tsa.stattools.acf 함수로 ACF distance 계산\n",
    "- n_lag : 관측 데이터의 수"
   ]
  },
  {
   "cell_type": "code",
   "execution_count": 28,
   "id": "c5182707",
   "metadata": {},
   "outputs": [],
   "source": [
    "import numpy as np\n",
    "import statsmodels.api as sm\n",
    "from statsmodels.tsa.arima_process import ArmaProcess\n",
    "\n",
    "def acf(x, n_lags):\n",
    "    return sm.tsa.stattools.acf(x, nlags=n_lags)"
   ]
  },
  {
   "cell_type": "code",
   "execution_count": 30,
   "id": "912712b5",
   "metadata": {},
   "outputs": [
    {
     "data": {
      "text/plain": [
       "array([785, 785, 785, 785, 785, 785, 785, 785, 785, 785, 785, 785, 785,\n",
       "       785, 785, 785, 785, 785, 785, 785, 785, 785, 785, 785, 785])"
      ]
     },
     "execution_count": 30,
     "metadata": {},
     "output_type": "execute_result"
    }
   ],
   "source": [
    "n_lags=len(df)\n",
    "np.repeat(n_lags, df.shape[1])"
   ]
  },
  {
   "cell_type": "code",
   "execution_count": 34,
   "id": "0a94700a",
   "metadata": {
    "scrolled": true
   },
   "outputs": [
    {
     "data": {
      "text/html": [
       "<div>\n",
       "<style scoped>\n",
       "    .dataframe tbody tr th:only-of-type {\n",
       "        vertical-align: middle;\n",
       "    }\n",
       "\n",
       "    .dataframe tbody tr th {\n",
       "        vertical-align: top;\n",
       "    }\n",
       "\n",
       "    .dataframe thead th {\n",
       "        text-align: right;\n",
       "    }\n",
       "</style>\n",
       "<table border=\"1\" class=\"dataframe\">\n",
       "  <thead>\n",
       "    <tr style=\"text-align: right;\">\n",
       "      <th></th>\n",
       "      <th>종로구</th>\n",
       "      <th>중구</th>\n",
       "      <th>용산구</th>\n",
       "      <th>성동구</th>\n",
       "      <th>광진구</th>\n",
       "      <th>동대문구</th>\n",
       "      <th>중랑구</th>\n",
       "      <th>성북구</th>\n",
       "      <th>강북구</th>\n",
       "      <th>도봉구</th>\n",
       "      <th>...</th>\n",
       "      <th>강서구</th>\n",
       "      <th>구로구</th>\n",
       "      <th>금천구</th>\n",
       "      <th>영등포구</th>\n",
       "      <th>동작구</th>\n",
       "      <th>관악구</th>\n",
       "      <th>서초구</th>\n",
       "      <th>강남구</th>\n",
       "      <th>송파구</th>\n",
       "      <th>강동구</th>\n",
       "    </tr>\n",
       "  </thead>\n",
       "  <tbody>\n",
       "    <tr>\n",
       "      <th>0</th>\n",
       "      <td>1.000000</td>\n",
       "      <td>1.000000</td>\n",
       "      <td>1.000000</td>\n",
       "      <td>1.000000</td>\n",
       "      <td>1.000000</td>\n",
       "      <td>1.000000</td>\n",
       "      <td>1.000000</td>\n",
       "      <td>1.000000</td>\n",
       "      <td>1.000000</td>\n",
       "      <td>1.000000</td>\n",
       "      <td>...</td>\n",
       "      <td>1.000000</td>\n",
       "      <td>1.000000</td>\n",
       "      <td>1.000000</td>\n",
       "      <td>1.000000</td>\n",
       "      <td>1.000000</td>\n",
       "      <td>1.000000</td>\n",
       "      <td>1.000000</td>\n",
       "      <td>1.000000</td>\n",
       "      <td>1.000000</td>\n",
       "      <td>1.000000</td>\n",
       "    </tr>\n",
       "    <tr>\n",
       "      <th>1</th>\n",
       "      <td>0.965624</td>\n",
       "      <td>0.966025</td>\n",
       "      <td>0.965807</td>\n",
       "      <td>0.964843</td>\n",
       "      <td>0.965118</td>\n",
       "      <td>0.966179</td>\n",
       "      <td>0.964429</td>\n",
       "      <td>0.964386</td>\n",
       "      <td>0.964873</td>\n",
       "      <td>0.964677</td>\n",
       "      <td>...</td>\n",
       "      <td>0.963102</td>\n",
       "      <td>0.964896</td>\n",
       "      <td>0.964495</td>\n",
       "      <td>0.964211</td>\n",
       "      <td>0.964682</td>\n",
       "      <td>0.964599</td>\n",
       "      <td>0.964920</td>\n",
       "      <td>0.965594</td>\n",
       "      <td>0.965216</td>\n",
       "      <td>0.964788</td>\n",
       "    </tr>\n",
       "    <tr>\n",
       "      <th>2</th>\n",
       "      <td>0.932172</td>\n",
       "      <td>0.932933</td>\n",
       "      <td>0.932148</td>\n",
       "      <td>0.930035</td>\n",
       "      <td>0.930705</td>\n",
       "      <td>0.932781</td>\n",
       "      <td>0.929547</td>\n",
       "      <td>0.929349</td>\n",
       "      <td>0.930425</td>\n",
       "      <td>0.930168</td>\n",
       "      <td>...</td>\n",
       "      <td>0.927079</td>\n",
       "      <td>0.930870</td>\n",
       "      <td>0.929726</td>\n",
       "      <td>0.929708</td>\n",
       "      <td>0.930160</td>\n",
       "      <td>0.930349</td>\n",
       "      <td>0.931073</td>\n",
       "      <td>0.931913</td>\n",
       "      <td>0.930854</td>\n",
       "      <td>0.930000</td>\n",
       "    </tr>\n",
       "    <tr>\n",
       "      <th>3</th>\n",
       "      <td>0.899077</td>\n",
       "      <td>0.900435</td>\n",
       "      <td>0.899075</td>\n",
       "      <td>0.895739</td>\n",
       "      <td>0.896734</td>\n",
       "      <td>0.900063</td>\n",
       "      <td>0.895251</td>\n",
       "      <td>0.894822</td>\n",
       "      <td>0.896665</td>\n",
       "      <td>0.895849</td>\n",
       "      <td>...</td>\n",
       "      <td>0.891603</td>\n",
       "      <td>0.897198</td>\n",
       "      <td>0.895662</td>\n",
       "      <td>0.895164</td>\n",
       "      <td>0.895834</td>\n",
       "      <td>0.896316</td>\n",
       "      <td>0.897017</td>\n",
       "      <td>0.898790</td>\n",
       "      <td>0.897147</td>\n",
       "      <td>0.895648</td>\n",
       "    </tr>\n",
       "    <tr>\n",
       "      <th>4</th>\n",
       "      <td>0.865542</td>\n",
       "      <td>0.867391</td>\n",
       "      <td>0.865682</td>\n",
       "      <td>0.860691</td>\n",
       "      <td>0.862274</td>\n",
       "      <td>0.866781</td>\n",
       "      <td>0.860302</td>\n",
       "      <td>0.859554</td>\n",
       "      <td>0.862291</td>\n",
       "      <td>0.861332</td>\n",
       "      <td>...</td>\n",
       "      <td>0.855502</td>\n",
       "      <td>0.862796</td>\n",
       "      <td>0.860914</td>\n",
       "      <td>0.860051</td>\n",
       "      <td>0.860964</td>\n",
       "      <td>0.861660</td>\n",
       "      <td>0.863028</td>\n",
       "      <td>0.865697</td>\n",
       "      <td>0.862857</td>\n",
       "      <td>0.861294</td>\n",
       "    </tr>\n",
       "  </tbody>\n",
       "</table>\n",
       "<p>5 rows × 25 columns</p>\n",
       "</div>"
      ],
      "text/plain": [
       "        종로구        중구       용산구       성동구       광진구      동대문구       중랑구  \\\n",
       "0  1.000000  1.000000  1.000000  1.000000  1.000000  1.000000  1.000000   \n",
       "1  0.965624  0.966025  0.965807  0.964843  0.965118  0.966179  0.964429   \n",
       "2  0.932172  0.932933  0.932148  0.930035  0.930705  0.932781  0.929547   \n",
       "3  0.899077  0.900435  0.899075  0.895739  0.896734  0.900063  0.895251   \n",
       "4  0.865542  0.867391  0.865682  0.860691  0.862274  0.866781  0.860302   \n",
       "\n",
       "        성북구       강북구       도봉구  ...       강서구       구로구       금천구      영등포구  \\\n",
       "0  1.000000  1.000000  1.000000  ...  1.000000  1.000000  1.000000  1.000000   \n",
       "1  0.964386  0.964873  0.964677  ...  0.963102  0.964896  0.964495  0.964211   \n",
       "2  0.929349  0.930425  0.930168  ...  0.927079  0.930870  0.929726  0.929708   \n",
       "3  0.894822  0.896665  0.895849  ...  0.891603  0.897198  0.895662  0.895164   \n",
       "4  0.859554  0.862291  0.861332  ...  0.855502  0.862796  0.860914  0.860051   \n",
       "\n",
       "        동작구       관악구       서초구       강남구       송파구       강동구  \n",
       "0  1.000000  1.000000  1.000000  1.000000  1.000000  1.000000  \n",
       "1  0.964682  0.964599  0.964920  0.965594  0.965216  0.964788  \n",
       "2  0.930160  0.930349  0.931073  0.931913  0.930854  0.930000  \n",
       "3  0.895834  0.896316  0.897017  0.898790  0.897147  0.895648  \n",
       "4  0.860964  0.861660  0.863028  0.865697  0.862857  0.861294  \n",
       "\n",
       "[5 rows x 25 columns]"
      ]
     },
     "execution_count": 34,
     "metadata": {},
     "output_type": "execute_result"
    }
   ],
   "source": [
    "n_lags=len(df)\n",
    "lag_arr = np.repeat(n_lags, df.shape[1])\n",
    "acf_list = list(map(acf, df.transpose().to_numpy(), lag_arr))\n",
    "acf_df = pd.DataFrame(acf_list).T\n",
    "acf_df.columns = df.columns\n",
    "acf_df.head()"
   ]
  },
  {
   "cell_type": "markdown",
   "id": "9c4baafe",
   "metadata": {},
   "source": [
    "#### 계층적 군집분석을 위해 덴드로그램을 작성하시오."
   ]
  },
  {
   "cell_type": "markdown",
   "id": "fca396f8",
   "metadata": {},
   "source": [
    "- 계층적 군집분석의 입력을 위해 형태를 수정"
   ]
  },
  {
   "cell_type": "code",
   "execution_count": 35,
   "id": "6dc95699",
   "metadata": {},
   "outputs": [
    {
     "data": {
      "text/html": [
       "<div>\n",
       "<style scoped>\n",
       "    .dataframe tbody tr th:only-of-type {\n",
       "        vertical-align: middle;\n",
       "    }\n",
       "\n",
       "    .dataframe tbody tr th {\n",
       "        vertical-align: top;\n",
       "    }\n",
       "\n",
       "    .dataframe thead th {\n",
       "        text-align: right;\n",
       "    }\n",
       "</style>\n",
       "<table border=\"1\" class=\"dataframe\">\n",
       "  <thead>\n",
       "    <tr style=\"text-align: right;\">\n",
       "      <th></th>\n",
       "      <th>0</th>\n",
       "      <th>1</th>\n",
       "      <th>2</th>\n",
       "      <th>3</th>\n",
       "      <th>4</th>\n",
       "      <th>5</th>\n",
       "      <th>6</th>\n",
       "      <th>7</th>\n",
       "      <th>8</th>\n",
       "      <th>9</th>\n",
       "      <th>...</th>\n",
       "      <th>775</th>\n",
       "      <th>776</th>\n",
       "      <th>777</th>\n",
       "      <th>778</th>\n",
       "      <th>779</th>\n",
       "      <th>780</th>\n",
       "      <th>781</th>\n",
       "      <th>782</th>\n",
       "      <th>783</th>\n",
       "      <th>784</th>\n",
       "    </tr>\n",
       "  </thead>\n",
       "  <tbody>\n",
       "    <tr>\n",
       "      <th>종로구</th>\n",
       "      <td>1.0</td>\n",
       "      <td>0.965624</td>\n",
       "      <td>0.932172</td>\n",
       "      <td>0.899077</td>\n",
       "      <td>0.865542</td>\n",
       "      <td>0.832363</td>\n",
       "      <td>0.794512</td>\n",
       "      <td>0.761958</td>\n",
       "      <td>0.729971</td>\n",
       "      <td>0.699409</td>\n",
       "      <td>...</td>\n",
       "      <td>-0.032352</td>\n",
       "      <td>-0.029599</td>\n",
       "      <td>-0.026741</td>\n",
       "      <td>-0.023738</td>\n",
       "      <td>-0.020635</td>\n",
       "      <td>-0.017175</td>\n",
       "      <td>-0.013889</td>\n",
       "      <td>-0.010519</td>\n",
       "      <td>-0.007108</td>\n",
       "      <td>-0.003608</td>\n",
       "    </tr>\n",
       "    <tr>\n",
       "      <th>중구</th>\n",
       "      <td>1.0</td>\n",
       "      <td>0.966025</td>\n",
       "      <td>0.932933</td>\n",
       "      <td>0.900435</td>\n",
       "      <td>0.867391</td>\n",
       "      <td>0.834610</td>\n",
       "      <td>0.796898</td>\n",
       "      <td>0.764614</td>\n",
       "      <td>0.733020</td>\n",
       "      <td>0.702617</td>\n",
       "      <td>...</td>\n",
       "      <td>-0.032460</td>\n",
       "      <td>-0.029706</td>\n",
       "      <td>-0.026830</td>\n",
       "      <td>-0.023818</td>\n",
       "      <td>-0.020699</td>\n",
       "      <td>-0.017212</td>\n",
       "      <td>-0.013915</td>\n",
       "      <td>-0.010542</td>\n",
       "      <td>-0.007135</td>\n",
       "      <td>-0.003619</td>\n",
       "    </tr>\n",
       "    <tr>\n",
       "      <th>용산구</th>\n",
       "      <td>1.0</td>\n",
       "      <td>0.965807</td>\n",
       "      <td>0.932148</td>\n",
       "      <td>0.899075</td>\n",
       "      <td>0.865682</td>\n",
       "      <td>0.832234</td>\n",
       "      <td>0.798381</td>\n",
       "      <td>0.765454</td>\n",
       "      <td>0.733336</td>\n",
       "      <td>0.702647</td>\n",
       "      <td>...</td>\n",
       "      <td>-0.032290</td>\n",
       "      <td>-0.029516</td>\n",
       "      <td>-0.026637</td>\n",
       "      <td>-0.023616</td>\n",
       "      <td>-0.020484</td>\n",
       "      <td>-0.017232</td>\n",
       "      <td>-0.013929</td>\n",
       "      <td>-0.010562</td>\n",
       "      <td>-0.007144</td>\n",
       "      <td>-0.003624</td>\n",
       "    </tr>\n",
       "    <tr>\n",
       "      <th>성동구</th>\n",
       "      <td>1.0</td>\n",
       "      <td>0.964843</td>\n",
       "      <td>0.930035</td>\n",
       "      <td>0.895739</td>\n",
       "      <td>0.860691</td>\n",
       "      <td>0.826010</td>\n",
       "      <td>0.789577</td>\n",
       "      <td>0.755252</td>\n",
       "      <td>0.721447</td>\n",
       "      <td>0.689063</td>\n",
       "      <td>...</td>\n",
       "      <td>-0.028496</td>\n",
       "      <td>-0.026046</td>\n",
       "      <td>-0.023505</td>\n",
       "      <td>-0.020839</td>\n",
       "      <td>-0.018086</td>\n",
       "      <td>-0.015171</td>\n",
       "      <td>-0.012270</td>\n",
       "      <td>-0.009290</td>\n",
       "      <td>-0.006282</td>\n",
       "      <td>-0.003182</td>\n",
       "    </tr>\n",
       "    <tr>\n",
       "      <th>광진구</th>\n",
       "      <td>1.0</td>\n",
       "      <td>0.965118</td>\n",
       "      <td>0.930705</td>\n",
       "      <td>0.896734</td>\n",
       "      <td>0.862274</td>\n",
       "      <td>0.828063</td>\n",
       "      <td>0.793461</td>\n",
       "      <td>0.759914</td>\n",
       "      <td>0.727410</td>\n",
       "      <td>0.696133</td>\n",
       "      <td>...</td>\n",
       "      <td>-0.028500</td>\n",
       "      <td>-0.026029</td>\n",
       "      <td>-0.023499</td>\n",
       "      <td>-0.020853</td>\n",
       "      <td>-0.018098</td>\n",
       "      <td>-0.015231</td>\n",
       "      <td>-0.012320</td>\n",
       "      <td>-0.009335</td>\n",
       "      <td>-0.006309</td>\n",
       "      <td>-0.003199</td>\n",
       "    </tr>\n",
       "  </tbody>\n",
       "</table>\n",
       "<p>5 rows × 785 columns</p>\n",
       "</div>"
      ],
      "text/plain": [
       "     0         1         2         3         4         5         6    \\\n",
       "종로구  1.0  0.965624  0.932172  0.899077  0.865542  0.832363  0.794512   \n",
       "중구   1.0  0.966025  0.932933  0.900435  0.867391  0.834610  0.796898   \n",
       "용산구  1.0  0.965807  0.932148  0.899075  0.865682  0.832234  0.798381   \n",
       "성동구  1.0  0.964843  0.930035  0.895739  0.860691  0.826010  0.789577   \n",
       "광진구  1.0  0.965118  0.930705  0.896734  0.862274  0.828063  0.793461   \n",
       "\n",
       "          7         8         9    ...       775       776       777  \\\n",
       "종로구  0.761958  0.729971  0.699409  ... -0.032352 -0.029599 -0.026741   \n",
       "중구   0.764614  0.733020  0.702617  ... -0.032460 -0.029706 -0.026830   \n",
       "용산구  0.765454  0.733336  0.702647  ... -0.032290 -0.029516 -0.026637   \n",
       "성동구  0.755252  0.721447  0.689063  ... -0.028496 -0.026046 -0.023505   \n",
       "광진구  0.759914  0.727410  0.696133  ... -0.028500 -0.026029 -0.023499   \n",
       "\n",
       "          778       779       780       781       782       783       784  \n",
       "종로구 -0.023738 -0.020635 -0.017175 -0.013889 -0.010519 -0.007108 -0.003608  \n",
       "중구  -0.023818 -0.020699 -0.017212 -0.013915 -0.010542 -0.007135 -0.003619  \n",
       "용산구 -0.023616 -0.020484 -0.017232 -0.013929 -0.010562 -0.007144 -0.003624  \n",
       "성동구 -0.020839 -0.018086 -0.015171 -0.012270 -0.009290 -0.006282 -0.003182  \n",
       "광진구 -0.020853 -0.018098 -0.015231 -0.012320 -0.009335 -0.006309 -0.003199  \n",
       "\n",
       "[5 rows x 785 columns]"
      ]
     },
     "execution_count": 35,
     "metadata": {},
     "output_type": "execute_result"
    }
   ],
   "source": [
    "acf_df = acf_df.T\n",
    "acf_df.head()"
   ]
  },
  {
   "cell_type": "markdown",
   "id": "6da40c0c",
   "metadata": {},
   "source": [
    "- matplotlib 에서 한글을 쓰기 위한 코드 추가"
   ]
  },
  {
   "cell_type": "code",
   "execution_count": 36,
   "id": "00433854",
   "metadata": {},
   "outputs": [
    {
     "name": "stdout",
     "output_type": "stream",
     "text": [
      "['Solarize_Light2', '_classic_test_patch', '_mpl-gallery', '_mpl-gallery-nogrid', 'bmh', 'classic', 'dark_background', 'fast', 'fivethirtyeight', 'ggplot', 'grayscale', 'seaborn', 'seaborn-bright', 'seaborn-colorblind', 'seaborn-dark', 'seaborn-dark-palette', 'seaborn-darkgrid', 'seaborn-deep', 'seaborn-muted', 'seaborn-notebook', 'seaborn-paper', 'seaborn-pastel', 'seaborn-poster', 'seaborn-talk', 'seaborn-ticks', 'seaborn-white', 'seaborn-whitegrid', 'tableau-colorblind10']\n"
     ]
    },
    {
     "data": {
      "image/png": "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",
      "text/plain": [
       "<Figure size 576x396 with 1 Axes>"
      ]
     },
     "metadata": {
      "image/png": {
       "height": 344,
       "width": 477
      }
     },
     "output_type": "display_data"
    }
   ],
   "source": [
    "import matplotlib.pyplot as plt\n",
    "\n",
    "def get_font_family():\n",
    "    import platform\n",
    "    system_name = platform.system()\n",
    "    if system_name == \"Darwin\" :\n",
    "        font_family = \"AppleGothic\"\n",
    "    elif system_name == \"Windows\":\n",
    "        font_family = \"Malgun Gothic\"\n",
    "    elif system_name == \"Linux\":\n",
    "        font_family = \"NanumGothic\"     \n",
    "    return font_family\n",
    "\n",
    "font_family = get_font_family()\n",
    "\n",
    "# 사용가능한 폰트 스타일\n",
    "print(plt.style.available)\n",
    "\n",
    "# 그래프 스타일 설정\n",
    "plt.style.use('seaborn')\n",
    "\n",
    "# 폰트설정\n",
    "plt.rc(\"font\", family=font_family)\n",
    "\n",
    "# 마이너스폰트 설정\n",
    "plt.rc('axes', unicode_minus=False)\n",
    "\n",
    "# 그래프에 retina display 적용\n",
    "%config InlineBackend.figure_format='retina'\n",
    "\n",
    "# 한글폰트 확인\n",
    "pd.Series([1,3,5,-3,6]).plot(title='한글')\n",
    "plt.show()"
   ]
  },
  {
   "cell_type": "markdown",
   "id": "a02633ec",
   "metadata": {},
   "source": [
    "- label 에 acf_df 의 index (지역명)을 저장\n",
    "- sch의 linkage()에서 acf_df를 입력하여 계층 분석 수행\n",
    "- method는 'average' (평균연결법)\n",
    "- linkage matrix는 sch.linkage()의 결과로 반환되는 행렬\n",
    "    - 첫 번째 열 : 한 클래스의 인덱스 (index of a class)\n",
    "    - 두 번째 열 : 다른 클래스의 인덱스 (index of other class)\n",
    "    - 세 번째 열 : 클래스 사이의 거리 (distance between class)\n",
    "    - 네 번째 열 : 클래스를 만드는데 사용한 데이터 포인트의 개수 (sum of the numbers of in a class and other class)\n",
    "- 이중 클래스 사이의 거리로 군집을 나눈다.-> 세번째 열 선택\n",
    "- cut-off : linkage matrix의 3번째 열의 최댓값의 50%\n",
    "- sch.dendrogram() 함수로 덴드로그램 완성\n",
    "- labels 에 label, color_threshold 에 cutoff 입력"
   ]
  },
  {
   "cell_type": "code",
   "execution_count": 37,
   "id": "a1b25f40",
   "metadata": {
    "scrolled": true
   },
   "outputs": [
    {
     "data": {
      "image/png": "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,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",
      "text/plain": [
       "<Figure size 1080x360 with 1 Axes>"
      ]
     },
     "metadata": {
      "image/png": {
       "height": 326,
       "width": 879
      }
     },
     "output_type": "display_data"
    }
   ],
   "source": [
    "import scipy.cluster.hierarchy as sch\n",
    "\n",
    "plt.figure(figsize=(15, 5))\n",
    "label = acf_df.index\n",
    "dend = sch.linkage(acf_df, method='average')\n",
    "cufoff = 0.5 * max(dend[:, 2])\n",
    "dend_res = sch.dendrogram(dend, color_threshold=cufoff, labels=label)\n",
    "plt.show()"
   ]
  },
  {
   "cell_type": "markdown",
   "id": "0d156814",
   "metadata": {},
   "source": [
    "### 사회과학, 자연과학, 공학 세 개 학과의 평점조사표를 보고 학과와 성적이 관계가 있는지 검정하시오.\n",
    "- 데이터 : 세계 학과의 평점조사표\n",
    "\n",
    "<img src=\"img/08-04.png\" width=\"800\"/>"
   ]
  },
  {
   "cell_type": "code",
   "execution_count": 42,
   "id": "31465456",
   "metadata": {},
   "outputs": [
    {
     "data": {
      "text/html": [
       "<div>\n",
       "<style scoped>\n",
       "    .dataframe tbody tr th:only-of-type {\n",
       "        vertical-align: middle;\n",
       "    }\n",
       "\n",
       "    .dataframe tbody tr th {\n",
       "        vertical-align: top;\n",
       "    }\n",
       "\n",
       "    .dataframe thead th {\n",
       "        text-align: right;\n",
       "    }\n",
       "</style>\n",
       "<table border=\"1\" class=\"dataframe\">\n",
       "  <thead>\n",
       "    <tr style=\"text-align: right;\">\n",
       "      <th></th>\n",
       "      <th>사회과학</th>\n",
       "      <th>자연과학</th>\n",
       "      <th>공학</th>\n",
       "    </tr>\n",
       "  </thead>\n",
       "  <tbody>\n",
       "    <tr>\n",
       "      <th>3.5~4.5</th>\n",
       "      <td>16</td>\n",
       "      <td>12</td>\n",
       "      <td>18</td>\n",
       "    </tr>\n",
       "    <tr>\n",
       "      <th>2.5~3.5</th>\n",
       "      <td>30</td>\n",
       "      <td>20</td>\n",
       "      <td>13</td>\n",
       "    </tr>\n",
       "    <tr>\n",
       "      <th>1.5~2.5</th>\n",
       "      <td>12</td>\n",
       "      <td>3</td>\n",
       "      <td>14</td>\n",
       "    </tr>\n",
       "  </tbody>\n",
       "</table>\n",
       "</div>"
      ],
      "text/plain": [
       "         사회과학  자연과학  공학\n",
       "3.5~4.5    16    12  18\n",
       "2.5~3.5    30    20  13\n",
       "1.5~2.5    12     3  14"
      ]
     },
     "execution_count": 42,
     "metadata": {},
     "output_type": "execute_result"
    }
   ],
   "source": [
    "사회 = [16, 30, 12]\n",
    "자연 = [12, 20, 3]\n",
    "공학 = [18, 13, 14]\n",
    "table = pd.DataFrame({'사회과학': 사회, '자연과학': 자연, '공학':공학}, index = [\"3.5~4.5\", '2.5~3.5', '1.5~2.5'])\n",
    "table"
   ]
  },
  {
   "cell_type": "markdown",
   "id": "90ca90fa",
   "metadata": {},
   "source": [
    "#### 연구가설, 귀무가설을 작성하시오."
   ]
  },
  {
   "cell_type": "markdown",
   "id": "2db1214c",
   "metadata": {},
   "source": [
    "- 귀무가설 : 성적과 학과 간에 관련성이 없다.\n",
    "- 대립가설 : 성적과 학과 간에 관련성이 있다."
   ]
  },
  {
   "cell_type": "markdown",
   "id": "7b1137af",
   "metadata": {},
   "source": [
    "- 카이제곱 검정을 검정 방식으로 선택 \n",
    "- 카이제곱 검정은, 관찰된 빈도와 기대되는 빈도가 의미 있게 다른지 여부를 검정\n",
    "- 명목척도도 자료 분석에 사용되며\n",
    "- 목적에 따라 다름의 세가지로 사용가능"
   ]
  },
  {
   "cell_type": "markdown",
   "id": "052138b3",
   "metadata": {},
   "source": [
    "- 적합도 검정 : 관찰된 비율 값이 기댓값과 같은지 조사 (어떤 모집단의 표본이 그 모집단을 대표하는지 검정)\n",
    "- 동질성 검정 : 두 집단의 분포가 동일한지 검정\n",
    "- 독립성 검정 : Contingency table 에 두 개 이상의 변수가 서로 독립인지 검정"
   ]
  },
  {
   "cell_type": "markdown",
   "id": "025d3049",
   "metadata": {},
   "source": [
    "#### 학과와 성적이 독립일 때 기댓값을 구하시오."
   ]
  },
  {
   "cell_type": "code",
   "execution_count": 43,
   "id": "f158ef0b",
   "metadata": {},
   "outputs": [
    {
     "data": {
      "text/plain": [
       "(10.199441509990177,\n",
       " 0.03719883770303157,\n",
       " 4,\n",
       " array([[19.33333333, 11.66666667, 15.        ],\n",
       "        [26.47826087, 15.97826087, 20.54347826],\n",
       "        [12.1884058 ,  7.35507246,  9.45652174]]))"
      ]
     },
     "execution_count": 43,
     "metadata": {},
     "output_type": "execute_result"
    }
   ],
   "source": [
    "from scipy import stats\n",
    "stats.chi2_contingency(observed=table)"
   ]
  },
  {
   "cell_type": "markdown",
   "id": "08e7c258",
   "metadata": {},
   "source": [
    "- 출력 내용\n",
    "    - chi2 : float, The test statistic.\n",
    "    - p : float, The p-value of the test\n",
    "    - dof : int, Degrees of freedom\n",
    "    - expected ; ndarray, same shape as observedm The expected frequencies, based on the marginal sums of the table.\n",
    "- chi-square 값은 10.199441509990177, p-value = 0.03719883770303157\n",
    "- 학업 성적이 학과와 독립 일 때, 기대치는 위 array 와 같다."
   ]
  },
  {
   "cell_type": "markdown",
   "id": "6f57f6bb",
   "metadata": {},
   "source": [
    "#### 검정통계량을 구하고 연구가설 채택 여부를 작성하시오."
   ]
  },
  {
   "cell_type": "markdown",
   "id": "099693d5",
   "metadata": {},
   "source": [
    "- 유의수준 5%에서 p-value가 0.05 보다 작기 때문에, 귀무가설 기각\n",
    "- 따라서, 성적과 학과 간에는 상관성이 있다."
   ]
  }
 ],
 "metadata": {
  "kernelspec": {
   "display_name": "Python 3.7.9 64-bit",
   "language": "python",
   "name": "python3"
  },
  "language_info": {
   "codemirror_mode": {
    "name": "ipython",
    "version": 3
   },
   "file_extension": ".py",
   "mimetype": "text/x-python",
   "name": "python",
   "nbconvert_exporter": "python",
   "pygments_lexer": "ipython3",
   "version": "3.7.9"
  },
  "toc": {
   "base_numbering": 1,
   "nav_menu": {},
   "number_sections": true,
   "sideBar": true,
   "skip_h1_title": false,
   "title_cell": "Table of Contents",
   "title_sidebar": "Contents",
   "toc_cell": false,
   "toc_position": {},
   "toc_section_display": true,
   "toc_window_display": true
  },
  "vscode": {
   "interpreter": {
    "hash": "8a76269b423b4980097cdf6634cad2727457b9abcc61bd96393e1c55d94e8f38"
   }
  }
 },
 "nbformat": 4,
 "nbformat_minor": 5
}
