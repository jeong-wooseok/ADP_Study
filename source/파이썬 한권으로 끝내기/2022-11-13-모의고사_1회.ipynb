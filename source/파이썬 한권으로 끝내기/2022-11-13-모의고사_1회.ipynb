{
 "cells": [
  {
   "cell_type": "markdown",
   "metadata": {},
   "source": [
    "# 1. 머신러닝(50점)\n",
    "데이터 : 학생성적에 관한 소규모데이터 (student data)"
   ]
  },
  {
   "cell_type": "markdown",
   "metadata": {},
   "source": [
    "## (1) 시각화 포함 탐색적 자료분석을 시행하시오 (20분)"
   ]
  },
  {
   "cell_type": "code",
   "execution_count": 1,
   "metadata": {},
   "outputs": [],
   "source": [
    "import pandas as pd\n",
    "import matplotlib.pyplot as plt\n",
    "import seaborn as sns\n",
    "import numpy as np"
   ]
  },
  {
   "cell_type": "code",
   "execution_count": 2,
   "metadata": {},
   "outputs": [
    {
     "data": {
      "text/html": [
       "<div>\n",
       "<style scoped>\n",
       "    .dataframe tbody tr th:only-of-type {\n",
       "        vertical-align: middle;\n",
       "    }\n",
       "\n",
       "    .dataframe tbody tr th {\n",
       "        vertical-align: top;\n",
       "    }\n",
       "\n",
       "    .dataframe thead th {\n",
       "        text-align: right;\n",
       "    }\n",
       "</style>\n",
       "<table border=\"1\" class=\"dataframe\">\n",
       "  <thead>\n",
       "    <tr style=\"text-align: right;\">\n",
       "      <th></th>\n",
       "      <th>school</th>\n",
       "      <th>sex</th>\n",
       "      <th>paid</th>\n",
       "      <th>activities</th>\n",
       "      <th>famrel</th>\n",
       "      <th>freetime</th>\n",
       "      <th>goout</th>\n",
       "      <th>Dalc</th>\n",
       "      <th>Walc</th>\n",
       "      <th>health</th>\n",
       "      <th>absences</th>\n",
       "      <th>grade</th>\n",
       "      <th>G1</th>\n",
       "      <th>G2</th>\n",
       "    </tr>\n",
       "  </thead>\n",
       "  <tbody>\n",
       "    <tr>\n",
       "      <th>0</th>\n",
       "      <td>GP</td>\n",
       "      <td>F</td>\n",
       "      <td>no</td>\n",
       "      <td>no</td>\n",
       "      <td>4.0</td>\n",
       "      <td>3.0</td>\n",
       "      <td>4.0</td>\n",
       "      <td>1.0</td>\n",
       "      <td>1.0</td>\n",
       "      <td>3.0</td>\n",
       "      <td>6.0</td>\n",
       "      <td>6</td>\n",
       "      <td>5</td>\n",
       "      <td>6</td>\n",
       "    </tr>\n",
       "    <tr>\n",
       "      <th>1</th>\n",
       "      <td>GP</td>\n",
       "      <td>F</td>\n",
       "      <td>no</td>\n",
       "      <td>no</td>\n",
       "      <td>5.0</td>\n",
       "      <td>3.0</td>\n",
       "      <td>3.0</td>\n",
       "      <td>1.0</td>\n",
       "      <td>1.0</td>\n",
       "      <td>3.0</td>\n",
       "      <td>4.0</td>\n",
       "      <td>5</td>\n",
       "      <td>5</td>\n",
       "      <td>5</td>\n",
       "    </tr>\n",
       "    <tr>\n",
       "      <th>2</th>\n",
       "      <td>GP</td>\n",
       "      <td>F</td>\n",
       "      <td>yes</td>\n",
       "      <td>no</td>\n",
       "      <td>4.0</td>\n",
       "      <td>3.0</td>\n",
       "      <td>2.0</td>\n",
       "      <td>2.0</td>\n",
       "      <td>3.0</td>\n",
       "      <td>3.0</td>\n",
       "      <td>10.0</td>\n",
       "      <td>8</td>\n",
       "      <td>7</td>\n",
       "      <td>8</td>\n",
       "    </tr>\n",
       "    <tr>\n",
       "      <th>3</th>\n",
       "      <td>GP</td>\n",
       "      <td>F</td>\n",
       "      <td>yes</td>\n",
       "      <td>yes</td>\n",
       "      <td>3.0</td>\n",
       "      <td>2.0</td>\n",
       "      <td>2.0</td>\n",
       "      <td>1.0</td>\n",
       "      <td>1.0</td>\n",
       "      <td>5.0</td>\n",
       "      <td>2.0</td>\n",
       "      <td>15</td>\n",
       "      <td>15</td>\n",
       "      <td>14</td>\n",
       "    </tr>\n",
       "    <tr>\n",
       "      <th>4</th>\n",
       "      <td>GP</td>\n",
       "      <td>F</td>\n",
       "      <td>yes</td>\n",
       "      <td>no</td>\n",
       "      <td>4.0</td>\n",
       "      <td>3.0</td>\n",
       "      <td>2.0</td>\n",
       "      <td>1.0</td>\n",
       "      <td>2.0</td>\n",
       "      <td>5.0</td>\n",
       "      <td>4.0</td>\n",
       "      <td>9</td>\n",
       "      <td>6</td>\n",
       "      <td>10</td>\n",
       "    </tr>\n",
       "  </tbody>\n",
       "</table>\n",
       "</div>"
      ],
      "text/plain": [
       "  school sex paid activities  famrel  freetime  goout  Dalc  Walc  health  \\\n",
       "0     GP   F   no         no     4.0       3.0    4.0   1.0   1.0     3.0   \n",
       "1     GP   F   no         no     5.0       3.0    3.0   1.0   1.0     3.0   \n",
       "2     GP   F  yes         no     4.0       3.0    2.0   2.0   3.0     3.0   \n",
       "3     GP   F  yes        yes     3.0       2.0    2.0   1.0   1.0     5.0   \n",
       "4     GP   F  yes         no     4.0       3.0    2.0   1.0   2.0     5.0   \n",
       "\n",
       "   absences  grade  G1  G2  \n",
       "0       6.0      6   5   6  \n",
       "1       4.0      5   5   5  \n",
       "2      10.0      8   7   8  \n",
       "3       2.0     15  15  14  \n",
       "4       4.0      9   6  10  "
      ]
     },
     "execution_count": 2,
     "metadata": {},
     "output_type": "execute_result"
    }
   ],
   "source": [
    "# 데이터 불러와서 형태확인\n",
    "df = pd.read_csv('./data/student_data.csv')\n",
    "df.head()"
   ]
  },
  {
   "cell_type": "code",
   "execution_count": 3,
   "metadata": {},
   "outputs": [
    {
     "name": "stdout",
     "output_type": "stream",
     "text": [
      "<class 'pandas.core.frame.DataFrame'>\n",
      "RangeIndex: 395 entries, 0 to 394\n",
      "Data columns (total 14 columns):\n",
      " #   Column      Non-Null Count  Dtype  \n",
      "---  ------      --------------  -----  \n",
      " 0   school      395 non-null    object \n",
      " 1   sex         395 non-null    object \n",
      " 2   paid        395 non-null    object \n",
      " 3   activities  395 non-null    object \n",
      " 4   famrel      394 non-null    float64\n",
      " 5   freetime    393 non-null    float64\n",
      " 6   goout       392 non-null    float64\n",
      " 7   Dalc        391 non-null    float64\n",
      " 8   Walc        393 non-null    float64\n",
      " 9   health      391 non-null    float64\n",
      " 10  absences    392 non-null    float64\n",
      " 11  grade       395 non-null    int64  \n",
      " 12  G1          395 non-null    int64  \n",
      " 13  G2          395 non-null    int64  \n",
      "dtypes: float64(7), int64(3), object(4)\n",
      "memory usage: 43.3+ KB\n"
     ]
    }
   ],
   "source": [
    "# 데이터 타입확인\n",
    "df.info()"
   ]
  },
  {
   "cell_type": "code",
   "execution_count": 4,
   "metadata": {},
   "outputs": [
    {
     "data": {
      "text/plain": [
       "school        0\n",
       "sex           0\n",
       "paid          0\n",
       "activities    0\n",
       "famrel        1\n",
       "freetime      2\n",
       "goout         3\n",
       "Dalc          4\n",
       "Walc          2\n",
       "health        4\n",
       "absences      3\n",
       "grade         0\n",
       "G1            0\n",
       "G2            0\n",
       "dtype: int64"
      ]
     },
     "execution_count": 4,
     "metadata": {},
     "output_type": "execute_result"
    }
   ],
   "source": [
    "# 결측치 여부 확인\n",
    "df.isna().sum()"
   ]
  },
  {
   "cell_type": "code",
   "execution_count": 5,
   "metadata": {},
   "outputs": [
    {
     "data": {
      "text/plain": [
       "school        0.000000\n",
       "sex           0.000000\n",
       "paid          0.000000\n",
       "activities    0.000000\n",
       "famrel        0.002532\n",
       "freetime      0.005063\n",
       "goout         0.007595\n",
       "Dalc          0.010127\n",
       "Walc          0.005063\n",
       "health        0.010127\n",
       "absences      0.007595\n",
       "grade         0.000000\n",
       "G1            0.000000\n",
       "G2            0.000000\n",
       "dtype: float64"
      ]
     },
     "execution_count": 5,
     "metadata": {},
     "output_type": "execute_result"
    }
   ],
   "source": [
    "# 비중으로도 확인\n",
    "df.isna().sum()/len(df)"
   ]
  },
  {
   "cell_type": "code",
   "execution_count": 6,
   "metadata": {},
   "outputs": [
    {
     "name": "stdout",
     "output_type": "stream",
     "text": [
      "Index(['school', 'sex', 'paid', 'activities'], dtype='object')\n",
      "Index(['famrel', 'freetime', 'goout', 'Dalc', 'Walc', 'health', 'absences',\n",
      "       'grade', 'G1', 'G2'],\n",
      "      dtype='object')\n"
     ]
    }
   ],
   "source": [
    "# 범주형과 수치형부터 확인\n",
    "print(df.select_dtypes(object).columns)\n",
    "print(df.select_dtypes('number').columns)"
   ]
  },
  {
   "cell_type": "code",
   "execution_count": 7,
   "metadata": {},
   "outputs": [
    {
     "data": {
      "image/png": "[encoded data removed]",
      "text/plain": [
       "<Figure size 720x720 with 1 Axes>"
      ]
     },
     "metadata": {
      "needs_background": "light"
     },
     "output_type": "display_data"
    }
   ],
   "source": [
    "# grade 점수 분포 보기\n",
    "plt.figure(figsize=(10,10))\n",
    "ax = df['grade'].hist(bins=15)\n",
    "for p in ax.patches: # ax범주개수(bins수)만큼 루프를 돌려서, get_bbox로 각 범주의 x시작점, y시작점, x길이, y길이 를 뽑아냅니다. \n",
    "    left, bottom, width, height = p.get_bbox().bounds\n",
    "    ax.annotate(f\"{height:.1f}\", (left+width/2, height*1.01), ha='center') # ax.annotate(값, (x위치, y위치), horizontalarray= 'center')"
   ]
  },
  {
   "cell_type": "markdown",
   "metadata": {},
   "source": [
    "[판다스 그래프에 간단히 숫자 표시하기](https://dailyheumsi.tistory.com/98)"
   ]
  },
  {
   "cell_type": "code",
   "execution_count": 8,
   "metadata": {},
   "outputs": [
    {
     "data": {
      "text/plain": [
       "<AxesSubplot:>"
      ]
     },
     "execution_count": 8,
     "metadata": {},
     "output_type": "execute_result"
    },
    {
     "data": {
      "image/png": "[encoded data removed]",
      "text/plain": [
       "<Figure size 720x720 with 2 Axes>"
      ]
     },
     "metadata": {
      "needs_background": "light"
     },
     "output_type": "display_data"
    }
   ],
   "source": [
    "# 변수간 상관관계 보기\n",
    "plt.figure(figsize=(10,10))\n",
    "sns.heatmap(round(df.corr(),2),\n",
    "            annot=True,\n",
    "            cmap='YlOrRd',\n",
    "            linewidths= 2) # linewidths를 넣어줘서 더 보기 좋도록"
   ]
  },
  {
   "cell_type": "code",
   "execution_count": 9,
   "metadata": {},
   "outputs": [
    {
     "data": {
      "image/png": "[encoded data removed]",
      "text/plain": [
       "<Figure size 720x720 with 4 Axes>"
      ]
     },
     "metadata": {
      "needs_background": "light"
     },
     "output_type": "display_data"
    }
   ],
   "source": [
    "# 범주형 변수를 시각화 하여 확인하며, 비대칭 데이터는 아닌지 확인한다\n",
    "fig, axs = plt.subplots(2,2, figsize= (10,10))\n",
    "\n",
    "range_cols = df.select_dtypes(object).columns\n",
    "for i, c in enumerate(range_cols):\n",
    "        axs[i//2][i%2].bar(df[c].value_counts().index, df[c].value_counts().values, color='grey')\n",
    "        axs[i//2][i%2].set_title(c)\n",
    "        for ix, v in enumerate(df[c].value_counts().index): # 범주형인 x의 변수 갯수만큼 루프를 돌려서 plt.text(x위치, y위치, 값)으로 값을 그래프에 표시 가능합니다.\n",
    "                axs[i//2][i%2].text(v, df[c].value_counts().values[ix],df[c].value_counts().values[ix])"
   ]
  },
  {
   "cell_type": "code",
   "execution_count": null,
   "metadata": {},
   "outputs": [],
   "source": []
  },
  {
   "cell_type": "markdown",
   "metadata": {},
   "source": [
    "### 해석\n",
    "EDA를 진행하며 변수해석은 다음과 같이 6가지 정도로 할 수 있다.\n",
    "1. 데이터 타입 확인 : 범주형, 수치형 등 확인, object타입은 인코딩으로 변환 필요가 있어보임\n",
    "2. 결측치 존재여부 확인 : 4개의 변수에서 결측치가 존재하며 전체 변수에서 1% 내외임. float64 형태이므로 평균으로 대체하거나 KNN 사용할 수 있을 것으로 보임\n",
    "3. 종속변수 분포 : 정규분포 유사한 형태\n",
    "4. 종속변수와 독립변수의 상관관계 : 종속변수 grade와의 상관계수를 확인해보았을 때, 수치형 변수에서는 큰 상관성이 없었음. 파생변수 활용필요가 있어보임\n",
    "5. 독립변수 상관관계 : 독립변수끼리의 상관관계를 확인해본 결과 다중공산성을 걱정할 만큼(0.9이상) 독립변수 끼리의 상관성이 큰 변수는 보이지 않음\n",
    "6. 유의점 :독립변수 중 school의 경우 비대칭성이 있으므로 주의해야 한다."
   ]
  },
  {
   "cell_type": "markdown",
   "metadata": {},
   "source": [
    "## (2) 결측치를 식별 · 예측하는 두가지 방법을 쓰고 이를 선택한 방법을 설명하시오 (15분)"
   ]
  },
  {
   "cell_type": "code",
   "execution_count": 10,
   "metadata": {},
   "outputs": [
    {
     "data": {
      "text/html": [
       "<div>\n",
       "<style scoped>\n",
       "    .dataframe tbody tr th:only-of-type {\n",
       "        vertical-align: middle;\n",
       "    }\n",
       "\n",
       "    .dataframe tbody tr th {\n",
       "        vertical-align: top;\n",
       "    }\n",
       "\n",
       "    .dataframe thead th {\n",
       "        text-align: right;\n",
       "    }\n",
       "</style>\n",
       "<table border=\"1\" class=\"dataframe\">\n",
       "  <thead>\n",
       "    <tr style=\"text-align: right;\">\n",
       "      <th></th>\n",
       "      <th>school</th>\n",
       "      <th>sex</th>\n",
       "      <th>paid</th>\n",
       "      <th>activities</th>\n",
       "      <th>famrel</th>\n",
       "      <th>freetime</th>\n",
       "      <th>goout</th>\n",
       "      <th>Dalc</th>\n",
       "      <th>Walc</th>\n",
       "      <th>health</th>\n",
       "      <th>absences</th>\n",
       "      <th>grade</th>\n",
       "      <th>G1</th>\n",
       "      <th>G2</th>\n",
       "    </tr>\n",
       "  </thead>\n",
       "  <tbody>\n",
       "    <tr>\n",
       "      <th>9</th>\n",
       "      <td>GP</td>\n",
       "      <td>M</td>\n",
       "      <td>yes</td>\n",
       "      <td>yes</td>\n",
       "      <td>5.0</td>\n",
       "      <td>5.0</td>\n",
       "      <td>NaN</td>\n",
       "      <td>1.0</td>\n",
       "      <td>1.0</td>\n",
       "      <td>5.0</td>\n",
       "      <td>0.0</td>\n",
       "      <td>15</td>\n",
       "      <td>14</td>\n",
       "      <td>15</td>\n",
       "    </tr>\n",
       "    <tr>\n",
       "      <th>14</th>\n",
       "      <td>GP</td>\n",
       "      <td>M</td>\n",
       "      <td>no</td>\n",
       "      <td>no</td>\n",
       "      <td>NaN</td>\n",
       "      <td>5.0</td>\n",
       "      <td>2.0</td>\n",
       "      <td>1.0</td>\n",
       "      <td>1.0</td>\n",
       "      <td>3.0</td>\n",
       "      <td>0.0</td>\n",
       "      <td>15</td>\n",
       "      <td>14</td>\n",
       "      <td>16</td>\n",
       "    </tr>\n",
       "    <tr>\n",
       "      <th>15</th>\n",
       "      <td>GP</td>\n",
       "      <td>F</td>\n",
       "      <td>no</td>\n",
       "      <td>no</td>\n",
       "      <td>4.0</td>\n",
       "      <td>4.0</td>\n",
       "      <td>4.0</td>\n",
       "      <td>1.0</td>\n",
       "      <td>2.0</td>\n",
       "      <td>2.0</td>\n",
       "      <td>NaN</td>\n",
       "      <td>14</td>\n",
       "      <td>14</td>\n",
       "      <td>14</td>\n",
       "    </tr>\n",
       "    <tr>\n",
       "      <th>25</th>\n",
       "      <td>GP</td>\n",
       "      <td>F</td>\n",
       "      <td>yes</td>\n",
       "      <td>no</td>\n",
       "      <td>1.0</td>\n",
       "      <td>2.0</td>\n",
       "      <td>2.0</td>\n",
       "      <td>1.0</td>\n",
       "      <td>NaN</td>\n",
       "      <td>5.0</td>\n",
       "      <td>14.0</td>\n",
       "      <td>8</td>\n",
       "      <td>6</td>\n",
       "      <td>9</td>\n",
       "    </tr>\n",
       "    <tr>\n",
       "      <th>39</th>\n",
       "      <td>GP</td>\n",
       "      <td>F</td>\n",
       "      <td>yes</td>\n",
       "      <td>yes</td>\n",
       "      <td>4.0</td>\n",
       "      <td>3.0</td>\n",
       "      <td>1.0</td>\n",
       "      <td>1.0</td>\n",
       "      <td>1.0</td>\n",
       "      <td>NaN</td>\n",
       "      <td>8.0</td>\n",
       "      <td>13</td>\n",
       "      <td>14</td>\n",
       "      <td>13</td>\n",
       "    </tr>\n",
       "    <tr>\n",
       "      <th>40</th>\n",
       "      <td>GP</td>\n",
       "      <td>F</td>\n",
       "      <td>no</td>\n",
       "      <td>yes</td>\n",
       "      <td>3.0</td>\n",
       "      <td>3.0</td>\n",
       "      <td>NaN</td>\n",
       "      <td>1.0</td>\n",
       "      <td>2.0</td>\n",
       "      <td>3.0</td>\n",
       "      <td>25.0</td>\n",
       "      <td>9</td>\n",
       "      <td>7</td>\n",
       "      <td>10</td>\n",
       "    </tr>\n",
       "    <tr>\n",
       "      <th>49</th>\n",
       "      <td>GP</td>\n",
       "      <td>F</td>\n",
       "      <td>no</td>\n",
       "      <td>yes</td>\n",
       "      <td>4.0</td>\n",
       "      <td>4.0</td>\n",
       "      <td>4.0</td>\n",
       "      <td>1.0</td>\n",
       "      <td>1.0</td>\n",
       "      <td>NaN</td>\n",
       "      <td>2.0</td>\n",
       "      <td>7</td>\n",
       "      <td>7</td>\n",
       "      <td>7</td>\n",
       "    </tr>\n",
       "    <tr>\n",
       "      <th>61</th>\n",
       "      <td>GP</td>\n",
       "      <td>F</td>\n",
       "      <td>no</td>\n",
       "      <td>yes</td>\n",
       "      <td>5.0</td>\n",
       "      <td>5.0</td>\n",
       "      <td>5.0</td>\n",
       "      <td>NaN</td>\n",
       "      <td>5.0</td>\n",
       "      <td>5.0</td>\n",
       "      <td>6.0</td>\n",
       "      <td>10</td>\n",
       "      <td>10</td>\n",
       "      <td>8</td>\n",
       "    </tr>\n",
       "    <tr>\n",
       "      <th>71</th>\n",
       "      <td>GP</td>\n",
       "      <td>M</td>\n",
       "      <td>no</td>\n",
       "      <td>no</td>\n",
       "      <td>3.0</td>\n",
       "      <td>3.0</td>\n",
       "      <td>3.0</td>\n",
       "      <td>NaN</td>\n",
       "      <td>1.0</td>\n",
       "      <td>3.0</td>\n",
       "      <td>0.0</td>\n",
       "      <td>10</td>\n",
       "      <td>10</td>\n",
       "      <td>10</td>\n",
       "    </tr>\n",
       "    <tr>\n",
       "      <th>82</th>\n",
       "      <td>GP</td>\n",
       "      <td>F</td>\n",
       "      <td>yes</td>\n",
       "      <td>no</td>\n",
       "      <td>4.0</td>\n",
       "      <td>4.0</td>\n",
       "      <td>4.0</td>\n",
       "      <td>1.0</td>\n",
       "      <td>1.0</td>\n",
       "      <td>5.0</td>\n",
       "      <td>NaN</td>\n",
       "      <td>6</td>\n",
       "      <td>7</td>\n",
       "      <td>6</td>\n",
       "    </tr>\n",
       "    <tr>\n",
       "      <th>89</th>\n",
       "      <td>GP</td>\n",
       "      <td>M</td>\n",
       "      <td>no</td>\n",
       "      <td>no</td>\n",
       "      <td>4.0</td>\n",
       "      <td>1.0</td>\n",
       "      <td>3.0</td>\n",
       "      <td>NaN</td>\n",
       "      <td>5.0</td>\n",
       "      <td>5.0</td>\n",
       "      <td>18.0</td>\n",
       "      <td>7</td>\n",
       "      <td>8</td>\n",
       "      <td>6</td>\n",
       "    </tr>\n",
       "    <tr>\n",
       "      <th>98</th>\n",
       "      <td>GP</td>\n",
       "      <td>F</td>\n",
       "      <td>no</td>\n",
       "      <td>yes</td>\n",
       "      <td>5.0</td>\n",
       "      <td>3.0</td>\n",
       "      <td>4.0</td>\n",
       "      <td>1.0</td>\n",
       "      <td>2.0</td>\n",
       "      <td>NaN</td>\n",
       "      <td>6.0</td>\n",
       "      <td>13</td>\n",
       "      <td>11</td>\n",
       "      <td>14</td>\n",
       "    </tr>\n",
       "    <tr>\n",
       "      <th>111</th>\n",
       "      <td>GP</td>\n",
       "      <td>F</td>\n",
       "      <td>no</td>\n",
       "      <td>yes</td>\n",
       "      <td>4.0</td>\n",
       "      <td>NaN</td>\n",
       "      <td>2.0</td>\n",
       "      <td>NaN</td>\n",
       "      <td>1.0</td>\n",
       "      <td>2.0</td>\n",
       "      <td>0.0</td>\n",
       "      <td>9</td>\n",
       "      <td>7</td>\n",
       "      <td>10</td>\n",
       "    </tr>\n",
       "    <tr>\n",
       "      <th>123</th>\n",
       "      <td>GP</td>\n",
       "      <td>M</td>\n",
       "      <td>no</td>\n",
       "      <td>yes</td>\n",
       "      <td>3.0</td>\n",
       "      <td>4.0</td>\n",
       "      <td>4.0</td>\n",
       "      <td>1.0</td>\n",
       "      <td>NaN</td>\n",
       "      <td>5.0</td>\n",
       "      <td>18.0</td>\n",
       "      <td>13</td>\n",
       "      <td>14</td>\n",
       "      <td>11</td>\n",
       "    </tr>\n",
       "    <tr>\n",
       "      <th>124</th>\n",
       "      <td>GP</td>\n",
       "      <td>F</td>\n",
       "      <td>yes</td>\n",
       "      <td>no</td>\n",
       "      <td>5.0</td>\n",
       "      <td>NaN</td>\n",
       "      <td>4.0</td>\n",
       "      <td>1.0</td>\n",
       "      <td>1.0</td>\n",
       "      <td>5.0</td>\n",
       "      <td>0.0</td>\n",
       "      <td>8</td>\n",
       "      <td>8</td>\n",
       "      <td>7</td>\n",
       "    </tr>\n",
       "    <tr>\n",
       "      <th>142</th>\n",
       "      <td>GP</td>\n",
       "      <td>F</td>\n",
       "      <td>yes</td>\n",
       "      <td>yes</td>\n",
       "      <td>4.0</td>\n",
       "      <td>2.0</td>\n",
       "      <td>2.0</td>\n",
       "      <td>1.0</td>\n",
       "      <td>1.0</td>\n",
       "      <td>NaN</td>\n",
       "      <td>2.0</td>\n",
       "      <td>10</td>\n",
       "      <td>9</td>\n",
       "      <td>11</td>\n",
       "    </tr>\n",
       "    <tr>\n",
       "      <th>201</th>\n",
       "      <td>GP</td>\n",
       "      <td>F</td>\n",
       "      <td>yes</td>\n",
       "      <td>yes</td>\n",
       "      <td>4.0</td>\n",
       "      <td>4.0</td>\n",
       "      <td>NaN</td>\n",
       "      <td>1.0</td>\n",
       "      <td>3.0</td>\n",
       "      <td>4.0</td>\n",
       "      <td>6.0</td>\n",
       "      <td>9</td>\n",
       "      <td>8</td>\n",
       "      <td>10</td>\n",
       "    </tr>\n",
       "    <tr>\n",
       "      <th>225</th>\n",
       "      <td>GP</td>\n",
       "      <td>F</td>\n",
       "      <td>no</td>\n",
       "      <td>yes</td>\n",
       "      <td>5.0</td>\n",
       "      <td>3.0</td>\n",
       "      <td>3.0</td>\n",
       "      <td>1.0</td>\n",
       "      <td>1.0</td>\n",
       "      <td>4.0</td>\n",
       "      <td>NaN</td>\n",
       "      <td>8</td>\n",
       "      <td>9</td>\n",
       "      <td>8</td>\n",
       "    </tr>\n",
       "  </tbody>\n",
       "</table>\n",
       "</div>"
      ],
      "text/plain": [
       "    school sex paid activities  famrel  freetime  goout  Dalc  Walc  health  \\\n",
       "9       GP   M  yes        yes     5.0       5.0    NaN   1.0   1.0     5.0   \n",
       "14      GP   M   no         no     NaN       5.0    2.0   1.0   1.0     3.0   \n",
       "15      GP   F   no         no     4.0       4.0    4.0   1.0   2.0     2.0   \n",
       "25      GP   F  yes         no     1.0       2.0    2.0   1.0   NaN     5.0   \n",
       "39      GP   F  yes        yes     4.0       3.0    1.0   1.0   1.0     NaN   \n",
       "40      GP   F   no        yes     3.0       3.0    NaN   1.0   2.0     3.0   \n",
       "49      GP   F   no        yes     4.0       4.0    4.0   1.0   1.0     NaN   \n",
       "61      GP   F   no        yes     5.0       5.0    5.0   NaN   5.0     5.0   \n",
       "71      GP   M   no         no     3.0       3.0    3.0   NaN   1.0     3.0   \n",
       "82      GP   F  yes         no     4.0       4.0    4.0   1.0   1.0     5.0   \n",
       "89      GP   M   no         no     4.0       1.0    3.0   NaN   5.0     5.0   \n",
       "98      GP   F   no        yes     5.0       3.0    4.0   1.0   2.0     NaN   \n",
       "111     GP   F   no        yes     4.0       NaN    2.0   NaN   1.0     2.0   \n",
       "123     GP   M   no        yes     3.0       4.0    4.0   1.0   NaN     5.0   \n",
       "124     GP   F  yes         no     5.0       NaN    4.0   1.0   1.0     5.0   \n",
       "142     GP   F  yes        yes     4.0       2.0    2.0   1.0   1.0     NaN   \n",
       "201     GP   F  yes        yes     4.0       4.0    NaN   1.0   3.0     4.0   \n",
       "225     GP   F   no        yes     5.0       3.0    3.0   1.0   1.0     4.0   \n",
       "\n",
       "     absences  grade  G1  G2  \n",
       "9         0.0     15  14  15  \n",
       "14        0.0     15  14  16  \n",
       "15        NaN     14  14  14  \n",
       "25       14.0      8   6   9  \n",
       "39        8.0     13  14  13  \n",
       "40       25.0      9   7  10  \n",
       "49        2.0      7   7   7  \n",
       "61        6.0     10  10   8  \n",
       "71        0.0     10  10  10  \n",
       "82        NaN      6   7   6  \n",
       "89       18.0      7   8   6  \n",
       "98        6.0     13  11  14  \n",
       "111       0.0      9   7  10  \n",
       "123      18.0     13  14  11  \n",
       "124       0.0      8   8   7  \n",
       "142       2.0     10   9  11  \n",
       "201       6.0      9   8  10  \n",
       "225       NaN      8   9   8  "
      ]
     },
     "execution_count": 10,
     "metadata": {},
     "output_type": "execute_result"
    }
   ],
   "source": [
    "# 결측치가 있는 데이터 전체를 확인한다.\n",
    "df[df.isna().any(axis=1)]"
   ]
  },
  {
   "cell_type": "markdown",
   "metadata": {},
   "source": [
    "결측치를 식별 예측하는 방법으로는 1) 단순대치법 과 2) KNN을 활용한 결측치 대체가 있다.\n",
    "1) 단순대치법 : 수치형 변수인 경우는 평균이나 중앙값을, 범주형은 최빈값을 사용하여 대치\n",
    "2) KNN대치법 : 결측치가 없는 최근접 이웃 알고리즘을 통해 결측치가 없는 데이터를 대체한다. 단 계산이 가능한 수치형변수만 사용 가능."
   ]
  },
  {
   "cell_type": "code",
   "execution_count": 11,
   "metadata": {},
   "outputs": [
    {
     "data": {
      "text/plain": [
       "school        0\n",
       "sex           0\n",
       "paid          0\n",
       "activities    0\n",
       "famrel        0\n",
       "freetime      0\n",
       "goout         0\n",
       "Dalc          0\n",
       "Walc          0\n",
       "health        0\n",
       "absences      0\n",
       "grade         0\n",
       "G1            0\n",
       "G2            0\n",
       "dtype: int64"
      ]
     },
     "execution_count": 11,
     "metadata": {},
     "output_type": "execute_result"
    }
   ],
   "source": [
    "# KNN을 이용한 대체를 적용해본다\n",
    "from sklearn.impute import KNNImputer\n",
    "\n",
    "# 결측치가 있는 수치형 데이터만을 추출\n",
    "knn_df = df[df.columns.difference(range_cols)]\n",
    "\n",
    "# 모델링\n",
    "imputer = KNNImputer(n_neighbors=2)\n",
    "filled_df = imputer.fit_transform(knn_df)\n",
    "filled_df = pd.DataFrame(filled_df, columns= knn_df.columns)\n",
    "df[knn_df.columns] = filled_df\n",
    "df.isna().sum()"
   ]
  },
  {
   "cell_type": "markdown",
   "metadata": {},
   "source": [
    "KNN기법을 통해 모든 결측치를 대체하였다"
   ]
  },
  {
   "cell_type": "markdown",
   "metadata": {},
   "source": [
    "## (3) 범주형 변수 인코딩이 필요한 경우를 식별하고, 변환을 적용하시오. (15분)"
   ]
  },
  {
   "cell_type": "markdown",
   "metadata": {},
   "source": [
    "범주형 변수가 모두 이산형 변수이므로 boolean 타입으로 변경하여, 머신러닝에서 변수 사용을 가능하도록 변환한다. 판다스의 get_dummies를 활용"
   ]
  },
  {
   "cell_type": "code",
   "execution_count": 12,
   "metadata": {},
   "outputs": [
    {
     "data": {
      "text/html": [
       "<div>\n",
       "<style scoped>\n",
       "    .dataframe tbody tr th:only-of-type {\n",
       "        vertical-align: middle;\n",
       "    }\n",
       "\n",
       "    .dataframe tbody tr th {\n",
       "        vertical-align: top;\n",
       "    }\n",
       "\n",
       "    .dataframe thead th {\n",
       "        text-align: right;\n",
       "    }\n",
       "</style>\n",
       "<table border=\"1\" class=\"dataframe\">\n",
       "  <thead>\n",
       "    <tr style=\"text-align: right;\">\n",
       "      <th></th>\n",
       "      <th>famrel</th>\n",
       "      <th>freetime</th>\n",
       "      <th>goout</th>\n",
       "      <th>Dalc</th>\n",
       "      <th>Walc</th>\n",
       "      <th>health</th>\n",
       "      <th>absences</th>\n",
       "      <th>grade</th>\n",
       "      <th>G1</th>\n",
       "      <th>G2</th>\n",
       "      <th>school_MS</th>\n",
       "      <th>sex_M</th>\n",
       "      <th>paid_yes</th>\n",
       "      <th>activities_yes</th>\n",
       "    </tr>\n",
       "  </thead>\n",
       "  <tbody>\n",
       "    <tr>\n",
       "      <th>0</th>\n",
       "      <td>4.0</td>\n",
       "      <td>3.0</td>\n",
       "      <td>4.0</td>\n",
       "      <td>1.0</td>\n",
       "      <td>1.0</td>\n",
       "      <td>3.0</td>\n",
       "      <td>6.0</td>\n",
       "      <td>6.0</td>\n",
       "      <td>5.0</td>\n",
       "      <td>6.0</td>\n",
       "      <td>0</td>\n",
       "      <td>0</td>\n",
       "      <td>0</td>\n",
       "      <td>0</td>\n",
       "    </tr>\n",
       "    <tr>\n",
       "      <th>1</th>\n",
       "      <td>5.0</td>\n",
       "      <td>3.0</td>\n",
       "      <td>3.0</td>\n",
       "      <td>1.0</td>\n",
       "      <td>1.0</td>\n",
       "      <td>3.0</td>\n",
       "      <td>4.0</td>\n",
       "      <td>5.0</td>\n",
       "      <td>5.0</td>\n",
       "      <td>5.0</td>\n",
       "      <td>0</td>\n",
       "      <td>0</td>\n",
       "      <td>0</td>\n",
       "      <td>0</td>\n",
       "    </tr>\n",
       "    <tr>\n",
       "      <th>2</th>\n",
       "      <td>4.0</td>\n",
       "      <td>3.0</td>\n",
       "      <td>2.0</td>\n",
       "      <td>2.0</td>\n",
       "      <td>3.0</td>\n",
       "      <td>3.0</td>\n",
       "      <td>10.0</td>\n",
       "      <td>8.0</td>\n",
       "      <td>7.0</td>\n",
       "      <td>8.0</td>\n",
       "      <td>0</td>\n",
       "      <td>0</td>\n",
       "      <td>1</td>\n",
       "      <td>0</td>\n",
       "    </tr>\n",
       "    <tr>\n",
       "      <th>3</th>\n",
       "      <td>3.0</td>\n",
       "      <td>2.0</td>\n",
       "      <td>2.0</td>\n",
       "      <td>1.0</td>\n",
       "      <td>1.0</td>\n",
       "      <td>5.0</td>\n",
       "      <td>2.0</td>\n",
       "      <td>15.0</td>\n",
       "      <td>15.0</td>\n",
       "      <td>14.0</td>\n",
       "      <td>0</td>\n",
       "      <td>0</td>\n",
       "      <td>1</td>\n",
       "      <td>1</td>\n",
       "    </tr>\n",
       "    <tr>\n",
       "      <th>4</th>\n",
       "      <td>4.0</td>\n",
       "      <td>3.0</td>\n",
       "      <td>2.0</td>\n",
       "      <td>1.0</td>\n",
       "      <td>2.0</td>\n",
       "      <td>5.0</td>\n",
       "      <td>4.0</td>\n",
       "      <td>9.0</td>\n",
       "      <td>6.0</td>\n",
       "      <td>10.0</td>\n",
       "      <td>0</td>\n",
       "      <td>0</td>\n",
       "      <td>1</td>\n",
       "      <td>0</td>\n",
       "    </tr>\n",
       "  </tbody>\n",
       "</table>\n",
       "</div>"
      ],
      "text/plain": [
       "   famrel  freetime  goout  Dalc  Walc  health  absences  grade    G1    G2  \\\n",
       "0     4.0       3.0    4.0   1.0   1.0     3.0       6.0    6.0   5.0   6.0   \n",
       "1     5.0       3.0    3.0   1.0   1.0     3.0       4.0    5.0   5.0   5.0   \n",
       "2     4.0       3.0    2.0   2.0   3.0     3.0      10.0    8.0   7.0   8.0   \n",
       "3     3.0       2.0    2.0   1.0   1.0     5.0       2.0   15.0  15.0  14.0   \n",
       "4     4.0       3.0    2.0   1.0   2.0     5.0       4.0    9.0   6.0  10.0   \n",
       "\n",
       "   school_MS  sex_M  paid_yes  activities_yes  \n",
       "0          0      0         0               0  \n",
       "1          0      0         0               0  \n",
       "2          0      0         1               0  \n",
       "3          0      0         1               1  \n",
       "4          0      0         1               0  "
      ]
     },
     "execution_count": 12,
     "metadata": {},
     "output_type": "execute_result"
    }
   ],
   "source": [
    "df = pd.get_dummies(df, range_cols, drop_first= True)\n",
    "df.head()"
   ]
  },
  {
   "cell_type": "markdown",
   "metadata": {},
   "source": [
    "## (4) 데이터 분할 방법을 2가지 쓰고 적절한 데이터 분할을 적용하시오. <br> 이를 선택한 이유를 설명하시오 (15분)"
   ]
  },
  {
   "cell_type": "markdown",
   "metadata": {},
   "source": [
    "데이터 분할 기법으로는 무작위로 분할하는 랜덤분할 방식, 범주형 종속변수 대상으로는 종속변수 클래스의 비율을 기준으로 학습용데이터, 테스트용 데이터의 비율을 동일하게 분할하는 층화추출방식이 있다. <br>\n",
    "해당 데이터는 종속변수가 연속형 · 수치형으로 회귀분석을 사용한다. 따라서 랜덤분할 방식을 써도 무방하다."
   ]
  },
  {
   "cell_type": "code",
   "execution_count": 13,
   "metadata": {},
   "outputs": [
    {
     "name": "stdout",
     "output_type": "stream",
     "text": [
      "(276, 13) (119, 13) (276,) (119,)\n"
     ]
    }
   ],
   "source": [
    "from sklearn.model_selection import train_test_split\n",
    "\n",
    "X = df.drop('grade', axis=1)\n",
    "y = df['grade']\n",
    "\n",
    "X_train, X_test, y_train, y_test = train_test_split(X, y,\n",
    "                                                    test_size= 0.3,\n",
    "                                                    random_state=1)\n",
    "print(X_train.shape, X_test.shape, y_train.shape, y_test.shape)"
   ]
  },
  {
   "cell_type": "markdown",
   "metadata": {},
   "source": [
    "## (5) svm, xgboost, randomforest 3개의 알고리즘의 공통점을 쓰고 학생성적 예측분석에 적합한 알고리즘인지 설명하시오 [15분]"
   ]
  },
  {
   "cell_type": "markdown",
   "metadata": {},
   "source": [
    "3개 알고리즘의 공통점은 다음과 같다.<br>\n",
    "1. 회귀분석과 분류분석을 모두 할 수 있는 분석 알고리즘이다.\n",
    "2. 모두 범주형 변수를 독립변수로 사용할 수 없어 변환을 해주어야 한다.\n",
    "3. 과대적합, 과소적합을 회하기 위한 매개변수의 설정이 필요하다.\n",
    "4. 회귀분석에서 다중공산성의 문제를 해결할 수 있다.\n",
    "<br><br>\n",
    "해당 데이터에서는 얀속형 종속변수이므로 회귀분석이 적합하다. 회귀분석에서 다중공산성을 해결\n"
   ]
  },
  {
   "cell_type": "markdown",
   "metadata": {},
   "source": [
    "## (6) 세가지 모델 모두 모델링 해보고 가장 적합한 알고리즘을 선택하시오. 이를 선택한 이유와 모델의 한계점, 보완가능한 부분을 설명하고, 현업에서 주의할 점에 대해 기술하시오 [30분]"
   ]
  },
  {
   "cell_type": "code",
   "execution_count": 14,
   "metadata": {},
   "outputs": [
    {
     "name": "stdout",
     "output_type": "stream",
     "text": [
      "Requirement already satisfied: xgboost in c:\\dev\\miniconda\\envs\\py38\\lib\\site-packages (1.7.1)\n",
      "Requirement already satisfied: scipy in c:\\dev\\miniconda\\envs\\py38\\lib\\site-packages (from xgboost) (1.9.0)\n",
      "Requirement already satisfied: numpy in c:\\dev\\miniconda\\envs\\py38\\lib\\site-packages (from xgboost) (1.23.2)\n"
     ]
    }
   ],
   "source": [
    "!pip install xgboost"
   ]
  },
  {
   "cell_type": "code",
   "execution_count": 29,
   "metadata": {},
   "outputs": [
    {
     "data": {
      "text/html": [
       "<div>\n",
       "<style scoped>\n",
       "    .dataframe tbody tr th:only-of-type {\n",
       "        vertical-align: middle;\n",
       "    }\n",
       "\n",
       "    .dataframe tbody tr th {\n",
       "        vertical-align: top;\n",
       "    }\n",
       "\n",
       "    .dataframe thead th {\n",
       "        text-align: right;\n",
       "    }\n",
       "</style>\n",
       "<table border=\"1\" class=\"dataframe\">\n",
       "  <thead>\n",
       "    <tr style=\"text-align: right;\">\n",
       "      <th></th>\n",
       "      <th>C</th>\n",
       "      <th>gamma</th>\n",
       "      <th>mean_test_score</th>\n",
       "    </tr>\n",
       "  </thead>\n",
       "  <tbody>\n",
       "    <tr>\n",
       "      <th>15</th>\n",
       "      <td>100.0</td>\n",
       "      <td>0.001</td>\n",
       "      <td>0.960851</td>\n",
       "    </tr>\n",
       "    <tr>\n",
       "      <th>11</th>\n",
       "      <td>10.0</td>\n",
       "      <td>0.010</td>\n",
       "      <td>0.955432</td>\n",
       "    </tr>\n",
       "    <tr>\n",
       "      <th>16</th>\n",
       "      <td>100.0</td>\n",
       "      <td>0.010</td>\n",
       "      <td>0.947585</td>\n",
       "    </tr>\n",
       "    <tr>\n",
       "      <th>10</th>\n",
       "      <td>10.0</td>\n",
       "      <td>0.001</td>\n",
       "      <td>0.938622</td>\n",
       "    </tr>\n",
       "    <tr>\n",
       "      <th>6</th>\n",
       "      <td>1.0</td>\n",
       "      <td>0.010</td>\n",
       "      <td>0.917604</td>\n",
       "    </tr>\n",
       "    <tr>\n",
       "      <th>12</th>\n",
       "      <td>10.0</td>\n",
       "      <td>0.100</td>\n",
       "      <td>0.878451</td>\n",
       "    </tr>\n",
       "    <tr>\n",
       "      <th>17</th>\n",
       "      <td>100.0</td>\n",
       "      <td>0.100</td>\n",
       "      <td>0.873963</td>\n",
       "    </tr>\n",
       "    <tr>\n",
       "      <th>7</th>\n",
       "      <td>1.0</td>\n",
       "      <td>0.100</td>\n",
       "      <td>0.805831</td>\n",
       "    </tr>\n",
       "    <tr>\n",
       "      <th>5</th>\n",
       "      <td>1.0</td>\n",
       "      <td>0.001</td>\n",
       "      <td>0.293223</td>\n",
       "    </tr>\n",
       "    <tr>\n",
       "      <th>2</th>\n",
       "      <td>0.1</td>\n",
       "      <td>0.100</td>\n",
       "      <td>0.288421</td>\n",
       "    </tr>\n",
       "    <tr>\n",
       "      <th>1</th>\n",
       "      <td>0.1</td>\n",
       "      <td>0.010</td>\n",
       "      <td>0.230370</td>\n",
       "    </tr>\n",
       "    <tr>\n",
       "      <th>13</th>\n",
       "      <td>10.0</td>\n",
       "      <td>1.000</td>\n",
       "      <td>0.095139</td>\n",
       "    </tr>\n",
       "    <tr>\n",
       "      <th>18</th>\n",
       "      <td>100.0</td>\n",
       "      <td>1.000</td>\n",
       "      <td>0.095139</td>\n",
       "    </tr>\n",
       "    <tr>\n",
       "      <th>0</th>\n",
       "      <td>0.1</td>\n",
       "      <td>0.001</td>\n",
       "      <td>0.022557</td>\n",
       "    </tr>\n",
       "    <tr>\n",
       "      <th>8</th>\n",
       "      <td>1.0</td>\n",
       "      <td>1.000</td>\n",
       "      <td>0.022019</td>\n",
       "    </tr>\n",
       "    <tr>\n",
       "      <th>14</th>\n",
       "      <td>10.0</td>\n",
       "      <td>10.000</td>\n",
       "      <td>-0.005199</td>\n",
       "    </tr>\n",
       "    <tr>\n",
       "      <th>19</th>\n",
       "      <td>100.0</td>\n",
       "      <td>10.000</td>\n",
       "      <td>-0.005199</td>\n",
       "    </tr>\n",
       "    <tr>\n",
       "      <th>3</th>\n",
       "      <td>0.1</td>\n",
       "      <td>1.000</td>\n",
       "      <td>-0.006824</td>\n",
       "    </tr>\n",
       "    <tr>\n",
       "      <th>4</th>\n",
       "      <td>0.1</td>\n",
       "      <td>10.000</td>\n",
       "      <td>-0.010403</td>\n",
       "    </tr>\n",
       "    <tr>\n",
       "      <th>9</th>\n",
       "      <td>1.0</td>\n",
       "      <td>10.000</td>\n",
       "      <td>-0.011224</td>\n",
       "    </tr>\n",
       "  </tbody>\n",
       "</table>\n",
       "</div>"
      ],
      "text/plain": [
       "        C   gamma  mean_test_score\n",
       "15  100.0   0.001         0.960851\n",
       "11   10.0   0.010         0.955432\n",
       "16  100.0   0.010         0.947585\n",
       "10   10.0   0.001         0.938622\n",
       "6     1.0   0.010         0.917604\n",
       "12   10.0   0.100         0.878451\n",
       "17  100.0   0.100         0.873963\n",
       "7     1.0   0.100         0.805831\n",
       "5     1.0   0.001         0.293223\n",
       "2     0.1   0.100         0.288421\n",
       "1     0.1   0.010         0.230370\n",
       "13   10.0   1.000         0.095139\n",
       "18  100.0   1.000         0.095139\n",
       "0     0.1   0.001         0.022557\n",
       "8     1.0   1.000         0.022019\n",
       "14   10.0  10.000        -0.005199\n",
       "19  100.0  10.000        -0.005199\n",
       "3     0.1   1.000        -0.006824\n",
       "4     0.1  10.000        -0.010403\n",
       "9     1.0  10.000        -0.011224"
      ]
     },
     "execution_count": 29,
     "metadata": {},
     "output_type": "execute_result"
    }
   ],
   "source": [
    "from sklearn.svm import SVR\n",
    "from sklearn.ensemble import RandomForestRegressor\n",
    "from xgboost import XGBRegressor\n",
    "from sklearn.preprocessing import StandardScaler\n",
    "from sklearn.metrics import mean_squared_error\n",
    "from sklearn.model_selection import GridSearchCV\n",
    "\n",
    "scaler = StandardScaler()\n",
    "X_train_scaled = pd.DataFrame(scaler.fit_transform(X_train),columns = X_train.columns)\n",
    "X_test_scaled = pd.DataFrame(scaler.fit_transform(X_test),columns = X_test.columns)\n",
    "\n",
    "# svm\n",
    "param_grid = [\n",
    "    {'C':[0.1,1,10,100],'gamma':[0.001, 0.01, 0.1, 1, 10]}\n",
    "    ]\n",
    "\n",
    "grid_svm = GridSearchCV(SVR(), param_grid = param_grid, cv=5)\n",
    "grid_svm.fit(X_train_scaled, y_train)\n",
    "\n",
    "result = pd.DataFrame(grid_svm.cv_results_['params'])\n",
    "result['mean_test_score'] = grid_svm.cv_results_['mean_test_score']\n",
    "result.sort_values('mean_test_score', ascending = False)\n",
    "\n",
    "\n"
   ]
  },
  {
   "cell_type": "code",
   "execution_count": 16,
   "metadata": {},
   "outputs": [
    {
     "name": "stdout",
     "output_type": "stream",
     "text": [
      "R2: 0.9303193307393616\n",
      "RMSE: 0.875540411477529\n"
     ]
    }
   ],
   "source": [
    "svr = SVR(C=100, gamma=0.001)\n",
    "svr.fit(X_train_scaled, y_train)\n",
    "\n",
    "print('R2:', svr.score(X_test_scaled, y_test))\n",
    "print('RMSE:',np.sqrt(mean_squared_error(y_test, svr.predict(X_test_scaled))))"
   ]
  },
  {
   "cell_type": "code",
   "execution_count": 17,
   "metadata": {},
   "outputs": [
    {
     "name": "stdout",
     "output_type": "stream",
     "text": [
      "R2: 0.9250527402030821\n",
      "RMSE: 0.9080252366905524\n"
     ]
    }
   ],
   "source": [
    "# random forest regression\n",
    "\n",
    "rf_grid = [\n",
    "    {'max_depth':[2,4,6,8,10], 'min_samples_split':[2, 4, 6, 8, 10]}\n",
    "]\n",
    "\n",
    "rf = GridSearchCV(RandomForestRegressor(n_estimators=100),param_grid=rf_grid, cv=5)\n",
    "rf.fit(X_train_scaled, y_train)\n",
    "rf.best_params_\n",
    "\n",
    "print('R2:', rf.score(X_test_scaled, y_test))\n",
    "print('RMSE:',np.sqrt(mean_squared_error(y_test, rf.predict(X_test_scaled))))"
   ]
  },
  {
   "cell_type": "code",
   "execution_count": 33,
   "metadata": {},
   "outputs": [
    {
     "name": "stdout",
     "output_type": "stream",
     "text": [
      "R2: 0.9216718150480331\n",
      "RMSE: 0.928280165632204\n"
     ]
    }
   ],
   "source": [
    "# xgboost\n",
    "xgb_grid =[\n",
    "    {'max_depth':[2,4,6,8,10]}\n",
    "]\n",
    "xgb = GridSearchCV(XGBRegressor(n_estimators = 1000), param_grid= xgb_grid, cv=5)\n",
    "xgb.fit(X_train_scaled, y_train)\n",
    "xgb.best_params_\n",
    "\n",
    "print('R2:',xgb.score(X_test_scaled, y_test))\n",
    "print('RMSE:',np.sqrt(mean_squared_error(y_test, xgb.predict(X_test_scaled))))\n"
   ]
  },
  {
   "cell_type": "code",
   "execution_count": 19,
   "metadata": {},
   "outputs": [
    {
     "data": {
      "text/html": [
       "<div>\n",
       "<style scoped>\n",
       "    .dataframe tbody tr th:only-of-type {\n",
       "        vertical-align: middle;\n",
       "    }\n",
       "\n",
       "    .dataframe tbody tr th {\n",
       "        vertical-align: top;\n",
       "    }\n",
       "\n",
       "    .dataframe thead th {\n",
       "        text-align: right;\n",
       "    }\n",
       "</style>\n",
       "<table border=\"1\" class=\"dataframe\">\n",
       "  <thead>\n",
       "    <tr style=\"text-align: right;\">\n",
       "      <th></th>\n",
       "      <th>max_depth</th>\n",
       "      <th>mean_test_score</th>\n",
       "    </tr>\n",
       "  </thead>\n",
       "  <tbody>\n",
       "    <tr>\n",
       "      <th>2</th>\n",
       "      <td>6</td>\n",
       "      <td>0.962357</td>\n",
       "    </tr>\n",
       "    <tr>\n",
       "      <th>3</th>\n",
       "      <td>8</td>\n",
       "      <td>0.961900</td>\n",
       "    </tr>\n",
       "    <tr>\n",
       "      <th>4</th>\n",
       "      <td>10</td>\n",
       "      <td>0.961887</td>\n",
       "    </tr>\n",
       "    <tr>\n",
       "      <th>1</th>\n",
       "      <td>4</td>\n",
       "      <td>0.957904</td>\n",
       "    </tr>\n",
       "    <tr>\n",
       "      <th>0</th>\n",
       "      <td>2</td>\n",
       "      <td>0.945253</td>\n",
       "    </tr>\n",
       "  </tbody>\n",
       "</table>\n",
       "</div>"
      ],
      "text/plain": [
       "   max_depth  mean_test_score\n",
       "2          6         0.962357\n",
       "3          8         0.961900\n",
       "4         10         0.961887\n",
       "1          4         0.957904\n",
       "0          2         0.945253"
      ]
     },
     "execution_count": 19,
     "metadata": {},
     "output_type": "execute_result"
    }
   ],
   "source": [
    "result_xgb = pd.DataFrame(xgb.cv_results_['params'])\n",
    "result_xgb['mean_test_score'] = xgb.cv_results_['mean_test_score']\n",
    "result_xgb.sort_values('mean_test_score', ascending = False)"
   ]
  },
  {
   "cell_type": "markdown",
   "metadata": {},
   "source": [
    "SVR에서의 R2점수가 가장 높고, 에러율이 가장 낮음. SVR 모델을 선택한다."
   ]
  },
  {
   "cell_type": "markdown",
   "metadata": {},
   "source": [
    "각 모델에서의 변수의 중요도 구하기"
   ]
  },
  {
   "cell_type": "code",
   "execution_count": 34,
   "metadata": {},
   "outputs": [
    {
     "data": {
      "text/plain": [
       "<AxesSubplot:title={'center':'Feature importance'}, xlabel='F score', ylabel='Features'>"
      ]
     },
     "execution_count": 34,
     "metadata": {},
     "output_type": "execute_result"
    },
    {
     "data": {
      "image/png": "[encoded data removed]",
      "text/plain": [
       "<Figure size 432x288 with 1 Axes>"
      ]
     },
     "metadata": {
      "needs_background": "light"
     },
     "output_type": "display_data"
    }
   ],
   "source": [
    "# xgb = XGBRegressor(n_estimators = 1000,max_depth=6)\n",
    "\n",
    "from xgboost import plot_importance\n",
    "plot_importance(xgb.best_estimator_)"
   ]
  },
  {
   "cell_type": "code",
   "execution_count": 21,
   "metadata": {},
   "outputs": [
    {
     "data": {
      "text/html": [
       "<div>\n",
       "<style scoped>\n",
       "    .dataframe tbody tr th:only-of-type {\n",
       "        vertical-align: middle;\n",
       "    }\n",
       "\n",
       "    .dataframe tbody tr th {\n",
       "        vertical-align: top;\n",
       "    }\n",
       "\n",
       "    .dataframe thead th {\n",
       "        text-align: right;\n",
       "    }\n",
       "</style>\n",
       "<table border=\"1\" class=\"dataframe\">\n",
       "  <thead>\n",
       "    <tr style=\"text-align: right;\">\n",
       "      <th></th>\n",
       "      <th>max_depth</th>\n",
       "      <th>min_samples_split</th>\n",
       "      <th>mean_test_score</th>\n",
       "    </tr>\n",
       "  </thead>\n",
       "  <tbody>\n",
       "    <tr>\n",
       "      <th>16</th>\n",
       "      <td>8</td>\n",
       "      <td>4</td>\n",
       "      <td>0.963787</td>\n",
       "    </tr>\n",
       "    <tr>\n",
       "      <th>12</th>\n",
       "      <td>6</td>\n",
       "      <td>6</td>\n",
       "      <td>0.963580</td>\n",
       "    </tr>\n",
       "    <tr>\n",
       "      <th>22</th>\n",
       "      <td>10</td>\n",
       "      <td>6</td>\n",
       "      <td>0.963003</td>\n",
       "    </tr>\n",
       "    <tr>\n",
       "      <th>17</th>\n",
       "      <td>8</td>\n",
       "      <td>6</td>\n",
       "      <td>0.962951</td>\n",
       "    </tr>\n",
       "    <tr>\n",
       "      <th>10</th>\n",
       "      <td>6</td>\n",
       "      <td>2</td>\n",
       "      <td>0.962935</td>\n",
       "    </tr>\n",
       "    <tr>\n",
       "      <th>24</th>\n",
       "      <td>10</td>\n",
       "      <td>10</td>\n",
       "      <td>0.962422</td>\n",
       "    </tr>\n",
       "    <tr>\n",
       "      <th>11</th>\n",
       "      <td>6</td>\n",
       "      <td>4</td>\n",
       "      <td>0.962330</td>\n",
       "    </tr>\n",
       "    <tr>\n",
       "      <th>13</th>\n",
       "      <td>6</td>\n",
       "      <td>8</td>\n",
       "      <td>0.961880</td>\n",
       "    </tr>\n",
       "    <tr>\n",
       "      <th>23</th>\n",
       "      <td>10</td>\n",
       "      <td>8</td>\n",
       "      <td>0.961845</td>\n",
       "    </tr>\n",
       "    <tr>\n",
       "      <th>15</th>\n",
       "      <td>8</td>\n",
       "      <td>2</td>\n",
       "      <td>0.961790</td>\n",
       "    </tr>\n",
       "    <tr>\n",
       "      <th>20</th>\n",
       "      <td>10</td>\n",
       "      <td>2</td>\n",
       "      <td>0.961745</td>\n",
       "    </tr>\n",
       "    <tr>\n",
       "      <th>21</th>\n",
       "      <td>10</td>\n",
       "      <td>4</td>\n",
       "      <td>0.961733</td>\n",
       "    </tr>\n",
       "    <tr>\n",
       "      <th>18</th>\n",
       "      <td>8</td>\n",
       "      <td>8</td>\n",
       "      <td>0.961640</td>\n",
       "    </tr>\n",
       "    <tr>\n",
       "      <th>14</th>\n",
       "      <td>6</td>\n",
       "      <td>10</td>\n",
       "      <td>0.961415</td>\n",
       "    </tr>\n",
       "    <tr>\n",
       "      <th>19</th>\n",
       "      <td>8</td>\n",
       "      <td>10</td>\n",
       "      <td>0.961359</td>\n",
       "    </tr>\n",
       "    <tr>\n",
       "      <th>7</th>\n",
       "      <td>4</td>\n",
       "      <td>6</td>\n",
       "      <td>0.959358</td>\n",
       "    </tr>\n",
       "    <tr>\n",
       "      <th>6</th>\n",
       "      <td>4</td>\n",
       "      <td>4</td>\n",
       "      <td>0.959201</td>\n",
       "    </tr>\n",
       "    <tr>\n",
       "      <th>5</th>\n",
       "      <td>4</td>\n",
       "      <td>2</td>\n",
       "      <td>0.958203</td>\n",
       "    </tr>\n",
       "    <tr>\n",
       "      <th>9</th>\n",
       "      <td>4</td>\n",
       "      <td>10</td>\n",
       "      <td>0.957864</td>\n",
       "    </tr>\n",
       "    <tr>\n",
       "      <th>8</th>\n",
       "      <td>4</td>\n",
       "      <td>8</td>\n",
       "      <td>0.957151</td>\n",
       "    </tr>\n",
       "    <tr>\n",
       "      <th>1</th>\n",
       "      <td>2</td>\n",
       "      <td>4</td>\n",
       "      <td>0.895251</td>\n",
       "    </tr>\n",
       "    <tr>\n",
       "      <th>2</th>\n",
       "      <td>2</td>\n",
       "      <td>6</td>\n",
       "      <td>0.894988</td>\n",
       "    </tr>\n",
       "    <tr>\n",
       "      <th>3</th>\n",
       "      <td>2</td>\n",
       "      <td>8</td>\n",
       "      <td>0.893796</td>\n",
       "    </tr>\n",
       "    <tr>\n",
       "      <th>0</th>\n",
       "      <td>2</td>\n",
       "      <td>2</td>\n",
       "      <td>0.893596</td>\n",
       "    </tr>\n",
       "    <tr>\n",
       "      <th>4</th>\n",
       "      <td>2</td>\n",
       "      <td>10</td>\n",
       "      <td>0.893522</td>\n",
       "    </tr>\n",
       "  </tbody>\n",
       "</table>\n",
       "</div>"
      ],
      "text/plain": [
       "    max_depth  min_samples_split  mean_test_score\n",
       "16          8                  4         0.963787\n",
       "12          6                  6         0.963580\n",
       "22         10                  6         0.963003\n",
       "17          8                  6         0.962951\n",
       "10          6                  2         0.962935\n",
       "24         10                 10         0.962422\n",
       "11          6                  4         0.962330\n",
       "13          6                  8         0.961880\n",
       "23         10                  8         0.961845\n",
       "15          8                  2         0.961790\n",
       "20         10                  2         0.961745\n",
       "21         10                  4         0.961733\n",
       "18          8                  8         0.961640\n",
       "14          6                 10         0.961415\n",
       "19          8                 10         0.961359\n",
       "7           4                  6         0.959358\n",
       "6           4                  4         0.959201\n",
       "5           4                  2         0.958203\n",
       "9           4                 10         0.957864\n",
       "8           4                  8         0.957151\n",
       "1           2                  4         0.895251\n",
       "2           2                  6         0.894988\n",
       "3           2                  8         0.893796\n",
       "0           2                  2         0.893596\n",
       "4           2                 10         0.893522"
      ]
     },
     "execution_count": 21,
     "metadata": {},
     "output_type": "execute_result"
    }
   ],
   "source": [
    "result = pd.DataFrame(rf.cv_results_['params'])\n",
    "result['mean_test_score'] = rf.cv_results_['mean_test_score']\n",
    "result.sort_values('mean_test_score', ascending = False)"
   ]
  },
  {
   "cell_type": "code",
   "execution_count": 22,
   "metadata": {},
   "outputs": [
    {
     "data": {
      "image/png": "[encoded data removed]",
      "text/plain": [
       "<Figure size 432x288 with 1 Axes>"
      ]
     },
     "metadata": {
      "needs_background": "light"
     },
     "output_type": "display_data"
    }
   ],
   "source": [
    "rf = RandomForestRegressor(max_depth=10,min_samples_split=6)\n",
    "rf.fit(X_train_scaled, y_train)\n",
    "ax = pd.Series(rf.feature_importances_, index=rf.feature_names_in_).sort_values(ascending= False).plot.bar(ylabel = 'mean decrease in impurity')\n",
    "for p in ax.patches:\n",
    "    left, bottom, width, height = p.get_bbox().bounds\n",
    "    ax.annotate(f\"{height:.2f}\", (left+width/2, height*1.01), ha='center')\n"
   ]
  },
  {
   "cell_type": "markdown",
   "metadata": {},
   "source": [
    "svr은 feature_importance_을 구할 수 없고 permutation feature importance는 구할 수 있다\n",
    "https://stackoverflow.com/questions/70467781/feature-importance-with-svr"
   ]
  },
  {
   "cell_type": "code",
   "execution_count": 23,
   "metadata": {},
   "outputs": [
    {
     "data": {
      "text/plain": [
       "2.2"
      ]
     },
     "execution_count": 23,
     "metadata": {},
     "output_type": "execute_result"
    }
   ],
   "source": [
    "round(2.222,1)"
   ]
  },
  {
   "cell_type": "code",
   "execution_count": 35,
   "metadata": {},
   "outputs": [
    {
     "data": {
      "image/png": "[encoded data removed]",
      "text/plain": [
       "<Figure size 1440x720 with 1 Axes>"
      ]
     },
     "metadata": {
      "needs_background": "light"
     },
     "output_type": "display_data"
    }
   ],
   "source": [
    "from sklearn.inspection import permutation_importance\n",
    "import matplotlib.pyplot as plt\n",
    "results = permutation_importance(svr, X_train_scaled, y_train, scoring='neg_mean_squared_error')\n",
    "importance = results.importances_mean\n",
    "plt.figure(figsize=(20,10))\n",
    "plt.bar([x for x in X_train_scaled.columns], importance)\n",
    "for ix, v in enumerate([x for x in X_train_scaled.columns]):\n",
    "    plt.text(v, importance[ix],round(importance[ix],2))\n"
   ]
  },
  {
   "cell_type": "markdown",
   "metadata": {},
   "source": [
    "# 통계분석 (50점)\n",
    "## 1. 회귀분석\n",
    "연속형 독립변수 1개, 종속변수 1개로 구성된 보스턴 집값 데이터 세트\n"
   ]
  },
  {
   "cell_type": "markdown",
   "metadata": {},
   "source": [
    "### (1) 데이터를 8:2로 분할하고 선형 회귀를 적용하시오. 결정계수와 RMSE를 구하시오.[30분]"
   ]
  },
  {
   "cell_type": "code",
   "execution_count": 36,
   "metadata": {},
   "outputs": [
    {
     "name": "stdout",
     "output_type": "stream",
     "text": [
      "Requirement already satisfied: mglearn in c:\\dev\\miniconda\\envs\\py38\\lib\\site-packages (0.1.9)\n",
      "Requirement already satisfied: joblib in c:\\dev\\miniconda\\envs\\py38\\lib\\site-packages (from mglearn) (1.1.0)\n",
      "Requirement already satisfied: matplotlib in c:\\dev\\miniconda\\envs\\py38\\lib\\site-packages (from mglearn) (3.5.3)\n",
      "Requirement already satisfied: pillow in c:\\dev\\miniconda\\envs\\py38\\lib\\site-packages (from mglearn) (9.2.0)\n",
      "Requirement already satisfied: scikit-learn in c:\\dev\\miniconda\\envs\\py38\\lib\\site-packages (from mglearn) (1.1.2)\n",
      "Requirement already satisfied: pandas in c:\\dev\\miniconda\\envs\\py38\\lib\\site-packages (from mglearn) (1.4.3)\n",
      "Requirement already satisfied: cycler in c:\\dev\\miniconda\\envs\\py38\\lib\\site-packages (from mglearn) (0.11.0)\n",
      "Requirement already satisfied: numpy in c:\\dev\\miniconda\\envs\\py38\\lib\\site-packages (from mglearn) (1.23.2)\n",
      "Requirement already satisfied: imageio in c:\\dev\\miniconda\\envs\\py38\\lib\\site-packages (from mglearn) (2.22.4)\n",
      "Requirement already satisfied: pyparsing>=2.2.1 in c:\\dev\\miniconda\\envs\\py38\\lib\\site-packages (from matplotlib->mglearn) (3.0.9)\n",
      "Requirement already satisfied: python-dateutil>=2.7 in c:\\dev\\miniconda\\envs\\py38\\lib\\site-packages (from matplotlib->mglearn) (2.8.2)\n",
      "Requirement already satisfied: packaging>=20.0 in c:\\dev\\miniconda\\envs\\py38\\lib\\site-packages (from matplotlib->mglearn) (21.3)\n",
      "Requirement already satisfied: fonttools>=4.22.0 in c:\\dev\\miniconda\\envs\\py38\\lib\\site-packages (from matplotlib->mglearn) (4.35.0)\n",
      "Requirement already satisfied: kiwisolver>=1.0.1 in c:\\dev\\miniconda\\envs\\py38\\lib\\site-packages (from matplotlib->mglearn) (1.4.4)\n",
      "Requirement already satisfied: pytz>=2020.1 in c:\\dev\\miniconda\\envs\\py38\\lib\\site-packages (from pandas->mglearn) (2022.2.1)\n",
      "Requirement already satisfied: scipy>=1.3.2 in c:\\dev\\miniconda\\envs\\py38\\lib\\site-packages (from scikit-learn->mglearn) (1.9.0)\n",
      "Requirement already satisfied: threadpoolctl>=2.0.0 in c:\\dev\\miniconda\\envs\\py38\\lib\\site-packages (from scikit-learn->mglearn) (3.1.0)\n",
      "Requirement already satisfied: six>=1.5 in c:\\users\\david\\appdata\\roaming\\python\\python38\\site-packages (from python-dateutil>=2.7->matplotlib->mglearn) (1.14.0)\n"
     ]
    }
   ],
   "source": [
    "!pip install mglearn"
   ]
  },
  {
   "cell_type": "code",
   "execution_count": null,
   "metadata": {},
   "outputs": [
    {
     "name": "stdout",
     "output_type": "stream",
     "text": [
      "결정계수: 0.6158858584078949\n",
      "RMSE 5.592657237078496\n"
     ]
    },
    {
     "name": "stderr",
     "output_type": "stream",
     "text": [
      "c:\\Dev\\Miniconda\\envs\\py38\\lib\\site-packages\\sklearn\\utils\\deprecation.py:87: FutureWarning: Function load_boston is deprecated; `load_boston` is deprecated in 1.0 and will be removed in 1.2.\n",
      "\n",
      "    The Boston housing prices dataset has an ethical problem. You can refer to\n",
      "    the documentation of this function for further details.\n",
      "\n",
      "    The scikit-learn maintainers therefore strongly discourage the use of this\n",
      "    dataset unless the purpose of the code is to study and educate about\n",
      "    ethical issues in data science and machine learning.\n",
      "\n",
      "    In this special case, you can fetch the dataset from the original\n",
      "    source::\n",
      "\n",
      "        import pandas as pd\n",
      "        import numpy as np\n",
      "\n",
      "        data_url = \"http://lib.stat.cmu.edu/datasets/boston\"\n",
      "        raw_df = pd.read_csv(data_url, sep=\"\\s+\", skiprows=22, header=None)\n",
      "        data = np.hstack([raw_df.values[::2, :], raw_df.values[1::2, :2]])\n",
      "        target = raw_df.values[1::2, 2]\n",
      "\n",
      "    Alternative datasets include the California housing dataset (i.e.\n",
      "    :func:`~sklearn.datasets.fetch_california_housing`) and the Ames housing\n",
      "    dataset. You can load the datasets as follows::\n",
      "\n",
      "        from sklearn.datasets import fetch_california_housing\n",
      "        housing = fetch_california_housing()\n",
      "\n",
      "    for the California housing dataset and::\n",
      "\n",
      "        from sklearn.datasets import fetch_openml\n",
      "        housing = fetch_openml(name=\"house_prices\", as_frame=True)\n",
      "\n",
      "    for the Ames housing dataset.\n",
      "  warnings.warn(msg, category=FutureWarning)\n"
     ]
    }
   ],
   "source": [
    "import pandas as pd\n",
    "import numpy as np\n",
    "import mglearn\n",
    "from sklearn.model_selection import train_test_split\n",
    "\n",
    "X, y = mglearn.datasets.load_extended_boston()\n",
    "X_train, X_test, y_train, y_test= train_test_split(X, y, test_size=0.2, random_state=0)\n",
    "\n",
    "from sklearn.linear_model import LinearRegression\n",
    "from sklearn.metrics import mean_squared_error\n",
    "\n",
    "lr = LinearRegression()\n",
    "lr.fit(X_train, y_train)\n",
    "print(\"결정계수:\",lr.score(X_test, y_test))\n",
    "print(\"RMSE\",np.sqrt(mean_squared_error(y_test, lr.predict(X_test))))\n"
   ]
  },
  {
   "cell_type": "markdown",
   "metadata": {},
   "source": [
    "Linear Regression으로 간단한 선형 회귀 모델을 만들고 20%의 테스트 데이터세트로 검증하였다. 모델의 정확도는 약61.5%이며, RMSE는 5.6이었다"
   ]
  },
  {
   "cell_type": "markdown",
   "metadata": {},
   "source": [
    "### (2) 데이터를 8:2로 분할하고 릿지 회귀를 적용하시오. alpha값을 0부터 1까지 0,1 단위로 모두 탐색해서 결정계수가 가장 높을 때의 알파를 찾고, 해당 알파로 다시 모델을 학습해서 결정계수와 rmse를 계산하시오"
   ]
  },
  {
   "cell_type": "code",
   "execution_count": 37,
   "metadata": {},
   "outputs": [
    {
     "data": {
      "text/html": [
       "<style>#sk-container-id-3 {color: black;background-color: white;}#sk-container-id-3 pre{padding: 0;}#sk-container-id-3 div.sk-toggleable {background-color: white;}#sk-container-id-3 label.sk-toggleable__label {cursor: pointer;display: block;width: 100%;margin-bottom: 0;padding: 0.3em;box-sizing: border-box;text-align: center;}#sk-container-id-3 label.sk-toggleable__label-arrow:before {content: \"▸\";float: left;margin-right: 0.25em;color: #696969;}#sk-container-id-3 label.sk-toggleable__label-arrow:hover:before {color: black;}#sk-container-id-3 div.sk-estimator:hover label.sk-toggleable__label-arrow:before {color: black;}#sk-container-id-3 div.sk-toggleable__content {max-height: 0;max-width: 0;overflow: hidden;text-align: left;background-color: #f0f8ff;}#sk-container-id-3 div.sk-toggleable__content pre {margin: 0.2em;color: black;border-radius: 0.25em;background-color: #f0f8ff;}#sk-container-id-3 input.sk-toggleable__control:checked~div.sk-toggleable__content {max-height: 200px;max-width: 100%;overflow: auto;}#sk-container-id-3 input.sk-toggleable__control:checked~label.sk-toggleable__label-arrow:before {content: \"▾\";}#sk-container-id-3 div.sk-estimator input.sk-toggleable__control:checked~label.sk-toggleable__label {background-color: #d4ebff;}#sk-container-id-3 div.sk-label input.sk-toggleable__control:checked~label.sk-toggleable__label {background-color: #d4ebff;}#sk-container-id-3 input.sk-hidden--visually {border: 0;clip: rect(1px 1px 1px 1px);clip: rect(1px, 1px, 1px, 1px);height: 1px;margin: -1px;overflow: hidden;padding: 0;position: absolute;width: 1px;}#sk-container-id-3 div.sk-estimator {font-family: monospace;background-color: #f0f8ff;border: 1px dotted black;border-radius: 0.25em;box-sizing: border-box;margin-bottom: 0.5em;}#sk-container-id-3 div.sk-estimator:hover {background-color: #d4ebff;}#sk-container-id-3 div.sk-parallel-item::after {content: \"\";width: 100%;border-bottom: 1px solid gray;flex-grow: 1;}#sk-container-id-3 div.sk-label:hover label.sk-toggleable__label {background-color: #d4ebff;}#sk-container-id-3 div.sk-serial::before {content: \"\";position: absolute;border-left: 1px solid gray;box-sizing: border-box;top: 0;bottom: 0;left: 50%;z-index: 0;}#sk-container-id-3 div.sk-serial {display: flex;flex-direction: column;align-items: center;background-color: white;padding-right: 0.2em;padding-left: 0.2em;position: relative;}#sk-container-id-3 div.sk-item {position: relative;z-index: 1;}#sk-container-id-3 div.sk-parallel {display: flex;align-items: stretch;justify-content: center;background-color: white;position: relative;}#sk-container-id-3 div.sk-item::before, #sk-container-id-3 div.sk-parallel-item::before {content: \"\";position: absolute;border-left: 1px solid gray;box-sizing: border-box;top: 0;bottom: 0;left: 50%;z-index: -1;}#sk-container-id-3 div.sk-parallel-item {display: flex;flex-direction: column;z-index: 1;position: relative;background-color: white;}#sk-container-id-3 div.sk-parallel-item:first-child::after {align-self: flex-end;width: 50%;}#sk-container-id-3 div.sk-parallel-item:last-child::after {align-self: flex-start;width: 50%;}#sk-container-id-3 div.sk-parallel-item:only-child::after {width: 0;}#sk-container-id-3 div.sk-dashed-wrapped {border: 1px dashed gray;margin: 0 0.4em 0.5em 0.4em;box-sizing: border-box;padding-bottom: 0.4em;background-color: white;}#sk-container-id-3 div.sk-label label {font-family: monospace;font-weight: bold;display: inline-block;line-height: 1.2em;}#sk-container-id-3 div.sk-label-container {text-align: center;}#sk-container-id-3 div.sk-container {/* jupyter's `normalize.less` sets `[hidden] { display: none; }` but bootstrap.min.css set `[hidden] { display: none !important; }` so we also need the `!important` here to be able to override the default hidden behavior on the sphinx rendered scikit-learn.org. See: https://github.com/scikit-learn/scikit-learn/issues/21755 */display: inline-block !important;position: relative;}#sk-container-id-3 div.sk-text-repr-fallback {display: none;}</style><div id=\"sk-container-id-3\" class=\"sk-top-container\"><div class=\"sk-text-repr-fallback\"><pre>GridSearchCV(estimator=Ridge(),\n",
       "             param_grid=[{&#x27;alpha&#x27;: array([0. , 0.1, 0.2, 0.3, 0.4, 0.5, 0.6, 0.7, 0.8, 0.9, 1. ])}])</pre><b>In a Jupyter environment, please rerun this cell to show the HTML representation or trust the notebook. <br />On GitHub, the HTML representation is unable to render, please try loading this page with nbviewer.org.</b></div><div class=\"sk-container\" hidden><div class=\"sk-item sk-dashed-wrapped\"><div class=\"sk-label-container\"><div class=\"sk-label sk-toggleable\"><input class=\"sk-toggleable__control sk-hidden--visually\" id=\"sk-estimator-id-3\" type=\"checkbox\" ><label for=\"sk-estimator-id-3\" class=\"sk-toggleable__label sk-toggleable__label-arrow\">GridSearchCV</label><div class=\"sk-toggleable__content\"><pre>GridSearchCV(estimator=Ridge(),\n",
       "             param_grid=[{&#x27;alpha&#x27;: array([0. , 0.1, 0.2, 0.3, 0.4, 0.5, 0.6, 0.7, 0.8, 0.9, 1. ])}])</pre></div></div></div><div class=\"sk-parallel\"><div class=\"sk-parallel-item\"><div class=\"sk-item\"><div class=\"sk-label-container\"><div class=\"sk-label sk-toggleable\"><input class=\"sk-toggleable__control sk-hidden--visually\" id=\"sk-estimator-id-4\" type=\"checkbox\" ><label for=\"sk-estimator-id-4\" class=\"sk-toggleable__label sk-toggleable__label-arrow\">estimator: Ridge</label><div class=\"sk-toggleable__content\"><pre>Ridge()</pre></div></div></div><div class=\"sk-serial\"><div class=\"sk-item\"><div class=\"sk-estimator sk-toggleable\"><input class=\"sk-toggleable__control sk-hidden--visually\" id=\"sk-estimator-id-5\" type=\"checkbox\" ><label for=\"sk-estimator-id-5\" class=\"sk-toggleable__label sk-toggleable__label-arrow\">Ridge</label><div class=\"sk-toggleable__content\"><pre>Ridge()</pre></div></div></div></div></div></div></div></div></div></div>"
      ],
      "text/plain": [
       "GridSearchCV(estimator=Ridge(),\n",
       "             param_grid=[{'alpha': array([0. , 0.1, 0.2, 0.3, 0.4, 0.5, 0.6, 0.7, 0.8, 0.9, 1. ])}])"
      ]
     },
     "execution_count": 37,
     "metadata": {},
     "output_type": "execute_result"
    }
   ],
   "source": [
    "from sklearn.linear_model import Ridge\n",
    "from sklearn.model_selection import GridSearchCV\n",
    "\n",
    "alpha = np.arange(0, 1.1, 0.1)\n",
    "\n",
    "param_grid = [\n",
    "    {'alpha' : alpha}\n",
    "]\n",
    "\n",
    "grid_ridge = GridSearchCV(Ridge(), param_grid= param_grid)\n",
    "grid_ridge.fit(X_train, y_train)"
   ]
  },
  {
   "cell_type": "code",
   "execution_count": 38,
   "metadata": {},
   "outputs": [
    {
     "data": {
      "text/html": [
       "<div>\n",
       "<style scoped>\n",
       "    .dataframe tbody tr th:only-of-type {\n",
       "        vertical-align: middle;\n",
       "    }\n",
       "\n",
       "    .dataframe tbody tr th {\n",
       "        vertical-align: top;\n",
       "    }\n",
       "\n",
       "    .dataframe thead th {\n",
       "        text-align: right;\n",
       "    }\n",
       "</style>\n",
       "<table border=\"1\" class=\"dataframe\">\n",
       "  <thead>\n",
       "    <tr style=\"text-align: right;\">\n",
       "      <th></th>\n",
       "      <th>alpha</th>\n",
       "      <th>score</th>\n",
       "    </tr>\n",
       "  </thead>\n",
       "  <tbody>\n",
       "    <tr>\n",
       "      <th>10</th>\n",
       "      <td>1.0</td>\n",
       "      <td>0.961015</td>\n",
       "    </tr>\n",
       "    <tr>\n",
       "      <th>9</th>\n",
       "      <td>0.9</td>\n",
       "      <td>0.961008</td>\n",
       "    </tr>\n",
       "    <tr>\n",
       "      <th>8</th>\n",
       "      <td>0.8</td>\n",
       "      <td>0.961001</td>\n",
       "    </tr>\n",
       "    <tr>\n",
       "      <th>7</th>\n",
       "      <td>0.7</td>\n",
       "      <td>0.960993</td>\n",
       "    </tr>\n",
       "    <tr>\n",
       "      <th>6</th>\n",
       "      <td>0.6</td>\n",
       "      <td>0.960986</td>\n",
       "    </tr>\n",
       "    <tr>\n",
       "      <th>5</th>\n",
       "      <td>0.5</td>\n",
       "      <td>0.960978</td>\n",
       "    </tr>\n",
       "    <tr>\n",
       "      <th>4</th>\n",
       "      <td>0.4</td>\n",
       "      <td>0.960971</td>\n",
       "    </tr>\n",
       "    <tr>\n",
       "      <th>3</th>\n",
       "      <td>0.3</td>\n",
       "      <td>0.960963</td>\n",
       "    </tr>\n",
       "    <tr>\n",
       "      <th>2</th>\n",
       "      <td>0.2</td>\n",
       "      <td>0.960956</td>\n",
       "    </tr>\n",
       "    <tr>\n",
       "      <th>1</th>\n",
       "      <td>0.1</td>\n",
       "      <td>0.960948</td>\n",
       "    </tr>\n",
       "    <tr>\n",
       "      <th>0</th>\n",
       "      <td>0.0</td>\n",
       "      <td>0.960940</td>\n",
       "    </tr>\n",
       "  </tbody>\n",
       "</table>\n",
       "</div>"
      ],
      "text/plain": [
       "    alpha     score\n",
       "10    1.0  0.961015\n",
       "9     0.9  0.961008\n",
       "8     0.8  0.961001\n",
       "7     0.7  0.960993\n",
       "6     0.6  0.960986\n",
       "5     0.5  0.960978\n",
       "4     0.4  0.960971\n",
       "3     0.3  0.960963\n",
       "2     0.2  0.960956\n",
       "1     0.1  0.960948\n",
       "0     0.0  0.960940"
      ]
     },
     "execution_count": 38,
     "metadata": {},
     "output_type": "execute_result"
    }
   ],
   "source": [
    "results = pd.DataFrame(grid_ridge.cv_results_['params'])\n",
    "results['score'] = grid_ridge.cv_results_['mean_test_score']\n",
    "results.sort_values('score', ascending =False)\n"
   ]
  },
  {
   "cell_type": "code",
   "execution_count": 39,
   "metadata": {},
   "outputs": [
    {
     "name": "stdout",
     "output_type": "stream",
     "text": [
      "0.9576107960089675\n",
      "0.6828851523507499\n"
     ]
    }
   ],
   "source": [
    "# alpha를 0.1로 찾았습니다. 다시 이를 셋팅하여 모델을 생성/학습합니다.\n",
    "\n",
    "ridge = Ridge(alpha=0.1)\n",
    "ridge.fit(X_train, y_train)\n",
    "print(ridge.score(X_test,y_test))\n",
    "print(np.sqrt(mean_squared_error(y_test, ridge.predict(X_test))))"
   ]
  },
  {
   "cell_type": "markdown",
   "metadata": {},
   "source": [
    "정확도는 74.6%, 오차는 4.5인 모델이 릿지를 통해 생성되었습니다. <br>\n",
    "기존 선형분석보다는 나은 정확도와 오차를 보입니다."
   ]
  },
  {
   "cell_type": "markdown",
   "metadata": {},
   "source": [
    "### (3) 데이터를 8:2로 분할하고 라쏘 회귀를 적용하시오. alpha 값을 0부터 1까지 0,1 단위로 모두 탐색해서 결정계수가 가장 높을 때의 알파를 찾고, 해당 알파로 다시 모델을 학습해서 결정계수와 rmse를 계산하시오"
   ]
  },
  {
   "cell_type": "code",
   "execution_count": 40,
   "metadata": {},
   "outputs": [
    {
     "name": "stderr",
     "output_type": "stream",
     "text": [
      "c:\\Dev\\Miniconda\\envs\\py38\\lib\\site-packages\\sklearn\\model_selection\\_validation.py:686: UserWarning: With alpha=0, this algorithm does not converge well. You are advised to use the LinearRegression estimator\n",
      "  estimator.fit(X_train, y_train, **fit_params)\n",
      "c:\\Dev\\Miniconda\\envs\\py38\\lib\\site-packages\\sklearn\\linear_model\\_coordinate_descent.py:648: UserWarning: Coordinate descent with no regularization may lead to unexpected results and is discouraged.\n",
      "  model = cd_fast.enet_coordinate_descent(\n",
      "c:\\Dev\\Miniconda\\envs\\py38\\lib\\site-packages\\sklearn\\linear_model\\_coordinate_descent.py:648: ConvergenceWarning: Objective did not converge. You might want to increase the number of iterations, check the scale of the features or consider increasing regularisation. Duality gap: 5.285e+01, tolerance: 3.314e-01 Linear regression models with null weight for the l1 regularization term are more efficiently fitted using one of the solvers implemented in sklearn.linear_model.Ridge/RidgeCV instead.\n",
      "  model = cd_fast.enet_coordinate_descent(\n",
      "c:\\Dev\\Miniconda\\envs\\py38\\lib\\site-packages\\sklearn\\model_selection\\_validation.py:686: UserWarning: With alpha=0, this algorithm does not converge well. You are advised to use the LinearRegression estimator\n",
      "  estimator.fit(X_train, y_train, **fit_params)\n",
      "c:\\Dev\\Miniconda\\envs\\py38\\lib\\site-packages\\sklearn\\linear_model\\_coordinate_descent.py:648: UserWarning: Coordinate descent with no regularization may lead to unexpected results and is discouraged.\n",
      "  model = cd_fast.enet_coordinate_descent(\n",
      "c:\\Dev\\Miniconda\\envs\\py38\\lib\\site-packages\\sklearn\\linear_model\\_coordinate_descent.py:648: ConvergenceWarning: Objective did not converge. You might want to increase the number of iterations, check the scale of the features or consider increasing regularisation. Duality gap: 5.415e+01, tolerance: 3.232e-01 Linear regression models with null weight for the l1 regularization term are more efficiently fitted using one of the solvers implemented in sklearn.linear_model.Ridge/RidgeCV instead.\n",
      "  model = cd_fast.enet_coordinate_descent(\n",
      "c:\\Dev\\Miniconda\\envs\\py38\\lib\\site-packages\\sklearn\\model_selection\\_validation.py:686: UserWarning: With alpha=0, this algorithm does not converge well. You are advised to use the LinearRegression estimator\n",
      "  estimator.fit(X_train, y_train, **fit_params)\n",
      "c:\\Dev\\Miniconda\\envs\\py38\\lib\\site-packages\\sklearn\\linear_model\\_coordinate_descent.py:648: UserWarning: Coordinate descent with no regularization may lead to unexpected results and is discouraged.\n",
      "  model = cd_fast.enet_coordinate_descent(\n",
      "c:\\Dev\\Miniconda\\envs\\py38\\lib\\site-packages\\sklearn\\linear_model\\_coordinate_descent.py:648: ConvergenceWarning: Objective did not converge. You might want to increase the number of iterations, check the scale of the features or consider increasing regularisation. Duality gap: 5.600e+01, tolerance: 3.163e-01 Linear regression models with null weight for the l1 regularization term are more efficiently fitted using one of the solvers implemented in sklearn.linear_model.Ridge/RidgeCV instead.\n",
      "  model = cd_fast.enet_coordinate_descent(\n",
      "c:\\Dev\\Miniconda\\envs\\py38\\lib\\site-packages\\sklearn\\model_selection\\_validation.py:686: UserWarning: With alpha=0, this algorithm does not converge well. You are advised to use the LinearRegression estimator\n",
      "  estimator.fit(X_train, y_train, **fit_params)\n",
      "c:\\Dev\\Miniconda\\envs\\py38\\lib\\site-packages\\sklearn\\linear_model\\_coordinate_descent.py:648: UserWarning: Coordinate descent with no regularization may lead to unexpected results and is discouraged.\n",
      "  model = cd_fast.enet_coordinate_descent(\n",
      "c:\\Dev\\Miniconda\\envs\\py38\\lib\\site-packages\\sklearn\\linear_model\\_coordinate_descent.py:648: ConvergenceWarning: Objective did not converge. You might want to increase the number of iterations, check the scale of the features or consider increasing regularisation. Duality gap: 5.601e+01, tolerance: 3.356e-01 Linear regression models with null weight for the l1 regularization term are more efficiently fitted using one of the solvers implemented in sklearn.linear_model.Ridge/RidgeCV instead.\n",
      "  model = cd_fast.enet_coordinate_descent(\n",
      "c:\\Dev\\Miniconda\\envs\\py38\\lib\\site-packages\\sklearn\\model_selection\\_validation.py:686: UserWarning: With alpha=0, this algorithm does not converge well. You are advised to use the LinearRegression estimator\n",
      "  estimator.fit(X_train, y_train, **fit_params)\n",
      "c:\\Dev\\Miniconda\\envs\\py38\\lib\\site-packages\\sklearn\\linear_model\\_coordinate_descent.py:648: UserWarning: Coordinate descent with no regularization may lead to unexpected results and is discouraged.\n",
      "  model = cd_fast.enet_coordinate_descent(\n",
      "c:\\Dev\\Miniconda\\envs\\py38\\lib\\site-packages\\sklearn\\linear_model\\_coordinate_descent.py:648: ConvergenceWarning: Objective did not converge. You might want to increase the number of iterations, check the scale of the features or consider increasing regularisation. Duality gap: 5.211e+01, tolerance: 3.491e-01 Linear regression models with null weight for the l1 regularization term are more efficiently fitted using one of the solvers implemented in sklearn.linear_model.Ridge/RidgeCV instead.\n",
      "  model = cd_fast.enet_coordinate_descent(\n"
     ]
    },
    {
     "name": "stdout",
     "output_type": "stream",
     "text": [
      "{'alpha': 0.1}\n",
      "0.9568471401433889\n",
      "0.6890088987641675\n"
     ]
    }
   ],
   "source": [
    "from sklearn.linear_model import Lasso\n",
    "\n",
    "alpha = np.arange(0, 1.1, 0.1)\n",
    "param_grid = [\n",
    "    {'alpha':alpha}\n",
    "    ]\n",
    "grid_lasso = GridSearchCV(Lasso(), param_grid= param_grid)\n",
    "grid_lasso.fit(X_train,y_train)\n",
    "\n",
    "print(grid_lasso.best_params_)\n",
    "print(grid_lasso.score(X_test,y_test))\n",
    "print(np.sqrt(mean_squared_error(y_test, grid_lasso.predict(X_test))))"
   ]
  },
  {
   "cell_type": "markdown",
   "metadata": {},
   "source": [
    "라쏘 회귀의 경우 정확도가 69%로 릿지 회귀보다는 낮아졌으며 오류는 5.0 정도이다. 보다 정확한 모델을 원할 경우 단순선형회귀가 아닌 다항 회귀 등의 방법을 적용하는 것이 바람직하다."
   ]
  },
  {
   "cell_type": "markdown",
   "metadata": {},
   "source": [
    "## 2. 다항 회귀분석 시각화\n",
    "단순 선형회귀를 다항 회귀로 3차까지 적용시켜 계수를 구하고 3차항을 적용한 모델의 스캐터플롯 과 기울기의 선을 그리시오<br>\n",
    "<img src='./img/08-01.png' width='800'>"
   ]
  },
  {
   "cell_type": "markdown",
   "metadata": {},
   "source": [
    "위의 그림에서 주황색의 실제 샘플값을 파란 회귀선이 예측하는데 한계가 있는 것을 볼 수 있다. 즉,\n",
    "단순회귀를 다항회귀로 적용시키는 문제로, sklearn의 전처리함수인 polynominal을 활용하여, 설명변수를 다항화할 수 있다. "
   ]
  },
  {
   "cell_type": "code",
   "execution_count": null,
   "metadata": {},
   "outputs": [
    {
     "name": "stdout",
     "output_type": "stream",
     "text": [
      "(100, 1) (100, 1)\n"
     ]
    }
   ],
   "source": [
    "#  기준이 될 데이터 만들기 \n",
    "\n",
    "import pandas as pd\n",
    "import numpy as np\n",
    "\n",
    "X = 6 * np.random.rand(100,1)-3\n",
    "y = 3* (X**3 + X**2+ X + np.random.randn(100,1)) # y 값은 다항으로 주어진 것을 가정한다 \n",
    "line = np.linspace(-3,3,100,endpoint=False).reshape(-1,1) # 예측 값을 위해 생성 (X_test)\n",
    "print(X.shape, line.shape)"
   ]
  },
  {
   "cell_type": "code",
   "execution_count": null,
   "metadata": {},
   "outputs": [
    {
     "data": {
      "text/plain": [
       "<matplotlib.collections.PathCollection at 0x1acd1b71310>"
      ]
     },
     "execution_count": 79,
     "metadata": {},
     "output_type": "execute_result"
    },
    {
     "data": {
      "image/png": "[encoded data removed]",
      "text/plain": [
       "<Figure size 432x288 with 1 Axes>"
      ]
     },
     "metadata": {
      "needs_background": "light"
     },
     "output_type": "display_data"
    }
   ],
   "source": [
    "import matplotlib.pyplot as plt\n",
    "from sklearn.preprocessing import PolynomialFeatures\n",
    "\n",
    "# x를 3차항 형태로 변형하여, 선형모델을 학습한다.\n",
    "poly = PolynomialFeatures(degree= 3, include_bias=False)\n",
    "poly.fit(X)\n",
    "X_poly = poly.transform(X) # 학습값 적용\n",
    "line_poly = poly.transform(line) # 테스트값 적용\n",
    "\n",
    "reg = LinearRegression().fit(X_poly, y) #학습\n",
    "\n",
    "plt.plot(line, reg.predict(line_poly), c = 'lightblue', lw=3) # 예측\n",
    "plt.scatter(X, y, c ='orange', alpha=0.5)"
   ]
  },
  {
   "cell_type": "code",
   "execution_count": null,
   "metadata": {},
   "outputs": [
    {
     "name": "stdout",
     "output_type": "stream",
     "text": [
      "1.0\n"
     ]
    }
   ],
   "source": [
    "print(reg.score(line_poly, reg.predict(line_poly)))\n"
   ]
  },
  {
   "cell_type": "markdown",
   "metadata": {},
   "source": [
    "100%의 정확도를 보이는 것을 확인, 데이터의 형태에 맞는 모델을 쓰는 것이 얼마나 중요한가를 보여주는 사례이다."
   ]
  },
  {
   "cell_type": "markdown",
   "metadata": {},
   "source": [
    "## 3. ANOVA 분석\n",
    "변수 3개(하나는 범주형 변수 / 나머지 두개는 수치형연속변수)의 이원분산분석을 수행하고 통계표를 작성하시오 [20분]"
   ]
  },
  {
   "cell_type": "markdown",
   "metadata": {},
   "source": [
    "ANOVA분석 은 서로 다른 그룹간의 종속변수가 차이가 있는지를 비교하는데 사용하는 방식입니다.<br>\n",
    "즉, 설명변수는 단수 또는 복수의 범주형 데이터가 올 수 있으며 종속변수는 수치형 데이터가 오게 됩니다.\n",
    "예를 들면, LG TV의 국가 간, 또는 모델 간 고객 만족도 점수의 차이가 있는지를 확인하기 위해 쓰입니다.\n",
    "ANOVA의 통계량 결과는 'F통계량'입니다. 이 비율은 그룹 간 분산의 차이를 보여주며, 그룹간의 유의미한 차이가 있을수록 F비율이 커지고, P-value에 따라 귀무가설이 기각 됩니다.\n",
    "[ANOVA분석 - 자세히 공부하기](https://www.tibco.com/ko/reference-center/what-is-analysis-of-variance-anova#:~:text=%EB%B6%84%EC%82%B0%20%EB%B6%84%EC%84%9D%20(%20ANOVA%20)%EC%9D%80%20%EC%84%9C%EB%A1%9C,%EC%B0%A8%EC%9D%B4%EA%B0%80%20%EC%9E%88%EB%8A%94%EC%A7%80%20%ED%99%95%EC%9D%B8%ED%95%A9%EB%8B%88%EB%8B%A4.)\n",
    "\n",
    "아래 아보카도 데이터의 경우도 region, type에 따라 AveragePrice의 차이가 있는지를 확인하기 위해 ANOVA 분석을 사용했습니다. "
   ]
  },
  {
   "cell_type": "code",
   "execution_count": 1,
   "metadata": {},
   "outputs": [
    {
     "data": {
      "text/html": [
       "<div>\n",
       "<style scoped>\n",
       "    .dataframe tbody tr th:only-of-type {\n",
       "        vertical-align: middle;\n",
       "    }\n",
       "\n",
       "    .dataframe tbody tr th {\n",
       "        vertical-align: top;\n",
       "    }\n",
       "\n",
       "    .dataframe thead th {\n",
       "        text-align: right;\n",
       "    }\n",
       "</style>\n",
       "<table border=\"1\" class=\"dataframe\">\n",
       "  <thead>\n",
       "    <tr style=\"text-align: right;\">\n",
       "      <th></th>\n",
       "      <th>Date</th>\n",
       "      <th>AveragePrice</th>\n",
       "      <th>Total Volume</th>\n",
       "      <th>4046</th>\n",
       "      <th>4225</th>\n",
       "      <th>4770</th>\n",
       "      <th>Total Bags</th>\n",
       "      <th>Small Bags</th>\n",
       "      <th>Large Bags</th>\n",
       "      <th>XLarge Bags</th>\n",
       "      <th>type</th>\n",
       "      <th>year</th>\n",
       "      <th>region</th>\n",
       "    </tr>\n",
       "  </thead>\n",
       "  <tbody>\n",
       "    <tr>\n",
       "      <th>0</th>\n",
       "      <td>2015-12-27</td>\n",
       "      <td>1.33</td>\n",
       "      <td>64236.62</td>\n",
       "      <td>1036.74</td>\n",
       "      <td>54454.85</td>\n",
       "      <td>48.16</td>\n",
       "      <td>8696.87</td>\n",
       "      <td>8603.62</td>\n",
       "      <td>93.25</td>\n",
       "      <td>0.0</td>\n",
       "      <td>conventional</td>\n",
       "      <td>2015</td>\n",
       "      <td>Albany</td>\n",
       "    </tr>\n",
       "    <tr>\n",
       "      <th>1</th>\n",
       "      <td>2015-12-20</td>\n",
       "      <td>1.35</td>\n",
       "      <td>54876.98</td>\n",
       "      <td>674.28</td>\n",
       "      <td>44638.81</td>\n",
       "      <td>58.33</td>\n",
       "      <td>9505.56</td>\n",
       "      <td>9408.07</td>\n",
       "      <td>97.49</td>\n",
       "      <td>0.0</td>\n",
       "      <td>conventional</td>\n",
       "      <td>2015</td>\n",
       "      <td>Albany</td>\n",
       "    </tr>\n",
       "    <tr>\n",
       "      <th>2</th>\n",
       "      <td>2015-12-13</td>\n",
       "      <td>0.93</td>\n",
       "      <td>118220.22</td>\n",
       "      <td>794.70</td>\n",
       "      <td>109149.67</td>\n",
       "      <td>130.50</td>\n",
       "      <td>8145.35</td>\n",
       "      <td>8042.21</td>\n",
       "      <td>103.14</td>\n",
       "      <td>0.0</td>\n",
       "      <td>conventional</td>\n",
       "      <td>2015</td>\n",
       "      <td>Albany</td>\n",
       "    </tr>\n",
       "    <tr>\n",
       "      <th>3</th>\n",
       "      <td>2015-12-06</td>\n",
       "      <td>1.08</td>\n",
       "      <td>78992.15</td>\n",
       "      <td>1132.00</td>\n",
       "      <td>71976.41</td>\n",
       "      <td>72.58</td>\n",
       "      <td>5811.16</td>\n",
       "      <td>5677.40</td>\n",
       "      <td>133.76</td>\n",
       "      <td>0.0</td>\n",
       "      <td>conventional</td>\n",
       "      <td>2015</td>\n",
       "      <td>Albany</td>\n",
       "    </tr>\n",
       "    <tr>\n",
       "      <th>4</th>\n",
       "      <td>2015-11-29</td>\n",
       "      <td>1.28</td>\n",
       "      <td>51039.60</td>\n",
       "      <td>941.48</td>\n",
       "      <td>43838.39</td>\n",
       "      <td>75.78</td>\n",
       "      <td>6183.95</td>\n",
       "      <td>5986.26</td>\n",
       "      <td>197.69</td>\n",
       "      <td>0.0</td>\n",
       "      <td>conventional</td>\n",
       "      <td>2015</td>\n",
       "      <td>Albany</td>\n",
       "    </tr>\n",
       "  </tbody>\n",
       "</table>\n",
       "</div>"
      ],
      "text/plain": [
       "         Date  AveragePrice  Total Volume     4046       4225    4770  \\\n",
       "0  2015-12-27          1.33      64236.62  1036.74   54454.85   48.16   \n",
       "1  2015-12-20          1.35      54876.98   674.28   44638.81   58.33   \n",
       "2  2015-12-13          0.93     118220.22   794.70  109149.67  130.50   \n",
       "3  2015-12-06          1.08      78992.15  1132.00   71976.41   72.58   \n",
       "4  2015-11-29          1.28      51039.60   941.48   43838.39   75.78   \n",
       "\n",
       "   Total Bags  Small Bags  Large Bags  XLarge Bags          type  year  region  \n",
       "0     8696.87     8603.62       93.25          0.0  conventional  2015  Albany  \n",
       "1     9505.56     9408.07       97.49          0.0  conventional  2015  Albany  \n",
       "2     8145.35     8042.21      103.14          0.0  conventional  2015  Albany  \n",
       "3     5811.16     5677.40      133.76          0.0  conventional  2015  Albany  \n",
       "4     6183.95     5986.26      197.69          0.0  conventional  2015  Albany  "
      ]
     },
     "execution_count": 1,
     "metadata": {},
     "output_type": "execute_result"
    }
   ],
   "source": [
    "import pandas as pd \n",
    "import numpy as np\n",
    "\n",
    "avocado = pd.read_csv('./data/avocado.csv')\n",
    "avocado.head()"
   ]
  },
  {
   "cell_type": "code",
   "execution_count": null,
   "metadata": {},
   "outputs": [
    {
     "data": {
      "text/plain": [
       "Index(['Date', 'type', 'region'], dtype='object')"
      ]
     },
     "execution_count": 71,
     "metadata": {},
     "output_type": "execute_result"
    }
   ],
   "source": [
    "avocado.select_dtypes(object).columns \n",
    "# 범주형 변수는 타입, 지역만 있는 것을 확인, 범주형 변수부터 주효과분석을 진행"
   ]
  },
  {
   "cell_type": "markdown",
   "metadata": {},
   "source": [
    "### 범주형 변수 주효과 분석에 대한 가설\n",
    "|가설|내용|\n",
    "|---|:---:|\n",
    "| 귀무가설1 | region에 따른 AveragePrice의 차이는 존재하지 않는다 |\n",
    "| 귀무가설2 | type에 따른 AveragePrice의 차이는 존재하지 않는다 |"
   ]
  },
  {
   "cell_type": "code",
   "execution_count": 30,
   "metadata": {},
   "outputs": [
    {
     "data": {
      "text/html": [
       "<div>\n",
       "<style scoped>\n",
       "    .dataframe tbody tr th:only-of-type {\n",
       "        vertical-align: middle;\n",
       "    }\n",
       "\n",
       "    .dataframe tbody tr th {\n",
       "        vertical-align: top;\n",
       "    }\n",
       "\n",
       "    .dataframe thead th {\n",
       "        text-align: right;\n",
       "    }\n",
       "</style>\n",
       "<table border=\"1\" class=\"dataframe\">\n",
       "  <thead>\n",
       "    <tr style=\"text-align: right;\">\n",
       "      <th></th>\n",
       "      <th>sum_sq</th>\n",
       "      <th>df</th>\n",
       "      <th>F</th>\n",
       "      <th>PR(&gt;F)</th>\n",
       "    </tr>\n",
       "  </thead>\n",
       "  <tbody>\n",
       "    <tr>\n",
       "      <th>C(avocado_type)</th>\n",
       "      <td>56.111007</td>\n",
       "      <td>1.0</td>\n",
       "      <td>828.218296</td>\n",
       "      <td>1.989417e-133</td>\n",
       "    </tr>\n",
       "    <tr>\n",
       "      <th>C(region)</th>\n",
       "      <td>0.432136</td>\n",
       "      <td>2.0</td>\n",
       "      <td>3.189242</td>\n",
       "      <td>4.161918e-02</td>\n",
       "    </tr>\n",
       "    <tr>\n",
       "      <th>C(avocado_type):C(region)</th>\n",
       "      <td>1.878817</td>\n",
       "      <td>2.0</td>\n",
       "      <td>13.866003</td>\n",
       "      <td>1.146622e-06</td>\n",
       "    </tr>\n",
       "    <tr>\n",
       "      <th>Residual</th>\n",
       "      <td>68.291047</td>\n",
       "      <td>1008.0</td>\n",
       "      <td>NaN</td>\n",
       "      <td>NaN</td>\n",
       "    </tr>\n",
       "  </tbody>\n",
       "</table>\n",
       "</div>"
      ],
      "text/plain": [
       "                              sum_sq      df           F         PR(>F)\n",
       "C(avocado_type)            56.111007     1.0  828.218296  1.989417e-133\n",
       "C(region)                   0.432136     2.0    3.189242   4.161918e-02\n",
       "C(avocado_type):C(region)   1.878817     2.0   13.866003   1.146622e-06\n",
       "Residual                   68.291047  1008.0         NaN            NaN"
      ]
     },
     "execution_count": 30,
     "metadata": {},
     "output_type": "execute_result"
    }
   ],
   "source": [
    "\n",
    "cities = ['Boston','Orlando','Chicago']\n",
    "avocado = avocado[avocado['region'].isin(cities)].reset_index(drop=True)\n",
    "\n",
    "AveragePrice = avocado['AveragePrice']\n",
    "avocado_type = avocado['type']\n",
    "region = avocado['region']\n",
    "\n",
    "# 분산분석\n",
    "from statsmodels.formula.api import ols\n",
    "from statsmodels.stats.anova import anova_lm\n",
    "f = 'AveragePrice ~ C(avocado_type) * C(region)'\n",
    "model = ols(f, avocado).fit()\n",
    "aov_table = anova_lm(model, typ = 2)\n",
    "aov_table"
   ]
  },
  {
   "cell_type": "markdown",
   "metadata": {},
   "source": [
    "상호작용에 대한 검정결과는 C(avocado_type):C(region) 행의 p-value 값을 보고 판단할 수 있다. 유의수준 0.05로 귀무가설을 기각하여 상호 작용효과가 있다고 할 수있다. 또한 주효과 검정도 모두 유의수준 0.05 하에서 유의하므로 각 변수의 종류에 따른 AveragePrice의 차이가 있다고 할 수 있다.\n",
    "\n",
    "더 직관적으로 판단하기 위해 그래프로 해당 모델을 표현하였다"
   ]
  },
  {
   "cell_type": "code",
   "execution_count": 31,
   "metadata": {},
   "outputs": [
    {
     "data": {
      "image/png": "[encoded data removed]",
      "text/plain": [
       "<Figure size 576x432 with 1 Axes>"
      ]
     },
     "metadata": {
      "needs_background": "light"
     },
     "output_type": "display_data"
    }
   ],
   "source": [
    "from statsmodels.graphics.factorplots import interaction_plot\n",
    "import matplotlib.pyplot as plt\n",
    "\n",
    "# 독립변수와 종속변수를 별도의 변수에 할당.\n",
    "avocado_type = avocado['type']\n",
    "region = avocado['region']\n",
    "AveragePrice = avocado['AveragePrice']\n",
    "\n",
    "flg, ax = plt.subplots(figsize=(8,6))\n",
    "fig = interaction_plot(avocado_type, region, AveragePrice, colors=['red', 'blue','black'], \n",
    "                       markers=['D', '^', 'o'], ms=10, ax=ax)\n",
    "plt.show()"
   ]
  },
  {
   "cell_type": "code",
   "execution_count": null,
   "metadata": {},
   "outputs": [
    {
     "data": {
      "text/plain": [
       "<AxesSubplot:xlabel='region', ylabel='AveragePrice'>"
      ]
     },
     "execution_count": 73,
     "metadata": {},
     "output_type": "execute_result"
    },
    {
     "data": {
      "image/png": "[encoded data removed]",
      "text/plain": [
       "<Figure size 1440x720 with 1 Axes>"
      ]
     },
     "metadata": {
      "needs_background": "light"
     },
     "output_type": "display_data"
    }
   ],
   "source": [
    "# 지역별 선호도 확인 \n",
    "import seaborn as sns\n",
    "plt.figure(figsize=(20,10))\n",
    "g = ['type', 'region']\n",
    "avocado_g = avocado.groupby(g)['AveragePrice'].mean().to_frame().sort_values('AveragePrice',ascending=False).reset_index(['region','type']).set_index('region')\n",
    "sns.barplot(data = avocado_g, x= avocado_g.index ,y='AveragePrice',hue = 'type')"
   ]
  },
  {
   "cell_type": "code",
   "execution_count": null,
   "metadata": {},
   "outputs": [],
   "source": [
    "# 한눈에 파악이 어려우니, 갭차이를 큰순서부터 정렬할 수 있는 테이블을 생성한다.\n",
    "avocado_g2 = avocado_g.reset_index()\n",
    "region_u = avocado_g2.region.unique()\n",
    "\n",
    "\n",
    "def avo_f3(df,i):\n",
    "    return (df[(df['region']== region_u[i])&(df['type']=='organic')].AveragePrice.values - df[(df['region']== region_u[i])&(df['type']=='conventional')].AveragePrice.values)[0]\n",
    "def avo_f2(df,i):\n",
    "    return (df[(df['region']== region_u[i])&(df['type']=='conventional')].AveragePrice.values)[0]\n",
    "def avo_f1(df,i):\n",
    "    return (df[(df['region']== region_u[i])&(df['type']=='organic')].AveragePrice.values)[0]\n"
   ]
  },
  {
   "cell_type": "code",
   "execution_count": null,
   "metadata": {},
   "outputs": [
    {
     "data": {
      "image/png": "[encoded data removed]",
      "text/plain": [
       "<Figure size 1440x720 with 1 Axes>"
      ]
     },
     "metadata": {
      "needs_background": "light"
     },
     "output_type": "display_data"
    }
   ],
   "source": [
    "avo_dic = {r: [avo_f1(avocado_g2, idx),avo_f2(avocado_g2, idx),avo_f3(avocado_g2, idx)] for idx, r in enumerate(region_u)}\n",
    "avocado_g3 = pd.DataFrame(avo_dic).T\n",
    "avocado_g3.columns = ['AveragePrice_organic','AveragePrice_conventional','AveragePrice_diff']\n",
    "ax = avocado_g3.sort_values('AveragePrice_diff', ascending=False)[:10].plot(kind='bar', figsize=(20,10))\n",
    "for p in ax.patches:\n",
    "    left, bottom, width, height = p.get_bbox().bounds\n",
    "    ax.annotate(f\"{height:.2f}\", (left+width/2, height*1.01), ha='center')\n"
   ]
  },
  {
   "cell_type": "markdown",
   "metadata": {},
   "source": [
    "PhoenixTucsion, WestnewMexico 등이 갭이 큰 것을 확인"
   ]
  },
  {
   "cell_type": "code",
   "execution_count": null,
   "metadata": {},
   "outputs": [
    {
     "data": {
      "image/png": "[encoded data removed]",
      "text/plain": [
       "<Figure size 1440x720 with 1 Axes>"
      ]
     },
     "metadata": {
      "needs_background": "light"
     },
     "output_type": "display_data"
    }
   ],
   "source": [
    "ax = avocado_g3.sort_values('AveragePrice_diff', ascending=True)[:10].plot(kind='bar', figsize=(20,10))\n",
    "for p in ax.patches:\n",
    "    left, bottom, width, height = p.get_bbox().bounds\n",
    "    ax.annotate(f\"{height:.2f}\", (left+width/2, height*1.01), ha='center')"
   ]
  },
  {
   "cell_type": "markdown",
   "metadata": {},
   "source": [
    "반면, 차이가 적게 나는 순위도 확인"
   ]
  },
  {
   "cell_type": "code",
   "execution_count": null,
   "metadata": {},
   "outputs": [
    {
     "data": {
      "text/html": [
       "<div>\n",
       "<style scoped>\n",
       "    .dataframe tbody tr th:only-of-type {\n",
       "        vertical-align: middle;\n",
       "    }\n",
       "\n",
       "    .dataframe tbody tr th {\n",
       "        vertical-align: top;\n",
       "    }\n",
       "\n",
       "    .dataframe thead th {\n",
       "        text-align: right;\n",
       "    }\n",
       "</style>\n",
       "<table border=\"1\" class=\"dataframe\">\n",
       "  <thead>\n",
       "    <tr style=\"text-align: right;\">\n",
       "      <th></th>\n",
       "      <th>AveragePrice_organic</th>\n",
       "      <th>AveragePrice_conventional</th>\n",
       "      <th>AveragePrice_diff</th>\n",
       "    </tr>\n",
       "  </thead>\n",
       "  <tbody>\n",
       "    <tr>\n",
       "      <th>count</th>\n",
       "      <td>54.000000</td>\n",
       "      <td>54.000000</td>\n",
       "      <td>54.000000</td>\n",
       "    </tr>\n",
       "    <tr>\n",
       "      <th>mean</th>\n",
       "      <td>1.654010</td>\n",
       "      <td>1.158040</td>\n",
       "      <td>0.495970</td>\n",
       "    </tr>\n",
       "    <tr>\n",
       "      <th>std</th>\n",
       "      <td>0.205752</td>\n",
       "      <td>0.162290</td>\n",
       "      <td>0.162272</td>\n",
       "    </tr>\n",
       "    <tr>\n",
       "      <th>min</th>\n",
       "      <td>1.270769</td>\n",
       "      <td>0.728225</td>\n",
       "      <td>0.227337</td>\n",
       "    </tr>\n",
       "    <tr>\n",
       "      <th>25%</th>\n",
       "      <td>1.486154</td>\n",
       "      <td>1.070104</td>\n",
       "      <td>0.376154</td>\n",
       "    </tr>\n",
       "    <tr>\n",
       "      <th>50%</th>\n",
       "      <td>1.657041</td>\n",
       "      <td>1.164260</td>\n",
       "      <td>0.470799</td>\n",
       "    </tr>\n",
       "    <tr>\n",
       "      <th>75%</th>\n",
       "      <td>1.755266</td>\n",
       "      <td>1.270533</td>\n",
       "      <td>0.578388</td>\n",
       "    </tr>\n",
       "    <tr>\n",
       "      <th>max</th>\n",
       "      <td>2.229231</td>\n",
       "      <td>1.408047</td>\n",
       "      <td>0.992426</td>\n",
       "    </tr>\n",
       "  </tbody>\n",
       "</table>\n",
       "</div>"
      ],
      "text/plain": [
       "       AveragePrice_organic  AveragePrice_conventional  AveragePrice_diff\n",
       "count             54.000000                  54.000000          54.000000\n",
       "mean               1.654010                   1.158040           0.495970\n",
       "std                0.205752                   0.162290           0.162272\n",
       "min                1.270769                   0.728225           0.227337\n",
       "25%                1.486154                   1.070104           0.376154\n",
       "50%                1.657041                   1.164260           0.470799\n",
       "75%                1.755266                   1.270533           0.578388\n",
       "max                2.229231                   1.408047           0.992426"
      ]
     },
     "execution_count": 179,
     "metadata": {},
     "output_type": "execute_result"
    }
   ],
   "source": [
    "avocado_g3.describe() "
   ]
  },
  {
   "cell_type": "markdown",
   "metadata": {},
   "source": [
    "organic은 1.7, convetional은 1.2로 평균 0.5의 차이 발생하는 것을 알수 있음"
   ]
  }
 ],
 "metadata": {
  "kernelspec": {
   "display_name": "Python 3.8.13 ('py38')",
   "language": "python",
   "name": "python3"
  },
  "language_info": {
   "codemirror_mode": {
    "name": "ipython",
    "version": 3
   },
   "file_extension": ".py",
   "mimetype": "text/x-python",
   "name": "python",
   "nbconvert_exporter": "python",
   "pygments_lexer": "ipython3",
   "version": "3.8.13"
  },
  "orig_nbformat": 4,
  "vscode": {
   "interpreter": {
    "hash": "4395888be403c58de61e9eb932f3da5d54821f847dc0ca6e361f0068678bfd78"
   }
  }
 },
 "nbformat": 4,
 "nbformat_minor": 2
}
