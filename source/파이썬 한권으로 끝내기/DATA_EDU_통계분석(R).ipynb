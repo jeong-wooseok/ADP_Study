{
 "cells": [
  {
   "cell_type": "markdown",
   "id": "30bf540e",
   "metadata": {},
   "source": [
    "# 데이터 샘플링"
   ]
  },
  {
   "cell_type": "markdown",
   "id": "6c9133e3",
   "metadata": {},
   "source": [
    "- 모집단에서 일부의 표본을 추출하여 활용하는 것이 효율적이다.\n",
    "- 훈련용/검증용으로 나눌 때도 샘플링 활용"
   ]
  },
  {
   "cell_type": "markdown",
   "id": "b385aba1",
   "metadata": {},
   "source": [
    "## 표본추출 방법"
   ]
  },
  {
   "cell_type": "markdown",
   "id": "22e8d470",
   "metadata": {},
   "source": [
    "### 통계\n",
    "- 통계란, 특정 집단을 대상으로 수행한 조사나 실험을 통해 나온 결과에 대한 요약된 형태의 표현\n",
    "- 조사 또는 실험을 통해 데이터 확보, 조사대상에 따라 총조사(census)와 표본 조사 로 구분"
   ]
  },
  {
   "cell_type": "markdown",
   "id": "0e60bb92",
   "metadata": {},
   "source": [
    "### 통계자료의 획득 방법\n",
    "- 총조사/전수조사\n",
    "- 표본 조사"
   ]
  },
  {
   "cell_type": "markdown",
   "id": "6b165619",
   "metadata": {},
   "source": [
    "### 표본 추출 방법\n",
    "- 모집단을 대표 할 수 있는 표본의 추출이 중요\n",
    "- 단순 임의 추출 법 : 각 개체에 번호를 부여, 랜덤하게 n개를 추출\n",
    "- 계통추출법 : 랜덤하게 정렬된 표본에서 시간 또는 공간적으로 일정한 간격을 두고 표본을 추출\n",
    "- 집락추출법 : 군집을 구분하고 군집을 먼저 선택한 후 해당 군집에서만 표본을 추출\n",
    "- 층회추출법 : 모딥단이 이질적인 몇 개의 계층으로 이루어져 있을 때, 계층으로 부터 원소를 임의로 추출하여, 각 계층을 고루 대표할 수 있도록 랜덤하게 추출\n",
    "- 다단계추출 : 표본 추출 과정을 여러 단계로 나눠, 표본으로 추출된 집단 내에서 다시 일부를 뽑고, 그 집단에서 다시 일부를 뽑는 방식"
   ]
  },
  {
   "cell_type": "markdown",
   "id": "0d14fcd3",
   "metadata": {},
   "source": [
    "## R을 이용한 표본 추출\n",
    "\n",
    "### 단순 임의 추출\n",
    "- R에서 sample 함수 이용해 추출할 행 번호를 뽑은 뒤 데이터에 대해 단순 임의 추출 수행\n",
    "\n",
    "#### 함수 사용법\n",
    "\n",
    "```R\n",
    "    sample(x, size, replace=FALSE, prop=NULL)\n",
    "```\n",
    "\n",
    "    - x : 표본을 추출하는 벡터\n",
    "    - size : 표본의 크기\n",
    "    - replace : 복원 추출 여부\n",
    "    - prob : 데이터를 뽑을 때 가중치\n",
    "    \n",
    "#### 함수 사용 예제\n",
    "- iris 데이터로 분석을 진행하기 위해, 전체 데이터를 7:3 비율로 training/test data 로 추출 하라\n",
    "- 이를 새로운 변수에 저장하라 (데이터 추출은 단순임의추출을 사용하라)"
   ]
  },
  {
   "cell_type": "code",
   "execution_count": 2,
   "id": "616fd26a",
   "metadata": {},
   "outputs": [],
   "source": [
    "# iris 데이터 행의 개수에서 70%에 해당하는 행번호로 랜덤 추출\n",
    "\n",
    "idx  <- sample(1:nrow(iris), nrow(iris)*0.7, replace=FALSE)"
   ]
  },
  {
   "cell_type": "code",
   "execution_count": 4,
   "id": "6de002b1",
   "metadata": {},
   "outputs": [],
   "source": [
    "# 추출한 행번호를 이용하여 training/test data 생성\n",
    "\n",
    "training  <- iris[idx,]\n",
    "test  <- iris[-idx,]"
   ]
  },
  {
   "cell_type": "code",
   "execution_count": 7,
   "id": "7a23fa6d",
   "metadata": {},
   "outputs": [
    {
     "data": {
      "text/html": [
       "<style>\n",
       ".list-inline {list-style: none; margin:0; padding: 0}\n",
       ".list-inline>li {display: inline-block}\n",
       ".list-inline>li:not(:last-child)::after {content: \"\\00b7\"; padding: 0 .5ex}\n",
       "</style>\n",
       "<ol class=list-inline><li>150</li><li>5</li></ol>\n"
      ],
      "text/latex": [
       "\\begin{enumerate*}\n",
       "\\item 150\n",
       "\\item 5\n",
       "\\end{enumerate*}\n"
      ],
      "text/markdown": [
       "1. 150\n",
       "2. 5\n",
       "\n",
       "\n"
      ],
      "text/plain": [
       "[1] 150   5"
      ]
     },
     "metadata": {},
     "output_type": "display_data"
    },
    {
     "data": {
      "text/html": [
       "<style>\n",
       ".list-inline {list-style: none; margin:0; padding: 0}\n",
       ".list-inline>li {display: inline-block}\n",
       ".list-inline>li:not(:last-child)::after {content: \"\\00b7\"; padding: 0 .5ex}\n",
       "</style>\n",
       "<ol class=list-inline><li>105</li><li>5</li></ol>\n"
      ],
      "text/latex": [
       "\\begin{enumerate*}\n",
       "\\item 105\n",
       "\\item 5\n",
       "\\end{enumerate*}\n"
      ],
      "text/markdown": [
       "1. 105\n",
       "2. 5\n",
       "\n",
       "\n"
      ],
      "text/plain": [
       "[1] 105   5"
      ]
     },
     "metadata": {},
     "output_type": "display_data"
    },
    {
     "data": {
      "text/html": [
       "<style>\n",
       ".list-inline {list-style: none; margin:0; padding: 0}\n",
       ".list-inline>li {display: inline-block}\n",
       ".list-inline>li:not(:last-child)::after {content: \"\\00b7\"; padding: 0 .5ex}\n",
       "</style>\n",
       "<ol class=list-inline><li>45</li><li>5</li></ol>\n"
      ],
      "text/latex": [
       "\\begin{enumerate*}\n",
       "\\item 45\n",
       "\\item 5\n",
       "\\end{enumerate*}\n"
      ],
      "text/markdown": [
       "1. 45\n",
       "2. 5\n",
       "\n",
       "\n"
      ],
      "text/plain": [
       "[1] 45  5"
      ]
     },
     "metadata": {},
     "output_type": "display_data"
    }
   ],
   "source": [
    "# 데이터 개수 확인\n",
    "\n",
    "dim(iris)\n",
    "dim(training)\n",
    "dim(test)"
   ]
  },
  {
   "cell_type": "markdown",
   "id": "75c6031d",
   "metadata": {},
   "source": [
    "### 층화 임의 추출\n",
    "- 특정 데이터가 여성 계층 70%, 남성 계층 30%로 구성되어 있다고 가정\n",
    "- 각 계측을 고루 대표할 수 있도록 표본을 추출하기 위해서는 여성과 남성 집단에 대해 7:3 비율로 데이터를 추출 해야 한다."
   ]
  },
  {
   "cell_type": "markdown",
   "id": "bbb5b572",
   "metadata": {},
   "source": [
    "#### 함수 사용법\n",
    "\n",
    "```R\n",
    "    strata(data, stratanames=NULL, size, method=c(\"srswor\", \"srswr\",\"poisson\",\"systematic\"), pik, description=FALSE)\n",
    "```\n",
    "\n",
    "    - data : 표본을 추출할 데이터프레임 또는 행렬\n",
    "    - stratanames : 데이터에서 계층(집단)을 구분하는 변수들\n",
    "    - size : 각 계층에서 추출할 데이터의 수\n",
    "    - method : 데이터를 뽑는 방법\n",
    "        - srswor : 비복원 단순 임의 추출\n",
    "        - srswr : 복원 단순 임의 추출\n",
    "        - poisson : 포아송 추출\n",
    "        - systemattic : 계통 추출\n",
    "    - pik : 데이터를 표본에 포함시킬 확률\n",
    "    - description : 표본크기와 모집단 크기를 추출할지의 여부\n",
    "    \n",
    "- strata 함수를 통해 층화 임의 추출을 수행하여 얻어진 데이터는 getdata 함수를 통해 확인 가능\n",
    "\n",
    "```R\n",
    "    getdata(data, m)\n",
    "```\n",
    "\n",
    "    - data : 표본을 추출할 원본 데이터\n",
    "    - m : 추출된 벡터 혹은 데이터 프레임\n",
    "    \n",
    "#### 함수 사용 예제\n",
    "- iris 데이터에서 Species가 setosa인 데이터를 20개, versicolor인 데이터를 15개, versinica인 데이터를 15개 씩 층화 임의 추출 하라"
   ]
  },
  {
   "cell_type": "code",
   "execution_count": 8,
   "id": "70bef924",
   "metadata": {},
   "outputs": [
    {
     "name": "stderr",
     "output_type": "stream",
     "text": [
      "‘/home/restful3/R/x86_64-pc-linux-gnu-library/4.2’의 위치에 패키지(들)을 설치합니다.\n",
      "(왜냐하면 ‘lib’가 지정되지 않았기 때문입니다)\n",
      "\n",
      "‘lpSolve’(들)을 또한 설치합니다.\n",
      "\n",
      "\n"
     ]
    }
   ],
   "source": [
    "# sampling 페키지 설치 및 로드\n",
    "install.packages(\"sampling\")\n",
    "library(sampling)"
   ]
  },
  {
   "cell_type": "code",
   "execution_count": 16,
   "id": "6cbafbfd",
   "metadata": {},
   "outputs": [
    {
     "data": {
      "text/html": [
       "<table class=\"dataframe\">\n",
       "<caption>A data.frame: 6 × 4</caption>\n",
       "<thead>\n",
       "\t<tr><th></th><th scope=col>Species</th><th scope=col>ID_unit</th><th scope=col>Prob</th><th scope=col>Stratum</th></tr>\n",
       "\t<tr><th></th><th scope=col>&lt;fct&gt;</th><th scope=col>&lt;int&gt;</th><th scope=col>&lt;dbl&gt;</th><th scope=col>&lt;int&gt;</th></tr>\n",
       "</thead>\n",
       "<tbody>\n",
       "\t<tr><th scope=row>1</th><td>setosa</td><td> 1</td><td>0.4</td><td>1</td></tr>\n",
       "\t<tr><th scope=row>2</th><td>setosa</td><td> 2</td><td>0.4</td><td>1</td></tr>\n",
       "\t<tr><th scope=row>4</th><td>setosa</td><td> 4</td><td>0.4</td><td>1</td></tr>\n",
       "\t<tr><th scope=row>8</th><td>setosa</td><td> 8</td><td>0.4</td><td>1</td></tr>\n",
       "\t<tr><th scope=row>9</th><td>setosa</td><td> 9</td><td>0.4</td><td>1</td></tr>\n",
       "\t<tr><th scope=row>10</th><td>setosa</td><td>10</td><td>0.4</td><td>1</td></tr>\n",
       "</tbody>\n",
       "</table>\n"
      ],
      "text/latex": [
       "A data.frame: 6 × 4\n",
       "\\begin{tabular}{r|llll}\n",
       "  & Species & ID\\_unit & Prob & Stratum\\\\\n",
       "  & <fct> & <int> & <dbl> & <int>\\\\\n",
       "\\hline\n",
       "\t1 & setosa &  1 & 0.4 & 1\\\\\n",
       "\t2 & setosa &  2 & 0.4 & 1\\\\\n",
       "\t4 & setosa &  4 & 0.4 & 1\\\\\n",
       "\t8 & setosa &  8 & 0.4 & 1\\\\\n",
       "\t9 & setosa &  9 & 0.4 & 1\\\\\n",
       "\t10 & setosa & 10 & 0.4 & 1\\\\\n",
       "\\end{tabular}\n"
      ],
      "text/markdown": [
       "\n",
       "A data.frame: 6 × 4\n",
       "\n",
       "| <!--/--> | Species &lt;fct&gt; | ID_unit &lt;int&gt; | Prob &lt;dbl&gt; | Stratum &lt;int&gt; |\n",
       "|---|---|---|---|---|\n",
       "| 1 | setosa |  1 | 0.4 | 1 |\n",
       "| 2 | setosa |  2 | 0.4 | 1 |\n",
       "| 4 | setosa |  4 | 0.4 | 1 |\n",
       "| 8 | setosa |  8 | 0.4 | 1 |\n",
       "| 9 | setosa |  9 | 0.4 | 1 |\n",
       "| 10 | setosa | 10 | 0.4 | 1 |\n",
       "\n"
      ],
      "text/plain": [
       "   Species ID_unit Prob Stratum\n",
       "1  setosa   1      0.4  1      \n",
       "2  setosa   2      0.4  1      \n",
       "4  setosa   4      0.4  1      \n",
       "8  setosa   8      0.4  1      \n",
       "9  setosa   9      0.4  1      \n",
       "10 setosa  10      0.4  1      "
      ]
     },
     "metadata": {},
     "output_type": "display_data"
    }
   ],
   "source": [
    "# 층화 임의 추출한 뒤 sample 변수에 저장\n",
    "sample <- strata(data=iris, c(\"Species\"), size=c(20, 15, 15), method=\"srswor\")\n",
    "\n",
    "# sample 의 상위 6개\n",
    "head(sample)"
   ]
  },
  {
   "cell_type": "code",
   "execution_count": 17,
   "id": "c1143552",
   "metadata": {},
   "outputs": [],
   "source": [
    "# 추출된 데이터를 iris_sample 변수에 저장\n",
    "iris_sample <- getdata(iris, sample)"
   ]
  },
  {
   "cell_type": "code",
   "execution_count": 19,
   "id": "46cb53e1",
   "metadata": {},
   "outputs": [
    {
     "data": {
      "text/html": [
       "<table class=\"dataframe\">\n",
       "<caption>A data.frame: 6 × 5</caption>\n",
       "<thead>\n",
       "\t<tr><th></th><th scope=col>Sepal.Length</th><th scope=col>Sepal.Width</th><th scope=col>Petal.Length</th><th scope=col>Petal.Width</th><th scope=col>Species</th></tr>\n",
       "\t<tr><th></th><th scope=col>&lt;dbl&gt;</th><th scope=col>&lt;dbl&gt;</th><th scope=col>&lt;dbl&gt;</th><th scope=col>&lt;dbl&gt;</th><th scope=col>&lt;fct&gt;</th></tr>\n",
       "</thead>\n",
       "<tbody>\n",
       "\t<tr><th scope=row>1</th><td>5.1</td><td>3.5</td><td>1.4</td><td>0.2</td><td>setosa</td></tr>\n",
       "\t<tr><th scope=row>2</th><td>4.9</td><td>3.0</td><td>1.4</td><td>0.2</td><td>setosa</td></tr>\n",
       "\t<tr><th scope=row>3</th><td>4.7</td><td>3.2</td><td>1.3</td><td>0.2</td><td>setosa</td></tr>\n",
       "\t<tr><th scope=row>4</th><td>4.6</td><td>3.1</td><td>1.5</td><td>0.2</td><td>setosa</td></tr>\n",
       "\t<tr><th scope=row>5</th><td>5.0</td><td>3.6</td><td>1.4</td><td>0.2</td><td>setosa</td></tr>\n",
       "\t<tr><th scope=row>6</th><td>5.4</td><td>3.9</td><td>1.7</td><td>0.4</td><td>setosa</td></tr>\n",
       "</tbody>\n",
       "</table>\n"
      ],
      "text/latex": [
       "A data.frame: 6 × 5\n",
       "\\begin{tabular}{r|lllll}\n",
       "  & Sepal.Length & Sepal.Width & Petal.Length & Petal.Width & Species\\\\\n",
       "  & <dbl> & <dbl> & <dbl> & <dbl> & <fct>\\\\\n",
       "\\hline\n",
       "\t1 & 5.1 & 3.5 & 1.4 & 0.2 & setosa\\\\\n",
       "\t2 & 4.9 & 3.0 & 1.4 & 0.2 & setosa\\\\\n",
       "\t3 & 4.7 & 3.2 & 1.3 & 0.2 & setosa\\\\\n",
       "\t4 & 4.6 & 3.1 & 1.5 & 0.2 & setosa\\\\\n",
       "\t5 & 5.0 & 3.6 & 1.4 & 0.2 & setosa\\\\\n",
       "\t6 & 5.4 & 3.9 & 1.7 & 0.4 & setosa\\\\\n",
       "\\end{tabular}\n"
      ],
      "text/markdown": [
       "\n",
       "A data.frame: 6 × 5\n",
       "\n",
       "| <!--/--> | Sepal.Length &lt;dbl&gt; | Sepal.Width &lt;dbl&gt; | Petal.Length &lt;dbl&gt; | Petal.Width &lt;dbl&gt; | Species &lt;fct&gt; |\n",
       "|---|---|---|---|---|---|\n",
       "| 1 | 5.1 | 3.5 | 1.4 | 0.2 | setosa |\n",
       "| 2 | 4.9 | 3.0 | 1.4 | 0.2 | setosa |\n",
       "| 3 | 4.7 | 3.2 | 1.3 | 0.2 | setosa |\n",
       "| 4 | 4.6 | 3.1 | 1.5 | 0.2 | setosa |\n",
       "| 5 | 5.0 | 3.6 | 1.4 | 0.2 | setosa |\n",
       "| 6 | 5.4 | 3.9 | 1.7 | 0.4 | setosa |\n",
       "\n"
      ],
      "text/plain": [
       "  Sepal.Length Sepal.Width Petal.Length Petal.Width Species\n",
       "1 5.1          3.5         1.4          0.2         setosa \n",
       "2 4.9          3.0         1.4          0.2         setosa \n",
       "3 4.7          3.2         1.3          0.2         setosa \n",
       "4 4.6          3.1         1.5          0.2         setosa \n",
       "5 5.0          3.6         1.4          0.2         setosa \n",
       "6 5.4          3.9         1.7          0.4         setosa "
      ]
     },
     "metadata": {},
     "output_type": "display_data"
    }
   ],
   "source": [
    "head(iris)"
   ]
  },
  {
   "cell_type": "code",
   "execution_count": 18,
   "id": "7747e6ac",
   "metadata": {},
   "outputs": [
    {
     "data": {
      "text/html": [
       "<table class=\"dataframe\">\n",
       "<caption>A data.frame: 6 × 8</caption>\n",
       "<thead>\n",
       "\t<tr><th></th><th scope=col>Sepal.Length</th><th scope=col>Sepal.Width</th><th scope=col>Petal.Length</th><th scope=col>Petal.Width</th><th scope=col>Species</th><th scope=col>ID_unit</th><th scope=col>Prob</th><th scope=col>Stratum</th></tr>\n",
       "\t<tr><th></th><th scope=col>&lt;dbl&gt;</th><th scope=col>&lt;dbl&gt;</th><th scope=col>&lt;dbl&gt;</th><th scope=col>&lt;dbl&gt;</th><th scope=col>&lt;fct&gt;</th><th scope=col>&lt;int&gt;</th><th scope=col>&lt;dbl&gt;</th><th scope=col>&lt;int&gt;</th></tr>\n",
       "</thead>\n",
       "<tbody>\n",
       "\t<tr><th scope=row>1</th><td>5.1</td><td>3.5</td><td>1.4</td><td>0.2</td><td>setosa</td><td> 1</td><td>0.4</td><td>1</td></tr>\n",
       "\t<tr><th scope=row>2</th><td>4.9</td><td>3.0</td><td>1.4</td><td>0.2</td><td>setosa</td><td> 2</td><td>0.4</td><td>1</td></tr>\n",
       "\t<tr><th scope=row>4</th><td>4.6</td><td>3.1</td><td>1.5</td><td>0.2</td><td>setosa</td><td> 4</td><td>0.4</td><td>1</td></tr>\n",
       "\t<tr><th scope=row>8</th><td>5.0</td><td>3.4</td><td>1.5</td><td>0.2</td><td>setosa</td><td> 8</td><td>0.4</td><td>1</td></tr>\n",
       "\t<tr><th scope=row>9</th><td>4.4</td><td>2.9</td><td>1.4</td><td>0.2</td><td>setosa</td><td> 9</td><td>0.4</td><td>1</td></tr>\n",
       "\t<tr><th scope=row>10</th><td>4.9</td><td>3.1</td><td>1.5</td><td>0.1</td><td>setosa</td><td>10</td><td>0.4</td><td>1</td></tr>\n",
       "</tbody>\n",
       "</table>\n"
      ],
      "text/latex": [
       "A data.frame: 6 × 8\n",
       "\\begin{tabular}{r|llllllll}\n",
       "  & Sepal.Length & Sepal.Width & Petal.Length & Petal.Width & Species & ID\\_unit & Prob & Stratum\\\\\n",
       "  & <dbl> & <dbl> & <dbl> & <dbl> & <fct> & <int> & <dbl> & <int>\\\\\n",
       "\\hline\n",
       "\t1 & 5.1 & 3.5 & 1.4 & 0.2 & setosa &  1 & 0.4 & 1\\\\\n",
       "\t2 & 4.9 & 3.0 & 1.4 & 0.2 & setosa &  2 & 0.4 & 1\\\\\n",
       "\t4 & 4.6 & 3.1 & 1.5 & 0.2 & setosa &  4 & 0.4 & 1\\\\\n",
       "\t8 & 5.0 & 3.4 & 1.5 & 0.2 & setosa &  8 & 0.4 & 1\\\\\n",
       "\t9 & 4.4 & 2.9 & 1.4 & 0.2 & setosa &  9 & 0.4 & 1\\\\\n",
       "\t10 & 4.9 & 3.1 & 1.5 & 0.1 & setosa & 10 & 0.4 & 1\\\\\n",
       "\\end{tabular}\n"
      ],
      "text/markdown": [
       "\n",
       "A data.frame: 6 × 8\n",
       "\n",
       "| <!--/--> | Sepal.Length &lt;dbl&gt; | Sepal.Width &lt;dbl&gt; | Petal.Length &lt;dbl&gt; | Petal.Width &lt;dbl&gt; | Species &lt;fct&gt; | ID_unit &lt;int&gt; | Prob &lt;dbl&gt; | Stratum &lt;int&gt; |\n",
       "|---|---|---|---|---|---|---|---|---|\n",
       "| 1 | 5.1 | 3.5 | 1.4 | 0.2 | setosa |  1 | 0.4 | 1 |\n",
       "| 2 | 4.9 | 3.0 | 1.4 | 0.2 | setosa |  2 | 0.4 | 1 |\n",
       "| 4 | 4.6 | 3.1 | 1.5 | 0.2 | setosa |  4 | 0.4 | 1 |\n",
       "| 8 | 5.0 | 3.4 | 1.5 | 0.2 | setosa |  8 | 0.4 | 1 |\n",
       "| 9 | 4.4 | 2.9 | 1.4 | 0.2 | setosa |  9 | 0.4 | 1 |\n",
       "| 10 | 4.9 | 3.1 | 1.5 | 0.1 | setosa | 10 | 0.4 | 1 |\n",
       "\n"
      ],
      "text/plain": [
       "   Sepal.Length Sepal.Width Petal.Length Petal.Width Species ID_unit Prob\n",
       "1  5.1          3.5         1.4          0.2         setosa   1      0.4 \n",
       "2  4.9          3.0         1.4          0.2         setosa   2      0.4 \n",
       "4  4.6          3.1         1.5          0.2         setosa   4      0.4 \n",
       "8  5.0          3.4         1.5          0.2         setosa   8      0.4 \n",
       "9  4.4          2.9         1.4          0.2         setosa   9      0.4 \n",
       "10 4.9          3.1         1.5          0.1         setosa  10      0.4 \n",
       "   Stratum\n",
       "1  1      \n",
       "2  1      \n",
       "4  1      \n",
       "8  1      \n",
       "9  1      \n",
       "10 1      "
      ]
     },
     "metadata": {},
     "output_type": "display_data"
    }
   ],
   "source": [
    "# iris_sample의 상위 6개\n",
    "head(iris_sample)"
   ]
  },
  {
   "cell_type": "code",
   "execution_count": 20,
   "id": "3bb76c94",
   "metadata": {},
   "outputs": [
    {
     "data": {
      "text/plain": [
       "\n",
       "    setosa versicolor  virginica \n",
       "        20         15         15 "
      ]
     },
     "metadata": {},
     "output_type": "display_data"
    }
   ],
   "source": [
    "# 표본 데이터의 Species 변수에 대한 도수 분포표\n",
    "table(iris_sample$Species)"
   ]
  },
  {
   "cell_type": "markdown",
   "id": "27a3bfa4",
   "metadata": {},
   "source": [
    "# T-검정(T-test)\n",
    "- 두 집단의 평균을 통계적으로 비교하기 위해 사용\n",
    "- 일표본, 대응표본, 독립표본 T-검정으로 나뉘어진다."
   ]
  },
  {
   "cell_type": "markdown",
   "id": "bb215ffb",
   "metadata": {},
   "source": [
    "## 일표본 T-검정(One Sample T-Test)"
   ]
  },
  {
   "cell_type": "markdown",
   "id": "44d1efec",
   "metadata": {},
   "source": [
    "### 일표본 T-검정 이란\n",
    "- 단일모집단에서 관심이 있는 연속형 변수의 평균값을 특정 기준값과 비교\n",
    "- e.g. A과수원에서 생산되는 사과의 평균 무게가 200g이라고 알려져 있을 때, 실제로 그러한가\n",
    "- 단일모집단에서 알고자 하는 값이 종속변수가 되며\n",
    "- 설정한 기준값과 종속변수의 평균값 사이의 차이가 통계적으로 유의미하다면 귀무가설 기각, 대립가설 채택, 두 값이 다르다고 결론"
   ]
  },
  {
   "cell_type": "markdown",
   "id": "c3b06bcb",
   "metadata": {},
   "source": [
    "### 일표본 T-검정의 가정\n",
    "- 모딥단의 구성요소들이 정규분포를 따른다\n",
    "- 표본의 크기가 30보다 클 경우, 중심극한정리에 따라 표본이 정규분포를 따른다고 가정\n",
    "- 종속변수는 연속형, 검증하고자 하는 기준값 필요"
   ]
  },
  {
   "cell_type": "markdown",
   "id": "4f4be5ed",
   "metadata": {},
   "source": [
    "### 일표본 T-검정의 단계\n",
    "#### 1단계 : 가설 설정\n",
    "- 모수 : 모평균($\\mu$)\n",
    "- 귀무가설($H_0$) : $\\mu$의 값은 $\\mu_0$ (설정한 기준값) 이다 . ($\\mu = \\mu_0$)\n",
    "- 대립가설($H_1$) : \n",
    "    - $\\mu$의 값은 $\\mu_0$ (설정한 기준값) 이 아니다 . ($\\mu \\neq \\mu_0$) - 양측검증\n",
    "    - $\\mu$의 값은 $\\mu_0$ (설정한 기준값) 보다 크다 . ($\\mu > \\mu_0$) - 우단측검증\n",
    "    - $\\mu$의 값은 $\\mu_0$ (설정한 기준값) 보다 작다 . ($\\mu < \\mu_0$) - 좌단측검증    \n",
    "    \n",
    "#### 2단계 : 유의수준 설정\n",
    "\n",
    "#### 3단계 : 검증통계량의 값 및 유의확률 계산\n",
    "- 검정통계량의 값 : $t_0 = \\frac{\\bar{x}-\\mu}{s/\\sqrt(n)} \\sim t(df)$, $df=n-1$\n",
    "- $\\bar{x}$ : 표본평균, $\\mu_0$ : 모평균 추정치, $s$ : 표본 표준편차, $n$ : 표본의 개수, $df$ : 자유도\n",
    "\n",
    "#### 4단계 : 귀무가설의 기각여부 판단 및 의사결정\n",
    "- 유의 확률 (p-value) < 유의 수준 ($\\alpha$) : 귀무가설 기각, 대립가설 채택\n",
    "- 유의 확률 (p-value) > 유의 수준 ($\\alpha$) : 귀무가설 기각하지 않는다"
   ]
  },
  {
   "cell_type": "markdown",
   "id": "318b2d79",
   "metadata": {},
   "source": [
    "### 함수 사용법\n",
    "- 일표본 T-검정을 수행하기 전 표본에 대한 정규성이 필요하면, 콜모고로프 스미르노프 검정, Q-Q plot 사용\n",
    "- 이중, Shapiro-Wilk normality test 를 수행해 본다.\n",
    "- Shapiro-Wilk normality test\n",
    "    - 귀무가설 : 데이터가 정규분포를 따른다\n",
    "    - 대립가설 : 데이터가 정규분포를 따르지 않는다.\n",
    "``` R\n",
    "    shapiro.test(data)\n",
    "```\n",
    "- 데이터가 정규 분포를 따른다는 가정을 만족하면, t.test 함수를 이용하여 일표본 T-검정을 수행\n",
    "- 만약 정규성을 만족하지 않으면, wilcox.test 함수 이용\n",
    "``` R\n",
    "    t.test(x, alternative=c(\"two.sided\", \"less\", \"greater\"), mu=0)\n",
    "    wilcox.test(x, alternative=c(\"two.sided\",\"less\",\"greater\"), mu=0)\n",
    "```\n",
    "- 인자 및 설명\n",
    "    - x : 표본으로 부터 관측한 값 (수치형 벡터)\n",
    "    - alternative : 양측검정 (\"two.sided\"), 단측 검정 (\"less\", \"greater\")\n",
    "    - mu : 검증시 기준이 되는 값 ($\\mu_0$)\n",
    "    \n",
    "### 함수 사용 예제\n",
    "    - MASS 패키지의 cats 데이터\n",
    "    - 성별 (sex), 몸무게(Bwt), 심장의 무게(Hwt)\n",
    "    - 고양이들의 평균 몸무게가. 2.6kg 인지 아닌지 통계적 검증을 수행하고 결과를 해석해 보라\n",
    "    - 양측검정, 유의수준 = 0.05"
   ]
  },
  {
   "cell_type": "markdown",
   "id": "0c5b84d5",
   "metadata": {},
   "source": [
    "#### 가설\n",
    "    - 귀무가설 : 고양이들의 평균 몸무게가 (Bwt) 2.6kg 이다.\n",
    "    - 대립가설 : 고양이들의 평균 몸무게가 (Bwt) 2.6kg 이 아니다.    "
   ]
  },
  {
   "cell_type": "code",
   "execution_count": 2,
   "id": "38bea410",
   "metadata": {},
   "outputs": [
    {
     "name": "stdout",
     "output_type": "stream",
     "text": [
      "'data.frame':\t144 obs. of  3 variables:\n",
      " $ Sex: Factor w/ 2 levels \"F\",\"M\": 1 1 1 1 1 1 1 1 1 1 ...\n",
      " $ Bwt: num  2 2 2 2.1 2.1 2.1 2.1 2.1 2.1 2.1 ...\n",
      " $ Hwt: num  7 7.4 9.5 7.2 7.3 7.6 8.1 8.2 8.3 8.5 ...\n"
     ]
    }
   ],
   "source": [
    "# cats 데이터를 사용하기 위한 MASS 패키지 로딩\n",
    "library(MASS)\n",
    "\n",
    "# cats 데이터 구조 확인\n",
    "str(cats)"
   ]
  },
  {
   "cell_type": "code",
   "execution_count": 3,
   "id": "6d8d3a20",
   "metadata": {},
   "outputs": [
    {
     "data": {
      "text/plain": [
       "\n",
       "\tShapiro-Wilk normality test\n",
       "\n",
       "data:  cats$Bwt\n",
       "W = 0.95188, p-value = 6.731e-05\n"
      ]
     },
     "metadata": {},
     "output_type": "display_data"
    }
   ],
   "source": [
    "# Bwt 변수에 대한 정규성 검정\n",
    "shapiro.test(cats$Bwt)"
   ]
  },
  {
   "cell_type": "markdown",
   "id": "a32bfb5c",
   "metadata": {},
   "source": [
    "- 정규성 검정 결과 : p-value가 유의 수준 0.05 보다 작다, \"데이터가 정규분포를 따른다\"는 귀무가설 기각\n",
    "- wilcox.test 로 T-검정"
   ]
  },
  {
   "cell_type": "code",
   "execution_count": 6,
   "id": "bd2cb3cc",
   "metadata": {},
   "outputs": [
    {
     "data": {
      "text/plain": [
       "\n",
       "\tWilcoxon signed rank test with continuity correction\n",
       "\n",
       "data:  cats$Bwt\n",
       "V = 5607, p-value = 0.02532\n",
       "alternative hypothesis: true location is not equal to 2.6\n"
      ]
     },
     "metadata": {},
     "output_type": "display_data"
    }
   ],
   "source": [
    "wilcox.test(cats$Bwt, mu=2.6, alternative=\"two.sided\")"
   ]
  },
  {
   "cell_type": "markdown",
   "id": "f3662807",
   "metadata": {},
   "source": [
    "- wilcox 검정 결과 : p-value가 0.02532 로, 0.05보다 작다\n",
    "- 귀무가설 \"고양이들의 평균 몸무게가 (Bwt) 2.6kg 이다.\" 를 기각 한다\n",
    "- 결론 : 고양이들의 평균 몸무게가 (Bwt) 2.6kg 이 아니다."
   ]
  },
  {
   "cell_type": "markdown",
   "id": "beab7863",
   "metadata": {},
   "source": [
    "## 대응표본 T-검정(Paired Sample T-Test)\n",
    "### 대응표본 T-검정 이란\n",
    "- 단일 모집단에 대해 두 번의 처리를 가했을 때, 두개의 처리에 따른 평균의 차이를 비교\n",
    "- e.g. 어느 기업에서 판매사원들의 역량 향상을 위해 두가지 방법으로 직업 교육 실시, 두 가지 교육법에 따른 판매실적 평균 차이 비교\n",
    "- 하나의 모집단에서 크기가 n개인 하나의 표본을 추출한 후, \n",
    "- 표본 내의 개체들에 대해 두번의 측정 실시\n",
    "- 관측값들은 서로 독립적이지 않고, 쌍으로 이루어져 있어, 대응표본 t-검정을 짝지어진 검정(matched pair t-test)라고 한다.\n",
    "- 모집단과 표본은 하나씩이지만, 각 개체들에 대해 두 개씩 관측값이 존재, 모수는 두개\n",
    "- 표본 내에 있는 각 개체별로 짝지어진 관측값 사이에 차이가 있는지 검정\n",
    "\n",
    "### 대응표본 T-검정의 가정\n",
    "- 모집단의 관측값이 정규성(정규분포 만족)을 만족한다\n",
    "- 종속변수는 연속형 변수\n",
    "\n",
    "### 단계\n",
    "#### 1단계 : 가설 설정\n",
    "- 모수 : 두 개의 모평균 사이의 차이(D)\n",
    "- 귀무가설($H_0$) : 두 개의 모평균 간에는 차이가 없다,($\\mu - \\mu_0 = D = 0$)\n",
    "- 대립가설($H_1$) : \n",
    "    - 두 개의 모평균 간에는 차이가 있다,($\\mu - \\mu_0 = D \\neq 0$) - 양측검증\n",
    "    - 두 개의 모평균 간에는 차이는 0보다 크다,($\\mu - \\mu_0 = D > 0$) - 우단측검증\n",
    "    - 두 개의 모평균 간에는 차이는 0보다 작다,($\\mu - \\mu_0 = D < 0$) - 좌단측검증   \n",
    "    \n",
    "#### 2단계 : 유의수준 설정\n",
    "#### 3단계 : 검정통계량의 값 및 유의확률 계산\n",
    "- 검정통계량의 값 : $t = \\frac{\\bar{D} - (\\mu_x - \\mu_y)}{s_D\\sqrt{n})} \\sim t(df)$, $df = n-1$\n",
    "- $\\bar{D}$ 차이의 평균, $\\mu_x$ : 처리 X의 평균 $\\mu_y$ : 처리 Y의 평균, $s_D$: 차이의 표준편차, n : 표본의 수\n",
    "\n",
    "#### 4단계 : 귀무가설의 기각여부 판단 및 의사 결정\n",
    "\n",
    "### 함수 사용법\n",
    "- R에서 대응표본 T-검정을 수행하기 위해서는 다음과 같이 t.test 함수를 사용한다.\n",
    "``` R\n",
    "    t.test(x, y, alternative = c(\"two.sided\", \"less\",\"greater\"), paired=FALSE, m=0)\n",
    "```\n",
    "- 인자 및 설명\n",
    "    - x : 처리 방법이 x 일 때 관측값\n",
    "    - y : 처리 방법이 y 일 때 관측값\n",
    "    - alternative : 양측검정 (\"two.sided\"), 단측 검정 (\"less\", \"greater\")\n",
    "    - paired : 대응표본 t-검정을 수행 할 경우 TRUE\n",
    "    - m : 검정의 기본이 되는 값 (기본 값은 0, 적지 않아도 된다)\n",
    "    \n",
    "### 함수 사용 예제\n",
    "- 10명의 환자를 대상으로 수면영양제를 복용하기 전후의 수면시간 비교\n",
    "- 영양제 복용 전후의 수면시간 차이가 있는지 알아 보라\n",
    "- 정규성 만족한다는 가정, 단측검정 수행, 유의수준 0.05\n",
    "\n",
    "#### 가설\n",
    "    - 귀무가설 : 수면영양제를 복용하기 전과 후의 수면시간에 차이가 없다 ($\\mu_x - \\mu_y = D = 0$)\n",
    "    - 대립가설 : \n",
    "        - 수면영양제를 복용하기 전과 후의 수면시간에 차이는 0보다 작다.\n",
    "        - 즉, 수면영양제를 복용한 후 평균수면시간이 늘어 났다.($\\mu_x - \\mu_y = D < 0$)"
   ]
  },
  {
   "cell_type": "code",
   "execution_count": 7,
   "id": "65416f6d",
   "metadata": {},
   "outputs": [
    {
     "data": {
      "text/html": [
       "<table class=\"dataframe\">\n",
       "<caption>A data.frame: 10 × 2</caption>\n",
       "<thead>\n",
       "\t<tr><th scope=col>before</th><th scope=col>after</th></tr>\n",
       "\t<tr><th scope=col>&lt;dbl&gt;</th><th scope=col>&lt;dbl&gt;</th></tr>\n",
       "</thead>\n",
       "<tbody>\n",
       "\t<tr><td>7</td><td>8</td></tr>\n",
       "\t<tr><td>3</td><td>4</td></tr>\n",
       "\t<tr><td>4</td><td>5</td></tr>\n",
       "\t<tr><td>5</td><td>6</td></tr>\n",
       "\t<tr><td>2</td><td>2</td></tr>\n",
       "\t<tr><td>1</td><td>3</td></tr>\n",
       "\t<tr><td>6</td><td>6</td></tr>\n",
       "\t<tr><td>6</td><td>8</td></tr>\n",
       "\t<tr><td>5</td><td>6</td></tr>\n",
       "\t<tr><td>4</td><td>5</td></tr>\n",
       "</tbody>\n",
       "</table>\n"
      ],
      "text/latex": [
       "A data.frame: 10 × 2\n",
       "\\begin{tabular}{ll}\n",
       " before & after\\\\\n",
       " <dbl> & <dbl>\\\\\n",
       "\\hline\n",
       "\t 7 & 8\\\\\n",
       "\t 3 & 4\\\\\n",
       "\t 4 & 5\\\\\n",
       "\t 5 & 6\\\\\n",
       "\t 2 & 2\\\\\n",
       "\t 1 & 3\\\\\n",
       "\t 6 & 6\\\\\n",
       "\t 6 & 8\\\\\n",
       "\t 5 & 6\\\\\n",
       "\t 4 & 5\\\\\n",
       "\\end{tabular}\n"
      ],
      "text/markdown": [
       "\n",
       "A data.frame: 10 × 2\n",
       "\n",
       "| before &lt;dbl&gt; | after &lt;dbl&gt; |\n",
       "|---|---|\n",
       "| 7 | 8 |\n",
       "| 3 | 4 |\n",
       "| 4 | 5 |\n",
       "| 5 | 6 |\n",
       "| 2 | 2 |\n",
       "| 1 | 3 |\n",
       "| 6 | 6 |\n",
       "| 6 | 8 |\n",
       "| 5 | 6 |\n",
       "| 4 | 5 |\n",
       "\n"
      ],
      "text/plain": [
       "   before after\n",
       "1  7      8    \n",
       "2  3      4    \n",
       "3  4      5    \n",
       "4  5      6    \n",
       "5  2      2    \n",
       "6  1      3    \n",
       "7  6      6    \n",
       "8  6      8    \n",
       "9  5      6    \n",
       "10 4      5    "
      ]
     },
     "metadata": {},
     "output_type": "display_data"
    }
   ],
   "source": [
    "# 데이터 입력\n",
    "data  <- data.frame(before=c(7,3,4,5,2,1,6,6,5,4),\n",
    "                   after = c(8,4,5,6,2,3,6,8,6,5))\n",
    "data"
   ]
  },
  {
   "cell_type": "markdown",
   "id": "e60cbcf4",
   "metadata": {},
   "source": [
    "- 대응표본 T-검정"
   ]
  },
  {
   "cell_type": "code",
   "execution_count": 8,
   "id": "d486f033",
   "metadata": {},
   "outputs": [
    {
     "data": {
      "text/plain": [
       "\n",
       "\tPaired t-test\n",
       "\n",
       "data:  data$before and data$after\n",
       "t = -4.7434, df = 9, p-value = 0.0005269\n",
       "alternative hypothesis: true mean difference is less than 0\n",
       "95 percent confidence interval:\n",
       "       -Inf -0.6135459\n",
       "sample estimates:\n",
       "mean difference \n",
       "             -1 \n"
      ]
     },
     "metadata": {},
     "output_type": "display_data"
    }
   ],
   "source": [
    "t.test(data$before, data$after, alternative=\"less\", paired=TRUE)"
   ]
  },
  {
   "cell_type": "markdown",
   "id": "015260e2",
   "metadata": {},
   "source": [
    "- 검정 통계량(t) :-4.7434, 자유도(df) = 9, p-value = 0.0005269\n",
    "- p-value가 0.05 보다 작아, 귀무가설 기각\n",
    "- 따라서, 수면영양제를 복용한 후 평균수면시간이 늘어 났다"
   ]
  },
  {
   "cell_type": "markdown",
   "id": "5fa01494",
   "metadata": {},
   "source": [
    "## 독립표본 T-검정(Independent Sample T-Test)\n",
    "### 독립표본 T-검정 이란\n",
    "- 두 개의 독립된 모집단의 평균을 비교\n",
    "- e.g. 성별에 따른 출근준비 시간\n",
    "- 두 개의 모집단에서 크기가 n개인 표본을 각각 추출\n",
    "- 모집단, 모수, 표본이 모두 두개씩 존재\n",
    "\n",
    "### 독립표본 T-검정의 가정\n",
    "- 두 모집단은 정규성 만족\n",
    "- 두 모집단은 서로 독립\n",
    "- 두 모집단은 등분산성 가정 확인 (두 집단의 모분산이 동일)\n",
    "- 독립변수는 범주형, 종속변수는 연속형\n",
    "\n",
    "### 독립표본 T-검정의 단계\n",
    "#### 1단계 : 가설 설정\n",
    "- 모수 : 서로 독립된 두 모집단의 평균 ($\\mu_1, \\mu_2$)\n",
    "- 귀무가설($H_0$) : 두 개의 모평균에는 차이가 없다 ($\\mu_1 = \\mu_2$)\n",
    "- 대립가설($H_1$) \n",
    "    - 두 개의 모평균에는 차이가 있다. ($\\mu_1 \\neq \\mu_2$) - 양측검정\n",
    "    - 집단1의 모평균이 집단2의 모평균보다 크다. ($\\mu_1 > \\mu_2$) - 우단측검정\n",
    "    - 집단1의 모평균이 집단2의 모평균보다 크다. ($\\mu_1 < \\mu_2$) - 좌단측검정\n",
    "    \n",
    "#### 2단계 : 유의수준 설정\n",
    "#### 3단계 : 등분산 검정\n",
    "- 두 모집단이 등분산성을 만족하는지 여부에 따라 유의확률과 검정통계량의 값이 다르게 계산\n",
    "- 귀무가설($H_0$) : 두 집단의 분산이 동일하다 ($\\sigma_1^2 = \\sigma_2^2$)\n",
    "- 대립가설($H_1$) : 두 집단의 분산이 다르다 ($\\sigma_1^2 \\neq \\sigma_2^2$)\n",
    "\n",
    "#### 3단계 : 검정통계량의 값 및 유의확률 계산\n",
    "- $t = \\frac{(\\bar{X_1}-\\bar{X_2}) - D_0}{s\\sqrt{\\frac{1}{n_1}+\\frac{1}{n_2}}} \\sim t(df)$, $df= n_1 + n_2 -2$\n",
    "#### 4단계 : 귀무가설의 기각여부 판단 및 의사결정\n",
    "- $p-value < \\alpha$ : 귀무가설 기각, 대립가설 채택\n",
    "- $p-value > \\alpha$ : 귀무가설을 기각하지 않는다.\n",
    "\n",
    "### 함수 사용법\n",
    "- 독립표본 t-검정을 수행하기에 앞서, 등분산성 검정을 수행 해야 한다.\n",
    "- var.test의 사용법을 알아 본다.\n",
    "\n",
    "``` R\n",
    "    var.test(x, y, alternative)\n",
    "    var.test(formula, data, alternative)\n",
    "```\n",
    "\n",
    "- 인자 및 설명\n",
    "    - x : 모집단 1로 부터 측정한 관측값\n",
    "    - y : 모집단 2로 부터 측정한 관측값    \n",
    "    - formula : 수치형 벡터 ~ 집단분류\n",
    "    - data : 등분산 검정을 수행할 데이터\n",
    "    - alternative : 양측검정 (\"two.sided\"), 단측검정(\"less\", \"greater\")\n",
    "    \n",
    "```R\n",
    "    t.test(x, y, alternative, var.equal=FALSE)\n",
    "    t.test(formula, data,alternative, var.equal=FALSE)\n",
    "```\n",
    "\n",
    "- 인자 및 설명\n",
    "    - x : 모집단 1로 부터 측정한 관측값\n",
    "    - y : 모집단 2로 부터 측정한 관측값    \n",
    "    - formula : 수치형 벡터 ~ 집단분류\n",
    "    - data : t-test를 수행할 데이터\n",
    "    - alternative : 양측검정 (\"two.sided\"), 단측검정(\"less\", \"greater\")\n",
    "    - var.equal : 등분산성을 만족하는지의 여부\n",
    "    \n",
    "### 함수 사용 예제\n",
    "- MASS 패키지의 cats 데이터\n",
    "- 성별(sex), 몸무게(Bwt), 심장의 무게(Hwt)\n",
    "- 고양이들의 성별에 따른 평균은 통계적으로 다른지 검증하고 결과를 해석해 보자\n",
    "#### 가설\n",
    "- 귀무가설 : 고양이의 성별에 따른 평균 몸무게는 통계적으로 유의미한 차이가 없다.\n",
    "- 대립가설 : 고양이의 성별에 따른 평균 몸무게는 통계적으로 유의미한 차이가 있다.\n",
    "#### 등분산성 검정 수행"
   ]
  },
  {
   "cell_type": "code",
   "execution_count": 1,
   "id": "bdf3e40d",
   "metadata": {},
   "outputs": [],
   "source": [
    "# 데이터 불러오기\n",
    "library(MASS)\n",
    "data('cats')"
   ]
  },
  {
   "cell_type": "code",
   "execution_count": 2,
   "id": "9b73ee71",
   "metadata": {},
   "outputs": [
    {
     "data": {
      "text/plain": [
       "\n",
       "\tF test to compare two variances\n",
       "\n",
       "data:  Bwt by Sex\n",
       "F = 0.3435, num df = 46, denom df = 96, p-value = 0.0001157\n",
       "alternative hypothesis: true ratio of variances is not equal to 1\n",
       "95 percent confidence interval:\n",
       " 0.2126277 0.5803475\n",
       "sample estimates:\n",
       "ratio of variances \n",
       "         0.3435015 \n"
      ]
     },
     "metadata": {},
     "output_type": "display_data"
    }
   ],
   "source": [
    "# 등분산성 검정\n",
    "var.test(Bwt~Sex, data=cats)"
   ]
  },
  {
   "cell_type": "markdown",
   "id": "a1685de0",
   "metadata": {},
   "source": [
    "- p-p-value = 0.0001157, 0.05 보다 작음\n",
    "- 귀무가설 기각, 등분산성을 만족한다고 할 수 없다.\n",
    "#### t-검정 수행\n",
    "- 등분산성을 만족하지 못함을 반영 해야 함"
   ]
  },
  {
   "cell_type": "code",
   "execution_count": 5,
   "id": "5f85e9af",
   "metadata": {},
   "outputs": [
    {
     "data": {
      "text/plain": [
       "\n",
       "\tWelch Two Sample t-test\n",
       "\n",
       "data:  Bwt by Sex\n",
       "t = -8.7095, df = 136.84, p-value = 8.831e-15\n",
       "alternative hypothesis: true difference in means between group F and group M is not equal to 0\n",
       "95 percent confidence interval:\n",
       " -0.6631268 -0.4177242\n",
       "sample estimates:\n",
       "mean in group F mean in group M \n",
       "       2.359574        2.900000 \n"
      ]
     },
     "metadata": {},
     "output_type": "display_data"
    }
   ],
   "source": [
    "t.test(Bwt~Sex, data=cats, alternative=\"two.sided\", var.equal=FALSE)"
   ]
  },
  {
   "cell_type": "markdown",
   "id": "d0b3dd2b",
   "metadata": {},
   "source": [
    "- p-value = 8.831e-15, 유의 수준 5%에서 귀무가설 기각\n",
    "- 고양이의 성별에 따른 평균 몸무게는 통계적으로 유의미한 차이가 존재 한다."
   ]
  },
  {
   "cell_type": "markdown",
   "id": "22dfd58b",
   "metadata": {},
   "source": [
    "# 교차분석\n",
    "- 명목척도 혹은 수서척도와 같은 범주형 자료들 간의 상호 연관성을 알아볼 때 사용\n",
    "- 두 범주형 변수에 대한 관련성을 파악하고, 이를 통계적으로 검정\n",
    "- 적합성/독립성/동질성 검정에 사용\n",
    "\n",
    "## 교차분석 개념\n",
    "### 교차분석의 개념 및 특징\n",
    "- 범주형 자료 두 변수 간의 관계를 알아보기 위해 실시하는 분석 기법\n",
    "- 적합성 검정, 독립성 검정, 동질성 검정에 사용\n",
    "- 카이제곱($\\chi^2$) 검정 통계량 이용\n",
    "### 교차표\n",
    "- 두 변수간의 각 범주를 교차하여 데이터의 관측도수(빈도)를 표 형태로 나타낸 것\n",
    "- 교차분석은 교차표에서 각 셀의 관찰빈도와 기대빈도간의 차이를 검정\n",
    "\n",
    "## 적합성 검정\n",
    "### 적합성 검정이란\n",
    "- 실험에서 얻어진 관측값들이 예상한 이론과 일치하는지 아닌지 검정하는 방법\n",
    "- 관측값들이 어떠한 이론적 분포를 따르고 있는지 알아 본다\n",
    "- 모집단 분포에 대한 가정이 옳게 됐는지를 관측자료와 비교하여 검정\n",
    "\n",
    "### 가설 설정\n",
    "- n개의 표본자료를 k개의 범주로 분류\n",
    "- 각 범주의 관측도수와 주어진 확률분포에 대해 각 범주에 속하는 기대도수 들이 적합하는지 여부 검정\n",
    "- 귀무가설 : 실제 분포와 이론적 분포 간에는 차이가 없다 (두 분포가 일치)\n",
    "- 대립가설 : 실제 분포와 이론적 분포 간에는 차이가 있다 (두 분포가 일치하지 않는다)\n",
    "\n",
    "### 검정 통계량\n",
    "- $\\chi^2 = \\sum_{i=1}^k\\frac{(O_i - E_i)^2}{E_i}$\n",
    "- $\\chi^2$이 큰 경우 : 관찰 도수와 기대도수 차이가 크다, 적합도가 낮다.\n",
    "- $\\chi^2$이 작은 경우 : 관찰 도수와 기대도수 차이가 적다, 적합도가 높다.\n",
    "\n",
    "### 자유도\n",
    "- $df = k-1 $\n",
    "- k : 범주의 수 \n",
    "\n",
    "### 함수 사용법\n",
    "- R의 적합도 검정은 chisq.test 함수 사용\n",
    "``` R\n",
    "    chisq.test(x, y, p)\n",
    "```\n",
    "- 인자 및 설명\n",
    "    - x : 검정 하고자 하는 데이터\n",
    "    - y : 검정 하고자 하는 데이터\n",
    "    - p : 귀무가설을 통해 설정한 확률\n",
    "    \n",
    "### 함수 사용 예제\n",
    "- MASS 패키지, survey 데이터\n",
    "- W.Hnd : 설문 응답자가 왼손자비 인지 오른손잡이 인지\n",
    "- H.Hnd 변수로 분할표 생성\n",
    "- 귀무가설 : 전체 응답자 둥 왼손잡이 비율이 20%, 오른손잡이 비율이 80% 이다\n",
    "- 대립가설 : 전체 응답자 둥 왼손잡이 비율이 20%, 오른손잡이 비율이 80% 라고 할 수 없다."
   ]
  },
  {
   "cell_type": "code",
   "execution_count": 7,
   "id": "34669136",
   "metadata": {},
   "outputs": [],
   "source": [
    "# MASS 패키지 및 데이터 로드\n",
    "data(survey, package=\"MASS\")"
   ]
  },
  {
   "cell_type": "code",
   "execution_count": 8,
   "id": "fbc7a7c9",
   "metadata": {},
   "outputs": [
    {
     "name": "stdout",
     "output_type": "stream",
     "text": [
      "'data.frame':\t237 obs. of  12 variables:\n",
      " $ Sex   : Factor w/ 2 levels \"Female\",\"Male\": 1 2 2 2 2 1 2 1 2 2 ...\n",
      " $ Wr.Hnd: num  18.5 19.5 18 18.8 20 18 17.7 17 20 18.5 ...\n",
      " $ NW.Hnd: num  18 20.5 13.3 18.9 20 17.7 17.7 17.3 19.5 18.5 ...\n",
      " $ W.Hnd : Factor w/ 2 levels \"Left\",\"Right\": 2 1 2 2 2 2 2 2 2 2 ...\n",
      " $ Fold  : Factor w/ 3 levels \"L on R\",\"Neither\",..: 3 3 1 3 2 1 1 3 3 3 ...\n",
      " $ Pulse : int  92 104 87 NA 35 64 83 74 72 90 ...\n",
      " $ Clap  : Factor w/ 3 levels \"Left\",\"Neither\",..: 1 1 2 2 3 3 3 3 3 3 ...\n",
      " $ Exer  : Factor w/ 3 levels \"Freq\",\"None\",..: 3 2 2 2 3 3 1 1 3 3 ...\n",
      " $ Smoke : Factor w/ 4 levels \"Heavy\",\"Never\",..: 2 4 3 2 2 2 2 2 2 2 ...\n",
      " $ Height: num  173 178 NA 160 165 ...\n",
      " $ M.I   : Factor w/ 2 levels \"Imperial\",\"Metric\": 2 1 NA 2 2 1 1 2 2 2 ...\n",
      " $ Age   : num  18.2 17.6 16.9 20.3 23.7 ...\n"
     ]
    }
   ],
   "source": [
    "# survey 데이터 구조 확인\n",
    "str(survey)"
   ]
  },
  {
   "cell_type": "code",
   "execution_count": 9,
   "id": "75013644",
   "metadata": {},
   "outputs": [
    {
     "data": {
      "text/plain": [
       "\n",
       " Left Right \n",
       "   18   218 "
      ]
     },
     "metadata": {},
     "output_type": "display_data"
    }
   ],
   "source": [
    "# W.Hnd 분할표 확인\n",
    "table(survey$W.Hnd)"
   ]
  },
  {
   "cell_type": "code",
   "execution_count": 10,
   "id": "f49adfe1",
   "metadata": {},
   "outputs": [],
   "source": [
    "# W.Hnd변수의 분할표를 data 객체에 저장\n",
    "data <- table(survey$W.Hnd)"
   ]
  },
  {
   "cell_type": "code",
   "execution_count": 11,
   "id": "8de43fd9",
   "metadata": {},
   "outputs": [
    {
     "data": {
      "text/plain": [
       "\n",
       "\tChi-squared test for given probabilities\n",
       "\n",
       "data:  data\n",
       "X-squared = 22.581, df = 1, p-value = 2.015e-06\n"
      ]
     },
     "metadata": {},
     "output_type": "display_data"
    }
   ],
   "source": [
    "# 적합도 검정\n",
    "chisq.test(data, p=c(0.2, 0.8))"
   ]
  },
  {
   "cell_type": "markdown",
   "id": "7c6190b2",
   "metadata": {},
   "source": [
    "- p-value = 2.015e-06, 0.05보다 작아, 유의수준 5%에서 귀무 가설 기각\n",
    "- 따라서, 전체 응답자 둥 왼손잡이 비율이 20%, 오른손잡이 비율이 80% 라고 할 수 없다."
   ]
  },
  {
   "cell_type": "markdown",
   "id": "ec0365a8",
   "metadata": {},
   "source": [
    "## 독립성 검정\n",
    "### 독립성 검정이란\n",
    "- 모집단이 두 개의 변수, A, B에 의해 범주화 되었을 때, 이 두 변수들 사이에 관계가 독립인지 검증\n",
    "- 교차표 활용\n",
    "\n",
    "### 가설 설정\n",
    "- 두 변수 A, B가 서로 독립적으로 관측값에 영향을 미치는지 여부\n",
    "- 귀무가설 : 두 변수 사이에는 연관성이 없다 (독립)\n",
    "- 대립가설 : 두 변수 사이에는 연관성이 있다 (종속)\n",
    "\n",
    "### 검정 통계량\n",
    "- $\\chi^2 = \\sum_{i=1}^k\\frac{(O_i - E_i)^2}{E_i}$\n",
    "- $\\chi^2$이 큰 경우 : 두 변수 사이에 연관이 있다, 종속\n",
    "- $\\chi^2$이 작은 경우 : 두 변수 사이에 연관이 없다, 독립\n",
    "\n",
    "### 자유도\n",
    "- $df = (R-1)(C-1)$\n",
    "- R : 행의 수\n",
    "- C : 열의 수\n",
    "\n",
    "### 함수 사용법\n",
    "- chisq.test 함수 사용\n",
    "- 인자로 분할표 사용\n",
    "- 분할표는 xtabs, table 함수로 생성\n",
    "- xtabs 함수는 formula를 사용해 분할표 생성\n",
    "``` R\n",
    "    xtabs(formula, data)\n",
    "```\n",
    "- 인자 및 설명\n",
    "        - formula : 분할표를 만들고자 하는 변수\n",
    "        - data : 적용할 데이터\n",
    "\n",
    "- table 함수 사용법\n",
    "``` R\n",
    "    table(범수형변수) #도수분포표 생성\n",
    "    table(범주형변수1, 범주형변수2) # 두 변수간 이원분할표 생성\n",
    "```\n",
    "\n",
    "### 예제\n",
    "- MASS 패키지, survey 데이터\n",
    "- Exer 변수: 설문 응답자가 얼마나 자주 운동을 하는지 (Freq, Some, None)\n",
    "- W.Hnd 변수 : 설문 응답자가 왼손잡이 인지 오른손 잡이인지 (Left, Right)\n",
    "- 귀무가설 : W.Hnd과 Exer 는 독립이다\n",
    "- 대립가설 : W.Hnd과 Exer 는 독립이 아니다"
   ]
  },
  {
   "cell_type": "code",
   "execution_count": 12,
   "id": "318d0c83",
   "metadata": {},
   "outputs": [],
   "source": [
    "# 데이터 불러오기\n",
    "data(survey, package=\"MASS\")"
   ]
  },
  {
   "cell_type": "code",
   "execution_count": 14,
   "id": "fbd57ee4",
   "metadata": {},
   "outputs": [
    {
     "data": {
      "text/plain": [
       "       \n",
       "        Freq None Some\n",
       "  Left     7    3    8\n",
       "  Right  107   21   90"
      ]
     },
     "metadata": {},
     "output_type": "display_data"
    }
   ],
   "source": [
    "# 분할표 생성\n",
    "data <- table(survey$W.Hnd, survey$Exer)\n",
    "data"
   ]
  },
  {
   "cell_type": "code",
   "execution_count": 17,
   "id": "d65e0378",
   "metadata": {},
   "outputs": [
    {
     "name": "stderr",
     "output_type": "stream",
     "text": [
      "Warning message in chisq.test(data):\n",
      "“카이제곱 approximation은 정확하지 않을수도 있습니다”\n"
     ]
    },
    {
     "data": {
      "text/plain": [
       "\n",
       "\tPearson's Chi-squared test\n",
       "\n",
       "data:  data\n",
       "X-squared = 1.2065, df = 2, p-value = 0.547\n"
      ]
     },
     "metadata": {},
     "output_type": "display_data"
    }
   ],
   "source": [
    "# 카이제곱 검정\n",
    "chisq.test(data)"
   ]
  },
  {
   "cell_type": "markdown",
   "id": "ce0ed76f",
   "metadata": {},
   "source": [
    "- p-value = 0.547, 0.05 보다 크다, 따라서 귀무가설을 기각하지 못한다.\n",
    "- W.Hnd과 Exer 는 독립이다라고 말 할 수 있다."
   ]
  },
  {
   "cell_type": "markdown",
   "id": "6d2a2f42",
   "metadata": {},
   "source": [
    "## 동질성 검정\n",
    "### 동질성 검정 이란\n",
    "- 모집단이 임의의 변수에 따라 R개의 속성으로 범주화 되어 있을 때\n",
    "- R개의 부분 모집단에서 추출한 표본인 C개의 범주화된 집단의 분포가 서로 동일한지 검증\n",
    "- 검정 통계량 값을 계산할 때는 교차표 활용\n",
    "- 계산 방법은 앞서, 독립성 검정과 동일\n",
    "\n",
    "### 가설 설정\n",
    "- $j=1,2,...,c$\n",
    "- 귀무가설($H_0$) : $P_{1j} = P_{2j} = ... = P_{rj}$ (모든 $ P_{nj}(n=1,2,...,r)$은 동일)\n",
    "- 대립가설($H_1$) : Not $H_0$ 중 다른 값이 하나 이상 존재\n",
    "\n",
    "### 검정 통계량\n",
    "- $\\chi^2 = \\sum_{i=1}^k\\frac{(O_i - E_i)^2}{E_i}$\n",
    "- $\\chi^2$이 큰 경우 : $P_{1j} = P_{2j} = ... = P_{rj}$ 중 다른 값이 하나 이상 존재.\n",
    "- $\\chi^2$이 작은 경우 : 모든 $P_{1j} = P_{2j} = ... = P_{rj}$ 는 동일\n",
    "\n",
    "### 자유도\n",
    "- $df = (R-1)(C-1)$\n",
    "- R : 행의 수\n",
    "- C : 열의 수"
   ]
  },
  {
   "cell_type": "markdown",
   "id": "0a823cce",
   "metadata": {},
   "source": [
    "# 분산분석(ANOVA)\n",
    "- t-검정은 두 집단 간의 평균 차이를 비교\n",
    "- 분산분석은 두 개 이상의 다수 집단 간 평균을 비교하는 통계분석\n",
    "- 분산분석은 독립변수의 개수에 따라 일원배치, 이원배치, 다원배치 분산분석으로 나뉜다.\n",
    "\n",
    "## 일원배치 분산분석(One-way ANOVA)\n",
    "### 분산분석의 개념\n",
    "- 두개 이상의 집단에서 그룹 평균 간 차이를 그룹 내 변동에 비교하여 살펴보는 통계분석\n",
    "- 두개 이상 집단들의 평균 간 차이에 대한 통계적 유의성을 검증 (두 개 이상의 집단들의 평균 비교)\n",
    "### 일원배치 분산분석의 개념\n",
    "- 분산분석에서 반응값에 대한 하나의 범주형 변수의 영향을 알아보기 위해 사용\n",
    "- 모집단의 수에는 제한이 없으며, 각 표본의 수는 같지 않아도 된다.\n",
    "- F검정 통계량 사용\n",
    "### 일원배치 분산분석의 가정\n",
    "- 각 집단의 측정치는 서로 독립적이며 정규분포를 따른다\n",
    "- 각 집단 측정치의 분산은 같다(등분산 가정)\n",
    "### 분산분석표\n",
    "- 제곱합, 자유도, 평균제곱, 분산비 등으로 만든다\n",
    "### 가설검정\n",
    "- 귀무가설 : k개의 집단 간 모평균에는 차이가 없다.\n",
    "- 대립가설 : k개의 집단 간 모평균이 모두 같다고 할 수 없다.\n",
    "### 사후 검정\n",
    "- 분산분석의 결과 귀무가설이 기각되어 적어도 한 집단에서 평균의 차이가 있음이 통계적으로 증명되었을 때, 어떤 집단들에 대해서 평균의 차이가 존재하는지를 알아보기 위해 실시하는 분석\n",
    "- 종류로는, Duncan의 MRT(Multiple Range Test), Fisher의 LSD(최소유의차), Tukey의 HSD, Scheffe 등이 있다.\n",
    "### R을 활용한 일원배치 분산분석\n",
    "#### 함수 사용법\n",
    "- R에서 분산분석을 수행하기 위해서는 aov 함수 사용.\n",
    "```R\n",
    "    aov(formula, data)\n",
    "```\n",
    "- 인자 및 설명\n",
    "    - formula : 반응 변수 ~ 그룹 변수\n",
    "    - data : 데이터\n",
    "- 등분산 검정의 결과로 귀무가설이 기각되었을 경우, 어떠한 집단들 사이에서 통계적으로 유의한 차이가 있는지 알아보기 위해 수행하는 사후 분석\n",
    "    - Tukey의 HSD 검정법을 수행할 수 있는 R의 TukeyHSD\n",
    "```R\n",
    "    TukeyHSD(x, conf, level=0.95, ...)\n",
    "```\n",
    "- 인자 및 설명\n",
    "    - x : 분산분석의 결과\n",
    "    - conf.level : 신뢰수준에 해당 (기본값은 0.95)\n",
    "    \n",
    "#### 함수 사용 예제\n",
    "- R의 iris 데이터를 이용, Species 별 Sepal.Width의 평균이 같은지 다른지 확인\n",
    "- 가설\n",
    "    - 귀무가설 : 세가지 종에 대해 Sepal.Width의 평균은 모두 같다.\n",
    "    - 대립가설 : 세가지 종에 대해 Sepal.Width의 평균값에는 차이가 있다.\n",
    "- 분산분석    "
   ]
  },
  {
   "cell_type": "code",
   "execution_count": 2,
   "id": "1c2fa0c8",
   "metadata": {},
   "outputs": [
    {
     "data": {
      "text/plain": [
       "             Df Sum Sq Mean Sq F value Pr(>F)    \n",
       "Species       2  11.35   5.672   49.16 <2e-16 ***\n",
       "Residuals   147  16.96   0.115                   \n",
       "---\n",
       "Signif. codes:  0 ‘***’ 0.001 ‘**’ 0.01 ‘*’ 0.05 ‘.’ 0.1 ‘ ’ 1"
      ]
     },
     "metadata": {},
     "output_type": "display_data"
    }
   ],
   "source": [
    "result <- aov(Sepal.Width ~ Species, data=iris)\n",
    "summary(result)"
   ]
  },
  {
   "cell_type": "markdown",
   "id": "49d21491",
   "metadata": {},
   "source": [
    "- SSA의 자유도는, 3-1 = 2, SSE의 자유도는 150-3 = 147\n",
    "- p-value = 2e-16 < 0.05, 귀무가설 기각\n",
    "- 따라서, 세가지 종에 대해 Sepal.Width의 평균값에는 차이가 있다, 적어도 하나의 종은 나머지 종들과 평균이 유의미한 차이가 있다.\n",
    "- 세 가지 종들 중 어떠한 종들 간에 Sepal.Width에 차이가 있는지 사후 검정을 실시 한다."
   ]
  },
  {
   "cell_type": "code",
   "execution_count": 5,
   "id": "5bb35bf5",
   "metadata": {},
   "outputs": [
    {
     "data": {
      "text/plain": [
       "  Tukey multiple comparisons of means\n",
       "    95% family-wise confidence level\n",
       "\n",
       "Fit: aov(formula = Sepal.Width ~ Species, data = iris)\n",
       "\n",
       "$Species\n",
       "                       diff         lwr        upr     p adj\n",
       "versicolor-setosa    -0.658 -0.81885528 -0.4971447 0.0000000\n",
       "virginica-setosa     -0.454 -0.61485528 -0.2931447 0.0000000\n",
       "virginica-versicolor  0.204  0.04314472  0.3648553 0.0087802\n"
      ]
     },
     "metadata": {},
     "output_type": "display_data"
    }
   ],
   "source": [
    "TukeyHSD(result)"
   ]
  },
  {
   "cell_type": "markdown",
   "id": "aaee3ebd",
   "metadata": {},
   "source": [
    "- 사후분석의 가설\n",
    "    - 귀무가설 : 집단들 사이의 평균은 같다.\n",
    "    - 대립가설 : 집단들 사이의 평균은 같지 않다.\n",
    "- 모든 집단 수준에 대해, 두 집단 씩 짝(versicolor-setosa, virginica-setosa, virginica-versicolor)을 지어 각각 다중비교 수행\n",
    "- 모든 짝의 p-value가 0.05보다 작음, 따라서 귀무가설 기각\n",
    "- 즉, 모든 종들에 대해 꽃받침 폭의 평균값은 통계적으로 유의미한 차이가 있다.\n",
    "- 또한, diff는 - (하이픈) 왼쪽과 오른쪽 집단 간의 차이를 나타내는데, \n",
    "- versicolor과 setosa의 차이는 음수, 따라서 setosa가 versicolor 보다 더 Sepal.Width의 평균이 크다"
   ]
  },
  {
   "cell_type": "markdown",
   "id": "a88d5942",
   "metadata": {},
   "source": [
    "## 이원배치 분산분석 (Two-way ANOVA)\n",
    "### 개념\n",
    "- 반응값에 대해 두 개의 범주형 변수 A,B의 영향을 알아보기 위해 사용되는 검증 방법\n",
    "- e.g. 성별과 학년에 따른 시험전수의 차이\n",
    "- 두 독립변수 A, B사이에 상관관계 (교호작용 - 두 독립변수의 범주들의 조합으로 인해 반응변수에 미치는 특별한 영향)에 관한 검증 필요.\n",
    "### 가정\n",
    "- 각 집단 측정치의 분포는 정규분포 (정규성)\n",
    "- 집단 간 측정치의 분산은 같다 (등분산성)\n",
    "### 주효과와 교호작용 효과\n",
    "- 두 독립변수의 교호작용의 검증 필요\n",
    "- 주효과란 각각의 독립변수가 종속변수에 미치는 효과를 의미\n",
    "- 교호작용효과는 여러 독립변수들의 조합이 종속변수에 주는 영향을 의미\n",
    "- 즉, 한 독립변수가 종속변수에 미치는 영향이 다른 독립변수의 수준에 따라서 달라지는지를 분석\n",
    "- 두 독립변수 A, B간에 상관관계가 존재 한다면 교호작용이 있다는 의미.\n",
    "### 분산분석표\n",
    "### 가설검정\n",
    "- 귀무가설\n",
    "    - $\\alpha$ 변수에 따른 종속변수의 값에는 차이가 없다.\n",
    "    - $\\beta$ 변수에 따른 종속변수의 값에는 차이가 없다.    \n",
    "    - $\\alpha$와 $\\beta$ 변수의 상호작용이 없다.\n",
    "- 대립가설\n",
    "    - $\\alpha$ 변수에 따른 종속변수의 값에는 차이가 있다.\n",
    "    - $\\beta$ 변수에 따른 종속변수의 값에는 차이가 있다.    \n",
    "    - $\\alpha$와 $\\beta$ 변수의 상호작용 효과가 있다.\n",
    "### R을 활용한 이원배치 분산분석\n",
    "#### 함수 사용법\n",
    "- aov 함수 : 이원배치 분산분석\n",
    "```R\n",
    "    aov(formula, data)\n",
    "```\n",
    "- 인자 및 인자값\n",
    "    - formula : 반응변수 ~ 그룹변수\n",
    "    - data : 분석하고자 하는데이터명\n",
    "- interaction.plot 함수 : 상호작용 시각화    \n",
    "```R\n",
    "    interaction.plot(x.factor, trace.factor, response)\n",
    "```\n",
    "- 인자 및 인자값\n",
    "    - x.factor : x축에 그릴 그룹변수\n",
    "    - trace.factor : 그래프로 표현할 그룹변수\n",
    "    - response : 반응변수값을 저장할 벡터\n",
    "#### 함수 사용 예제\n",
    "- R 에 내장된 mtcars 데이터, cyl변수(실리더)와 am변수(변속기)에 따른 mpg변수(주행거리) 평균에 유의미한 차이가 존재 하는가\n",
    "- 귀무가설\n",
    "    - 실린더 개수에 따른 주행거리의 차이는 존재하지 않는다.\n",
    "    - 변속기 종류에 따른 주행거리의 차이는 존재하지 않는다.    \n",
    "    - 변속기 종류와 실린더 개수 사이에는 상호작용 효과가 없다.\n",
    "- 대립가설\n",
    "    - 실린더 개수에 따른 주행거리의 차이는 존재한다.\n",
    "    - 변속기 종류에 따른 주행거리의 차이는 존재한다.\n",
    "    - 변속기 종류와 실린더 개수 사이에는 상호작용 효과가 있다.\n",
    "#### 데이터 확인 및 전처리    "
   ]
  },
  {
   "cell_type": "code",
   "execution_count": 6,
   "id": "1f735ea3",
   "metadata": {},
   "outputs": [
    {
     "name": "stdout",
     "output_type": "stream",
     "text": [
      "'data.frame':\t32 obs. of  11 variables:\n",
      " $ mpg : num  21 21 22.8 21.4 18.7 18.1 14.3 24.4 22.8 19.2 ...\n",
      " $ cyl : num  6 6 4 6 8 6 8 4 4 6 ...\n",
      " $ disp: num  160 160 108 258 360 ...\n",
      " $ hp  : num  110 110 93 110 175 105 245 62 95 123 ...\n",
      " $ drat: num  3.9 3.9 3.85 3.08 3.15 2.76 3.21 3.69 3.92 3.92 ...\n",
      " $ wt  : num  2.62 2.88 2.32 3.21 3.44 ...\n",
      " $ qsec: num  16.5 17 18.6 19.4 17 ...\n",
      " $ vs  : num  0 0 1 1 0 1 0 1 1 1 ...\n",
      " $ am  : num  1 1 1 0 0 0 0 0 0 0 ...\n",
      " $ gear: num  4 4 4 3 3 3 3 4 4 4 ...\n",
      " $ carb: num  4 4 1 1 2 1 4 2 2 4 ...\n"
     ]
    }
   ],
   "source": [
    "data(\"mtcars\")\n",
    "str(mtcars)"
   ]
  },
  {
   "cell_type": "code",
   "execution_count": 7,
   "id": "ac96c66c",
   "metadata": {},
   "outputs": [],
   "source": [
    "# aov 함수 사용을 위해 독립변수인 cyl, am 을 팩터형으로 변환\n",
    "mtcars$cyl <- as.factor(mtcars$cyl)\n",
    "mtcars$am <- as.factor(mtcars$am)"
   ]
  },
  {
   "cell_type": "code",
   "execution_count": 8,
   "id": "b89e4579",
   "metadata": {},
   "outputs": [
    {
     "name": "stdout",
     "output_type": "stream",
     "text": [
      "'data.frame':\t32 obs. of  3 variables:\n",
      " $ cyl: Factor w/ 3 levels \"4\",\"6\",\"8\": 2 2 1 2 3 2 3 1 1 2 ...\n",
      " $ am : Factor w/ 2 levels \"0\",\"1\": 2 2 2 1 1 1 1 1 1 1 ...\n",
      " $ mpg: num  21 21 22.8 21.4 18.7 18.1 14.3 24.4 22.8 19.2 ...\n"
     ]
    }
   ],
   "source": [
    "# cyl, am, mpg 변수들로 구성된 분석용 테이블 생성\n",
    "car <- mtcars[, c('cyl', 'am', 'mpg')]\n",
    "str(car)"
   ]
  },
  {
   "cell_type": "markdown",
   "id": "e593abde",
   "metadata": {},
   "source": [
    "#### 분산분석 수행"
   ]
  },
  {
   "cell_type": "code",
   "execution_count": 9,
   "id": "c981fc0a",
   "metadata": {},
   "outputs": [
    {
     "data": {
      "text/plain": [
       "            Df Sum Sq Mean Sq F value   Pr(>F)    \n",
       "cyl          2  824.8   412.4  44.852 3.73e-09 ***\n",
       "am           1   36.8    36.8   3.999   0.0561 .  \n",
       "cyl:am       2   25.4    12.7   1.383   0.2686    \n",
       "Residuals   26  239.1     9.2                     \n",
       "---\n",
       "Signif. codes:  0 ‘***’ 0.001 ‘**’ 0.01 ‘*’ 0.05 ‘.’ 0.1 ‘ ’ 1"
      ]
     },
     "metadata": {},
     "output_type": "display_data"
    }
   ],
   "source": [
    "car_aov <- aov(mpg~cyl*am, car)\n",
    "summary(car_aov)"
   ]
  },
  {
   "cell_type": "markdown",
   "id": "8d6f4cca",
   "metadata": {},
   "source": [
    "- cyl 변수에 대한 p-value = 3.73e-09 < 0.05, 귀무가설 기각,  따라서,'실린더 개수는 주행거리의 평균간 차이에 유의미한 차이가 존재한다.\n",
    "- am 변수에 대한 p-value = 0.0561 > 0.05, 귀무가설 기각 하지 못함, 따라서, '변속기 종류에 따른 주행거리 평균간 차이는 존재하지 않는다'\n",
    "- cyl변수와 am변수간 상호작용 효과는, p-value = 0.2686 > 0.05, 귀무가설 기각 하지 못함, 따라서, '변속기 종류와 실린더 개수 사이에는 상호작용 효과가 없다.'"
   ]
  },
  {
   "cell_type": "markdown",
   "id": "551682e9",
   "metadata": {},
   "source": [
    "#### cyl변수와 am 변수 사이의 상호작용 시각화"
   ]
  },
  {
   "cell_type": "code",
   "execution_count": 11,
   "id": "04e7d8d0",
   "metadata": {},
   "outputs": [
    {
     "data": {
      "image/png": "[encoded data removed]",
      "text/plain": [
       "plot without title"
      ]
     },
     "metadata": {
      "image/png": {
       "height": 420,
       "width": 420
      }
     },
     "output_type": "display_data"
    }
   ],
   "source": [
    "interaction.plot(car$cyl, car$am, car$mpg, col=c('red','blue'))"
   ]
  },
  {
   "cell_type": "markdown",
   "id": "71fd9794",
   "metadata": {},
   "source": [
    "- 두 선이 교차하고 있을 때 x축에 있는 변수와 y축의 변수가 상호작용을 한다고 해석 할 수 있다.\n",
    "- 위 그래프는 교차하고 있지 않음을 볼때, 교호작용이 없다고 할 수 있다."
   ]
  },
  {
   "cell_type": "markdown",
   "id": "5e183854",
   "metadata": {},
   "source": [
    "# 상관분석\n",
    "- 변수들 간의 상관 관계, 방향, 크기를 분석 하는것\n",
    "\n",
    "## 개념\n",
    "### 상관분석\n",
    "- 두 변수간 관계 정도를 알아내기 위한 분석 방법\n",
    "- 상관계수는 데이터간 상관관계가 얼마나 강한지 수치화 한것\n",
    "    - $r = \\frac{cov(x, y)}{S_x \\times S_y}$\n",
    "- 상관계수 값이 클수록 데이터 간의 관계가 존재 한다는 의미, 그러나 인과 관계는 아님에 주의\n",
    "- 피어슨, 스피터만 상관계수, 켄달의 순위 상관계수 등이 있음\n",
    "### 공분산과 상관계수\n",
    "- 공분산은, 두 확률변수가 함께 변화한는지의 정도\n",
    "- 두 변수간의 단위에 따라 크기가 $-\\infty$에서 $\\infty$ 사이에 존재, 상관성의 정도를 파악하는데 한계가 있음\n",
    "- 따라서, 공분산을 두 변수의 표준편차의 곱으로 나누어 표준화 시킨 상관계수를 이용\n",
    "### 상관계수의 해석\n",
    "- -1과 1 사이의 값\n",
    "- 1에 가까울 수록 양의 상관성, 0에 가까울 수록 상관성이 없다\n",
    "- 마이너스는 음의 상관성을 의미\n",
    "- 두 변수가 독립이면 0\n",
    "## 상관분석의 유형\n",
    "### 피어슨 상관계수\n",
    "- 두 연속형 자료가 모두 정규성을 따를 경우 사용\n",
    "- 가장 많이 사용, 일반적으로 상관계수라고 하면 피어슨 상관계수 임\n",
    "### 스피어만 상관계수\n",
    "- 두 변수가 정규성을 만족하지 않은 경우\n",
    "- 순위 및 순서의 형태인 경우\n",
    "- 데이터의 순위를 매긴 후 그 순위에 대한 상관계수를 산출 하는 비모수적 방법\n",
    "- -1 부터 1 사이의 값\n",
    "- 비선형 관계의 연관성을 파악 가능\n",
    "- 연속형 외에도, 이산형, 순서형 자료에도 적용 가능\n",
    "### 캔달의 순위상관계수\n",
    "- 데이터가 (X,Y)와 같은 순서쌍으로 주어져 있을 때, \n",
    "- X가 커짐에 따라 Y도 커질 경우를 부합\n",
    "- X가 커짐에 따라 Y가 작아지는 경우를 비부합\n",
    "- 전체 데이터에서 부합쌍에 대한 비부합쌍의 비율로 상관계수 산출\n",
    "- -1에서 1사이의 값\n",
    "- 1은 전체 쌍에서 100%가 부합, -1은 100%가 비부합 의미\n",
    "- 0인 경우는 두 변수간의 상관성이 없음 의미\n",
    "## 상관계수 검정\n",
    "### 상관계수에 대한 검정\n",
    "- 상관분석은 분석 간 상관계수에 대한 추정이나 검정을 하는 것\n",
    "- 가설\n",
    "    - 귀무가설 : 변수1과 변수2간에는 상관관계가 없다. (상관계수 = 0)\n",
    "    - 대립가설 : 변수1과 변수2간에는 상관관계가 있다. (상관계수 = 1)    \n",
    "- p-value가 0.05 이하인 경우, 귀무가설 기각, 상관계수 활용 가능\n",
    "### R을 이용한 상관분석\n",
    "#### 함수 사용법\n",
    "- cor 함수 사용\n",
    "```R\n",
    "    cor(x,y, method=c(\"pearson\",\"kendall\",\"spearman\"), use)\n",
    "```\n",
    "- 인자 및 인자값\n",
    "    - x : 연속형 자료(벡터, 행렬, 데이터프레임)\n",
    "    - y : 연속형 자료(벡터, 행렬, 데이터프레임, NULL)\n",
    "    - method : 상관계수를 계산할 유형 지정, \"pearson\",\"kendall\",\"spearman\"\n",
    "    - use : na 값 처리 방법 (everything, all.obs, coimplete.obs, pairwise.complete.obs'\n",
    "- 산출된 상관계수에 대한 가설 검정 수행에는 cor.test 사용\n",
    "```R\n",
    "    cor.test(x,y, alternative=c(\"two.sided\",\"less\",\"greater\"),method=c(\"pearson\",\"kendall\",\"spearman\"))\n",
    "```\n",
    "- 인자 및 인자값\n",
    "    - x, y : 숫자 벡터\n",
    "    - alternative : 대립가설의 형태 지정\n",
    "    - method : 상관계수를 계산할 유형 지정, \"pearson\",\"kendall\",\"spearman\"\n",
    "- 시각화 하기 위한 pairs 함수 및 corrplot 패키지의 corplot 함수 \n",
    "```R\n",
    "    pairs(x, labels,...)\n",
    "```\n",
    "- 인자 및 인자값\n",
    "    - x : 시각화 할 행렬\n",
    "    - labels : 그래프 제목\n",
    "```R\n",
    "    corrplot(corr, method, ...)\n",
    "```   \n",
    "- 인자 및 인자값\n",
    "    - corr : 시각화 할 상관행렬\n",
    "    - method : 표현할 형태\n",
    "#### 함수 사용 예제\n",
    "##### 문제1\n",
    "- airquality 데이터는 뉴욕의 일일 대기 오염 정도\n",
    "- 6개의 변수, Month, Day 제외\n",
    "- Ozone, Solar.R, Wind, Temp를 air 변수에 할당\n",
    "- 위 네 변수에 대한 상관계수 산출\n",
    "- 단, NA가 없는 변수들만 사용, 피어슨, 캔달, 스피어만 상관계수를 모두 산출"
   ]
  },
  {
   "cell_type": "code",
   "execution_count": 15,
   "id": "b9df3cb3",
   "metadata": {},
   "outputs": [
    {
     "name": "stdout",
     "output_type": "stream",
     "text": [
      "'data.frame':\t153 obs. of  6 variables:\n",
      " $ Ozone  : int  41 36 12 18 NA 28 23 19 8 NA ...\n",
      " $ Solar.R: int  190 118 149 313 NA NA 299 99 19 194 ...\n",
      " $ Wind   : num  7.4 8 12.6 11.5 14.3 14.9 8.6 13.8 20.1 8.6 ...\n",
      " $ Temp   : int  67 72 74 62 56 66 65 59 61 69 ...\n",
      " $ Month  : int  5 5 5 5 5 5 5 5 5 5 ...\n",
      " $ Day    : int  1 2 3 4 5 6 7 8 9 10 ...\n"
     ]
    }
   ],
   "source": [
    "# 데이터 로드\n",
    "data(\"airquality\")\n",
    "str(airquality)"
   ]
  },
  {
   "cell_type": "code",
   "execution_count": 17,
   "id": "b2a3222f",
   "metadata": {},
   "outputs": [
    {
     "name": "stdout",
     "output_type": "stream",
     "text": [
      "'data.frame':\t153 obs. of  4 variables:\n",
      " $ Ozone  : int  41 36 12 18 NA 28 23 19 8 NA ...\n",
      " $ Solar.R: int  190 118 149 313 NA NA 299 99 19 194 ...\n",
      " $ Wind   : num  7.4 8 12.6 11.5 14.3 14.9 8.6 13.8 20.1 8.6 ...\n",
      " $ Temp   : int  67 72 74 62 56 66 65 59 61 69 ...\n"
     ]
    }
   ],
   "source": [
    "# air 데이터 생성\n",
    "air <- airquality[, c(1:4)]\n",
    "str(air)"
   ]
  },
  {
   "cell_type": "code",
   "execution_count": 19,
   "id": "8679a1dd",
   "metadata": {},
   "outputs": [
    {
     "data": {
      "text/html": [
       "<table class=\"dataframe\">\n",
       "<caption>A matrix: 4 × 4 of type dbl</caption>\n",
       "<thead>\n",
       "\t<tr><th></th><th scope=col>Ozone</th><th scope=col>Solar.R</th><th scope=col>Wind</th><th scope=col>Temp</th></tr>\n",
       "</thead>\n",
       "<tbody>\n",
       "\t<tr><th scope=row>Ozone</th><td> 1.0000000</td><td> 0.34834169</td><td>-0.60154653</td><td> 0.6983603</td></tr>\n",
       "\t<tr><th scope=row>Solar.R</th><td> 0.3483417</td><td> 1.00000000</td><td>-0.05679167</td><td> 0.2758403</td></tr>\n",
       "\t<tr><th scope=row>Wind</th><td>-0.6015465</td><td>-0.05679167</td><td> 1.00000000</td><td>-0.4579879</td></tr>\n",
       "\t<tr><th scope=row>Temp</th><td> 0.6983603</td><td> 0.27584027</td><td>-0.45798788</td><td> 1.0000000</td></tr>\n",
       "</tbody>\n",
       "</table>\n"
      ],
      "text/latex": [
       "A matrix: 4 × 4 of type dbl\n",
       "\\begin{tabular}{r|llll}\n",
       "  & Ozone & Solar.R & Wind & Temp\\\\\n",
       "\\hline\n",
       "\tOzone &  1.0000000 &  0.34834169 & -0.60154653 &  0.6983603\\\\\n",
       "\tSolar.R &  0.3483417 &  1.00000000 & -0.05679167 &  0.2758403\\\\\n",
       "\tWind & -0.6015465 & -0.05679167 &  1.00000000 & -0.4579879\\\\\n",
       "\tTemp &  0.6983603 &  0.27584027 & -0.45798788 &  1.0000000\\\\\n",
       "\\end{tabular}\n"
      ],
      "text/markdown": [
       "\n",
       "A matrix: 4 × 4 of type dbl\n",
       "\n",
       "| <!--/--> | Ozone | Solar.R | Wind | Temp |\n",
       "|---|---|---|---|---|\n",
       "| Ozone |  1.0000000 |  0.34834169 | -0.60154653 |  0.6983603 |\n",
       "| Solar.R |  0.3483417 |  1.00000000 | -0.05679167 |  0.2758403 |\n",
       "| Wind | -0.6015465 | -0.05679167 |  1.00000000 | -0.4579879 |\n",
       "| Temp |  0.6983603 |  0.27584027 | -0.45798788 |  1.0000000 |\n",
       "\n"
      ],
      "text/plain": [
       "        Ozone      Solar.R     Wind        Temp      \n",
       "Ozone    1.0000000  0.34834169 -0.60154653  0.6983603\n",
       "Solar.R  0.3483417  1.00000000 -0.05679167  0.2758403\n",
       "Wind    -0.6015465 -0.05679167  1.00000000 -0.4579879\n",
       "Temp     0.6983603  0.27584027 -0.45798788  1.0000000"
      ]
     },
     "metadata": {},
     "output_type": "display_data"
    }
   ],
   "source": [
    "# 피어슨 상관계수 \n",
    "cor(air, use=\"pairwise.complete.obs\", method=\"pearson\")"
   ]
  },
  {
   "cell_type": "code",
   "execution_count": 20,
   "id": "80c28938",
   "metadata": {},
   "outputs": [
    {
     "data": {
      "text/html": [
       "<table class=\"dataframe\">\n",
       "<caption>A matrix: 4 × 4 of type dbl</caption>\n",
       "<thead>\n",
       "\t<tr><th></th><th scope=col>Ozone</th><th scope=col>Solar.R</th><th scope=col>Wind</th><th scope=col>Temp</th></tr>\n",
       "</thead>\n",
       "<tbody>\n",
       "\t<tr><th scope=row>Ozone</th><td> 1.0000000</td><td>0.2403194214</td><td>-0.4283602915</td><td> 0.5862988</td></tr>\n",
       "\t<tr><th scope=row>Solar.R</th><td> 0.2403194</td><td>1.0000000000</td><td> 0.0006785596</td><td> 0.1442337</td></tr>\n",
       "\t<tr><th scope=row>Wind</th><td>-0.4283603</td><td>0.0006785596</td><td> 1.0000000000</td><td>-0.3222418</td></tr>\n",
       "\t<tr><th scope=row>Temp</th><td> 0.5862988</td><td>0.1442336719</td><td>-0.3222417514</td><td> 1.0000000</td></tr>\n",
       "</tbody>\n",
       "</table>\n"
      ],
      "text/latex": [
       "A matrix: 4 × 4 of type dbl\n",
       "\\begin{tabular}{r|llll}\n",
       "  & Ozone & Solar.R & Wind & Temp\\\\\n",
       "\\hline\n",
       "\tOzone &  1.0000000 & 0.2403194214 & -0.4283602915 &  0.5862988\\\\\n",
       "\tSolar.R &  0.2403194 & 1.0000000000 &  0.0006785596 &  0.1442337\\\\\n",
       "\tWind & -0.4283603 & 0.0006785596 &  1.0000000000 & -0.3222418\\\\\n",
       "\tTemp &  0.5862988 & 0.1442336719 & -0.3222417514 &  1.0000000\\\\\n",
       "\\end{tabular}\n"
      ],
      "text/markdown": [
       "\n",
       "A matrix: 4 × 4 of type dbl\n",
       "\n",
       "| <!--/--> | Ozone | Solar.R | Wind | Temp |\n",
       "|---|---|---|---|---|\n",
       "| Ozone |  1.0000000 | 0.2403194214 | -0.4283602915 |  0.5862988 |\n",
       "| Solar.R |  0.2403194 | 1.0000000000 |  0.0006785596 |  0.1442337 |\n",
       "| Wind | -0.4283603 | 0.0006785596 |  1.0000000000 | -0.3222418 |\n",
       "| Temp |  0.5862988 | 0.1442336719 | -0.3222417514 |  1.0000000 |\n",
       "\n"
      ],
      "text/plain": [
       "        Ozone      Solar.R      Wind          Temp      \n",
       "Ozone    1.0000000 0.2403194214 -0.4283602915  0.5862988\n",
       "Solar.R  0.2403194 1.0000000000  0.0006785596  0.1442337\n",
       "Wind    -0.4283603 0.0006785596  1.0000000000 -0.3222418\n",
       "Temp     0.5862988 0.1442336719 -0.3222417514  1.0000000"
      ]
     },
     "metadata": {},
     "output_type": "display_data"
    }
   ],
   "source": [
    "# 캔달 상관계수 \n",
    "cor(air, use=\"pairwise.complete.obs\", method=\"kendall\")"
   ]
  },
  {
   "cell_type": "code",
   "execution_count": 21,
   "id": "94964088",
   "metadata": {},
   "outputs": [
    {
     "data": {
      "text/html": [
       "<table class=\"dataframe\">\n",
       "<caption>A matrix: 4 × 4 of type dbl</caption>\n",
       "<thead>\n",
       "\t<tr><th></th><th scope=col>Ozone</th><th scope=col>Solar.R</th><th scope=col>Wind</th><th scope=col>Temp</th></tr>\n",
       "</thead>\n",
       "<tbody>\n",
       "\t<tr><th scope=row>Ozone</th><td> 1.0000000</td><td> 0.3481864700</td><td>-0.5901551241</td><td> 0.7740430</td></tr>\n",
       "\t<tr><th scope=row>Solar.R</th><td> 0.3481865</td><td> 1.0000000000</td><td>-0.0009773325</td><td> 0.2074275</td></tr>\n",
       "\t<tr><th scope=row>Wind</th><td>-0.5901551</td><td>-0.0009773325</td><td> 1.0000000000</td><td>-0.4465408</td></tr>\n",
       "\t<tr><th scope=row>Temp</th><td> 0.7740430</td><td> 0.2074275160</td><td>-0.4465407773</td><td> 1.0000000</td></tr>\n",
       "</tbody>\n",
       "</table>\n"
      ],
      "text/latex": [
       "A matrix: 4 × 4 of type dbl\n",
       "\\begin{tabular}{r|llll}\n",
       "  & Ozone & Solar.R & Wind & Temp\\\\\n",
       "\\hline\n",
       "\tOzone &  1.0000000 &  0.3481864700 & -0.5901551241 &  0.7740430\\\\\n",
       "\tSolar.R &  0.3481865 &  1.0000000000 & -0.0009773325 &  0.2074275\\\\\n",
       "\tWind & -0.5901551 & -0.0009773325 &  1.0000000000 & -0.4465408\\\\\n",
       "\tTemp &  0.7740430 &  0.2074275160 & -0.4465407773 &  1.0000000\\\\\n",
       "\\end{tabular}\n"
      ],
      "text/markdown": [
       "\n",
       "A matrix: 4 × 4 of type dbl\n",
       "\n",
       "| <!--/--> | Ozone | Solar.R | Wind | Temp |\n",
       "|---|---|---|---|---|\n",
       "| Ozone |  1.0000000 |  0.3481864700 | -0.5901551241 |  0.7740430 |\n",
       "| Solar.R |  0.3481865 |  1.0000000000 | -0.0009773325 |  0.2074275 |\n",
       "| Wind | -0.5901551 | -0.0009773325 |  1.0000000000 | -0.4465408 |\n",
       "| Temp |  0.7740430 |  0.2074275160 | -0.4465407773 |  1.0000000 |\n",
       "\n"
      ],
      "text/plain": [
       "        Ozone      Solar.R       Wind          Temp      \n",
       "Ozone    1.0000000  0.3481864700 -0.5901551241  0.7740430\n",
       "Solar.R  0.3481865  1.0000000000 -0.0009773325  0.2074275\n",
       "Wind    -0.5901551 -0.0009773325  1.0000000000 -0.4465408\n",
       "Temp     0.7740430  0.2074275160 -0.4465407773  1.0000000"
      ]
     },
     "metadata": {},
     "output_type": "display_data"
    }
   ],
   "source": [
    "# 스피어만 상관계수 \n",
    "cor(air, use=\"pairwise.complete.obs\", method=\"spearman\")"
   ]
  },
  {
   "cell_type": "markdown",
   "id": "effe3716",
   "metadata": {},
   "source": [
    "- Ozone과 Temp 간의 상관관계 계수가 가장 크다 (양의 상관관계)\n",
    "- Solar.R과 Wind 변수간의 상관계수의 절대값이 0에 가까워 상관성을 거의 가지고 있지 않음"
   ]
  },
  {
   "cell_type": "markdown",
   "id": "264d104a",
   "metadata": {},
   "source": [
    "##### 문제2\n",
    "- air 데이터의 네 변수간의 조합별 피어슨 상관계수의 시각화"
   ]
  },
  {
   "cell_type": "code",
   "execution_count": 23,
   "id": "d13fbaed",
   "metadata": {},
   "outputs": [
    {
     "data": {
      "image/png": "[encoded data removed]",
      "text/plain": [
       "plot without title"
      ]
     },
     "metadata": {
      "image/png": {
       "height": 420,
       "width": 420
      }
     },
     "output_type": "display_data"
    }
   ],
   "source": [
    "air_cor <- cor(air, use=\"pairwise.complete.obs\")\n",
    "pairs(air_cor)"
   ]
  },
  {
   "cell_type": "markdown",
   "id": "ad3ee82f",
   "metadata": {},
   "source": [
    "##### 문제3\n",
    "- air 데이터의 Ozone과 Wind간의 상관분석 및 피어스 상관계수에 대한 검정 결과"
   ]
  },
  {
   "cell_type": "code",
   "execution_count": 24,
   "id": "cd6f700f",
   "metadata": {},
   "outputs": [
    {
     "data": {
      "text/plain": [
       "\n",
       "\tPearson's product-moment correlation\n",
       "\n",
       "data:  air$Ozone and air$Wind\n",
       "t = -8.0401, df = 114, p-value = 9.272e-13\n",
       "alternative hypothesis: true correlation is not equal to 0\n",
       "95 percent confidence interval:\n",
       " -0.7063918 -0.4708713\n",
       "sample estimates:\n",
       "       cor \n",
       "-0.6015465 \n"
      ]
     },
     "metadata": {},
     "output_type": "display_data"
    }
   ],
   "source": [
    "cor.test(air$Ozone, air$Wind, method=\"pearson\")"
   ]
  },
  {
   "cell_type": "markdown",
   "id": "8ba41498",
   "metadata": {},
   "source": [
    "- p-value = 9.272e-13 < 0.05, 유의 수준 0.05에서 귀무가설 기각\n",
    "- 즉, Ozone과 Wind간의 상관계수는 0이 아니며, -0.6015465 은 상관계수로 사용 가능\n",
    "- 상관계수가 음수, 한쪽이 증가하면 다른 한쪽은 감소, 절대값은 0.6은 약한 상관관계를 의미"
   ]
  },
  {
   "cell_type": "markdown",
   "id": "1b10c597",
   "metadata": {},
   "source": [
    "# 회귀분석\n",
    "- 어떤 요소들이 매출 증대에 얼마나 영향을 주는가 와 같이, 특정 요소가 결과에 미치는 영향을 식으로 만들고, 유의성을 분석하는것\n",
    "- 하나의 요소가 결과에 미치는 영향을 모형화 하는 것은 단순회귀 분석\n",
    "- 여러의 요소가 결과에 미치는 영향을 모형화 하는 것은 다중회귀 분석\n",
    "\n",
    "## 개념\n",
    "### 회귀분석\n",
    "- 하나 혹은 그 이상의 원인(독립변수)이 결과(종속변수)에 미치는 영향을 추정하여 식으로 표현할 수 있는 통계 기법\n",
    "- 변수들 사이의 인과관계를 밝히고 모형을 적합하여 관심있는 변수를 예측하거나 추론하기 위해 사용하는 분석방법\n",
    "- 독립변수의 개수가 하나이면 단순선형회귀, 두개 이상이면 다중선형회귀\n",
    "### 선형회귀의 가정\n",
    "- 독립변수와 종속변수 간의 선형성 : 입력변수와 출력변수의 관계가 선형이여야 한다.\n",
    "- 오차의 등분산성 : 오차란 종속변수와 예측값과 실제 관측값 간의 차이. 오차의 등분산성은 오차의 분산이 독립변수와 무관하게 일정하다는 가정. \n",
    "- 오차의 독립성 : 오차들이 서로 독립이다\n",
    "- 오차의 정규성 : 오차의 분포가 정규 분포를 따른다.\n",
    "\n",
    "## 단순선형회귀분석\n",
    "### 단순선형회귀분석(단변량 회귀분석)\n",
    "- 단순선형회귀는 하나의 독립변수가 종속변수에 미치는 영향을 추정할 수 있는 통계기법\n",
    "- 아래와 같은 식으로 표현\n",
    "    - $Y_i = \\beta_0 + \\beta_1x_1 + \\epsilon_i$\n",
    "- $\\beta_0$과 $\\beta_1$를 회귀계수라 한다.\n",
    "- 회귀분석은 회귀계수를 찾아 독립변수와 종속변수 사이의 구체적인 함수식을 생성하고, 이 회귀계수가 통계적으로 유의미한지 파악\n",
    "- 통계적으로 유의미 하다면, 이 함수식을 통해 종속변수를 예측\n",
    "### 회귀분석 시 검토사항\n",
    "#### 모형 내의 회귀계수가 유의한가?\n",
    "- 회귀계수에 대한 t 통계량의 p-value가 0.05보다 작으면 해당 회귀계수가 통계적으로 유의하다고 볼 수 있다. \n",
    "- 회귀계수의 크기가 클 수록 종속변수에 미치는 해당 독립변수의 영향력은 크다.\n",
    "#### 모형은 데이터를 얼마나 잘 설명할 수 있는 가?\n",
    "- 결정계수($R^2$)를 확인한다. 결정계수는 0~1 사이의 값을 가진다.\n",
    "- 추정된 회귀식이 전체 데이터에서 설명 할 수 있는 데이터의 비율\n",
    "- 높은 값일 수록 추정된 회귀식의 설명력이 높다.\n",
    "- 다변량 회귀분석에서는 포함된 독립변수의 유의성과 관계없이 독립변수의 수가 많아지면 결정계수($R^2$)가 커진다.\n",
    "- 이런 결점을 보완하기 위해 수정된 결정계수($R^2_a$, adjusted $R^2$)를 활용하여 모형의 설명력을 판단\n",
    "#### 회귀모형은 통계적으로 유의미한가?\n",
    "- F-통계량의 p-value가 0.05 보다 작으면 해당 회귀식은 통계적으로 유의미하다.\n",
    "#### 데이터를 잘 적합하고 있는가?\n",
    "- 모형의 잔차를 그래프로 그리고 회귀진단을 수행\n",
    "### R을 이용한 단순회귀분석\n",
    "#### 함수 사용법\n",
    "- lm 함수를 사용\n",
    "```R\n",
    "    lm(formula, data)\n",
    "```\n",
    "- 인자 및 인자값\n",
    "    - formula : 회귀모형을 만들고자 하는 변수간의 표현식\n",
    "    - data : 사용할 데이터\n",
    "    "
   ]
  },
  {
   "cell_type": "markdown",
   "id": "95df2d4d",
   "metadata": {},
   "source": [
    "#### 함수 사용 예제\n",
    "- MASS 패키지에서 제공하는 Cars93 데이터의 엔진크기(EngineSize)를 독립변수로, 가격(Price)를 종속변수로 설정하여 단순선형회귀 분석을 실시 후, 추정된 회귀모형에 대해 해석해 보라."
   ]
  },
  {
   "cell_type": "code",
   "execution_count": 3,
   "id": "6633897b",
   "metadata": {},
   "outputs": [
    {
     "name": "stdout",
     "output_type": "stream",
     "text": [
      "'data.frame':\t93 obs. of  27 variables:\n",
      " $ Manufacturer      : Factor w/ 32 levels \"Acura\",\"Audi\",..: 1 1 2 2 3 4 4 4 4 5 ...\n",
      " $ Model             : Factor w/ 93 levels \"100\",\"190E\",\"240\",..: 49 56 9 1 6 24 54 74 73 35 ...\n",
      " $ Type              : Factor w/ 6 levels \"Compact\",\"Large\",..: 4 3 1 3 3 3 2 2 3 2 ...\n",
      " $ Min.Price         : num  12.9 29.2 25.9 30.8 23.7 14.2 19.9 22.6 26.3 33 ...\n",
      " $ Price             : num  15.9 33.9 29.1 37.7 30 15.7 20.8 23.7 26.3 34.7 ...\n",
      " $ Max.Price         : num  18.8 38.7 32.3 44.6 36.2 17.3 21.7 24.9 26.3 36.3 ...\n",
      " $ MPG.city          : int  25 18 20 19 22 22 19 16 19 16 ...\n",
      " $ MPG.highway       : int  31 25 26 26 30 31 28 25 27 25 ...\n",
      " $ AirBags           : Factor w/ 3 levels \"Driver & Passenger\",..: 3 1 2 1 2 2 2 2 2 2 ...\n",
      " $ DriveTrain        : Factor w/ 3 levels \"4WD\",\"Front\",..: 2 2 2 2 3 2 2 3 2 2 ...\n",
      " $ Cylinders         : Factor w/ 6 levels \"3\",\"4\",\"5\",\"6\",..: 2 4 4 4 2 2 4 4 4 5 ...\n",
      " $ EngineSize        : num  1.8 3.2 2.8 2.8 3.5 2.2 3.8 5.7 3.8 4.9 ...\n",
      " $ Horsepower        : int  140 200 172 172 208 110 170 180 170 200 ...\n",
      " $ RPM               : int  6300 5500 5500 5500 5700 5200 4800 4000 4800 4100 ...\n",
      " $ Rev.per.mile      : int  2890 2335 2280 2535 2545 2565 1570 1320 1690 1510 ...\n",
      " $ Man.trans.avail   : Factor w/ 2 levels \"No\",\"Yes\": 2 2 2 2 2 1 1 1 1 1 ...\n",
      " $ Fuel.tank.capacity: num  13.2 18 16.9 21.1 21.1 16.4 18 23 18.8 18 ...\n",
      " $ Passengers        : int  5 5 5 6 4 6 6 6 5 6 ...\n",
      " $ Length            : int  177 195 180 193 186 189 200 216 198 206 ...\n",
      " $ Wheelbase         : int  102 115 102 106 109 105 111 116 108 114 ...\n",
      " $ Width             : int  68 71 67 70 69 69 74 78 73 73 ...\n",
      " $ Turn.circle       : int  37 38 37 37 39 41 42 45 41 43 ...\n",
      " $ Rear.seat.room    : num  26.5 30 28 31 27 28 30.5 30.5 26.5 35 ...\n",
      " $ Luggage.room      : int  11 15 14 17 13 16 17 21 14 18 ...\n",
      " $ Weight            : int  2705 3560 3375 3405 3640 2880 3470 4105 3495 3620 ...\n",
      " $ Origin            : Factor w/ 2 levels \"USA\",\"non-USA\": 2 2 2 2 2 1 1 1 1 1 ...\n",
      " $ Make              : Factor w/ 93 levels \"Acura Integra\",..: 1 2 4 3 5 6 7 9 8 10 ...\n"
     ]
    }
   ],
   "source": [
    "# 데이터 로드\n",
    "library(MASS)\n",
    "data(\"Cars93\")\n",
    "str(Cars93)"
   ]
  },
  {
   "cell_type": "code",
   "execution_count": 5,
   "id": "2351ee05",
   "metadata": {},
   "outputs": [
    {
     "data": {
      "text/plain": [
       "\n",
       "Call:\n",
       "lm(formula = Price ~ EngineSize, data = Cars93)\n",
       "\n",
       "Residuals:\n",
       "    Min      1Q  Median      3Q     Max \n",
       "-13.684  -4.627  -1.795   2.592  39.429 \n",
       "\n",
       "Coefficients:\n",
       "            Estimate Std. Error t value Pr(>|t|)    \n",
       "(Intercept)   4.6692     2.2390   2.085   0.0398 *  \n",
       "EngineSize    5.5629     0.7828   7.107 2.59e-10 ***\n",
       "---\n",
       "Signif. codes:  0 ‘***’ 0.001 ‘**’ 0.01 ‘*’ 0.05 ‘.’ 0.1 ‘ ’ 1\n",
       "\n",
       "Residual standard error: 7.789 on 91 degrees of freedom\n",
       "Multiple R-squared:  0.3569,\tAdjusted R-squared:  0.3499 \n",
       "F-statistic: 50.51 on 1 and 91 DF,  p-value: 2.588e-10\n"
      ]
     },
     "metadata": {},
     "output_type": "display_data"
    }
   ],
   "source": [
    "# 단순 선형회귀 모형\n",
    "Cars93_lm <- lm(Price ~ EngineSize, Cars93)\n",
    "summary(Cars93_lm)"
   ]
  },
  {
   "cell_type": "markdown",
   "id": "aca29ad6",
   "metadata": {},
   "source": [
    "- 회귀계수는 Coefficients을 통해 확인 가능하다. \n",
    "- Intercept은 4.6692, EngineSize의 회귀계수는 5.5629 이며\n",
    "- 회귀식은, Price = 5.5629*EngineSize+4.6692 이다.\n",
    "- 상수항과 EngineSize의 p-value는 모두 0.05 보다 작아, 통계적으로 유의미하다.\n",
    "- 이 검정에 사용하는 귀무 가설은, \"계수는 0이다\" 이며, 대립가설은 \"계수가 0이 아니다\" 이다.\n",
    "- 모델읠 설명력은 Adjusted R-squared:  0.3499 로 알 수 있고, \n",
    "- 모델이 데이터의 34.99%를 설명한다고 할 수 있다.\n",
    "- 모델의 통계적 유의성은, F-statistic: 50.51 on 1 and 91 DF,  p-value: 2.588e-10 을 통해 알 수 있고,\n",
    "- p-value가 0.05보다 매우 작기 때문에, 추정된 모형은 통계적으로 유의미하다고 할 수 있다."
   ]
  },
  {
   "cell_type": "markdown",
   "id": "459bbe74",
   "metadata": {},
   "source": [
    "### R을 이용한 선형회귀 모형 진단\n",
    "- plot.lm 함수를 이용하여 생성된 선형회귀모형에 대한 다양한 그래프를 분석 가능하다.\n",
    "#### 함수 사용법\n",
    "```R\n",
    "    plot.lm(x,which)\n",
    "```\n",
    "- 인자 및 인자값\n",
    "    - x : 그래프를 그릴 선형회귀 모형\n",
    "    - which : 그래프의 종류\n",
    "#### 함수 사용의 예제\n",
    "- 앞선 Cars93 예제의 선형회귀 모델을 평가할 수 있는 다양한 그래프를 생성 후 해석해 보라"
   ]
  },
  {
   "cell_type": "code",
   "execution_count": 6,
   "id": "2011bf33",
   "metadata": {},
   "outputs": [
    {
     "data": {
      "image/png": "[encoded data removed]",
      "text/plain": [
       "Plot with title “”"
      ]
     },
     "metadata": {
      "image/png": {
       "height": 420,
       "width": 420
      }
     },
     "output_type": "display_data"
    }
   ],
   "source": [
    "# 2X3 형태로 그래프를 배치하기 위한 화면 조정\n",
    "par(mfrow=c(2,3))\n",
    "\n",
    "# 그래프 생성\n",
    "plot(Cars93_lm, which=(1:6))"
   ]
  },
  {
   "cell_type": "code",
   "execution_count": null,
   "id": "15b7edf1",
   "metadata": {},
   "outputs": [],
   "source": []
  }
 ],
 "metadata": {
  "kernelspec": {
   "display_name": "R",
   "language": "R",
   "name": "ir"
  },
  "language_info": {
   "codemirror_mode": "r",
   "file_extension": ".r",
   "mimetype": "text/x-r-source",
   "name": "R",
   "pygments_lexer": "r",
   "version": "3.6.3"
  },
  "toc": {
   "base_numbering": 1,
   "nav_menu": {},
   "number_sections": true,
   "sideBar": true,
   "skip_h1_title": false,
   "title_cell": "Table of Contents",
   "title_sidebar": "Contents",
   "toc_cell": false,
   "toc_position": {},
   "toc_section_display": true,
   "toc_window_display": true
  }
 },
 "nbformat": 4,
 "nbformat_minor": 5
}
