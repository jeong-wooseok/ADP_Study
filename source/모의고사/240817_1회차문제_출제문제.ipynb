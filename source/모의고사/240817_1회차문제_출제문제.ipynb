{
 "cells": [
  {
   "cell_type": "markdown",
   "metadata": {},
   "source": [
    "# 스마트 시티 프로젝트: 도시 환경 모니터링 및 최적화\n",
    "\n",
    "## 배경\n",
    "당신은 대규모 스마트 시티 프로젝트의 데이터 과학자로 고용되었습니다. 이 프로젝트는 도시의 다양한 환경 요소를 모니터링하고 최적화하는 것을 목표로 합니다. 당신의 첫 번째 과제는 대기 질, 교통 흐름, 에너지 소비에 관한 데이터를 분석하는 것입니다.\n",
    "\n",
    "## 데이터셋\n",
    "- 파일명: smart_city_data.csv\n",
    "- 내용: 1년간의 시간별 데이터로, 대기 질 지수, 교통량, 에너지 소비량, 기상 정보 등을 포함"
   ]
  },
  {
   "cell_type": "code",
   "execution_count": 1,
   "metadata": {},
   "outputs": [
    {
     "name": "stderr",
     "output_type": "stream",
     "text": [
      "C:\\Users\\masta\\AppData\\Roaming\\Python\\Python39\\site-packages\\pandas\\core\\arrays\\masked.py:60: UserWarning: Pandas requires version '1.3.6' or newer of 'bottleneck' (version '1.3.5' currently installed).\n",
      "  from pandas.core import (\n"
     ]
    },
    {
     "data": {
      "text/html": [
       "<div>\n",
       "<style scoped>\n",
       "    .dataframe tbody tr th:only-of-type {\n",
       "        vertical-align: middle;\n",
       "    }\n",
       "\n",
       "    .dataframe tbody tr th {\n",
       "        vertical-align: top;\n",
       "    }\n",
       "\n",
       "    .dataframe thead th {\n",
       "        text-align: right;\n",
       "    }\n",
       "</style>\n",
       "<table border=\"1\" class=\"dataframe\">\n",
       "  <thead>\n",
       "    <tr style=\"text-align: right;\">\n",
       "      <th></th>\n",
       "      <th>timestamp</th>\n",
       "      <th>temperature</th>\n",
       "      <th>humidity</th>\n",
       "      <th>wind_speed</th>\n",
       "      <th>aqi</th>\n",
       "      <th>aqi_ma24</th>\n",
       "      <th>traffic</th>\n",
       "      <th>congestion</th>\n",
       "      <th>energy_consumption</th>\n",
       "      <th>energy_mean</th>\n",
       "      <th>energy_std</th>\n",
       "    </tr>\n",
       "  </thead>\n",
       "  <tbody>\n",
       "    <tr>\n",
       "      <th>0</th>\n",
       "      <td>2022-01-01 0:00</td>\n",
       "      <td>16.490142</td>\n",
       "      <td>83.081043</td>\n",
       "      <td>5.240700</td>\n",
       "      <td>108.087306</td>\n",
       "      <td>108.087306</td>\n",
       "      <td>193.992712</td>\n",
       "      <td>False</td>\n",
       "      <td>2432.855230</td>\n",
       "      <td>2868.927127</td>\n",
       "      <td>677.021729</td>\n",
       "    </tr>\n",
       "    <tr>\n",
       "      <th>1</th>\n",
       "      <td>2022-01-01 1:00</td>\n",
       "      <td>14.595967</td>\n",
       "      <td>50.975153</td>\n",
       "      <td>6.440914</td>\n",
       "      <td>93.982166</td>\n",
       "      <td>101.034736</td>\n",
       "      <td>300.727772</td>\n",
       "      <td>False</td>\n",
       "      <td>2508.150308</td>\n",
       "      <td>3165.802996</td>\n",
       "      <td>658.025437</td>\n",
       "    </tr>\n",
       "    <tr>\n",
       "      <th>2</th>\n",
       "      <td>2022-01-01 2:00</td>\n",
       "      <td>16.964586</td>\n",
       "      <td>50.222117</td>\n",
       "      <td>3.282828</td>\n",
       "      <td>92.901503</td>\n",
       "      <td>98.323658</td>\n",
       "      <td>232.585031</td>\n",
       "      <td>False</td>\n",
       "      <td>2208.624810</td>\n",
       "      <td>3573.198461</td>\n",
       "      <td>917.720707</td>\n",
       "    </tr>\n",
       "    <tr>\n",
       "      <th>3</th>\n",
       "      <td>2022-01-01 3:00</td>\n",
       "      <td>19.601370</td>\n",
       "      <td>74.082277</td>\n",
       "      <td>8.391032</td>\n",
       "      <td>91.374001</td>\n",
       "      <td>96.586244</td>\n",
       "      <td>276.089671</td>\n",
       "      <td>False</td>\n",
       "      <td>2968.122196</td>\n",
       "      <td>3839.320253</td>\n",
       "      <td>941.483599</td>\n",
       "    </tr>\n",
       "    <tr>\n",
       "      <th>4</th>\n",
       "      <td>2022-01-01 4:00</td>\n",
       "      <td>14.340580</td>\n",
       "      <td>69.694355</td>\n",
       "      <td>0.905666</td>\n",
       "      <td>91.832702</td>\n",
       "      <td>95.635536</td>\n",
       "      <td>368.476045</td>\n",
       "      <td>False</td>\n",
       "      <td>3867.308716</td>\n",
       "      <td>3983.463882</td>\n",
       "      <td>1020.648019</td>\n",
       "    </tr>\n",
       "  </tbody>\n",
       "</table>\n",
       "</div>"
      ],
      "text/plain": [
       "         timestamp  temperature   humidity  wind_speed         aqi  \\\n",
       "0  2022-01-01 0:00    16.490142  83.081043    5.240700  108.087306   \n",
       "1  2022-01-01 1:00    14.595967  50.975153    6.440914   93.982166   \n",
       "2  2022-01-01 2:00    16.964586  50.222117    3.282828   92.901503   \n",
       "3  2022-01-01 3:00    19.601370  74.082277    8.391032   91.374001   \n",
       "4  2022-01-01 4:00    14.340580  69.694355    0.905666   91.832702   \n",
       "\n",
       "     aqi_ma24     traffic  congestion  energy_consumption  energy_mean  \\\n",
       "0  108.087306  193.992712       False         2432.855230  2868.927127   \n",
       "1  101.034736  300.727772       False         2508.150308  3165.802996   \n",
       "2   98.323658  232.585031       False         2208.624810  3573.198461   \n",
       "3   96.586244  276.089671       False         2968.122196  3839.320253   \n",
       "4   95.635536  368.476045       False         3867.308716  3983.463882   \n",
       "\n",
       "    energy_std  \n",
       "0   677.021729  \n",
       "1   658.025437  \n",
       "2   917.720707  \n",
       "3   941.483599  \n",
       "4  1020.648019  "
      ]
     },
     "execution_count": 1,
     "metadata": {},
     "output_type": "execute_result"
    }
   ],
   "source": [
    "# 필요한 라이브러리 import\n",
    "import pandas as pd\n",
    "import numpy as np\n",
    "import matplotlib.pyplot as plt\n",
    "import seaborn as sns\n",
    "\n",
    "# 데이터 로드\n",
    "df = pd.read_csv('./dataset/smart_city_data.csv')\n",
    "df.head()"
   ]
  },
  {
   "cell_type": "markdown",
   "metadata": {},
   "source": [
    "## 1. 데이터 전처리 및 특성 공학 (25점)\n",
    "\n",
    "### 1.1 시간 관련 특성 생성\n",
    "다음 시간 관련 특성들을 생성하세요:<br>\n",
    "a) hour_of_day: 0-23<br>\n",
    "b) day_of_week: 0(월요일)-6(일요일)<br>\n",
    "c) month: 1-12<br>\n",
    "d) season: 'spring': 3 ~ 5월, 'summer': 6 ~ 8월, 'fall': 9 ~ 11월 'winter': 12 ~ 2월 <br>\n",
    "e) is_holiday: 공휴일이면 1, 아니면 0 (공휴일 목록은 별도로 제공됨)\n",
    "\n",
    "holidays = [\n",
    "    '2022-01-01', '2022-01-17', '2022-02-21', '2022-05-30', '2022-07-04', \n",
    "    '2022-09-05', '2022-11-24', '2022-12-25'\n",
    "]"
   ]
  },
  {
   "cell_type": "code",
   "execution_count": 3,
   "metadata": {},
   "outputs": [],
   "source": []
  },
  {
   "cell_type": "code",
   "execution_count": null,
   "metadata": {},
   "outputs": [],
   "source": []
  },
  {
   "cell_type": "markdown",
   "metadata": {},
   "source": [
    "### 1.2 대기 질 지수(AQI) 관련 특성 생성\n",
    "대기 질 지수(AQI)를 기반으로 다음 특성을 생성하세요:<br>\n",
    "- a) aqi_category: \n",
    "- AQI가\n",
    "    - < 50이하:'Good'\n",
    "    - 50-100 :'Moderate'\n",
    "    - 100-150 : 'Unhealthy for Sensitive Groups', \n",
    "    - > 150 : 'Unhealthy'\n",
    "- b) aqi_trend: 이전 24시간 동안의 AQI 변화율 (%), 소수점 둘째자리까지0%~100% 기호생략한 기호 예>50% = 50.00"
   ]
  },
  {
   "cell_type": "code",
   "execution_count": null,
   "metadata": {},
   "outputs": [],
   "source": [
    "# 여기에 코드를 작성하세요"
   ]
  },
  {
   "cell_type": "markdown",
   "metadata": {},
   "source": [
    "### 1.3 교통 데이터 관련 특성 생성\n",
    "교통 데이터를 사용하여 다음 특성을 생성하세요:\n",
    "- a) traffic_intensity: 현재 교통량을 해당 시간대의 평균 교통량으로 나눈 비율\n",
    "- b) congestion_duration: 교통 체증(traffic_intensity > 1.5)이 지속된 연속 시간"
   ]
  },
  {
   "cell_type": "code",
   "execution_count": null,
   "metadata": {},
   "outputs": [],
   "source": [
    "# 여기에 코드를 작성하세요"
   ]
  },
  {
   "cell_type": "markdown",
   "metadata": {},
   "source": [
    "### 1.4 에너지 소비 데이터 관련 특성 생성\n",
    "energy_consumption을 사용하여 다음 특성을 생성하세요:\n",
    "- a) energy_anomaly: 현재 에너지 소비량이 같은 요일, 같은 시간대의 평균보다 2표준편차 이상 높으면 1, 아니면 0\n",
    "- b) cumulative_energy: 해당 일자의 자정부터 현재 시간까지의 누적 에너지 소비량"
   ]
  },
  {
   "cell_type": "code",
   "execution_count": null,
   "metadata": {},
   "outputs": [],
   "source": [
    "# 여기에 코드를 작성하세요"
   ]
  },
  {
   "cell_type": "markdown",
   "metadata": {},
   "source": [
    "### 1.5 결측치와 이상치 처리\n",
    "위에서 생성한 특성들을 포함하여 전체 데이터셋의 결측치와 이상치를 처리하세요. 처리 방법과 그 이유를 설명하세요."
   ]
  },
  {
   "cell_type": "code",
   "execution_count": null,
   "metadata": {},
   "outputs": [],
   "source": [
    "# 여기에 코드를 작성하세요"
   ]
  },
  {
   "cell_type": "markdown",
   "metadata": {},
   "source": [
    "## 2. 탐색적 데이터 분석 (EDA) (20점)\n",
    "\n",
    "### 2.1 변수 간 상관관계 분석\n",
    "대기 질, 교통 흐름, 에너지 소비 간의 상관관계를 분석하세요. 최소 3개의 다른 시각화 기법을 사용하여 결과를 표현하세요."
   ]
  },
  {
   "cell_type": "code",
   "execution_count": null,
   "metadata": {},
   "outputs": [],
   "source": [
    "# 여기에 코드를 작성하세요"
   ]
  },
  {
   "cell_type": "markdown",
   "metadata": {},
   "source": [
    "### 2.2 시간적 패턴 분석\n",
    "계절별, 요일별 패턴을 분석하세요. 각 주요 변수(AQI, 교통량, 에너지 소비)에 대해 히트맵을 생성하여 시간적 패턴을 시각화하세요."
   ]
  },
  {
   "cell_type": "code",
   "execution_count": null,
   "metadata": {},
   "outputs": [],
   "source": [
    "# 여기에 코드를 작성하세요"
   ]
  },
  {
   "cell_type": "markdown",
   "metadata": {},
   "source": [
    "### 2.3 공휴일 영향 분석\n",
    "공휴일이 대기 질, 교통 흐름, 에너지 소비에 미치는 영향을 분석하세요. 통계적 검정을 사용하여 차이의 유의성을 확인하세요."
   ]
  },
  {
   "cell_type": "code",
   "execution_count": null,
   "metadata": {},
   "outputs": [],
   "source": [
    "# 여기에 코드를 작성하세요"
   ]
  },
  {
   "cell_type": "markdown",
   "metadata": {},
   "source": [
    "### 2.4 기상 조건과 주요 변수 관계 분석\n",
    "기상 조건(기온, 습도, 풍속 등)과 주요 변수들 간의 관계를 분석하세요. 비선형적 관계도 고려하여 적절한 시각화 방법을 선택하세요."
   ]
  },
  {
   "cell_type": "code",
   "execution_count": null,
   "metadata": {},
   "outputs": [],
   "source": [
    "# 여기에 코드를 작성하세요"
   ]
  },
  {
   "cell_type": "markdown",
   "metadata": {},
   "source": [
    "## 3. 예측 모델링 (35점)\n",
    "\n",
    "### 3.1 AQI 예측 모델 개발\n",
    "다음 24시간 동안의 시간별 AQI를 예측하는 모델을 개발하세요. 다음 두 가지 접근 방식을 비교하세요:\n",
    "- a) 전통적인 시계열 모델 (예: ARIMA)\n",
    "- b) 머신러닝 모델 (예: Random Forest)\n",
    "- 각 모델의 성능을 평가하고, 장단점을 논의하세요."
   ]
  },
  {
   "cell_type": "code",
   "execution_count": null,
   "metadata": {},
   "outputs": [],
   "source": [
    "# 여기에 코드를 작성하세요"
   ]
  },
  {
   "cell_type": "markdown",
   "metadata": {},
   "source": [
    "### 3.2 교통 체증 예측 모델 개발\n",
    "교통 체증(traffic_intensity > 1.5)이 발생할 확률을 예측하는 분류 모델을 개발하세요. 다음 세 가지 모델을 비교하세요:\n",
    "- a) 로지스틱 회귀\n",
    "- b) Random Forest\n",
    "- c) Gradient Boosting (예: XGBoost, LightGBM)\n",
    "- ROC 커브와 precision-recall 커브를 사용하여 모델들을 평가하고 비교하세요."
   ]
  },
  {
   "cell_type": "code",
   "execution_count": null,
   "metadata": {},
   "outputs": [],
   "source": [
    "# 여기에 코드를 작성하세요"
   ]
  },
  {
   "cell_type": "markdown",
   "metadata": {},
   "source": [
    "### 3.3 에너지 소비량 예측 모델 개발\n",
    "일일 총 에너지 소비량을 예측하는 회귀 모델을 개발하세요. 다음 작업을 수행하세요:\n",
    "- a) 특성 중요도를 평가하고, 상위 10개 특성을 시각화하세요.\n",
    "- b) 교차 검증을 사용하여 모델의 안정성을 평가하세요.\n",
    "- c) 예측 구간을 제공하는 방법을 구현하고 설명하세요(예: 분위 회귀, 부트스트래핑 등)."
   ]
  },
  {
   "cell_type": "code",
   "execution_count": null,
   "metadata": {},
   "outputs": [],
   "source": [
    "# 여기에 코드를 작성하세요"
   ]
  },
  {
   "cell_type": "markdown",
   "metadata": {},
   "source": [
    "## 4. 인사이트 및 권장 사항 (20점)\n",
    "\n",
    "### 4.1 도시 환경 개선을 위한 권장 사항\n",
    "위의 분석을 바탕으로, 도시 환경을 개선하기 위한 5가지 실행 가능한 권장 사항을 제시하세요. 각 권장 사항에 대해 데이터 기반 근거를 제공하세요."
   ]
  },
  {
   "cell_type": "markdown",
   "metadata": {},
   "source": [
    "[여기에 답변을 작성하세요]"
   ]
  },
  {
   "cell_type": "markdown",
   "metadata": {},
   "source": [
    "### 4.2 분석의 한계점 및 개선 방안\n",
    "이 분석의 한계점과 향후 개선을 위한 추가 데이터 수집 방안을 논의하세요."
   ]
  },
  {
   "cell_type": "markdown",
   "metadata": {},
   "source": [
    "[여기에 답변을 작성하세요]"
   ]
  },
  {
   "cell_type": "markdown",
   "metadata": {},
   "source": [
    "# 소매업 체인점 분석 프로젝트: 매출 최적화 및 고객 행동 이해\n",
    "## 배경:\n",
    "```당신은 \"GlobalMart\"라는 대형 소매업 체인의 데이터 사이언스 팀에 새롭게 합류했습니다. \n",
    "GlobalMart는 전 세계적으로 1,000개 이상의 매장을 운영하고 있으며, 온라인 판매 채널도 보유하고 있습니다. \n",
    "최근 경영진은 데이터 기반 의사결정의 중요성을 인식하고, 매출 증대와 고객 경험 개선을 위한 프로젝트를 시작하기로 결정했습니다.\n",
    "```\n",
    "\n",
    "## 데이터셋:\n",
    "파일명: globalmart_data.csv\n",
    "기간: 2018년 1월 1일부터 2022년 12월 31일까지의 일일 데이터\n",
    "포함 정보: 매장 정보, 제품 정보, 판매 데이터, 고객 데이터, 프로모션 정보 등\n",
    "\n",
    "문제:\n",
    "\n"
   ]
  },
  {
   "cell_type": "code",
   "execution_count": null,
   "metadata": {},
   "outputs": [],
   "source": [
    "import pandas as pd\n",
    "import numpy as np\n",
    "import matplotlib.pyplot as plt\n",
    "import seaborn as sns\n",
    "\n",
    "# 데이터 로드\n",
    "df = pd.read_csv('./dataset/globalmart_data.csv')\n",
    "df.head()"
   ]
  },
  {
   "cell_type": "markdown",
   "metadata": {},
   "source": [
    "\n",
    "## 5. 데이터 전처리 및 탐색적 데이터 분석 (EDA) (30점)\n",
    "\n",
    "### 5-1. 데이터의 품질을 검사하고, 발견된 문제점들을 나열하세요. 각 문제에 대한 적절한 처리 방법을 제안하고 실행하세요.\n"
   ]
  },
  {
   "cell_type": "code",
   "execution_count": null,
   "metadata": {},
   "outputs": [],
   "source": []
  },
  {
   "cell_type": "markdown",
   "metadata": {},
   "source": [
    "### 5-2. 다음 파생변수들을 생성하세요:\n",
    "- a) 고객 생애 가치 (Customer Lifetime Value, CLV)\n",
    "    - 컬럼명: 'customer_lifetime_value'\n",
    "    - 각 고객의 총 구매액을 계산\n",
    "        - 고객의 첫 구매일부터 마지막 구매일까지의 기간(년)을 계산\n",
    "        - CLV = 총 구매액 / 고객 생애 기간(년)\n",
    "        - 만약 고객의 구매가 1년 미만이라면, 1년으로 간주\n",
    "- b) 제품별 수익률\n",
    "    - 컬럼명: 'product_profit_margin'\n",
    "    - 제품별 평균 판매가격 계산\n",
    "        - 제품의 기본 가격(base_price)과 평균 판매가격의 차이를 계산\n",
    "        - 수익률 = (평균 판매가격 - 기본 가격) / 기본 가격 * 100\n",
    "- c) 매장별 일일 평균 고객 수\n",
    "    - 컬럼명: 'store_daily_avg_customers'\n",
    "    - 각 매장, 각 날짜별 유니크 고객 수 계산\n",
    "        - 매장별로 일일 평균 고객 수 계산\n",
    "- d) 계절성 지표 (월별, 요일별)\n",
    "    - 컬럼명: 'month_seasonality', 'day_of_week_seasonality'\n",
    "    - 월별, 요일별 평균 판매액 계산\n",
    "        - 전체 평균 판매액 대비 각 월, 요일의 상대적인 판매액 비율 계산"
   ]
  },
  {
   "cell_type": "code",
   "execution_count": null,
   "metadata": {},
   "outputs": [],
   "source": []
  },
  {
   "cell_type": "markdown",
   "metadata": {},
   "source": [
    "### 5-3. 매출에 영향을 미치는 주요 요인들을 시각화하여 분석하세요. 최소 5개의 다른 차트 유형을 사용하여 인사이트를 도출하세요.\n"
   ]
  },
  {
   "cell_type": "code",
   "execution_count": null,
   "metadata": {},
   "outputs": [],
   "source": []
  },
  {
   "cell_type": "markdown",
   "metadata": {},
   "source": [
    "### 5-4. 매장 위치, 크기, 재고 회전율 등의 요소가 매출에 미치는 영향을 분석하세요. 상관관계 분석과 적절한 통계 검정을 수행하세요."
   ]
  },
  {
   "cell_type": "code",
   "execution_count": null,
   "metadata": {},
   "outputs": [],
   "source": []
  },
  {
   "cell_type": "markdown",
   "metadata": {},
   "source": [
    "\n",
    "## 6. 예측 모델링 (40점)\n",
    "\n",
    "### 6-1. 일일 매출 예측 모델을 개발하세요. 다음 세 가지 접근 방식을 비교하세요:\n",
    "a) 시계열 모델 (예: ARIMA) <br>\n",
    "b) 머신러닝 모델 (예: Random Forest, XGBoost)<br>\n",
    "c) 딥러닝 모델 (예: LSTM)<br>\n",
    "각 모델의 성능을 평가하고, 예측 정확도뿐만 아니라 해석 가능성과 실용성 측면에서도 비교하세요.\n"
   ]
  },
  {
   "cell_type": "code",
   "execution_count": null,
   "metadata": {},
   "outputs": [],
   "source": []
  },
  {
   "cell_type": "markdown",
   "metadata": {},
   "source": [
    "### 6-2. 고객 세그먼테이션을 위한 클러스터링 모델을 개발하세요. 다음 단계를 따르세요:\n",
    "a) 적절한 특성을 선택하고 전처리하세요.<br>\n",
    "b) 최적의 클러스터 수를 결정하기 위한 방법을 적용하세요.<br>\n",
    "c) 선택한 클러스터링 알고리즘을 적용하고 결과를 시각화하세요.<br>\n",
    "d) 각 클러스터의 특성을 해석하고, 비즈니스적 의미를 설명하세요.<br>\n"
   ]
  },
  {
   "cell_type": "code",
   "execution_count": null,
   "metadata": {},
   "outputs": [],
   "source": []
  },
  {
   "cell_type": "markdown",
   "metadata": {},
   "source": [
    "### 6-3. 장바구니 분석을 수행하여 제품 간의 연관 규칙을 찾으세요. 다음을 포함하세요:<br>\n",
    "a) 지지도, 신뢰도, 향상도의 개념을 설명하고, 임계값을 설정하세요.<br>\n",
    "b) 가장 강력한 연관 규칙 상위 10개를 제시하고 해석하세요.<br>\n",
    "c) 발견된 규칙을 바탕으로 교차 판매 및 상향 판매 전략을 제안하세요.<br>\n",
    "\n"
   ]
  },
  {
   "cell_type": "code",
   "execution_count": null,
   "metadata": {},
   "outputs": [],
   "source": []
  },
  {
   "cell_type": "markdown",
   "metadata": {},
   "source": [
    "## 7. 최적화 및 의사결정 (20점)\n",
    "\n",
    "### 7-1. 매장별 재고 최적화 모델을 개발하세요. 다음 요소를 고려하세요:<br>\n",
    "a) 과거 판매 데이터 <br><br>\n",
    "b) 제품의 유통기한<br>\n",
    "c) 보관 비용<br>\n",
    "d) 품절로 인한 기회 비용<br>\n",
    "모델의 목적 함수와 제약 조건을 명확히 정의하고, 솔루션 접근 방식을 설명하세요.<br>\n",
    "\n"
   ]
  },
  {
   "cell_type": "code",
   "execution_count": null,
   "metadata": {},
   "outputs": [],
   "source": []
  },
  {
   "cell_type": "markdown",
   "metadata": {},
   "source": [
    "### 7-2. A/B 테스트를 설계하여 새로운 매장 레이아웃의 효과를 측정하는 계획을 수립하세요. 다음을 포함하세요:<br>\n",
    "a) 귀무가설과 대립가설 설정<br>\n",
    "b) 필요한 표본 크기 계산<br>\n",
    "c) 실험 기간 설정<br>\n",
    "d) 성공 지표 정의<br>\n",
    "e) 잠재적인 편향을 최소화하기 위한 전략<br>"
   ]
  },
  {
   "cell_type": "code",
   "execution_count": null,
   "metadata": {},
   "outputs": [],
   "source": []
  },
  {
   "cell_type": "markdown",
   "metadata": {},
   "source": [
    "\n",
    "## 8. 비즈니스 통찰 및 제안 (10점)\n",
    "\n",
    "### 8-1. 분석 결과를 바탕으로, GlobalMart의 매출을 증대시키고 고객 경험을 개선하기 위한 5가지 핵심 전략을 제안하세요. 각 전략에 대해 다음을 포함하세요:\n",
    "a) 데이터 기반 근거<br>\n",
    "b) 예상되는 비즈니스 임팩트<br>\n",
    "c) 실행을 위한 단계별 계획<br>\n",
    "d) 잠재적 위험과 그 완화 방안<br>\n",
    "\n"
   ]
  },
  {
   "cell_type": "code",
   "execution_count": null,
   "metadata": {},
   "outputs": [],
   "source": []
  },
  {
   "cell_type": "markdown",
   "metadata": {},
   "source": [
    "### 8-2. 이 분석 프로젝트의 한계점을 논의하고, 향후 개선을 위한 추가 데이터 수집 및 분석 방향을 제안하세요.\n",
    "평가 기준:\n",
    "\n",
    "- 데이터 처리 및 분석의 정확성과 철저함\n",
    "- 사용된 방법론의 적절성과 다양성\n",
    "- 결과의 해석 및 비즈니스 통찰력\n",
    "- 제안된 전략의 실현 가능성과 창의성\n",
    "- 전반적인 보고서의 구조와 명확성\n",
    "\n",
    "* 참고사항:\n",
    "\n",
    "- 모든 코드와 분석 과정을 명확히 문서화하세요.\n",
    "- 사용한 가정들을 명시하고 정당화하세요.\n",
    "- 결과를 비즈니스 관점에서 해석하는 것에 중점을 두세요.\n",
    "- 시각화와 요약 통계를 효과적으로 활용하여 인사이트를 전달하세요."
   ]
  },
  {
   "cell_type": "code",
   "execution_count": null,
   "metadata": {},
   "outputs": [],
   "source": []
  }
 ],
 "metadata": {
  "kernelspec": {
   "display_name": "tw39",
   "language": "python",
   "name": "tw39"
  },
  "language_info": {
   "codemirror_mode": {
    "name": "ipython",
    "version": 3
   },
   "file_extension": ".py",
   "mimetype": "text/x-python",
   "name": "python",
   "nbconvert_exporter": "python",
   "pygments_lexer": "ipython3",
   "version": "3.9.16"
  }
 },
 "nbformat": 4,
 "nbformat_minor": 4
}
